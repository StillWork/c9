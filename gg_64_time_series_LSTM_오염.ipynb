{
  "nbformat": 4,
  "nbformat_minor": 0,
  "metadata": {
    "colab": {
      "name": "gg_64_time_series_LSTM_오염.ipynb",
      "version": "0.3.2",
      "provenance": [],
      "collapsed_sections": [],
      "include_colab_link": true
    },
    "kernelspec": {
      "name": "python3",
      "display_name": "Python 3"
    }
  },
  "cells": [
    {
      "cell_type": "markdown",
      "metadata": {
        "id": "view-in-github",
        "colab_type": "text"
      },
      "source": [
        "<a href=\"https://colab.research.google.com/github/StillWork/c9/blob/master/gg_64_time_series_LSTM_%EC%98%A4%EC%97%BC.ipynb\" target=\"_parent\"><img src=\"https://colab.research.google.com/assets/colab-badge.svg\" alt=\"Open In Colab\"/></a>"
      ]
    },
    {
      "metadata": {
        "id": "f-vVfYwJI7PW",
        "colab_type": "text"
      },
      "cell_type": "markdown",
      "source": [
        "# 다중변수를 사용해야 하는 경우\n",
        "- 공기 오염 데이터 (베이징의 미국 대사관 측정: 5년간 시간단위 측정)\n",
        "\n",
        "No: row number  \n",
        "year: year of data in this row  \n",
        "month: month of data in this row  \n",
        "day: day of data in this row  \n",
        "hour: hour of data in this row  \n",
        "pm2.5: PM2.5 concentration \n",
        "DEWP: Dew Point  \n",
        "TEMP: Temperature   \n",
        "PRES: Pressure  \n",
        "cbwd: Combined wind direction  \n",
        "Iws: Cumulated wind speed  \n",
        "Is: Cumulated hours of snow  \n",
        "Ir: Cumulated hours of rain  "
      ]
    },
    {
      "metadata": {
        "id": "Q6aDJw8AH67C",
        "colab_type": "code",
        "outputId": "35202307-c522-4a0b-d373-0da6ecbb5434",
        "colab": {
          "base_uri": "https://localhost:8080/",
          "height": 314
        }
      },
      "cell_type": "code",
      "source": [
        "# 데이터\n",
        "\n",
        "!wget https://bit.ly/2PtuGMO -O raw.csv"
      ],
      "execution_count": 0,
      "outputs": [
        {
          "output_type": "stream",
          "text": [
            "--2019-03-17 10:34:46--  https://bit.ly/2PtuGMO\n",
            "Resolving bit.ly (bit.ly)... 67.199.248.10, 67.199.248.11\n",
            "Connecting to bit.ly (bit.ly)|67.199.248.10|:443... connected.\n",
            "HTTP request sent, awaiting response... 301 Moved Permanently\n",
            "Location: https://raw.githubusercontent.com/jbrownlee/Datasets/master/pollution.csv [following]\n",
            "--2019-03-17 10:34:46--  https://raw.githubusercontent.com/jbrownlee/Datasets/master/pollution.csv\n",
            "Resolving raw.githubusercontent.com (raw.githubusercontent.com)... 151.101.0.133, 151.101.64.133, 151.101.128.133, ...\n",
            "Connecting to raw.githubusercontent.com (raw.githubusercontent.com)|151.101.0.133|:443... connected.\n",
            "HTTP request sent, awaiting response... 200 OK\n",
            "Length: 2010492 (1.9M) [text/plain]\n",
            "Saving to: ‘raw.csv’\n",
            "\n",
            "\rraw.csv               0%[                    ]       0  --.-KB/s               \rraw.csv             100%[===================>]   1.92M  --.-KB/s    in 0.1s    \n",
            "\n",
            "2019-03-17 10:34:46 (19.3 MB/s) - ‘raw.csv’ saved [2010492/2010492]\n",
            "\n"
          ],
          "name": "stdout"
        }
      ]
    },
    {
      "metadata": {
        "id": "iNAMI_fcTeCt",
        "colab_type": "code",
        "colab": {}
      },
      "cell_type": "code",
      "source": [
        "from sklearn.preprocessing import  MinMaxScaler\n",
        "import pandas as pd"
      ],
      "execution_count": 0,
      "outputs": []
    },
    {
      "metadata": {
        "id": "u2qjJ3AUM9XN",
        "colab_type": "code",
        "outputId": "8194a388-d3b1-411b-e15c-925f6cbc3324",
        "colab": {
          "base_uri": "https://localhost:8080/",
          "height": 678
        }
      },
      "cell_type": "code",
      "source": [
        "from sklearn.preprocessing import LabelEncoder\n",
        "from pandas import read_csv\n",
        "from datetime import datetime\n",
        "# load data\n",
        "def parse(x):\n",
        "\treturn datetime.strptime(x, '%Y %m %d %H')\n",
        "dataset = read_csv('raw.csv',  parse_dates = [['year', 'month', 'day', 'hour']], index_col=0, date_parser=parse)\n",
        "dataset[:20]"
      ],
      "execution_count": 0,
      "outputs": [
        {
          "output_type": "execute_result",
          "data": {
            "text/html": [
              "<div>\n",
              "<style scoped>\n",
              "    .dataframe tbody tr th:only-of-type {\n",
              "        vertical-align: middle;\n",
              "    }\n",
              "\n",
              "    .dataframe tbody tr th {\n",
              "        vertical-align: top;\n",
              "    }\n",
              "\n",
              "    .dataframe thead th {\n",
              "        text-align: right;\n",
              "    }\n",
              "</style>\n",
              "<table border=\"1\" class=\"dataframe\">\n",
              "  <thead>\n",
              "    <tr style=\"text-align: right;\">\n",
              "      <th></th>\n",
              "      <th>No</th>\n",
              "      <th>pm2.5</th>\n",
              "      <th>DEWP</th>\n",
              "      <th>TEMP</th>\n",
              "      <th>PRES</th>\n",
              "      <th>cbwd</th>\n",
              "      <th>Iws</th>\n",
              "      <th>Is</th>\n",
              "      <th>Ir</th>\n",
              "    </tr>\n",
              "    <tr>\n",
              "      <th>year_month_day_hour</th>\n",
              "      <th></th>\n",
              "      <th></th>\n",
              "      <th></th>\n",
              "      <th></th>\n",
              "      <th></th>\n",
              "      <th></th>\n",
              "      <th></th>\n",
              "      <th></th>\n",
              "      <th></th>\n",
              "    </tr>\n",
              "  </thead>\n",
              "  <tbody>\n",
              "    <tr>\n",
              "      <th>2010-01-01 00:00:00</th>\n",
              "      <td>1</td>\n",
              "      <td>NaN</td>\n",
              "      <td>-21</td>\n",
              "      <td>-11.0</td>\n",
              "      <td>1021.0</td>\n",
              "      <td>NW</td>\n",
              "      <td>1.79</td>\n",
              "      <td>0</td>\n",
              "      <td>0</td>\n",
              "    </tr>\n",
              "    <tr>\n",
              "      <th>2010-01-01 01:00:00</th>\n",
              "      <td>2</td>\n",
              "      <td>NaN</td>\n",
              "      <td>-21</td>\n",
              "      <td>-12.0</td>\n",
              "      <td>1020.0</td>\n",
              "      <td>NW</td>\n",
              "      <td>4.92</td>\n",
              "      <td>0</td>\n",
              "      <td>0</td>\n",
              "    </tr>\n",
              "    <tr>\n",
              "      <th>2010-01-01 02:00:00</th>\n",
              "      <td>3</td>\n",
              "      <td>NaN</td>\n",
              "      <td>-21</td>\n",
              "      <td>-11.0</td>\n",
              "      <td>1019.0</td>\n",
              "      <td>NW</td>\n",
              "      <td>6.71</td>\n",
              "      <td>0</td>\n",
              "      <td>0</td>\n",
              "    </tr>\n",
              "    <tr>\n",
              "      <th>2010-01-01 03:00:00</th>\n",
              "      <td>4</td>\n",
              "      <td>NaN</td>\n",
              "      <td>-21</td>\n",
              "      <td>-14.0</td>\n",
              "      <td>1019.0</td>\n",
              "      <td>NW</td>\n",
              "      <td>9.84</td>\n",
              "      <td>0</td>\n",
              "      <td>0</td>\n",
              "    </tr>\n",
              "    <tr>\n",
              "      <th>2010-01-01 04:00:00</th>\n",
              "      <td>5</td>\n",
              "      <td>NaN</td>\n",
              "      <td>-20</td>\n",
              "      <td>-12.0</td>\n",
              "      <td>1018.0</td>\n",
              "      <td>NW</td>\n",
              "      <td>12.97</td>\n",
              "      <td>0</td>\n",
              "      <td>0</td>\n",
              "    </tr>\n",
              "    <tr>\n",
              "      <th>2010-01-01 05:00:00</th>\n",
              "      <td>6</td>\n",
              "      <td>NaN</td>\n",
              "      <td>-19</td>\n",
              "      <td>-10.0</td>\n",
              "      <td>1017.0</td>\n",
              "      <td>NW</td>\n",
              "      <td>16.10</td>\n",
              "      <td>0</td>\n",
              "      <td>0</td>\n",
              "    </tr>\n",
              "    <tr>\n",
              "      <th>2010-01-01 06:00:00</th>\n",
              "      <td>7</td>\n",
              "      <td>NaN</td>\n",
              "      <td>-19</td>\n",
              "      <td>-9.0</td>\n",
              "      <td>1017.0</td>\n",
              "      <td>NW</td>\n",
              "      <td>19.23</td>\n",
              "      <td>0</td>\n",
              "      <td>0</td>\n",
              "    </tr>\n",
              "    <tr>\n",
              "      <th>2010-01-01 07:00:00</th>\n",
              "      <td>8</td>\n",
              "      <td>NaN</td>\n",
              "      <td>-19</td>\n",
              "      <td>-9.0</td>\n",
              "      <td>1017.0</td>\n",
              "      <td>NW</td>\n",
              "      <td>21.02</td>\n",
              "      <td>0</td>\n",
              "      <td>0</td>\n",
              "    </tr>\n",
              "    <tr>\n",
              "      <th>2010-01-01 08:00:00</th>\n",
              "      <td>9</td>\n",
              "      <td>NaN</td>\n",
              "      <td>-19</td>\n",
              "      <td>-9.0</td>\n",
              "      <td>1017.0</td>\n",
              "      <td>NW</td>\n",
              "      <td>24.15</td>\n",
              "      <td>0</td>\n",
              "      <td>0</td>\n",
              "    </tr>\n",
              "    <tr>\n",
              "      <th>2010-01-01 09:00:00</th>\n",
              "      <td>10</td>\n",
              "      <td>NaN</td>\n",
              "      <td>-20</td>\n",
              "      <td>-8.0</td>\n",
              "      <td>1017.0</td>\n",
              "      <td>NW</td>\n",
              "      <td>27.28</td>\n",
              "      <td>0</td>\n",
              "      <td>0</td>\n",
              "    </tr>\n",
              "    <tr>\n",
              "      <th>2010-01-01 10:00:00</th>\n",
              "      <td>11</td>\n",
              "      <td>NaN</td>\n",
              "      <td>-19</td>\n",
              "      <td>-7.0</td>\n",
              "      <td>1017.0</td>\n",
              "      <td>NW</td>\n",
              "      <td>31.30</td>\n",
              "      <td>0</td>\n",
              "      <td>0</td>\n",
              "    </tr>\n",
              "    <tr>\n",
              "      <th>2010-01-01 11:00:00</th>\n",
              "      <td>12</td>\n",
              "      <td>NaN</td>\n",
              "      <td>-18</td>\n",
              "      <td>-5.0</td>\n",
              "      <td>1017.0</td>\n",
              "      <td>NW</td>\n",
              "      <td>34.43</td>\n",
              "      <td>0</td>\n",
              "      <td>0</td>\n",
              "    </tr>\n",
              "    <tr>\n",
              "      <th>2010-01-01 12:00:00</th>\n",
              "      <td>13</td>\n",
              "      <td>NaN</td>\n",
              "      <td>-19</td>\n",
              "      <td>-5.0</td>\n",
              "      <td>1015.0</td>\n",
              "      <td>NW</td>\n",
              "      <td>37.56</td>\n",
              "      <td>0</td>\n",
              "      <td>0</td>\n",
              "    </tr>\n",
              "    <tr>\n",
              "      <th>2010-01-01 13:00:00</th>\n",
              "      <td>14</td>\n",
              "      <td>NaN</td>\n",
              "      <td>-18</td>\n",
              "      <td>-3.0</td>\n",
              "      <td>1015.0</td>\n",
              "      <td>NW</td>\n",
              "      <td>40.69</td>\n",
              "      <td>0</td>\n",
              "      <td>0</td>\n",
              "    </tr>\n",
              "    <tr>\n",
              "      <th>2010-01-01 14:00:00</th>\n",
              "      <td>15</td>\n",
              "      <td>NaN</td>\n",
              "      <td>-18</td>\n",
              "      <td>-2.0</td>\n",
              "      <td>1014.0</td>\n",
              "      <td>NW</td>\n",
              "      <td>43.82</td>\n",
              "      <td>0</td>\n",
              "      <td>0</td>\n",
              "    </tr>\n",
              "    <tr>\n",
              "      <th>2010-01-01 15:00:00</th>\n",
              "      <td>16</td>\n",
              "      <td>NaN</td>\n",
              "      <td>-18</td>\n",
              "      <td>-1.0</td>\n",
              "      <td>1014.0</td>\n",
              "      <td>cv</td>\n",
              "      <td>0.89</td>\n",
              "      <td>0</td>\n",
              "      <td>0</td>\n",
              "    </tr>\n",
              "    <tr>\n",
              "      <th>2010-01-01 16:00:00</th>\n",
              "      <td>17</td>\n",
              "      <td>NaN</td>\n",
              "      <td>-19</td>\n",
              "      <td>-2.0</td>\n",
              "      <td>1015.0</td>\n",
              "      <td>NW</td>\n",
              "      <td>1.79</td>\n",
              "      <td>0</td>\n",
              "      <td>0</td>\n",
              "    </tr>\n",
              "    <tr>\n",
              "      <th>2010-01-01 17:00:00</th>\n",
              "      <td>18</td>\n",
              "      <td>NaN</td>\n",
              "      <td>-18</td>\n",
              "      <td>-3.0</td>\n",
              "      <td>1015.0</td>\n",
              "      <td>NW</td>\n",
              "      <td>2.68</td>\n",
              "      <td>0</td>\n",
              "      <td>0</td>\n",
              "    </tr>\n",
              "    <tr>\n",
              "      <th>2010-01-01 18:00:00</th>\n",
              "      <td>19</td>\n",
              "      <td>NaN</td>\n",
              "      <td>-18</td>\n",
              "      <td>-5.0</td>\n",
              "      <td>1016.0</td>\n",
              "      <td>NE</td>\n",
              "      <td>1.79</td>\n",
              "      <td>0</td>\n",
              "      <td>0</td>\n",
              "    </tr>\n",
              "    <tr>\n",
              "      <th>2010-01-01 19:00:00</th>\n",
              "      <td>20</td>\n",
              "      <td>NaN</td>\n",
              "      <td>-17</td>\n",
              "      <td>-4.0</td>\n",
              "      <td>1017.0</td>\n",
              "      <td>NW</td>\n",
              "      <td>1.79</td>\n",
              "      <td>0</td>\n",
              "      <td>0</td>\n",
              "    </tr>\n",
              "  </tbody>\n",
              "</table>\n",
              "</div>"
            ],
            "text/plain": [
              "                     No  pm2.5  DEWP  TEMP    PRES cbwd    Iws  Is  Ir\n",
              "year_month_day_hour                                                   \n",
              "2010-01-01 00:00:00   1    NaN   -21 -11.0  1021.0   NW   1.79   0   0\n",
              "2010-01-01 01:00:00   2    NaN   -21 -12.0  1020.0   NW   4.92   0   0\n",
              "2010-01-01 02:00:00   3    NaN   -21 -11.0  1019.0   NW   6.71   0   0\n",
              "2010-01-01 03:00:00   4    NaN   -21 -14.0  1019.0   NW   9.84   0   0\n",
              "2010-01-01 04:00:00   5    NaN   -20 -12.0  1018.0   NW  12.97   0   0\n",
              "2010-01-01 05:00:00   6    NaN   -19 -10.0  1017.0   NW  16.10   0   0\n",
              "2010-01-01 06:00:00   7    NaN   -19  -9.0  1017.0   NW  19.23   0   0\n",
              "2010-01-01 07:00:00   8    NaN   -19  -9.0  1017.0   NW  21.02   0   0\n",
              "2010-01-01 08:00:00   9    NaN   -19  -9.0  1017.0   NW  24.15   0   0\n",
              "2010-01-01 09:00:00  10    NaN   -20  -8.0  1017.0   NW  27.28   0   0\n",
              "2010-01-01 10:00:00  11    NaN   -19  -7.0  1017.0   NW  31.30   0   0\n",
              "2010-01-01 11:00:00  12    NaN   -18  -5.0  1017.0   NW  34.43   0   0\n",
              "2010-01-01 12:00:00  13    NaN   -19  -5.0  1015.0   NW  37.56   0   0\n",
              "2010-01-01 13:00:00  14    NaN   -18  -3.0  1015.0   NW  40.69   0   0\n",
              "2010-01-01 14:00:00  15    NaN   -18  -2.0  1014.0   NW  43.82   0   0\n",
              "2010-01-01 15:00:00  16    NaN   -18  -1.0  1014.0   cv   0.89   0   0\n",
              "2010-01-01 16:00:00  17    NaN   -19  -2.0  1015.0   NW   1.79   0   0\n",
              "2010-01-01 17:00:00  18    NaN   -18  -3.0  1015.0   NW   2.68   0   0\n",
              "2010-01-01 18:00:00  19    NaN   -18  -5.0  1016.0   NE   1.79   0   0\n",
              "2010-01-01 19:00:00  20    NaN   -17  -4.0  1017.0   NW   1.79   0   0"
            ]
          },
          "metadata": {
            "tags": []
          },
          "execution_count": 5
        }
      ]
    },
    {
      "metadata": {
        "id": "iEPqO2zTNfWU",
        "colab_type": "code",
        "outputId": "9ed63a30-a28c-4687-993a-58620e020483",
        "colab": {
          "base_uri": "https://localhost:8080/",
          "height": 138
        }
      },
      "cell_type": "code",
      "source": [
        "# 24 시간 후의 데이터 사용\n",
        "dataset.drop('No', axis=1, inplace=True)\n",
        "# 컬럼 선택]\n",
        "dataset.columns = ['pollution', 'dew', 'temp', 'press', 'wnd_dir', 'wnd_spd', 'snow', 'rain']\n",
        "dataset.index.name = 'date'\n",
        "# 결축치는 0으로\n",
        "dataset['pollution'].fillna(0, inplace=True)\n",
        "dataset = dataset[24:]\n",
        "print(dataset.head(5))\n",
        "# 파일로 저장\n",
        "dataset.to_csv('pollution.csv')"
      ],
      "execution_count": 0,
      "outputs": [
        {
          "output_type": "stream",
          "text": [
            "                     pollution  dew  temp   press wnd_dir  wnd_spd  snow  rain\n",
            "date                                                                          \n",
            "2010-01-02 00:00:00      129.0  -16  -4.0  1020.0      SE     1.79     0     0\n",
            "2010-01-02 01:00:00      148.0  -15  -4.0  1020.0      SE     2.68     0     0\n",
            "2010-01-02 02:00:00      159.0  -11  -5.0  1021.0      SE     3.57     0     0\n",
            "2010-01-02 03:00:00      181.0   -7  -5.0  1022.0      SE     5.36     1     0\n",
            "2010-01-02 04:00:00      138.0   -7  -5.0  1022.0      SE     6.25     2     0\n"
          ],
          "name": "stdout"
        }
      ]
    },
    {
      "metadata": {
        "id": "9deHVPN2M9Ut",
        "colab_type": "code",
        "outputId": "d63e30ee-5ada-4e06-e376-3eefdde071e7",
        "colab": {
          "base_uri": "https://localhost:8080/",
          "height": 349
        }
      },
      "cell_type": "code",
      "source": [
        "from pandas import read_csv\n",
        "from matplotlib import pyplot\n",
        "# load dataset\n",
        "dataset = read_csv('pollution.csv', header=0, index_col=0)\n",
        "values = dataset.values\n",
        "# specify columns to plot\n",
        "groups = [0, 1, 2, 3, 5, 6, 7]\n",
        "i = 1\n",
        "# plot each column\n",
        "pyplot.figure()\n",
        "for group in groups:\n",
        "\tpyplot.subplot(len(groups), 1, i)\n",
        "\tpyplot.plot(values[:, group])\n",
        "\tpyplot.title(dataset.columns[group], y=0.5, loc='right')\n",
        "\ti += 1\n",
        "pyplot.show()"
      ],
      "execution_count": 0,
      "outputs": [
        {
          "output_type": "display_data",
          "data": {
            "image/png": "[encoded data removed]",
            "text/plain": [
              "<Figure size 576x396 with 7 Axes>"
            ]
          },
          "metadata": {
            "tags": []
          }
        }
      ]
    },
    {
      "metadata": {
        "id": "hVJIVp38SM4l",
        "colab_type": "text"
      },
      "cell_type": "markdown",
      "source": [
        "## LSTM 용으로 데이터 준비\n",
        "- 정규화\n",
        "- 지도학습: 과거 24시간 데이터로 한 시간 후를 예측\n",
        "- 풍속은 카테고리 변수로, 나머지는 정규화\n",
        "- LSTM용 3D 포맷으로  [samples, timesteps, features]"
      ]
    },
    {
      "metadata": {
        "id": "EOIuNVbHM9SP",
        "colab_type": "code",
        "outputId": "93f174da-6fac-49a9-917a-3cb715984263",
        "colab": {
          "base_uri": "https://localhost:8080/",
          "height": 242
        }
      },
      "cell_type": "code",
      "source": [
        "# 시리즈 데이터를 지도학습용 데이터로 변환\n",
        "def series_to_supervised(data, n_in=1, n_out=1, dropnan=True):\n",
        "\tn_vars = 1 if type(data) is list else data.shape[1]\n",
        "\tdf = pd.DataFrame(data)\n",
        "\tcols, names = list(), list()\n",
        "\t# input sequence (t-n, ... t-1)\n",
        "\tfor i in range(n_in, 0, -1):\n",
        "\t\tcols.append(df.shift(i))\n",
        "\t\tnames += [('var%d(t-%d)' % (j+1, i)) for j in range(n_vars)]\n",
        "\t# forecast sequence (t, t+1, ... t+n)\n",
        "\tfor i in range(0, n_out):\n",
        "\t\tcols.append(df.shift(-i))\n",
        "\t\tif i == 0:\n",
        "\t\t\tnames += [('var%d(t)' % (j+1)) for j in range(n_vars)]\n",
        "\t\telse:\n",
        "\t\t\tnames += [('var%d(t+%d)' % (j+1, i)) for j in range(n_vars)]\n",
        "\t# put it all together\n",
        "\tagg = pd.concat(cols, axis=1)\n",
        "\tagg.columns = names\n",
        "\t# drop rows with NaN values\n",
        "\tif dropnan:\n",
        "\t\tagg.dropna(inplace=True)\n",
        "\treturn agg\n",
        " \n",
        "# load dataset\n",
        "dataset = read_csv('pollution.csv', header=0, index_col=0)\n",
        "values = dataset.values\n",
        "# integer encode direction\n",
        "encoder = LabelEncoder()\n",
        "values[:,4] = encoder.fit_transform(values[:,4])\n",
        "# ensure all data is float\n",
        "values = values.astype('float32')\n",
        "# normalize features\n",
        "scaler = MinMaxScaler(feature_range=(0, 1))\n",
        "scaled = scaler.fit_transform(values)\n",
        "# frame as supervised learning\n",
        "reframed = series_to_supervised(scaled, 1, 1)\n",
        "# drop columns we don't want to predict\n",
        "reframed.drop(reframed.columns[[9,10,11,12,13,14,15]], axis=1, inplace=True)\n",
        "print(reframed.head())"
      ],
      "execution_count": 0,
      "outputs": [
        {
          "output_type": "stream",
          "text": [
            "   var1(t-1)  var2(t-1)  var3(t-1)  var4(t-1)  var5(t-1)  var6(t-1)  \\\n",
            "1   0.129779   0.352941   0.245902   0.527273   0.666667   0.002290   \n",
            "2   0.148893   0.367647   0.245902   0.527273   0.666667   0.003811   \n",
            "3   0.159960   0.426471   0.229508   0.545454   0.666667   0.005332   \n",
            "4   0.182093   0.485294   0.229508   0.563637   0.666667   0.008391   \n",
            "5   0.138833   0.485294   0.229508   0.563637   0.666667   0.009912   \n",
            "\n",
            "   var7(t-1)  var8(t-1)   var1(t)  \n",
            "1   0.000000        0.0  0.148893  \n",
            "2   0.000000        0.0  0.159960  \n",
            "3   0.000000        0.0  0.182093  \n",
            "4   0.037037        0.0  0.138833  \n",
            "5   0.074074        0.0  0.109658  \n"
          ],
          "name": "stdout"
        }
      ]
    },
    {
      "metadata": {
        "id": "o3hJjCF1M9Pd",
        "colab_type": "code",
        "outputId": "d0c6c922-1458-4f77-ff7a-a8abeb524abe",
        "colab": {
          "base_uri": "https://localhost:8080/",
          "height": 35
        }
      },
      "cell_type": "code",
      "source": [
        "# split into train and test sets\n",
        "values = reframed.values\n",
        "n_train_hours = 365 * 24\n",
        "train = values[:n_train_hours, :]\n",
        "test = values[n_train_hours:, :]\n",
        "# split into input and outputs\n",
        "train_X, train_y = train[:, :-1], train[:, -1]\n",
        "test_X, test_y = test[:, :-1], test[:, -1]\n",
        "# reshape input to be 3D [samples, timesteps, features]\n",
        "train_X = train_X.reshape((train_X.shape[0], 1, train_X.shape[1]))\n",
        "test_X = test_X.reshape((test_X.shape[0], 1, test_X.shape[1]))\n",
        "print(train_X.shape, train_y.shape, test_X.shape, test_y.shape)"
      ],
      "execution_count": 0,
      "outputs": [
        {
          "output_type": "stream",
          "text": [
            "(8760, 1, 8) (8760,) (35039, 1, 8) (35039,)\n"
          ],
          "name": "stdout"
        }
      ]
    },
    {
      "metadata": {
        "id": "k1a_Ia51U3T4",
        "colab_type": "text"
      },
      "cell_type": "markdown",
      "source": [
        "- 50 뉴런, 1 스텝,  8 특성\n",
        "- MAE(손실함수), Adam (알고리즘)\n",
        "- 배치크기 72 (3일), 이포크 50"
      ]
    },
    {
      "metadata": {
        "id": "wWGgm7okVj9O",
        "colab_type": "code",
        "colab": {}
      },
      "cell_type": "code",
      "source": [
        "from keras.models import Sequential\n",
        "from keras.layers import Dense, Activation, LSTM"
      ],
      "execution_count": 0,
      "outputs": []
    },
    {
      "metadata": {
        "id": "XIwwG9FDM9NG",
        "colab_type": "code",
        "outputId": "a8c0b76e-1959-479a-9b1b-91c7fd1ccb98",
        "colab": {
          "base_uri": "https://localhost:8080/",
          "height": 2215
        }
      },
      "cell_type": "code",
      "source": [
        "# design network\n",
        "\n",
        "model = Sequential()\n",
        "model.add(LSTM(50, input_shape=(train_X.shape[1], train_X.shape[2])))\n",
        "model.add(Dense(1))\n",
        "model.compile(loss='mae', optimizer='adam')\n",
        "# fit network\n",
        "history = model.fit(train_X, train_y, epochs=50, batch_size=72, validation_data=(test_X, test_y), verbose=2, shuffle=False)\n",
        "# plot history\n",
        "pyplot.plot(history.history['loss'], label='train')\n",
        "pyplot.plot(history.history['val_loss'], label='test')\n",
        "pyplot.legend()\n",
        "pyplot.show()"
      ],
      "execution_count": 0,
      "outputs": [
        {
          "output_type": "stream",
          "text": [
            "WARNING:tensorflow:From /usr/local/lib/python3.6/dist-packages/tensorflow/python/framework/op_def_library.py:263: colocate_with (from tensorflow.python.framework.ops) is deprecated and will be removed in a future version.\n",
            "Instructions for updating:\n",
            "Colocations handled automatically by placer.\n",
            "WARNING:tensorflow:From /usr/local/lib/python3.6/dist-packages/tensorflow/python/ops/math_ops.py:3066: to_int32 (from tensorflow.python.ops.math_ops) is deprecated and will be removed in a future version.\n",
            "Instructions for updating:\n",
            "Use tf.cast instead.\n",
            "Train on 8760 samples, validate on 35039 samples\n",
            "Epoch 1/50\n",
            " - 2s - loss: 0.0606 - val_loss: 0.0484\n",
            "Epoch 2/50\n",
            " - 1s - loss: 0.0409 - val_loss: 0.0432\n",
            "Epoch 3/50\n",
            " - 1s - loss: 0.0227 - val_loss: 0.0316\n",
            "Epoch 4/50\n",
            " - 1s - loss: 0.0166 - val_loss: 0.0247\n",
            "Epoch 5/50\n",
            " - 1s - loss: 0.0153 - val_loss: 0.0164\n",
            "Epoch 6/50\n",
            " - 1s - loss: 0.0148 - val_loss: 0.0149\n",
            "Epoch 7/50\n",
            " - 1s - loss: 0.0149 - val_loss: 0.0142\n",
            "Epoch 8/50\n",
            " - 1s - loss: 0.0148 - val_loss: 0.0143\n",
            "Epoch 9/50\n",
            " - 1s - loss: 0.0149 - val_loss: 0.0144\n",
            "Epoch 10/50\n",
            " - 1s - loss: 0.0147 - val_loss: 0.0142\n",
            "Epoch 11/50\n",
            " - 1s - loss: 0.0147 - val_loss: 0.0141\n",
            "Epoch 12/50\n",
            " - 1s - loss: 0.0146 - val_loss: 0.0140\n",
            "Epoch 13/50\n",
            " - 1s - loss: 0.0147 - val_loss: 0.0138\n",
            "Epoch 14/50\n",
            " - 1s - loss: 0.0145 - val_loss: 0.0140\n",
            "Epoch 15/50\n",
            " - 1s - loss: 0.0147 - val_loss: 0.0137\n",
            "Epoch 16/50\n",
            " - 1s - loss: 0.0145 - val_loss: 0.0138\n",
            "Epoch 17/50\n",
            " - 1s - loss: 0.0145 - val_loss: 0.0136\n",
            "Epoch 18/50\n",
            " - 1s - loss: 0.0145 - val_loss: 0.0136\n",
            "Epoch 19/50\n",
            " - 1s - loss: 0.0145 - val_loss: 0.0137\n",
            "Epoch 20/50\n",
            " - 1s - loss: 0.0145 - val_loss: 0.0135\n",
            "Epoch 21/50\n",
            " - 1s - loss: 0.0145 - val_loss: 0.0137\n",
            "Epoch 22/50\n",
            " - 1s - loss: 0.0145 - val_loss: 0.0134\n",
            "Epoch 23/50\n",
            " - 1s - loss: 0.0145 - val_loss: 0.0135\n",
            "Epoch 24/50\n",
            " - 1s - loss: 0.0145 - val_loss: 0.0134\n",
            "Epoch 25/50\n",
            " - 1s - loss: 0.0145 - val_loss: 0.0134\n",
            "Epoch 26/50\n",
            " - 1s - loss: 0.0144 - val_loss: 0.0134\n",
            "Epoch 27/50\n",
            " - 1s - loss: 0.0145 - val_loss: 0.0134\n",
            "Epoch 28/50\n",
            " - 1s - loss: 0.0145 - val_loss: 0.0135\n",
            "Epoch 29/50\n",
            " - 1s - loss: 0.0147 - val_loss: 0.0134\n",
            "Epoch 30/50\n",
            " - 1s - loss: 0.0144 - val_loss: 0.0134\n",
            "Epoch 31/50\n",
            " - 1s - loss: 0.0144 - val_loss: 0.0135\n",
            "Epoch 32/50\n",
            " - 1s - loss: 0.0144 - val_loss: 0.0134\n",
            "Epoch 33/50\n",
            " - 1s - loss: 0.0145 - val_loss: 0.0134\n",
            "Epoch 34/50\n",
            " - 1s - loss: 0.0144 - val_loss: 0.0135\n",
            "Epoch 35/50\n",
            " - 1s - loss: 0.0144 - val_loss: 0.0134\n",
            "Epoch 36/50\n",
            " - 1s - loss: 0.0144 - val_loss: 0.0135\n",
            "Epoch 37/50\n",
            " - 1s - loss: 0.0144 - val_loss: 0.0134\n",
            "Epoch 38/50\n",
            " - 1s - loss: 0.0144 - val_loss: 0.0134\n",
            "Epoch 39/50\n",
            " - 1s - loss: 0.0143 - val_loss: 0.0134\n",
            "Epoch 40/50\n",
            " - 1s - loss: 0.0144 - val_loss: 0.0133\n",
            "Epoch 41/50\n",
            " - 1s - loss: 0.0144 - val_loss: 0.0133\n",
            "Epoch 42/50\n",
            " - 1s - loss: 0.0143 - val_loss: 0.0134\n",
            "Epoch 43/50\n",
            " - 1s - loss: 0.0143 - val_loss: 0.0134\n",
            "Epoch 44/50\n",
            " - 1s - loss: 0.0143 - val_loss: 0.0134\n",
            "Epoch 45/50\n",
            " - 1s - loss: 0.0143 - val_loss: 0.0134\n",
            "Epoch 46/50\n",
            " - 1s - loss: 0.0143 - val_loss: 0.0134\n",
            "Epoch 47/50\n",
            " - 1s - loss: 0.0143 - val_loss: 0.0134\n",
            "Epoch 48/50\n",
            " - 1s - loss: 0.0143 - val_loss: 0.0134\n",
            "Epoch 49/50\n",
            " - 1s - loss: 0.0143 - val_loss: 0.0133\n",
            "Epoch 50/50\n",
            " - 1s - loss: 0.0143 - val_loss: 0.0133\n"
          ],
          "name": "stdout"
        },
        {
          "output_type": "display_data",
          "data": {
            "image/png": "[encoded data removed]",
            "text/plain": [
              "<Figure size 576x396 with 1 Axes>"
            ]
          },
          "metadata": {
            "tags": []
          }
        }
      ]
    },
    {
      "metadata": {
        "id": "u8gLW9QFXqWE",
        "colab_type": "code",
        "colab": {}
      },
      "cell_type": "code",
      "source": [
        "import numpy as np\n",
        "import math\n",
        "from sklearn.metrics import mean_squared_error"
      ],
      "execution_count": 0,
      "outputs": []
    },
    {
      "metadata": {
        "id": "fR2MKlLLM9KS",
        "colab_type": "code",
        "outputId": "2eb6b510-4ec3-473a-96f0-94810cf22f7e",
        "colab": {
          "base_uri": "https://localhost:8080/",
          "height": 35
        }
      },
      "cell_type": "code",
      "source": [
        "# make a prediction\n",
        "yhat = model.predict(test_X)\n",
        "test_X = test_X.reshape((test_X.shape[0], test_X.shape[2]))\n",
        "# invert scaling for forecast\n",
        "inv_yhat = np.concatenate((yhat, test_X[:, 1:]), axis=1)\n",
        "inv_yhat = scaler.inverse_transform(inv_yhat)\n",
        "inv_yhat = inv_yhat[:,0]\n",
        "# invert scaling for actual\n",
        "test_y = test_y.reshape((len(test_y), 1))\n",
        "inv_y = np.concatenate((test_y, test_X[:, 1:]), axis=1)\n",
        "inv_y = scaler.inverse_transform(inv_y)\n",
        "inv_y = inv_y[:,0]\n",
        "# calculate RMSE\n",
        "rmse = math.sqrt(mean_squared_error(inv_y, inv_yhat))\n",
        "print('Test RMSE: %.3f' % rmse)"
      ],
      "execution_count": 0,
      "outputs": [
        {
          "output_type": "stream",
          "text": [
            "Test RMSE: 26.433\n"
          ],
          "name": "stdout"
        }
      ]
    },
    {
      "metadata": {
        "id": "HB3aB0QtM9Hs",
        "colab_type": "code",
        "colab": {}
      },
      "cell_type": "code",
      "source": [
        ""
      ],
      "execution_count": 0,
      "outputs": []
    },
    {
      "metadata": {
        "id": "h26dmtyFM9FC",
        "colab_type": "code",
        "colab": {}
      },
      "cell_type": "code",
      "source": [
        ""
      ],
      "execution_count": 0,
      "outputs": []
    },
    {
      "metadata": {
        "id": "elkbGTEXM9CS",
        "colab_type": "code",
        "colab": {}
      },
      "cell_type": "code",
      "source": [
        ""
      ],
      "execution_count": 0,
      "outputs": []
    },
    {
      "metadata": {
        "id": "PFXKYfWHM8_p",
        "colab_type": "code",
        "colab": {}
      },
      "cell_type": "code",
      "source": [
        ""
      ],
      "execution_count": 0,
      "outputs": []
    },
    {
      "metadata": {
        "id": "B2NrN5s_M89X",
        "colab_type": "code",
        "colab": {}
      },
      "cell_type": "code",
      "source": [
        ""
      ],
      "execution_count": 0,
      "outputs": []
    },
    {
      "metadata": {
        "id": "mneXgVjCM86Z",
        "colab_type": "code",
        "colab": {}
      },
      "cell_type": "code",
      "source": [
        ""
      ],
      "execution_count": 0,
      "outputs": []
    },
    {
      "metadata": {
        "id": "_0Y4n4wyM830",
        "colab_type": "code",
        "colab": {}
      },
      "cell_type": "code",
      "source": [
        ""
      ],
      "execution_count": 0,
      "outputs": []
    },
    {
      "metadata": {
        "id": "Gc7M5SJuM81E",
        "colab_type": "code",
        "colab": {}
      },
      "cell_type": "code",
      "source": [
        ""
      ],
      "execution_count": 0,
      "outputs": []
    },
    {
      "metadata": {
        "id": "MqW4MS2tM8yS",
        "colab_type": "code",
        "colab": {}
      },
      "cell_type": "code",
      "source": [
        ""
      ],
      "execution_count": 0,
      "outputs": []
    },
    {
      "metadata": {
        "id": "QxhY37fhM8r4",
        "colab_type": "code",
        "colab": {}
      },
      "cell_type": "code",
      "source": [
        ""
      ],
      "execution_count": 0,
      "outputs": []
    }
  ]
}