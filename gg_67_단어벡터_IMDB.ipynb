{
  "nbformat": 4,
  "nbformat_minor": 0,
  "metadata": {
    "colab": {
      "name": "gg_67_단어벡터_IMDB.ipynb",
      "version": "0.3.2",
      "provenance": [],
      "collapsed_sections": [],
      "include_colab_link": true
    },
    "kernelspec": {
      "name": "python3",
      "display_name": "Python 3"
    },
    "accelerator": "GPU"
  },
  "cells": [
    {
      "cell_type": "markdown",
      "metadata": {
        "id": "view-in-github",
        "colab_type": "text"
      },
      "source": [
        "<a href=\"https://colab.research.google.com/github/StillWork/c9/blob/master/gg_67_%EB%8B%A8%EC%96%B4%EB%B2%A1%ED%84%B0_IMDB.ipynb\" target=\"_parent\"><img src=\"https://colab.research.google.com/assets/colab-badge.svg\" alt=\"Open In Colab\"/></a>"
      ]
    },
    {
      "metadata": {
        "id": "2Pa94qBD7EKp",
        "colab_type": "text"
      },
      "cell_type": "markdown",
      "source": [
        "# 단어 임베딩\n",
        "## 텍스트 분석에서 널리 사용됨\n",
        "- 자연어 처리, 문서 분류, 감성분석, 저작 식별, QA, 챗봇  \n",
        "\n",
        "## 토큰화\n",
        "- 단어, 글자, n-gram\n",
        "\n",
        "## 인코딩\n",
        "- 원-핫 인코딩: 단어집 크기의 벡터를 사용한다 (크기가 매우 크고 희소함)\n",
        "- 토큰 임베딩\n",
        "\n",
        "## 토큰 임베딩 \n",
        "- 단어 임베딩\n",
        "- 글자 임베딩\n",
        "- n-gram 임베딩\n",
        "\n",
        "### 원-핫 인코딩은 문장의 구조 정보를 잃어버린다\n",
        "\n",
        "## 단어 벡터\n",
        "- 희소 베터대신 밀집 벡터를 사용\n",
        "- id를 구분하는 용도가 아니라 공간상의 점을 매핑 (거리와 벡터를 제공)\n",
        "\n",
        "### 생성 방법\n",
        "- 특정한 문제를 해결하는 과정에서 (모델을 만드는 과정에서) 부수적으로 단어벡터를 만들 수 있다. 단어간의 의미를 반영한다. 의미가 가까우면 거리도 가깝게. \n",
        "- 다른 곳에서 만든 단어벡터를 로드하여 사용\n",
        "\n",
        "\n",
        "### Embedding 계층을 사용하여 쉽게 만들 수 있다\n",
        "- 정수 인덱스를 벡터로 매핑하는 딕셔너리 구조 (인덱스 크기, 벡터 크기)\n",
        "- 학습 시키는 데이터에 따라 다른 임베딩이 만들어진다.\n",
        "\n",
        "### IMDB 영화 리뷰 데이터를 사용한 임베딩 예제\n",
        "\n"
      ]
    },
    {
      "metadata": {
        "id": "y8hRGgn85LtI",
        "colab_type": "code",
        "colab": {
          "base_uri": "https://localhost:8080/",
          "height": 34
        },
        "outputId": "bb61d2a7-3a71-434a-c215-92e84caaaa02"
      },
      "cell_type": "code",
      "source": [
        "from keras.layers import Flatten, Dense, Embedding\n",
        "from keras.models import Sequential\n",
        "import os, os.path\n",
        "import zipfile\n",
        "from keras.datasets import imdb\n",
        "from keras import preprocessing\n",
        "\n",
        "from keras.preprocessing.text import Tokenizer\n",
        "from keras.preprocessing.sequence import pad_sequences\n",
        "import numpy as np\n",
        "import matplotlib.pyplot as plt"
      ],
      "execution_count": 1,
      "outputs": [
        {
          "output_type": "stream",
          "text": [
            "Using TensorFlow backend.\n"
          ],
          "name": "stderr"
        }
      ]
    },
    {
      "metadata": {
        "id": "9Tu8xAnn_nGl",
        "colab_type": "code",
        "outputId": "2a2fd72d-264f-4685-ae4f-f47256b28c2f",
        "colab": {
          "base_uri": "https://localhost:8080/",
          "height": 50
        }
      },
      "cell_type": "code",
      "source": [
        "\n",
        "\n",
        "max_features = 10000\n",
        "maxlen = 20\n",
        "(x_train, y_train), (x_test, y_test) = imdb.load_data(num_words=max_features)\n",
        "\n"
      ],
      "execution_count": 2,
      "outputs": [
        {
          "output_type": "stream",
          "text": [
            "Downloading data from https://s3.amazonaws.com/text-datasets/imdb.npz\n",
            "17465344/17464789 [==============================] - 2s 0us/step\n"
          ],
          "name": "stdout"
        }
      ]
    },
    {
      "metadata": {
        "id": "gXuG1WkZeq6L",
        "colab_type": "code",
        "outputId": "6e387049-c980-47d2-e07b-cd7f5c6f1e3a",
        "colab": {
          "base_uri": "https://localhost:8080/",
          "height": 34
        }
      },
      "cell_type": "code",
      "source": [
        "x_train.shape"
      ],
      "execution_count": 3,
      "outputs": [
        {
          "output_type": "execute_result",
          "data": {
            "text/plain": [
              "(25000,)"
            ]
          },
          "metadata": {
            "tags": []
          },
          "execution_count": 3
        }
      ]
    },
    {
      "metadata": {
        "id": "J4w1ON5Z7SvH",
        "colab_type": "code",
        "outputId": "4f2b4c0a-f89f-4794-aea4-f0183774dbe3",
        "colab": {
          "base_uri": "https://localhost:8080/",
          "height": 34
        }
      },
      "cell_type": "code",
      "source": [
        "y_train[:3]"
      ],
      "execution_count": 4,
      "outputs": [
        {
          "output_type": "execute_result",
          "data": {
            "text/plain": [
              "array([1, 0, 0])"
            ]
          },
          "metadata": {
            "tags": []
          },
          "execution_count": 4
        }
      ]
    },
    {
      "metadata": {
        "id": "blQtfwq4e3NP",
        "colab_type": "code",
        "colab": {}
      },
      "cell_type": "code",
      "source": [
        "x_train=preprocessing.sequence.pad_sequences(x_train, maxlen=maxlen)\n",
        "x_test=preprocessing.sequence.pad_sequences(x_test, maxlen=maxlen)"
      ],
      "execution_count": 0,
      "outputs": []
    },
    {
      "metadata": {
        "id": "1_WuOAkafd8M",
        "colab_type": "code",
        "outputId": "0bef4697-1c73-47b8-df5a-3fb82b9ad10f",
        "colab": {
          "base_uri": "https://localhost:8080/",
          "height": 34
        }
      },
      "cell_type": "code",
      "source": [
        "x_train.shape"
      ],
      "execution_count": 6,
      "outputs": [
        {
          "output_type": "execute_result",
          "data": {
            "text/plain": [
              "(25000, 20)"
            ]
          },
          "metadata": {
            "tags": []
          },
          "execution_count": 6
        }
      ]
    },
    {
      "metadata": {
        "id": "KD5dWA__fqO1",
        "colab_type": "code",
        "outputId": "85b24810-b6e5-4d3c-8897-f0e41a04bb93",
        "colab": {
          "base_uri": "https://localhost:8080/",
          "height": 306
        }
      },
      "cell_type": "code",
      "source": [
        "model = Sequential()\n",
        "model.add(Embedding(10000, 8, input_length=maxlen))\n",
        "model.add(Flatten())\n",
        "model.add(Dense(1, activation='sigmoid'))\n",
        "\n",
        "model.compile(loss='binary_crossentropy',\n",
        "              optimizer='rmsprop',\n",
        "              metrics=['acc'])\n",
        "model.summary()"
      ],
      "execution_count": 7,
      "outputs": [
        {
          "output_type": "stream",
          "text": [
            "WARNING:tensorflow:From /usr/local/lib/python3.6/dist-packages/tensorflow/python/framework/op_def_library.py:263: colocate_with (from tensorflow.python.framework.ops) is deprecated and will be removed in a future version.\n",
            "Instructions for updating:\n",
            "Colocations handled automatically by placer.\n",
            "_________________________________________________________________\n",
            "Layer (type)                 Output Shape              Param #   \n",
            "=================================================================\n",
            "embedding_1 (Embedding)      (None, 20, 8)             80000     \n",
            "_________________________________________________________________\n",
            "flatten_1 (Flatten)          (None, 160)               0         \n",
            "_________________________________________________________________\n",
            "dense_1 (Dense)              (None, 1)                 161       \n",
            "=================================================================\n",
            "Total params: 80,161\n",
            "Trainable params: 80,161\n",
            "Non-trainable params: 0\n",
            "_________________________________________________________________\n"
          ],
          "name": "stdout"
        }
      ]
    },
    {
      "metadata": {
        "id": "LiMsP3C96RRg",
        "colab_type": "code",
        "outputId": "ccb7f637-6f80-4bde-c774-595874591770",
        "colab": {
          "base_uri": "https://localhost:8080/",
          "height": 440
        }
      },
      "cell_type": "code",
      "source": [
        "history = model.fit(\n",
        "    x_train, y_train,\n",
        "    epochs=10,\n",
        "    batch_size=32,\n",
        "    validation_split=0.2)"
      ],
      "execution_count": 8,
      "outputs": [
        {
          "output_type": "stream",
          "text": [
            "WARNING:tensorflow:From /usr/local/lib/python3.6/dist-packages/tensorflow/python/ops/math_ops.py:3066: to_int32 (from tensorflow.python.ops.math_ops) is deprecated and will be removed in a future version.\n",
            "Instructions for updating:\n",
            "Use tf.cast instead.\n",
            "Train on 20000 samples, validate on 5000 samples\n",
            "Epoch 1/10\n",
            "20000/20000 [==============================] - 5s 255us/step - loss: 0.6759 - acc: 0.6050 - val_loss: 0.6398 - val_acc: 0.6814\n",
            "Epoch 2/10\n",
            "20000/20000 [==============================] - 3s 129us/step - loss: 0.5657 - acc: 0.7427 - val_loss: 0.5467 - val_acc: 0.7206\n",
            "Epoch 3/10\n",
            "20000/20000 [==============================] - 4s 206us/step - loss: 0.4752 - acc: 0.7808 - val_loss: 0.5113 - val_acc: 0.7384\n",
            "Epoch 4/10\n",
            "20000/20000 [==============================] - 3s 133us/step - loss: 0.4263 - acc: 0.8077 - val_loss: 0.5008 - val_acc: 0.7452\n",
            "Epoch 5/10\n",
            "20000/20000 [==============================] - 3s 131us/step - loss: 0.3930 - acc: 0.8258 - val_loss: 0.4981 - val_acc: 0.7538\n",
            "Epoch 6/10\n",
            "20000/20000 [==============================] - 3s 131us/step - loss: 0.3668 - acc: 0.8395 - val_loss: 0.5014 - val_acc: 0.7530\n",
            "Epoch 7/10\n",
            "20000/20000 [==============================] - 3s 144us/step - loss: 0.3435 - acc: 0.8533 - val_loss: 0.5052 - val_acc: 0.7520\n",
            "Epoch 8/10\n",
            "20000/20000 [==============================] - 4s 199us/step - loss: 0.3223 - acc: 0.8657 - val_loss: 0.5132 - val_acc: 0.7486\n",
            "Epoch 9/10\n",
            "20000/20000 [==============================] - 4s 185us/step - loss: 0.3022 - acc: 0.8766 - val_loss: 0.5213 - val_acc: 0.7490\n",
            "Epoch 10/10\n",
            "20000/20000 [==============================] - 4s 175us/step - loss: 0.2839 - acc: 0.8860 - val_loss: 0.5303 - val_acc: 0.7466\n"
          ],
          "name": "stdout"
        }
      ]
    },
    {
      "metadata": {
        "id": "3NYmQslQ_Edk",
        "colab_type": "text"
      },
      "cell_type": "markdown",
      "source": [
        "## 위의 결과는 20개의 단어만 고려한 것임\n",
        "### 성능이 75% 정도 됨\n",
        "- 각 단어를 독립적으로 다루었으며, 문장의 구성 정보를 고려하지 않음\n",
        "- 문장의 구조 정보를 고려하려면 임베딩 층 위에 합성곱이나 순환신경망 층을 추가한다"
      ]
    },
    {
      "metadata": {
        "id": "HI9yPocrBjq-",
        "colab_type": "text"
      },
      "cell_type": "markdown",
      "source": [
        "## 사전훈련된 임베딩 사용\n",
        "- 사전 학습된 합성곱 신경망을 사용하는 것과 같이 임베딩도 사전훈련된 값을 사용할 수 있다.\n",
        "### 이 예에서는 성능 개선이 없다 \n",
        "\n",
        "## 사전 학습 임베딩\n",
        "- 2013년 구글의 Word2Vect\n",
        "- 2014년 스탠포드의 GloVe: 단어의 동시출현 통계를 분석 \n",
        "\n",
        "## 원본 IMDB를 사용하여 (토큰화 되기 전의) 텍스트 처리부터 작업을 하겠다\n",
        "- 훈련 데이터가 부족할 때 유용하다\n",
        "- 훈련 데이터가 충분하면 직접 학습하는 것이 낫다"
      ]
    },
    {
      "metadata": {
        "id": "kfa_ykLYDLdv",
        "colab_type": "code",
        "colab": {
          "base_uri": "https://localhost:8080/",
          "height": 417
        },
        "outputId": "4264fbf9-3436-47d1-ee9d-8d3505c56ec4"
      },
      "cell_type": "code",
      "source": [
        "if not os.path.exists(\"./data\"):\n",
        "    os.makedirs(\"./data\")\n",
        "if not os.path.exists(\"./data/IMDB.zip\"):\n",
        "  !wget --no-check-certificate http://mng.bz/0tIo \\\n",
        "  -O ./data/IMDB.zip"
      ],
      "execution_count": 9,
      "outputs": [
        {
          "output_type": "stream",
          "text": [
            "--2019-04-06 10:35:28--  http://mng.bz/0tIo\n",
            "Resolving mng.bz (mng.bz)... 35.166.24.88\n",
            "Connecting to mng.bz (mng.bz)|35.166.24.88|:80... connected.\n",
            "HTTP request sent, awaiting response... 301 Moved Permanently\n",
            "Location: https://mng.bz/0tIo [following]\n",
            "--2019-04-06 10:35:28--  https://mng.bz/0tIo\n",
            "Connecting to mng.bz (mng.bz)|35.166.24.88|:443... connected.\n",
            "WARNING: cannot verify mng.bz's certificate, issued by ‘CN=Go Daddy Secure Certificate Authority - G2,OU=http://certs.godaddy.com/repository/,O=GoDaddy.com\\\\, Inc.,L=Scottsdale,ST=Arizona,C=US’:\n",
            "  Unable to locally verify the issuer's authority.\n",
            "HTTP request sent, awaiting response... 301 \n",
            "Location: http://s3.amazonaws.com/text-datasets/aclImdb.zip [following]\n",
            "--2019-04-06 10:35:29--  http://s3.amazonaws.com/text-datasets/aclImdb.zip\n",
            "Resolving s3.amazonaws.com (s3.amazonaws.com)... 52.216.102.29\n",
            "Connecting to s3.amazonaws.com (s3.amazonaws.com)|52.216.102.29|:80... connected.\n",
            "HTTP request sent, awaiting response... 200 OK\n",
            "Length: 60711700 (58M) [application/zip]\n",
            "Saving to: ‘./data/IMDB.zip’\n",
            "\n",
            "./data/IMDB.zip     100%[===================>]  57.90M  15.5MB/s    in 4.8s    \n",
            "\n",
            "2019-04-06 10:35:34 (12.1 MB/s) - ‘./data/IMDB.zip’ saved [60711700/60711700]\n",
            "\n"
          ],
          "name": "stdout"
        }
      ]
    },
    {
      "metadata": {
        "id": "V_sU7g6lDWXS",
        "colab_type": "code",
        "outputId": "15f4f9ac-c535-411e-a9ca-5ce3168fe2be",
        "colab": {
          "base_uri": "https://localhost:8080/",
          "height": 34
        }
      },
      "cell_type": "code",
      "source": [
        "!ls data"
      ],
      "execution_count": 10,
      "outputs": [
        {
          "output_type": "stream",
          "text": [
            "IMDB.zip\n"
          ],
          "name": "stdout"
        }
      ]
    },
    {
      "metadata": {
        "id": "lJDWfvuSDk8f",
        "colab_type": "code",
        "colab": {}
      },
      "cell_type": "code",
      "source": [
        "local_zip = './data/IMDB.zip'\n",
        "zip_ref = zipfile.ZipFile(local_zip, 'r')\n",
        "zip_ref.extractall('./data')\n",
        "zip_ref.close()"
      ],
      "execution_count": 0,
      "outputs": []
    },
    {
      "metadata": {
        "id": "U-RQIqJIE9h0",
        "colab_type": "code",
        "colab": {}
      },
      "cell_type": "code",
      "source": [
        "imdb_dir='./data/aclImdb'\n",
        "train_dir = os.path.join(imdb_dir, 'train')\n",
        "labels = []\n",
        "texts = []\n",
        "\n",
        "for label_type in ['neg', 'pos']:\n",
        "    dir_name = os.path.join(train_dir, label_type)\n",
        "    for fname in os.listdir(dir_name):\n",
        "        if fname[-4:] == '.txt':\n",
        "            f = open(os.path.join(dir_name, fname))\n",
        "            texts.append(f.read())\n",
        "            f.close()\n",
        "            if label_type == 'neg':\n",
        "                labels.append(0)\n",
        "            else:\n",
        "                labels.append(1)"
      ],
      "execution_count": 0,
      "outputs": []
    },
    {
      "metadata": {
        "id": "l_h-KUjnFXg0",
        "colab_type": "code",
        "outputId": "2f26938e-d92a-4c41-c441-fdd28f396506",
        "colab": {
          "base_uri": "https://localhost:8080/",
          "height": 67
        }
      },
      "cell_type": "code",
      "source": [
        "from keras.preprocessing.text import Tokenizer\n",
        "from keras.preprocessing.sequence import pad_sequences\n",
        "import numpy as np\n",
        "\n",
        "maxlen = 100  # We will cut reviews after 100 words\n",
        "training_samples = 10000  # We will be training on 200 samples\n",
        "validation_samples = 10000  # We will be validating on 10000 samples\n",
        "max_words = 10000  # We will only consider the top 10,000 words in the dataset\n",
        "\n",
        "tokenizer = Tokenizer(num_words=max_words)\n",
        "tokenizer.fit_on_texts(texts)\n",
        "sequences = tokenizer.texts_to_sequences(texts)\n",
        "\n",
        "word_index = tokenizer.word_index\n",
        "print('Found %s unique tokens.' % len(word_index))\n",
        "\n",
        "data = pad_sequences(sequences, maxlen=maxlen)\n",
        "\n",
        "labels = np.asarray(labels)\n",
        "print('Shape of data tensor:', data.shape)\n",
        "print('Shape of label tensor:', labels.shape)\n",
        "\n",
        "# Split the data into a training set and a validation set\n",
        "# But first, shuffle the data, since we started from data\n",
        "# where sample are ordered (all negative first, then all positive).\n",
        "indices = np.arange(data.shape[0])\n",
        "np.random.shuffle(indices)\n",
        "data = data[indices]\n",
        "labels = labels[indices]\n",
        "\n",
        "x_train = data[:training_samples]\n",
        "y_train = labels[:training_samples]\n",
        "x_val = data[training_samples: training_samples + validation_samples]\n",
        "y_val = labels[training_samples: training_samples + validation_samples]"
      ],
      "execution_count": 13,
      "outputs": [
        {
          "output_type": "stream",
          "text": [
            "Found 88582 unique tokens.\n",
            "Shape of data tensor: (25000, 100)\n",
            "Shape of label tensor: (25000,)\n"
          ],
          "name": "stdout"
        }
      ]
    },
    {
      "metadata": {
        "id": "pkNWHejPHNP4",
        "colab_type": "code",
        "outputId": "89c8ff15-2dfd-459f-c140-c87f134837b4",
        "colab": {
          "base_uri": "https://localhost:8080/",
          "height": 34
        }
      },
      "cell_type": "code",
      "source": [
        "data=pad_sequences(sequences, maxlen=maxlen)\n",
        "labels=np.asarray(labels)\n",
        "data.shape, labels.shape"
      ],
      "execution_count": 14,
      "outputs": [
        {
          "output_type": "execute_result",
          "data": {
            "text/plain": [
              "((25000, 100), (25000,))"
            ]
          },
          "metadata": {
            "tags": []
          },
          "execution_count": 14
        }
      ]
    },
    {
      "metadata": {
        "id": "3ai7oUGbcaI2",
        "colab_type": "code",
        "outputId": "1994c4bb-4601-4a75-aee9-d6e6d093daa9",
        "colab": {
          "base_uri": "https://localhost:8080/",
          "height": 289
        }
      },
      "cell_type": "code",
      "source": [
        "if not os.path.exists(\"./data\"):\n",
        "    os.makedirs(\"./data\")\n",
        "if not os.path.exists(\"./data/glove6B.zip\"):\n",
        "  !wget --no-check-certificate http://nlp.stanford.edu/data/glove.6B.zip \\\n",
        "  -O ./data/glove6B.zip"
      ],
      "execution_count": 15,
      "outputs": [
        {
          "output_type": "stream",
          "text": [
            "--2019-04-06 10:36:34--  http://nlp.stanford.edu/data/glove.6B.zip\n",
            "Resolving nlp.stanford.edu (nlp.stanford.edu)... 171.64.67.140\n",
            "Connecting to nlp.stanford.edu (nlp.stanford.edu)|171.64.67.140|:80... connected.\n",
            "HTTP request sent, awaiting response... 302 Found\n",
            "Location: https://nlp.stanford.edu/data/glove.6B.zip [following]\n",
            "--2019-04-06 10:36:34--  https://nlp.stanford.edu/data/glove.6B.zip\n",
            "Connecting to nlp.stanford.edu (nlp.stanford.edu)|171.64.67.140|:443... connected.\n",
            "HTTP request sent, awaiting response... 200 OK\n",
            "Length: 862182613 (822M) [application/zip]\n",
            "Saving to: ‘./data/glove6B.zip’\n",
            "\n",
            "./data/glove6B.zip  100%[===================>] 822.24M  12.5MB/s    in 59s     \n",
            "\n",
            "2019-04-06 10:37:33 (14.0 MB/s) - ‘./data/glove6B.zip’ saved [862182613/862182613]\n",
            "\n"
          ],
          "name": "stdout"
        }
      ]
    },
    {
      "metadata": {
        "id": "W9RvL73zd3I5",
        "colab_type": "code",
        "outputId": "d03fd66c-2c3b-4875-d838-8f2551914684",
        "colab": {
          "base_uri": "https://localhost:8080/",
          "height": 134
        }
      },
      "cell_type": "code",
      "source": [
        "!ls -al data"
      ],
      "execution_count": 16,
      "outputs": [
        {
          "output_type": "stream",
          "text": [
            "total 901296\n",
            "drwxr-xr-x 4 root root      4096 Apr  6 10:36 .\n",
            "drwxr-xr-x 1 root root      4096 Apr  6 10:37 ..\n",
            "drwxr-xr-x 4 root root      4096 Apr  6 10:35 aclImdb\n",
            "-rw-r--r-- 1 root root 862182613 Oct 25  2015 glove6B.zip\n",
            "-rw-r--r-- 1 root root  60711700 Nov 18  2017 IMDB.zip\n",
            "drwxr-xr-x 3 root root      4096 Apr  6 10:36 __MACOSX\n"
          ],
          "name": "stdout"
        }
      ]
    },
    {
      "metadata": {
        "id": "_XxUrM2XeIRd",
        "colab_type": "code",
        "colab": {}
      },
      "cell_type": "code",
      "source": [
        "local_zip = './data/glove6B.zip'\n",
        "zip_ref = zipfile.ZipFile(local_zip, 'r')\n",
        "zip_ref.extractall('./data')\n",
        "zip_ref.close()"
      ],
      "execution_count": 0,
      "outputs": []
    },
    {
      "metadata": {
        "id": "901R6N6GgNgC",
        "colab_type": "code",
        "outputId": "2e65e677-59af-4e19-e012-d8a0496d514b",
        "colab": {
          "base_uri": "https://localhost:8080/",
          "height": 34
        }
      },
      "cell_type": "code",
      "source": [
        "glove_dir='data'\n",
        "embeddings_index = {}\n",
        "f = open(os.path.join(glove_dir, 'glove.6B.100d.txt'))\n",
        "for line in f:\n",
        "    values = line.split()\n",
        "    word = values[0]\n",
        "    coefs = np.asarray(values[1:], dtype='float32')\n",
        "    embeddings_index[word] = coefs\n",
        "f.close()\n",
        "\n",
        "print('Found %s word vectors.' % len(embeddings_index))"
      ],
      "execution_count": 18,
      "outputs": [
        {
          "output_type": "stream",
          "text": [
            "Found 400000 word vectors.\n"
          ],
          "name": "stdout"
        }
      ]
    },
    {
      "metadata": {
        "id": "wwiTxvnPeKss",
        "colab_type": "code",
        "colab": {}
      },
      "cell_type": "code",
      "source": [
        "embedding_dim = 100\n",
        "\n",
        "embedding_matrix = np.zeros((max_words, embedding_dim))\n",
        "for word, i in word_index.items():\n",
        "    embedding_vector = embeddings_index.get(word)\n",
        "    if i < max_words:\n",
        "        if embedding_vector is not None:\n",
        "            # Words not found in embedding index will be all-zeros.\n",
        "            embedding_matrix[i] = embedding_vector"
      ],
      "execution_count": 0,
      "outputs": []
    },
    {
      "metadata": {
        "id": "WbAnitc3h6KE",
        "colab_type": "code",
        "outputId": "b66e2cdd-f64a-4858-9b68-58385d7e4aa3",
        "colab": {
          "base_uri": "https://localhost:8080/",
          "height": 269
        }
      },
      "cell_type": "code",
      "source": [
        "model = Sequential()\n",
        "model.add(Embedding(max_words, embedding_dim, input_length=maxlen))\n",
        "model.add(Flatten())\n",
        "model.add(Dense(32, activation='relu'))\n",
        "model.add(Dense(1, activation='sigmoid'))\n",
        "model.summary()"
      ],
      "execution_count": 20,
      "outputs": [
        {
          "output_type": "stream",
          "text": [
            "_________________________________________________________________\n",
            "Layer (type)                 Output Shape              Param #   \n",
            "=================================================================\n",
            "embedding_2 (Embedding)      (None, 100, 100)          1000000   \n",
            "_________________________________________________________________\n",
            "flatten_2 (Flatten)          (None, 10000)             0         \n",
            "_________________________________________________________________\n",
            "dense_2 (Dense)              (None, 32)                320032    \n",
            "_________________________________________________________________\n",
            "dense_3 (Dense)              (None, 1)                 33        \n",
            "=================================================================\n",
            "Total params: 1,320,065\n",
            "Trainable params: 1,320,065\n",
            "Non-trainable params: 0\n",
            "_________________________________________________________________\n"
          ],
          "name": "stdout"
        }
      ]
    },
    {
      "metadata": {
        "id": "_ZuZOjU2Fnw1",
        "colab_type": "code",
        "colab": {}
      },
      "cell_type": "code",
      "source": [
        "model.layers[0].set_weights([embedding_matrix])\n",
        "model.layers[0].trainable = False"
      ],
      "execution_count": 0,
      "outputs": []
    },
    {
      "metadata": {
        "id": "7JSaipmSGPNO",
        "colab_type": "code",
        "outputId": "72ec06b1-b7ea-4886-da24-4f760547760c",
        "colab": {
          "base_uri": "https://localhost:8080/",
          "height": 390
        }
      },
      "cell_type": "code",
      "source": [
        "model.compile(optimizer='rmsprop',\n",
        "              loss='binary_crossentropy',\n",
        "              metrics=['acc'])\n",
        "history = model.fit(x_train, y_train,\n",
        "                    epochs=10,\n",
        "                    batch_size=32,\n",
        "                    validation_data=(x_val, y_val))\n",
        "model.save_weights('pre_trained_glove_model.h5')"
      ],
      "execution_count": 22,
      "outputs": [
        {
          "output_type": "stream",
          "text": [
            "Train on 10000 samples, validate on 10000 samples\n",
            "Epoch 1/10\n",
            "10000/10000 [==============================] - 3s 317us/step - loss: 0.6652 - acc: 0.6195 - val_loss: 0.6186 - val_acc: 0.6604\n",
            "Epoch 2/10\n",
            "10000/10000 [==============================] - 3s 258us/step - loss: 0.5348 - acc: 0.7330 - val_loss: 0.6908 - val_acc: 0.6212\n",
            "Epoch 3/10\n",
            "10000/10000 [==============================] - 3s 258us/step - loss: 0.4626 - acc: 0.7834 - val_loss: 0.6181 - val_acc: 0.6908\n",
            "Epoch 4/10\n",
            "10000/10000 [==============================] - 3s 297us/step - loss: 0.4012 - acc: 0.8229 - val_loss: 0.7505 - val_acc: 0.6559\n",
            "Epoch 5/10\n",
            "10000/10000 [==============================] - 3s 272us/step - loss: 0.3515 - acc: 0.8463 - val_loss: 0.6455 - val_acc: 0.7041\n",
            "Epoch 6/10\n",
            "10000/10000 [==============================] - 3s 267us/step - loss: 0.2925 - acc: 0.8768 - val_loss: 0.7946 - val_acc: 0.6740\n",
            "Epoch 7/10\n",
            "10000/10000 [==============================] - 3s 262us/step - loss: 0.2416 - acc: 0.9021 - val_loss: 0.7230 - val_acc: 0.6992\n",
            "Epoch 8/10\n",
            "10000/10000 [==============================] - 3s 271us/step - loss: 0.2013 - acc: 0.9193 - val_loss: 0.9549 - val_acc: 0.6801\n",
            "Epoch 9/10\n",
            "10000/10000 [==============================] - 3s 267us/step - loss: 0.1535 - acc: 0.9422 - val_loss: 1.1154 - val_acc: 0.6364\n",
            "Epoch 10/10\n",
            "10000/10000 [==============================] - 3s 272us/step - loss: 0.1210 - acc: 0.9561 - val_loss: 0.9688 - val_acc: 0.6857\n"
          ],
          "name": "stdout"
        }
      ]
    },
    {
      "metadata": {
        "id": "uCLVsbOBG5hU",
        "colab_type": "code",
        "outputId": "e03b109b-dfef-41b6-c303-5b8ce2d13a29",
        "colab": {
          "base_uri": "https://localhost:8080/",
          "height": 723
        }
      },
      "cell_type": "code",
      "source": [
        "acc = history.history['acc']\n",
        "val_acc = history.history['val_acc']\n",
        "loss = history.history['loss']\n",
        "val_loss = history.history['val_loss']\n",
        "\n",
        "epochs = range(1, len(acc)+1)\n",
        "\n",
        "plt.plot(epochs, acc, 'bo')\n",
        "plt.plot(epochs, val_acc, 'b')\n",
        "plt.title('Training and validation accuracy')\n",
        "\n",
        "plt.figure()\n",
        "\n",
        "plt.plot(epochs, loss, 'bo')\n",
        "plt.plot(epochs, val_loss, 'b')\n",
        "plt.title('Training and validation loss')"
      ],
      "execution_count": 23,
      "outputs": [
        {
          "output_type": "execute_result",
          "data": {
            "text/plain": [
              "Text(0.5, 1.0, 'Training and validation loss')"
            ]
          },
          "metadata": {
            "tags": []
          },
          "execution_count": 23
        },
        {
          "output_type": "display_data",
          "data": {
            "image/png": "[encoded data removed]",
            "text/plain": [
              "<Figure size 576x396 with 1 Axes>"
            ]
          },
          "metadata": {
            "tags": []
          }
        },
        {
          "output_type": "display_data",
          "data": {
            "image/png": "[encoded data removed]",
            "text/plain": [
              "<Figure size 576x396 with 1 Axes>"
            ]
          },
          "metadata": {
            "tags": []
          }
        }
      ]
    },
    {
      "metadata": {
        "id": "9e5XPjL7HIdI",
        "colab_type": "code",
        "colab": {}
      },
      "cell_type": "code",
      "source": [
        ""
      ],
      "execution_count": 0,
      "outputs": []
    }
  ]
}