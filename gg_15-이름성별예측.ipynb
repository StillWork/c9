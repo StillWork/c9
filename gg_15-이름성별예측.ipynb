{
 "cells": [
  {
   "cell_type": "markdown",
   "metadata": {},
   "source": [
    "# 영문 이름으로 성별 예측"
   ]
  },
  {
   "cell_type": "code",
   "execution_count": 3,
   "metadata": {},
   "outputs": [
    {
     "name": "stdout",
     "output_type": "stream",
     "text": [
      "[nltk_data] Downloading package names to /Users/hwa-\n",
      "[nltk_data]     jongkim/nltk_data...\n",
      "[nltk_data]   Package names is already up-to-date!\n"
     ]
    },
    {
     "data": {
      "text/plain": [
       "True"
      ]
     },
     "execution_count": 3,
     "metadata": {},
     "output_type": "execute_result"
    }
   ],
   "source": [
    "from nltk.corpus import names\n",
    "import nltk\n",
    "nltk.download('names')"
   ]
  },
  {
   "cell_type": "code",
   "execution_count": 8,
   "metadata": {
    "scrolled": false
   },
   "outputs": [
    {
     "data": {
      "text/plain": [
       "[('Aamir', '남자'),\n",
       " ('Aaron', '남자'),\n",
       " ('Abbey', '남자'),\n",
       " ('Abbie', '남자'),\n",
       " ('Abbot', '남자'),\n",
       " ('Abbott', '남자'),\n",
       " ('Abby', '남자'),\n",
       " ('Abdel', '남자'),\n",
       " ('Abdul', '남자'),\n",
       " ('Abdulkarim', '남자')]"
      ]
     },
     "execution_count": 8,
     "metadata": {},
     "output_type": "execute_result"
    }
   ],
   "source": [
    "labeled_names = ([(name, '남자') for name in names.words('male.txt')] + \n",
    "                 [(name, '여자') for name in names.words('female.txt')])\n",
    "labeled_names[:10]"
   ]
  },
  {
   "cell_type": "code",
   "execution_count": 9,
   "metadata": {},
   "outputs": [],
   "source": [
    "import random\n",
    "random.shuffle(labeled_names, )\n",
    "labeled_names[0:10]"
   ]
  },
  {
   "cell_type": "code",
   "execution_count": 11,
   "metadata": {},
   "outputs": [
    {
     "data": {
      "text/plain": [
       "{'last_letter': 'i'}"
      ]
     },
     "execution_count": 11,
     "metadata": {},
     "output_type": "execute_result"
    }
   ],
   "source": [
    "def gender_features(word):\n",
    "    return {'last_letter': word[-1]}\n",
    "\n",
    "gender_features('Sopi')"
   ]
  },
  {
   "cell_type": "code",
   "execution_count": 12,
   "metadata": {},
   "outputs": [
    {
     "data": {
      "text/plain": [
       "[({'last_letter': 'l'}, '여자'),\n",
       " ({'last_letter': 'y'}, '여자'),\n",
       " ({'last_letter': 'n'}, '남자'),\n",
       " ({'last_letter': 'y'}, '남자'),\n",
       " ({'last_letter': 'h'}, '여자'),\n",
       " ({'last_letter': 'a'}, '여자'),\n",
       " ({'last_letter': 'e'}, '여자'),\n",
       " ({'last_letter': 'd'}, '남자'),\n",
       " ({'last_letter': 'a'}, '여자'),\n",
       " ({'last_letter': 'a'}, '여자')]"
      ]
     },
     "execution_count": 12,
     "metadata": {},
     "output_type": "execute_result"
    }
   ],
   "source": [
    "featuresets = [(gender_features(n), gender) for (n, gender) in labeled_names]\n",
    "featuresets[0:10]"
   ]
  },
  {
   "cell_type": "code",
   "execution_count": 13,
   "metadata": {},
   "outputs": [],
   "source": [
    "train_set, test_set = featuresets[2000:], featuresets[:2000]\n",
    "classifier = nltk.NaiveBayesClassifier.train(train_set)"
   ]
  },
  {
   "cell_type": "code",
   "execution_count": 14,
   "metadata": {},
   "outputs": [
    {
     "data": {
      "text/plain": [
       "'여자'"
      ]
     },
     "execution_count": 14,
     "metadata": {},
     "output_type": "execute_result"
    }
   ],
   "source": [
    "classifier.classify(gender_features('Sephipa'))"
   ]
  },
  {
   "cell_type": "code",
   "execution_count": 15,
   "metadata": {},
   "outputs": [
    {
     "name": "stdout",
     "output_type": "stream",
     "text": [
      "Most Informative Features\n",
      "             last_letter = 'k'                남자 : 여자     =     60.1 : 1.0\n",
      "             last_letter = 'a'                여자 : 남자     =     39.4 : 1.0\n",
      "             last_letter = 'f'                남자 : 여자     =     22.3 : 1.0\n",
      "             last_letter = 'v'                남자 : 여자     =     14.3 : 1.0\n",
      "             last_letter = 'p'                남자 : 여자     =     13.2 : 1.0\n"
     ]
    }
   ],
   "source": [
    "#  likelihood ratios\n",
    "classifier.show_most_informative_features(5)"
   ]
  },
  {
   "cell_type": "code",
   "execution_count": 16,
   "metadata": {},
   "outputs": [
    {
     "name": "stdout",
     "output_type": "stream",
     "text": [
      "0.739\n"
     ]
    }
   ],
   "source": [
    "print(nltk.classify.accuracy(classifier, test_set))"
   ]
  },
  {
   "cell_type": "code",
   "execution_count": 17,
   "metadata": {
    "scrolled": true
   },
   "outputs": [
    {
     "data": {
      "text/plain": [
       "{'first_letter': 'j',\n",
       " 'last_letter': 'a',\n",
       " 'length': 6,\n",
       " 'count(a)': 1,\n",
       " 'count(b)': 0,\n",
       " 'count(c)': 0,\n",
       " 'count(d)': 0,\n",
       " 'count(e)': 0,\n",
       " 'count(f)': 0,\n",
       " 'count(g)': 0,\n",
       " 'count(h)': 1,\n",
       " 'count(i)': 0,\n",
       " 'count(j)': 1,\n",
       " 'count(k)': 0,\n",
       " 'count(l)': 0,\n",
       " 'count(m)': 0,\n",
       " 'count(n)': 0,\n",
       " 'count(o)': 1,\n",
       " 'count(p)': 0,\n",
       " 'count(q)': 0,\n",
       " 'count(r)': 0,\n",
       " 'count(s)': 1,\n",
       " 'count(t)': 0,\n",
       " 'count(u)': 1,\n",
       " 'count(v)': 0,\n",
       " 'count(w)': 0,\n",
       " 'count(x)': 0,\n",
       " 'count(y)': 0,\n",
       " 'count(z)': 0}"
      ]
     },
     "execution_count": 17,
     "metadata": {},
     "output_type": "execute_result"
    }
   ],
   "source": [
    "def gender_features2(name):\n",
    "    features = {}\n",
    "    features[\"first_letter\"] = name[0].lower()\n",
    "    features[\"last_letter\"] = name[-1].lower()\n",
    "    features[\"length\"] = len(name)\n",
    "    for letter in 'abcdefghijklmnopqrstuvwxyz':\n",
    "        features[\"count({})\".format(letter)] = name.lower().count(letter)\n",
    "#        features[\"has({})\".format(letter)] = (letter in name.lower())\n",
    "    return features\n",
    "\n",
    "gender_features2('Joshua') "
   ]
  },
  {
   "cell_type": "code",
   "execution_count": 18,
   "metadata": {},
   "outputs": [
    {
     "data": {
      "text/plain": [
       "[('Averil', '여자'),\n",
       " ('Hetty', '여자'),\n",
       " ('Wilton', '남자'),\n",
       " ('Georgy', '남자'),\n",
       " ('Farrah', '여자'),\n",
       " ('Lucia', '여자'),\n",
       " ('Dorice', '여자'),\n",
       " ('Conrad', '남자'),\n",
       " ('Nova', '여자'),\n",
       " ('Ortensia', '여자')]"
      ]
     },
     "execution_count": 18,
     "metadata": {},
     "output_type": "execute_result"
    }
   ],
   "source": [
    "labeled_names[0:10]"
   ]
  },
  {
   "cell_type": "code",
   "execution_count": 19,
   "metadata": {},
   "outputs": [
    {
     "data": {
      "text/plain": [
       "[({'first_letter': 'a',\n",
       "   'last_letter': 'l',\n",
       "   'length': 6,\n",
       "   'count(a)': 1,\n",
       "   'count(b)': 0,\n",
       "   'count(c)': 0,\n",
       "   'count(d)': 0,\n",
       "   'count(e)': 1,\n",
       "   'count(f)': 0,\n",
       "   'count(g)': 0,\n",
       "   'count(h)': 0,\n",
       "   'count(i)': 1,\n",
       "   'count(j)': 0,\n",
       "   'count(k)': 0,\n",
       "   'count(l)': 1,\n",
       "   'count(m)': 0,\n",
       "   'count(n)': 0,\n",
       "   'count(o)': 0,\n",
       "   'count(p)': 0,\n",
       "   'count(q)': 0,\n",
       "   'count(r)': 1,\n",
       "   'count(s)': 0,\n",
       "   'count(t)': 0,\n",
       "   'count(u)': 0,\n",
       "   'count(v)': 1,\n",
       "   'count(w)': 0,\n",
       "   'count(x)': 0,\n",
       "   'count(y)': 0,\n",
       "   'count(z)': 0},\n",
       "  '여자'),\n",
       " ({'first_letter': 'h',\n",
       "   'last_letter': 'y',\n",
       "   'length': 5,\n",
       "   'count(a)': 0,\n",
       "   'count(b)': 0,\n",
       "   'count(c)': 0,\n",
       "   'count(d)': 0,\n",
       "   'count(e)': 1,\n",
       "   'count(f)': 0,\n",
       "   'count(g)': 0,\n",
       "   'count(h)': 1,\n",
       "   'count(i)': 0,\n",
       "   'count(j)': 0,\n",
       "   'count(k)': 0,\n",
       "   'count(l)': 0,\n",
       "   'count(m)': 0,\n",
       "   'count(n)': 0,\n",
       "   'count(o)': 0,\n",
       "   'count(p)': 0,\n",
       "   'count(q)': 0,\n",
       "   'count(r)': 0,\n",
       "   'count(s)': 0,\n",
       "   'count(t)': 2,\n",
       "   'count(u)': 0,\n",
       "   'count(v)': 0,\n",
       "   'count(w)': 0,\n",
       "   'count(x)': 0,\n",
       "   'count(y)': 1,\n",
       "   'count(z)': 0},\n",
       "  '여자')]"
      ]
     },
     "execution_count": 19,
     "metadata": {},
     "output_type": "execute_result"
    }
   ],
   "source": [
    "featuresets = [(gender_features2(n), gender) for (n, gender) in labeled_names]\n",
    "featuresets[0:2]"
   ]
  },
  {
   "cell_type": "code",
   "execution_count": 20,
   "metadata": {
    "scrolled": true
   },
   "outputs": [
    {
     "name": "stdout",
     "output_type": "stream",
     "text": [
      "0.767\n"
     ]
    }
   ],
   "source": [
    "train_set, test_set = featuresets[2000:], featuresets[:2000]\n",
    "classifier = nltk.NaiveBayesClassifier.train(train_set)\n",
    "print(nltk.classify.accuracy(classifier, test_set))"
   ]
  },
  {
   "cell_type": "code",
   "execution_count": 21,
   "metadata": {},
   "outputs": [
    {
     "name": "stdout",
     "output_type": "stream",
     "text": [
      "Most Informative Features\n",
      "             last_letter = 'k'                남자 : 여자     =     60.1 : 1.0\n",
      "             last_letter = 'a'                여자 : 남자     =     39.4 : 1.0\n",
      "             last_letter = 'f'                남자 : 여자     =     22.3 : 1.0\n",
      "             last_letter = 'v'                남자 : 여자     =     14.3 : 1.0\n",
      "             last_letter = 'p'                남자 : 여자     =     13.2 : 1.0\n",
      "             last_letter = 'o'                남자 : 여자     =     10.3 : 1.0\n",
      "             last_letter = 'd'                남자 : 여자     =      9.0 : 1.0\n",
      "             last_letter = 'm'                남자 : 여자     =      8.1 : 1.0\n",
      "             last_letter = 'r'                남자 : 여자     =      8.1 : 1.0\n",
      "                count(a) = 3                  여자 : 남자     =      5.2 : 1.0\n",
      "             last_letter = 'g'                남자 : 여자     =      4.9 : 1.0\n",
      "            first_letter = 'w'                남자 : 여자     =      4.7 : 1.0\n",
      "             last_letter = 'z'                남자 : 여자     =      4.7 : 1.0\n",
      "             last_letter = 't'                남자 : 여자     =      4.5 : 1.0\n",
      "                count(w) = 1                  남자 : 여자     =      4.4 : 1.0\n",
      "             last_letter = 's'                남자 : 여자     =      4.3 : 1.0\n",
      "             last_letter = 'i'                여자 : 남자     =      4.2 : 1.0\n",
      "                count(b) = 3                  남자 : 여자     =      4.0 : 1.0\n",
      "             last_letter = 'w'                남자 : 여자     =      4.0 : 1.0\n",
      "            first_letter = 'q'                남자 : 여자     =      3.9 : 1.0\n",
      "                count(o) = 2                  남자 : 여자     =      3.8 : 1.0\n",
      "             last_letter = 'u'                남자 : 여자     =      3.6 : 1.0\n",
      "                count(a) = 2                  여자 : 남자     =      3.1 : 1.0\n",
      "            first_letter = 'u'                남자 : 여자     =      2.9 : 1.0\n",
      "             last_letter = 'j'                남자 : 여자     =      2.9 : 1.0\n",
      "             last_letter = 'b'                남자 : 여자     =      2.8 : 1.0\n",
      "                count(h) = 2                  남자 : 여자     =      2.7 : 1.0\n",
      "                count(i) = 3                  남자 : 여자     =      2.7 : 1.0\n",
      "                count(e) = 3                  여자 : 남자     =      2.6 : 1.0\n",
      "                count(u) = 2                  남자 : 여자     =      2.5 : 1.0\n",
      "            first_letter = 'h'                남자 : 여자     =      2.4 : 1.0\n",
      "                count(w) = 2                  남자 : 여자     =      2.4 : 1.0\n",
      "                count(m) = 3                  남자 : 여자     =      2.4 : 1.0\n",
      "                count(f) = 2                  남자 : 여자     =      2.4 : 1.0\n",
      "            first_letter = 'x'                남자 : 여자     =      2.3 : 1.0\n",
      "            first_letter = 'k'                여자 : 남자     =      2.3 : 1.0\n",
      "             last_letter = 'n'                남자 : 여자     =      2.2 : 1.0\n",
      "                count(p) = 3                  여자 : 남자     =      2.1 : 1.0\n",
      "                count(i) = 2                  여자 : 남자     =      2.1 : 1.0\n",
      "                count(k) = 2                  여자 : 남자     =      2.1 : 1.0\n",
      "                count(l) = 3                  여자 : 남자     =      2.1 : 1.0\n",
      "                  length = 3                  남자 : 여자     =      2.0 : 1.0\n",
      "                count(r) = 2                  남자 : 여자     =      2.0 : 1.0\n",
      "                  length = 2                  남자 : 여자     =      1.9 : 1.0\n",
      "                count(p) = 1                  남자 : 여자     =      1.9 : 1.0\n",
      "             last_letter = 'e'                여자 : 남자     =      1.9 : 1.0\n",
      "                count(y) = 2                  여자 : 남자     =      1.9 : 1.0\n",
      "            first_letter = 'c'                여자 : 남자     =      1.8 : 1.0\n",
      "             last_letter = 'h'                남자 : 여자     =      1.8 : 1.0\n",
      "                count(d) = 2                  남자 : 여자     =      1.8 : 1.0\n",
      "                count(u) = 1                  남자 : 여자     =      1.8 : 1.0\n",
      "             last_letter = 'l'                남자 : 여자     =      1.8 : 1.0\n",
      "                count(z) = 2                  여자 : 남자     =      1.7 : 1.0\n",
      "                count(e) = 2                  여자 : 남자     =      1.7 : 1.0\n",
      "                  length = 12                 남자 : 여자     =      1.7 : 1.0\n",
      "                  length = 15                 남자 : 여자     =      1.7 : 1.0\n",
      "            first_letter = 'y'                남자 : 여자     =      1.7 : 1.0\n",
      "             last_letter = 'x'                남자 : 여자     =      1.7 : 1.0\n",
      "                count(l) = 2                  여자 : 남자     =      1.7 : 1.0\n",
      "            first_letter = 'z'                남자 : 여자     =      1.6 : 1.0\n",
      "            first_letter = 'l'                여자 : 남자     =      1.6 : 1.0\n",
      "                count(m) = 2                  남자 : 여자     =      1.6 : 1.0\n",
      "                count(f) = 1                  남자 : 여자     =      1.6 : 1.0\n",
      "                count(p) = 2                  남자 : 여자     =      1.6 : 1.0\n",
      "                count(n) = 2                  여자 : 남자     =      1.6 : 1.0\n",
      "                count(z) = 1                  남자 : 여자     =      1.6 : 1.0\n",
      "                count(t) = 2                  여자 : 남자     =      1.6 : 1.0\n",
      "                count(b) = 2                  여자 : 남자     =      1.5 : 1.0\n",
      "                count(v) = 1                  남자 : 여자     =      1.5 : 1.0\n",
      "                count(n) = 3                  여자 : 남자     =      1.5 : 1.0\n",
      "                count(a) = 0                  남자 : 여자     =      1.5 : 1.0\n",
      "            first_letter = 't'                남자 : 여자     =      1.5 : 1.0\n",
      "            first_letter = 'm'                여자 : 남자     =      1.5 : 1.0\n",
      "                count(g) = 1                  남자 : 여자     =      1.5 : 1.0\n",
      "            first_letter = 'r'                남자 : 여자     =      1.4 : 1.0\n",
      "                count(o) = 1                  남자 : 여자     =      1.4 : 1.0\n",
      "                count(h) = 1                  남자 : 여자     =      1.4 : 1.0\n",
      "            first_letter = 'p'                남자 : 여자     =      1.4 : 1.0\n",
      "                count(c) = 2                  여자 : 남자     =      1.4 : 1.0\n",
      "                  length = 10                 여자 : 남자     =      1.4 : 1.0\n",
      "                count(t) = 3                  여자 : 남자     =      1.4 : 1.0\n",
      "                count(s) = 2                  여자 : 남자     =      1.3 : 1.0\n",
      "            first_letter = 's'                남자 : 여자     =      1.3 : 1.0\n",
      "            first_letter = 'd'                여자 : 남자     =      1.3 : 1.0\n",
      "                count(i) = 1                  여자 : 남자     =      1.3 : 1.0\n",
      "                count(i) = 0                  남자 : 여자     =      1.3 : 1.0\n",
      "                count(s) = 1                  남자 : 여자     =      1.3 : 1.0\n",
      "                  length = 9                  여자 : 남자     =      1.3 : 1.0\n",
      "                count(t) = 1                  남자 : 여자     =      1.3 : 1.0\n",
      "                count(b) = 1                  남자 : 여자     =      1.3 : 1.0\n",
      "            first_letter = 'g'                남자 : 여자     =      1.3 : 1.0\n",
      "            first_letter = 'n'                여자 : 남자     =      1.3 : 1.0\n",
      "                count(x) = 1                  남자 : 여자     =      1.3 : 1.0\n",
      "                count(l) = 1                  여자 : 남자     =      1.3 : 1.0\n",
      "                count(e) = 4                  여자 : 남자     =      1.2 : 1.0\n",
      "            first_letter = 'i'                여자 : 남자     =      1.2 : 1.0\n",
      "            first_letter = 'o'                남자 : 여자     =      1.2 : 1.0\n",
      "                count(s) = 3                  남자 : 여자     =      1.2 : 1.0\n",
      "            first_letter = 'e'                여자 : 남자     =      1.2 : 1.0\n",
      "            first_letter = 'v'                여자 : 남자     =      1.2 : 1.0\n"
     ]
    }
   ],
   "source": [
    "classifier.show_most_informative_features(100)"
   ]
  },
  {
   "cell_type": "code",
   "execution_count": 22,
   "metadata": {},
   "outputs": [],
   "source": [
    ">>> train_names = labeled_names[1500:]\n",
    ">>> devtest_names = labeled_names[500:1500]\n",
    ">>> test_names = labeled_names[:500]"
   ]
  },
  {
   "cell_type": "code",
   "execution_count": 23,
   "metadata": {},
   "outputs": [
    {
     "name": "stdout",
     "output_type": "stream",
     "text": [
      "0.732\n"
     ]
    }
   ],
   "source": [
    "train_set = [(gender_features(n), gender) for (n, gender) in train_names]\n",
    "devtest_set = [(gender_features(n), gender) for (n, gender) in devtest_names]\n",
    "test_set = [(gender_features(n), gender) for (n, gender) in test_names]\n",
    "classifier = nltk.NaiveBayesClassifier.train(train_set)\n",
    "print(nltk.classify.accuracy(classifier, devtest_set)) "
   ]
  },
  {
   "cell_type": "code",
   "execution_count": 24,
   "metadata": {},
   "outputs": [
    {
     "data": {
      "text/plain": [
       "[({'last_letter': 'n'}, '여자'),\n",
       " ({'last_letter': 'a'}, '여자'),\n",
       " ({'last_letter': 'a'}, '여자'),\n",
       " ({'last_letter': 'y'}, '남자'),\n",
       " ({'last_letter': 'a'}, '여자'),\n",
       " ({'last_letter': 'e'}, '여자'),\n",
       " ({'last_letter': 'u'}, '남자'),\n",
       " ({'last_letter': 'a'}, '여자'),\n",
       " ({'last_letter': 'n'}, '남자'),\n",
       " ({'last_letter': 'n'}, '남자'),\n",
       " ({'last_letter': 'm'}, '남자'),\n",
       " ({'last_letter': 'a'}, '여자'),\n",
       " ({'last_letter': 'a'}, '여자'),\n",
       " ({'last_letter': 'a'}, '여자'),\n",
       " ({'last_letter': 'd'}, '남자'),\n",
       " ({'last_letter': 'd'}, '남자'),\n",
       " ({'last_letter': 't'}, '남자'),\n",
       " ({'last_letter': 'n'}, '남자'),\n",
       " ({'last_letter': 'a'}, '여자'),\n",
       " ({'last_letter': 'l'}, '남자')]"
      ]
     },
     "execution_count": 24,
     "metadata": {},
     "output_type": "execute_result"
    }
   ],
   "source": [
    "train_set[:20]"
   ]
  },
  {
   "cell_type": "code",
   "execution_count": 25,
   "metadata": {},
   "outputs": [],
   "source": [
    "errors = []\n",
    "for (name, tag) in devtest_names:\n",
    "    guess = classifier.classify(gender_features(name))\n",
    "    if guess != tag:\n",
    "        errors.append( (tag, guess, name) )"
   ]
  },
  {
   "cell_type": "code",
   "execution_count": 26,
   "metadata": {},
   "outputs": [
    {
     "name": "stdout",
     "output_type": "stream",
     "text": [
      "correct=남자       guess=여자       name=Abbey                         \n",
      "correct=남자       guess=여자       name=Alaa                          \n",
      "correct=남자       guess=여자       name=Ambrosi                       \n",
      "correct=남자       guess=여자       name=Anatoly                       \n",
      "correct=남자       guess=여자       name=Andri                         \n",
      "correct=남자       guess=여자       name=Angie                         \n",
      "correct=남자       guess=여자       name=Aristotle                     \n",
      "correct=남자       guess=여자       name=Bailey                        \n",
      "correct=남자       guess=여자       name=Baily                         \n",
      "correct=남자       guess=여자       name=Bartolomei                    \n",
      "correct=남자       guess=여자       name=Bentley                       \n",
      "correct=남자       guess=여자       name=Berkley                       \n",
      "correct=남자       guess=여자       name=Billy                         \n",
      "correct=남자       guess=여자       name=Blayne                        \n",
      "correct=남자       guess=여자       name=Bobby                         \n",
      "correct=남자       guess=여자       name=Boniface                      \n",
      "correct=남자       guess=여자       name=Bradley                       \n",
      "correct=남자       guess=여자       name=Bradly                        \n",
      "correct=남자       guess=여자       name=Carlie                        \n",
      "correct=남자       guess=여자       name=Carlyle                       \n",
      "correct=남자       guess=여자       name=Chane                         \n",
      "correct=남자       guess=여자       name=Christie                      \n",
      "correct=남자       guess=여자       name=Connolly                      \n",
      "correct=남자       guess=여자       name=Corrie                        \n",
      "correct=남자       guess=여자       name=Costa                         \n",
      "correct=남자       guess=여자       name=Courtney                      \n",
      "correct=남자       guess=여자       name=Daryle                        \n",
      "correct=남자       guess=여자       name=Demetri                       \n",
      "correct=남자       guess=여자       name=Doyle                         \n",
      "correct=남자       guess=여자       name=Durante                       \n",
      "correct=남자       guess=여자       name=Earle                         \n",
      "correct=남자       guess=여자       name=Erich                         \n",
      "correct=남자       guess=여자       name=Ezra                          \n",
      "correct=남자       guess=여자       name=Fonsie                        \n",
      "correct=남자       guess=여자       name=Freddy                        \n",
      "correct=남자       guess=여자       name=Friedrich                     \n",
      "correct=남자       guess=여자       name=Gabriele                      \n",
      "correct=남자       guess=여자       name=Gale                          \n",
      "correct=남자       guess=여자       name=Garvey                        \n",
      "correct=남자       guess=여자       name=Gayle                         \n",
      "correct=남자       guess=여자       name=Gene                          \n",
      "correct=남자       guess=여자       name=Geoffry                       \n",
      "correct=남자       guess=여자       name=Geri                          \n",
      "correct=남자       guess=여자       name=Gerome                        \n",
      "correct=남자       guess=여자       name=Godfree                       \n",
      "correct=남자       guess=여자       name=Gordie                        \n",
      "correct=남자       guess=여자       name=Hadleigh                      \n",
      "correct=남자       guess=여자       name=Harley                        \n",
      "correct=남자       guess=여자       name=Hartley                       \n",
      "correct=남자       guess=여자       name=Iggy                          \n",
      "correct=남자       guess=여자       name=Isa                           \n",
      "correct=남자       guess=여자       name=Jeffrey                       \n",
      "correct=남자       guess=여자       name=Jerri                         \n",
      "correct=남자       guess=여자       name=Jessey                        \n",
      "correct=남자       guess=여자       name=Jeth                          \n",
      "correct=남자       guess=여자       name=Johny                         \n",
      "correct=남자       guess=여자       name=Jonny                         \n",
      "correct=남자       guess=여자       name=Jordy                         \n",
      "correct=남자       guess=여자       name=Jory                          \n",
      "correct=남자       guess=여자       name=Jose                          \n",
      "correct=남자       guess=여자       name=Jude                          \n",
      "correct=남자       guess=여자       name=Kalle                         \n",
      "correct=남자       guess=여자       name=Kane                          \n",
      "correct=남자       guess=여자       name=Kelley                        \n",
      "correct=남자       guess=여자       name=Kerry                         \n",
      "correct=남자       guess=여자       name=Kory                          \n",
      "correct=남자       guess=여자       name=Laurence                      \n",
      "correct=남자       guess=여자       name=Lindsey                       \n",
      "correct=남자       guess=여자       name=Lorrie                        \n",
      "correct=남자       guess=여자       name=Manny                         \n",
      "correct=남자       guess=여자       name=Marlowe                       \n",
      "correct=남자       guess=여자       name=Merle                         \n",
      "correct=남자       guess=여자       name=Micah                         \n",
      "correct=남자       guess=여자       name=Michele                       \n",
      "correct=남자       guess=여자       name=Mickie                        \n",
      "correct=남자       guess=여자       name=Moe                           \n",
      "correct=남자       guess=여자       name=Montague                      \n",
      "correct=남자       guess=여자       name=Mose                          \n",
      "correct=남자       guess=여자       name=Mustafa                       \n",
      "correct=남자       guess=여자       name=Noble                         \n",
      "correct=남자       guess=여자       name=Noe                           \n",
      "correct=남자       guess=여자       name=Osbourne                      \n",
      "correct=남자       guess=여자       name=Ossie                         \n",
      "correct=남자       guess=여자       name=Ozzie                         \n",
      "correct=남자       guess=여자       name=Pasquale                      \n",
      "correct=남자       guess=여자       name=Patrice                       \n",
      "correct=남자       guess=여자       name=Petey                         \n",
      "correct=남자       guess=여자       name=Pierre                        \n",
      "correct=남자       guess=여자       name=Price                         \n",
      "correct=남자       guess=여자       name=Prince                        \n",
      "correct=남자       guess=여자       name=Quincy                        \n",
      "correct=남자       guess=여자       name=Rafe                          \n",
      "correct=남자       guess=여자       name=Rene                          \n",
      "correct=남자       guess=여자       name=Reube                         \n",
      "correct=남자       guess=여자       name=Richy                         \n",
      "correct=남자       guess=여자       name=Ricki                         \n",
      "correct=남자       guess=여자       name=Rikki                         \n",
      "correct=남자       guess=여자       name=Ripley                        \n",
      "correct=남자       guess=여자       name=Rodolphe                      \n",
      "correct=남자       guess=여자       name=Ronny                         \n",
      "correct=남자       guess=여자       name=Ruddy                         \n",
      "correct=남자       guess=여자       name=Rudie                         \n",
      "correct=남자       guess=여자       name=Rudolph                       \n",
      "correct=남자       guess=여자       name=Rusty                         \n",
      "correct=남자       guess=여자       name=Saundra                       \n",
      "correct=남자       guess=여자       name=Sergei                        \n",
      "correct=남자       guess=여자       name=Shea                          \n",
      "correct=남자       guess=여자       name=Shorty                        \n",
      "correct=남자       guess=여자       name=Siffre                        \n",
      "correct=남자       guess=여자       name=Sloane                        \n",
      "correct=남자       guess=여자       name=Stanleigh                     \n",
      "correct=남자       guess=여자       name=Sterne                        \n",
      "correct=남자       guess=여자       name=Tabbie                        \n",
      "correct=남자       guess=여자       name=Tally                         \n",
      "correct=남자       guess=여자       name=Tammy                         \n",
      "correct=남자       guess=여자       name=Tedie                         \n",
      "correct=남자       guess=여자       name=Terrance                      \n",
      "correct=남자       guess=여자       name=Thayne                        \n",
      "correct=남자       guess=여자       name=Torre                         \n",
      "correct=남자       guess=여자       name=Towney                        \n",
      "correct=남자       guess=여자       name=Tracie                        \n",
      "correct=남자       guess=여자       name=Tulley                        \n",
      "correct=남자       guess=여자       name=Ty                            \n",
      "correct=남자       guess=여자       name=Uli                           \n",
      "correct=남자       guess=여자       name=Uriah                         \n",
      "correct=남자       guess=여자       name=Vasily                        \n",
      "correct=남자       guess=여자       name=Vassili                       \n",
      "correct=남자       guess=여자       name=Westley                       \n",
      "correct=남자       guess=여자       name=Witty                         \n",
      "correct=남자       guess=여자       name=Wolfy                         \n",
      "correct=남자       guess=여자       name=Worth                         \n",
      "correct=남자       guess=여자       name=Yale                          \n",
      "correct=남자       guess=여자       name=Zacharie                      \n",
      "correct=남자       guess=여자       name=Zachary                       \n",
      "correct=여자       guess=남자       name=Abagail                       \n",
      "correct=여자       guess=남자       name=Abigael                       \n",
      "correct=여자       guess=남자       name=Aidan                         \n",
      "correct=여자       guess=남자       name=Alix                          \n",
      "correct=여자       guess=남자       name=Allyson                       \n",
      "correct=여자       guess=남자       name=Amargo                        \n",
      "correct=여자       guess=남자       name=Anet                          \n",
      "correct=여자       guess=남자       name=Arabel                        \n",
      "correct=여자       guess=남자       name=Ardelis                       \n",
      "correct=여자       guess=남자       name=Aurel                         \n",
      "correct=여자       guess=남자       name=Beatriz                       \n",
      "correct=여자       guess=남자       name=Bev                           \n",
      "correct=여자       guess=남자       name=Brett                         \n",
      "correct=여자       guess=남자       name=Bridgett                      \n",
      "correct=여자       guess=남자       name=Brittan                       \n",
      "correct=여자       guess=남자       name=Brooks                        \n",
      "correct=여자       guess=남자       name=Brynn                         \n",
      "correct=여자       guess=남자       name=Carlyn                        \n",
      "correct=여자       guess=남자       name=Caro                          \n",
      "correct=여자       guess=남자       name=Cathleen                      \n",
      "correct=여자       guess=남자       name=Charlot                       \n",
      "correct=여자       guess=남자       name=Charlott                      \n",
      "correct=여자       guess=남자       name=Cheryl                        \n",
      "correct=여자       guess=남자       name=Chrysler                      \n",
      "correct=여자       guess=남자       name=Clio                          \n",
      "correct=여자       guess=남자       name=Coleen                        \n",
      "correct=여자       guess=남자       name=Consuelo                      \n",
      "correct=여자       guess=남자       name=Coreen                        \n",
      "correct=여자       guess=남자       name=Cris                          \n",
      "correct=여자       guess=남자       name=Devan                         \n",
      "correct=여자       guess=남자       name=Devin                         \n",
      "correct=여자       guess=남자       name=Dionis                        \n",
      "correct=여자       guess=남자       name=Donnajean                     \n",
      "correct=여자       guess=남자       name=Dot                           \n",
      "correct=여자       guess=남자       name=Elinor                        \n",
      "correct=여자       guess=남자       name=Ellynn                        \n",
      "correct=여자       guess=남자       name=Emlyn                         \n",
      "correct=여자       guess=남자       name=Emlynn                        \n",
      "correct=여자       guess=남자       name=Emmalynn                      \n",
      "correct=여자       guess=남자       name=Esther                        \n",
      "correct=여자       guess=남자       name=Ethelin                       \n",
      "correct=여자       guess=남자       name=Ethelind                      \n",
      "correct=여자       guess=남자       name=Fran                          \n",
      "correct=여자       guess=남자       name=Gael                          \n",
      "correct=여자       guess=남자       name=Gates                         \n",
      "correct=여자       guess=남자       name=Gayleen                       \n",
      "correct=여자       guess=남자       name=Gillian                       \n",
      "correct=여자       guess=남자       name=Glyn                          \n",
      "correct=여자       guess=남자       name=Glynis                        \n",
      "correct=여자       guess=남자       name=Glynnis                       \n",
      "correct=여자       guess=남자       name=Greer                         \n",
      "correct=여자       guess=남자       name=Gus                           \n",
      "correct=여자       guess=남자       name=Gwendolen                     \n",
      "correct=여자       guess=남자       name=Hannis                        \n",
      "correct=여자       guess=남자       name=Heather                       \n",
      "correct=여자       guess=남자       name=Honor                         \n",
      "correct=여자       guess=남자       name=Isabel                        \n",
      "correct=여자       guess=남자       name=Jaclin                        \n",
      "correct=여자       guess=남자       name=Janean                        \n",
      "correct=여자       guess=남자       name=Janet                         \n",
      "correct=여자       guess=남자       name=Jaquelin                      \n",
      "correct=여자       guess=남자       name=Jen                           \n",
      "correct=여자       guess=남자       name=Jessamyn                      \n",
      "correct=여자       guess=남자       name=JoAnn                         \n",
      "correct=여자       guess=남자       name=Joan                          \n",
      "correct=여자       guess=남자       name=Jocelin                       \n",
      "correct=여자       guess=남자       name=Jonell                        \n",
      "correct=여자       guess=남자       name=Joselyn                       \n",
      "correct=여자       guess=남자       name=Joyann                        \n",
      "correct=여자       guess=남자       name=Juliet                        \n",
      "correct=여자       guess=남자       name=Kaitlynn                      \n",
      "correct=여자       guess=남자       name=Karlen                        \n",
      "correct=여자       guess=남자       name=Karlyn                        \n",
      "correct=여자       guess=남자       name=Karylin                       \n",
      "correct=여자       guess=남자       name=Katalin                       \n",
      "correct=여자       guess=남자       name=Katleen                       \n",
      "correct=여자       guess=남자       name=Kerrill                       \n",
      "correct=여자       guess=남자       name=Koren                         \n",
      "correct=여자       guess=남자       name=Kristien                      \n",
      "correct=여자       guess=남자       name=Lark                          \n",
      "correct=여자       guess=남자       name=Laureen                       \n",
      "correct=여자       guess=남자       name=Lian                          \n",
      "correct=여자       guess=남자       name=Linnell                       \n",
      "correct=여자       guess=남자       name=Lois                          \n",
      "correct=여자       guess=남자       name=Loreen                        \n",
      "correct=여자       guess=남자       name=Lyndell                       \n",
      "correct=여자       guess=남자       name=Lynnell                       \n",
      "correct=여자       guess=남자       name=Madelon                       \n",
      "correct=여자       guess=남자       name=Mag                           \n",
      "correct=여자       guess=남자       name=Mair                          \n",
      "correct=여자       guess=남자       name=Mariann                       \n",
      "correct=여자       guess=남자       name=Maribel                       \n",
      "correct=여자       guess=남자       name=Marieann                      \n",
      "correct=여자       guess=남자       name=Marylou                       \n",
      "correct=여자       guess=남자       name=Maureen                       \n",
      "correct=여자       guess=남자       name=Meagan                        \n",
      "correct=여자       guess=남자       name=Mellisent                     \n",
      "correct=여자       guess=남자       name=Meris                         \n",
      "correct=여자       guess=남자       name=Milissent                     \n",
      "correct=여자       guess=남자       name=Miran                         \n",
      "correct=여자       guess=남자       name=Noel                          \n",
      "correct=여자       guess=남자       name=Noelyn                        \n",
      "correct=여자       guess=남자       name=Noreen                        \n",
      "correct=여자       guess=남자       name=Pet                           \n",
      "correct=여자       guess=남자       name=Phylis                        \n",
      "correct=여자       guess=남자       name=Piper                         \n",
      "correct=여자       guess=남자       name=Quentin                       \n",
      "correct=여자       guess=남자       name=Rachael                       \n",
      "correct=여자       guess=남자       name=Ragnhild                      \n",
      "correct=여자       guess=남자       name=Rhiamon                       \n",
      "correct=여자       guess=남자       name=Robin                         \n",
      "correct=여자       guess=남자       name=Robinet                       \n",
      "correct=여자       guess=남자       name=Robinett                      \n",
      "correct=여자       guess=남자       name=Rosabel                       \n",
      "correct=여자       guess=남자       name=Rosalind                      \n",
      "correct=여자       guess=남자       name=Roseann                       \n",
      "correct=여자       guess=남자       name=Row                           \n",
      "correct=여자       guess=남자       name=Sal                           \n",
      "correct=여자       guess=남자       name=Sharleen                      \n",
      "correct=여자       guess=남자       name=Shaylyn                       \n",
      "correct=여자       guess=남자       name=Sheila-Kathryn                \n",
      "correct=여자       guess=남자       name=Sher                          \n",
      "correct=여자       guess=남자       name=Sherill                       \n",
      "correct=여자       guess=남자       name=Sheryl                        \n",
      "correct=여자       guess=남자       name=Siobhan                       \n",
      "correct=여자       guess=남자       name=Starlin                       \n",
      "correct=여자       guess=남자       name=Suellen                       \n",
      "correct=여자       guess=남자       name=Tamiko                        \n",
      "correct=여자       guess=남자       name=Theo                          \n",
      "correct=여자       guess=남자       name=Tiff                          \n",
      "correct=여자       guess=남자       name=Umeko                         \n",
      "correct=여자       guess=남자       name=Vivien                        \n",
      "correct=여자       guess=남자       name=Wynn                          \n",
      "correct=여자       guess=남자       name=Yehudit                       \n"
     ]
    }
   ],
   "source": [
    "for (tag, guess, name) in sorted(errors):\n",
    "    print('correct={:<8} guess={:<8s} name={:<30}'.format(tag, guess, name))"
   ]
  },
  {
   "cell_type": "code",
   "execution_count": 27,
   "metadata": {},
   "outputs": [],
   "source": [
    "def gender_features(word):\n",
    "    return {'suffix1': word[-1:],\n",
    "            'suffix2': word[-2:]}"
   ]
  },
  {
   "cell_type": "code",
   "execution_count": 28,
   "metadata": {},
   "outputs": [
    {
     "name": "stdout",
     "output_type": "stream",
     "text": [
      "0.743\n"
     ]
    }
   ],
   "source": [
    "train_set = [(gender_features(n), gender) for (n, gender) in train_names]\n",
    "devtest_set = [(gender_features(n), gender) for (n, gender) in devtest_names]\n",
    "classifier = nltk.NaiveBayesClassifier.train(train_set)\n",
    "print(nltk.classify.accuracy(classifier, devtest_set))"
   ]
  },
  {
   "cell_type": "code",
   "execution_count": 29,
   "metadata": {},
   "outputs": [
    {
     "data": {
      "text/plain": [
       "[('Helen', '여자'),\n",
       " ('Agneta', '여자'),\n",
       " ('Nicolea', '여자'),\n",
       " ('Casey', '남자'),\n",
       " ('Teressa', '여자'),\n",
       " ('Madelene', '여자'),\n",
       " ('Stu', '남자'),\n",
       " ('Shara', '여자'),\n",
       " ('Harlan', '남자'),\n",
       " ('Vin', '남자'),\n",
       " ('Rem', '남자'),\n",
       " ('Velma', '여자'),\n",
       " ('Felipa', '여자'),\n",
       " ('Rhianna', '여자'),\n",
       " ('Shepherd', '남자'),\n",
       " ('Durand', '남자'),\n",
       " ('Hebert', '남자'),\n",
       " ('Benn', '남자'),\n",
       " ('Sibilla', '여자'),\n",
       " ('Nathanael', '남자')]"
      ]
     },
     "execution_count": 29,
     "metadata": {},
     "output_type": "execute_result"
    }
   ],
   "source": [
    "# train_set[:20]\n",
    "train_names[:20]"
   ]
  }
 ],
 "metadata": {
  "kernelspec": {
   "display_name": "Python 3",
   "language": "python",
   "name": "python3"
  },
  "language_info": {
   "codemirror_mode": {
    "name": "ipython",
    "version": 3
   },
   "file_extension": ".py",
   "mimetype": "text/x-python",
   "name": "python",
   "nbconvert_exporter": "python",
   "pygments_lexer": "ipython3",
   "version": "3.6.6"
  }
 },
 "nbformat": 4,
 "nbformat_minor": 2
}
