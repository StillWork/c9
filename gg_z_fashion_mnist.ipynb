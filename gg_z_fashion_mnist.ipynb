{
  "nbformat": 4,
  "nbformat_minor": 0,
  "metadata": {
    "colab": {
      "name": "gg-z-fashion_mnist",
      "version": "0.3.2",
      "provenance": [],
      "collapsed_sections": [],
      "include_colab_link": true
    },
    "kernelspec": {
      "name": "python3",
      "display_name": "Python 3"
    },
    "accelerator": "GPU"
  },
  "cells": [
    {
      "cell_type": "markdown",
      "metadata": {
        "id": "view-in-github",
        "colab_type": "text"
      },
      "source": [
        "<a href=\"https://colab.research.google.com/github/StillWork/c9/blob/master/gg_z_fashion_mnist.ipynb\" target=\"_parent\"><img src=\"https://colab.research.google.com/assets/colab-badge.svg\" alt=\"Open In Colab\"/></a>"
      ]
    },
    {
      "metadata": {
        "id": "r2NPAI4jZZgi",
        "colab_type": "text"
      },
      "cell_type": "markdown",
      "source": [
        "# Fashion-MNIST\n",
        "\n",
        "<br> By Margaret Maynard-Reid, 4/24/2018\n",
        "\n",
        "![alt text](https://github.com/margaretmz/deep-learning/blob/master/images/modern%20dl_fash-mnist_keras.png?raw=1)"
      ]
    },
    {
      "metadata": {
        "id": "XLMRPLVCFwEc",
        "colab_type": "text"
      },
      "cell_type": "markdown",
      "source": [
        "## Fashion-MNIST?\n",
        "\n",
        "paper [here](https://arxiv.org/abs/1708.07747) \n"
      ]
    },
    {
      "metadata": {
        "id": "Ixyte299ZZgk",
        "colab_type": "text"
      },
      "cell_type": "markdown",
      "source": [
        "## Overview\n",
        "\n",
        "<br> **Notebook location on github**: https://github.com/margaretmz/deep-learning/blob/master/fashion_mnist_keras.ipynb\n",
        "\n",
        "The [fashion_mnist](https://github.com/zalandoresearch/fashion-mnist)\n",
        "\n",
        "훈련 데이터: 60,000  \n",
        "테스트 데이터:10,000  \n",
        "카테고리: 10  \n",
        "그레이 스케일 이미지: 28x28\n",
        "\n",
        "<br> 레이블\n",
        "<br> 0 T-shirt/top\n",
        "<br> 1 Trouser\n",
        "<br> 2 Pullover\n",
        "<br> 3 Dress\n",
        "<br> 4 Coat\n",
        "<br> 5 Sandal\n",
        "<br> 6 Shirt\n",
        "<br> 7 Sneaker\n",
        "<br> 8 Bag\n",
        "<br> 9 Ankle boot\n"
      ]
    },
    {
      "metadata": {
        "id": "1jQGPl2l7kF7",
        "colab_type": "toc"
      },
      "cell_type": "markdown",
      "source": [
        ">[Fashion-MNIST](#scrollTo=r2NPAI4jZZgi)\n",
        "\n",
        ">>[Fashion-MNIST?](#scrollTo=XLMRPLVCFwEc)\n",
        "\n",
        ">>[Overview](#scrollTo=Ixyte299ZZgk)\n",
        "\n",
        ">>[데이터 다운로드](#scrollTo=LbCigZtNZZgl)\n",
        "\n",
        ">>[Visualize the data](#scrollTo=tWORMSC8FDR4)\n",
        "\n",
        ">>[Data normalization](#scrollTo=Zx-Ee6LHZZgt)\n",
        "\n",
        ">>[훈련, 검증, 테스트 데이터](#scrollTo=CFlNHktHBtru)\n",
        "\n",
        ">>[모델 생성](#scrollTo=HhalcO03ZZg3)\n",
        "\n",
        ">>[모델 컴파일](#scrollTo=FhxJ5dinZZg8)\n",
        "\n",
        ">>[훈련](#scrollTo=DtOvh3YVZZg_)\n",
        "\n",
        ">>[최상의 모델 파라미터](#scrollTo=e-MGLwZQy05d)\n",
        "\n",
        ">>[정확도 (score)](#scrollTo=9RTRkan4yq5H)\n",
        "\n",
        ">>[예측 시각화](#scrollTo=oJv7XEk10bOv)\n",
        "\n",
        ">>[결과는 90% 정확도](#scrollTo=8AehWdRAVKN5)\n",
        "\n"
      ]
    },
    {
      "metadata": {
        "id": "LbCigZtNZZgl",
        "colab_type": "text"
      },
      "cell_type": "markdown",
      "source": [
        "## 데이터 다운로드"
      ]
    },
    {
      "metadata": {
        "id": "d44TznbgZZgm",
        "colab_type": "code",
        "outputId": "f2378afe-14e1-464b-ed86-2b2cf787362d",
        "colab": {
          "base_uri": "https://localhost:8080/",
          "height": 35
        }
      },
      "cell_type": "code",
      "source": [
        "# !pip install -q -U tensorflow>=1.8.0\n",
        "# import tensorflow as tf\n",
        "import keras\n",
        "\n",
        "import numpy as np\n",
        "import matplotlib.pyplot as plt\n",
        "\n",
        "# Load the fashion-mnist pre-shuffled train data and test data\n",
        "(x_train, y_train), (x_test, y_test) = keras.datasets.fashion_mnist.load_data()\n",
        "\n",
        "print(\"x_train shape:\", x_train.shape, \"y_train shape:\", y_train.shape)"
      ],
      "execution_count": 11,
      "outputs": [
        {
          "output_type": "stream",
          "text": [
            "x_train shape: (60000, 28, 28) y_train shape: (60000,)\n"
          ],
          "name": "stdout"
        }
      ]
    },
    {
      "metadata": {
        "id": "tWORMSC8FDR4",
        "colab_type": "text"
      },
      "cell_type": "markdown",
      "source": [
        "## Visualize the data"
      ]
    },
    {
      "metadata": {
        "id": "aFe4wHGRFKle",
        "colab_type": "code",
        "outputId": "66690479-f3ef-451c-f60b-54fb16ff1354",
        "colab": {
          "base_uri": "https://localhost:8080/",
          "height": 437
        }
      },
      "cell_type": "code",
      "source": [
        "# Print training set shape - note there are 60,000 training data of image size of 28x28, 60,000 train labels)\n",
        "print(\"x_train shape:\", x_train.shape, \"y_train shape:\", y_train.shape)\n",
        "\n",
        "# Print the number of training and test datasets\n",
        "print(x_train.shape[0], 'train set')\n",
        "print(x_test.shape[0], 'test set')\n",
        "\n",
        "# Define the text labels\n",
        "fashion_mnist_labels = [\"T-shirt/top\",  # index 0\n",
        "                        \"Trouser\",      # index 1\n",
        "                        \"Pullover\",     # index 2 \n",
        "                        \"Dress\",        # index 3 \n",
        "                        \"Coat\",         # index 4\n",
        "                        \"Sandal\",       # index 5\n",
        "                        \"Shirt\",        # index 6 \n",
        "                        \"Sneaker\",      # index 7 \n",
        "                        \"Bag\",          # index 8 \n",
        "                        \"Ankle boot\"]   # index 9\n",
        "\n",
        "# Image index, you can pick any number between 0 and 59,999\n",
        "img_index = 5\n",
        "# y_train contains the lables, ranging from 0 to 9\n",
        "label_index = y_train[img_index]\n",
        "# Print the label, for example 2 Pullover\n",
        "print (\"y = \" + str(label_index) + \" \" +(fashion_mnist_labels[label_index]))\n",
        "\n",
        "# 이미지에서 그리드를 없앤다\n",
        "plt.axis('off')\n",
        "plt.imshow(x_train[img_index])"
      ],
      "execution_count": 12,
      "outputs": [
        {
          "output_type": "stream",
          "text": [
            "x_train shape: (60000, 28, 28) y_train shape: (60000,)\n",
            "60000 train set\n",
            "10000 test set\n",
            "y = 2 Pullover\n"
          ],
          "name": "stdout"
        },
        {
          "output_type": "execute_result",
          "data": {
            "text/plain": [
              "<matplotlib.image.AxesImage at 0x7f3ad9762908>"
            ]
          },
          "metadata": {
            "tags": []
          },
          "execution_count": 12
        },
        {
          "output_type": "display_data",
          "data": {
            "image/png": "[encoded data removed]",
            "text/plain": [
              "<Figure size 576x396 with 1 Axes>"
            ]
          },
          "metadata": {
            "tags": []
          }
        }
      ]
    },
    {
      "metadata": {
        "id": "Zx-Ee6LHZZgt",
        "colab_type": "text"
      },
      "cell_type": "markdown",
      "source": [
        "## Data normalization\n",
        "Normalize the data dimensions so that they are of approximately the same scale."
      ]
    },
    {
      "metadata": {
        "id": "XNh5NIckZZgu",
        "colab_type": "code",
        "colab": {}
      },
      "cell_type": "code",
      "source": [
        "x_train = x_train.astype('float32') / 255\n",
        "x_test = x_test.astype('float32') / 255"
      ],
      "execution_count": 0,
      "outputs": []
    },
    {
      "metadata": {
        "id": "LMSg53fiZZgx",
        "colab_type": "code",
        "outputId": "0534be83-b26d-4629-9bd3-476dd3ac6f57",
        "colab": {
          "base_uri": "https://localhost:8080/",
          "height": 53
        }
      },
      "cell_type": "code",
      "source": [
        "print(\"Number of train data - \" + str(len(x_train)))\n",
        "print(\"Number of test data - \" + str(len(x_test)))"
      ],
      "execution_count": 14,
      "outputs": [
        {
          "output_type": "stream",
          "text": [
            "Number of train data - 60000\n",
            "Number of test data - 10000\n"
          ],
          "name": "stdout"
        }
      ]
    },
    {
      "metadata": {
        "id": "CFlNHktHBtru",
        "colab_type": "text"
      },
      "cell_type": "markdown",
      "source": [
        "## 훈련, 검증, 테스트 데이터\n"
      ]
    },
    {
      "metadata": {
        "id": "1ShU787gZZg0",
        "colab_type": "code",
        "outputId": "54051253-4b2d-45de-e816-db650e063d68",
        "colab": {
          "base_uri": "https://localhost:8080/",
          "height": 89
        }
      },
      "cell_type": "code",
      "source": [
        "# Further break training data into train / validation sets (# put 5000 into validation set and keep remaining 55,000 for train)\n",
        "(x_train, x_valid) = x_train[5000:], x_train[:5000] \n",
        "(y_train, y_valid) = y_train[5000:], y_train[:5000]\n",
        "\n",
        "# Reshape input data from (28, 28) to (28, 28, 1)\n",
        "w, h = 28, 28\n",
        "x_train = x_train.reshape(x_train.shape[0], w, h, 1)\n",
        "x_valid = x_valid.reshape(x_valid.shape[0], w, h, 1)\n",
        "x_test = x_test.reshape(x_test.shape[0], w, h, 1)\n",
        "\n",
        "# One-hot encode the labels\n",
        "y_train = keras.utils.to_categorical(y_train, 10)\n",
        "y_valid = keras.utils.to_categorical(y_valid, 10)\n",
        "y_test = keras.utils.to_categorical(y_test, 10)\n",
        "\n",
        "# Print training set shape\n",
        "print(\"x_train shape:\", x_train.shape, \"y_train shape:\", y_train.shape)\n",
        "\n",
        "# Print the number of training, validation, and test datasets\n",
        "print(x_train.shape[0], 'train set')\n",
        "print(x_valid.shape[0], 'validation set')\n",
        "print(x_test.shape[0], 'test set')"
      ],
      "execution_count": 15,
      "outputs": [
        {
          "output_type": "stream",
          "text": [
            "x_train shape: (55000, 28, 28, 1) y_train shape: (55000, 10)\n",
            "55000 train set\n",
            "5000 validation set\n",
            "10000 test set\n"
          ],
          "name": "stdout"
        }
      ]
    },
    {
      "metadata": {
        "id": "HhalcO03ZZg3",
        "colab_type": "text"
      },
      "cell_type": "markdown",
      "source": [
        "## 모델 생성\n"
      ]
    },
    {
      "metadata": {
        "id": "QgTZ47SsZZg4",
        "colab_type": "code",
        "outputId": "b68a8bf3-69f8-4296-f62c-6fff6308b9e6",
        "colab": {
          "base_uri": "https://localhost:8080/",
          "height": 631
        }
      },
      "cell_type": "code",
      "source": [
        "from keras import layers\n",
        "from keras import models\n",
        "from keras import Sequential\n",
        "from keras.layers import Conv2D, MaxPooling2D, ZeroPadding2D\n",
        "from keras.layers import Dense, Activation, Dropout, Flatten\n",
        "\n",
        "model = Sequential()\n",
        "\n",
        "# Must define the input shape in the first layer of the neural network\n",
        "model.add(Conv2D(filters=64, kernel_size=2, padding='same', \n",
        "                 activation='relu', input_shape=(28,28,1))) \n",
        "model.add(MaxPooling2D(pool_size=2))\n",
        "model.add(Dropout(0.3))\n",
        "\n",
        "model.add(Conv2D(filters=32, kernel_size=2, padding='same', activation='relu'))\n",
        "model.add(MaxPooling2D(pool_size=2))\n",
        "model.add(Dropout(0.3))\n",
        "\n",
        "model.add(Flatten())\n",
        "model.add(Dense(256, activation='relu'))\n",
        "model.add(Dropout(0.5))\n",
        "model.add(Dense(10, activation='softmax'))\n",
        "\n",
        "# Take a look at the model summary\n",
        "model.summary()"
      ],
      "execution_count": 16,
      "outputs": [
        {
          "output_type": "stream",
          "text": [
            "WARNING:tensorflow:From /usr/local/lib/python3.6/dist-packages/tensorflow/python/framework/op_def_library.py:263: colocate_with (from tensorflow.python.framework.ops) is deprecated and will be removed in a future version.\n",
            "Instructions for updating:\n",
            "Colocations handled automatically by placer.\n",
            "WARNING:tensorflow:From /usr/local/lib/python3.6/dist-packages/keras/backend/tensorflow_backend.py:3445: calling dropout (from tensorflow.python.ops.nn_ops) with keep_prob is deprecated and will be removed in a future version.\n",
            "Instructions for updating:\n",
            "Please use `rate` instead of `keep_prob`. Rate should be set to `rate = 1 - keep_prob`.\n",
            "_________________________________________________________________\n",
            "Layer (type)                 Output Shape              Param #   \n",
            "=================================================================\n",
            "conv2d_1 (Conv2D)            (None, 28, 28, 64)        320       \n",
            "_________________________________________________________________\n",
            "max_pooling2d_1 (MaxPooling2 (None, 14, 14, 64)        0         \n",
            "_________________________________________________________________\n",
            "dropout_1 (Dropout)          (None, 14, 14, 64)        0         \n",
            "_________________________________________________________________\n",
            "conv2d_2 (Conv2D)            (None, 14, 14, 32)        8224      \n",
            "_________________________________________________________________\n",
            "max_pooling2d_2 (MaxPooling2 (None, 7, 7, 32)          0         \n",
            "_________________________________________________________________\n",
            "dropout_2 (Dropout)          (None, 7, 7, 32)          0         \n",
            "_________________________________________________________________\n",
            "flatten_1 (Flatten)          (None, 1568)              0         \n",
            "_________________________________________________________________\n",
            "dense_1 (Dense)              (None, 256)               401664    \n",
            "_________________________________________________________________\n",
            "dropout_3 (Dropout)          (None, 256)               0         \n",
            "_________________________________________________________________\n",
            "dense_2 (Dense)              (None, 10)                2570      \n",
            "=================================================================\n",
            "Total params: 412,778\n",
            "Trainable params: 412,778\n",
            "Non-trainable params: 0\n",
            "_________________________________________________________________\n"
          ],
          "name": "stdout"
        }
      ]
    },
    {
      "metadata": {
        "id": "FhxJ5dinZZg8",
        "colab_type": "text"
      },
      "cell_type": "markdown",
      "source": [
        "## 모델 컴파일"
      ]
    },
    {
      "metadata": {
        "id": "CQUlOa8cZZg9",
        "colab_type": "code",
        "colab": {}
      },
      "cell_type": "code",
      "source": [
        "model.compile(loss='categorical_crossentropy',\n",
        "             optimizer='adam',\n",
        "             metrics=['accuracy'])"
      ],
      "execution_count": 0,
      "outputs": []
    },
    {
      "metadata": {
        "id": "DtOvh3YVZZg_",
        "colab_type": "text"
      },
      "cell_type": "markdown",
      "source": [
        "## 훈련\n",
        "\n",
        " [ModelCheckpoint](https://keras.io/callbacks/#modelcheckpoint) \n",
        "\n",
        "- 매 이포크마다 결과를 저정하며  \"save_best_only = True\"를 설정하며 검증 성능이 개선될 때마다 기록\n"
      ]
    },
    {
      "metadata": {
        "id": "ZTmapAttZZhA",
        "colab_type": "code",
        "outputId": "3a8d0d2a-ec0b-40d6-dd7b-c0e456eb9591",
        "colab": {
          "base_uri": "https://localhost:8080/",
          "height": 793
        }
      },
      "cell_type": "code",
      "source": [
        "from keras.callbacks import ModelCheckpoint\n",
        "\n",
        "checkpointer = ModelCheckpoint(filepath='model.weights.best.hdf5', \n",
        "                               verbose = 1, save_best_only=True)\n",
        "model.fit(x_train,\n",
        "         y_train,\n",
        "         batch_size=64,\n",
        "         epochs=10,\n",
        "         validation_data=(x_valid, y_valid),\n",
        "         callbacks=[checkpointer])"
      ],
      "execution_count": 0,
      "outputs": [
        {
          "output_type": "stream",
          "text": [
            "WARNING:tensorflow:From /usr/local/lib/python3.6/dist-packages/tensorflow/python/ops/math_ops.py:3066: to_int32 (from tensorflow.python.ops.math_ops) is deprecated and will be removed in a future version.\n",
            "Instructions for updating:\n",
            "Use tf.cast instead.\n",
            "Train on 55000 samples, validate on 5000 samples\n",
            "Epoch 1/10\n",
            "55000/55000 [==============================] - 10s 181us/step - loss: 0.5917 - acc: 0.7834 - val_loss: 0.3789 - val_acc: 0.8662\n",
            "\n",
            "Epoch 00001: val_loss improved from inf to 0.37889, saving model to model.weights.best.hdf5\n",
            "Epoch 2/10\n",
            "55000/55000 [==============================] - 8s 150us/step - loss: 0.4067 - acc: 0.8519 - val_loss: 0.3203 - val_acc: 0.8872\n",
            "\n",
            "Epoch 00002: val_loss improved from 0.37889 to 0.32027, saving model to model.weights.best.hdf5\n",
            "Epoch 3/10\n",
            "55000/55000 [==============================] - 8s 150us/step - loss: 0.3655 - acc: 0.8681 - val_loss: 0.2888 - val_acc: 0.8976\n",
            "\n",
            "Epoch 00003: val_loss improved from 0.32027 to 0.28883, saving model to model.weights.best.hdf5\n",
            "Epoch 4/10\n",
            "55000/55000 [==============================] - 8s 150us/step - loss: 0.3389 - acc: 0.8768 - val_loss: 0.2786 - val_acc: 0.8980\n",
            "\n",
            "Epoch 00004: val_loss improved from 0.28883 to 0.27860, saving model to model.weights.best.hdf5\n",
            "Epoch 5/10\n",
            "55000/55000 [==============================] - 8s 150us/step - loss: 0.3206 - acc: 0.8820 - val_loss: 0.2594 - val_acc: 0.9050\n",
            "\n",
            "Epoch 00005: val_loss improved from 0.27860 to 0.25945, saving model to model.weights.best.hdf5\n",
            "Epoch 6/10\n",
            "55000/55000 [==============================] - 8s 150us/step - loss: 0.3030 - acc: 0.8882 - val_loss: 0.2462 - val_acc: 0.9104\n",
            "\n",
            "Epoch 00006: val_loss improved from 0.25945 to 0.24618, saving model to model.weights.best.hdf5\n",
            "Epoch 7/10\n",
            "55000/55000 [==============================] - 8s 149us/step - loss: 0.2904 - acc: 0.8921 - val_loss: 0.2462 - val_acc: 0.9110\n",
            "\n",
            "Epoch 00007: val_loss did not improve from 0.24618\n",
            "Epoch 8/10\n",
            "55000/55000 [==============================] - 8s 150us/step - loss: 0.2830 - acc: 0.8954 - val_loss: 0.2410 - val_acc: 0.9106\n",
            "\n",
            "Epoch 00008: val_loss improved from 0.24618 to 0.24099, saving model to model.weights.best.hdf5\n",
            "Epoch 9/10\n",
            "55000/55000 [==============================] - 8s 150us/step - loss: 0.2744 - acc: 0.8965 - val_loss: 0.2328 - val_acc: 0.9162\n",
            "\n",
            "Epoch 00009: val_loss improved from 0.24099 to 0.23282, saving model to model.weights.best.hdf5\n",
            "Epoch 10/10\n",
            "43584/55000 [======================>.......] - ETA: 1s - loss: 0.2614 - acc: 0.9027"
          ],
          "name": "stdout"
        }
      ]
    },
    {
      "metadata": {
        "id": "e-MGLwZQy05d",
        "colab_type": "text"
      },
      "cell_type": "markdown",
      "source": [
        "## 최상의 모델 파라미터"
      ]
    },
    {
      "metadata": {
        "id": "UD1tecxUZZhE",
        "colab_type": "code",
        "colab": {}
      },
      "cell_type": "code",
      "source": [
        "# Load the weights with the best validation accuracy\n",
        "model.load_weights('model.weights.best.hdf5')"
      ],
      "execution_count": 0,
      "outputs": []
    },
    {
      "metadata": {
        "id": "9RTRkan4yq5H",
        "colab_type": "text"
      },
      "cell_type": "markdown",
      "source": [
        "## 정확도 (score)"
      ]
    },
    {
      "metadata": {
        "id": "VZtqBqFFy62R",
        "colab_type": "code",
        "colab": {}
      },
      "cell_type": "code",
      "source": [
        "# Evaluate the model on test set\n",
        "score = model.evaluate(x_test, y_test, verbose=0)\n",
        "\n",
        "# Print test accuracy\n",
        "print('\\n', 'Test accuracy:', score[1])"
      ],
      "execution_count": 0,
      "outputs": []
    },
    {
      "metadata": {
        "id": "oJv7XEk10bOv",
        "colab_type": "text"
      },
      "cell_type": "markdown",
      "source": [
        "## 예측 시각화\n",
        "\n",
        "- 예측과 실제 레이블을 비교 (맞으면 초록색으로, 틀리면 붉은색으로)"
      ]
    },
    {
      "metadata": {
        "id": "QwNmlfIC0YxM",
        "colab_type": "code",
        "colab": {}
      },
      "cell_type": "code",
      "source": [
        "y_hat = model.predict(x_test)\n",
        "\n",
        "# Plot a random sample of 10 test images, their predicted labels and ground truth\n",
        "figure = plt.figure(figsize=(20, 8))\n",
        "for i, index in enumerate(np.random.choice(x_test.shape[0], size=15, replace=False)):\n",
        "    ax = figure.add_subplot(3, 5, i + 1, xticks=[], yticks=[])\n",
        "    # Display each image\n",
        "    ax.imshow(np.squeeze(x_test[index]))\n",
        "    predict_index = np.argmax(y_hat[index])\n",
        "    true_index = np.argmax(y_test[index])\n",
        "    # Set the title for each image\n",
        "    ax.set_title(\"{} ({})\".format(fashion_mnist_labels[predict_index], \n",
        "                                  fashion_mnist_labels[true_index]),\n",
        "                                  color=(\"green\" if predict_index == true_index else \"red\"))"
      ],
      "execution_count": 0,
      "outputs": []
    },
    {
      "metadata": {
        "id": "8AehWdRAVKN5",
        "colab_type": "text"
      },
      "cell_type": "markdown",
      "source": [
        "## 결과는 90% 정확도"
      ]
    }
  ]
}