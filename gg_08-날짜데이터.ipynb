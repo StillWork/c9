{
 "cells": [
  {
   "cell_type": "code",
   "execution_count": 14,
   "metadata": {},
   "outputs": [
    {
     "name": "stdout",
     "output_type": "stream",
     "text": [
      "2019-02-17 14:54:11.613367\n"
     ]
    }
   ],
   "source": [
    "from datetime import datetime\n",
    "\n",
    "now = datetime.now()\n",
    "print (now)"
   ]
  },
  {
   "cell_type": "code",
   "execution_count": 15,
   "metadata": {},
   "outputs": [
    {
     "name": "stdout",
     "output_type": "stream",
     "text": [
      "2019\n",
      "2\n",
      "17\n"
     ]
    }
   ],
   "source": [
    "# 03 정보 추출하기\n",
    "\n",
    "now = datetime.now()\n",
    "print (now.year)\n",
    "print (now.month)\n",
    "print (now.day)"
   ]
  },
  {
   "cell_type": "code",
   "execution_count": 16,
   "metadata": {},
   "outputs": [
    {
     "name": "stdout",
     "output_type": "stream",
     "text": [
      "2/17/2019\n"
     ]
    }
   ],
   "source": [
    "# 04 날짜 정보 다듬기\n",
    "\n",
    "now = datetime.now()\n",
    "print (str(now.month) + \"/\" + str(now.day) + \"/\" + str(now.year))"
   ]
  },
  {
   "cell_type": "code",
   "execution_count": 18,
   "metadata": {},
   "outputs": [
    {
     "name": "stdout",
     "output_type": "stream",
     "text": [
      "14:59:56\n"
     ]
    }
   ],
   "source": [
    "# 05 시간 정보 다듬기\n",
    "\n",
    "now = datetime.now()\n",
    "print (str(now.hour) + \":\" + str(now.minute) + \":\" + str(now.second))\n",
    "#print (str(now.month) + \"/\" + str(now.day) + \"/\" + str(now.year))"
   ]
  },
  {
   "cell_type": "markdown",
   "metadata": {},
   "source": [
    "# 영업일 캘린더 (KRX)\n",
    "\n",
    "* 한국거래소 홈페이지에서 휴장일을 xls로 받을 수 있다\n",
    "* 휴장일 데이터로 부터 개장일(market days)를 생성\n",
    "* 해외 시장(CME, EUREX)등은  pandas-market-calendars를 활용\n",
    "\n",
    "<img width=\"320\" src=\"http://i.imgur.com/ClIQff8.jpg\" >\n",
    "\n",
    "#### 2017 http://fb.com/financedata , http://financedata.github.io\n",
    "<!-- TEASER_END -->"
   ]
  },
  {
   "cell_type": "markdown",
   "metadata": {},
   "source": [
    "# 한국거래소 홈페이지 휴장일 조회\n",
    "한국거래소 홈페이지 http://marketdata.krx.co.kr 에서 아래 메뉴에서 휴장일을 조회할 수 있다\n",
    "\n",
    "#### 시장정보 > 시장동향 > 공시 > 증시일정 > 휴장일\n",
    "\n",
    "링크는 아래와 같다\n",
    "\n",
    "http://marketdata.krx.co.kr/contents/MKD/01/0110/01100305/MKD01100305.jsp\n",
    "\n",
    "<img width=\"80%\" src=\"http://i.imgur.com/xUGXh8f.png\" >"
   ]
  },
  {
   "cell_type": "markdown",
   "metadata": {},
   "source": [
    "한국거래소, CME, EUREX 캘린더를 년도별로 제공하고 있으며, '다운로드'를 누르면 엑셀(data.xls)파일로 다운로드 할 수 있다.\n",
    "\n",
    "다운로드한 파일(data.xls)을 아래와 같이 공유파일 링크로 만들었다.\n",
    "\n",
    "- 데이터 https://goo.gl/JGse1n"
   ]
  },
  {
   "cell_type": "code",
   "execution_count": 13,
   "metadata": {},
   "outputs": [
    {
     "data": {
      "text/html": [
       "<div>\n",
       "<style scoped>\n",
       "    .dataframe tbody tr th:only-of-type {\n",
       "        vertical-align: middle;\n",
       "    }\n",
       "\n",
       "    .dataframe tbody tr th {\n",
       "        vertical-align: top;\n",
       "    }\n",
       "\n",
       "    .dataframe thead th {\n",
       "        text-align: right;\n",
       "    }\n",
       "</style>\n",
       "<table border=\"1\" class=\"dataframe\">\n",
       "  <thead>\n",
       "    <tr style=\"text-align: right;\">\n",
       "      <th></th>\n",
       "      <th>일자 및 요일</th>\n",
       "      <th>요일구분</th>\n",
       "      <th>비고</th>\n",
       "    </tr>\n",
       "  </thead>\n",
       "  <tbody>\n",
       "    <tr>\n",
       "      <th>0</th>\n",
       "      <td>2019-01-01</td>\n",
       "      <td>화요일</td>\n",
       "      <td>신정</td>\n",
       "    </tr>\n",
       "    <tr>\n",
       "      <th>1</th>\n",
       "      <td>2019-02-04</td>\n",
       "      <td>월요일</td>\n",
       "      <td>설날</td>\n",
       "    </tr>\n",
       "    <tr>\n",
       "      <th>2</th>\n",
       "      <td>2019-02-05</td>\n",
       "      <td>화요일</td>\n",
       "      <td>설날</td>\n",
       "    </tr>\n",
       "    <tr>\n",
       "      <th>3</th>\n",
       "      <td>2019-02-06</td>\n",
       "      <td>수요일</td>\n",
       "      <td>설날</td>\n",
       "    </tr>\n",
       "    <tr>\n",
       "      <th>4</th>\n",
       "      <td>2019-03-01</td>\n",
       "      <td>금요일</td>\n",
       "      <td>삼일절</td>\n",
       "    </tr>\n",
       "    <tr>\n",
       "      <th>5</th>\n",
       "      <td>2019-05-01</td>\n",
       "      <td>수요일</td>\n",
       "      <td>근로자의날</td>\n",
       "    </tr>\n",
       "    <tr>\n",
       "      <th>6</th>\n",
       "      <td>2019-05-06</td>\n",
       "      <td>월요일</td>\n",
       "      <td>어린이날(대체휴일)</td>\n",
       "    </tr>\n",
       "    <tr>\n",
       "      <th>7</th>\n",
       "      <td>2019-06-06</td>\n",
       "      <td>목요일</td>\n",
       "      <td>현충일</td>\n",
       "    </tr>\n",
       "    <tr>\n",
       "      <th>8</th>\n",
       "      <td>2019-08-15</td>\n",
       "      <td>목요일</td>\n",
       "      <td>광복절</td>\n",
       "    </tr>\n",
       "    <tr>\n",
       "      <th>9</th>\n",
       "      <td>2019-09-12</td>\n",
       "      <td>목요일</td>\n",
       "      <td>추석</td>\n",
       "    </tr>\n",
       "    <tr>\n",
       "      <th>10</th>\n",
       "      <td>2019-09-13</td>\n",
       "      <td>금요일</td>\n",
       "      <td>추석</td>\n",
       "    </tr>\n",
       "    <tr>\n",
       "      <th>11</th>\n",
       "      <td>2019-10-03</td>\n",
       "      <td>목요일</td>\n",
       "      <td>개천절</td>\n",
       "    </tr>\n",
       "    <tr>\n",
       "      <th>12</th>\n",
       "      <td>2019-10-09</td>\n",
       "      <td>수요일</td>\n",
       "      <td>한글날</td>\n",
       "    </tr>\n",
       "    <tr>\n",
       "      <th>13</th>\n",
       "      <td>2019-12-25</td>\n",
       "      <td>수요일</td>\n",
       "      <td>성탄절</td>\n",
       "    </tr>\n",
       "    <tr>\n",
       "      <th>14</th>\n",
       "      <td>2019-12-31</td>\n",
       "      <td>화요일</td>\n",
       "      <td>연말휴장일</td>\n",
       "    </tr>\n",
       "  </tbody>\n",
       "</table>\n",
       "</div>"
      ],
      "text/plain": [
       "       일자 및 요일    요일구분          비고\n",
       "0   2019-01-01  화요일             신정\n",
       "1   2019-02-04  월요일             설날\n",
       "2   2019-02-05  화요일             설날\n",
       "3   2019-02-06  수요일             설날\n",
       "4   2019-03-01  금요일            삼일절\n",
       "5   2019-05-01  수요일          근로자의날\n",
       "6   2019-05-06  월요일     어린이날(대체휴일)\n",
       "7   2019-06-06  목요일            현충일\n",
       "8   2019-08-15  목요일            광복절\n",
       "9   2019-09-12  목요일             추석\n",
       "10  2019-09-13  금요일             추석\n",
       "11  2019-10-03  목요일            개천절\n",
       "12  2019-10-09  수요일            한글날\n",
       "13  2019-12-25  수요일            성탄절\n",
       "14  2019-12-31  화요일          연말휴장일"
      ]
     },
     "execution_count": 13,
     "metadata": {},
     "output_type": "execute_result"
    }
   ],
   "source": [
    "import pandas as pd\n",
    "\n",
    "df_hdays = pd.read_excel('https://goo.gl/JGse1n')\n",
    "df_hdays"
   ]
  },
  {
   "cell_type": "markdown",
   "metadata": {},
   "source": [
    "날짜 데이터에 요일이 함께 들어있어 가공이 필요하다.\n"
   ]
  },
  {
   "cell_type": "code",
   "execution_count": 3,
   "metadata": {},
   "outputs": [
    {
     "data": {
      "text/plain": [
       "0    2019-01-01\n",
       "1    2019-02-04\n",
       "2    2019-02-05\n",
       "3    2019-02-06\n",
       "4    2019-03-01\n",
       "5    2019-05-01\n",
       "6    2019-05-06\n",
       "7    2019-06-06\n",
       "8    2019-08-15\n",
       "9    2019-09-12\n",
       "10   2019-09-13\n",
       "11   2019-10-03\n",
       "12   2019-10-09\n",
       "13   2019-12-25\n",
       "14   2019-12-31\n",
       "Name: 날짜, dtype: datetime64[ns]"
      ]
     },
     "execution_count": 3,
     "metadata": {},
     "output_type": "execute_result"
    }
   ],
   "source": [
    "hdays = df_hdays['일자 및 요일'].str.extract('(\\d{4}-\\d{2}-\\d{2})', expand=False)\n",
    "hdays = pd.to_datetime(hdays)\n",
    "hdays.name = '날짜'\n",
    "hdays"
   ]
  },
  {
   "cell_type": "markdown",
   "metadata": {},
   "source": [
    "# 개장일(market day)"
   ]
  },
  {
   "cell_type": "markdown",
   "metadata": {},
   "source": [
    "2019년 중에 개장일(market day)목록을 만들어 보자. 우선 pandas.date_range() 함수를 사용하여 1월 1일~ 12월 31까지 날짜를 생성한다. (365일)"
   ]
  },
  {
   "cell_type": "code",
   "execution_count": 4,
   "metadata": {},
   "outputs": [
    {
     "data": {
      "text/plain": [
       "DatetimeIndex(['2019-01-01', '2019-01-02', '2019-01-03', '2019-01-04',\n",
       "               '2019-01-05', '2019-01-06', '2019-01-07', '2019-01-08',\n",
       "               '2019-01-09', '2019-01-10',\n",
       "               ...\n",
       "               '2019-12-22', '2019-12-23', '2019-12-24', '2019-12-25',\n",
       "               '2019-12-26', '2019-12-27', '2019-12-28', '2019-12-29',\n",
       "               '2019-12-30', '2019-12-31'],\n",
       "              dtype='datetime64[ns]', length=365, freq='D')"
      ]
     },
     "execution_count": 4,
     "metadata": {},
     "output_type": "execute_result"
    }
   ],
   "source": [
    "mdays = pd.date_range('2019-01-01', '2019-12-31')\n",
    "mdays"
   ]
  },
  {
   "cell_type": "markdown",
   "metadata": {},
   "source": [
    "이때 freq 를 'B'로 지정(business day)하면, 주말(토,일)은 제외된다. (260일)\n",
    "\n",
    "날짜 생성에 대해서는 다음 URL을 참고 하자. \n",
    "https://pandas.pydata.org/pandas-docs/stable/timeseries.html\n",
    "\n",
    "특히, 간격 별칭(Offset Aliases)에 대해서는 아래 표에 정리되어 있다.\n",
    "\n",
    "https://pandas.pydata.org/pandas-docs/stable/timeseries.html#offset-aliases"
   ]
  },
  {
   "cell_type": "code",
   "execution_count": 5,
   "metadata": {},
   "outputs": [
    {
     "data": {
      "text/plain": [
       "DatetimeIndex(['2019-01-01', '2019-01-02', '2019-01-03', '2019-01-04',\n",
       "               '2019-01-07', '2019-01-08', '2019-01-09', '2019-01-10',\n",
       "               '2019-01-11', '2019-01-14',\n",
       "               ...\n",
       "               '2019-12-18', '2019-12-19', '2019-12-20', '2019-12-23',\n",
       "               '2019-12-24', '2019-12-25', '2019-12-26', '2019-12-27',\n",
       "               '2019-12-30', '2019-12-31'],\n",
       "              dtype='datetime64[ns]', length=261, freq='B')"
      ]
     },
     "execution_count": 5,
     "metadata": {},
     "output_type": "execute_result"
    }
   ],
   "source": [
    "mdays = pd.date_range('2019-01-01', '2019-12-31', freq='B')\n",
    "mdays"
   ]
  },
  {
   "cell_type": "markdown",
   "metadata": {},
   "source": [
    "여기서 휴일을 제외(df.drop)하면, 모든 영업일(market day)가 만들어진다. (244일)"
   ]
  },
  {
   "cell_type": "code",
   "execution_count": 6,
   "metadata": {},
   "outputs": [
    {
     "data": {
      "text/plain": [
       "DatetimeIndex(['2019-01-02', '2019-01-03', '2019-01-04', '2019-01-07',\n",
       "               '2019-01-08', '2019-01-09', '2019-01-10', '2019-01-11',\n",
       "               '2019-01-14', '2019-01-15',\n",
       "               ...\n",
       "               '2019-12-16', '2019-12-17', '2019-12-18', '2019-12-19',\n",
       "               '2019-12-20', '2019-12-23', '2019-12-24', '2019-12-26',\n",
       "               '2019-12-27', '2019-12-30'],\n",
       "              dtype='datetime64[ns]', length=246, freq=None)"
      ]
     },
     "execution_count": 6,
     "metadata": {},
     "output_type": "execute_result"
    }
   ],
   "source": [
    "mdays = mdays.drop(hdays)\n",
    "mdays"
   ]
  },
  {
   "cell_type": "markdown",
   "metadata": {},
   "source": [
    "# DataFrame에 휴장일 적용하기"
   ]
  },
  {
   "cell_type": "markdown",
   "metadata": {},
   "source": [
    "DataFrame에서 개장일(market day)만을 추출해해야 하는 경우를 살펴보자.\n",
    "\n",
    "다음과 같은 데이터를 가정해 보자. (5월 1일~5월 30일, 1~30까지 valeus로 할당)"
   ]
  },
  {
   "cell_type": "code",
   "execution_count": 9,
   "metadata": {},
   "outputs": [
    {
     "data": {
      "text/html": [
       "<div>\n",
       "<style scoped>\n",
       "    .dataframe tbody tr th:only-of-type {\n",
       "        vertical-align: middle;\n",
       "    }\n",
       "\n",
       "    .dataframe tbody tr th {\n",
       "        vertical-align: top;\n",
       "    }\n",
       "\n",
       "    .dataframe thead th {\n",
       "        text-align: right;\n",
       "    }\n",
       "</style>\n",
       "<table border=\"1\" class=\"dataframe\">\n",
       "  <thead>\n",
       "    <tr style=\"text-align: right;\">\n",
       "      <th></th>\n",
       "      <th>values</th>\n",
       "    </tr>\n",
       "  </thead>\n",
       "  <tbody>\n",
       "    <tr>\n",
       "      <th>2019-05-01</th>\n",
       "      <td>1</td>\n",
       "    </tr>\n",
       "    <tr>\n",
       "      <th>2019-05-02</th>\n",
       "      <td>2</td>\n",
       "    </tr>\n",
       "    <tr>\n",
       "      <th>2019-05-03</th>\n",
       "      <td>3</td>\n",
       "    </tr>\n",
       "    <tr>\n",
       "      <th>2019-05-04</th>\n",
       "      <td>4</td>\n",
       "    </tr>\n",
       "    <tr>\n",
       "      <th>2019-05-05</th>\n",
       "      <td>5</td>\n",
       "    </tr>\n",
       "    <tr>\n",
       "      <th>2019-05-06</th>\n",
       "      <td>6</td>\n",
       "    </tr>\n",
       "    <tr>\n",
       "      <th>2019-05-07</th>\n",
       "      <td>7</td>\n",
       "    </tr>\n",
       "    <tr>\n",
       "      <th>2019-05-08</th>\n",
       "      <td>8</td>\n",
       "    </tr>\n",
       "    <tr>\n",
       "      <th>2019-05-09</th>\n",
       "      <td>9</td>\n",
       "    </tr>\n",
       "    <tr>\n",
       "      <th>2019-05-10</th>\n",
       "      <td>10</td>\n",
       "    </tr>\n",
       "  </tbody>\n",
       "</table>\n",
       "</div>"
      ],
      "text/plain": [
       "            values\n",
       "2019-05-01       1\n",
       "2019-05-02       2\n",
       "2019-05-03       3\n",
       "2019-05-04       4\n",
       "2019-05-05       5\n",
       "2019-05-06       6\n",
       "2019-05-07       7\n",
       "2019-05-08       8\n",
       "2019-05-09       9\n",
       "2019-05-10      10"
      ]
     },
     "execution_count": 9,
     "metadata": {},
     "output_type": "execute_result"
    }
   ],
   "source": [
    "data = {'values': range(1,32)}\n",
    "df_sample = pd.DataFrame(data, index=pd.date_range('2019-05-01', '2019-05-31'))\n",
    "df_sample.head(10)"
   ]
  },
  {
   "cell_type": "markdown",
   "metadata": {},
   "source": [
    "위 데이터 중에서 개장일만 추출하고자 한다. DateTimeIndex를 가진 두 개의 DataFrame의 교집합을 구하는 간단한 방법으로 pd.merge()을 쓸 수 있다."
   ]
  },
  {
   "cell_type": "code",
   "execution_count": 10,
   "metadata": {},
   "outputs": [
    {
     "data": {
      "text/html": [
       "<div>\n",
       "<style scoped>\n",
       "    .dataframe tbody tr th:only-of-type {\n",
       "        vertical-align: middle;\n",
       "    }\n",
       "\n",
       "    .dataframe tbody tr th {\n",
       "        vertical-align: top;\n",
       "    }\n",
       "\n",
       "    .dataframe thead th {\n",
       "        text-align: right;\n",
       "    }\n",
       "</style>\n",
       "<table border=\"1\" class=\"dataframe\">\n",
       "  <thead>\n",
       "    <tr style=\"text-align: right;\">\n",
       "      <th></th>\n",
       "      <th>values</th>\n",
       "    </tr>\n",
       "  </thead>\n",
       "  <tbody>\n",
       "    <tr>\n",
       "      <th>2019-05-02</th>\n",
       "      <td>2</td>\n",
       "    </tr>\n",
       "    <tr>\n",
       "      <th>2019-05-03</th>\n",
       "      <td>3</td>\n",
       "    </tr>\n",
       "    <tr>\n",
       "      <th>2019-05-07</th>\n",
       "      <td>7</td>\n",
       "    </tr>\n",
       "    <tr>\n",
       "      <th>2019-05-08</th>\n",
       "      <td>8</td>\n",
       "    </tr>\n",
       "    <tr>\n",
       "      <th>2019-05-09</th>\n",
       "      <td>9</td>\n",
       "    </tr>\n",
       "    <tr>\n",
       "      <th>2019-05-10</th>\n",
       "      <td>10</td>\n",
       "    </tr>\n",
       "    <tr>\n",
       "      <th>2019-05-13</th>\n",
       "      <td>13</td>\n",
       "    </tr>\n",
       "    <tr>\n",
       "      <th>2019-05-14</th>\n",
       "      <td>14</td>\n",
       "    </tr>\n",
       "    <tr>\n",
       "      <th>2019-05-15</th>\n",
       "      <td>15</td>\n",
       "    </tr>\n",
       "    <tr>\n",
       "      <th>2019-05-16</th>\n",
       "      <td>16</td>\n",
       "    </tr>\n",
       "  </tbody>\n",
       "</table>\n",
       "</div>"
      ],
      "text/plain": [
       "            values\n",
       "2019-05-02       2\n",
       "2019-05-03       3\n",
       "2019-05-07       7\n",
       "2019-05-08       8\n",
       "2019-05-09       9\n",
       "2019-05-10      10\n",
       "2019-05-13      13\n",
       "2019-05-14      14\n",
       "2019-05-15      15\n",
       "2019-05-16      16"
      ]
     },
     "execution_count": 10,
     "metadata": {},
     "output_type": "execute_result"
    }
   ],
   "source": [
    "# 개장일을 index로 갖는 DataFrame\n",
    "df_mdays = pd.DataFrame(index=mdays)\n",
    "\n",
    "# 두 DataFrame (df_sample, df_mdays)의 인덱스를 기준으로 합친다(merge)\n",
    "df = pd.merge(df_sample, df_mdays, right_index=True, left_index=True)\n",
    "df.head(10)"
   ]
  },
  {
   "cell_type": "markdown",
   "metadata": {},
   "source": [
    "이 경우, 두 인덱스의 공동부분(intersection)만 남으므로 개장일만 남게 된다."
   ]
  },
  {
   "cell_type": "markdown",
   "metadata": {},
   "source": [
    "# CME, EUREX 휴장일\n",
    "\n",
    "영업일 캘린더 메뉴에서 한국거래소(KRX)외에 CME, EUREX와 캘린더도 제공하며, 엑셀로 다운로드 한 2017년 데이터는 다음과 같다.\n",
    "\n",
    "* hdays-2017-CME.xls ( https://goo.gl/cvnhy2 ) \n",
    "* hdays-2017-EUREX.xls ( https://goo.gl/s2PgBx ) "
   ]
  },
  {
   "cell_type": "code",
   "execution_count": 9,
   "metadata": {},
   "outputs": [
    {
     "data": {
      "text/html": [
       "<div>\n",
       "<style scoped>\n",
       "    .dataframe tbody tr th:only-of-type {\n",
       "        vertical-align: middle;\n",
       "    }\n",
       "\n",
       "    .dataframe tbody tr th {\n",
       "        vertical-align: top;\n",
       "    }\n",
       "\n",
       "    .dataframe thead th {\n",
       "        text-align: right;\n",
       "    }\n",
       "</style>\n",
       "<table border=\"1\" class=\"dataframe\">\n",
       "  <thead>\n",
       "    <tr style=\"text-align: right;\">\n",
       "      <th></th>\n",
       "      <th>구분</th>\n",
       "      <th>일자</th>\n",
       "      <th>요일</th>\n",
       "      <th>시장</th>\n",
       "      <th>비고</th>\n",
       "    </tr>\n",
       "  </thead>\n",
       "  <tbody>\n",
       "    <tr>\n",
       "      <th>0</th>\n",
       "      <td>휴장</td>\n",
       "      <td>2017/01/02</td>\n",
       "      <td>월</td>\n",
       "      <td>CME</td>\n",
       "      <td>New Year' Day</td>\n",
       "    </tr>\n",
       "    <tr>\n",
       "      <th>1</th>\n",
       "      <td>휴장</td>\n",
       "      <td>2017/04/14</td>\n",
       "      <td>금</td>\n",
       "      <td>CME</td>\n",
       "      <td>Good Friday</td>\n",
       "    </tr>\n",
       "    <tr>\n",
       "      <th>2</th>\n",
       "      <td>단축종료(03:15)</td>\n",
       "      <td>2017/11/24</td>\n",
       "      <td>금</td>\n",
       "      <td>CME</td>\n",
       "      <td>추수감사절 다음날</td>\n",
       "    </tr>\n",
       "    <tr>\n",
       "      <th>3</th>\n",
       "      <td>휴장</td>\n",
       "      <td>2017/12/25</td>\n",
       "      <td>월</td>\n",
       "      <td>CME</td>\n",
       "      <td>Christmas Day</td>\n",
       "    </tr>\n",
       "  </tbody>\n",
       "</table>\n",
       "</div>"
      ],
      "text/plain": [
       "            구분          일자 요일   시장             비고\n",
       "0           휴장  2017/01/02  월  CME  New Year' Day\n",
       "1           휴장  2017/04/14  금  CME    Good Friday\n",
       "2  단축종료(03:15)  2017/11/24  금  CME      추수감사절 다음날\n",
       "3           휴장  2017/12/25  월  CME  Christmas Day"
      ]
     },
     "execution_count": 9,
     "metadata": {},
     "output_type": "execute_result"
    }
   ],
   "source": [
    "pd.read_excel('https://goo.gl/cvnhy2')"
   ]
  },
  {
   "cell_type": "code",
   "execution_count": 10,
   "metadata": {},
   "outputs": [
    {
     "data": {
      "text/html": [
       "<div>\n",
       "<style scoped>\n",
       "    .dataframe tbody tr th:only-of-type {\n",
       "        vertical-align: middle;\n",
       "    }\n",
       "\n",
       "    .dataframe tbody tr th {\n",
       "        vertical-align: top;\n",
       "    }\n",
       "\n",
       "    .dataframe thead th {\n",
       "        text-align: right;\n",
       "    }\n",
       "</style>\n",
       "<table border=\"1\" class=\"dataframe\">\n",
       "  <thead>\n",
       "    <tr style=\"text-align: right;\">\n",
       "      <th></th>\n",
       "      <th>구분</th>\n",
       "      <th>일자</th>\n",
       "      <th>요일</th>\n",
       "      <th>시장</th>\n",
       "      <th>비고</th>\n",
       "    </tr>\n",
       "  </thead>\n",
       "  <tbody>\n",
       "    <tr>\n",
       "      <th>0</th>\n",
       "      <td>휴장</td>\n",
       "      <td>2017/04/14</td>\n",
       "      <td>금</td>\n",
       "      <td>EUREX</td>\n",
       "      <td>Good Friday</td>\n",
       "    </tr>\n",
       "    <tr>\n",
       "      <th>1</th>\n",
       "      <td>휴장</td>\n",
       "      <td>2017/04/17</td>\n",
       "      <td>월</td>\n",
       "      <td>EUREX</td>\n",
       "      <td>Easter Monday</td>\n",
       "    </tr>\n",
       "    <tr>\n",
       "      <th>2</th>\n",
       "      <td>휴장</td>\n",
       "      <td>2017/05/01</td>\n",
       "      <td>월</td>\n",
       "      <td>EUREX</td>\n",
       "      <td>Labour Day</td>\n",
       "    </tr>\n",
       "    <tr>\n",
       "      <th>3</th>\n",
       "      <td>휴장</td>\n",
       "      <td>2017/12/25</td>\n",
       "      <td>월</td>\n",
       "      <td>EUREX</td>\n",
       "      <td>Christmas Day</td>\n",
       "    </tr>\n",
       "    <tr>\n",
       "      <th>4</th>\n",
       "      <td>휴장</td>\n",
       "      <td>2017/12/26</td>\n",
       "      <td>화</td>\n",
       "      <td>EUREX</td>\n",
       "      <td>Boxing Day</td>\n",
       "    </tr>\n",
       "  </tbody>\n",
       "</table>\n",
       "</div>"
      ],
      "text/plain": [
       "   구분          일자 요일     시장             비고\n",
       "0  휴장  2017/04/14  금  EUREX    Good Friday\n",
       "1  휴장  2017/04/17  월  EUREX  Easter Monday\n",
       "2  휴장  2017/05/01  월  EUREX     Labour Day\n",
       "3  휴장  2017/12/25  월  EUREX  Christmas Day\n",
       "4  휴장  2017/12/26  화  EUREX     Boxing Day"
      ]
     },
     "execution_count": 10,
     "metadata": {},
     "output_type": "execute_result"
    }
   ],
   "source": [
    "pd.read_excel('https://goo.gl/s2PgBx')"
   ]
  },
  {
   "cell_type": "markdown",
   "metadata": {},
   "source": [
    "# pandas-market-calendars"
   ]
  },
  {
   "cell_type": "markdown",
   "metadata": {},
   "source": [
    "해외 시장의 개장일(market day)을 관리하기 위해 위 엑셀 데이터를 사용하기 보다는 pandas-market-calendars 라이브러를 권한다.\n",
    "\n",
    "http://pandas-market-calendars.readthedocs.io\n",
    "\n",
    "NYSE, CME, EUREX 등 시장에 대한 개장일과 개장 시간등을 관리할 수 있다."
   ]
  },
  {
   "cell_type": "markdown",
   "metadata": {},
   "source": [
    "#### 2017 https://fb.com/financedata"
   ]
  }
 ],
 "metadata": {
  "kernelspec": {
   "display_name": "Python 3",
   "language": "python",
   "name": "python3"
  },
  "language_info": {
   "codemirror_mode": {
    "name": "ipython",
    "version": 3
   },
   "file_extension": ".py",
   "mimetype": "text/x-python",
   "name": "python",
   "nbconvert_exporter": "python",
   "pygments_lexer": "ipython3",
   "version": "3.6.6"
  },
  "nikola": {
   "category": "dev",
   "date": "2017-07-16 15:45:16 UTC+09:00",
   "description": "휴장일 데이터로 부터 개장일(market days)를 생성",
   "link": "",
   "slug": "pandas-market-days-krx",
   "tags": "python, market days, krx",
   "title": "영업일과 휴일 - 한국거래소",
   "type": "text"
  }
 },
 "nbformat": 4,
 "nbformat_minor": 1
}
