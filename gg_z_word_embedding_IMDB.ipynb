{
  "nbformat": 4,
  "nbformat_minor": 0,
  "metadata": {
    "colab": {
      "name": "gg-54-word-embedding-IMDB",
      "version": "0.3.2",
      "provenance": [],
      "collapsed_sections": [],
      "include_colab_link": true
    },
    "kernelspec": {
      "name": "python3",
      "display_name": "Python 3"
    }
  },
  "cells": [
    {
      "cell_type": "markdown",
      "metadata": {
        "id": "view-in-github",
        "colab_type": "text"
      },
      "source": [
        "<a href=\"https://colab.research.google.com/github/StillWork/ds-lab/blob/master/gg_54_word_embedding_IMDB.ipynb\" target=\"_parent\"><img src=\"https://colab.research.google.com/assets/colab-badge.svg\" alt=\"Open In Colab\"/></a>"
      ]
    },
    {
      "metadata": {
        "id": "2Pa94qBD7EKp",
        "colab_type": "text"
      },
      "cell_type": "markdown",
      "source": [
        "# 단어 임베딩\n",
        "## 텍스트 분석에서 널리 사용됨\n",
        "- 자연어 처리, 문서 분류, 감성분석, 저작 식별, QA, 챗봇  \n",
        "\n",
        "## 토큰화\n",
        "- 단어, 글자, n-gram\n",
        "\n",
        "## 인코딩\n",
        "- 원-핫 인코딩: 단어집 크기의 벡터를 사용한다 (크기가 매우 크고 희소함)\n",
        "- 토큰 임베딩\n",
        "\n",
        "## 토큰 임베딩 \n",
        "- 단어 임베딩\n",
        "- 글자 임베딩\n",
        "- n-gram 임베딩\n",
        "\n",
        "### 원-핫 인코딩은 문장의 구조 정보를 잃어버린다\n",
        "\n",
        "## 단어 벡터\n",
        "- 희소 베터대신 밀집 벡터를 사용\n",
        "- id를 구분하는 용도가 아니라 공간상의 점을 매핑 (거리와 벡터를 제공)\n",
        "\n",
        "### 생성 방법\n",
        "- 특정한 문제를 해결하는 과정에서 (모델을 만드는 과정에서) 부수적으로 단어벡터를 만들 수 있다. 단어간의 의미를 반영한다. 의미가 가까우면 거리도 가깝게. \n",
        "- 다른 곳에서 만든 단어벡터를 로드하여 사용\n",
        "\n",
        "\n",
        "### Embedding 계층을 사용하여 쉽게 만들 수 있다\n",
        "- 정수 인덱스를 벡터로 매핑하는 딕셔너리 구조 (인덱스 크기, 벡터 크기)\n",
        "- 학습 시키는 데이터에 따라 다른 임베딩이 만들어진다.\n",
        "\n",
        "### IMDB 영화 리뷰 데이터를 사용한 임베딩 예제\n",
        "\n"
      ]
    },
    {
      "metadata": {
        "id": "y8hRGgn85LtI",
        "colab_type": "code",
        "colab": {}
      },
      "cell_type": "code",
      "source": [
        "from keras.layers import Flatten, Dense, Embedding\n",
        "from keras.models import Sequential\n",
        "import os, os.path\n",
        "import zipfile\n",
        "from keras.datasets import imdb\n",
        "from keras import preprocessing\n",
        "\n",
        "from keras.preprocessing.text import Tokenizer\n",
        "from keras.preprocessing.sequence import pad_sequences\n",
        "import numpy as np\n",
        "import matplotlib.pyplot as plt"
      ],
      "execution_count": 0,
      "outputs": []
    },
    {
      "metadata": {
        "id": "9Tu8xAnn_nGl",
        "colab_type": "code",
        "outputId": "553e8cd2-e168-4c04-f049-a5a851693337",
        "colab": {
          "base_uri": "https://localhost:8080/",
          "height": 50
        }
      },
      "cell_type": "code",
      "source": [
        "\n",
        "\n",
        "max_features = 10000\n",
        "maxlen = 20\n",
        "(x_train, y_train), (x_test, y_test) = imdb.load_data(num_words=max_features)\n",
        "\n"
      ],
      "execution_count": 0,
      "outputs": [
        {
          "output_type": "stream",
          "text": [
            "Downloading data from https://s3.amazonaws.com/text-datasets/imdb.npz\n",
            "17465344/17464789 [==============================] - 2s 0us/step\n"
          ],
          "name": "stdout"
        }
      ]
    },
    {
      "metadata": {
        "id": "gXuG1WkZeq6L",
        "colab_type": "code",
        "outputId": "6ac20e4a-1113-4ec9-f851-96cebe693e97",
        "colab": {
          "base_uri": "https://localhost:8080/",
          "height": 34
        }
      },
      "cell_type": "code",
      "source": [
        "x_train.shape"
      ],
      "execution_count": 0,
      "outputs": [
        {
          "output_type": "execute_result",
          "data": {
            "text/plain": [
              "(25000,)"
            ]
          },
          "metadata": {
            "tags": []
          },
          "execution_count": 4
        }
      ]
    },
    {
      "metadata": {
        "id": "J4w1ON5Z7SvH",
        "colab_type": "code",
        "outputId": "31447d5d-3231-48ba-f1a3-5879578aacf0",
        "colab": {
          "base_uri": "https://localhost:8080/",
          "height": 34
        }
      },
      "cell_type": "code",
      "source": [
        "y_train[:3]"
      ],
      "execution_count": 0,
      "outputs": [
        {
          "output_type": "execute_result",
          "data": {
            "text/plain": [
              "array([1, 0, 0])"
            ]
          },
          "metadata": {
            "tags": []
          },
          "execution_count": 17
        }
      ]
    },
    {
      "metadata": {
        "id": "blQtfwq4e3NP",
        "colab_type": "code",
        "colab": {}
      },
      "cell_type": "code",
      "source": [
        "x_train=preprocessing.sequence.pad_sequences(x_train, maxlen=maxlen)\n",
        "x_test=preprocessing.sequence.pad_sequences(x_test, maxlen=maxlen)"
      ],
      "execution_count": 0,
      "outputs": []
    },
    {
      "metadata": {
        "id": "1_WuOAkafd8M",
        "colab_type": "code",
        "outputId": "dc55d4ae-5a92-4912-e4d9-7e01fbfd716a",
        "colab": {
          "base_uri": "https://localhost:8080/",
          "height": 34
        }
      },
      "cell_type": "code",
      "source": [
        "x_train.shape"
      ],
      "execution_count": 0,
      "outputs": [
        {
          "output_type": "execute_result",
          "data": {
            "text/plain": [
              "(25000, 20)"
            ]
          },
          "metadata": {
            "tags": []
          },
          "execution_count": 16
        }
      ]
    },
    {
      "metadata": {
        "id": "KD5dWA__fqO1",
        "colab_type": "code",
        "outputId": "9b20dc93-dafc-4d0e-8d76-0bd275aeb95e",
        "colab": {
          "base_uri": "https://localhost:8080/",
          "height": 235
        }
      },
      "cell_type": "code",
      "source": [
        "model = Sequential()\n",
        "model.add(Embedding(10000, 8, input_length=maxlen))\n",
        "model.add(Flatten())\n",
        "model.add(Dense(1, activation='sigmoid'))\n",
        "\n",
        "model.compile(loss='binary_crossentropy',\n",
        "              optimizer='rmsprop',\n",
        "              metrics=['acc'])\n",
        "model.summary()"
      ],
      "execution_count": 0,
      "outputs": [
        {
          "output_type": "stream",
          "text": [
            "_________________________________________________________________\n",
            "Layer (type)                 Output Shape              Param #   \n",
            "=================================================================\n",
            "embedding_2 (Embedding)      (None, 20, 8)             80000     \n",
            "_________________________________________________________________\n",
            "flatten_1 (Flatten)          (None, 160)               0         \n",
            "_________________________________________________________________\n",
            "dense_1 (Dense)              (None, 1)                 161       \n",
            "=================================================================\n",
            "Total params: 80,161\n",
            "Trainable params: 80,161\n",
            "Non-trainable params: 0\n",
            "_________________________________________________________________\n"
          ],
          "name": "stdout"
        }
      ]
    },
    {
      "metadata": {
        "id": "LiMsP3C96RRg",
        "colab_type": "code",
        "outputId": "acc82b3a-a8c6-44ef-f06e-e1b9f805c94f",
        "colab": {
          "base_uri": "https://localhost:8080/",
          "height": 390
        }
      },
      "cell_type": "code",
      "source": [
        "history = model.fit(\n",
        "    x_train, y_train,\n",
        "    epochs=10,\n",
        "    batch_size=32,\n",
        "    validation_split=0.2)"
      ],
      "execution_count": 0,
      "outputs": [
        {
          "output_type": "stream",
          "text": [
            "Train on 20000 samples, validate on 5000 samples\n",
            "Epoch 1/10\n",
            "20000/20000 [==============================] - 2s 90us/step - loss: 0.6730 - acc: 0.6107 - val_loss: 0.6267 - val_acc: 0.6888\n",
            "Epoch 2/10\n",
            "20000/20000 [==============================] - 1s 65us/step - loss: 0.5492 - acc: 0.7478 - val_loss: 0.5295 - val_acc: 0.7342\n",
            "Epoch 3/10\n",
            "20000/20000 [==============================] - 1s 55us/step - loss: 0.4654 - acc: 0.7860 - val_loss: 0.5007 - val_acc: 0.7452\n",
            "Epoch 4/10\n",
            "20000/20000 [==============================] - 1s 57us/step - loss: 0.4239 - acc: 0.8080 - val_loss: 0.4934 - val_acc: 0.7472\n",
            "Epoch 5/10\n",
            "20000/20000 [==============================] - 1s 56us/step - loss: 0.3957 - acc: 0.8245 - val_loss: 0.4927 - val_acc: 0.7554\n",
            "Epoch 6/10\n",
            "20000/20000 [==============================] - 1s 56us/step - loss: 0.3737 - acc: 0.8371 - val_loss: 0.4964 - val_acc: 0.7574\n",
            "Epoch 7/10\n",
            "20000/20000 [==============================] - 1s 56us/step - loss: 0.3536 - acc: 0.8475 - val_loss: 0.4998 - val_acc: 0.7588\n",
            "Epoch 8/10\n",
            "20000/20000 [==============================] - 1s 56us/step - loss: 0.3348 - acc: 0.8577 - val_loss: 0.5072 - val_acc: 0.7552\n",
            "Epoch 9/10\n",
            "20000/20000 [==============================] - 1s 56us/step - loss: 0.3168 - acc: 0.8678 - val_loss: 0.5150 - val_acc: 0.7554\n",
            "Epoch 10/10\n",
            "20000/20000 [==============================] - 1s 56us/step - loss: 0.2996 - acc: 0.8789 - val_loss: 0.5226 - val_acc: 0.7528\n"
          ],
          "name": "stdout"
        }
      ]
    },
    {
      "metadata": {
        "id": "3NYmQslQ_Edk",
        "colab_type": "text"
      },
      "cell_type": "markdown",
      "source": [
        "## 위의 결과는 20개의 단어만 고려한 것임\n",
        "### 성능이 75% 정도 됨\n",
        "- 각 단어를 독립적으로 다루었으며, 문장의 구성 정보를 고려하지 않음\n",
        "- 문장의 구조 정보를 고려하려면 임베딩 층 위에 합성곱이나 순환신경망 층을 추가한다"
      ]
    },
    {
      "metadata": {
        "id": "HI9yPocrBjq-",
        "colab_type": "text"
      },
      "cell_type": "markdown",
      "source": [
        "## 사전훈련된 임베딩 사용\n",
        "- 사전 학습된 합성곱 신경망을 사용하는 것과 같이 임베딩도 사전훈련된 값을 사용할 수 있다.\n",
        "### 이 예에서는 성능 개선이 없다 (오히려 50% 정도로 낮음)\n",
        "\n",
        "## 사전 학습 임베딩\n",
        "- 2013년 구글의 Word2Vect\n",
        "- 2014년 스탠포드의 GloVe: 단어의 동시출현 통계를 분석 \n",
        "\n",
        "## 원본 IMDB를 사용하여 (토큰화 되기 전의) 텍스트 처리부터 작업을 하겠다\n",
        "- 훈련 데이터가 부족할 때 유용하다\n",
        "- 훈련 데이터가 충분하면 직접 학습하는 것이 낫다"
      ]
    },
    {
      "metadata": {
        "id": "kfa_ykLYDLdv",
        "colab_type": "code",
        "colab": {}
      },
      "cell_type": "code",
      "source": [
        "if not os.path.exists(\"./data\"):\n",
        "    os.makedirs(\"./data\")\n",
        "if not os.path.exists(\"./data/IMDB.zip\"):\n",
        "  !wget --no-check-certificate http://mng.bz/0tIo \\\n",
        "  -O ./data/IMDB.zip"
      ],
      "execution_count": 0,
      "outputs": []
    },
    {
      "metadata": {
        "id": "V_sU7g6lDWXS",
        "colab_type": "code",
        "outputId": "442c120e-de7b-4e23-9b42-95ac21e3b353",
        "colab": {
          "base_uri": "https://localhost:8080/",
          "height": 50
        }
      },
      "cell_type": "code",
      "source": [
        "!ls data"
      ],
      "execution_count": 0,
      "outputs": [
        {
          "output_type": "stream",
          "text": [
            "aclImdb\t\t   glove.6B.200d.txt  glove.6B.50d.txt\tglove.zip  __MACOSX\n",
            "glove.6B.100d.txt  glove.6B.300d.txt  glove6B.zip\tIMDB.zip\n"
          ],
          "name": "stdout"
        }
      ]
    },
    {
      "metadata": {
        "id": "lJDWfvuSDk8f",
        "colab_type": "code",
        "colab": {}
      },
      "cell_type": "code",
      "source": [
        "local_zip = './data/IMDB.zip'\n",
        "zip_ref = zipfile.ZipFile(local_zip, 'r')\n",
        "zip_ref.extractall('./data')\n",
        "zip_ref.close()"
      ],
      "execution_count": 0,
      "outputs": []
    },
    {
      "metadata": {
        "id": "U-RQIqJIE9h0",
        "colab_type": "code",
        "colab": {}
      },
      "cell_type": "code",
      "source": [
        "imdb_dir='./data/aclImdb'\n",
        "train_dir = os.path.join(imdb_dir, 'train')\n",
        "labels = []\n",
        "texts = []\n",
        "\n",
        "for label_type in ['neg', 'pos']:\n",
        "    dir_name = os.path.join(train_dir, label_type)\n",
        "    for fname in os.listdir(dir_name):\n",
        "        if fname[-4:] == '.txt':\n",
        "            f = open(os.path.join(dir_name, fname))\n",
        "            texts.append(f.read())\n",
        "            f.close()\n",
        "            if label_type == 'neg':\n",
        "                labels.append(0)\n",
        "            else:\n",
        "                labels.append(1)"
      ],
      "execution_count": 0,
      "outputs": []
    },
    {
      "metadata": {
        "id": "l_h-KUjnFXg0",
        "colab_type": "code",
        "outputId": "b8f2b7f2-a400-46cf-9af8-58fd682c6c83",
        "colab": {
          "base_uri": "https://localhost:8080/",
          "height": 67
        }
      },
      "cell_type": "code",
      "source": [
        "from keras.preprocessing.text import Tokenizer\n",
        "from keras.preprocessing.sequence import pad_sequences\n",
        "import numpy as np\n",
        "\n",
        "maxlen = 100  # We will cut reviews after 100 words\n",
        "training_samples = 10000  # We will be training on 200 samples\n",
        "validation_samples = 10000  # We will be validating on 10000 samples\n",
        "max_words = 10000  # We will only consider the top 10,000 words in the dataset\n",
        "\n",
        "tokenizer = Tokenizer(num_words=max_words)\n",
        "tokenizer.fit_on_texts(texts)\n",
        "sequences = tokenizer.texts_to_sequences(texts)\n",
        "\n",
        "word_index = tokenizer.word_index\n",
        "print('Found %s unique tokens.' % len(word_index))\n",
        "\n",
        "data = pad_sequences(sequences, maxlen=maxlen)\n",
        "\n",
        "labels = np.asarray(labels)\n",
        "print('Shape of data tensor:', data.shape)\n",
        "print('Shape of label tensor:', labels.shape)\n",
        "\n",
        "# Split the data into a training set and a validation set\n",
        "# But first, shuffle the data, since we started from data\n",
        "# where sample are ordered (all negative first, then all positive).\n",
        "indices = np.arange(data.shape[0])\n",
        "np.random.shuffle(indices)\n",
        "data = data[indices]\n",
        "labels = labels[indices]\n",
        "\n",
        "x_train = data[:training_samples]\n",
        "y_train = labels[:training_samples]\n",
        "x_val = data[training_samples: training_samples + validation_samples]\n",
        "y_val = labels[training_samples: training_samples + validation_samples]"
      ],
      "execution_count": 0,
      "outputs": [
        {
          "output_type": "stream",
          "text": [
            "Found 88582 unique tokens.\n",
            "Shape of data tensor: (25000, 100)\n",
            "Shape of label tensor: (25000,)\n"
          ],
          "name": "stdout"
        }
      ]
    },
    {
      "metadata": {
        "id": "pkNWHejPHNP4",
        "colab_type": "code",
        "outputId": "d666a604-a5c8-48a7-bf41-e7310f55dd72",
        "colab": {
          "base_uri": "https://localhost:8080/",
          "height": 34
        }
      },
      "cell_type": "code",
      "source": [
        "data=pad_sequences(sequences, maxlen=maxlen)\n",
        "labels=np.asarray(labels)\n",
        "data.shape, labels.shape"
      ],
      "execution_count": 0,
      "outputs": [
        {
          "output_type": "execute_result",
          "data": {
            "text/plain": [
              "((25000, 100), (25000,))"
            ]
          },
          "metadata": {
            "tags": []
          },
          "execution_count": 157
        }
      ]
    },
    {
      "metadata": {
        "id": "3ai7oUGbcaI2",
        "colab_type": "code",
        "outputId": "52286b41-c011-4947-978d-5fe25e8567e9",
        "colab": {
          "base_uri": "https://localhost:8080/",
          "height": 289
        }
      },
      "cell_type": "code",
      "source": [
        "if not os.path.exists(\"./data\"):\n",
        "    os.makedirs(\"./data\")\n",
        "if not os.path.exists(\"./data/glove6B.zip\"):\n",
        "  !wget --no-check-certificate http://nlp.stanford.edu/data/glove.6B.zip \\\n",
        "  -O ./data/glove6B.zip"
      ],
      "execution_count": 0,
      "outputs": [
        {
          "output_type": "stream",
          "text": [
            "--2018-11-20 09:42:23--  http://nlp.stanford.edu/data/glove.6B.zip\n",
            "Resolving nlp.stanford.edu (nlp.stanford.edu)... 171.64.67.140\n",
            "Connecting to nlp.stanford.edu (nlp.stanford.edu)|171.64.67.140|:80... connected.\n",
            "HTTP request sent, awaiting response... 302 Found\n",
            "Location: https://nlp.stanford.edu/data/glove.6B.zip [following]\n",
            "--2018-11-20 09:42:23--  https://nlp.stanford.edu/data/glove.6B.zip\n",
            "Connecting to nlp.stanford.edu (nlp.stanford.edu)|171.64.67.140|:443... connected.\n",
            "HTTP request sent, awaiting response... 200 OK\n",
            "Length: 862182613 (822M) [application/zip]\n",
            "Saving to: ‘./data/glove6B.zip’\n",
            "\n",
            "./data/glove6B.zip  100%[===================>] 822.24M  21.1MB/s    in 32s     \n",
            "\n",
            "2018-11-20 09:42:55 (25.8 MB/s) - ‘./data/glove6B.zip’ saved [862182613/862182613]\n",
            "\n"
          ],
          "name": "stdout"
        }
      ]
    },
    {
      "metadata": {
        "id": "W9RvL73zd3I5",
        "colab_type": "code",
        "outputId": "5dd6c15e-0eba-4a55-8f46-69b3dc672410",
        "colab": {
          "base_uri": "https://localhost:8080/",
          "height": 218
        }
      },
      "cell_type": "code",
      "source": [
        "!ls -al data"
      ],
      "execution_count": 0,
      "outputs": [
        {
          "output_type": "stream",
          "text": [
            "total 3098448\n",
            "drwxr-xr-x 4 root root       4096 Nov 20 09:43 .\n",
            "drwxr-xr-x 1 root root       4096 Nov 20 07:54 ..\n",
            "drwxr-xr-x 4 root root       4096 Nov 20 07:45 aclImdb\n",
            "-rw-r--r-- 1 root root  347116733 Nov 20 09:43 glove.6B.100d.txt\n",
            "-rw-r--r-- 1 root root  693432828 Nov 20 09:43 glove.6B.200d.txt\n",
            "-rw-r--r-- 1 root root 1037962819 Nov 20 09:43 glove.6B.300d.txt\n",
            "-rw-r--r-- 1 root root  171350079 Nov 20 09:43 glove.6B.50d.txt\n",
            "-rw-r--r-- 1 root root  862182613 Oct 25  2015 glove6B.zip\n",
            "-rw-r--r-- 1 root root          0 Nov 20 09:33 glove.zip\n",
            "-rw-r--r-- 1 root root   60711700 Nov 18  2017 IMDB.zip\n",
            "drwxr-xr-x 3 root root       4096 Nov 20 07:45 __MACOSX\n"
          ],
          "name": "stdout"
        }
      ]
    },
    {
      "metadata": {
        "id": "_XxUrM2XeIRd",
        "colab_type": "code",
        "colab": {}
      },
      "cell_type": "code",
      "source": [
        "local_zip = './data/glove6B.zip'\n",
        "zip_ref = zipfile.ZipFile(local_zip, 'r')\n",
        "zip_ref.extractall('./data')\n",
        "zip_ref.close()"
      ],
      "execution_count": 0,
      "outputs": []
    },
    {
      "metadata": {
        "id": "901R6N6GgNgC",
        "colab_type": "code",
        "outputId": "50f06fe9-4c34-43d0-91f5-f7372fa80498",
        "colab": {
          "base_uri": "https://localhost:8080/",
          "height": 34
        }
      },
      "cell_type": "code",
      "source": [
        "glove_dir='data'\n",
        "embeddings_index = {}\n",
        "f = open(os.path.join(glove_dir, 'glove.6B.100d.txt'))\n",
        "for line in f:\n",
        "    values = line.split()\n",
        "    word = values[0]\n",
        "    coefs = np.asarray(values[1:], dtype='float32')\n",
        "    embeddings_index[word] = coefs\n",
        "f.close()\n",
        "\n",
        "print('Found %s word vectors.' % len(embeddings_index))"
      ],
      "execution_count": 0,
      "outputs": [
        {
          "output_type": "stream",
          "text": [
            "Found 400000 word vectors.\n"
          ],
          "name": "stdout"
        }
      ]
    },
    {
      "metadata": {
        "id": "wwiTxvnPeKss",
        "colab_type": "code",
        "colab": {}
      },
      "cell_type": "code",
      "source": [
        "embedding_dim = 100\n",
        "\n",
        "embedding_matrix = np.zeros((max_words, embedding_dim))\n",
        "for word, i in word_index.items():\n",
        "    embedding_vector = embeddings_index.get(word)\n",
        "    if i < max_words:\n",
        "        if embedding_vector is not None:\n",
        "            # Words not found in embedding index will be all-zeros.\n",
        "            embedding_matrix[i] = embedding_vector"
      ],
      "execution_count": 0,
      "outputs": []
    },
    {
      "metadata": {
        "id": "WbAnitc3h6KE",
        "colab_type": "code",
        "outputId": "3767068b-8812-49fa-82f4-f769e47e581b",
        "colab": {
          "base_uri": "https://localhost:8080/",
          "height": 269
        }
      },
      "cell_type": "code",
      "source": [
        "model = Sequential()\n",
        "model.add(Embedding(max_words, embedding_dim, input_length=maxlen))\n",
        "model.add(Flatten())\n",
        "model.add(Dense(32, activation='relu'))\n",
        "model.add(Dense(1, activation='sigmoid'))\n",
        "model.summary()"
      ],
      "execution_count": 0,
      "outputs": [
        {
          "output_type": "stream",
          "text": [
            "_________________________________________________________________\n",
            "Layer (type)                 Output Shape              Param #   \n",
            "=================================================================\n",
            "embedding_8 (Embedding)      (None, 100, 100)          1000000   \n",
            "_________________________________________________________________\n",
            "flatten_7 (Flatten)          (None, 10000)             0         \n",
            "_________________________________________________________________\n",
            "dense_12 (Dense)             (None, 32)                320032    \n",
            "_________________________________________________________________\n",
            "dense_13 (Dense)             (None, 1)                 33        \n",
            "=================================================================\n",
            "Total params: 1,320,065\n",
            "Trainable params: 1,320,065\n",
            "Non-trainable params: 0\n",
            "_________________________________________________________________\n"
          ],
          "name": "stdout"
        }
      ]
    },
    {
      "metadata": {
        "id": "_ZuZOjU2Fnw1",
        "colab_type": "code",
        "colab": {}
      },
      "cell_type": "code",
      "source": [
        "model.layers[0].set_weights([embedding_matrix])\n",
        "model.layers[0].trainable = False\n",
        "\n"
      ],
      "execution_count": 0,
      "outputs": []
    },
    {
      "metadata": {
        "id": "7JSaipmSGPNO",
        "colab_type": "code",
        "outputId": "ff16c53e-b228-4217-f37c-2787e89ebe86",
        "colab": {
          "base_uri": "https://localhost:8080/",
          "height": 390
        }
      },
      "cell_type": "code",
      "source": [
        "model.compile(optimizer='rmsprop',\n",
        "              loss='binary_crossentropy',\n",
        "              metrics=['acc'])\n",
        "history = model.fit(x_train, y_train,\n",
        "                    epochs=10,\n",
        "                    batch_size=32,\n",
        "                    validation_data=(x_val, y_val))\n",
        "model.save_weights('pre_trained_glove_model.h5')"
      ],
      "execution_count": 0,
      "outputs": [
        {
          "output_type": "stream",
          "text": [
            "Train on 10000 samples, validate on 10000 samples\n",
            "Epoch 1/10\n",
            "10000/10000 [==============================] - 3s 311us/step - loss: 0.7288 - acc: 0.5004 - val_loss: 0.6932 - val_acc: 0.4963\n",
            "Epoch 2/10\n",
            "10000/10000 [==============================] - 3s 258us/step - loss: 0.6918 - acc: 0.5161 - val_loss: 0.6990 - val_acc: 0.4927\n",
            "Epoch 3/10\n",
            "10000/10000 [==============================] - 3s 256us/step - loss: 0.6811 - acc: 0.5541 - val_loss: 0.7321 - val_acc: 0.4971\n",
            "Epoch 4/10\n",
            "10000/10000 [==============================] - 3s 251us/step - loss: 0.6516 - acc: 0.6045 - val_loss: 0.7746 - val_acc: 0.4836\n",
            "Epoch 5/10\n",
            "10000/10000 [==============================] - 3s 252us/step - loss: 0.5956 - acc: 0.6632 - val_loss: 0.8194 - val_acc: 0.4952\n",
            "Epoch 6/10\n",
            "10000/10000 [==============================] - 3s 252us/step - loss: 0.5336 - acc: 0.7188 - val_loss: 0.8367 - val_acc: 0.4931\n",
            "Epoch 7/10\n",
            "10000/10000 [==============================] - 3s 258us/step - loss: 0.4663 - acc: 0.7667 - val_loss: 0.9025 - val_acc: 0.4942\n",
            "Epoch 8/10\n",
            "10000/10000 [==============================] - 3s 256us/step - loss: 0.3920 - acc: 0.8091 - val_loss: 1.0203 - val_acc: 0.4947\n",
            "Epoch 9/10\n",
            "10000/10000 [==============================] - 3s 257us/step - loss: 0.3276 - acc: 0.8510 - val_loss: 1.4029 - val_acc: 0.4953\n",
            "Epoch 10/10\n",
            "10000/10000 [==============================] - 3s 261us/step - loss: 0.2667 - acc: 0.8791 - val_loss: 1.4056 - val_acc: 0.4888\n"
          ],
          "name": "stdout"
        }
      ]
    },
    {
      "metadata": {
        "id": "uCLVsbOBG5hU",
        "colab_type": "code",
        "outputId": "37c90a4c-c840-48a8-8203-9ebbfa60413d",
        "colab": {
          "base_uri": "https://localhost:8080/",
          "height": 723
        }
      },
      "cell_type": "code",
      "source": [
        "acc = history.history['acc']\n",
        "val_acc = history.history['val_acc']\n",
        "loss = history.history['loss']\n",
        "val_loss = history.history['val_loss']\n",
        "\n",
        "epochs = range(1, len(acc)+1)\n",
        "\n",
        "plt.plot(epochs, acc, 'bo')\n",
        "plt.plot(epochs, val_acc, 'b')\n",
        "plt.title('Training and validation accuracy')\n",
        "\n",
        "plt.figure()\n",
        "\n",
        "plt.plot(epochs, loss, 'bo')\n",
        "plt.plot(epochs, val_loss, 'b')\n",
        "plt.title('Training and validation loss')"
      ],
      "execution_count": 0,
      "outputs": [
        {
          "output_type": "execute_result",
          "data": {
            "text/plain": [
              "Text(0.5,1,'Training and validation loss')"
            ]
          },
          "metadata": {
            "tags": []
          },
          "execution_count": 160
        },
        {
          "output_type": "display_data",
          "data": {
            "image/png": "[encoded data removed]",
            "text/plain": [
              "<matplotlib.figure.Figure at 0x7fc12153fc50>"
            ]
          },
          "metadata": {
            "tags": []
          }
        },
        {
          "output_type": "display_data",
          "data": {
            "image/png": "[encoded data removed]",
            "text/plain": [
              "<matplotlib.figure.Figure at 0x7fc12159cba8>"
            ]
          },
          "metadata": {
            "tags": []
          }
        }
      ]
    },
    {
      "metadata": {
        "id": "9e5XPjL7HIdI",
        "colab_type": "code",
        "colab": {}
      },
      "cell_type": "code",
      "source": [
        ""
      ],
      "execution_count": 0,
      "outputs": []
    }
  ]
}