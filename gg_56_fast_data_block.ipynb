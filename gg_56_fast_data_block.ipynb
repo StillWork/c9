{
  "nbformat": 4,
  "nbformat_minor": 0,
  "metadata": {
    "colab": {
      "name": "gg_fast_data_block",
      "version": "0.3.2",
      "provenance": [],
      "include_colab_link": true
    },
    "kernelspec": {
      "name": "python3",
      "display_name": "Python 3"
    },
    "accelerator": "GPU"
  },
  "cells": [
    {
      "cell_type": "markdown",
      "metadata": {
        "id": "view-in-github",
        "colab_type": "text"
      },
      "source": [
        "<a href=\"https://colab.research.google.com/github/StillWork/ds-lab/blob/master/gg_fast_data_block.ipynb\" target=\"_parent\"><img src=\"https://colab.research.google.com/assets/colab-badge.svg\" alt=\"Open In Colab\"/></a>"
      ]
    },
    {
      "metadata": {
        "hide_input": true,
        "id": "Bwla1flQUtNG",
        "colab_type": "text"
      },
      "cell_type": "markdown",
      "source": [
        "## The data block API"
      ]
    },
    {
      "metadata": {
        "hide_input": true,
        "id": "gxcd01evUtNJ",
        "colab_type": "code",
        "colab": {}
      },
      "cell_type": "code",
      "source": [
        "from fastai.gen_doc.nbdoc import *\n",
        "from fastai.basics import *\n",
        "np.random.seed(42)"
      ],
      "execution_count": 0,
      "outputs": []
    },
    {
      "metadata": {
        "id": "Ag27ykw3UtNM",
        "colab_type": "text"
      },
      "cell_type": "markdown",
      "source": [
        "The data block API lets you customize the creation of a [`DataBunch`](/basic_data.html#DataBunch) by isolating the underlying parts of that process in separate blocks, mainly:\n",
        "  1. Where are the inputs and how to create them?\n",
        "  1. How to split the data into a training and validation sets?\n",
        "  1. How to label the inputs?\n",
        "  1. What transforms to apply?\n",
        "  1. How to add a test set?\n",
        "  1. How to wrap in dataloaders and create the [`DataBunch`](/basic_data.html#DataBunch)?\n",
        "  \n",
        "Each of these may be addresses with a specific block designed for your unique setup. Your inputs might be in a folder, a csv file, or a dataframe. You may want to split them randomly, by certain indices or depending on the folder they are in. You can have your labels in your csv file or your dataframe, but it may come from folders or a specific function of the input. You may choose to add data augmentation or not. A test set is optional too. Finally you have to set the arguments to put the data together in a [`DataBunch`](/basic_data.html#DataBunch) (batch size, collate function...)\n",
        "\n",
        "The data block API is called as such because you can mix and match each one of those blocks with the others, allowing for a total flexibility to create your customized [`DataBunch`](/basic_data.html#DataBunch) for training, validation and testing. The factory methods of the various [`DataBunch`](/basic_data.html#DataBunch) are great for beginners but you can't always make your data fit in the tracks they require.\n",
        "\n",
        "<img src=\"https://github.com/fastai/fastai/blob/master/docs_src/imgs/mix_match.png?raw=1\" alt=\"Mix and match\" width=\"200\">\n",
        "\n",
        "As usual, we'll begin with end-to-end examples, then switch to the details of each of those parts."
      ]
    },
    {
      "metadata": {
        "id": "jOWovA-UUtNO",
        "colab_type": "text"
      },
      "cell_type": "markdown",
      "source": [
        "## Examples of use"
      ]
    },
    {
      "metadata": {
        "id": "37D54x_GUtNP",
        "colab_type": "text"
      },
      "cell_type": "markdown",
      "source": [
        "Let's begin with our traditional MNIST example."
      ]
    },
    {
      "metadata": {
        "id": "NZ_7CzEOUtNR",
        "colab_type": "code",
        "colab": {}
      },
      "cell_type": "code",
      "source": [
        "from fastai.vision import *"
      ],
      "execution_count": 0,
      "outputs": []
    },
    {
      "metadata": {
        "id": "kVRRWyeIUtNV",
        "colab_type": "code",
        "outputId": "0ad0cc72-d13f-4781-f1f5-18ab29e81c8a",
        "colab": {
          "base_uri": "https://localhost:8080/",
          "height": 107
        }
      },
      "cell_type": "code",
      "source": [
        "path = untar_data(URLs.MNIST_TINY)\n",
        "tfms = get_transforms(do_flip=False)\n",
        "path.ls()"
      ],
      "execution_count": 4,
      "outputs": [
        {
          "output_type": "execute_result",
          "data": {
            "text/plain": [
              "[PosixPath('/root/.fastai/data/mnist_tiny/train'),\n",
              " PosixPath('/root/.fastai/data/mnist_tiny/models'),\n",
              " PosixPath('/root/.fastai/data/mnist_tiny/labels.csv'),\n",
              " PosixPath('/root/.fastai/data/mnist_tiny/valid'),\n",
              " PosixPath('/root/.fastai/data/mnist_tiny/test')]"
            ]
          },
          "metadata": {
            "tags": []
          },
          "execution_count": 4
        }
      ]
    },
    {
      "metadata": {
        "id": "MK9ayyOmUtNc",
        "colab_type": "code",
        "outputId": "7f873a0e-0f7f-4bac-ab9c-8d140e4f164a",
        "colab": {
          "base_uri": "https://localhost:8080/",
          "height": 53
        }
      },
      "cell_type": "code",
      "source": [
        "(path/'train').ls()"
      ],
      "execution_count": 5,
      "outputs": [
        {
          "output_type": "execute_result",
          "data": {
            "text/plain": [
              "[PosixPath('/root/.fastai/data/mnist_tiny/train/7'),\n",
              " PosixPath('/root/.fastai/data/mnist_tiny/train/3')]"
            ]
          },
          "metadata": {
            "tags": []
          },
          "execution_count": 5
        }
      ]
    },
    {
      "metadata": {
        "id": "93Pg10c0UtNh",
        "colab_type": "text"
      },
      "cell_type": "markdown",
      "source": [
        "In [`vision.data`](/vision.data.html#vision.data), we can create a [`DataBunch`](/basic_data.html#DataBunch) suitable for image classification by simply typing:"
      ]
    },
    {
      "metadata": {
        "id": "qaB_LLOSUtNi",
        "colab_type": "code",
        "colab": {}
      },
      "cell_type": "code",
      "source": [
        "data = ImageDataBunch.from_folder(path, ds_tfms=tfms, size=64)"
      ],
      "execution_count": 0,
      "outputs": []
    },
    {
      "metadata": {
        "id": "hvzzEERiUtNp",
        "colab_type": "text"
      },
      "cell_type": "markdown",
      "source": [
        "This is a shortcut method which is aimed at data that is in folders following an ImageNet style, with the [`train`](/train.html#train) and `valid` directories, each containing one subdirectory per class, where all the labelled pictures are. There is also a `test` directory containing unlabelled pictures. \n",
        "\n",
        "Here is the same code, but this time using the data block API, which can work with any style of a dataset. All the stages, which will be explained below, can be grouped together like this:"
      ]
    },
    {
      "metadata": {
        "id": "FpXcr5yDUtNr",
        "colab_type": "code",
        "colab": {}
      },
      "cell_type": "code",
      "source": [
        "data = (ImageList.from_folder(path) #Where to find the data? -> in path and its subfolders\n",
        "        .split_by_folder()              #How to split in train/valid? -> use the folders\n",
        "        .label_from_folder()            #How to label? -> depending on the folder of the filenames\n",
        "        .add_test_folder()              #Optionally add a test set (here default name is test)\n",
        "        .transform(tfms, size=64)       #Data augmentation? -> use tfms with a size of 64\n",
        "        .databunch())                   #Finally? -> use the defaults for conversion to ImageDataBunch"
      ],
      "execution_count": 0,
      "outputs": []
    },
    {
      "metadata": {
        "id": "_IgmlWyAUtNv",
        "colab_type": "text"
      },
      "cell_type": "markdown",
      "source": [
        "Now we can look at the created DataBunch:"
      ]
    },
    {
      "metadata": {
        "id": "8WZ_J1gNUtNx",
        "colab_type": "code",
        "outputId": "d58bb0fb-5c9e-4094-ec70-bfeb827430cf",
        "colab": {
          "base_uri": "https://localhost:8080/",
          "height": 437
        }
      },
      "cell_type": "code",
      "source": [
        "data.show_batch(3, figsize=(6,6), hide_axis=False)"
      ],
      "execution_count": 8,
      "outputs": [
        {
          "output_type": "display_data",
          "data": {
            "image/png": "[encoded data removed]",
            "text/plain": [
              "<Figure size 432x432 with 9 Axes>"
            ]
          },
          "metadata": {
            "tags": []
          }
        }
      ]
    },
    {
      "metadata": {
        "id": "4TMtIIT6UtN2",
        "colab_type": "text"
      },
      "cell_type": "markdown",
      "source": [
        "Let's look at another example from [`vision.data`](/vision.data.html#vision.data) with the planet dataset. This time, it's a multiclassification problem with the labels in a csv file and no given split between valid and train data, so we use a random split. The factory method is:"
      ]
    },
    {
      "metadata": {
        "id": "FaN80EVdUtN3",
        "colab_type": "code",
        "colab": {}
      },
      "cell_type": "code",
      "source": [
        "planet = untar_data(URLs.PLANET_TINY)\n",
        "planet_tfms = get_transforms(flip_vert=True, max_lighting=0.1, max_zoom=1.05, max_warp=0.)"
      ],
      "execution_count": 0,
      "outputs": []
    },
    {
      "metadata": {
        "id": "zxuuiednUtN7",
        "colab_type": "code",
        "outputId": "972d7e22-3b7c-47ad-b5ff-b65723d22d28",
        "colab": {
          "base_uri": "https://localhost:8080/",
          "height": 202
        }
      },
      "cell_type": "code",
      "source": [
        "pd.read_csv(planet/\"labels.csv\").head()"
      ],
      "execution_count": 10,
      "outputs": [
        {
          "output_type": "execute_result",
          "data": {
            "text/html": [
              "<div>\n",
              "<style scoped>\n",
              "    .dataframe tbody tr th:only-of-type {\n",
              "        vertical-align: middle;\n",
              "    }\n",
              "\n",
              "    .dataframe tbody tr th {\n",
              "        vertical-align: top;\n",
              "    }\n",
              "\n",
              "    .dataframe thead th {\n",
              "        text-align: right;\n",
              "    }\n",
              "</style>\n",
              "<table border=\"1\" class=\"dataframe\">\n",
              "  <thead>\n",
              "    <tr style=\"text-align: right;\">\n",
              "      <th></th>\n",
              "      <th>image_name</th>\n",
              "      <th>tags</th>\n",
              "    </tr>\n",
              "  </thead>\n",
              "  <tbody>\n",
              "    <tr>\n",
              "      <th>0</th>\n",
              "      <td>train_31112</td>\n",
              "      <td>clear primary</td>\n",
              "    </tr>\n",
              "    <tr>\n",
              "      <th>1</th>\n",
              "      <td>train_4300</td>\n",
              "      <td>partly_cloudy primary water</td>\n",
              "    </tr>\n",
              "    <tr>\n",
              "      <th>2</th>\n",
              "      <td>train_39539</td>\n",
              "      <td>clear primary water</td>\n",
              "    </tr>\n",
              "    <tr>\n",
              "      <th>3</th>\n",
              "      <td>train_12498</td>\n",
              "      <td>agriculture clear primary road</td>\n",
              "    </tr>\n",
              "    <tr>\n",
              "      <th>4</th>\n",
              "      <td>train_9320</td>\n",
              "      <td>clear primary</td>\n",
              "    </tr>\n",
              "  </tbody>\n",
              "</table>\n",
              "</div>"
            ],
            "text/plain": [
              "    image_name                            tags\n",
              "0  train_31112                   clear primary\n",
              "1   train_4300     partly_cloudy primary water\n",
              "2  train_39539             clear primary water\n",
              "3  train_12498  agriculture clear primary road\n",
              "4   train_9320                   clear primary"
            ]
          },
          "metadata": {
            "tags": []
          },
          "execution_count": 10
        }
      ]
    },
    {
      "metadata": {
        "id": "cAiwZY8IUtOA",
        "colab_type": "code",
        "colab": {}
      },
      "cell_type": "code",
      "source": [
        "data = ImageDataBunch.from_csv(planet, folder='train', size=128, suffix='.jpg', label_delim = ' ', ds_tfms=planet_tfms)"
      ],
      "execution_count": 0,
      "outputs": []
    },
    {
      "metadata": {
        "id": "7NinzHMuUtOG",
        "colab_type": "text"
      },
      "cell_type": "markdown",
      "source": [
        "With the data block API we can rewrite this like that:"
      ]
    },
    {
      "metadata": {
        "id": "vzJIJdE-UtOH",
        "colab_type": "code",
        "outputId": "b46889e1-146d-4246-8645-08509c649ab1",
        "colab": {
          "base_uri": "https://localhost:8080/",
          "height": 53
        }
      },
      "cell_type": "code",
      "source": [
        "planet.ls()"
      ],
      "execution_count": 12,
      "outputs": [
        {
          "output_type": "execute_result",
          "data": {
            "text/plain": [
              "[PosixPath('/root/.fastai/data/planet_tiny/train'),\n",
              " PosixPath('/root/.fastai/data/planet_tiny/labels.csv')]"
            ]
          },
          "metadata": {
            "tags": []
          },
          "execution_count": 12
        }
      ]
    },
    {
      "metadata": {
        "id": "vgFLjR9zUtON",
        "colab_type": "code",
        "outputId": "c22abf2f-a0a2-40ba-bded-4d3aecc2acd0",
        "colab": {
          "base_uri": "https://localhost:8080/",
          "height": 202
        }
      },
      "cell_type": "code",
      "source": [
        "pd.read_csv(planet/\"labels.csv\").head()"
      ],
      "execution_count": 13,
      "outputs": [
        {
          "output_type": "execute_result",
          "data": {
            "text/html": [
              "<div>\n",
              "<style scoped>\n",
              "    .dataframe tbody tr th:only-of-type {\n",
              "        vertical-align: middle;\n",
              "    }\n",
              "\n",
              "    .dataframe tbody tr th {\n",
              "        vertical-align: top;\n",
              "    }\n",
              "\n",
              "    .dataframe thead th {\n",
              "        text-align: right;\n",
              "    }\n",
              "</style>\n",
              "<table border=\"1\" class=\"dataframe\">\n",
              "  <thead>\n",
              "    <tr style=\"text-align: right;\">\n",
              "      <th></th>\n",
              "      <th>image_name</th>\n",
              "      <th>tags</th>\n",
              "    </tr>\n",
              "  </thead>\n",
              "  <tbody>\n",
              "    <tr>\n",
              "      <th>0</th>\n",
              "      <td>train_31112</td>\n",
              "      <td>clear primary</td>\n",
              "    </tr>\n",
              "    <tr>\n",
              "      <th>1</th>\n",
              "      <td>train_4300</td>\n",
              "      <td>partly_cloudy primary water</td>\n",
              "    </tr>\n",
              "    <tr>\n",
              "      <th>2</th>\n",
              "      <td>train_39539</td>\n",
              "      <td>clear primary water</td>\n",
              "    </tr>\n",
              "    <tr>\n",
              "      <th>3</th>\n",
              "      <td>train_12498</td>\n",
              "      <td>agriculture clear primary road</td>\n",
              "    </tr>\n",
              "    <tr>\n",
              "      <th>4</th>\n",
              "      <td>train_9320</td>\n",
              "      <td>clear primary</td>\n",
              "    </tr>\n",
              "  </tbody>\n",
              "</table>\n",
              "</div>"
            ],
            "text/plain": [
              "    image_name                            tags\n",
              "0  train_31112                   clear primary\n",
              "1   train_4300     partly_cloudy primary water\n",
              "2  train_39539             clear primary water\n",
              "3  train_12498  agriculture clear primary road\n",
              "4   train_9320                   clear primary"
            ]
          },
          "metadata": {
            "tags": []
          },
          "execution_count": 13
        }
      ]
    },
    {
      "metadata": {
        "id": "GUFs1djuUtOS",
        "colab_type": "code",
        "colab": {}
      },
      "cell_type": "code",
      "source": [
        "data = (ImageList.from_csv(planet, 'labels.csv', folder='train', suffix='.jpg')\n",
        "        #Where to find the data? -> in planet 'train' folder\n",
        "        .split_by_rand_pct()\n",
        "        #How to split in train/valid? -> randomly with the default 20% in valid\n",
        "        .label_from_df(label_delim=' ')\n",
        "        #How to label? -> use the second column of the csv file and split the tags by ' '\n",
        "        .transform(planet_tfms, size=128)\n",
        "        #Data augmentation? -> use tfms with a size of 128\n",
        "        .databunch())                          \n",
        "        #Finally -> use the defaults for conversion to databunch"
      ],
      "execution_count": 0,
      "outputs": []
    },
    {
      "metadata": {
        "id": "kwQ7gi8YUtOY",
        "colab_type": "code",
        "outputId": "05b0d5f7-02b1-47a8-962a-327372b81f59",
        "colab": {
          "base_uri": "https://localhost:8080/",
          "height": 509
        }
      },
      "cell_type": "code",
      "source": [
        "data.show_batch(rows=2, figsize=(9,7))"
      ],
      "execution_count": 15,
      "outputs": [
        {
          "output_type": "display_data",
          "data": {
            "image/png": "[encoded data removed]",
            "text/plain": [
              "<Figure size 648x504 with 4 Axes>"
            ]
          },
          "metadata": {
            "tags": []
          }
        }
      ]
    },
    {
      "metadata": {
        "id": "O7ece8iYUtOf",
        "colab_type": "text"
      },
      "cell_type": "markdown",
      "source": [
        "The data block API also allows you to get your data together in problems for which there is no direct [`ImageDataBunch`](/vision.data.html#ImageDataBunch) factory method. For a segmentation task, for instance, we can use it to quickly get a [`DataBunch`](/basic_data.html#DataBunch). Let's take the example of the [camvid dataset](http://mi.eng.cam.ac.uk/research/projects/VideoRec/CamVid/). The images are in an 'images' folder and their corresponding mask is in a 'labels' folder."
      ]
    },
    {
      "metadata": {
        "id": "DcnYa2F4UtOh",
        "colab_type": "code",
        "colab": {}
      },
      "cell_type": "code",
      "source": [
        "camvid = untar_data(URLs.CAMVID_TINY)\n",
        "path_lbl = camvid/'labels'\n",
        "path_img = camvid/'images'"
      ],
      "execution_count": 0,
      "outputs": []
    },
    {
      "metadata": {
        "id": "UEHHMtUPUtOl",
        "colab_type": "text"
      },
      "cell_type": "markdown",
      "source": [
        "We have a file that gives us the names of the classes (what each code inside the masks corresponds to: a pedestrian, a tree, a road...)"
      ]
    },
    {
      "metadata": {
        "id": "ffZUJ6TVUtOm",
        "colab_type": "code",
        "outputId": "a24d5ad5-25ad-4a97-beee-21c10461fa28",
        "colab": {
          "base_uri": "https://localhost:8080/",
          "height": 109
        }
      },
      "cell_type": "code",
      "source": [
        "codes = np.loadtxt(camvid/'codes.txt', dtype=str); codes"
      ],
      "execution_count": 17,
      "outputs": [
        {
          "output_type": "execute_result",
          "data": {
            "text/plain": [
              "array(['Animal', 'Archway', 'Bicyclist', 'Bridge', 'Building', 'Car', 'CartLuggagePram', 'Child', 'Column_Pole',\n",
              "       'Fence', 'LaneMkgsDriv', 'LaneMkgsNonDriv', 'Misc_Text', 'MotorcycleScooter', 'OtherMoving', 'ParkingBlock',\n",
              "       'Pedestrian', 'Road', 'RoadShoulder', 'Sidewalk', 'SignSymbol', 'Sky', 'SUVPickupTruck', 'TrafficCone',\n",
              "       'TrafficLight', 'Train', 'Tree', 'Truck_Bus', 'Tunnel', 'VegetationMisc', 'Void', 'Wall'], dtype='<U17')"
            ]
          },
          "metadata": {
            "tags": []
          },
          "execution_count": 17
        }
      ]
    },
    {
      "metadata": {
        "id": "NSl9QDzbUtOr",
        "colab_type": "text"
      },
      "cell_type": "markdown",
      "source": [
        "And we define the following function that infers the mask filename from the image filename."
      ]
    },
    {
      "metadata": {
        "id": "DrtPMGxXUtOs",
        "colab_type": "code",
        "colab": {}
      },
      "cell_type": "code",
      "source": [
        "get_y_fn = lambda x: path_lbl/f'{x.stem}_P{x.suffix}'"
      ],
      "execution_count": 0,
      "outputs": []
    },
    {
      "metadata": {
        "id": "9QSnKDLxUtOv",
        "colab_type": "text"
      },
      "cell_type": "markdown",
      "source": [
        "Then we can easily define a [`DataBunch`](/basic_data.html#DataBunch) using the data block API. Here we need to use `tfm_y=True` in the transform call because we need the same transforms to be applied to the target mask as were applied to the image."
      ]
    },
    {
      "metadata": {
        "id": "jcZRl73bUtOw",
        "colab_type": "code",
        "colab": {}
      },
      "cell_type": "code",
      "source": [
        "data = (SegmentationItemList.from_folder(path_img)\n",
        "        #Where to find the data? -> in path_img and its subfolders\n",
        "        .split_by_rand_pct()\n",
        "        #How to split in train/valid? -> randomly with the default 20% in valid\n",
        "        .label_from_func(get_y_fn, classes=codes)\n",
        "        #How to label? -> use the label function on the file name of the data\n",
        "        .transform(get_transforms(), tfm_y=True, size=128)\n",
        "        #Data augmentation? -> use tfms with a size of 128, also transform the label images\n",
        "        .databunch())\n",
        "        #Finally -> use the defaults for conversion to databunch"
      ],
      "execution_count": 0,
      "outputs": []
    },
    {
      "metadata": {
        "id": "IWLapzlSUtOy",
        "colab_type": "code",
        "outputId": "336d7533-71d3-4442-f20e-0afe3c907725",
        "colab": {
          "base_uri": "https://localhost:8080/",
          "height": 365
        }
      },
      "cell_type": "code",
      "source": [
        "data.show_batch(rows=2, figsize=(7,5))"
      ],
      "execution_count": 20,
      "outputs": [
        {
          "output_type": "display_data",
          "data": {
            "image/png": "[encoded data removed]",
            "text/plain": [
              "<Figure size 504x360 with 4 Axes>"
            ]
          },
          "metadata": {
            "tags": []
          }
        }
      ]
    },
    {
      "metadata": {
        "id": "EQsTKWkEUtO2",
        "colab_type": "text"
      },
      "cell_type": "markdown",
      "source": [
        "Another example for object detection. We use our tiny sample of the [COCO dataset](http://cocodataset.org/#home) here. There is a helper function in the library that reads the annotation file and returns the list of images names with the list of labelled bboxes associated to it. We convert it to a dictionary that maps image names with their bboxes and then write the function that will give us the target for each image filename."
      ]
    },
    {
      "metadata": {
        "id": "ot2mD5UwUtO3",
        "colab_type": "code",
        "colab": {}
      },
      "cell_type": "code",
      "source": [
        "coco = untar_data(URLs.COCO_TINY)\n",
        "images, lbl_bbox = get_annotations(coco/'train.json')\n",
        "img2bbox = dict(zip(images, lbl_bbox))\n",
        "get_y_func = lambda o:img2bbox[o.name]"
      ],
      "execution_count": 0,
      "outputs": []
    },
    {
      "metadata": {
        "id": "GWzYrPrHUtO9",
        "colab_type": "text"
      },
      "cell_type": "markdown",
      "source": [
        "The following code is very similar to what we saw before. The only new addition is the use of a special function to collate the samples in batches. This comes from the fact that our images may have multiple bounding boxes, so we need to pad them to the largest number of bounding boxes."
      ]
    },
    {
      "metadata": {
        "id": "RZfBeCQdUtO-",
        "colab_type": "code",
        "colab": {}
      },
      "cell_type": "code",
      "source": [
        "data = (ObjectItemList.from_folder(coco)\n",
        "        #Where are the images? -> in coco and its subfolders\n",
        "        .split_by_rand_pct()                          \n",
        "        #How to split in train/valid? -> randomly with the default 20% in valid\n",
        "        .label_from_func(get_y_func)\n",
        "        #How to find the labels? -> use get_y_func on the file name of the data\n",
        "        .transform(get_transforms(), tfm_y=True)\n",
        "        #Data augmentation? -> Standard transforms; also transform the label images\n",
        "        .databunch(bs=16, collate_fn=bb_pad_collate))   \n",
        "        #Finally we convert to a DataBunch, use a batch size of 16,\n",
        "        # and we use bb_pad_collate to collate the data into a mini-batch"
      ],
      "execution_count": 0,
      "outputs": []
    },
    {
      "metadata": {
        "id": "_OZbdVM8UtPC",
        "colab_type": "code",
        "outputId": "fbb8c851-4aeb-411e-ab4f-b831f0edaae7",
        "colab": {
          "base_uri": "https://localhost:8080/",
          "height": 429
        }
      },
      "cell_type": "code",
      "source": [
        "data.show_batch(rows=2, ds_type=DatasetType.Valid, figsize=(6,6))"
      ],
      "execution_count": 23,
      "outputs": [
        {
          "output_type": "display_data",
          "data": {
            "image/png": "[encoded data removed]",
            "text/plain": [
              "<Figure size 432x432 with 4 Axes>"
            ]
          },
          "metadata": {
            "tags": []
          }
        }
      ]
    },
    {
      "metadata": {
        "id": "D0Logrv3UtPI",
        "colab_type": "text"
      },
      "cell_type": "markdown",
      "source": [
        "But vision isn't the only application where the data block API works. It can also be used for text and tabular data. With our sample of the IMDB dataset (labelled texts in a csv file), here is how to get the data together for a language model."
      ]
    },
    {
      "metadata": {
        "id": "kBm6E2mMUtPJ",
        "colab_type": "code",
        "colab": {}
      },
      "cell_type": "code",
      "source": [
        "from fastai.text import *"
      ],
      "execution_count": 0,
      "outputs": []
    },
    {
      "metadata": {
        "id": "CO7xxhPeUtPN",
        "colab_type": "code",
        "colab": {}
      },
      "cell_type": "code",
      "source": [
        "imdb = untar_data(URLs.IMDB_SAMPLE)"
      ],
      "execution_count": 0,
      "outputs": []
    },
    {
      "metadata": {
        "id": "mGnWfZAAUtPQ",
        "colab_type": "code",
        "colab": {}
      },
      "cell_type": "code",
      "source": [
        "data_lm = (TextList\n",
        "           .from_csv(imdb, 'texts.csv', cols='text')\n",
        "           #Where are the text? Column 'text' of texts.csv\n",
        "           .split_by_rand_pct()\n",
        "           #How to split it? Randomly with the default 20% in valid\n",
        "           .label_for_lm()\n",
        "           #Label it for a language model\n",
        "           .databunch())\n",
        "           #Finally we convert to a DataBunch"
      ],
      "execution_count": 0,
      "outputs": []
    },
    {
      "metadata": {
        "id": "TKTj6fSwUtPT",
        "colab_type": "code",
        "outputId": "62e7d99b-80e2-4fc7-cc20-bceac2a42eda",
        "colab": {
          "base_uri": "https://localhost:8080/",
          "height": 462
        }
      },
      "cell_type": "code",
      "source": [
        "data_lm.show_batch()"
      ],
      "execution_count": 27,
      "outputs": [
        {
          "output_type": "display_data",
          "data": {
            "text/html": [
              "<table border=\"1\" class=\"dataframe\">\n",
              "  <thead>\n",
              "    <tr style=\"text-align: right;\">\n",
              "      <th>idx</th>\n",
              "      <th>text</th>\n",
              "    </tr>\n",
              "  </thead>\n",
              "  <tbody>\n",
              "    <tr>\n",
              "      <td>0</td>\n",
              "      <td>! ! ! xxmaj finally this was directed by the guy who did xxmaj big xxmaj xxunk ? xxmaj must be a replay of xxmaj jonestown - hollywood style . xxmaj xxunk ! xxbos xxmaj this is a extremely well - made film . xxmaj the acting , script and camera - work are all first - rate . xxmaj the music is good , too , though it is</td>\n",
              "    </tr>\n",
              "    <tr>\n",
              "      <td>1</td>\n",
              "      <td>, co - billed with xxup the xxup xxunk xxup vampire . a xxmaj spanish - xxmaj italian co - production where a series of women in a village are being murdered around the same time a local count named xxmaj yanos xxmaj xxunk is seen on xxunk , riding off with his ' man - eating ' dog behind him . \\n \\n  xxmaj the xxunk already suspect</td>\n",
              "    </tr>\n",
              "    <tr>\n",
              "      <td>2</td>\n",
              "      <td>sad relic that is well worth seeing . xxbos i caught this on the dish last night . i liked the movie . i xxunk to xxmaj russia 3 different times ( xxunk our 2 kids ) . i ca n't put my finger on exactly why i liked this movie other than seeing \" bad \" turn \" good \" and \" good \" turn \" semi - bad</td>\n",
              "    </tr>\n",
              "    <tr>\n",
              "      <td>3</td>\n",
              "      <td>pushed him along . xxmaj the story ( if it can be called that ) is so full of holes it 's almost funny , xxmaj it never really explains why the hell he survived in the first place , or needs human flesh in order to survive . xxmaj the script is poorly written and the dialogue xxunk on just plane stupid . xxmaj the climax to movie (</td>\n",
              "    </tr>\n",
              "    <tr>\n",
              "      <td>4</td>\n",
              "      <td>the xxunk of the xxmaj xxunk xxmaj race and had the xxunk of some of those racist xxunk . xxmaj fortunately , nothing happened like the incident in the movie where the young xxmaj caucasian man went off and started shooting at a xxunk gathering . \\n \\n  i can only hope and pray that nothing like that ever will happen . \\n \\n  xxmaj so is \"</td>\n",
              "    </tr>\n",
              "  </tbody>\n",
              "</table>"
            ],
            "text/plain": [
              "<IPython.core.display.HTML object>"
            ]
          },
          "metadata": {
            "tags": []
          }
        }
      ]
    },
    {
      "metadata": {
        "id": "h3nGA7B-UtPW",
        "colab_type": "text"
      },
      "cell_type": "markdown",
      "source": [
        "For a classification problem, we just have to change the way labeling is done. Here we use the csv column `label`."
      ]
    },
    {
      "metadata": {
        "id": "YEmPaizlUtPX",
        "colab_type": "code",
        "colab": {}
      },
      "cell_type": "code",
      "source": [
        "data_clas = (TextList.from_csv(imdb, 'texts.csv', cols='text')\n",
        "                   .split_from_df(col='is_valid')\n",
        "                   .label_from_df(cols='label')\n",
        "                   .databunch())"
      ],
      "execution_count": 0,
      "outputs": []
    },
    {
      "metadata": {
        "id": "anYv-4znUtPZ",
        "colab_type": "code",
        "outputId": "a4477ea0-33ee-4f31-a72c-26a90953bd24",
        "colab": {
          "base_uri": "https://localhost:8080/",
          "height": 479
        }
      },
      "cell_type": "code",
      "source": [
        "data_clas.show_batch()"
      ],
      "execution_count": 29,
      "outputs": [
        {
          "output_type": "display_data",
          "data": {
            "text/html": [
              "<table border=\"1\" class=\"dataframe\">\n",
              "  <thead>\n",
              "    <tr style=\"text-align: right;\">\n",
              "      <th>text</th>\n",
              "      <th>target</th>\n",
              "    </tr>\n",
              "  </thead>\n",
              "  <tbody>\n",
              "    <tr>\n",
              "      <td>xxbos xxmaj raising xxmaj victor xxmaj vargas : a xxmaj review \\n \\n  xxmaj you know , xxmaj raising xxmaj victor xxmaj vargas is like sticking your hands into a big , xxunk bowl of xxunk . xxmaj it 's warm and gooey , but you 're not sure if it feels right . xxmaj try as i might , no matter how warm and gooey xxmaj raising xxmaj</td>\n",
              "      <td>negative</td>\n",
              "    </tr>\n",
              "    <tr>\n",
              "      <td>xxbos xxup the xxup shop xxup around xxup the xxup corner is one of the xxunk and most feel - good romantic comedies ever made . xxmaj there 's just no getting around that , and it 's hard to actually put one 's feeling for this film into words . xxmaj it 's not one of those films that tries too hard , nor does it come up with</td>\n",
              "      <td>positive</td>\n",
              "    </tr>\n",
              "    <tr>\n",
              "      <td>xxbos xxmaj now that xxmaj che(2008 ) has finished its relatively short xxmaj australian cinema run ( extremely limited xxunk screen in xxmaj xxunk , after xxunk ) , i can xxunk join both xxunk of \" xxmaj at xxmaj the xxmaj movies \" in taking xxmaj steven xxmaj soderbergh to task . \\n \\n  xxmaj it 's usually satisfying to watch a film director change his style /</td>\n",
              "      <td>negative</td>\n",
              "    </tr>\n",
              "    <tr>\n",
              "      <td>xxbos xxmaj this film sat on my xxmaj xxunk for weeks before i watched it . i xxunk a self - indulgent xxunk flick about relationships gone bad . i was wrong ; this was an xxunk xxunk into the screwed - up xxunk of xxmaj new xxmaj xxunk . \\n \\n  xxmaj the format is the same as xxmaj max xxmaj xxunk ' \" xxmaj la xxmaj xxunk</td>\n",
              "      <td>positive</td>\n",
              "    </tr>\n",
              "    <tr>\n",
              "      <td>xxbos xxmaj many neglect that this is n't just a classic due to the fact that it 's the first xxup 3d game , or even the first xxunk - up . xxmaj it 's also one of the first xxunk games , one of the xxunk definitely the first ) truly claustrophobic games , and just a pretty well - xxunk gaming experience in general . xxmaj with graphics</td>\n",
              "      <td>positive</td>\n",
              "    </tr>\n",
              "  </tbody>\n",
              "</table>"
            ],
            "text/plain": [
              "<IPython.core.display.HTML object>"
            ]
          },
          "metadata": {
            "tags": []
          }
        }
      ]
    },
    {
      "metadata": {
        "id": "UtI118sBUtPe",
        "colab_type": "text"
      },
      "cell_type": "markdown",
      "source": [
        "Lastly, for tabular data, we just have to pass the name of our categorical and continuous variables as an extra argument. We also add some [`PreProcessor`](/data_block.html#PreProcessor)s that are going to be applied to our data once the splitting and labelling is done."
      ]
    },
    {
      "metadata": {
        "id": "juNL1KNYUtPf",
        "colab_type": "code",
        "colab": {}
      },
      "cell_type": "code",
      "source": [
        "from fastai.tabular import *"
      ],
      "execution_count": 0,
      "outputs": []
    },
    {
      "metadata": {
        "id": "UcLmUifWUtPj",
        "colab_type": "code",
        "colab": {}
      },
      "cell_type": "code",
      "source": [
        "adult = untar_data(URLs.ADULT_SAMPLE)\n",
        "df = pd.read_csv(adult/'adult.csv')\n",
        "dep_var = 'salary'\n",
        "cat_names = ['workclass', 'education', 'marital-status', 'occupation', 'relationship', 'race', 'sex', 'native-country']\n",
        "cont_names = ['education-num', 'hours-per-week', 'age', 'capital-loss', 'fnlwgt', 'capital-gain']\n",
        "procs = [FillMissing, Categorify, Normalize]"
      ],
      "execution_count": 0,
      "outputs": []
    },
    {
      "metadata": {
        "id": "AdFDlfPDUtPm",
        "colab_type": "code",
        "colab": {}
      },
      "cell_type": "code",
      "source": [
        "data = (TabularList.from_df(df, path=adult, cat_names=cat_names, cont_names=cont_names, procs=procs)\n",
        "                           .split_by_idx(valid_idx=range(800,1000))\n",
        "                           .label_from_df(cols=dep_var)\n",
        "                           .databunch())"
      ],
      "execution_count": 0,
      "outputs": []
    },
    {
      "metadata": {
        "id": "le3w0_rgUtPq",
        "colab_type": "code",
        "outputId": "4c1b974b-d0dd-4de7-86ee-3cb8fd410bac",
        "colab": {
          "base_uri": "https://localhost:8080/",
          "height": 343
        }
      },
      "cell_type": "code",
      "source": [
        "data.show_batch()"
      ],
      "execution_count": 33,
      "outputs": [
        {
          "output_type": "display_data",
          "data": {
            "text/html": [
              "<table border=\"1\" class=\"dataframe\">\n",
              "  <thead>\n",
              "    <tr style=\"text-align: right;\">\n",
              "      <th>workclass</th>\n",
              "      <th>education</th>\n",
              "      <th>marital-status</th>\n",
              "      <th>occupation</th>\n",
              "      <th>relationship</th>\n",
              "      <th>race</th>\n",
              "      <th>sex</th>\n",
              "      <th>native-country</th>\n",
              "      <th>education-num_na</th>\n",
              "      <th>education-num</th>\n",
              "      <th>hours-per-week</th>\n",
              "      <th>age</th>\n",
              "      <th>capital-loss</th>\n",
              "      <th>fnlwgt</th>\n",
              "      <th>capital-gain</th>\n",
              "      <th>target</th>\n",
              "    </tr>\n",
              "  </thead>\n",
              "  <tbody>\n",
              "    <tr>\n",
              "      <td>Private</td>\n",
              "      <td>HS-grad</td>\n",
              "      <td>Never-married</td>\n",
              "      <td>Farming-fishing</td>\n",
              "      <td>Own-child</td>\n",
              "      <td>White</td>\n",
              "      <td>Male</td>\n",
              "      <td>United-States</td>\n",
              "      <td>False</td>\n",
              "      <td>-0.4224</td>\n",
              "      <td>-0.0356</td>\n",
              "      <td>-0.4828</td>\n",
              "      <td>-0.2164</td>\n",
              "      <td>0.5581</td>\n",
              "      <td>-0.1459</td>\n",
              "      <td>&lt;50k</td>\n",
              "    </tr>\n",
              "    <tr>\n",
              "      <td>?</td>\n",
              "      <td>Doctorate</td>\n",
              "      <td>Married-civ-spouse</td>\n",
              "      <td>?</td>\n",
              "      <td>Husband</td>\n",
              "      <td>White</td>\n",
              "      <td>Male</td>\n",
              "      <td>United-States</td>\n",
              "      <td>False</td>\n",
              "      <td>2.3157</td>\n",
              "      <td>-1.2506</td>\n",
              "      <td>1.6428</td>\n",
              "      <td>-0.2164</td>\n",
              "      <td>-0.8354</td>\n",
              "      <td>-0.1459</td>\n",
              "      <td>&gt;=50k</td>\n",
              "    </tr>\n",
              "    <tr>\n",
              "      <td>State-gov</td>\n",
              "      <td>Some-college</td>\n",
              "      <td>Never-married</td>\n",
              "      <td>Adm-clerical</td>\n",
              "      <td>Not-in-family</td>\n",
              "      <td>White</td>\n",
              "      <td>Female</td>\n",
              "      <td>United-States</td>\n",
              "      <td>False</td>\n",
              "      <td>-0.0312</td>\n",
              "      <td>0.7743</td>\n",
              "      <td>-0.7760</td>\n",
              "      <td>-0.2164</td>\n",
              "      <td>0.8335</td>\n",
              "      <td>-0.1459</td>\n",
              "      <td>&lt;50k</td>\n",
              "    </tr>\n",
              "    <tr>\n",
              "      <td>Self-emp-not-inc</td>\n",
              "      <td>HS-grad</td>\n",
              "      <td>Married-civ-spouse</td>\n",
              "      <td>Exec-managerial</td>\n",
              "      <td>Husband</td>\n",
              "      <td>White</td>\n",
              "      <td>Male</td>\n",
              "      <td>United-States</td>\n",
              "      <td>False</td>\n",
              "      <td>-0.4224</td>\n",
              "      <td>2.3943</td>\n",
              "      <td>-0.3362</td>\n",
              "      <td>-0.2164</td>\n",
              "      <td>-1.3274</td>\n",
              "      <td>-0.1459</td>\n",
              "      <td>&lt;50k</td>\n",
              "    </tr>\n",
              "    <tr>\n",
              "      <td>Private</td>\n",
              "      <td>Bachelors</td>\n",
              "      <td>Married-civ-spouse</td>\n",
              "      <td>Exec-managerial</td>\n",
              "      <td>Husband</td>\n",
              "      <td>White</td>\n",
              "      <td>Male</td>\n",
              "      <td>United-States</td>\n",
              "      <td>False</td>\n",
              "      <td>1.1422</td>\n",
              "      <td>0.7743</td>\n",
              "      <td>1.7161</td>\n",
              "      <td>-0.2164</td>\n",
              "      <td>-0.3397</td>\n",
              "      <td>-0.1459</td>\n",
              "      <td>&gt;=50k</td>\n",
              "    </tr>\n",
              "  </tbody>\n",
              "</table>"
            ],
            "text/plain": [
              "<IPython.core.display.HTML object>"
            ]
          },
          "metadata": {
            "tags": []
          }
        }
      ]
    },
    {
      "metadata": {
        "id": "K6GvhlGKUtP1",
        "colab_type": "text"
      },
      "cell_type": "markdown",
      "source": [
        "## Step 1: Provide inputs"
      ]
    },
    {
      "metadata": {
        "id": "uNCGpRyqUtP2",
        "colab_type": "text"
      },
      "cell_type": "markdown",
      "source": [
        "The basic class to get your inputs into is the following one. It's also the same class that will contain all of your labels (hence the name [`ItemList`](/data_block.html#ItemList))."
      ]
    },
    {
      "metadata": {
        "hide_input": true,
        "id": "l8rTcVuMUtP3",
        "colab_type": "code",
        "outputId": "1d010295-4430-4619-83e3-513242a5c68f",
        "colab": {
          "base_uri": "https://localhost:8080/",
          "height": 35
        }
      },
      "cell_type": "code",
      "source": [
        "show_doc(ItemList, title_level=3)"
      ],
      "execution_count": 34,
      "outputs": [
        {
          "output_type": "display_data",
          "data": {
            "text/markdown": "<h3 id=\"ItemList\" class=\"doc_header\"><code>class</code> <code>ItemList</code><a href=\"https://github.com/fastai/fastai/blob/master/fastai/data_block.py#L47\" class=\"source_link\" style=\"float:right\">[source]</a><a class=\"source_link\" data-toggle=\"collapse\" data-target=\"#ItemList-pytest\" style=\"float:right; padding-right:10px\">[test]</a></h3>\n\n> <code>ItemList</code>(**`items`**:`Iterator`, **`path`**:`PathOrStr`=***`'.'`***, **`label_cls`**:`Callable`=***`None`***, **`inner_df`**:`Any`=***`None`***, **`processor`**:`Union`\\[[`PreProcessor`](/data_block.html#PreProcessor), `Collection`\\[[`PreProcessor`](/data_block.html#PreProcessor)\\]\\]=***`None`***, **`x`**:`ItemList`=***`None`***, **`ignore_empty`**:`bool`=***`False`***)\n\n<div class=\"collapse\" id=\"ItemList-pytest\"><div class=\"card card-body pytest_card\"><a type=\"button\" data-toggle=\"collapse\" data-target=\"#ItemList-pytest\" class=\"close\" aria-label=\"Close\"><span aria-hidden=\"true\">&times;</span></a><p>No tests found for <code>ItemList</code>. To contribute a test please refer to <a href=\"/dev/test.html\">this guide</a> and <a href=\"https://forums.fast.ai/t/improving-expanding-functional-tests/32929\">this discussion</a>.</p></div></div>\n\nA collection of items with `__len__` and `__getitem__` with `ndarray` indexing semantics.  ",
            "text/plain": [
              "<IPython.core.display.Markdown object>"
            ]
          },
          "metadata": {
            "tags": []
          }
        }
      ]
    },
    {
      "metadata": {
        "hide_input": true,
        "id": "AlDqSBUGUtP7",
        "colab_type": "text"
      },
      "cell_type": "markdown",
      "source": [
        "This class regroups the inputs for our model in `items` and saves a `path` attribute which is where it will look for any files (image files, csv file with labels...). `label_cls` will be called to create the labels from the result of the label function, `inner_df` is an underlying dataframe, and `processor` is to be applied to the inputs after the splitting and labeling."
      ]
    },
    {
      "metadata": {
        "id": "EzKYRF3FUtP8",
        "colab_type": "text"
      },
      "cell_type": "markdown",
      "source": [
        "It has multiple subclasses depending on the type of data you're handling. Here is a quick list:\n",
        "  - [`CategoryList`](/data_block.html#CategoryList) for labels in classification\n",
        "  - [`MultiCategoryList`](/data_block.html#MultiCategoryList) for labels in a multi classification problem\n",
        "  - [`FloatList`](/data_block.html#FloatList) for float labels in a regression problem\n",
        "  - [`ImageList`](/vision.data.html#ImageList) for data that are images\n",
        "  - [`SegmentationItemList`](/vision.data.html#SegmentationItemList) like [`ImageList`](/vision.data.html#ImageList) but will default labels to [`SegmentationLabelList`](/vision.data.html#SegmentationLabelList)\n",
        "  - [`SegmentationLabelList`](/vision.data.html#SegmentationLabelList) for segmentation masks\n",
        "  - [`ObjectItemList`](/vision.data.html#ObjectItemList) like [`ImageList`](/vision.data.html#ImageList) but will default labels to `ObjectLabelList`\n",
        "  - `ObjectLabelList` for object detection\n",
        "  - [`PointsItemList`](/vision.data.html#PointsItemList) for points (of the type [`ImagePoints`](/vision.image.html#ImagePoints))\n",
        "  - [`ImageImageList`](/vision.data.html#ImageImageList) for image to image tasks\n",
        "  - [`TextList`](/text.data.html#TextList) for text data\n",
        "  - [`TextList`](/text.data.html#TextList) for text data stored in files\n",
        "  - [`TabularList`](/tabular.data.html#TabularList) for tabular data\n",
        "  - [`CollabList`](/collab.html#CollabList) for collaborative filtering"
      ]
    },
    {
      "metadata": {
        "id": "xKrlM1SoUtP-",
        "colab_type": "text"
      },
      "cell_type": "markdown",
      "source": [
        "Once you have selected the class that is suitable, you can instantiate it with one of the following factory methods"
      ]
    },
    {
      "metadata": {
        "hide_input": true,
        "id": "tlHPs8jyUtP-",
        "colab_type": "code",
        "outputId": "ac869e04-9f1e-4d8d-f5ef-43bddaa671ca",
        "colab": {
          "base_uri": "https://localhost:8080/",
          "height": 35
        }
      },
      "cell_type": "code",
      "source": [
        "show_doc(ItemList.from_folder)"
      ],
      "execution_count": 35,
      "outputs": [
        {
          "output_type": "display_data",
          "data": {
            "text/markdown": "<h4 id=\"ItemList.from_folder\" class=\"doc_header\"><code>from_folder</code><a href=\"https://github.com/fastai/fastai/blob/master/fastai/data_block.py#L109\" class=\"source_link\" style=\"float:right\">[source]</a><a class=\"source_link\" data-toggle=\"collapse\" data-target=\"#ItemList-from_folder-pytest\" style=\"float:right; padding-right:10px\">[test]</a></h4>\n\n> <code>from_folder</code>(**`path`**:`PathOrStr`, **`extensions`**:`StrList`=***`None`***, **`recurse`**:`bool`=***`True`***, **`include`**:`OptStrList`=***`None`***, **`processor`**:`Union`\\[[`PreProcessor`](/data_block.html#PreProcessor), `Collection`\\[[`PreProcessor`](/data_block.html#PreProcessor)\\]\\]=***`None`***, **\\*\\*`kwargs`**) → `ItemList`\n\n<div class=\"collapse\" id=\"ItemList-from_folder-pytest\"><div class=\"card card-body pytest_card\"><a type=\"button\" data-toggle=\"collapse\" data-target=\"#ItemList-from_folder-pytest\" class=\"close\" aria-label=\"Close\"><span aria-hidden=\"true\">&times;</span></a><p>No tests found for <code>from_folder</code>. To contribute a test please refer to <a href=\"/dev/test.html\">this guide</a> and <a href=\"https://forums.fast.ai/t/improving-expanding-functional-tests/32929\">this discussion</a>.</p></div></div>\n\nCreate an [`ItemList`](/data_block.html#ItemList) in `path` from the filenames that have a suffix in `extensions`. `recurse` determines if we search subfolders. ",
            "text/plain": [
              "<IPython.core.display.Markdown object>"
            ]
          },
          "metadata": {
            "tags": []
          }
        }
      ]
    },
    {
      "metadata": {
        "id": "CLNSmUm-UtQD",
        "colab_type": "code",
        "outputId": "5540c2ef-d655-476d-fcf0-2b0e34308b78",
        "colab": {
          "base_uri": "https://localhost:8080/",
          "height": 107
        }
      },
      "cell_type": "code",
      "source": [
        "path = untar_data(URLs.MNIST_TINY)\n",
        "path.ls()"
      ],
      "execution_count": 36,
      "outputs": [
        {
          "output_type": "execute_result",
          "data": {
            "text/plain": [
              "[PosixPath('/root/.fastai/data/mnist_tiny/train'),\n",
              " PosixPath('/root/.fastai/data/mnist_tiny/models'),\n",
              " PosixPath('/root/.fastai/data/mnist_tiny/labels.csv'),\n",
              " PosixPath('/root/.fastai/data/mnist_tiny/valid'),\n",
              " PosixPath('/root/.fastai/data/mnist_tiny/test')]"
            ]
          },
          "metadata": {
            "tags": []
          },
          "execution_count": 36
        }
      ]
    },
    {
      "metadata": {
        "id": "Ec6ZINaGUtQG",
        "colab_type": "code",
        "outputId": "2af652dd-3fbf-49bf-db92-5b8aa52aeb2e",
        "colab": {
          "base_uri": "https://localhost:8080/",
          "height": 91
        }
      },
      "cell_type": "code",
      "source": [
        "ImageList.from_folder(path)"
      ],
      "execution_count": 39,
      "outputs": [
        {
          "output_type": "execute_result",
          "data": {
            "text/plain": [
              "ImageList (1428 items)\n",
              "Image (3, 28, 28),Image (3, 28, 28),Image (3, 28, 28),Image (3, 28, 28),Image (3, 28, 28)\n",
              "Path: /root/.fastai/data/mnist_tiny"
            ]
          },
          "metadata": {
            "tags": []
          },
          "execution_count": 39
        }
      ]
    },
    {
      "metadata": {
        "hide_input": true,
        "id": "PIhSiSBWUtQJ",
        "colab_type": "code",
        "outputId": "a6b103e0-dc33-4f78-b366-66fa52389b4b",
        "colab": {
          "base_uri": "https://localhost:8080/",
          "height": 35
        }
      },
      "cell_type": "code",
      "source": [
        "show_doc(ItemList.from_df)"
      ],
      "execution_count": 40,
      "outputs": [
        {
          "output_type": "display_data",
          "data": {
            "text/markdown": "<h4 id=\"ItemList.from_df\" class=\"doc_header\"><code>from_df</code><a href=\"https://github.com/fastai/fastai/blob/master/fastai/data_block.py#L117\" class=\"source_link\" style=\"float:right\">[source]</a><a class=\"source_link\" data-toggle=\"collapse\" data-target=\"#ItemList-from_df-pytest\" style=\"float:right; padding-right:10px\">[test]</a></h4>\n\n> <code>from_df</code>(**`df`**:`DataFrame`, **`path`**:`PathOrStr`=***`'.'`***, **`cols`**:`IntsOrStrs`=***`0`***, **`processor`**:`Union`\\[[`PreProcessor`](/data_block.html#PreProcessor), `Collection`\\[[`PreProcessor`](/data_block.html#PreProcessor)\\]\\]=***`None`***, **\\*\\*`kwargs`**) → `ItemList`\n\n<div class=\"collapse\" id=\"ItemList-from_df-pytest\"><div class=\"card card-body pytest_card\"><a type=\"button\" data-toggle=\"collapse\" data-target=\"#ItemList-from_df-pytest\" class=\"close\" aria-label=\"Close\"><span aria-hidden=\"true\">&times;</span></a><p>No tests found for <code>from_df</code>. To contribute a test please refer to <a href=\"/dev/test.html\">this guide</a> and <a href=\"https://forums.fast.ai/t/improving-expanding-functional-tests/32929\">this discussion</a>.</p></div></div>\n\nCreate an [`ItemList`](/data_block.html#ItemList) in `path` from the inputs in the `cols` of `df`.  ",
            "text/plain": [
              "<IPython.core.display.Markdown object>"
            ]
          },
          "metadata": {
            "tags": []
          }
        }
      ]
    },
    {
      "metadata": {
        "id": "1T1wbXFlUtQP",
        "colab_type": "code",
        "outputId": "6a33de2f-3e22-4f1f-dc00-5c7f82a1ba5d",
        "colab": {
          "base_uri": "https://localhost:8080/",
          "height": 71
        }
      },
      "cell_type": "code",
      "source": [
        "path = untar_data(URLs.MNIST_SAMPLE)\n",
        "path.ls()"
      ],
      "execution_count": 41,
      "outputs": [
        {
          "output_type": "execute_result",
          "data": {
            "text/plain": [
              "[PosixPath('/root/.fastai/data/mnist_sample/train'),\n",
              " PosixPath('/root/.fastai/data/mnist_sample/labels.csv'),\n",
              " PosixPath('/root/.fastai/data/mnist_sample/valid')]"
            ]
          },
          "metadata": {
            "tags": []
          },
          "execution_count": 41
        }
      ]
    },
    {
      "metadata": {
        "id": "YYKKxwMzUtQV",
        "colab_type": "code",
        "outputId": "074792a7-2deb-457e-9b72-9ae10ba07840",
        "colab": {
          "base_uri": "https://localhost:8080/",
          "height": 202
        }
      },
      "cell_type": "code",
      "source": [
        "df = pd.read_csv(path/'labels.csv')\n",
        "df.head()"
      ],
      "execution_count": 42,
      "outputs": [
        {
          "output_type": "execute_result",
          "data": {
            "text/html": [
              "<div>\n",
              "<style scoped>\n",
              "    .dataframe tbody tr th:only-of-type {\n",
              "        vertical-align: middle;\n",
              "    }\n",
              "\n",
              "    .dataframe tbody tr th {\n",
              "        vertical-align: top;\n",
              "    }\n",
              "\n",
              "    .dataframe thead th {\n",
              "        text-align: right;\n",
              "    }\n",
              "</style>\n",
              "<table border=\"1\" class=\"dataframe\">\n",
              "  <thead>\n",
              "    <tr style=\"text-align: right;\">\n",
              "      <th></th>\n",
              "      <th>name</th>\n",
              "      <th>label</th>\n",
              "    </tr>\n",
              "  </thead>\n",
              "  <tbody>\n",
              "    <tr>\n",
              "      <th>0</th>\n",
              "      <td>train/3/7463.png</td>\n",
              "      <td>0</td>\n",
              "    </tr>\n",
              "    <tr>\n",
              "      <th>1</th>\n",
              "      <td>train/3/21102.png</td>\n",
              "      <td>0</td>\n",
              "    </tr>\n",
              "    <tr>\n",
              "      <th>2</th>\n",
              "      <td>train/3/31559.png</td>\n",
              "      <td>0</td>\n",
              "    </tr>\n",
              "    <tr>\n",
              "      <th>3</th>\n",
              "      <td>train/3/46882.png</td>\n",
              "      <td>0</td>\n",
              "    </tr>\n",
              "    <tr>\n",
              "      <th>4</th>\n",
              "      <td>train/3/26209.png</td>\n",
              "      <td>0</td>\n",
              "    </tr>\n",
              "  </tbody>\n",
              "</table>\n",
              "</div>"
            ],
            "text/plain": [
              "                name  label\n",
              "0   train/3/7463.png      0\n",
              "1  train/3/21102.png      0\n",
              "2  train/3/31559.png      0\n",
              "3  train/3/46882.png      0\n",
              "4  train/3/26209.png      0"
            ]
          },
          "metadata": {
            "tags": []
          },
          "execution_count": 42
        }
      ]
    },
    {
      "metadata": {
        "id": "nwq9yK-0UtQd",
        "colab_type": "code",
        "outputId": "27daf1c0-94d1-4229-907a-f019c5627922",
        "colab": {
          "base_uri": "https://localhost:8080/",
          "height": 91
        }
      },
      "cell_type": "code",
      "source": [
        "ImageList.from_df(df, path)"
      ],
      "execution_count": 43,
      "outputs": [
        {
          "output_type": "execute_result",
          "data": {
            "text/plain": [
              "ImageList (14434 items)\n",
              "Image (3, 28, 28),Image (3, 28, 28),Image (3, 28, 28),Image (3, 28, 28),Image (3, 28, 28)\n",
              "Path: /root/.fastai/data/mnist_sample"
            ]
          },
          "metadata": {
            "tags": []
          },
          "execution_count": 43
        }
      ]
    },
    {
      "metadata": {
        "hide_input": true,
        "id": "MSNMmHdsUtQh",
        "colab_type": "code",
        "outputId": "21c1ad35-bb2f-4c73-bcf3-e2902abc2901",
        "colab": {
          "base_uri": "https://localhost:8080/",
          "height": 35
        }
      },
      "cell_type": "code",
      "source": [
        "show_doc(ItemList.from_csv)"
      ],
      "execution_count": 44,
      "outputs": [
        {
          "output_type": "display_data",
          "data": {
            "text/markdown": "<h4 id=\"ItemList.from_csv\" class=\"doc_header\"><code>from_csv</code><a href=\"https://github.com/fastai/fastai/blob/master/fastai/data_block.py#L125\" class=\"source_link\" style=\"float:right\">[source]</a><a class=\"source_link\" data-toggle=\"collapse\" data-target=\"#ItemList-from_csv-pytest\" style=\"float:right; padding-right:10px\">[test]</a></h4>\n\n> <code>from_csv</code>(**`path`**:`PathOrStr`, **`csv_name`**:`str`, **`cols`**:`IntsOrStrs`=***`0`***, **`delimiter`**:`str`=***`None`***, **`header`**:`str`=***`'infer'`***, **`processor`**:`Union`\\[[`PreProcessor`](/data_block.html#PreProcessor), `Collection`\\[[`PreProcessor`](/data_block.html#PreProcessor)\\]\\]=***`None`***, **\\*\\*`kwargs`**) → `ItemList`\n\n<div class=\"collapse\" id=\"ItemList-from_csv-pytest\"><div class=\"card card-body pytest_card\"><a type=\"button\" data-toggle=\"collapse\" data-target=\"#ItemList-from_csv-pytest\" class=\"close\" aria-label=\"Close\"><span aria-hidden=\"true\">&times;</span></a><p>No tests found for <code>from_csv</code>. To contribute a test please refer to <a href=\"/dev/test.html\">this guide</a> and <a href=\"https://forums.fast.ai/t/improving-expanding-functional-tests/32929\">this discussion</a>.</p></div></div>\n\nCreate an [`ItemList`](/data_block.html#ItemList) in `path` from the inputs in the `cols` of `path/csv_name`  ",
            "text/plain": [
              "<IPython.core.display.Markdown object>"
            ]
          },
          "metadata": {
            "tags": []
          }
        }
      ]
    },
    {
      "metadata": {
        "id": "4zNr4UrDUtQl",
        "colab_type": "code",
        "outputId": "e8b9fcaa-400f-41bd-9436-19524df65532",
        "colab": {
          "base_uri": "https://localhost:8080/",
          "height": 71
        }
      },
      "cell_type": "code",
      "source": [
        "path = untar_data(URLs.MNIST_SAMPLE)\n",
        "path.ls()"
      ],
      "execution_count": 45,
      "outputs": [
        {
          "output_type": "execute_result",
          "data": {
            "text/plain": [
              "[PosixPath('/root/.fastai/data/mnist_sample/train'),\n",
              " PosixPath('/root/.fastai/data/mnist_sample/labels.csv'),\n",
              " PosixPath('/root/.fastai/data/mnist_sample/valid')]"
            ]
          },
          "metadata": {
            "tags": []
          },
          "execution_count": 45
        }
      ]
    },
    {
      "metadata": {
        "id": "40n-GOB7UtQp",
        "colab_type": "code",
        "outputId": "07daea14-1cb2-46a4-8db0-cf9bf8f23201",
        "colab": {
          "base_uri": "https://localhost:8080/",
          "height": 91
        }
      },
      "cell_type": "code",
      "source": [
        "ImageList.from_csv(path, 'labels.csv')"
      ],
      "execution_count": 46,
      "outputs": [
        {
          "output_type": "execute_result",
          "data": {
            "text/plain": [
              "ImageList (14434 items)\n",
              "Image (3, 28, 28),Image (3, 28, 28),Image (3, 28, 28),Image (3, 28, 28),Image (3, 28, 28)\n",
              "Path: /root/.fastai/data/mnist_sample"
            ]
          },
          "metadata": {
            "tags": []
          },
          "execution_count": 46
        }
      ]
    },
    {
      "metadata": {
        "id": "e8ylBRk7UtQu",
        "colab_type": "text"
      },
      "cell_type": "markdown",
      "source": [
        "### Optional step: filter your data"
      ]
    },
    {
      "metadata": {
        "id": "rudYi26eUtQv",
        "colab_type": "text"
      },
      "cell_type": "markdown",
      "source": [
        "The factory method may have grabbed too many items. For instance, if you were searching sub folders with the `from_folder` method, you may have gotten files you don't want. To remove those, you can use one of the following methods."
      ]
    },
    {
      "metadata": {
        "hide_input": true,
        "id": "eEuQ7nQ4UtQx",
        "colab_type": "code",
        "outputId": "c9f9001e-fcbf-4452-b33d-0ec6ff9aef40",
        "colab": {
          "base_uri": "https://localhost:8080/",
          "height": 35
        }
      },
      "cell_type": "code",
      "source": [
        "show_doc(ItemList.filter_by_func)"
      ],
      "execution_count": 47,
      "outputs": [
        {
          "output_type": "display_data",
          "data": {
            "text/markdown": "<h4 id=\"ItemList.filter_by_func\" class=\"doc_header\"><code>filter_by_func</code><a href=\"https://github.com/fastai/fastai/blob/master/fastai/data_block.py#L146\" class=\"source_link\" style=\"float:right\">[source]</a><a class=\"source_link\" data-toggle=\"collapse\" data-target=\"#ItemList-filter_by_func-pytest\" style=\"float:right; padding-right:10px\">[test]</a></h4>\n\n> <code>filter_by_func</code>(**`func`**:`Callable`) → `ItemList`\n\n<div class=\"collapse\" id=\"ItemList-filter_by_func-pytest\"><div class=\"card card-body pytest_card\"><a type=\"button\" data-toggle=\"collapse\" data-target=\"#ItemList-filter_by_func-pytest\" class=\"close\" aria-label=\"Close\"><span aria-hidden=\"true\">&times;</span></a><p>No tests found for <code>filter_by_func</code>. To contribute a test please refer to <a href=\"/dev/test.html\">this guide</a> and <a href=\"https://forums.fast.ai/t/improving-expanding-functional-tests/32929\">this discussion</a>.</p></div></div>\n\nOnly keep elements for which `func` returns `True`.  ",
            "text/plain": [
              "<IPython.core.display.Markdown object>"
            ]
          },
          "metadata": {
            "tags": []
          }
        }
      ]
    },
    {
      "metadata": {
        "id": "jlSko75XUtQ2",
        "colab_type": "code",
        "outputId": "d4e74a3e-6e28-4d82-d91e-f1d70b46a46b",
        "colab": {
          "base_uri": "https://localhost:8080/",
          "height": 202
        }
      },
      "cell_type": "code",
      "source": [
        "path = untar_data(URLs.MNIST_SAMPLE)\n",
        "df = pd.read_csv(path/'labels.csv')\n",
        "df.head()"
      ],
      "execution_count": 48,
      "outputs": [
        {
          "output_type": "execute_result",
          "data": {
            "text/html": [
              "<div>\n",
              "<style scoped>\n",
              "    .dataframe tbody tr th:only-of-type {\n",
              "        vertical-align: middle;\n",
              "    }\n",
              "\n",
              "    .dataframe tbody tr th {\n",
              "        vertical-align: top;\n",
              "    }\n",
              "\n",
              "    .dataframe thead th {\n",
              "        text-align: right;\n",
              "    }\n",
              "</style>\n",
              "<table border=\"1\" class=\"dataframe\">\n",
              "  <thead>\n",
              "    <tr style=\"text-align: right;\">\n",
              "      <th></th>\n",
              "      <th>name</th>\n",
              "      <th>label</th>\n",
              "    </tr>\n",
              "  </thead>\n",
              "  <tbody>\n",
              "    <tr>\n",
              "      <th>0</th>\n",
              "      <td>train/3/7463.png</td>\n",
              "      <td>0</td>\n",
              "    </tr>\n",
              "    <tr>\n",
              "      <th>1</th>\n",
              "      <td>train/3/21102.png</td>\n",
              "      <td>0</td>\n",
              "    </tr>\n",
              "    <tr>\n",
              "      <th>2</th>\n",
              "      <td>train/3/31559.png</td>\n",
              "      <td>0</td>\n",
              "    </tr>\n",
              "    <tr>\n",
              "      <th>3</th>\n",
              "      <td>train/3/46882.png</td>\n",
              "      <td>0</td>\n",
              "    </tr>\n",
              "    <tr>\n",
              "      <th>4</th>\n",
              "      <td>train/3/26209.png</td>\n",
              "      <td>0</td>\n",
              "    </tr>\n",
              "  </tbody>\n",
              "</table>\n",
              "</div>"
            ],
            "text/plain": [
              "                name  label\n",
              "0   train/3/7463.png      0\n",
              "1  train/3/21102.png      0\n",
              "2  train/3/31559.png      0\n",
              "3  train/3/46882.png      0\n",
              "4  train/3/26209.png      0"
            ]
          },
          "metadata": {
            "tags": []
          },
          "execution_count": 48
        }
      ]
    },
    {
      "metadata": {
        "id": "SbWUNW9QUtQ6",
        "colab_type": "text"
      },
      "cell_type": "markdown",
      "source": [
        "Suppose that you only want to keep images with a suffix \".png\". Well, this method will do magic for you."
      ]
    },
    {
      "metadata": {
        "id": "L9OrRqgyUtQ8",
        "colab_type": "code",
        "outputId": "1ca590c4-5c37-4846-b183-f212c3e34954",
        "colab": {
          "base_uri": "https://localhost:8080/",
          "height": 35
        }
      },
      "cell_type": "code",
      "source": [
        "Path(df.name[0]).suffix"
      ],
      "execution_count": 49,
      "outputs": [
        {
          "output_type": "execute_result",
          "data": {
            "text/plain": [
              "'.png'"
            ]
          },
          "metadata": {
            "tags": []
          },
          "execution_count": 49
        }
      ]
    },
    {
      "metadata": {
        "id": "4UwAr_ktUtRA",
        "colab_type": "code",
        "outputId": "36f939e1-34f9-41a9-d44e-3c3447b8366a",
        "colab": {
          "base_uri": "https://localhost:8080/",
          "height": 91
        }
      },
      "cell_type": "code",
      "source": [
        "ImageList.from_df(df, path).filter_by_func(lambda fname: Path(fname).suffix == '.png')"
      ],
      "execution_count": 50,
      "outputs": [
        {
          "output_type": "execute_result",
          "data": {
            "text/plain": [
              "ImageList (14434 items)\n",
              "Image (3, 28, 28),Image (3, 28, 28),Image (3, 28, 28),Image (3, 28, 28),Image (3, 28, 28)\n",
              "Path: /root/.fastai/data/mnist_sample"
            ]
          },
          "metadata": {
            "tags": []
          },
          "execution_count": 50
        }
      ]
    },
    {
      "metadata": {
        "hide_input": true,
        "id": "4epPPtgNUtRD",
        "colab_type": "code",
        "outputId": "11067b56-9762-4b59-e37b-7f69de8d5b48",
        "colab": {
          "base_uri": "https://localhost:8080/",
          "height": 35
        }
      },
      "cell_type": "code",
      "source": [
        "show_doc(ItemList.filter_by_folder)"
      ],
      "execution_count": 51,
      "outputs": [
        {
          "output_type": "display_data",
          "data": {
            "text/markdown": "<h4 id=\"ItemList.filter_by_folder\" class=\"doc_header\"><code>filter_by_folder</code><a href=\"https://github.com/fastai/fastai/blob/master/fastai/data_block.py#L151\" class=\"source_link\" style=\"float:right\">[source]</a><a class=\"source_link\" data-toggle=\"collapse\" data-target=\"#ItemList-filter_by_folder-pytest\" style=\"float:right; padding-right:10px\">[test]</a></h4>\n\n> <code>filter_by_folder</code>(**`include`**=***`None`***, **`exclude`**=***`None`***)\n\n<div class=\"collapse\" id=\"ItemList-filter_by_folder-pytest\"><div class=\"card card-body pytest_card\"><a type=\"button\" data-toggle=\"collapse\" data-target=\"#ItemList-filter_by_folder-pytest\" class=\"close\" aria-label=\"Close\"><span aria-hidden=\"true\">&times;</span></a><p>No tests found for <code>filter_by_folder</code>. To contribute a test please refer to <a href=\"/dev/test.html\">this guide</a> and <a href=\"https://forums.fast.ai/t/improving-expanding-functional-tests/32929\">this discussion</a>.</p></div></div>\n\nOnly keep filenames in `include` folder or reject the ones in `exclude`.  ",
            "text/plain": [
              "<IPython.core.display.Markdown object>"
            ]
          },
          "metadata": {
            "tags": []
          }
        }
      ]
    },
    {
      "metadata": {
        "hide_input": true,
        "id": "RQkZ4jrlUtRK",
        "colab_type": "code",
        "outputId": "880f6ebd-7775-40c1-e725-74ca833db8f7",
        "colab": {
          "base_uri": "https://localhost:8080/",
          "height": 35
        }
      },
      "cell_type": "code",
      "source": [
        "show_doc(ItemList.filter_by_rand)"
      ],
      "execution_count": 52,
      "outputs": [
        {
          "output_type": "display_data",
          "data": {
            "text/markdown": "<h4 id=\"ItemList.filter_by_rand\" class=\"doc_header\"><code>filter_by_rand</code><a href=\"https://github.com/fastai/fastai/blob/master/fastai/data_block.py#L161\" class=\"source_link\" style=\"float:right\">[source]</a><a class=\"source_link\" data-toggle=\"collapse\" data-target=\"#ItemList-filter_by_rand-pytest\" style=\"float:right; padding-right:10px\">[test]</a></h4>\n\n> <code>filter_by_rand</code>(**`p`**:`float`, **`seed`**:`int`=***`None`***)\n\n<div class=\"collapse\" id=\"ItemList-filter_by_rand-pytest\"><div class=\"card card-body pytest_card\"><a type=\"button\" data-toggle=\"collapse\" data-target=\"#ItemList-filter_by_rand-pytest\" class=\"close\" aria-label=\"Close\"><span aria-hidden=\"true\">&times;</span></a><p>No tests found for <code>filter_by_rand</code>. To contribute a test please refer to <a href=\"/dev/test.html\">this guide</a> and <a href=\"https://forums.fast.ai/t/improving-expanding-functional-tests/32929\">this discussion</a>.</p></div></div>\n\nKeep random sample of `items` with probability `p` and an optional `seed`.  ",
            "text/plain": [
              "<IPython.core.display.Markdown object>"
            ]
          },
          "metadata": {
            "tags": []
          }
        }
      ]
    },
    {
      "metadata": {
        "id": "SQtxxWkIUtRO",
        "colab_type": "code",
        "outputId": "e4004ea4-4973-4b1d-82ad-9c7b46dbe7b3",
        "colab": {
          "base_uri": "https://localhost:8080/",
          "height": 91
        }
      },
      "cell_type": "code",
      "source": [
        "path = untar_data(URLs.MNIST_SAMPLE)\n",
        "ImageList.from_folder(path).filter_by_rand(0.5)"
      ],
      "execution_count": 53,
      "outputs": [
        {
          "output_type": "execute_result",
          "data": {
            "text/plain": [
              "ImageList (7261 items)\n",
              "Image (3, 28, 28),Image (3, 28, 28),Image (3, 28, 28),Image (3, 28, 28),Image (3, 28, 28)\n",
              "Path: /root/.fastai/data/mnist_sample"
            ]
          },
          "metadata": {
            "tags": []
          },
          "execution_count": 53
        }
      ]
    },
    {
      "metadata": {
        "id": "FWZPBiy8UtRS",
        "colab_type": "text"
      },
      "cell_type": "markdown",
      "source": [
        "Contrast the number of items with the list created without the filter."
      ]
    },
    {
      "metadata": {
        "id": "atXVAV0RUtRT",
        "colab_type": "code",
        "outputId": "71f7d0ac-a6f4-4e53-f1b8-34258487706c",
        "colab": {
          "base_uri": "https://localhost:8080/",
          "height": 91
        }
      },
      "cell_type": "code",
      "source": [
        "ImageList.from_folder(path)"
      ],
      "execution_count": 54,
      "outputs": [
        {
          "output_type": "execute_result",
          "data": {
            "text/plain": [
              "ImageList (14434 items)\n",
              "Image (3, 28, 28),Image (3, 28, 28),Image (3, 28, 28),Image (3, 28, 28),Image (3, 28, 28)\n",
              "Path: /root/.fastai/data/mnist_sample"
            ]
          },
          "metadata": {
            "tags": []
          },
          "execution_count": 54
        }
      ]
    },
    {
      "metadata": {
        "hide_input": true,
        "id": "d-ex--aOUtRW",
        "colab_type": "code",
        "outputId": "d612d845-ac03-4c3c-d58c-58e28a157f76",
        "colab": {
          "base_uri": "https://localhost:8080/",
          "height": 35
        }
      },
      "cell_type": "code",
      "source": [
        "show_doc(ItemList.to_text)"
      ],
      "execution_count": 55,
      "outputs": [
        {
          "output_type": "display_data",
          "data": {
            "text/markdown": "<h4 id=\"ItemList.to_text\" class=\"doc_header\"><code>to_text</code><a href=\"https://github.com/fastai/fastai/blob/master/fastai/data_block.py#L142\" class=\"source_link\" style=\"float:right\">[source]</a><a class=\"source_link\" data-toggle=\"collapse\" data-target=\"#ItemList-to_text-pytest\" style=\"float:right; padding-right:10px\">[test]</a></h4>\n\n> <code>to_text</code>(**`fn`**:`str`)\n\n<div class=\"collapse\" id=\"ItemList-to_text-pytest\"><div class=\"card card-body pytest_card\"><a type=\"button\" data-toggle=\"collapse\" data-target=\"#ItemList-to_text-pytest\" class=\"close\" aria-label=\"Close\"><span aria-hidden=\"true\">&times;</span></a><p>No tests found for <code>to_text</code>. To contribute a test please refer to <a href=\"/dev/test.html\">this guide</a> and <a href=\"https://forums.fast.ai/t/improving-expanding-functional-tests/32929\">this discussion</a>.</p></div></div>\n\nSave `self.items` to `fn` in `self.path`.  ",
            "text/plain": [
              "<IPython.core.display.Markdown object>"
            ]
          },
          "metadata": {
            "tags": []
          }
        }
      ]
    },
    {
      "metadata": {
        "id": "3ZJKGG9IUtRZ",
        "colab_type": "code",
        "outputId": "01059589-2e44-44e1-f613-ed7f017bf426",
        "colab": {
          "base_uri": "https://localhost:8080/",
          "height": 202
        }
      },
      "cell_type": "code",
      "source": [
        "path = untar_data(URLs.MNIST_SAMPLE)\n",
        "pd.read_csv(path/'labels.csv').head()"
      ],
      "execution_count": 56,
      "outputs": [
        {
          "output_type": "execute_result",
          "data": {
            "text/html": [
              "<div>\n",
              "<style scoped>\n",
              "    .dataframe tbody tr th:only-of-type {\n",
              "        vertical-align: middle;\n",
              "    }\n",
              "\n",
              "    .dataframe tbody tr th {\n",
              "        vertical-align: top;\n",
              "    }\n",
              "\n",
              "    .dataframe thead th {\n",
              "        text-align: right;\n",
              "    }\n",
              "</style>\n",
              "<table border=\"1\" class=\"dataframe\">\n",
              "  <thead>\n",
              "    <tr style=\"text-align: right;\">\n",
              "      <th></th>\n",
              "      <th>name</th>\n",
              "      <th>label</th>\n",
              "    </tr>\n",
              "  </thead>\n",
              "  <tbody>\n",
              "    <tr>\n",
              "      <th>0</th>\n",
              "      <td>train/3/7463.png</td>\n",
              "      <td>0</td>\n",
              "    </tr>\n",
              "    <tr>\n",
              "      <th>1</th>\n",
              "      <td>train/3/21102.png</td>\n",
              "      <td>0</td>\n",
              "    </tr>\n",
              "    <tr>\n",
              "      <th>2</th>\n",
              "      <td>train/3/31559.png</td>\n",
              "      <td>0</td>\n",
              "    </tr>\n",
              "    <tr>\n",
              "      <th>3</th>\n",
              "      <td>train/3/46882.png</td>\n",
              "      <td>0</td>\n",
              "    </tr>\n",
              "    <tr>\n",
              "      <th>4</th>\n",
              "      <td>train/3/26209.png</td>\n",
              "      <td>0</td>\n",
              "    </tr>\n",
              "  </tbody>\n",
              "</table>\n",
              "</div>"
            ],
            "text/plain": [
              "                name  label\n",
              "0   train/3/7463.png      0\n",
              "1  train/3/21102.png      0\n",
              "2  train/3/31559.png      0\n",
              "3  train/3/46882.png      0\n",
              "4  train/3/26209.png      0"
            ]
          },
          "metadata": {
            "tags": []
          },
          "execution_count": 56
        }
      ]
    },
    {
      "metadata": {
        "id": "FLyQvXkoUtRd",
        "colab_type": "code",
        "colab": {}
      },
      "cell_type": "code",
      "source": [
        "file_name = \"item_list.txt\"\n",
        "ImageList.from_folder(path).to_text(file_name)"
      ],
      "execution_count": 0,
      "outputs": []
    },
    {
      "metadata": {
        "id": "_qWzqVjMUtRg",
        "colab_type": "code",
        "outputId": "f0a505be-8a94-4e18-806c-f9ac1b05c219",
        "colab": {
          "base_uri": "https://localhost:8080/",
          "height": 197
        }
      },
      "cell_type": "code",
      "source": [
        "! cat {path/file_name} | head"
      ],
      "execution_count": 58,
      "outputs": [
        {
          "output_type": "stream",
          "text": [
            "train/7/3317.png\n",
            "train/7/1054.png\n",
            "train/7/11838.png\n",
            "train/7/11616.png\n",
            "train/7/40118.png\n",
            "train/7/25982.png\n",
            "train/7/32819.png\n",
            "train/7/15452.png\n",
            "train/7/27155.png\n",
            "train/7/12464.png\n"
          ],
          "name": "stdout"
        }
      ]
    },
    {
      "metadata": {
        "hide_input": true,
        "id": "q8qg9qiSUtRk",
        "colab_type": "code",
        "outputId": "00c1b67e-8996-453e-8b95-2519c1bd848b",
        "colab": {
          "base_uri": "https://localhost:8080/",
          "height": 35
        }
      },
      "cell_type": "code",
      "source": [
        "show_doc(ItemList.use_partial_data)"
      ],
      "execution_count": 59,
      "outputs": [
        {
          "output_type": "display_data",
          "data": {
            "text/markdown": "<h4 id=\"ItemList.use_partial_data\" class=\"doc_header\"><code>use_partial_data</code><a href=\"https://github.com/fastai/fastai/blob/master/fastai/data_block.py#L135\" class=\"source_link\" style=\"float:right\">[source]</a><a class=\"source_link\" data-toggle=\"collapse\" data-target=\"#ItemList-use_partial_data-pytest\" style=\"float:right; padding-right:10px\">[test]</a></h4>\n\n> <code>use_partial_data</code>(**`sample_pct`**:`float`=***`0.01`***, **`seed`**:`int`=***`None`***) → `ItemList`\n\n<div class=\"collapse\" id=\"ItemList-use_partial_data-pytest\"><div class=\"card card-body pytest_card\"><a type=\"button\" data-toggle=\"collapse\" data-target=\"#ItemList-use_partial_data-pytest\" class=\"close\" aria-label=\"Close\"><span aria-hidden=\"true\">&times;</span></a><p>No tests found for <code>use_partial_data</code>. To contribute a test please refer to <a href=\"/dev/test.html\">this guide</a> and <a href=\"https://forums.fast.ai/t/improving-expanding-functional-tests/32929\">this discussion</a>.</p></div></div>\n\nUse only a sample of `sample_pct`of the full dataset and an optional `seed`.  ",
            "text/plain": [
              "<IPython.core.display.Markdown object>"
            ]
          },
          "metadata": {
            "tags": []
          }
        }
      ]
    },
    {
      "metadata": {
        "id": "5e-v3BbSUtRn",
        "colab_type": "code",
        "outputId": "fdb14edc-2947-44c5-f428-1815cac16842",
        "colab": {
          "base_uri": "https://localhost:8080/",
          "height": 91
        }
      },
      "cell_type": "code",
      "source": [
        "path = untar_data(URLs.MNIST_SAMPLE)\n",
        "ImageList.from_folder(path).use_partial_data(0.5)"
      ],
      "execution_count": 60,
      "outputs": [
        {
          "output_type": "execute_result",
          "data": {
            "text/plain": [
              "ImageList (7217 items)\n",
              "Image (3, 28, 28),Image (3, 28, 28),Image (3, 28, 28),Image (3, 28, 28),Image (3, 28, 28)\n",
              "Path: /root/.fastai/data/mnist_sample"
            ]
          },
          "metadata": {
            "tags": []
          },
          "execution_count": 60
        }
      ]
    },
    {
      "metadata": {
        "id": "CsK-Y7lXUtRr",
        "colab_type": "text"
      },
      "cell_type": "markdown",
      "source": [
        "Contrast the number of items with the list created without the filter."
      ]
    },
    {
      "metadata": {
        "id": "20cjhc9IUtRs",
        "colab_type": "code",
        "outputId": "694c6955-8cc4-4a3e-f1f4-11e7e7c4a0b3",
        "colab": {
          "base_uri": "https://localhost:8080/",
          "height": 91
        }
      },
      "cell_type": "code",
      "source": [
        "ImageList.from_folder(path)"
      ],
      "execution_count": 61,
      "outputs": [
        {
          "output_type": "execute_result",
          "data": {
            "text/plain": [
              "ImageList (14434 items)\n",
              "Image (3, 28, 28),Image (3, 28, 28),Image (3, 28, 28),Image (3, 28, 28),Image (3, 28, 28)\n",
              "Path: /root/.fastai/data/mnist_sample"
            ]
          },
          "metadata": {
            "tags": []
          },
          "execution_count": 61
        }
      ]
    },
    {
      "metadata": {
        "id": "Ava3cMynUtRu",
        "colab_type": "text"
      },
      "cell_type": "markdown",
      "source": [
        "### Writing your own [`ItemList`](/data_block.html#ItemList)"
      ]
    },
    {
      "metadata": {
        "id": "eAH3ZA8hUtRv",
        "colab_type": "text"
      },
      "cell_type": "markdown",
      "source": [
        "First check if you can't easily customize one of the existing subclass by:\n",
        "- subclassing an existing one and replacing the `get` method (or the `open` method if you're dealing with images)\n",
        "- applying a custom `processor` (see step 4)\n",
        "- changing the default `label_cls` for the label creation\n",
        "- adding a default [`PreProcessor`](/data_block.html#PreProcessor) with the `_processor` class variable\n",
        "\n",
        "If this isn't the case and you really need to write your own class, there is a [full tutorial](/tutorial.itemlist) that explains how to proceed."
      ]
    },
    {
      "metadata": {
        "hide_input": true,
        "id": "h9rp4QlpUtRw",
        "colab_type": "code",
        "outputId": "0e8726e1-9192-45d0-88fd-09a49911a609",
        "colab": {
          "base_uri": "https://localhost:8080/",
          "height": 35
        }
      },
      "cell_type": "code",
      "source": [
        "show_doc(ItemList.analyze_pred)"
      ],
      "execution_count": 62,
      "outputs": [
        {
          "output_type": "display_data",
          "data": {
            "text/markdown": "<h4 id=\"ItemList.analyze_pred\" class=\"doc_header\"><code>analyze_pred</code><a href=\"https://github.com/fastai/fastai/blob/master/fastai/data_block.py#L85\" class=\"source_link\" style=\"float:right\">[source]</a><a class=\"source_link\" data-toggle=\"collapse\" data-target=\"#ItemList-analyze_pred-pytest\" style=\"float:right; padding-right:10px\">[test]</a></h4>\n\n> <code>analyze_pred</code>(**`pred`**:`Tensor`)\n\n<div class=\"collapse\" id=\"ItemList-analyze_pred-pytest\"><div class=\"card card-body pytest_card\"><a type=\"button\" data-toggle=\"collapse\" data-target=\"#ItemList-analyze_pred-pytest\" class=\"close\" aria-label=\"Close\"><span aria-hidden=\"true\">&times;</span></a><p>No tests found for <code>analyze_pred</code>. To contribute a test please refer to <a href=\"/dev/test.html\">this guide</a> and <a href=\"https://forums.fast.ai/t/improving-expanding-functional-tests/32929\">this discussion</a>.</p></div></div>\n\nCalled on `pred` before `reconstruct` for additional preprocessing.  ",
            "text/plain": [
              "<IPython.core.display.Markdown object>"
            ]
          },
          "metadata": {
            "tags": []
          }
        }
      ]
    },
    {
      "metadata": {
        "hide_input": true,
        "id": "jSM5YorlUtRy",
        "colab_type": "code",
        "outputId": "347fe4ff-4ee4-481a-8a86-8bd9bf0248f7",
        "colab": {
          "base_uri": "https://localhost:8080/",
          "height": 35
        }
      },
      "cell_type": "code",
      "source": [
        "show_doc(ItemList.get)"
      ],
      "execution_count": 63,
      "outputs": [
        {
          "output_type": "display_data",
          "data": {
            "text/markdown": "<h4 id=\"ItemList.get\" class=\"doc_header\"><code>get</code><a href=\"https://github.com/fastai/fastai/blob/master/fastai/data_block.py#L64\" class=\"source_link\" style=\"float:right\">[source]</a><a class=\"source_link\" data-toggle=\"collapse\" data-target=\"#ItemList-get-pytest\" style=\"float:right; padding-right:10px\">[test]</a></h4>\n\n> <code>get</code>(**`i`**) → `Any`\n\n<div class=\"collapse\" id=\"ItemList-get-pytest\"><div class=\"card card-body pytest_card\"><a type=\"button\" data-toggle=\"collapse\" data-target=\"#ItemList-get-pytest\" class=\"close\" aria-label=\"Close\"><span aria-hidden=\"true\">&times;</span></a><p>No tests found for <code>get</code>. To contribute a test please refer to <a href=\"/dev/test.html\">this guide</a> and <a href=\"https://forums.fast.ai/t/improving-expanding-functional-tests/32929\">this discussion</a>.</p></div></div>\n\nSubclass if you want to customize how to create item `i` from `self.items`.  ",
            "text/plain": [
              "<IPython.core.display.Markdown object>"
            ]
          },
          "metadata": {
            "tags": []
          }
        }
      ]
    },
    {
      "metadata": {
        "hide_input": true,
        "id": "zO8nyC92UtR2",
        "colab_type": "code",
        "outputId": "0bf85d3c-083b-482a-9f88-b8f29a026b7d",
        "colab": {
          "base_uri": "https://localhost:8080/",
          "height": 35
        }
      },
      "cell_type": "code",
      "source": [
        "show_doc(ItemList.new)"
      ],
      "execution_count": 64,
      "outputs": [
        {
          "output_type": "display_data",
          "data": {
            "text/markdown": "<h4 id=\"ItemList.new\" class=\"doc_header\"><code>new</code><a href=\"https://github.com/fastai/fastai/blob/master/fastai/data_block.py#L93\" class=\"source_link\" style=\"float:right\">[source]</a><a class=\"source_link\" data-toggle=\"collapse\" data-target=\"#ItemList-new-pytest\" style=\"float:right; padding-right:10px\">[test]</a></h4>\n\n> <code>new</code>(**`items`**:`Iterator`, **`processor`**:`Union`\\[[`PreProcessor`](/data_block.html#PreProcessor), `Collection`\\[[`PreProcessor`](/data_block.html#PreProcessor)\\]\\]=***`None`***, **\\*\\*`kwargs`**) → `ItemList`\n\n<div class=\"collapse\" id=\"ItemList-new-pytest\"><div class=\"card card-body pytest_card\"><a type=\"button\" data-toggle=\"collapse\" data-target=\"#ItemList-new-pytest\" class=\"close\" aria-label=\"Close\"><span aria-hidden=\"true\">&times;</span></a><p>No tests found for <code>new</code>. To contribute a test please refer to <a href=\"/dev/test.html\">this guide</a> and <a href=\"https://forums.fast.ai/t/improving-expanding-functional-tests/32929\">this discussion</a>.</p></div></div>\n\nCreate a new [`ItemList`](/data_block.html#ItemList) from `items`, keeping the same attributes.  ",
            "text/plain": [
              "<IPython.core.display.Markdown object>"
            ]
          },
          "metadata": {
            "tags": []
          }
        }
      ]
    },
    {
      "metadata": {
        "id": "1PfvLTM2UtR7",
        "colab_type": "text"
      },
      "cell_type": "markdown",
      "source": [
        "You'll never need to subclass this normally, just don't forget to add to `self.copy_new` the names of the arguments that needs to be copied each time `new` is called in `__init__`."
      ]
    },
    {
      "metadata": {
        "hide_input": true,
        "id": "kKggXV3tUtR-",
        "colab_type": "code",
        "outputId": "c4fcbd0c-96f4-4613-8215-85d22d6bd753",
        "colab": {
          "base_uri": "https://localhost:8080/",
          "height": 35
        }
      },
      "cell_type": "code",
      "source": [
        "show_doc(ItemList.reconstruct)"
      ],
      "execution_count": 65,
      "outputs": [
        {
          "output_type": "display_data",
          "data": {
            "text/markdown": "<h4 id=\"ItemList.reconstruct\" class=\"doc_header\"><code>reconstruct</code><a href=\"https://github.com/fastai/fastai/blob/master/fastai/data_block.py#L89\" class=\"source_link\" style=\"float:right\">[source]</a><a class=\"source_link\" data-toggle=\"collapse\" data-target=\"#ItemList-reconstruct-pytest\" style=\"float:right; padding-right:10px\">[test]</a></h4>\n\n> <code>reconstruct</code>(**`t`**:`Tensor`, **`x`**:`Tensor`=***`None`***)\n\n<div class=\"collapse\" id=\"ItemList-reconstruct-pytest\"><div class=\"card card-body pytest_card\"><a type=\"button\" data-toggle=\"collapse\" data-target=\"#ItemList-reconstruct-pytest\" class=\"close\" aria-label=\"Close\"><span aria-hidden=\"true\">&times;</span></a><p>No tests found for <code>reconstruct</code>. To contribute a test please refer to <a href=\"/dev/test.html\">this guide</a> and <a href=\"https://forums.fast.ai/t/improving-expanding-functional-tests/32929\">this discussion</a>.</p></div></div>\n\nReconstruct one of the underlying item for its data `t`.  ",
            "text/plain": [
              "<IPython.core.display.Markdown object>"
            ]
          },
          "metadata": {
            "tags": []
          }
        }
      ]
    },
    {
      "metadata": {
        "id": "6PlWrU31UtSC",
        "colab_type": "text"
      },
      "cell_type": "markdown",
      "source": [
        "## Step 2: Split the data between the training and the validation set"
      ]
    },
    {
      "metadata": {
        "id": "2Qd6Uyj1UtSG",
        "colab_type": "text"
      },
      "cell_type": "markdown",
      "source": [
        "This step is normally straightforward, you just have to pick oe of the following functions depending on what you need."
      ]
    },
    {
      "metadata": {
        "hide_input": true,
        "id": "q5wvmpauUtSG",
        "colab_type": "code",
        "outputId": "0e75edcb-a4df-4059-a79e-07ade9ff7a8e",
        "colab": {
          "base_uri": "https://localhost:8080/",
          "height": 35
        }
      },
      "cell_type": "code",
      "source": [
        "show_doc(ItemList.split_none)"
      ],
      "execution_count": 66,
      "outputs": [
        {
          "output_type": "display_data",
          "data": {
            "text/markdown": "<h4 id=\"ItemList.split_none\" class=\"doc_header\"><code>split_none</code><a href=\"https://github.com/fastai/fastai/blob/master/fastai/data_block.py#L170\" class=\"source_link\" style=\"float:right\">[source]</a><a class=\"source_link\" data-toggle=\"collapse\" data-target=\"#ItemList-split_none-pytest\" style=\"float:right; padding-right:10px\">[test]</a></h4>\n\n> <code>split_none</code>()\n\n<div class=\"collapse\" id=\"ItemList-split_none-pytest\"><div class=\"card card-body pytest_card\"><a type=\"button\" data-toggle=\"collapse\" data-target=\"#ItemList-split_none-pytest\" class=\"close\" aria-label=\"Close\"><span aria-hidden=\"true\">&times;</span></a><p>No tests found for <code>split_none</code>. To contribute a test please refer to <a href=\"/dev/test.html\">this guide</a> and <a href=\"https://forums.fast.ai/t/improving-expanding-functional-tests/32929\">this discussion</a>.</p></div></div>\n\nDon't split the data and create an empty validation set.  ",
            "text/plain": [
              "<IPython.core.display.Markdown object>"
            ]
          },
          "metadata": {
            "tags": []
          }
        }
      ]
    },
    {
      "metadata": {
        "hide_input": true,
        "id": "N99LK_w-UtSJ",
        "colab_type": "code",
        "outputId": "548d67a5-61fe-4a2e-a9e7-d84164f581c5",
        "colab": {
          "base_uri": "https://localhost:8080/",
          "height": 35
        }
      },
      "cell_type": "code",
      "source": [
        "show_doc(ItemList.split_by_rand_pct)"
      ],
      "execution_count": 67,
      "outputs": [
        {
          "output_type": "display_data",
          "data": {
            "text/markdown": "<h4 id=\"ItemList.split_by_rand_pct\" class=\"doc_header\"><code>split_by_rand_pct</code><a href=\"https://github.com/fastai/fastai/blob/master/fastai/data_block.py#L201\" class=\"source_link\" style=\"float:right\">[source]</a><a class=\"source_link\" data-toggle=\"collapse\" data-target=\"#ItemList-split_by_rand_pct-pytest\" style=\"float:right; padding-right:10px\">[test]</a></h4>\n\n> <code>split_by_rand_pct</code>(**`valid_pct`**:`float`=***`0.2`***, **`seed`**:`int`=***`None`***) → `ItemLists`\n\n<div class=\"collapse\" id=\"ItemList-split_by_rand_pct-pytest\"><div class=\"card card-body pytest_card\"><a type=\"button\" data-toggle=\"collapse\" data-target=\"#ItemList-split_by_rand_pct-pytest\" class=\"close\" aria-label=\"Close\"><span aria-hidden=\"true\">&times;</span></a><p>Tests found for <code>split_by_rand_pct</code>:</p><ul><li><code>pytest -sv tests/test_data_block.py::test_splitdata_datasets</code> <a href=\"https://github.com/fastai/fastai/blob/master/tests/test_data_block.py#L101\" class=\"source_link\" style=\"float:right\">[source]</a></li></ul><p>To run tests please refer to this <a href=\"/dev/test.html#quick-guide\">guide</a>.</p></div></div>\n\nSplit the items randomly by putting `valid_pct` in the validation set, optional `seed` can be passed.  ",
            "text/plain": [
              "<IPython.core.display.Markdown object>"
            ]
          },
          "metadata": {
            "tags": []
          }
        }
      ]
    },
    {
      "metadata": {
        "id": "qTCzC6h6UtSO",
        "colab_type": "code",
        "outputId": "05d58012-1c44-4d5f-f21d-e3961d8999e1",
        "colab": {
          "base_uri": "https://localhost:8080/",
          "height": 35
        }
      },
      "cell_type": "code",
      "source": [
        "show_doc(ItemList.split_subsets)"
      ],
      "execution_count": 68,
      "outputs": [
        {
          "output_type": "display_data",
          "data": {
            "text/markdown": "<h4 id=\"ItemList.split_subsets\" class=\"doc_header\"><code>split_subsets</code><a href=\"https://github.com/fastai/fastai/blob/master/fastai/data_block.py#L209\" class=\"source_link\" style=\"float:right\">[source]</a><a class=\"source_link\" data-toggle=\"collapse\" data-target=\"#ItemList-split_subsets-pytest\" style=\"float:right; padding-right:10px\">[test]</a></h4>\n\n> <code>split_subsets</code>(**`train_size`**:`float`, **`valid_size`**:`float`, **`seed`**=***`None`***) → `ItemLists`\n\n<div class=\"collapse\" id=\"ItemList-split_subsets-pytest\"><div class=\"card card-body pytest_card\"><a type=\"button\" data-toggle=\"collapse\" data-target=\"#ItemList-split_subsets-pytest\" class=\"close\" aria-label=\"Close\"><span aria-hidden=\"true\">&times;</span></a><p>Tests found for <code>split_subsets</code>:</p><ul><li><code>pytest -sv tests/test_data_block.py::test_split_subsets</code> <a href=\"https://github.com/fastai/fastai/blob/master/tests/test_data_block.py#L110\" class=\"source_link\" style=\"float:right\">[source]</a></li></ul><p>To run tests please refer to this <a href=\"/dev/test.html#quick-guide\">guide</a>.</p></div></div>\n\nSplit the items into train set with size `train_size * n` and valid set with size `valid_size * n`.  ",
            "text/plain": [
              "<IPython.core.display.Markdown object>"
            ]
          },
          "metadata": {
            "tags": []
          }
        }
      ]
    },
    {
      "metadata": {
        "id": "V_TYtXjuUtSQ",
        "colab_type": "text"
      },
      "cell_type": "markdown",
      "source": [
        "This function is handy if you want to work with subsets of specific sizes, e.g., you want to use 20% of the data for the validation dataset, but you only want to train on a small subset of the rest of the data: `split_subsets(train_size=0.08, valid_size=0.2)`."
      ]
    },
    {
      "metadata": {
        "hide_input": true,
        "id": "jAaqzyL6UtSU",
        "colab_type": "code",
        "outputId": "c1b60102-514a-4120-b3d2-d7361ebd8e58",
        "colab": {
          "base_uri": "https://localhost:8080/",
          "height": 35
        }
      },
      "cell_type": "code",
      "source": [
        "show_doc(ItemList.split_by_files)"
      ],
      "execution_count": 69,
      "outputs": [
        {
          "output_type": "display_data",
          "data": {
            "text/markdown": "<h4 id=\"ItemList.split_by_files\" class=\"doc_header\"><code>split_by_files</code><a href=\"https://github.com/fastai/fastai/blob/master/fastai/data_block.py#L225\" class=\"source_link\" style=\"float:right\">[source]</a><a class=\"source_link\" data-toggle=\"collapse\" data-target=\"#ItemList-split_by_files-pytest\" style=\"float:right; padding-right:10px\">[test]</a></h4>\n\n> <code>split_by_files</code>(**`valid_names`**:`ItemList`) → `ItemLists`\n\n<div class=\"collapse\" id=\"ItemList-split_by_files-pytest\"><div class=\"card card-body pytest_card\"><a type=\"button\" data-toggle=\"collapse\" data-target=\"#ItemList-split_by_files-pytest\" class=\"close\" aria-label=\"Close\"><span aria-hidden=\"true\">&times;</span></a><p>No tests found for <code>split_by_files</code>. To contribute a test please refer to <a href=\"/dev/test.html\">this guide</a> and <a href=\"https://forums.fast.ai/t/improving-expanding-functional-tests/32929\">this discussion</a>.</p></div></div>\n\nSplit the data by using the names in `valid_names` for validation.  ",
            "text/plain": [
              "<IPython.core.display.Markdown object>"
            ]
          },
          "metadata": {
            "tags": []
          }
        }
      ]
    },
    {
      "metadata": {
        "hide_input": true,
        "id": "Aw-NkUcpUtSX",
        "colab_type": "code",
        "outputId": "7fad32e5-7f3f-4f87-d66a-883a480223c5",
        "colab": {
          "base_uri": "https://localhost:8080/",
          "height": 35
        }
      },
      "cell_type": "code",
      "source": [
        "show_doc(ItemList.split_by_fname_file)"
      ],
      "execution_count": 70,
      "outputs": [
        {
          "output_type": "display_data",
          "data": {
            "text/markdown": "<h4 id=\"ItemList.split_by_fname_file\" class=\"doc_header\"><code>split_by_fname_file</code><a href=\"https://github.com/fastai/fastai/blob/master/fastai/data_block.py#L230\" class=\"source_link\" style=\"float:right\">[source]</a><a class=\"source_link\" data-toggle=\"collapse\" data-target=\"#ItemList-split_by_fname_file-pytest\" style=\"float:right; padding-right:10px\">[test]</a></h4>\n\n> <code>split_by_fname_file</code>(**`fname`**:`PathOrStr`, **`path`**:`PathOrStr`=***`None`***) → `ItemLists`\n\n<div class=\"collapse\" id=\"ItemList-split_by_fname_file-pytest\"><div class=\"card card-body pytest_card\"><a type=\"button\" data-toggle=\"collapse\" data-target=\"#ItemList-split_by_fname_file-pytest\" class=\"close\" aria-label=\"Close\"><span aria-hidden=\"true\">&times;</span></a><p>No tests found for <code>split_by_fname_file</code>. To contribute a test please refer to <a href=\"/dev/test.html\">this guide</a> and <a href=\"https://forums.fast.ai/t/improving-expanding-functional-tests/32929\">this discussion</a>.</p></div></div>\n\nSplit the data by using the names in `fname` for the validation set. `path` will override `self.path`.  ",
            "text/plain": [
              "<IPython.core.display.Markdown object>"
            ]
          },
          "metadata": {
            "tags": []
          }
        }
      ]
    },
    {
      "metadata": {
        "hide_input": true,
        "id": "goEw1kbHUtSb",
        "colab_type": "code",
        "outputId": "8f0f3c90-6fcb-481c-841c-baf05c030da4",
        "colab": {
          "base_uri": "https://localhost:8080/",
          "height": 35
        }
      },
      "cell_type": "code",
      "source": [
        "show_doc(ItemList.split_by_folder)"
      ],
      "execution_count": 71,
      "outputs": [
        {
          "output_type": "display_data",
          "data": {
            "text/markdown": "<h4 id=\"ItemList.split_by_folder\" class=\"doc_header\"><code>split_by_folder</code><a href=\"https://github.com/fastai/fastai/blob/master/fastai/data_block.py#L193\" class=\"source_link\" style=\"float:right\">[source]</a><a class=\"source_link\" data-toggle=\"collapse\" data-target=\"#ItemList-split_by_folder-pytest\" style=\"float:right; padding-right:10px\">[test]</a></h4>\n\n> <code>split_by_folder</code>(**`train`**:`str`=***`'train'`***, **`valid`**:`str`=***`'valid'`***) → `ItemLists`\n\n<div class=\"collapse\" id=\"ItemList-split_by_folder-pytest\"><div class=\"card card-body pytest_card\"><a type=\"button\" data-toggle=\"collapse\" data-target=\"#ItemList-split_by_folder-pytest\" class=\"close\" aria-label=\"Close\"><span aria-hidden=\"true\">&times;</span></a><p>No tests found for <code>split_by_folder</code>. To contribute a test please refer to <a href=\"/dev/test.html\">this guide</a> and <a href=\"https://forums.fast.ai/t/improving-expanding-functional-tests/32929\">this discussion</a>.</p></div></div>\n\nSplit the data depending on the folder (`train` or `valid`) in which the filenames are.  ",
            "text/plain": [
              "<IPython.core.display.Markdown object>"
            ]
          },
          "metadata": {
            "tags": []
          }
        }
      ]
    },
    {
      "metadata": {
        "hide_input": true,
        "id": "gXI_7yZxUtSf",
        "colab_type": "code",
        "outputId": "a661be04-584e-46b8-fef0-e1e31c54e030",
        "colab": {
          "base_uri": "https://localhost:8080/",
          "height": 35
        }
      },
      "cell_type": "code",
      "source": [
        "jekyll_note(\"This method looks at the folder immediately after `self.path` for `valid` and `train`.\")"
      ],
      "execution_count": 72,
      "outputs": [
        {
          "output_type": "display_data",
          "data": {
            "text/markdown": "<div markdown=\"span\" class=\"alert alert-info\" role=\"alert\"><i class=\"fa fa-info-circle\"></i> <b>Note: </b>This method looks at the folder immediately after `self.path` for `valid` and `train`.</div>",
            "text/plain": [
              "<IPython.core.display.Markdown object>"
            ]
          },
          "metadata": {
            "tags": []
          }
        }
      ]
    },
    {
      "metadata": {
        "hide_input": true,
        "id": "MmfPoLJuUtSi",
        "colab_type": "code",
        "outputId": "b42af658-588b-48d3-c607-30fd68ab1927",
        "colab": {
          "base_uri": "https://localhost:8080/",
          "height": 35
        }
      },
      "cell_type": "code",
      "source": [
        "show_doc(ItemList.split_by_idx)"
      ],
      "execution_count": 73,
      "outputs": [
        {
          "output_type": "display_data",
          "data": {
            "text/markdown": "<h4 id=\"ItemList.split_by_idx\" class=\"doc_header\"><code>split_by_idx</code><a href=\"https://github.com/fastai/fastai/blob/master/fastai/data_block.py#L184\" class=\"source_link\" style=\"float:right\">[source]</a><a class=\"source_link\" data-toggle=\"collapse\" data-target=\"#ItemList-split_by_idx-pytest\" style=\"float:right; padding-right:10px\">[test]</a></h4>\n\n> <code>split_by_idx</code>(**`valid_idx`**:`Collection`\\[`int`\\]) → `ItemLists`\n\n<div class=\"collapse\" id=\"ItemList-split_by_idx-pytest\"><div class=\"card card-body pytest_card\"><a type=\"button\" data-toggle=\"collapse\" data-target=\"#ItemList-split_by_idx-pytest\" class=\"close\" aria-label=\"Close\"><span aria-hidden=\"true\">&times;</span></a><p>No tests found for <code>split_by_idx</code>. To contribute a test please refer to <a href=\"/dev/test.html\">this guide</a> and <a href=\"https://forums.fast.ai/t/improving-expanding-functional-tests/32929\">this discussion</a>.</p></div></div>\n\nSplit the data according to the indexes in `valid_idx`.  ",
            "text/plain": [
              "<IPython.core.display.Markdown object>"
            ]
          },
          "metadata": {
            "tags": []
          }
        }
      ]
    },
    {
      "metadata": {
        "hide_input": true,
        "id": "-e46Pp-tUtSm",
        "colab_type": "code",
        "outputId": "2f546f67-7846-4315-97ee-73ab9a9f9e78",
        "colab": {
          "base_uri": "https://localhost:8080/",
          "height": 35
        }
      },
      "cell_type": "code",
      "source": [
        "show_doc(ItemList.split_by_idxs)"
      ],
      "execution_count": 74,
      "outputs": [
        {
          "output_type": "display_data",
          "data": {
            "text/markdown": "<h4 id=\"ItemList.split_by_idxs\" class=\"doc_header\"><code>split_by_idxs</code><a href=\"https://github.com/fastai/fastai/blob/master/fastai/data_block.py#L180\" class=\"source_link\" style=\"float:right\">[source]</a><a class=\"source_link\" data-toggle=\"collapse\" data-target=\"#ItemList-split_by_idxs-pytest\" style=\"float:right; padding-right:10px\">[test]</a></h4>\n\n> <code>split_by_idxs</code>(**`train_idx`**, **`valid_idx`**)\n\n<div class=\"collapse\" id=\"ItemList-split_by_idxs-pytest\"><div class=\"card card-body pytest_card\"><a type=\"button\" data-toggle=\"collapse\" data-target=\"#ItemList-split_by_idxs-pytest\" class=\"close\" aria-label=\"Close\"><span aria-hidden=\"true\">&times;</span></a><p>No tests found for <code>split_by_idxs</code>. To contribute a test please refer to <a href=\"/dev/test.html\">this guide</a> and <a href=\"https://forums.fast.ai/t/improving-expanding-functional-tests/32929\">this discussion</a>.</p></div></div>\n\nSplit the data between `train_idx` and `valid_idx`.  ",
            "text/plain": [
              "<IPython.core.display.Markdown object>"
            ]
          },
          "metadata": {
            "tags": []
          }
        }
      ]
    },
    {
      "metadata": {
        "hide_input": true,
        "id": "oaRrMuzUUtSp",
        "colab_type": "code",
        "outputId": "7be5624b-d47b-42d2-ee1e-0e7b0d3081c6",
        "colab": {
          "base_uri": "https://localhost:8080/",
          "height": 35
        }
      },
      "cell_type": "code",
      "source": [
        "show_doc(ItemList.split_by_list)"
      ],
      "execution_count": 75,
      "outputs": [
        {
          "output_type": "display_data",
          "data": {
            "text/markdown": "<h4 id=\"ItemList.split_by_list\" class=\"doc_header\"><code>split_by_list</code><a href=\"https://github.com/fastai/fastai/blob/master/fastai/data_block.py#L176\" class=\"source_link\" style=\"float:right\">[source]</a><a class=\"source_link\" data-toggle=\"collapse\" data-target=\"#ItemList-split_by_list-pytest\" style=\"float:right; padding-right:10px\">[test]</a></h4>\n\n> <code>split_by_list</code>(**`train`**, **`valid`**)\n\n<div class=\"collapse\" id=\"ItemList-split_by_list-pytest\"><div class=\"card card-body pytest_card\"><a type=\"button\" data-toggle=\"collapse\" data-target=\"#ItemList-split_by_list-pytest\" class=\"close\" aria-label=\"Close\"><span aria-hidden=\"true\">&times;</span></a><p>No tests found for <code>split_by_list</code>. To contribute a test please refer to <a href=\"/dev/test.html\">this guide</a> and <a href=\"https://forums.fast.ai/t/improving-expanding-functional-tests/32929\">this discussion</a>.</p></div></div>\n\nSplit the data between `train` and `valid`.  ",
            "text/plain": [
              "<IPython.core.display.Markdown object>"
            ]
          },
          "metadata": {
            "tags": []
          }
        }
      ]
    },
    {
      "metadata": {
        "hide_input": true,
        "id": "wzAzB5G2UtSr",
        "colab_type": "code",
        "outputId": "c942dfb3-c353-4cf8-ce48-37021424f375",
        "colab": {
          "base_uri": "https://localhost:8080/",
          "height": 35
        }
      },
      "cell_type": "code",
      "source": [
        "show_doc(ItemList.split_by_valid_func)"
      ],
      "execution_count": 76,
      "outputs": [
        {
          "output_type": "display_data",
          "data": {
            "text/markdown": "<h4 id=\"ItemList.split_by_valid_func\" class=\"doc_header\"><code>split_by_valid_func</code><a href=\"https://github.com/fastai/fastai/blob/master/fastai/data_block.py#L220\" class=\"source_link\" style=\"float:right\">[source]</a><a class=\"source_link\" data-toggle=\"collapse\" data-target=\"#ItemList-split_by_valid_func-pytest\" style=\"float:right; padding-right:10px\">[test]</a></h4>\n\n> <code>split_by_valid_func</code>(**`func`**:`Callable`) → `ItemLists`\n\n<div class=\"collapse\" id=\"ItemList-split_by_valid_func-pytest\"><div class=\"card card-body pytest_card\"><a type=\"button\" data-toggle=\"collapse\" data-target=\"#ItemList-split_by_valid_func-pytest\" class=\"close\" aria-label=\"Close\"><span aria-hidden=\"true\">&times;</span></a><p>No tests found for <code>split_by_valid_func</code>. To contribute a test please refer to <a href=\"/dev/test.html\">this guide</a> and <a href=\"https://forums.fast.ai/t/improving-expanding-functional-tests/32929\">this discussion</a>.</p></div></div>\n\nSplit the data by result of `func` (which returns `True` for validation set).  ",
            "text/plain": [
              "<IPython.core.display.Markdown object>"
            ]
          },
          "metadata": {
            "tags": []
          }
        }
      ]
    },
    {
      "metadata": {
        "hide_input": true,
        "id": "AvC2afntUtSu",
        "colab_type": "code",
        "outputId": "d15b7a72-9560-4fab-9dbd-c7b200323bea",
        "colab": {
          "base_uri": "https://localhost:8080/",
          "height": 35
        }
      },
      "cell_type": "code",
      "source": [
        "show_doc(ItemList.split_from_df)"
      ],
      "execution_count": 77,
      "outputs": [
        {
          "output_type": "display_data",
          "data": {
            "text/markdown": "<h4 id=\"ItemList.split_from_df\" class=\"doc_header\"><code>split_from_df</code><a href=\"https://github.com/fastai/fastai/blob/master/fastai/data_block.py#L236\" class=\"source_link\" style=\"float:right\">[source]</a><a class=\"source_link\" data-toggle=\"collapse\" data-target=\"#ItemList-split_from_df-pytest\" style=\"float:right; padding-right:10px\">[test]</a></h4>\n\n> <code>split_from_df</code>(**`col`**:`IntsOrStrs`=***`2`***)\n\n<div class=\"collapse\" id=\"ItemList-split_from_df-pytest\"><div class=\"card card-body pytest_card\"><a type=\"button\" data-toggle=\"collapse\" data-target=\"#ItemList-split_from_df-pytest\" class=\"close\" aria-label=\"Close\"><span aria-hidden=\"true\">&times;</span></a><p>No tests found for <code>split_from_df</code>. To contribute a test please refer to <a href=\"/dev/test.html\">this guide</a> and <a href=\"https://forums.fast.ai/t/improving-expanding-functional-tests/32929\">this discussion</a>.</p></div></div>\n\nSplit the data from the `col` in the dataframe in `self.inner_df`.  ",
            "text/plain": [
              "<IPython.core.display.Markdown object>"
            ]
          },
          "metadata": {
            "tags": []
          }
        }
      ]
    },
    {
      "metadata": {
        "hide_input": true,
        "id": "g8MEQe0cUtSw",
        "colab_type": "code",
        "outputId": "d3099f49-d924-4cb5-ad11-9011fafade43",
        "colab": {
          "base_uri": "https://localhost:8080/",
          "height": 35
        }
      },
      "cell_type": "code",
      "source": [
        "jekyll_warn(\"This method assumes the data has been created from a csv file or a dataframe.\")"
      ],
      "execution_count": 78,
      "outputs": [
        {
          "output_type": "display_data",
          "data": {
            "text/markdown": "<div markdown=\"span\" class=\"alert alert-danger\" role=\"alert\"><i class=\"fa fa-danger-circle\"></i> <b>Warning: </b>This method assumes the data has been created from a csv file or a dataframe.</div>",
            "text/plain": [
              "<IPython.core.display.Markdown object>"
            ]
          },
          "metadata": {
            "tags": []
          }
        }
      ]
    },
    {
      "metadata": {
        "id": "Ve4UZ9lqUtSz",
        "colab_type": "text"
      },
      "cell_type": "markdown",
      "source": [
        "## Step 3: Label the inputs"
      ]
    },
    {
      "metadata": {
        "id": "pOsqXAmIUtS0",
        "colab_type": "text"
      },
      "cell_type": "markdown",
      "source": [
        "To label your inputs, use one of the following functions. Note that even if it's not in the documented arguments, you can always pass a `label_cls` that will be used to create those labels (the default is the one from your input [`ItemList`](/data_block.html#ItemList), and if there is none, it will go to [`CategoryList`](/data_block.html#CategoryList),  [`MultiCategoryList`](/data_block.html#MultiCategoryList) or [`FloatList`](/data_block.html#FloatList) depending on the type of the labels). This is implemented in the following function:"
      ]
    },
    {
      "metadata": {
        "hide_input": true,
        "id": "QTRTU1mfUtS2",
        "colab_type": "code",
        "outputId": "bf7bdd51-b417-4699-f4c2-5b292adaba63",
        "colab": {
          "base_uri": "https://localhost:8080/",
          "height": 35
        }
      },
      "cell_type": "code",
      "source": [
        "show_doc(ItemList.get_label_cls)"
      ],
      "execution_count": 79,
      "outputs": [
        {
          "output_type": "display_data",
          "data": {
            "text/markdown": "<h4 id=\"ItemList.get_label_cls\" class=\"doc_header\"><code>get_label_cls</code><a href=\"https://github.com/fastai/fastai/blob/master/fastai/data_block.py#L241\" class=\"source_link\" style=\"float:right\">[source]</a><a class=\"source_link\" data-toggle=\"collapse\" data-target=\"#ItemList-get_label_cls-pytest\" style=\"float:right; padding-right:10px\">[test]</a></h4>\n\n> <code>get_label_cls</code>(**`labels`**, **`label_cls`**:`Callable`=***`None`***, **`label_delim`**:`str`=***`None`***, **\\*\\*`kwargs`**)\n\n<div class=\"collapse\" id=\"ItemList-get_label_cls-pytest\"><div class=\"card card-body pytest_card\"><a type=\"button\" data-toggle=\"collapse\" data-target=\"#ItemList-get_label_cls-pytest\" class=\"close\" aria-label=\"Close\"><span aria-hidden=\"true\">&times;</span></a><p>No tests found for <code>get_label_cls</code>. To contribute a test please refer to <a href=\"/dev/test.html\">this guide</a> and <a href=\"https://forums.fast.ai/t/improving-expanding-functional-tests/32929\">this discussion</a>.</p></div></div>\n\nReturn `label_cls` or guess one from the first element of `labels`.  ",
            "text/plain": [
              "<IPython.core.display.Markdown object>"
            ]
          },
          "metadata": {
            "tags": []
          }
        }
      ]
    },
    {
      "metadata": {
        "id": "cBD7qRCaUtS4",
        "colab_type": "text"
      },
      "cell_type": "markdown",
      "source": [
        "If no `label_cls` argument is passed, the correct labeling type can usually be inferred based on the data (for classification or regression). If you have multiple regression targets (e.g. predict 5 different numbers from a single image/text), be aware that arrays of floats are by default considered to be targets for one-hot encoded classification. If your task is regression, be sure the pass `label_cls = FloatList` so that learners created from your databunch initialize correctly."
      ]
    },
    {
      "metadata": {
        "id": "dPf0vZVvUtS5",
        "colab_type": "text"
      },
      "cell_type": "markdown",
      "source": [
        "The first example in these docs created labels as follows:"
      ]
    },
    {
      "metadata": {
        "id": "YI0SPySYUtS6",
        "colab_type": "code",
        "colab": {}
      },
      "cell_type": "code",
      "source": [
        "path = untar_data(URLs.MNIST_TINY)\n",
        "ll = ImageList.from_folder(path).split_by_folder().label_from_folder().train"
      ],
      "execution_count": 0,
      "outputs": []
    },
    {
      "metadata": {
        "id": "kJIRc4IJUtS8",
        "colab_type": "text"
      },
      "cell_type": "markdown",
      "source": [
        "If you want to save the data necessary to recreate your [`LabelList`](/data_block.html#LabelList) (not including saving the actual image/text/etc files), you can use `to_df` or `to_csv`:\n",
        "\n",
        "```python\n",
        "ll.train.to_csv('tmp.csv')\n",
        "```\n",
        "\n",
        "Or just grab a `pd.DataFrame` directly:"
      ]
    },
    {
      "metadata": {
        "id": "Bceu8wPhUtS9",
        "colab_type": "code",
        "outputId": "03075939-590e-4478-bd27-b6f9a2b28517",
        "colab": {
          "base_uri": "https://localhost:8080/",
          "height": 202
        }
      },
      "cell_type": "code",
      "source": [
        "ll.to_df().head()"
      ],
      "execution_count": 81,
      "outputs": [
        {
          "output_type": "execute_result",
          "data": {
            "text/html": [
              "<div>\n",
              "<style scoped>\n",
              "    .dataframe tbody tr th:only-of-type {\n",
              "        vertical-align: middle;\n",
              "    }\n",
              "\n",
              "    .dataframe tbody tr th {\n",
              "        vertical-align: top;\n",
              "    }\n",
              "\n",
              "    .dataframe thead th {\n",
              "        text-align: right;\n",
              "    }\n",
              "</style>\n",
              "<table border=\"1\" class=\"dataframe\">\n",
              "  <thead>\n",
              "    <tr style=\"text-align: right;\">\n",
              "      <th></th>\n",
              "      <th>x</th>\n",
              "      <th>y</th>\n",
              "    </tr>\n",
              "  </thead>\n",
              "  <tbody>\n",
              "    <tr>\n",
              "      <th>0</th>\n",
              "      <td>train/7/96.png</td>\n",
              "      <td>7</td>\n",
              "    </tr>\n",
              "    <tr>\n",
              "      <th>1</th>\n",
              "      <td>train/7/8217.png</td>\n",
              "      <td>7</td>\n",
              "    </tr>\n",
              "    <tr>\n",
              "      <th>2</th>\n",
              "      <td>train/7/8389.png</td>\n",
              "      <td>7</td>\n",
              "    </tr>\n",
              "    <tr>\n",
              "      <th>3</th>\n",
              "      <td>train/7/9549.png</td>\n",
              "      <td>7</td>\n",
              "    </tr>\n",
              "    <tr>\n",
              "      <th>4</th>\n",
              "      <td>train/7/8954.png</td>\n",
              "      <td>7</td>\n",
              "    </tr>\n",
              "  </tbody>\n",
              "</table>\n",
              "</div>"
            ],
            "text/plain": [
              "                  x  y\n",
              "0    train/7/96.png  7\n",
              "1  train/7/8217.png  7\n",
              "2  train/7/8389.png  7\n",
              "3  train/7/9549.png  7\n",
              "4  train/7/8954.png  7"
            ]
          },
          "metadata": {
            "tags": []
          },
          "execution_count": 81
        }
      ]
    },
    {
      "metadata": {
        "hide_input": true,
        "id": "j9EaA99gUtTC",
        "colab_type": "code",
        "outputId": "bf9adbc8-675e-41c8-88a1-4316e1591e37",
        "colab": {
          "base_uri": "https://localhost:8080/",
          "height": 35
        }
      },
      "cell_type": "code",
      "source": [
        "show_doc(ItemList.label_empty)"
      ],
      "execution_count": 82,
      "outputs": [
        {
          "output_type": "display_data",
          "data": {
            "text/markdown": "<h4 id=\"ItemList.label_empty\" class=\"doc_header\"><code>label_empty</code><a href=\"https://github.com/fastai/fastai/blob/master/fastai/data_block.py#L275\" class=\"source_link\" style=\"float:right\">[source]</a><a class=\"source_link\" data-toggle=\"collapse\" data-target=\"#ItemList-label_empty-pytest\" style=\"float:right; padding-right:10px\">[test]</a></h4>\n\n> <code>label_empty</code>(**\\*\\*`kwargs`**)\n\n<div class=\"collapse\" id=\"ItemList-label_empty-pytest\"><div class=\"card card-body pytest_card\"><a type=\"button\" data-toggle=\"collapse\" data-target=\"#ItemList-label_empty-pytest\" class=\"close\" aria-label=\"Close\"><span aria-hidden=\"true\">&times;</span></a><p>No tests found for <code>label_empty</code>. To contribute a test please refer to <a href=\"/dev/test.html\">this guide</a> and <a href=\"https://forums.fast.ai/t/improving-expanding-functional-tests/32929\">this discussion</a>.</p></div></div>\n\nLabel every item with an [`EmptyLabel`](/core.html#EmptyLabel).  ",
            "text/plain": [
              "<IPython.core.display.Markdown object>"
            ]
          },
          "metadata": {
            "tags": []
          }
        }
      ]
    },
    {
      "metadata": {
        "hide_input": true,
        "id": "LVQ3SvI0UtTE",
        "colab_type": "code",
        "outputId": "7649bc2b-eed9-4ebe-e453-76eb29551e64",
        "colab": {
          "base_uri": "https://localhost:8080/",
          "height": 35
        }
      },
      "cell_type": "code",
      "source": [
        "show_doc(ItemList.label_from_df)"
      ],
      "execution_count": 83,
      "outputs": [
        {
          "output_type": "display_data",
          "data": {
            "text/markdown": "<h4 id=\"ItemList.label_from_df\" class=\"doc_header\"><code>label_from_df</code><a href=\"https://github.com/fastai/fastai/blob/master/fastai/data_block.py#L262\" class=\"source_link\" style=\"float:right\">[source]</a><a class=\"source_link\" data-toggle=\"collapse\" data-target=\"#ItemList-label_from_df-pytest\" style=\"float:right; padding-right:10px\">[test]</a></h4>\n\n> <code>label_from_df</code>(**`cols`**:`IntsOrStrs`=***`1`***, **`label_cls`**:`Callable`=***`None`***, **\\*\\*`kwargs`**)\n\n<div class=\"collapse\" id=\"ItemList-label_from_df-pytest\"><div class=\"card card-body pytest_card\"><a type=\"button\" data-toggle=\"collapse\" data-target=\"#ItemList-label_from_df-pytest\" class=\"close\" aria-label=\"Close\"><span aria-hidden=\"true\">&times;</span></a><p>No tests found for <code>label_from_df</code>. To contribute a test please refer to <a href=\"/dev/test.html\">this guide</a> and <a href=\"https://forums.fast.ai/t/improving-expanding-functional-tests/32929\">this discussion</a>.</p></div></div>\n\nLabel `self.items` from the values in `cols` in `self.inner_df`.  ",
            "text/plain": [
              "<IPython.core.display.Markdown object>"
            ]
          },
          "metadata": {
            "tags": []
          }
        }
      ]
    },
    {
      "metadata": {
        "hide_input": true,
        "id": "lE7MN_hjUtTH",
        "colab_type": "code",
        "outputId": "1d45c341-035c-4208-8774-c3417026e256",
        "colab": {}
      },
      "cell_type": "code",
      "source": [
        "jekyll_warn(\"This method only works with data objects created with either `from_csv` or `from_df` methods.\")"
      ],
      "execution_count": 0,
      "outputs": [
        {
          "output_type": "display_data",
          "data": {
            "text/markdown": "<div markdown=\"span\" class=\"alert alert-danger\" role=\"alert\"><i class=\"fa fa-danger-circle\"></i> <b>Warning: </b>This method only works with data objects created with either `from_csv` or `from_df` methods.</div>",
            "text/plain": [
              "<IPython.core.display.Markdown object>"
            ]
          },
          "metadata": {
            "tags": []
          }
        }
      ]
    },
    {
      "metadata": {
        "hide_input": true,
        "id": "RauSIuFTUtTK",
        "colab_type": "code",
        "outputId": "cd50c1a5-5d3f-4f8e-d2e7-2b8e95938dc4",
        "colab": {}
      },
      "cell_type": "code",
      "source": [
        "show_doc(ItemList.label_const)"
      ],
      "execution_count": 0,
      "outputs": [
        {
          "output_type": "display_data",
          "data": {
            "text/markdown": "<h4 id=\"ItemList.label_const\" class=\"doc_header\"><code>label_const</code><a href=\"https://github.com/fastai/fastai/blob/master/fastai/data_block.py#L275\" class=\"source_link\" style=\"float:right\">[source]</a><a class=\"source_link\" data-toggle=\"collapse\" data-target=\"#ItemList-label_const-pytest\" style=\"float:right; padding-right:10px\">[test]</a></h4>\n\n> <code>label_const</code>(**`const`**:`Any`=***`0`***, **`label_cls`**:`Callable`=***`None`***, **\\*\\*`kwargs`**) → `LabelList`\n\n<div class=\"collapse\" id=\"ItemList-label_const-pytest\"><div class=\"card card-body pytest_card\"><a type=\"button\" data-toggle=\"collapse\" data-target=\"#ItemList-label_const-pytest\" class=\"close\" aria-label=\"Close\"><span aria-hidden=\"true\">&times;</span></a><p>Tests found for <code>label_const</code>:</p><p>Some other tests where <code>label_const</code> is used:</p><ul><li><code>pytest -sv tests/test_data_block.py::test_split_subsets</code> <a href=\"https://github.com/fastai/fastai/blob/master/tests/test_data_block.py#L112\" class=\"source_link\" style=\"float:right\">[source]</a></li><li><code>pytest -sv tests/test_data_block.py::test_splitdata_datasets</code> <a href=\"https://github.com/fastai/fastai/blob/master/tests/test_data_block.py#L103\" class=\"source_link\" style=\"float:right\">[source]</a></li></ul><p>To run tests please refer to this <a href=\"/dev/test.html#quick-guide\">guide</a>.</p></div></div>\n\nLabel every item with `const`.  ",
            "text/plain": [
              "<IPython.core.display.Markdown object>"
            ]
          },
          "metadata": {
            "tags": []
          }
        }
      ]
    },
    {
      "metadata": {
        "hide_input": true,
        "id": "XMQniuRJUtTM",
        "colab_type": "code",
        "outputId": "84ddcce2-36ab-4aec-b762-44fbb2d17bba",
        "colab": {}
      },
      "cell_type": "code",
      "source": [
        "show_doc(ItemList.label_from_folder)"
      ],
      "execution_count": 0,
      "outputs": [
        {
          "output_type": "display_data",
          "data": {
            "text/markdown": "<h4 id=\"ItemList.label_from_folder\" class=\"doc_header\"><code>label_from_folder</code><a href=\"https://github.com/fastai/fastai/blob/master/fastai/data_block.py#L287\" class=\"source_link\" style=\"float:right\">[source]</a><a class=\"source_link\" data-toggle=\"collapse\" data-target=\"#ItemList-label_from_folder-pytest\" style=\"float:right; padding-right:10px\">[test]</a></h4>\n\n> <code>label_from_folder</code>(**`label_cls`**:`Callable`=***`None`***, **\\*\\*`kwargs`**) → `LabelList`\n\n<div class=\"collapse\" id=\"ItemList-label_from_folder-pytest\"><div class=\"card card-body pytest_card\"><a type=\"button\" data-toggle=\"collapse\" data-target=\"#ItemList-label_from_folder-pytest\" class=\"close\" aria-label=\"Close\"><span aria-hidden=\"true\">&times;</span></a><p>Tests found for <code>label_from_folder</code>:</p><ul><li><code>pytest -sv tests/test_text_data.py::test_filter_classes</code> <a href=\"https://github.com/fastai/fastai/blob/master/tests/test_text_data.py#L42\" class=\"source_link\" style=\"float:right\">[source]</a></li><li><code>pytest -sv tests/test_text_data.py::test_from_folder</code> <a href=\"https://github.com/fastai/fastai/blob/master/tests/test_text_data.py#L30\" class=\"source_link\" style=\"float:right\">[source]</a></li></ul><p>Some other tests where <code>label_from_folder</code> is used:</p><ul><li><code>pytest -sv tests/test_data_block.py::test_wrong_order</code> <a href=\"https://github.com/fastai/fastai/blob/master/tests/test_data_block.py#L132\" class=\"source_link\" style=\"float:right\">[source]</a></li></ul><p>To run tests please refer to this <a href=\"/dev/test.html#quick-guide\">guide</a>.</p></div></div>\n\nGive a label to each filename depending on its folder.  ",
            "text/plain": [
              "<IPython.core.display.Markdown object>"
            ]
          },
          "metadata": {
            "tags": []
          }
        }
      ]
    },
    {
      "metadata": {
        "hide_input": true,
        "id": "tf5pP4X-UtTS",
        "colab_type": "code",
        "outputId": "6a7ab89b-86e7-4b28-f5eb-c43c948f7625",
        "colab": {}
      },
      "cell_type": "code",
      "source": [
        "jekyll_note(\"This method looks at the last subfolder in the path to determine the classes.\")"
      ],
      "execution_count": 0,
      "outputs": [
        {
          "output_type": "display_data",
          "data": {
            "text/markdown": "<div markdown=\"span\" class=\"alert alert-info\" role=\"alert\"><i class=\"fa fa-info-circle\"></i> <b>Note: </b>This method looks at the last subfolder in the path to determine the classes.</div>",
            "text/plain": [
              "<IPython.core.display.Markdown object>"
            ]
          },
          "metadata": {
            "tags": []
          }
        }
      ]
    },
    {
      "metadata": {
        "hide_input": true,
        "id": "GWAuPLUBUtTa",
        "colab_type": "code",
        "outputId": "32d4be50-0588-4baa-cd34-a7b6d664c616",
        "colab": {}
      },
      "cell_type": "code",
      "source": [
        "show_doc(ItemList.label_from_func)"
      ],
      "execution_count": 0,
      "outputs": [
        {
          "output_type": "display_data",
          "data": {
            "text/markdown": "<h4 id=\"ItemList.label_from_func\" class=\"doc_header\"><code>label_from_func</code><a href=\"https://github.com/fastai/fastai/blob/master/fastai/data_block.py#L283\" class=\"source_link\" style=\"float:right\">[source]</a><a class=\"source_link\" data-toggle=\"collapse\" data-target=\"#ItemList-label_from_func-pytest\" style=\"float:right; padding-right:10px\">[test]</a></h4>\n\n> <code>label_from_func</code>(**`func`**:`Callable`, **`label_cls`**:`Callable`=***`None`***, **\\*\\*`kwargs`**) → `LabelList`\n\n<div class=\"collapse\" id=\"ItemList-label_from_func-pytest\"><div class=\"card card-body pytest_card\"><a type=\"button\" data-toggle=\"collapse\" data-target=\"#ItemList-label_from_func-pytest\" class=\"close\" aria-label=\"Close\"><span aria-hidden=\"true\">&times;</span></a><p>No tests found for <code>label_from_func</code>. To contribute a test please refer to <a href=\"/dev/test.html\">this guide</a> and <a href=\"https://forums.fast.ai/t/improving-expanding-functional-tests/32929\">this discussion</a>.</p></div></div>\n\nApply `func` to every input to get its label.  ",
            "text/plain": [
              "<IPython.core.display.Markdown object>"
            ]
          },
          "metadata": {
            "tags": []
          }
        }
      ]
    },
    {
      "metadata": {
        "hide_input": true,
        "id": "yrVpaQtGUtTd",
        "colab_type": "code",
        "outputId": "ba15cc92-afd7-4c46-8115-483aae9f38e2",
        "colab": {}
      },
      "cell_type": "code",
      "source": [
        "show_doc(ItemList.label_from_re)"
      ],
      "execution_count": 0,
      "outputs": [
        {
          "output_type": "display_data",
          "data": {
            "text/markdown": "<h4 id=\"ItemList.label_from_re\" class=\"doc_header\"><code>label_from_re</code><a href=\"https://github.com/fastai/fastai/blob/master/fastai/data_block.py#L291\" class=\"source_link\" style=\"float:right\">[source]</a><a class=\"source_link\" data-toggle=\"collapse\" data-target=\"#ItemList-label_from_re-pytest\" style=\"float:right; padding-right:10px\">[test]</a></h4>\n\n> <code>label_from_re</code>(**`pat`**:`str`, **`full_path`**:`bool`=***`False`***, **`label_cls`**:`Callable`=***`None`***, **\\*\\*`kwargs`**) → `LabelList`\n\n<div class=\"collapse\" id=\"ItemList-label_from_re-pytest\"><div class=\"card card-body pytest_card\"><a type=\"button\" data-toggle=\"collapse\" data-target=\"#ItemList-label_from_re-pytest\" class=\"close\" aria-label=\"Close\"><span aria-hidden=\"true\">&times;</span></a><p>No tests found for <code>label_from_re</code>. To contribute a test please refer to <a href=\"/dev/test.html\">this guide</a> and <a href=\"https://forums.fast.ai/t/improving-expanding-functional-tests/32929\">this discussion</a>.</p></div></div>\n\nApply the re in `pat` to determine the label of every filename.  If `full_path`, search in the full name.  ",
            "text/plain": [
              "<IPython.core.display.Markdown object>"
            ]
          },
          "metadata": {
            "tags": []
          }
        }
      ]
    },
    {
      "metadata": {
        "hide_input": true,
        "id": "W9Da8frVUtTh",
        "colab_type": "code",
        "outputId": "2c647339-e51e-4f2a-9481-699a8fd25373",
        "colab": {}
      },
      "cell_type": "code",
      "source": [
        "show_doc(CategoryList, title_level=3)"
      ],
      "execution_count": 0,
      "outputs": [
        {
          "output_type": "display_data",
          "data": {
            "text/markdown": "<h3 id=\"CategoryList\" class=\"doc_header\"><code>class</code> <code>CategoryList</code><a href=\"https://github.com/fastai/fastai/blob/master/fastai/data_block.py#L356\" class=\"source_link\" style=\"float:right\">[source]</a><a class=\"source_link\" data-toggle=\"collapse\" data-target=\"#CategoryList-pytest\" style=\"float:right; padding-right:10px\">[test]</a></h3>\n\n> <code>CategoryList</code>(**`items`**:`Iterator`\\[`T_co`\\], **`classes`**:`Collection`\\[`T_co`\\]=***`None`***, **`label_delim`**:`str`=***`None`***, **\\*\\*`kwargs`**) :: [`CategoryListBase`](/data_block.html#CategoryListBase)\n\n<div class=\"collapse\" id=\"CategoryList-pytest\"><div class=\"card card-body pytest_card\"><a type=\"button\" data-toggle=\"collapse\" data-target=\"#CategoryList-pytest\" class=\"close\" aria-label=\"Close\"><span aria-hidden=\"true\">&times;</span></a><p>No tests found for <code>CategoryList</code>. To contribute a test please refer to <a href=\"/dev/test.html\">this guide</a> and <a href=\"https://forums.fast.ai/t/improving-expanding-functional-tests/32929\">this discussion</a>.</p></div></div>\n\nBasic [`ItemList`](/data_block.html#ItemList) for single classification labels.  ",
            "text/plain": [
              "<IPython.core.display.Markdown object>"
            ]
          },
          "metadata": {
            "tags": []
          }
        }
      ]
    },
    {
      "metadata": {
        "id": "QbchBIKHUtTl",
        "colab_type": "text"
      },
      "cell_type": "markdown",
      "source": [
        "[`ItemList`](/data_block.html#ItemList) suitable for storing labels in `items` belonging to `classes`. If `None` are passed, `classes` will be determined by the unique different labels. `processor` will default to [`CategoryProcessor`](/data_block.html#CategoryProcessor)."
      ]
    },
    {
      "metadata": {
        "hide_input": true,
        "id": "-yINkNoIUtTm",
        "colab_type": "code",
        "outputId": "abaf79ad-3837-4bb0-fb2d-e92843331cb1",
        "colab": {}
      },
      "cell_type": "code",
      "source": [
        "show_doc(MultiCategoryList, title_level=3)"
      ],
      "execution_count": 0,
      "outputs": [
        {
          "output_type": "display_data",
          "data": {
            "text/markdown": "<h3 id=\"MultiCategoryList\" class=\"doc_header\"><code>class</code> <code>MultiCategoryList</code><a href=\"https://github.com/fastai/fastai/blob/master/fastai/data_block.py#L393\" class=\"source_link\" style=\"float:right\">[source]</a><a class=\"source_link\" data-toggle=\"collapse\" data-target=\"#MultiCategoryList-pytest\" style=\"float:right; padding-right:10px\">[test]</a></h3>\n\n> <code>MultiCategoryList</code>(**`items`**:`Iterator`\\[`T_co`\\], **`classes`**:`Collection`\\[`T_co`\\]=***`None`***, **`label_delim`**:`str`=***`None`***, **`one_hot`**:`bool`=***`False`***, **\\*\\*`kwargs`**) :: [`CategoryListBase`](/data_block.html#CategoryListBase)\n\n<div class=\"collapse\" id=\"MultiCategoryList-pytest\"><div class=\"card card-body pytest_card\"><a type=\"button\" data-toggle=\"collapse\" data-target=\"#MultiCategoryList-pytest\" class=\"close\" aria-label=\"Close\"><span aria-hidden=\"true\">&times;</span></a><p>No tests found for <code>MultiCategoryList</code>. To contribute a test please refer to <a href=\"/dev/test.html\">this guide</a> and <a href=\"https://forums.fast.ai/t/improving-expanding-functional-tests/32929\">this discussion</a>.</p></div></div>\n\nBasic [`ItemList`](/data_block.html#ItemList) for multi-classification labels.  ",
            "text/plain": [
              "<IPython.core.display.Markdown object>"
            ]
          },
          "metadata": {
            "tags": []
          }
        }
      ]
    },
    {
      "metadata": {
        "id": "A4jYVklNUtTp",
        "colab_type": "text"
      },
      "cell_type": "markdown",
      "source": [
        "It will store list of labels in `items` belonging to `classes`. If `None` are passed, `classes` will be determined by the unique different labels. `sep` is used to split the content of `items` in a list of tags.\n",
        "\n",
        "If `one_hot=True`, the items contain the labels one-hot encoded. In this case, it is mandatory to pass a list of `classes` (as we can't use the different labels)."
      ]
    },
    {
      "metadata": {
        "hide_input": true,
        "id": "Z52klF60UtTp",
        "colab_type": "code",
        "outputId": "d68d9e92-81b1-46b0-d8a2-8a3aa188b7df",
        "colab": {}
      },
      "cell_type": "code",
      "source": [
        "show_doc(FloatList, title_level=3)"
      ],
      "execution_count": 0,
      "outputs": [
        {
          "output_type": "display_data",
          "data": {
            "text/markdown": "<h3 id=\"FloatList\" class=\"doc_header\"><code>class</code> <code>FloatList</code><a href=\"https://github.com/fastai/fastai/blob/master/fastai/data_block.py#L419\" class=\"source_link\" style=\"float:right\">[source]</a><a class=\"source_link\" data-toggle=\"collapse\" data-target=\"#FloatList-pytest\" style=\"float:right; padding-right:10px\">[test]</a></h3>\n\n> <code>FloatList</code>(**`items`**:`Iterator`\\[`T_co`\\], **`log`**:`bool`=***`False`***, **`classes`**:`Collection`\\[`T_co`\\]=***`None`***, **\\*\\*`kwargs`**) :: [`ItemList`](/data_block.html#ItemList)\n\n<div class=\"collapse\" id=\"FloatList-pytest\"><div class=\"card card-body pytest_card\"><a type=\"button\" data-toggle=\"collapse\" data-target=\"#FloatList-pytest\" class=\"close\" aria-label=\"Close\"><span aria-hidden=\"true\">&times;</span></a><p>No tests found for <code>FloatList</code>. To contribute a test please refer to <a href=\"/dev/test.html\">this guide</a> and <a href=\"https://forums.fast.ai/t/improving-expanding-functional-tests/32929\">this discussion</a>.</p></div></div>\n\n[`ItemList`](/data_block.html#ItemList) suitable for storing the floats in items for regression. Will add a `log` if this flag is `True`.  ",
            "text/plain": [
              "<IPython.core.display.Markdown object>"
            ]
          },
          "metadata": {
            "tags": []
          }
        }
      ]
    },
    {
      "metadata": {
        "hide_input": true,
        "id": "ut91vJ4eUtTu",
        "colab_type": "code",
        "outputId": "ed6ee572-8a56-4d95-977a-66a92bfb56f8",
        "colab": {}
      },
      "cell_type": "code",
      "source": [
        "show_doc(EmptyLabelList, title_level=3)"
      ],
      "execution_count": 0,
      "outputs": [
        {
          "output_type": "display_data",
          "data": {
            "text/markdown": "<h3 id=\"EmptyLabelList\" class=\"doc_header\"><code>class</code> <code>EmptyLabelList</code><a href=\"https://github.com/fastai/fastai/blob/master/fastai/data_block.py#L305\" class=\"source_link\" style=\"float:right\">[source]</a><a class=\"source_link\" data-toggle=\"collapse\" data-target=\"#EmptyLabelList-pytest\" style=\"float:right; padding-right:10px\">[test]</a></h3>\n\n> <code>EmptyLabelList</code>(**`items`**:`Iterator`\\[`T_co`\\], **`path`**:`PathOrStr`=***`'.'`***, **`label_cls`**:`Callable`=***`None`***, **`inner_df`**:`Any`=***`None`***, **`processor`**:`Union`\\[[`PreProcessor`](/data_block.html#PreProcessor), `Collection`\\[[`PreProcessor`](/data_block.html#PreProcessor)\\]\\]=***`None`***, **`x`**:`ItemList`=***`None`***, **`ignore_empty`**:`bool`=***`False`***) :: [`ItemList`](/data_block.html#ItemList)\n\n<div class=\"collapse\" id=\"EmptyLabelList-pytest\"><div class=\"card card-body pytest_card\"><a type=\"button\" data-toggle=\"collapse\" data-target=\"#EmptyLabelList-pytest\" class=\"close\" aria-label=\"Close\"><span aria-hidden=\"true\">&times;</span></a><p>No tests found for <code>EmptyLabelList</code>. To contribute a test please refer to <a href=\"/dev/test.html\">this guide</a> and <a href=\"https://forums.fast.ai/t/improving-expanding-functional-tests/32929\">this discussion</a>.</p></div></div>\n\nBasic [`ItemList`](/data_block.html#ItemList) for dummy labels.  ",
            "text/plain": [
              "<IPython.core.display.Markdown object>"
            ]
          },
          "metadata": {
            "tags": []
          }
        }
      ]
    },
    {
      "metadata": {
        "id": "hCt6MLwdUtTy",
        "colab_type": "text"
      },
      "cell_type": "markdown",
      "source": [
        "## Invisible step: preprocessing"
      ]
    },
    {
      "metadata": {
        "id": "dP1BqucEUtTy",
        "colab_type": "text"
      },
      "cell_type": "markdown",
      "source": [
        "This isn't seen here in the API, but if you passed a `processor` (or a list of them) in your initial [`ItemList`](/data_block.html#ItemList) during step 1, it will be applied here. If you didn't pass any processor, a list of them might still be created depending on what is in the `_processor` variable of your class of items (this can be a list of [`PreProcessor`](/data_block.html#PreProcessor) classes).\n",
        "\n",
        "A processor is a transformation that is applied to all the inputs once at initialization, with a state computed on the training set that is then applied without modification on the validation set (and maybe the test set). For instance, it can be processing texts to tokenize then numericalize them. In that case we want the validation set to be numericalized with exactly the same vocabulary as the training set.\n",
        "\n",
        "Another example is in tabular data, where we fill missing values with (for instance) the median computed on the training set. That statistic is stored in the inner state of the [`PreProcessor`](/data_block.html#PreProcessor) and applied on the validation set.\n",
        "\n",
        "This is the generic class for all processors."
      ]
    },
    {
      "metadata": {
        "hide_input": true,
        "id": "T080elkAUtTy",
        "colab_type": "code",
        "outputId": "176552f4-4ec2-41bd-c9e2-0d7631ee4976",
        "colab": {}
      },
      "cell_type": "code",
      "source": [
        "show_doc(PreProcessor, title_level=3)"
      ],
      "execution_count": 0,
      "outputs": [
        {
          "output_type": "display_data",
          "data": {
            "text/markdown": "<h3 id=\"PreProcessor\" class=\"doc_header\"><code>class</code> <code>PreProcessor</code><a href=\"https://github.com/fastai/fastai/blob/master/fastai/data_block.py#L38\" class=\"source_link\" style=\"float:right\">[source]</a><a class=\"source_link\" data-toggle=\"collapse\" data-target=\"#PreProcessor-pytest\" style=\"float:right; padding-right:10px\">[test]</a></h3>\n\n> <code>PreProcessor</code>(**`ds`**:`Collection`\\[`T_co`\\]=***`None`***)\n\n<div class=\"collapse\" id=\"PreProcessor-pytest\"><div class=\"card card-body pytest_card\"><a type=\"button\" data-toggle=\"collapse\" data-target=\"#PreProcessor-pytest\" class=\"close\" aria-label=\"Close\"><span aria-hidden=\"true\">&times;</span></a><p>No tests found for <code>PreProcessor</code>. To contribute a test please refer to <a href=\"/dev/test.html\">this guide</a> and <a href=\"https://forums.fast.ai/t/improving-expanding-functional-tests/32929\">this discussion</a>.</p></div></div>\n\nBasic class for a processor that will be applied to items at the end of the data block API.  ",
            "text/plain": [
              "<IPython.core.display.Markdown object>"
            ]
          },
          "metadata": {
            "tags": []
          }
        }
      ]
    },
    {
      "metadata": {
        "hide_input": true,
        "id": "5kddaKaGUtT0",
        "colab_type": "code",
        "outputId": "692c6a4a-908a-495d-cb00-b91aaf516f38",
        "colab": {}
      },
      "cell_type": "code",
      "source": [
        "show_doc(PreProcessor.process_one)"
      ],
      "execution_count": 0,
      "outputs": [
        {
          "output_type": "display_data",
          "data": {
            "text/markdown": "<h4 id=\"PreProcessor.process_one\" class=\"doc_header\"><code>process_one</code><a href=\"https://github.com/fastai/fastai/blob/master/fastai/data_block.py#L41\" class=\"source_link\" style=\"float:right\">[source]</a><a class=\"source_link\" data-toggle=\"collapse\" data-target=\"#PreProcessor-process_one-pytest\" style=\"float:right; padding-right:10px\">[test]</a></h4>\n\n> <code>process_one</code>(**`item`**:`Any`)\n\n<div class=\"collapse\" id=\"PreProcessor-process_one-pytest\"><div class=\"card card-body pytest_card\"><a type=\"button\" data-toggle=\"collapse\" data-target=\"#PreProcessor-process_one-pytest\" class=\"close\" aria-label=\"Close\"><span aria-hidden=\"true\">&times;</span></a><p>Tests found for <code>process_one</code>:</p><p>Some other tests where <code>process_one</code> is used:</p><ul><li><code>pytest -sv tests/test_data_block.py::test_category_processor_existing_class</code> <a href=\"https://github.com/fastai/fastai/blob/master/tests/test_data_block.py#L80\" class=\"source_link\" style=\"float:right\">[source]</a></li><li><code>pytest -sv tests/test_data_block.py::test_category_processor_non_existing_class</code> <a href=\"https://github.com/fastai/fastai/blob/master/tests/test_data_block.py#L91\" class=\"source_link\" style=\"float:right\">[source]</a></li></ul><p>To run tests please refer to this <a href=\"/dev/test.html#quick-guide\">guide</a>.</p></div></div>",
            "text/plain": [
              "<IPython.core.display.Markdown object>"
            ]
          },
          "metadata": {
            "tags": []
          }
        }
      ]
    },
    {
      "metadata": {
        "id": "G5mSL8tLUtT2",
        "colab_type": "text"
      },
      "cell_type": "markdown",
      "source": [
        "Process one `item`. This method needs to be written in any subclass."
      ]
    },
    {
      "metadata": {
        "hide_input": true,
        "id": "yha7y-I5UtT3",
        "colab_type": "code",
        "outputId": "e2891f0f-1f33-4840-be0c-01df514b30bc",
        "colab": {}
      },
      "cell_type": "code",
      "source": [
        "show_doc(PreProcessor.process)"
      ],
      "execution_count": 0,
      "outputs": [
        {
          "output_type": "display_data",
          "data": {
            "text/markdown": "<h4 id=\"PreProcessor.process\" class=\"doc_header\"><code>process</code><a href=\"https://github.com/fastai/fastai/blob/master/fastai/data_block.py#L42\" class=\"source_link\" style=\"float:right\">[source]</a><a class=\"source_link\" data-toggle=\"collapse\" data-target=\"#PreProcessor-process-pytest\" style=\"float:right; padding-right:10px\">[test]</a></h4>\n\n> <code>process</code>(**`ds`**:`Collection`\\[`T_co`\\])\n\n<div class=\"collapse\" id=\"PreProcessor-process-pytest\"><div class=\"card card-body pytest_card\"><a type=\"button\" data-toggle=\"collapse\" data-target=\"#PreProcessor-process-pytest\" class=\"close\" aria-label=\"Close\"><span aria-hidden=\"true\">&times;</span></a><p>No tests found for <code>process</code>. To contribute a test please refer to <a href=\"/dev/test.html\">this guide</a> and <a href=\"https://forums.fast.ai/t/improving-expanding-functional-tests/32929\">this discussion</a>.</p></div></div>",
            "text/plain": [
              "<IPython.core.display.Markdown object>"
            ]
          },
          "metadata": {
            "tags": []
          }
        }
      ]
    },
    {
      "metadata": {
        "id": "3hS9bn_5UtT5",
        "colab_type": "text"
      },
      "cell_type": "markdown",
      "source": [
        "Process a dataset. This default to apply `process_one` on every `item` of `ds`."
      ]
    },
    {
      "metadata": {
        "hide_input": true,
        "id": "X0Jif8lYUtT5",
        "colab_type": "code",
        "outputId": "4136582d-9500-464c-b95e-05fff8b2a4e3",
        "colab": {}
      },
      "cell_type": "code",
      "source": [
        "show_doc(CategoryProcessor, title_level=3)"
      ],
      "execution_count": 0,
      "outputs": [
        {
          "output_type": "display_data",
          "data": {
            "text/markdown": "<h3 id=\"CategoryProcessor\" class=\"doc_header\"><code>class</code> <code>CategoryProcessor</code><a href=\"https://github.com/fastai/fastai/blob/master/fastai/data_block.py#L312\" class=\"source_link\" style=\"float:right\">[source]</a><a class=\"source_link\" data-toggle=\"collapse\" data-target=\"#CategoryProcessor-pytest\" style=\"float:right; padding-right:10px\">[test]</a></h3>\n\n> <code>CategoryProcessor</code>(**`ds`**:[`ItemList`](/data_block.html#ItemList)) :: [`PreProcessor`](/data_block.html#PreProcessor)\n\n<div class=\"collapse\" id=\"CategoryProcessor-pytest\"><div class=\"card card-body pytest_card\"><a type=\"button\" data-toggle=\"collapse\" data-target=\"#CategoryProcessor-pytest\" class=\"close\" aria-label=\"Close\"><span aria-hidden=\"true\">&times;</span></a><p>No tests found for <code>CategoryProcessor</code>. To contribute a test please refer to <a href=\"/dev/test.html\">this guide</a> and <a href=\"https://forums.fast.ai/t/improving-expanding-functional-tests/32929\">this discussion</a>.</p></div></div>\n\n[`PreProcessor`](/data_block.html#PreProcessor) that create `classes` from `ds.items` and handle the mapping.  ",
            "text/plain": [
              "<IPython.core.display.Markdown object>"
            ]
          },
          "metadata": {
            "tags": []
          }
        }
      ]
    },
    {
      "metadata": {
        "hide_input": true,
        "id": "i8iEgtFRUtT9",
        "colab_type": "code",
        "outputId": "73bae67c-fdbc-44c8-fb59-2d510efd6686",
        "colab": {}
      },
      "cell_type": "code",
      "source": [
        "show_doc(CategoryProcessor.generate_classes)"
      ],
      "execution_count": 0,
      "outputs": [
        {
          "output_type": "display_data",
          "data": {
            "text/markdown": "<h4 id=\"CategoryProcessor.generate_classes\" class=\"doc_header\"><code>generate_classes</code><a href=\"https://github.com/fastai/fastai/blob/master/fastai/data_block.py#L322\" class=\"source_link\" style=\"float:right\">[source]</a><a class=\"source_link\" data-toggle=\"collapse\" data-target=\"#CategoryProcessor-generate_classes-pytest\" style=\"float:right; padding-right:10px\">[test]</a></h4>\n\n> <code>generate_classes</code>(**`items`**)\n\n<div class=\"collapse\" id=\"CategoryProcessor-generate_classes-pytest\"><div class=\"card card-body pytest_card\"><a type=\"button\" data-toggle=\"collapse\" data-target=\"#CategoryProcessor-generate_classes-pytest\" class=\"close\" aria-label=\"Close\"><span aria-hidden=\"true\">&times;</span></a><p>No tests found for <code>generate_classes</code>. To contribute a test please refer to <a href=\"/dev/test.html\">this guide</a> and <a href=\"https://forums.fast.ai/t/improving-expanding-functional-tests/32929\">this discussion</a>.</p></div></div>\n\nGenerate classes from `items` by taking the sorted unique values.  ",
            "text/plain": [
              "<IPython.core.display.Markdown object>"
            ]
          },
          "metadata": {
            "tags": []
          }
        }
      ]
    },
    {
      "metadata": {
        "hide_input": true,
        "id": "chmVD3-VUtUA",
        "colab_type": "code",
        "outputId": "6debdc1c-89e6-494b-cd56-af04fb192d38",
        "colab": {}
      },
      "cell_type": "code",
      "source": [
        "show_doc(MultiCategoryProcessor, title_level=3)"
      ],
      "execution_count": 0,
      "outputs": [
        {
          "output_type": "display_data",
          "data": {
            "text/markdown": "<h3 id=\"MultiCategoryProcessor\" class=\"doc_header\"><code>class</code> <code>MultiCategoryProcessor</code><a href=\"https://github.com/fastai/fastai/blob/master/fastai/data_block.py#L373\" class=\"source_link\" style=\"float:right\">[source]</a><a class=\"source_link\" data-toggle=\"collapse\" data-target=\"#MultiCategoryProcessor-pytest\" style=\"float:right; padding-right:10px\">[test]</a></h3>\n\n> <code>MultiCategoryProcessor</code>(**`ds`**:[`ItemList`](/data_block.html#ItemList), **`one_hot`**:`bool`=***`False`***) :: [`CategoryProcessor`](/data_block.html#CategoryProcessor)\n\n<div class=\"collapse\" id=\"MultiCategoryProcessor-pytest\"><div class=\"card card-body pytest_card\"><a type=\"button\" data-toggle=\"collapse\" data-target=\"#MultiCategoryProcessor-pytest\" class=\"close\" aria-label=\"Close\"><span aria-hidden=\"true\">&times;</span></a><p>No tests found for <code>MultiCategoryProcessor</code>. To contribute a test please refer to <a href=\"/dev/test.html\">this guide</a> and <a href=\"https://forums.fast.ai/t/improving-expanding-functional-tests/32929\">this discussion</a>.</p></div></div>\n\n[`PreProcessor`](/data_block.html#PreProcessor) that create `classes` from `ds.items` and handle the mapping.  ",
            "text/plain": [
              "<IPython.core.display.Markdown object>"
            ]
          },
          "metadata": {
            "tags": []
          }
        }
      ]
    },
    {
      "metadata": {
        "hide_input": true,
        "id": "o6TblJChUtUF",
        "colab_type": "code",
        "outputId": "77b9e145-8217-479c-c635-07215149abd3",
        "colab": {}
      },
      "cell_type": "code",
      "source": [
        "show_doc(MultiCategoryProcessor.generate_classes)"
      ],
      "execution_count": 0,
      "outputs": [
        {
          "output_type": "display_data",
          "data": {
            "text/markdown": "<h4 id=\"MultiCategoryProcessor.generate_classes\" class=\"doc_header\"><code>generate_classes</code><a href=\"https://github.com/fastai/fastai/blob/master/fastai/data_block.py#L385\" class=\"source_link\" style=\"float:right\">[source]</a><a class=\"source_link\" data-toggle=\"collapse\" data-target=\"#MultiCategoryProcessor-generate_classes-pytest\" style=\"float:right; padding-right:10px\">[test]</a></h4>\n\n> <code>generate_classes</code>(**`items`**)\n\n<div class=\"collapse\" id=\"MultiCategoryProcessor-generate_classes-pytest\"><div class=\"card card-body pytest_card\"><a type=\"button\" data-toggle=\"collapse\" data-target=\"#MultiCategoryProcessor-generate_classes-pytest\" class=\"close\" aria-label=\"Close\"><span aria-hidden=\"true\">&times;</span></a><p>No tests found for <code>generate_classes</code>. To contribute a test please refer to <a href=\"/dev/test.html\">this guide</a> and <a href=\"https://forums.fast.ai/t/improving-expanding-functional-tests/32929\">this discussion</a>.</p></div></div>\n\nGenerate classes from `items` by taking the sorted unique values.  ",
            "text/plain": [
              "<IPython.core.display.Markdown object>"
            ]
          },
          "metadata": {
            "tags": []
          }
        }
      ]
    },
    {
      "metadata": {
        "id": "1wKAjMtcUtUH",
        "colab_type": "text"
      },
      "cell_type": "markdown",
      "source": [
        "## Optional steps"
      ]
    },
    {
      "metadata": {
        "id": "krhdQ4vXUtUK",
        "colab_type": "text"
      },
      "cell_type": "markdown",
      "source": [
        "### Add transforms"
      ]
    },
    {
      "metadata": {
        "id": "-2RBBOjkUtUL",
        "colab_type": "text"
      },
      "cell_type": "markdown",
      "source": [
        "Transforms differ from processors in the sense they are applied on the fly when we grab one item. They also may change each time we ask for the same item in the case of random transforms."
      ]
    },
    {
      "metadata": {
        "hide_input": true,
        "id": "WAY-iD4PUtUM",
        "colab_type": "code",
        "outputId": "957c29d2-e190-47af-befc-c8adb2a380a5",
        "colab": {}
      },
      "cell_type": "code",
      "source": [
        "show_doc(LabelLists.transform)"
      ],
      "execution_count": 0,
      "outputs": [
        {
          "output_type": "display_data",
          "data": {
            "text/markdown": "<h4 id=\"ItemLists.transform\" class=\"doc_header\"><code>transform</code><a href=\"https://github.com/fastai/fastai/blob/master/fastai/data_block.py#L486\" class=\"source_link\" style=\"float:right\">[source]</a><a class=\"source_link\" data-toggle=\"collapse\" data-target=\"#ItemLists-transform-pytest\" style=\"float:right; padding-right:10px\">[test]</a></h4>\n\n> <code>transform</code>(**`tfms`**:`Optional`\\[`Tuple`\\[`Union`\\[`Callable`, `Collection`\\[`Callable`\\]\\], `Union`\\[`Callable`, `Collection`\\[`Callable`\\]\\]\\]\\]=***`(None, None)`***, **\\*\\*`kwargs`**)\n\n<div class=\"collapse\" id=\"ItemLists-transform-pytest\"><div class=\"card card-body pytest_card\"><a type=\"button\" data-toggle=\"collapse\" data-target=\"#ItemLists-transform-pytest\" class=\"close\" aria-label=\"Close\"><span aria-hidden=\"true\">&times;</span></a><p>No tests found for <code>transform</code>. To contribute a test please refer to <a href=\"/dev/test.html\">this guide</a> and <a href=\"https://forums.fast.ai/t/improving-expanding-functional-tests/32929\">this discussion</a>.</p></div></div>\n\nSet `tfms` to be applied to the xs of the train and validation set.  ",
            "text/plain": [
              "<IPython.core.display.Markdown object>"
            ]
          },
          "metadata": {
            "tags": []
          }
        }
      ]
    },
    {
      "metadata": {
        "id": "W-0J9FThUtUO",
        "colab_type": "text"
      },
      "cell_type": "markdown",
      "source": [
        "This is primary for the vision application. The `kwargs` arguments are the ones expected by the type of transforms you pass. `tfm_y` is among them and if set to `True`, the transforms will be applied to input and target.\n",
        "\n",
        "For examples see: [vision.transforms](vision.transform.html)."
      ]
    },
    {
      "metadata": {
        "id": "NIgMdFtgUtUO",
        "colab_type": "text"
      },
      "cell_type": "markdown",
      "source": [
        "### Add a test set"
      ]
    },
    {
      "metadata": {
        "id": "50isSk4tUtUP",
        "colab_type": "text"
      },
      "cell_type": "markdown",
      "source": [
        "To add a test set, you can use one of the two following methods."
      ]
    },
    {
      "metadata": {
        "hide_input": true,
        "id": "YKETOYtLUtUP",
        "colab_type": "code",
        "outputId": "f88f93e2-a210-4e2e-c76e-3d37b7b05502",
        "colab": {}
      },
      "cell_type": "code",
      "source": [
        "show_doc(LabelLists.add_test)"
      ],
      "execution_count": 0,
      "outputs": [
        {
          "output_type": "display_data",
          "data": {
            "text/markdown": "<h4 id=\"LabelLists.add_test\" class=\"doc_header\"><code>add_test</code><a href=\"https://github.com/fastai/fastai/blob/master/fastai/data_block.py#L542\" class=\"source_link\" style=\"float:right\">[source]</a><a class=\"source_link\" data-toggle=\"collapse\" data-target=\"#LabelLists-add_test-pytest\" style=\"float:right; padding-right:10px\">[test]</a></h4>\n\n> <code>add_test</code>(**`items`**:`Iterator`\\[`T_co`\\], **`label`**:`Any`=***`None`***)\n\n<div class=\"collapse\" id=\"LabelLists-add_test-pytest\"><div class=\"card card-body pytest_card\"><a type=\"button\" data-toggle=\"collapse\" data-target=\"#LabelLists-add_test-pytest\" class=\"close\" aria-label=\"Close\"><span aria-hidden=\"true\">&times;</span></a><p>No tests found for <code>add_test</code>. To contribute a test please refer to <a href=\"/dev/test.html\">this guide</a> and <a href=\"https://forums.fast.ai/t/improving-expanding-functional-tests/32929\">this discussion</a>.</p></div></div>\n\nAdd test set containing `items` with an arbitrary `label`.  ",
            "text/plain": [
              "<IPython.core.display.Markdown object>"
            ]
          },
          "metadata": {
            "tags": []
          }
        }
      ]
    },
    {
      "metadata": {
        "hide_input": true,
        "id": "CpscffzqUtUU",
        "colab_type": "code",
        "outputId": "cb777826-f6e5-4a1c-f805-3a97f303a495",
        "colab": {}
      },
      "cell_type": "code",
      "source": [
        "jekyll_note(\"Here `items` can be an `ItemList` or a collection.\")"
      ],
      "execution_count": 0,
      "outputs": [
        {
          "output_type": "display_data",
          "data": {
            "text/markdown": "<div markdown=\"span\" class=\"alert alert-info\" role=\"alert\"><i class=\"fa fa-info-circle\"></i> <b>Note: </b>Here `items` can be an `ItemList` or a collection.</div>",
            "text/plain": [
              "<IPython.core.display.Markdown object>"
            ]
          },
          "metadata": {
            "tags": []
          }
        }
      ]
    },
    {
      "metadata": {
        "hide_input": true,
        "id": "Js8ljigTUtUW",
        "colab_type": "code",
        "outputId": "91e72b86-3251-47ce-e0c2-092e65f2debe",
        "colab": {}
      },
      "cell_type": "code",
      "source": [
        "show_doc(LabelLists.add_test_folder)"
      ],
      "execution_count": 0,
      "outputs": [
        {
          "output_type": "display_data",
          "data": {
            "text/markdown": "<h4 id=\"LabelLists.add_test_folder\" class=\"doc_header\"><code>add_test_folder</code><a href=\"https://github.com/fastai/fastai/blob/master/fastai/data_block.py#L552\" class=\"source_link\" style=\"float:right\">[source]</a><a class=\"source_link\" data-toggle=\"collapse\" data-target=\"#LabelLists-add_test_folder-pytest\" style=\"float:right; padding-right:10px\">[test]</a></h4>\n\n> <code>add_test_folder</code>(**`test_folder`**:`str`=***`'test'`***, **`label`**:`Any`=***`None`***)\n\n<div class=\"collapse\" id=\"LabelLists-add_test_folder-pytest\"><div class=\"card card-body pytest_card\"><a type=\"button\" data-toggle=\"collapse\" data-target=\"#LabelLists-add_test_folder-pytest\" class=\"close\" aria-label=\"Close\"><span aria-hidden=\"true\">&times;</span></a><p>No tests found for <code>add_test_folder</code>. To contribute a test please refer to <a href=\"/dev/test.html\">this guide</a> and <a href=\"https://forums.fast.ai/t/improving-expanding-functional-tests/32929\">this discussion</a>.</p></div></div>\n\nAdd test set containing items from `test_folder` and an arbitrary `label`.  ",
            "text/plain": [
              "<IPython.core.display.Markdown object>"
            ]
          },
          "metadata": {
            "tags": []
          }
        }
      ]
    },
    {
      "metadata": {
        "hide_input": true,
        "id": "P-XN8HMGUtUY",
        "colab_type": "code",
        "outputId": "2889d76f-90f6-465e-b345-606edced61de",
        "colab": {}
      },
      "cell_type": "code",
      "source": [
        "jekyll_warn(\"In fastai the test set is unlabeled! No labels will be collected even if they are available.\")"
      ],
      "execution_count": 0,
      "outputs": [
        {
          "output_type": "display_data",
          "data": {
            "text/markdown": "<div markdown=\"span\" class=\"alert alert-danger\" role=\"alert\"><i class=\"fa fa-danger-circle\"></i> <b>Warning: </b>In fastai the test set is unlabeled! No labels will be collected even if they are available.</div>",
            "text/plain": [
              "<IPython.core.display.Markdown object>"
            ]
          },
          "metadata": {
            "tags": []
          }
        }
      ]
    },
    {
      "metadata": {
        "hide_input": true,
        "id": "GrlXZvQNUtUd",
        "colab_type": "text"
      },
      "cell_type": "markdown",
      "source": [
        "Instead, either the passed `label` argument or an empty label will be used for all entries of this dataset (this is required by the internal pipeline of fastai). \n",
        "\n",
        "In the `fastai` framework `test` datasets have no labels - this is the unknown data to be predicted. If you want to validate your model on a `test` dataset with labels, you probably need to use it as a validation set, as in:\n",
        "\n",
        "```\n",
        "data_test = (ImageList.from_folder(path)\n",
        "        .split_by_folder(train='train', valid='test')\n",
        "        .label_from_folder()\n",
        "        ...)\n",
        "```\n",
        "\n",
        "Another approach, where you do use a normal validation set, and then when the training is over, you just want to validate the test set w/ labels as a validation set, you can do this:\n",
        "\n",
        "```\n",
        "tfms = []\n",
        "path = Path('data').resolve()\n",
        "data = (ImageList.from_folder(path)\n",
        "        .split_by_pct()\n",
        "        .label_from_folder()\n",
        "        .transform(tfms)\n",
        "        .databunch()\n",
        "        .normalize() ) \n",
        "learn = cnn_learner(data, models.resnet50, metrics=accuracy)\n",
        "learn.fit_one_cycle(5,1e-2)\n",
        "\n",
        "# now replace the validation dataset entry with the test dataset as a new validation dataset: \n",
        "# everything is exactly the same, except replacing `split_by_pct` w/ `split_by_folder` \n",
        "# (or perhaps you were already using the latter, so simply switch to valid='test')\n",
        "data_test = (ImageList.from_folder(path)\n",
        "        .split_by_folder(train='train', valid='test')\n",
        "        .label_from_folder()\n",
        "        .transform(tfms)\n",
        "        .databunch()\n",
        "        .normalize()\n",
        "       ) \n",
        "learn.validate(data_test.valid_dl)\n",
        "```\n",
        "Of course, your data block can be totally different, this is just an example."
      ]
    },
    {
      "metadata": {
        "id": "2fpYx7ATUtUd",
        "colab_type": "text"
      },
      "cell_type": "markdown",
      "source": [
        "## Step 4: convert to a [`DataBunch`](/basic_data.html#DataBunch)"
      ]
    },
    {
      "metadata": {
        "id": "hBNMaoz5UtUe",
        "colab_type": "text"
      },
      "cell_type": "markdown",
      "source": [
        "This last step is usually pretty straightforward. You just have to include all the arguments we pass to [`DataBunch.create`](/basic_data.html#DataBunch.create) (`bs`, `num_workers`,  `collate_fn`). The class called to create a [`DataBunch`](/basic_data.html#DataBunch) is set in the `_bunch` attribute of the inputs of the training set if you need to modify it. Normally, the various subclasses we showed before handle that for you."
      ]
    },
    {
      "metadata": {
        "hide_input": true,
        "id": "CuvO0-5TUtUe",
        "colab_type": "code",
        "outputId": "5da782c2-eb86-424e-a907-d8f6507afe97",
        "colab": {}
      },
      "cell_type": "code",
      "source": [
        "show_doc(LabelLists.databunch)"
      ],
      "execution_count": 0,
      "outputs": [
        {
          "output_type": "display_data",
          "data": {
            "text/markdown": "<h4 id=\"LabelLists.databunch\" class=\"doc_header\"><code>databunch</code><a href=\"https://github.com/fastai/fastai/blob/master/fastai/data_block.py#L529\" class=\"source_link\" style=\"float:right\">[source]</a><a class=\"source_link\" data-toggle=\"collapse\" data-target=\"#LabelLists-databunch-pytest\" style=\"float:right; padding-right:10px\">[test]</a></h4>\n\n> <code>databunch</code>(**`path`**:`PathOrStr`=***`None`***, **`bs`**:`int`=***`64`***, **`val_bs`**:`int`=***`None`***, **`num_workers`**:`int`=***`4`***, **`dl_tfms`**:`Optional`\\[`Collection`\\[`Callable`\\]\\]=***`None`***, **`device`**:[`device`](https://pytorch.org/docs/stable/tensor_attributes.html#torch-device)=***`None`***, **`collate_fn`**:`Callable`=***`'data_collate'`***, **`no_check`**:`bool`=***`False`***, **\\*\\*`kwargs`**) → `DataBunch`\n\n<div class=\"collapse\" id=\"LabelLists-databunch-pytest\"><div class=\"card card-body pytest_card\"><a type=\"button\" data-toggle=\"collapse\" data-target=\"#LabelLists-databunch-pytest\" class=\"close\" aria-label=\"Close\"><span aria-hidden=\"true\">&times;</span></a><p>Tests found for <code>databunch</code>:</p><ul><li><code>pytest -sv tests/test_vision_data.py::test_vision_datasets</code> <a href=\"https://github.com/fastai/fastai/blob/master/tests/test_vision_data.py#L217\" class=\"source_link\" style=\"float:right\">[source]</a></li></ul><p>Some other tests where <code>databunch</code> is used:</p><ul><li><code>pytest -sv tests/test_data_block.py::test_regression</code> <a href=\"https://github.com/fastai/fastai/blob/master/tests/test_data_block.py#L125\" class=\"source_link\" style=\"float:right\">[source]</a></li></ul><p>To run tests please refer to this <a href=\"/dev/test.html#quick-guide\">guide</a>.</p></div></div>\n\nCreate an [`DataBunch`](/basic_data.html#DataBunch) from self, `path` will override `self.path`, `kwargs` are passed to [`DataBunch.create`](/basic_data.html#DataBunch.create).  ",
            "text/plain": [
              "<IPython.core.display.Markdown object>"
            ]
          },
          "metadata": {
            "tags": []
          }
        }
      ]
    },
    {
      "metadata": {
        "id": "_hz-vOc_UtUg",
        "colab_type": "text"
      },
      "cell_type": "markdown",
      "source": [
        "## Inner classes"
      ]
    },
    {
      "metadata": {
        "hide_input": true,
        "id": "aqMbbQWFUtUh",
        "colab_type": "code",
        "outputId": "99e45f6e-7625-4bd8-9806-169d2a41c856",
        "colab": {}
      },
      "cell_type": "code",
      "source": [
        "show_doc(LabelList, title_level=3)"
      ],
      "execution_count": 0,
      "outputs": [
        {
          "output_type": "display_data",
          "data": {
            "text/markdown": "<h3 id=\"LabelList\" class=\"doc_header\"><code>class</code> <code>LabelList</code><a href=\"https://github.com/fastai/fastai/blob/master/fastai/data_block.py#L582\" class=\"source_link\" style=\"float:right\">[source]</a><a class=\"source_link\" data-toggle=\"collapse\" data-target=\"#LabelList-pytest\" style=\"float:right; padding-right:10px\">[test]</a></h3>\n\n> <code>LabelList</code>(**`x`**:[`ItemList`](/data_block.html#ItemList), **`y`**:[`ItemList`](/data_block.html#ItemList), **`tfms`**:`Union`\\[`Callable`, `Collection`\\[`Callable`\\]\\]=***`None`***, **`tfm_y`**:`bool`=***`False`***, **\\*\\*`kwargs`**) :: [`Dataset`](https://pytorch.org/docs/stable/data.html#torch.utils.data.Dataset)\n\n<div class=\"collapse\" id=\"LabelList-pytest\"><div class=\"card card-body pytest_card\"><a type=\"button\" data-toggle=\"collapse\" data-target=\"#LabelList-pytest\" class=\"close\" aria-label=\"Close\"><span aria-hidden=\"true\">&times;</span></a><p>No tests found for <code>LabelList</code>. To contribute a test please refer to <a href=\"/dev/test.html\">this guide</a> and <a href=\"https://forums.fast.ai/t/improving-expanding-functional-tests/32929\">this discussion</a>.</p></div></div>\n\nA list of inputs `x` and labels `y` with optional `tfms`.  ",
            "text/plain": [
              "<IPython.core.display.Markdown object>"
            ]
          },
          "metadata": {
            "tags": []
          }
        }
      ]
    },
    {
      "metadata": {
        "id": "XjZNy2yOUtUk",
        "colab_type": "text"
      },
      "cell_type": "markdown",
      "source": [
        "Optionally apply `tfms` to `y` if `tfm_y` is `True`. "
      ]
    },
    {
      "metadata": {
        "hide_input": true,
        "id": "FxmPtlkEUtUk",
        "colab_type": "code",
        "outputId": "288fcb24-17b7-4958-c4ac-b73f6165ddbf",
        "colab": {}
      },
      "cell_type": "code",
      "source": [
        "show_doc(LabelList.export)"
      ],
      "execution_count": 0,
      "outputs": [
        {
          "output_type": "display_data",
          "data": {
            "text/markdown": "<h4 id=\"LabelList.export\" class=\"doc_header\"><code>export</code><a href=\"https://github.com/fastai/fastai/blob/master/fastai/data_block.py#L660\" class=\"source_link\" style=\"float:right\">[source]</a><a class=\"source_link\" data-toggle=\"collapse\" data-target=\"#LabelList-export-pytest\" style=\"float:right; padding-right:10px\">[test]</a></h4>\n\n> <code>export</code>(**`fn`**:`PathOrStr`, **\\*\\*`kwargs`**)\n\n<div class=\"collapse\" id=\"LabelList-export-pytest\"><div class=\"card card-body pytest_card\"><a type=\"button\" data-toggle=\"collapse\" data-target=\"#LabelList-export-pytest\" class=\"close\" aria-label=\"Close\"><span aria-hidden=\"true\">&times;</span></a><p>No tests found for <code>export</code>. To contribute a test please refer to <a href=\"/dev/test.html\">this guide</a> and <a href=\"https://forums.fast.ai/t/improving-expanding-functional-tests/32929\">this discussion</a>.</p></div></div>\n\nExport the minimal state and save it in `fn` to load an empty version for inference.  ",
            "text/plain": [
              "<IPython.core.display.Markdown object>"
            ]
          },
          "metadata": {
            "tags": []
          }
        }
      ]
    },
    {
      "metadata": {
        "hide_input": true,
        "id": "YEklrbwoUtUn",
        "colab_type": "code",
        "outputId": "21d0b309-fd9b-493e-c324-5a72a8240299",
        "colab": {}
      },
      "cell_type": "code",
      "source": [
        "show_doc(LabelList.transform_y)"
      ],
      "execution_count": 0,
      "outputs": [
        {
          "output_type": "display_data",
          "data": {
            "text/markdown": "<h4 id=\"LabelList.transform_y\" class=\"doc_header\"><code>transform_y</code><a href=\"https://github.com/fastai/fastai/blob/master/fastai/data_block.py#L713\" class=\"source_link\" style=\"float:right\">[source]</a><a class=\"source_link\" data-toggle=\"collapse\" data-target=\"#LabelList-transform_y-pytest\" style=\"float:right; padding-right:10px\">[test]</a></h4>\n\n> <code>transform_y</code>(**`tfms`**:`Union`\\[`Callable`, `Collection`\\[`Callable`\\]\\]=***`None`***, **\\*\\*`kwargs`**)\n\n<div class=\"collapse\" id=\"LabelList-transform_y-pytest\"><div class=\"card card-body pytest_card\"><a type=\"button\" data-toggle=\"collapse\" data-target=\"#LabelList-transform_y-pytest\" class=\"close\" aria-label=\"Close\"><span aria-hidden=\"true\">&times;</span></a><p>No tests found for <code>transform_y</code>. To contribute a test please refer to <a href=\"/dev/test.html\">this guide</a> and <a href=\"https://forums.fast.ai/t/improving-expanding-functional-tests/32929\">this discussion</a>.</p></div></div>\n\nSet `tfms` to be applied to the targets only.  ",
            "text/plain": [
              "<IPython.core.display.Markdown object>"
            ]
          },
          "metadata": {
            "tags": []
          }
        }
      ]
    },
    {
      "metadata": {
        "hide_input": true,
        "id": "OVS0bqrlUtUq",
        "colab_type": "code",
        "outputId": "2bcac1f7-13d5-4555-cea4-ccbf65ca7756",
        "colab": {}
      },
      "cell_type": "code",
      "source": [
        "show_doc(LabelList.get_state)"
      ],
      "execution_count": 0,
      "outputs": [
        {
          "output_type": "display_data",
          "data": {
            "text/markdown": "<h4 id=\"LabelList.get_state\" class=\"doc_header\"><code>get_state</code><a href=\"https://github.com/fastai/fastai/blob/master/fastai/data_block.py#L651\" class=\"source_link\" style=\"float:right\">[source]</a><a class=\"source_link\" data-toggle=\"collapse\" data-target=\"#LabelList-get_state-pytest\" style=\"float:right; padding-right:10px\">[test]</a></h4>\n\n> <code>get_state</code>(**\\*\\*`kwargs`**)\n\n<div class=\"collapse\" id=\"LabelList-get_state-pytest\"><div class=\"card card-body pytest_card\"><a type=\"button\" data-toggle=\"collapse\" data-target=\"#LabelList-get_state-pytest\" class=\"close\" aria-label=\"Close\"><span aria-hidden=\"true\">&times;</span></a><p>No tests found for <code>get_state</code>. To contribute a test please refer to <a href=\"/dev/test.html\">this guide</a> and <a href=\"https://forums.fast.ai/t/improving-expanding-functional-tests/32929\">this discussion</a>.</p></div></div>\n\nReturn the minimal state for export.  ",
            "text/plain": [
              "<IPython.core.display.Markdown object>"
            ]
          },
          "metadata": {
            "tags": []
          }
        }
      ]
    },
    {
      "metadata": {
        "hide_input": true,
        "id": "k6ImYwqXUtUt",
        "colab_type": "code",
        "outputId": "cbcb25c1-0de7-449d-d88e-19524461d0e3",
        "colab": {}
      },
      "cell_type": "code",
      "source": [
        "show_doc(LabelList.load_empty)"
      ],
      "execution_count": 0,
      "outputs": [
        {
          "output_type": "display_data",
          "data": {
            "text/markdown": "<h4 id=\"LabelList.load_empty\" class=\"doc_header\"><code>load_empty</code><a href=\"https://github.com/fastai/fastai/blob/master/fastai/data_block.py#L664\" class=\"source_link\" style=\"float:right\">[source]</a><a class=\"source_link\" data-toggle=\"collapse\" data-target=\"#LabelList-load_empty-pytest\" style=\"float:right; padding-right:10px\">[test]</a></h4>\n\n> <code>load_empty</code>(**`path`**:`PathOrStr`, **`fn`**:`PathOrStr`)\n\n<div class=\"collapse\" id=\"LabelList-load_empty-pytest\"><div class=\"card card-body pytest_card\"><a type=\"button\" data-toggle=\"collapse\" data-target=\"#LabelList-load_empty-pytest\" class=\"close\" aria-label=\"Close\"><span aria-hidden=\"true\">&times;</span></a><p>No tests found for <code>load_empty</code>. To contribute a test please refer to <a href=\"/dev/test.html\">this guide</a> and <a href=\"https://forums.fast.ai/t/improving-expanding-functional-tests/32929\">this discussion</a>.</p></div></div>\n\nLoad the state in `fn` to create an empty [`LabelList`](/data_block.html#LabelList) for inference.  ",
            "text/plain": [
              "<IPython.core.display.Markdown object>"
            ]
          },
          "metadata": {
            "tags": []
          }
        }
      ]
    },
    {
      "metadata": {
        "hide_input": true,
        "id": "g9wMlcUOUtUv",
        "colab_type": "code",
        "outputId": "a8284974-16c2-4fc6-c493-b7e9842b6ca7",
        "colab": {}
      },
      "cell_type": "code",
      "source": [
        "show_doc(LabelList.load_state)"
      ],
      "execution_count": 0,
      "outputs": [
        {
          "output_type": "display_data",
          "data": {
            "text/markdown": "<h4 id=\"LabelList.load_state\" class=\"doc_header\"><code>load_state</code><a href=\"https://github.com/fastai/fastai/blob/master/fastai/data_block.py#L669\" class=\"source_link\" style=\"float:right\">[source]</a><a class=\"source_link\" data-toggle=\"collapse\" data-target=\"#LabelList-load_state-pytest\" style=\"float:right; padding-right:10px\">[test]</a></h4>\n\n> <code>load_state</code>(**`path`**:`PathOrStr`, **`state`**:`dict`) → `LabelList`\n\n<div class=\"collapse\" id=\"LabelList-load_state-pytest\"><div class=\"card card-body pytest_card\"><a type=\"button\" data-toggle=\"collapse\" data-target=\"#LabelList-load_state-pytest\" class=\"close\" aria-label=\"Close\"><span aria-hidden=\"true\">&times;</span></a><p>No tests found for <code>load_state</code>. To contribute a test please refer to <a href=\"/dev/test.html\">this guide</a> and <a href=\"https://forums.fast.ai/t/improving-expanding-functional-tests/32929\">this discussion</a>.</p></div></div>\n\nCreate a [`LabelList`](/data_block.html#LabelList) from `state`.  ",
            "text/plain": [
              "<IPython.core.display.Markdown object>"
            ]
          },
          "metadata": {
            "tags": []
          }
        }
      ]
    },
    {
      "metadata": {
        "hide_input": true,
        "id": "0I82rsGMUtUw",
        "colab_type": "code",
        "outputId": "b8ef4642-bb18-48c1-a03b-01283e4ca89e",
        "colab": {}
      },
      "cell_type": "code",
      "source": [
        "show_doc(LabelList.process)"
      ],
      "execution_count": 0,
      "outputs": [
        {
          "output_type": "display_data",
          "data": {
            "text/markdown": "<h4 id=\"LabelList.process\" class=\"doc_header\"><code>process</code><a href=\"https://github.com/fastai/fastai/blob/master/fastai/data_block.py#L680\" class=\"source_link\" style=\"float:right\">[source]</a><a class=\"source_link\" data-toggle=\"collapse\" data-target=\"#LabelList-process-pytest\" style=\"float:right; padding-right:10px\">[test]</a></h4>\n\n> <code>process</code>(**`xp`**:[`PreProcessor`](/data_block.html#PreProcessor)=***`None`***, **`yp`**:[`PreProcessor`](/data_block.html#PreProcessor)=***`None`***, **`name`**:`str`=***`None`***)\n\n<div class=\"collapse\" id=\"LabelList-process-pytest\"><div class=\"card card-body pytest_card\"><a type=\"button\" data-toggle=\"collapse\" data-target=\"#LabelList-process-pytest\" class=\"close\" aria-label=\"Close\"><span aria-hidden=\"true\">&times;</span></a><p>No tests found for <code>process</code>. To contribute a test please refer to <a href=\"/dev/test.html\">this guide</a> and <a href=\"https://forums.fast.ai/t/improving-expanding-functional-tests/32929\">this discussion</a>.</p></div></div>\n\nLaunch the processing on `self.x` and `self.y` with `xp` and `yp`.  ",
            "text/plain": [
              "<IPython.core.display.Markdown object>"
            ]
          },
          "metadata": {
            "tags": []
          }
        }
      ]
    },
    {
      "metadata": {
        "hide_input": true,
        "id": "y0KGQbshUtUy",
        "colab_type": "code",
        "outputId": "d94b4d3d-d686-44ab-934e-0cd405246540",
        "colab": {}
      },
      "cell_type": "code",
      "source": [
        "show_doc(LabelList.set_item)"
      ],
      "execution_count": 0,
      "outputs": [
        {
          "output_type": "display_data",
          "data": {
            "text/markdown": "<h4 id=\"LabelList.set_item\" class=\"doc_header\"><code>set_item</code><a href=\"https://github.com/fastai/fastai/blob/master/fastai/data_block.py#L592\" class=\"source_link\" style=\"float:right\">[source]</a><a class=\"source_link\" data-toggle=\"collapse\" data-target=\"#LabelList-set_item-pytest\" style=\"float:right; padding-right:10px\">[test]</a></h4>\n\n> <code>set_item</code>(**`item`**)\n\n<div class=\"collapse\" id=\"LabelList-set_item-pytest\"><div class=\"card card-body pytest_card\"><a type=\"button\" data-toggle=\"collapse\" data-target=\"#LabelList-set_item-pytest\" class=\"close\" aria-label=\"Close\"><span aria-hidden=\"true\">&times;</span></a><p>No tests found for <code>set_item</code>. To contribute a test please refer to <a href=\"/dev/test.html\">this guide</a> and <a href=\"https://forums.fast.ai/t/improving-expanding-functional-tests/32929\">this discussion</a>.</p></div></div>\n\nFor inference, will briefly replace the dataset with one that only contains `item`.  ",
            "text/plain": [
              "<IPython.core.display.Markdown object>"
            ]
          },
          "metadata": {
            "tags": []
          }
        }
      ]
    },
    {
      "metadata": {
        "hide_input": true,
        "id": "fU0mKd0zUtU0",
        "colab_type": "code",
        "outputId": "ebe73737-5623-466e-8fd6-6eb999539042",
        "colab": {}
      },
      "cell_type": "code",
      "source": [
        "show_doc(LabelList.to_df)"
      ],
      "execution_count": 0,
      "outputs": [
        {
          "output_type": "display_data",
          "data": {
            "text/markdown": "<h4 id=\"LabelList.to_df\" class=\"doc_header\"><code>to_df</code><a href=\"https://github.com/fastai/fastai/blob/master/fastai/data_block.py#L643\" class=\"source_link\" style=\"float:right\">[source]</a><a class=\"source_link\" data-toggle=\"collapse\" data-target=\"#LabelList-to_df-pytest\" style=\"float:right; padding-right:10px\">[test]</a></h4>\n\n> <code>to_df</code>()\n\n<div class=\"collapse\" id=\"LabelList-to_df-pytest\"><div class=\"card card-body pytest_card\"><a type=\"button\" data-toggle=\"collapse\" data-target=\"#LabelList-to_df-pytest\" class=\"close\" aria-label=\"Close\"><span aria-hidden=\"true\">&times;</span></a><p>No tests found for <code>to_df</code>. To contribute a test please refer to <a href=\"/dev/test.html\">this guide</a> and <a href=\"https://forums.fast.ai/t/improving-expanding-functional-tests/32929\">this discussion</a>.</p></div></div>\n\nCreate `pd.DataFrame` containing `items` from `self.x` and `self.y`.  ",
            "text/plain": [
              "<IPython.core.display.Markdown object>"
            ]
          },
          "metadata": {
            "tags": []
          }
        }
      ]
    },
    {
      "metadata": {
        "hide_input": true,
        "id": "D97V6kiOUtU2",
        "colab_type": "code",
        "outputId": "5c516127-002c-46cc-d48f-4ee74a92ca6a",
        "colab": {}
      },
      "cell_type": "code",
      "source": [
        "show_doc(LabelList.to_csv)"
      ],
      "execution_count": 0,
      "outputs": [
        {
          "output_type": "display_data",
          "data": {
            "text/markdown": "<h4 id=\"LabelList.to_csv\" class=\"doc_header\"><code>to_csv</code><a href=\"https://github.com/fastai/fastai/blob/master/fastai/data_block.py#L647\" class=\"source_link\" style=\"float:right\">[source]</a><a class=\"source_link\" data-toggle=\"collapse\" data-target=\"#LabelList-to_csv-pytest\" style=\"float:right; padding-right:10px\">[test]</a></h4>\n\n> <code>to_csv</code>(**`dest`**:`str`)\n\n<div class=\"collapse\" id=\"LabelList-to_csv-pytest\"><div class=\"card card-body pytest_card\"><a type=\"button\" data-toggle=\"collapse\" data-target=\"#LabelList-to_csv-pytest\" class=\"close\" aria-label=\"Close\"><span aria-hidden=\"true\">&times;</span></a><p>No tests found for <code>to_csv</code>. To contribute a test please refer to <a href=\"/dev/test.html\">this guide</a> and <a href=\"https://forums.fast.ai/t/improving-expanding-functional-tests/32929\">this discussion</a>.</p></div></div>\n\nSave `self.to_df()` to a CSV file in `self.path`/`dest`.  ",
            "text/plain": [
              "<IPython.core.display.Markdown object>"
            ]
          },
          "metadata": {
            "tags": []
          }
        }
      ]
    },
    {
      "metadata": {
        "hide_input": true,
        "id": "KsAAGRL1UtU4",
        "colab_type": "code",
        "outputId": "6b1dcf46-786b-40c7-a9e2-1dbbdbd3dbc0",
        "colab": {}
      },
      "cell_type": "code",
      "source": [
        "show_doc(LabelList.transform)"
      ],
      "execution_count": 0,
      "outputs": [
        {
          "output_type": "display_data",
          "data": {
            "text/markdown": "<h4 id=\"LabelList.transform\" class=\"doc_header\"><code>transform</code><a href=\"https://github.com/fastai/fastai/blob/master/fastai/data_block.py#L704\" class=\"source_link\" style=\"float:right\">[source]</a><a class=\"source_link\" data-toggle=\"collapse\" data-target=\"#LabelList-transform-pytest\" style=\"float:right; padding-right:10px\">[test]</a></h4>\n\n> <code>transform</code>(**`tfms`**:`Union`\\[`Callable`, `Collection`\\[`Callable`\\]\\], **`tfm_y`**:`bool`=***`None`***, **\\*\\*`kwargs`**)\n\n<div class=\"collapse\" id=\"LabelList-transform-pytest\"><div class=\"card card-body pytest_card\"><a type=\"button\" data-toggle=\"collapse\" data-target=\"#LabelList-transform-pytest\" class=\"close\" aria-label=\"Close\"><span aria-hidden=\"true\">&times;</span></a><p>No tests found for <code>transform</code>. To contribute a test please refer to <a href=\"/dev/test.html\">this guide</a> and <a href=\"https://forums.fast.ai/t/improving-expanding-functional-tests/32929\">this discussion</a>.</p></div></div>\n\nSet the `tfms` and `tfm_y` value to be applied to the inputs and targets.  ",
            "text/plain": [
              "<IPython.core.display.Markdown object>"
            ]
          },
          "metadata": {
            "tags": []
          }
        }
      ]
    },
    {
      "metadata": {
        "hide_input": true,
        "id": "MMbWfioCUtU6",
        "colab_type": "code",
        "outputId": "759ea161-6ee5-44fc-c52d-73f5433f59d4",
        "colab": {}
      },
      "cell_type": "code",
      "source": [
        "show_doc(ItemLists, title_level=3)"
      ],
      "execution_count": 0,
      "outputs": [
        {
          "output_type": "display_data",
          "data": {
            "text/markdown": "<h3 id=\"ItemLists\" class=\"doc_header\"><code>class</code> <code>ItemLists</code><a href=\"https://github.com/fastai/fastai/blob/master/fastai/data_block.py#L434\" class=\"source_link\" style=\"float:right\">[source]</a><a class=\"source_link\" data-toggle=\"collapse\" data-target=\"#ItemLists-pytest\" style=\"float:right; padding-right:10px\">[test]</a></h3>\n\n> <code>ItemLists</code>(**`path`**:`PathOrStr`, **`train`**:[`ItemList`](/data_block.html#ItemList), **`valid`**:[`ItemList`](/data_block.html#ItemList))\n\n<div class=\"collapse\" id=\"ItemLists-pytest\"><div class=\"card card-body pytest_card\"><a type=\"button\" data-toggle=\"collapse\" data-target=\"#ItemLists-pytest\" class=\"close\" aria-label=\"Close\"><span aria-hidden=\"true\">&times;</span></a><p>No tests found for <code>ItemLists</code>. To contribute a test please refer to <a href=\"/dev/test.html\">this guide</a> and <a href=\"https://forums.fast.ai/t/improving-expanding-functional-tests/32929\">this discussion</a>.</p></div></div>\n\nAn [`ItemList`](/data_block.html#ItemList) for each of `train` and `valid` (optional `test`).  ",
            "text/plain": [
              "<IPython.core.display.Markdown object>"
            ]
          },
          "metadata": {
            "tags": []
          }
        }
      ]
    },
    {
      "metadata": {
        "hide_input": true,
        "id": "Jzw8Z6tcUtU_",
        "colab_type": "code",
        "outputId": "13341b83-388f-4e03-ab86-6e8ea250af56",
        "colab": {}
      },
      "cell_type": "code",
      "source": [
        "show_doc(ItemLists.label_from_lists)"
      ],
      "execution_count": 0,
      "outputs": [
        {
          "output_type": "display_data",
          "data": {
            "text/markdown": "<h4 id=\"ItemLists.label_from_lists\" class=\"doc_header\"><code>label_from_lists</code><a href=\"https://github.com/fastai/fastai/blob/master/fastai/data_block.py#L477\" class=\"source_link\" style=\"float:right\">[source]</a><a class=\"source_link\" data-toggle=\"collapse\" data-target=\"#ItemLists-label_from_lists-pytest\" style=\"float:right; padding-right:10px\">[test]</a></h4>\n\n> <code>label_from_lists</code>(**`train_labels`**:`Iterator`\\[`T_co`\\], **`valid_labels`**:`Iterator`\\[`T_co`\\], **`label_cls`**:`Callable`=***`None`***, **\\*\\*`kwargs`**) → `LabelList`\n\n<div class=\"collapse\" id=\"ItemLists-label_from_lists-pytest\"><div class=\"card card-body pytest_card\"><a type=\"button\" data-toggle=\"collapse\" data-target=\"#ItemLists-label_from_lists-pytest\" class=\"close\" aria-label=\"Close\"><span aria-hidden=\"true\">&times;</span></a><p>No tests found for <code>label_from_lists</code>. To contribute a test please refer to <a href=\"/dev/test.html\">this guide</a> and <a href=\"https://forums.fast.ai/t/improving-expanding-functional-tests/32929\">this discussion</a>.</p></div></div>\n\nUse the labels in `train_labels` and `valid_labels` to label the data. `label_cls` will overwrite the default.  ",
            "text/plain": [
              "<IPython.core.display.Markdown object>"
            ]
          },
          "metadata": {
            "tags": []
          }
        }
      ]
    },
    {
      "metadata": {
        "hide_input": true,
        "id": "XotRihbxUtVA",
        "colab_type": "code",
        "outputId": "b931a930-9e19-4533-c716-afeecd2d5441",
        "colab": {}
      },
      "cell_type": "code",
      "source": [
        "show_doc(ItemLists.transform)"
      ],
      "execution_count": 0,
      "outputs": [
        {
          "output_type": "display_data",
          "data": {
            "text/markdown": "<h4 id=\"ItemLists.transform\" class=\"doc_header\"><code>transform</code><a href=\"https://github.com/fastai/fastai/blob/master/fastai/data_block.py#L486\" class=\"source_link\" style=\"float:right\">[source]</a><a class=\"source_link\" data-toggle=\"collapse\" data-target=\"#ItemLists-transform-pytest\" style=\"float:right; padding-right:10px\">[test]</a></h4>\n\n> <code>transform</code>(**`tfms`**:`Optional`\\[`Tuple`\\[`Union`\\[`Callable`, `Collection`\\[`Callable`\\]\\], `Union`\\[`Callable`, `Collection`\\[`Callable`\\]\\]\\]\\]=***`(None, None)`***, **\\*\\*`kwargs`**)\n\n<div class=\"collapse\" id=\"ItemLists-transform-pytest\"><div class=\"card card-body pytest_card\"><a type=\"button\" data-toggle=\"collapse\" data-target=\"#ItemLists-transform-pytest\" class=\"close\" aria-label=\"Close\"><span aria-hidden=\"true\">&times;</span></a><p>No tests found for <code>transform</code>. To contribute a test please refer to <a href=\"/dev/test.html\">this guide</a> and <a href=\"https://forums.fast.ai/t/improving-expanding-functional-tests/32929\">this discussion</a>.</p></div></div>\n\nSet `tfms` to be applied to the xs of the train and validation set.  ",
            "text/plain": [
              "<IPython.core.display.Markdown object>"
            ]
          },
          "metadata": {
            "tags": []
          }
        }
      ]
    },
    {
      "metadata": {
        "hide_input": true,
        "id": "MpXPSDu3UtVC",
        "colab_type": "code",
        "outputId": "56a80991-4740-4eab-f8ee-97e9213d6287",
        "colab": {}
      },
      "cell_type": "code",
      "source": [
        "show_doc(ItemLists.transform_y)"
      ],
      "execution_count": 0,
      "outputs": [
        {
          "output_type": "display_data",
          "data": {
            "text/markdown": "<h4 id=\"ItemLists.transform_y\" class=\"doc_header\"><code>transform_y</code><a href=\"https://github.com/fastai/fastai/blob/master/fastai/data_block.py#L495\" class=\"source_link\" style=\"float:right\">[source]</a><a class=\"source_link\" data-toggle=\"collapse\" data-target=\"#ItemLists-transform_y-pytest\" style=\"float:right; padding-right:10px\">[test]</a></h4>\n\n> <code>transform_y</code>(**`tfms`**:`Optional`\\[`Tuple`\\[`Union`\\[`Callable`, `Collection`\\[`Callable`\\]\\], `Union`\\[`Callable`, `Collection`\\[`Callable`\\]\\]\\]\\]=***`(None, None)`***, **\\*\\*`kwargs`**)\n\n<div class=\"collapse\" id=\"ItemLists-transform_y-pytest\"><div class=\"card card-body pytest_card\"><a type=\"button\" data-toggle=\"collapse\" data-target=\"#ItemLists-transform_y-pytest\" class=\"close\" aria-label=\"Close\"><span aria-hidden=\"true\">&times;</span></a><p>No tests found for <code>transform_y</code>. To contribute a test please refer to <a href=\"/dev/test.html\">this guide</a> and <a href=\"https://forums.fast.ai/t/improving-expanding-functional-tests/32929\">this discussion</a>.</p></div></div>\n\nSet `tfms` to be applied to the ys of the train and validation set.  ",
            "text/plain": [
              "<IPython.core.display.Markdown object>"
            ]
          },
          "metadata": {
            "tags": []
          }
        }
      ]
    },
    {
      "metadata": {
        "hide_input": true,
        "id": "Ltu9lqRLUtVE",
        "colab_type": "code",
        "outputId": "5b8968ff-d2de-478d-c5e8-82d2dcf8f808",
        "colab": {}
      },
      "cell_type": "code",
      "source": [
        "show_doc(LabelLists, title_level=3)"
      ],
      "execution_count": 0,
      "outputs": [
        {
          "output_type": "display_data",
          "data": {
            "text/markdown": "<h3 id=\"LabelLists\" class=\"doc_header\"><code>class</code> <code>LabelLists</code><a href=\"https://github.com/fastai/fastai/blob/master/fastai/data_block.py#L507\" class=\"source_link\" style=\"float:right\">[source]</a><a class=\"source_link\" data-toggle=\"collapse\" data-target=\"#LabelLists-pytest\" style=\"float:right; padding-right:10px\">[test]</a></h3>\n\n> <code>LabelLists</code>(**`path`**:`PathOrStr`, **`train`**:[`ItemList`](/data_block.html#ItemList), **`valid`**:[`ItemList`](/data_block.html#ItemList)) :: [`ItemLists`](/data_block.html#ItemLists)\n\n<div class=\"collapse\" id=\"LabelLists-pytest\"><div class=\"card card-body pytest_card\"><a type=\"button\" data-toggle=\"collapse\" data-target=\"#LabelLists-pytest\" class=\"close\" aria-label=\"Close\"><span aria-hidden=\"true\">&times;</span></a><p>No tests found for <code>LabelLists</code>. To contribute a test please refer to <a href=\"/dev/test.html\">this guide</a> and <a href=\"https://forums.fast.ai/t/improving-expanding-functional-tests/32929\">this discussion</a>.</p></div></div>\n\nA [`LabelList`](/data_block.html#LabelList) for each of `train` and `valid` (optional `test`).  ",
            "text/plain": [
              "<IPython.core.display.Markdown object>"
            ]
          },
          "metadata": {
            "tags": []
          }
        }
      ]
    },
    {
      "metadata": {
        "hide_input": true,
        "id": "t0BXj3LPUtVG",
        "colab_type": "code",
        "outputId": "45ae6f48-fe71-4216-ef41-2a8329c2b8fd",
        "colab": {}
      },
      "cell_type": "code",
      "source": [
        "show_doc(LabelLists.get_processors)"
      ],
      "execution_count": 0,
      "outputs": [
        {
          "output_type": "display_data",
          "data": {
            "text/markdown": "<h4 id=\"LabelLists.get_processors\" class=\"doc_header\"><code>get_processors</code><a href=\"https://github.com/fastai/fastai/blob/master/fastai/data_block.py#L509\" class=\"source_link\" style=\"float:right\">[source]</a><a class=\"source_link\" data-toggle=\"collapse\" data-target=\"#LabelLists-get_processors-pytest\" style=\"float:right; padding-right:10px\">[test]</a></h4>\n\n> <code>get_processors</code>()\n\n<div class=\"collapse\" id=\"LabelLists-get_processors-pytest\"><div class=\"card card-body pytest_card\"><a type=\"button\" data-toggle=\"collapse\" data-target=\"#LabelLists-get_processors-pytest\" class=\"close\" aria-label=\"Close\"><span aria-hidden=\"true\">&times;</span></a><p>No tests found for <code>get_processors</code>. To contribute a test please refer to <a href=\"/dev/test.html\">this guide</a> and <a href=\"https://forums.fast.ai/t/improving-expanding-functional-tests/32929\">this discussion</a>.</p></div></div>\n\nRead the default class processors if none have been set.  ",
            "text/plain": [
              "<IPython.core.display.Markdown object>"
            ]
          },
          "metadata": {
            "tags": []
          }
        }
      ]
    },
    {
      "metadata": {
        "hide_input": true,
        "id": "zFdb8IlvUtVI",
        "colab_type": "code",
        "outputId": "ac6b2bba-1492-45cc-ff76-1408aa01e534",
        "colab": {}
      },
      "cell_type": "code",
      "source": [
        "show_doc(LabelLists.load_empty)"
      ],
      "execution_count": 0,
      "outputs": [
        {
          "output_type": "display_data",
          "data": {
            "text/markdown": "<h4 id=\"LabelLists.load_empty\" class=\"doc_header\"><code>load_empty</code><a href=\"https://github.com/fastai/fastai/blob/master/fastai/data_block.py#L566\" class=\"source_link\" style=\"float:right\">[source]</a><a class=\"source_link\" data-toggle=\"collapse\" data-target=\"#LabelLists-load_empty-pytest\" style=\"float:right; padding-right:10px\">[test]</a></h4>\n\n> <code>load_empty</code>(**`path`**:`PathOrStr`, **`fn`**:`PathOrStr`=***`'export.pkl'`***)\n\n<div class=\"collapse\" id=\"LabelLists-load_empty-pytest\"><div class=\"card card-body pytest_card\"><a type=\"button\" data-toggle=\"collapse\" data-target=\"#LabelLists-load_empty-pytest\" class=\"close\" aria-label=\"Close\"><span aria-hidden=\"true\">&times;</span></a><p>No tests found for <code>load_empty</code>. To contribute a test please refer to <a href=\"/dev/test.html\">this guide</a> and <a href=\"https://forums.fast.ai/t/improving-expanding-functional-tests/32929\">this discussion</a>.</p></div></div>\n\nCreate a [`LabelLists`](/data_block.html#LabelLists) with empty sets from the serialized file in `path/fn`.  ",
            "text/plain": [
              "<IPython.core.display.Markdown object>"
            ]
          },
          "metadata": {
            "tags": []
          }
        }
      ]
    },
    {
      "metadata": {
        "hide_input": true,
        "id": "jgWc6bg_UtVL",
        "colab_type": "code",
        "outputId": "900c1f2e-3918-4ac2-d919-b4ac251e08f2",
        "colab": {}
      },
      "cell_type": "code",
      "source": [
        "show_doc(LabelLists.load_state)"
      ],
      "execution_count": 0,
      "outputs": [
        {
          "output_type": "display_data",
          "data": {
            "text/markdown": "<h4 id=\"LabelLists.load_state\" class=\"doc_header\"><code>load_state</code><a href=\"https://github.com/fastai/fastai/blob/master/fastai/data_block.py#L558\" class=\"source_link\" style=\"float:right\">[source]</a><a class=\"source_link\" data-toggle=\"collapse\" data-target=\"#LabelLists-load_state-pytest\" style=\"float:right; padding-right:10px\">[test]</a></h4>\n\n> <code>load_state</code>(**`path`**:`PathOrStr`, **`state`**:`dict`)\n\n<div class=\"collapse\" id=\"LabelLists-load_state-pytest\"><div class=\"card card-body pytest_card\"><a type=\"button\" data-toggle=\"collapse\" data-target=\"#LabelLists-load_state-pytest\" class=\"close\" aria-label=\"Close\"><span aria-hidden=\"true\">&times;</span></a><p>No tests found for <code>load_state</code>. To contribute a test please refer to <a href=\"/dev/test.html\">this guide</a> and <a href=\"https://forums.fast.ai/t/improving-expanding-functional-tests/32929\">this discussion</a>.</p></div></div>\n\nCreate a [`LabelLists`](/data_block.html#LabelLists) with empty sets from the serialized `state`.  ",
            "text/plain": [
              "<IPython.core.display.Markdown object>"
            ]
          },
          "metadata": {
            "tags": []
          }
        }
      ]
    },
    {
      "metadata": {
        "hide_input": true,
        "id": "xWTCKVk5UtVP",
        "colab_type": "code",
        "outputId": "7ec05612-7e59-41d7-a3c1-7ec52a004964",
        "colab": {}
      },
      "cell_type": "code",
      "source": [
        "show_doc(LabelLists.process)"
      ],
      "execution_count": 0,
      "outputs": [
        {
          "output_type": "display_data",
          "data": {
            "text/markdown": "<h4 id=\"LabelLists.process\" class=\"doc_header\"><code>process</code><a href=\"https://github.com/fastai/fastai/blob/master/fastai/data_block.py#L516\" class=\"source_link\" style=\"float:right\">[source]</a><a class=\"source_link\" data-toggle=\"collapse\" data-target=\"#LabelLists-process-pytest\" style=\"float:right; padding-right:10px\">[test]</a></h4>\n\n> <code>process</code>()\n\n<div class=\"collapse\" id=\"LabelLists-process-pytest\"><div class=\"card card-body pytest_card\"><a type=\"button\" data-toggle=\"collapse\" data-target=\"#LabelLists-process-pytest\" class=\"close\" aria-label=\"Close\"><span aria-hidden=\"true\">&times;</span></a><p>No tests found for <code>process</code>. To contribute a test please refer to <a href=\"/dev/test.html\">this guide</a> and <a href=\"https://forums.fast.ai/t/improving-expanding-functional-tests/32929\">this discussion</a>.</p></div></div>\n\nProcess the inner datasets.  ",
            "text/plain": [
              "<IPython.core.display.Markdown object>"
            ]
          },
          "metadata": {
            "tags": []
          }
        }
      ]
    },
    {
      "metadata": {
        "id": "-IqvpwzoUtVR",
        "colab_type": "text"
      },
      "cell_type": "markdown",
      "source": [
        "## Helper functions"
      ]
    },
    {
      "metadata": {
        "hide_input": true,
        "id": "SE7D-LSZUtVR",
        "colab_type": "code",
        "outputId": "0579beca-962e-4731-f617-2091db22b803",
        "colab": {}
      },
      "cell_type": "code",
      "source": [
        "show_doc(get_files)"
      ],
      "execution_count": 0,
      "outputs": [
        {
          "output_type": "display_data",
          "data": {
            "text/markdown": "<h4 id=\"get_files\" class=\"doc_header\"><code>get_files</code><a href=\"https://github.com/fastai/fastai/blob/master/fastai/data_block.py#L23\" class=\"source_link\" style=\"float:right\">[source]</a><a class=\"source_link\" data-toggle=\"collapse\" data-target=\"#get_files-pytest\" style=\"float:right; padding-right:10px\">[test]</a></h4>\n\n> <code>get_files</code>(**`path`**:`PathOrStr`, **`extensions`**:`StrList`=***`None`***, **`recurse`**:`bool`=***`False`***, **`include`**:`OptStrList`=***`None`***) → `FilePathList`\n\n<div class=\"collapse\" id=\"get_files-pytest\"><div class=\"card card-body pytest_card\"><a type=\"button\" data-toggle=\"collapse\" data-target=\"#get_files-pytest\" class=\"close\" aria-label=\"Close\"><span aria-hidden=\"true\">&times;</span></a><p>No tests found for <code>get_files</code>. To contribute a test please refer to <a href=\"/dev/test.html\">this guide</a> and <a href=\"https://forums.fast.ai/t/improving-expanding-functional-tests/32929\">this discussion</a>.</p></div></div>\n\nReturn list of files in `path` that have a suffix in `extensions`; optionally `recurse`.  ",
            "text/plain": [
              "<IPython.core.display.Markdown object>"
            ]
          },
          "metadata": {
            "tags": []
          }
        }
      ]
    },
    {
      "metadata": {
        "id": "NoAZ0quUUtVT",
        "colab_type": "text"
      },
      "cell_type": "markdown",
      "source": [
        "## Undocumented Methods - Methods moved below this line will intentionally be hidden"
      ]
    },
    {
      "metadata": {
        "id": "n_nzryTPUtVT",
        "colab_type": "code",
        "outputId": "a80f8dc2-eebd-4efb-f107-cfac644a9d4a",
        "colab": {}
      },
      "cell_type": "code",
      "source": [
        "show_doc(CategoryList.new)"
      ],
      "execution_count": 0,
      "outputs": [
        {
          "output_type": "display_data",
          "data": {
            "text/markdown": "<h4 id=\"ItemList.new\" class=\"doc_header\"><code>new</code><a href=\"https://github.com/fastai/fastai/blob/master/fastai/data_block.py#L93\" class=\"source_link\" style=\"float:right\">[source]</a><a class=\"source_link\" data-toggle=\"collapse\" data-target=\"#ItemList-new-pytest\" style=\"float:right; padding-right:10px\">[test]</a></h4>\n\n> <code>new</code>(**`items`**:`Iterator`\\[`T_co`\\], **`processor`**:`Union`\\[[`PreProcessor`](/data_block.html#PreProcessor), `Collection`\\[[`PreProcessor`](/data_block.html#PreProcessor)\\]\\]=***`None`***, **\\*\\*`kwargs`**) → `ItemList`\n\n<div class=\"collapse\" id=\"ItemList-new-pytest\"><div class=\"card card-body pytest_card\"><a type=\"button\" data-toggle=\"collapse\" data-target=\"#ItemList-new-pytest\" class=\"close\" aria-label=\"Close\"><span aria-hidden=\"true\">&times;</span></a><p>No tests found for <code>new</code>. To contribute a test please refer to <a href=\"/dev/test.html\">this guide</a> and <a href=\"https://forums.fast.ai/t/improving-expanding-functional-tests/32929\">this discussion</a>.</p></div></div>\n\nCreate a new [`ItemList`](/data_block.html#ItemList) from `items`, keeping the same attributes.  ",
            "text/plain": [
              "<IPython.core.display.Markdown object>"
            ]
          },
          "metadata": {
            "tags": []
          }
        }
      ]
    },
    {
      "metadata": {
        "id": "cKkCSxoPUtVW",
        "colab_type": "code",
        "outputId": "6855710d-b35c-4156-be30-c176a040647e",
        "colab": {}
      },
      "cell_type": "code",
      "source": [
        "show_doc(LabelList.new)"
      ],
      "execution_count": 0,
      "outputs": [
        {
          "output_type": "display_data",
          "data": {
            "text/markdown": "<h4 id=\"LabelList.new\" class=\"doc_header\"><code>new</code><a href=\"https://github.com/fastai/fastai/blob/master/fastai/data_block.py#L613\" class=\"source_link\" style=\"float:right\">[source]</a><a class=\"source_link\" data-toggle=\"collapse\" data-target=\"#LabelList-new-pytest\" style=\"float:right; padding-right:10px\">[test]</a></h4>\n\n> <code>new</code>(**`x`**, **`y`**, **\\*\\*`kwargs`**) → `LabelList`\n\n<div class=\"collapse\" id=\"LabelList-new-pytest\"><div class=\"card card-body pytest_card\"><a type=\"button\" data-toggle=\"collapse\" data-target=\"#LabelList-new-pytest\" class=\"close\" aria-label=\"Close\"><span aria-hidden=\"true\">&times;</span></a><p>No tests found for <code>new</code>. To contribute a test please refer to <a href=\"/dev/test.html\">this guide</a> and <a href=\"https://forums.fast.ai/t/improving-expanding-functional-tests/32929\">this discussion</a>.</p></div></div>",
            "text/plain": [
              "<IPython.core.display.Markdown object>"
            ]
          },
          "metadata": {
            "tags": []
          }
        }
      ]
    },
    {
      "metadata": {
        "id": "1DxLj49oUtVY",
        "colab_type": "code",
        "outputId": "b5471ed4-d9e0-4184-c5b1-4d268fca613a",
        "colab": {}
      },
      "cell_type": "code",
      "source": [
        "show_doc(CategoryList.get)"
      ],
      "execution_count": 0,
      "outputs": [
        {
          "output_type": "display_data",
          "data": {
            "text/markdown": "<h4 id=\"CategoryList.get\" class=\"doc_header\"><code>get</code><a href=\"https://github.com/fastai/fastai/blob/master/fastai/data_block.py#L363\" class=\"source_link\" style=\"float:right\">[source]</a><a class=\"source_link\" data-toggle=\"collapse\" data-target=\"#CategoryList-get-pytest\" style=\"float:right; padding-right:10px\">[test]</a></h4>\n\n> <code>get</code>(**`i`**)\n\n<div class=\"collapse\" id=\"CategoryList-get-pytest\"><div class=\"card card-body pytest_card\"><a type=\"button\" data-toggle=\"collapse\" data-target=\"#CategoryList-get-pytest\" class=\"close\" aria-label=\"Close\"><span aria-hidden=\"true\">&times;</span></a><p>No tests found for <code>get</code>. To contribute a test please refer to <a href=\"/dev/test.html\">this guide</a> and <a href=\"https://forums.fast.ai/t/improving-expanding-functional-tests/32929\">this discussion</a>.</p></div></div>\n\nSubclass if you want to customize how to create item `i` from `self.items`.  ",
            "text/plain": [
              "<IPython.core.display.Markdown object>"
            ]
          },
          "metadata": {
            "tags": []
          }
        }
      ]
    },
    {
      "metadata": {
        "id": "6Qu5D_D9UtVc",
        "colab_type": "code",
        "outputId": "2d1a6142-a93e-4ee5-b283-67a446a24d19",
        "colab": {}
      },
      "cell_type": "code",
      "source": [
        "show_doc(LabelList.predict)"
      ],
      "execution_count": 0,
      "outputs": [
        {
          "output_type": "display_data",
          "data": {
            "text/markdown": "<h4 id=\"LabelList.predict\" class=\"doc_header\"><code>predict</code><a href=\"https://github.com/fastai/fastai/blob/master/fastai/data_block.py#L606\" class=\"source_link\" style=\"float:right\">[source]</a><a class=\"source_link\" data-toggle=\"collapse\" data-target=\"#LabelList-predict-pytest\" style=\"float:right; padding-right:10px\">[test]</a></h4>\n\n> <code>predict</code>(**`res`**)\n\n<div class=\"collapse\" id=\"LabelList-predict-pytest\"><div class=\"card card-body pytest_card\"><a type=\"button\" data-toggle=\"collapse\" data-target=\"#LabelList-predict-pytest\" class=\"close\" aria-label=\"Close\"><span aria-hidden=\"true\">&times;</span></a><p>No tests found for <code>predict</code>. To contribute a test please refer to <a href=\"/dev/test.html\">this guide</a> and <a href=\"https://forums.fast.ai/t/improving-expanding-functional-tests/32929\">this discussion</a>.</p></div></div>\n\nDelegates predict call on `res` to `self.y`.  ",
            "text/plain": [
              "<IPython.core.display.Markdown object>"
            ]
          },
          "metadata": {
            "tags": []
          }
        }
      ]
    },
    {
      "metadata": {
        "id": "wjInLv0LUtVe",
        "colab_type": "code",
        "outputId": "556d053d-213b-4cc1-93dd-66423bdd3fbc",
        "colab": {}
      },
      "cell_type": "code",
      "source": [
        "show_doc(ItemList.new)"
      ],
      "execution_count": 0,
      "outputs": [
        {
          "output_type": "display_data",
          "data": {
            "text/markdown": "<h4 id=\"ItemList.new\" class=\"doc_header\"><code>new</code><a href=\"https://github.com/fastai/fastai/blob/master/fastai/data_block.py#L93\" class=\"source_link\" style=\"float:right\">[source]</a><a class=\"source_link\" data-toggle=\"collapse\" data-target=\"#ItemList-new-pytest\" style=\"float:right; padding-right:10px\">[test]</a></h4>\n\n> <code>new</code>(**`items`**:`Iterator`\\[`T_co`\\], **`processor`**:`Union`\\[[`PreProcessor`](/data_block.html#PreProcessor), `Collection`\\[[`PreProcessor`](/data_block.html#PreProcessor)\\]\\]=***`None`***, **\\*\\*`kwargs`**) → `ItemList`\n\n<div class=\"collapse\" id=\"ItemList-new-pytest\"><div class=\"card card-body pytest_card\"><a type=\"button\" data-toggle=\"collapse\" data-target=\"#ItemList-new-pytest\" class=\"close\" aria-label=\"Close\"><span aria-hidden=\"true\">&times;</span></a><p>No tests found for <code>new</code>. To contribute a test please refer to <a href=\"/dev/test.html\">this guide</a> and <a href=\"https://forums.fast.ai/t/improving-expanding-functional-tests/32929\">this discussion</a>.</p></div></div>\n\nCreate a new [`ItemList`](/data_block.html#ItemList) from `items`, keeping the same attributes.  ",
            "text/plain": [
              "<IPython.core.display.Markdown object>"
            ]
          },
          "metadata": {
            "tags": []
          }
        }
      ]
    },
    {
      "metadata": {
        "id": "V6d0o4S8UtVl",
        "colab_type": "code",
        "outputId": "403a919a-d5ce-4e2f-b364-86ce56c7cfa8",
        "colab": {}
      },
      "cell_type": "code",
      "source": [
        "show_doc(ItemList.process_one)"
      ],
      "execution_count": 0,
      "outputs": [
        {
          "output_type": "display_data",
          "data": {
            "text/markdown": "<h4 id=\"ItemList.process_one\" class=\"doc_header\"><code>process_one</code><a href=\"https://github.com/fastai/fastai/blob/master/fastai/data_block.py#L78\" class=\"source_link\" style=\"float:right\">[source]</a><a class=\"source_link\" data-toggle=\"collapse\" data-target=\"#ItemList-process_one-pytest\" style=\"float:right; padding-right:10px\">[test]</a></h4>\n\n> <code>process_one</code>(**`item`**:[`ItemBase`](/core.html#ItemBase), **`processor`**:`Union`\\[[`PreProcessor`](/data_block.html#PreProcessor), `Collection`\\[[`PreProcessor`](/data_block.html#PreProcessor)\\]\\]=***`None`***)\n\n<div class=\"collapse\" id=\"ItemList-process_one-pytest\"><div class=\"card card-body pytest_card\"><a type=\"button\" data-toggle=\"collapse\" data-target=\"#ItemList-process_one-pytest\" class=\"close\" aria-label=\"Close\"><span aria-hidden=\"true\">&times;</span></a><p>Tests found for <code>process_one</code>:</p><p>Some other tests where <code>process_one</code> is used:</p><ul><li><code>pytest -sv tests/test_data_block.py::test_category_processor_existing_class</code> <a href=\"https://github.com/fastai/fastai/blob/master/tests/test_data_block.py#L80\" class=\"source_link\" style=\"float:right\">[source]</a></li><li><code>pytest -sv tests/test_data_block.py::test_category_processor_non_existing_class</code> <a href=\"https://github.com/fastai/fastai/blob/master/tests/test_data_block.py#L91\" class=\"source_link\" style=\"float:right\">[source]</a></li></ul><p>To run tests please refer to this <a href=\"/dev/test.html#quick-guide\">guide</a>.</p></div></div>\n\nApply `processor` or `self.processor` to `item`.  ",
            "text/plain": [
              "<IPython.core.display.Markdown object>"
            ]
          },
          "metadata": {
            "tags": []
          }
        }
      ]
    },
    {
      "metadata": {
        "id": "wEAiBKmUUtVn",
        "colab_type": "code",
        "outputId": "af784bde-4087-484f-c97a-298b546de1b9",
        "colab": {}
      },
      "cell_type": "code",
      "source": [
        "show_doc(ItemList.process)"
      ],
      "execution_count": 0,
      "outputs": [
        {
          "output_type": "display_data",
          "data": {
            "text/markdown": "<h4 id=\"ItemList.process\" class=\"doc_header\"><code>process</code><a href=\"https://github.com/fastai/fastai/blob/master/fastai/data_block.py#L71\" class=\"source_link\" style=\"float:right\">[source]</a><a class=\"source_link\" data-toggle=\"collapse\" data-target=\"#ItemList-process-pytest\" style=\"float:right; padding-right:10px\">[test]</a></h4>\n\n> <code>process</code>(**`processor`**:`Union`\\[[`PreProcessor`](/data_block.html#PreProcessor), `Collection`\\[[`PreProcessor`](/data_block.html#PreProcessor)\\]\\]=***`None`***)\n\n<div class=\"collapse\" id=\"ItemList-process-pytest\"><div class=\"card card-body pytest_card\"><a type=\"button\" data-toggle=\"collapse\" data-target=\"#ItemList-process-pytest\" class=\"close\" aria-label=\"Close\"><span aria-hidden=\"true\">&times;</span></a><p>No tests found for <code>process</code>. To contribute a test please refer to <a href=\"/dev/test.html\">this guide</a> and <a href=\"https://forums.fast.ai/t/improving-expanding-functional-tests/32929\">this discussion</a>.</p></div></div>\n\nApply `processor` or `self.processor` to `self`.  ",
            "text/plain": [
              "<IPython.core.display.Markdown object>"
            ]
          },
          "metadata": {
            "tags": []
          }
        }
      ]
    },
    {
      "metadata": {
        "id": "Vex_FQ8eUtVw",
        "colab_type": "code",
        "outputId": "149b8249-aceb-4215-b534-1c68a98c000c",
        "colab": {}
      },
      "cell_type": "code",
      "source": [
        "show_doc(MultiCategoryProcessor.process_one)"
      ],
      "execution_count": 0,
      "outputs": [
        {
          "output_type": "display_data",
          "data": {
            "text/markdown": "<h4 id=\"MultiCategoryProcessor.process_one\" class=\"doc_header\"><code>process_one</code><a href=\"https://github.com/fastai/fastai/blob/master/fastai/data_block.py#L380\" class=\"source_link\" style=\"float:right\">[source]</a><a class=\"source_link\" data-toggle=\"collapse\" data-target=\"#MultiCategoryProcessor-process_one-pytest\" style=\"float:right; padding-right:10px\">[test]</a></h4>\n\n> <code>process_one</code>(**`item`**)\n\n<div class=\"collapse\" id=\"MultiCategoryProcessor-process_one-pytest\"><div class=\"card card-body pytest_card\"><a type=\"button\" data-toggle=\"collapse\" data-target=\"#MultiCategoryProcessor-process_one-pytest\" class=\"close\" aria-label=\"Close\"><span aria-hidden=\"true\">&times;</span></a><p>Tests found for <code>process_one</code>:</p><p>Some other tests where <code>process_one</code> is used:</p><ul><li><code>pytest -sv tests/test_data_block.py::test_category_processor_existing_class</code> <a href=\"https://github.com/fastai/fastai/blob/master/tests/test_data_block.py#L80\" class=\"source_link\" style=\"float:right\">[source]</a></li><li><code>pytest -sv tests/test_data_block.py::test_category_processor_non_existing_class</code> <a href=\"https://github.com/fastai/fastai/blob/master/tests/test_data_block.py#L91\" class=\"source_link\" style=\"float:right\">[source]</a></li></ul><p>To run tests please refer to this <a href=\"/dev/test.html#quick-guide\">guide</a>.</p></div></div>",
            "text/plain": [
              "<IPython.core.display.Markdown object>"
            ]
          },
          "metadata": {
            "tags": []
          }
        }
      ]
    },
    {
      "metadata": {
        "id": "9qpk_SsOUtV1",
        "colab_type": "code",
        "outputId": "363649ea-5a84-4026-d655-6e1bfe3f8e3a",
        "colab": {}
      },
      "cell_type": "code",
      "source": [
        "show_doc(FloatList.get)"
      ],
      "execution_count": 0,
      "outputs": [
        {
          "output_type": "display_data",
          "data": {
            "text/markdown": "<h4 id=\"FloatList.get\" class=\"doc_header\"><code>get</code><a href=\"https://github.com/fastai/fastai/blob/master/fastai/data_block.py#L428\" class=\"source_link\" style=\"float:right\">[source]</a><a class=\"source_link\" data-toggle=\"collapse\" data-target=\"#FloatList-get-pytest\" style=\"float:right; padding-right:10px\">[test]</a></h4>\n\n> <code>get</code>(**`i`**)\n\n<div class=\"collapse\" id=\"FloatList-get-pytest\"><div class=\"card card-body pytest_card\"><a type=\"button\" data-toggle=\"collapse\" data-target=\"#FloatList-get-pytest\" class=\"close\" aria-label=\"Close\"><span aria-hidden=\"true\">&times;</span></a><p>No tests found for <code>get</code>. To contribute a test please refer to <a href=\"/dev/test.html\">this guide</a> and <a href=\"https://forums.fast.ai/t/improving-expanding-functional-tests/32929\">this discussion</a>.</p></div></div>\n\nSubclass if you want to customize how to create item `i` from `self.items`.  ",
            "text/plain": [
              "<IPython.core.display.Markdown object>"
            ]
          },
          "metadata": {
            "tags": []
          }
        }
      ]
    },
    {
      "metadata": {
        "id": "L_OGhyI9UtV3",
        "colab_type": "code",
        "outputId": "ba1e6fed-1cdd-445c-e6ed-7b91bf3263d7",
        "colab": {}
      },
      "cell_type": "code",
      "source": [
        "show_doc(CategoryProcessor.process_one)"
      ],
      "execution_count": 0,
      "outputs": [
        {
          "output_type": "display_data",
          "data": {
            "text/markdown": "<h4 id=\"CategoryProcessor.process_one\" class=\"doc_header\"><code>process_one</code><a href=\"https://github.com/fastai/fastai/blob/master/fastai/data_block.py#L326\" class=\"source_link\" style=\"float:right\">[source]</a><a class=\"source_link\" data-toggle=\"collapse\" data-target=\"#CategoryProcessor-process_one-pytest\" style=\"float:right; padding-right:10px\">[test]</a></h4>\n\n> <code>process_one</code>(**`item`**)\n\n<div class=\"collapse\" id=\"CategoryProcessor-process_one-pytest\"><div class=\"card card-body pytest_card\"><a type=\"button\" data-toggle=\"collapse\" data-target=\"#CategoryProcessor-process_one-pytest\" class=\"close\" aria-label=\"Close\"><span aria-hidden=\"true\">&times;</span></a><p>Tests found for <code>process_one</code>:</p><ul><li><code>pytest -sv tests/test_data_block.py::test_category_processor_existing_class</code> <a href=\"https://github.com/fastai/fastai/blob/master/tests/test_data_block.py#L80\" class=\"source_link\" style=\"float:right\">[source]</a></li><li><code>pytest -sv tests/test_data_block.py::test_category_processor_non_existing_class</code> <a href=\"https://github.com/fastai/fastai/blob/master/tests/test_data_block.py#L91\" class=\"source_link\" style=\"float:right\">[source]</a></li></ul><p>To run tests please refer to this <a href=\"/dev/test.html#quick-guide\">guide</a>.</p></div></div>",
            "text/plain": [
              "<IPython.core.display.Markdown object>"
            ]
          },
          "metadata": {
            "tags": []
          }
        }
      ]
    },
    {
      "metadata": {
        "id": "U0nAA5gGUtV5",
        "colab_type": "code",
        "outputId": "25a81863-c757-40ca-c769-873f93d0782d",
        "colab": {}
      },
      "cell_type": "code",
      "source": [
        "show_doc(CategoryProcessor.create_classes)"
      ],
      "execution_count": 0,
      "outputs": [
        {
          "output_type": "display_data",
          "data": {
            "text/markdown": "<h4 id=\"CategoryProcessor.create_classes\" class=\"doc_header\"><code>create_classes</code><a href=\"https://github.com/fastai/fastai/blob/master/fastai/data_block.py#L318\" class=\"source_link\" style=\"float:right\">[source]</a><a class=\"source_link\" data-toggle=\"collapse\" data-target=\"#CategoryProcessor-create_classes-pytest\" style=\"float:right; padding-right:10px\">[test]</a></h4>\n\n> <code>create_classes</code>(**`classes`**)\n\n<div class=\"collapse\" id=\"CategoryProcessor-create_classes-pytest\"><div class=\"card card-body pytest_card\"><a type=\"button\" data-toggle=\"collapse\" data-target=\"#CategoryProcessor-create_classes-pytest\" class=\"close\" aria-label=\"Close\"><span aria-hidden=\"true\">&times;</span></a><p>No tests found for <code>create_classes</code>. To contribute a test please refer to <a href=\"/dev/test.html\">this guide</a> and <a href=\"https://forums.fast.ai/t/improving-expanding-functional-tests/32929\">this discussion</a>.</p></div></div>",
            "text/plain": [
              "<IPython.core.display.Markdown object>"
            ]
          },
          "metadata": {
            "tags": []
          }
        }
      ]
    },
    {
      "metadata": {
        "id": "xQHv73PQUtV7",
        "colab_type": "code",
        "outputId": "fabe43bc-717b-4b14-848d-1ceaf08e10ac",
        "colab": {}
      },
      "cell_type": "code",
      "source": [
        "show_doc(CategoryProcessor.process)"
      ],
      "execution_count": 0,
      "outputs": [
        {
          "output_type": "display_data",
          "data": {
            "text/markdown": "<h4 id=\"CategoryProcessor.process\" class=\"doc_header\"><code>process</code><a href=\"https://github.com/fastai/fastai/blob/master/fastai/data_block.py#L332\" class=\"source_link\" style=\"float:right\">[source]</a><a class=\"source_link\" data-toggle=\"collapse\" data-target=\"#CategoryProcessor-process-pytest\" style=\"float:right; padding-right:10px\">[test]</a></h4>\n\n> <code>process</code>(**`ds`**)\n\n<div class=\"collapse\" id=\"CategoryProcessor-process-pytest\"><div class=\"card card-body pytest_card\"><a type=\"button\" data-toggle=\"collapse\" data-target=\"#CategoryProcessor-process-pytest\" class=\"close\" aria-label=\"Close\"><span aria-hidden=\"true\">&times;</span></a><p>No tests found for <code>process</code>. To contribute a test please refer to <a href=\"/dev/test.html\">this guide</a> and <a href=\"https://forums.fast.ai/t/improving-expanding-functional-tests/32929\">this discussion</a>.</p></div></div>",
            "text/plain": [
              "<IPython.core.display.Markdown object>"
            ]
          },
          "metadata": {
            "tags": []
          }
        }
      ]
    },
    {
      "metadata": {
        "id": "qS4Bfj9sUtV8",
        "colab_type": "code",
        "outputId": "b5fee274-315c-423c-f975-fd1cf8bacad9",
        "colab": {}
      },
      "cell_type": "code",
      "source": [
        "show_doc(MultiCategoryList.get)"
      ],
      "execution_count": 0,
      "outputs": [
        {
          "output_type": "display_data",
          "data": {
            "text/markdown": "<h4 id=\"MultiCategoryList.get\" class=\"doc_header\"><code>get</code><a href=\"https://github.com/fastai/fastai/blob/master/fastai/data_block.py#L406\" class=\"source_link\" style=\"float:right\">[source]</a><a class=\"source_link\" data-toggle=\"collapse\" data-target=\"#MultiCategoryList-get-pytest\" style=\"float:right; padding-right:10px\">[test]</a></h4>\n\n> <code>get</code>(**`i`**)\n\n<div class=\"collapse\" id=\"MultiCategoryList-get-pytest\"><div class=\"card card-body pytest_card\"><a type=\"button\" data-toggle=\"collapse\" data-target=\"#MultiCategoryList-get-pytest\" class=\"close\" aria-label=\"Close\"><span aria-hidden=\"true\">&times;</span></a><p>No tests found for <code>get</code>. To contribute a test please refer to <a href=\"/dev/test.html\">this guide</a> and <a href=\"https://forums.fast.ai/t/improving-expanding-functional-tests/32929\">this discussion</a>.</p></div></div>\n\nSubclass if you want to customize how to create item `i` from `self.items`.  ",
            "text/plain": [
              "<IPython.core.display.Markdown object>"
            ]
          },
          "metadata": {
            "tags": []
          }
        }
      ]
    },
    {
      "metadata": {
        "id": "9fi44h80UtV-",
        "colab_type": "code",
        "outputId": "5a6cbf8b-ed23-4f6a-a0cf-8855350e7a95",
        "colab": {}
      },
      "cell_type": "code",
      "source": [
        "show_doc(FloatList.new)"
      ],
      "execution_count": 0,
      "outputs": [
        {
          "output_type": "display_data",
          "data": {
            "text/markdown": "<h4 id=\"ItemList.new\" class=\"doc_header\"><code>new</code><a href=\"https://github.com/fastai/fastai/blob/master/fastai/data_block.py#L93\" class=\"source_link\" style=\"float:right\">[source]</a><a class=\"source_link\" data-toggle=\"collapse\" data-target=\"#ItemList-new-pytest\" style=\"float:right; padding-right:10px\">[test]</a></h4>\n\n> <code>new</code>(**`items`**:`Iterator`\\[`T_co`\\], **`processor`**:`Union`\\[[`PreProcessor`](/data_block.html#PreProcessor), `Collection`\\[[`PreProcessor`](/data_block.html#PreProcessor)\\]\\]=***`None`***, **\\*\\*`kwargs`**) → `ItemList`\n\n<div class=\"collapse\" id=\"ItemList-new-pytest\"><div class=\"card card-body pytest_card\"><a type=\"button\" data-toggle=\"collapse\" data-target=\"#ItemList-new-pytest\" class=\"close\" aria-label=\"Close\"><span aria-hidden=\"true\">&times;</span></a><p>No tests found for <code>new</code>. To contribute a test please refer to <a href=\"/dev/test.html\">this guide</a> and <a href=\"https://forums.fast.ai/t/improving-expanding-functional-tests/32929\">this discussion</a>.</p></div></div>\n\nCreate a new [`ItemList`](/data_block.html#ItemList) from `items`, keeping the same attributes.  ",
            "text/plain": [
              "<IPython.core.display.Markdown object>"
            ]
          },
          "metadata": {
            "tags": []
          }
        }
      ]
    },
    {
      "metadata": {
        "id": "bRoEdKLsUtWA",
        "colab_type": "code",
        "outputId": "51ba9e15-2e60-41e8-862a-4a3e149e5349",
        "colab": {}
      },
      "cell_type": "code",
      "source": [
        "show_doc(FloatList.reconstruct)"
      ],
      "execution_count": 0,
      "outputs": [
        {
          "output_type": "display_data",
          "data": {
            "text/markdown": "<h4 id=\"FloatList.reconstruct\" class=\"doc_header\"><code>reconstruct</code><a href=\"https://github.com/fastai/fastai/blob/master/fastai/data_block.py#L432\" class=\"source_link\" style=\"float:right\">[source]</a><a class=\"source_link\" data-toggle=\"collapse\" data-target=\"#FloatList-reconstruct-pytest\" style=\"float:right; padding-right:10px\">[test]</a></h4>\n\n> <code>reconstruct</code>(**`t`**)\n\n<div class=\"collapse\" id=\"FloatList-reconstruct-pytest\"><div class=\"card card-body pytest_card\"><a type=\"button\" data-toggle=\"collapse\" data-target=\"#FloatList-reconstruct-pytest\" class=\"close\" aria-label=\"Close\"><span aria-hidden=\"true\">&times;</span></a><p>No tests found for <code>reconstruct</code>. To contribute a test please refer to <a href=\"/dev/test.html\">this guide</a> and <a href=\"https://forums.fast.ai/t/improving-expanding-functional-tests/32929\">this discussion</a>.</p></div></div>\n\nReconstruct one of the underlying item for its data `t`.  ",
            "text/plain": [
              "<IPython.core.display.Markdown object>"
            ]
          },
          "metadata": {
            "tags": []
          }
        }
      ]
    },
    {
      "metadata": {
        "id": "LQP0AW-tUtWB",
        "colab_type": "code",
        "outputId": "51f87f5f-94cb-4fa8-bade-fadb33535e02",
        "colab": {}
      },
      "cell_type": "code",
      "source": [
        "show_doc(MultiCategoryList.analyze_pred)"
      ],
      "execution_count": 0,
      "outputs": [
        {
          "output_type": "display_data",
          "data": {
            "text/markdown": "<h4 id=\"MultiCategoryList.analyze_pred\" class=\"doc_header\"><code>analyze_pred</code><a href=\"https://github.com/fastai/fastai/blob/master/fastai/data_block.py#L412\" class=\"source_link\" style=\"float:right\">[source]</a><a class=\"source_link\" data-toggle=\"collapse\" data-target=\"#MultiCategoryList-analyze_pred-pytest\" style=\"float:right; padding-right:10px\">[test]</a></h4>\n\n> <code>analyze_pred</code>(**`pred`**, **`thresh`**:`float`=***`0.5`***)\n\n<div class=\"collapse\" id=\"MultiCategoryList-analyze_pred-pytest\"><div class=\"card card-body pytest_card\"><a type=\"button\" data-toggle=\"collapse\" data-target=\"#MultiCategoryList-analyze_pred-pytest\" class=\"close\" aria-label=\"Close\"><span aria-hidden=\"true\">&times;</span></a><p>No tests found for <code>analyze_pred</code>. To contribute a test please refer to <a href=\"/dev/test.html\">this guide</a> and <a href=\"https://forums.fast.ai/t/improving-expanding-functional-tests/32929\">this discussion</a>.</p></div></div>\n\nCalled on `pred` before `reconstruct` for additional preprocessing.  ",
            "text/plain": [
              "<IPython.core.display.Markdown object>"
            ]
          },
          "metadata": {
            "tags": []
          }
        }
      ]
    },
    {
      "metadata": {
        "id": "lWdQDM60UtWD",
        "colab_type": "code",
        "outputId": "d9dd69ee-082f-4774-9eb9-b6a050f33205",
        "colab": {}
      },
      "cell_type": "code",
      "source": [
        "show_doc(MultiCategoryList.reconstruct)"
      ],
      "execution_count": 0,
      "outputs": [
        {
          "output_type": "display_data",
          "data": {
            "text/markdown": "<h4 id=\"MultiCategoryList.reconstruct\" class=\"doc_header\"><code>reconstruct</code><a href=\"https://github.com/fastai/fastai/blob/master/fastai/data_block.py#L415\" class=\"source_link\" style=\"float:right\">[source]</a><a class=\"source_link\" data-toggle=\"collapse\" data-target=\"#MultiCategoryList-reconstruct-pytest\" style=\"float:right; padding-right:10px\">[test]</a></h4>\n\n> <code>reconstruct</code>(**`t`**)\n\n<div class=\"collapse\" id=\"MultiCategoryList-reconstruct-pytest\"><div class=\"card card-body pytest_card\"><a type=\"button\" data-toggle=\"collapse\" data-target=\"#MultiCategoryList-reconstruct-pytest\" class=\"close\" aria-label=\"Close\"><span aria-hidden=\"true\">&times;</span></a><p>No tests found for <code>reconstruct</code>. To contribute a test please refer to <a href=\"/dev/test.html\">this guide</a> and <a href=\"https://forums.fast.ai/t/improving-expanding-functional-tests/32929\">this discussion</a>.</p></div></div>\n\nReconstruct one of the underlying item for its data `t`.  ",
            "text/plain": [
              "<IPython.core.display.Markdown object>"
            ]
          },
          "metadata": {
            "tags": []
          }
        }
      ]
    },
    {
      "metadata": {
        "id": "Cx7M_VQ6UtWG",
        "colab_type": "code",
        "outputId": "d3e3b31e-9a16-4c06-8dd8-f5cb52f30063",
        "colab": {}
      },
      "cell_type": "code",
      "source": [
        "show_doc(CategoryList.reconstruct)"
      ],
      "execution_count": 0,
      "outputs": [
        {
          "output_type": "display_data",
          "data": {
            "text/markdown": "<h4 id=\"CategoryList.reconstruct\" class=\"doc_header\"><code>reconstruct</code><a href=\"https://github.com/fastai/fastai/blob/master/fastai/data_block.py#L370\" class=\"source_link\" style=\"float:right\">[source]</a><a class=\"source_link\" data-toggle=\"collapse\" data-target=\"#CategoryList-reconstruct-pytest\" style=\"float:right; padding-right:10px\">[test]</a></h4>\n\n> <code>reconstruct</code>(**`t`**)\n\n<div class=\"collapse\" id=\"CategoryList-reconstruct-pytest\"><div class=\"card card-body pytest_card\"><a type=\"button\" data-toggle=\"collapse\" data-target=\"#CategoryList-reconstruct-pytest\" class=\"close\" aria-label=\"Close\"><span aria-hidden=\"true\">&times;</span></a><p>No tests found for <code>reconstruct</code>. To contribute a test please refer to <a href=\"/dev/test.html\">this guide</a> and <a href=\"https://forums.fast.ai/t/improving-expanding-functional-tests/32929\">this discussion</a>.</p></div></div>\n\nReconstruct one of the underlying item for its data `t`.  ",
            "text/plain": [
              "<IPython.core.display.Markdown object>"
            ]
          },
          "metadata": {
            "tags": []
          }
        }
      ]
    },
    {
      "metadata": {
        "id": "q6XNUAwnUtWH",
        "colab_type": "code",
        "outputId": "bb987e67-c3e1-4c4b-90a9-bab84207c10e",
        "colab": {}
      },
      "cell_type": "code",
      "source": [
        "show_doc(CategoryList.analyze_pred)"
      ],
      "execution_count": 0,
      "outputs": [
        {
          "output_type": "display_data",
          "data": {
            "text/markdown": "<h4 id=\"CategoryList.analyze_pred\" class=\"doc_header\"><code>analyze_pred</code><a href=\"https://github.com/fastai/fastai/blob/master/fastai/data_block.py#L368\" class=\"source_link\" style=\"float:right\">[source]</a><a class=\"source_link\" data-toggle=\"collapse\" data-target=\"#CategoryList-analyze_pred-pytest\" style=\"float:right; padding-right:10px\">[test]</a></h4>\n\n> <code>analyze_pred</code>(**`pred`**, **`thresh`**:`float`=***`0.5`***)\n\n<div class=\"collapse\" id=\"CategoryList-analyze_pred-pytest\"><div class=\"card card-body pytest_card\"><a type=\"button\" data-toggle=\"collapse\" data-target=\"#CategoryList-analyze_pred-pytest\" class=\"close\" aria-label=\"Close\"><span aria-hidden=\"true\">&times;</span></a><p>No tests found for <code>analyze_pred</code>. To contribute a test please refer to <a href=\"/dev/test.html\">this guide</a> and <a href=\"https://forums.fast.ai/t/improving-expanding-functional-tests/32929\">this discussion</a>.</p></div></div>\n\nCalled on `pred` before `reconstruct` for additional preprocessing.  ",
            "text/plain": [
              "<IPython.core.display.Markdown object>"
            ]
          },
          "metadata": {
            "tags": []
          }
        }
      ]
    },
    {
      "metadata": {
        "id": "mNToos8AUtWK",
        "colab_type": "code",
        "outputId": "7a8f59f5-da92-49a1-d012-a2532cba043d",
        "colab": {}
      },
      "cell_type": "code",
      "source": [
        "show_doc(EmptyLabelList.reconstruct)"
      ],
      "execution_count": 0,
      "outputs": [
        {
          "output_type": "display_data",
          "data": {
            "text/markdown": "<h4 id=\"EmptyLabelList.reconstruct\" class=\"doc_header\"><code>reconstruct</code><a href=\"https://github.com/fastai/fastai/blob/master/fastai/data_block.py#L308\" class=\"source_link\" style=\"float:right\">[source]</a><a class=\"source_link\" data-toggle=\"collapse\" data-target=\"#EmptyLabelList-reconstruct-pytest\" style=\"float:right; padding-right:10px\">[test]</a></h4>\n\n> <code>reconstruct</code>(**`t`**:`Tensor`, **`x`**:`Tensor`=***`None`***)\n\n<div class=\"collapse\" id=\"EmptyLabelList-reconstruct-pytest\"><div class=\"card card-body pytest_card\"><a type=\"button\" data-toggle=\"collapse\" data-target=\"#EmptyLabelList-reconstruct-pytest\" class=\"close\" aria-label=\"Close\"><span aria-hidden=\"true\">&times;</span></a><p>No tests found for <code>reconstruct</code>. To contribute a test please refer to <a href=\"/dev/test.html\">this guide</a> and <a href=\"https://forums.fast.ai/t/improving-expanding-functional-tests/32929\">this discussion</a>.</p></div></div>\n\nReconstruct one of the underlying item for its data `t`.  ",
            "text/plain": [
              "<IPython.core.display.Markdown object>"
            ]
          },
          "metadata": {
            "tags": []
          }
        }
      ]
    },
    {
      "metadata": {
        "id": "M75Ja9QJUtWL",
        "colab_type": "code",
        "outputId": "d721737a-44c2-4ca8-e7eb-8b8293d9d4db",
        "colab": {}
      },
      "cell_type": "code",
      "source": [
        "show_doc(EmptyLabelList.get)"
      ],
      "execution_count": 0,
      "outputs": [
        {
          "output_type": "display_data",
          "data": {
            "text/markdown": "<h4 id=\"EmptyLabelList.get\" class=\"doc_header\"><code>get</code><a href=\"https://github.com/fastai/fastai/blob/master/fastai/data_block.py#L307\" class=\"source_link\" style=\"float:right\">[source]</a><a class=\"source_link\" data-toggle=\"collapse\" data-target=\"#EmptyLabelList-get-pytest\" style=\"float:right; padding-right:10px\">[test]</a></h4>\n\n> <code>get</code>(**`i`**)\n\n<div class=\"collapse\" id=\"EmptyLabelList-get-pytest\"><div class=\"card card-body pytest_card\"><a type=\"button\" data-toggle=\"collapse\" data-target=\"#EmptyLabelList-get-pytest\" class=\"close\" aria-label=\"Close\"><span aria-hidden=\"true\">&times;</span></a><p>No tests found for <code>get</code>. To contribute a test please refer to <a href=\"/dev/test.html\">this guide</a> and <a href=\"https://forums.fast.ai/t/improving-expanding-functional-tests/32929\">this discussion</a>.</p></div></div>\n\nSubclass if you want to customize how to create item `i` from `self.items`.  ",
            "text/plain": [
              "<IPython.core.display.Markdown object>"
            ]
          },
          "metadata": {
            "tags": []
          }
        }
      ]
    },
    {
      "metadata": {
        "id": "buPePsmZUtWO",
        "colab_type": "code",
        "outputId": "402bede8-8763-40ea-d7f6-ef62e5c06789",
        "colab": {}
      },
      "cell_type": "code",
      "source": [
        "show_doc(LabelList.databunch)"
      ],
      "execution_count": 0,
      "outputs": [
        {
          "output_type": "display_data",
          "data": {
            "text/markdown": "<h4 id=\"LabelList.databunch\" class=\"doc_header\"><code>databunch</code><a href=\"https://github.com/fastai/fastai/blob/master/fastai/data_block.py#L721\" class=\"source_link\" style=\"float:right\">[source]</a><a class=\"source_link\" data-toggle=\"collapse\" data-target=\"#LabelList-databunch-pytest\" style=\"float:right; padding-right:10px\">[test]</a></h4>\n\n> <code>databunch</code>(**\\*\\*`kwargs`**)\n\n<div class=\"collapse\" id=\"LabelList-databunch-pytest\"><div class=\"card card-body pytest_card\"><a type=\"button\" data-toggle=\"collapse\" data-target=\"#LabelList-databunch-pytest\" class=\"close\" aria-label=\"Close\"><span aria-hidden=\"true\">&times;</span></a><p>Tests found for <code>databunch</code>:</p><p>Some other tests where <code>databunch</code> is used:</p><ul><li><code>pytest -sv tests/test_data_block.py::test_regression</code> <a href=\"https://github.com/fastai/fastai/blob/master/tests/test_data_block.py#L125\" class=\"source_link\" style=\"float:right\">[source]</a></li></ul><p>To run tests please refer to this <a href=\"/dev/test.html#quick-guide\">guide</a>.</p></div></div>\n\nTo throw a clear error message when the data wasn't split.  ",
            "text/plain": [
              "<IPython.core.display.Markdown object>"
            ]
          },
          "metadata": {
            "tags": []
          }
        }
      ]
    },
    {
      "metadata": {
        "id": "yPE-m5hnUtWP",
        "colab_type": "text"
      },
      "cell_type": "markdown",
      "source": [
        "## New Methods - Please document or move to the undocumented section"
      ]
    },
    {
      "metadata": {
        "hide_input": true,
        "id": "KWOKsktNUtWP",
        "colab_type": "code",
        "outputId": "611e52e6-dd5f-40e7-986e-6faf9f9dd4f2",
        "colab": {}
      },
      "cell_type": "code",
      "source": [
        "show_doc(ItemList.add)"
      ],
      "execution_count": 0,
      "outputs": [
        {
          "output_type": "display_data",
          "data": {
            "text/markdown": "<h4 id=\"ItemList.add\" class=\"doc_header\"><code>add</code><a href=\"https://github.com/fastai/fastai/blob/master/fastai/data_block.py#L100\" class=\"source_link\" style=\"float:right\">[source]</a><a class=\"source_link\" data-toggle=\"collapse\" data-target=\"#ItemList-add-pytest\" style=\"float:right; padding-right:10px\">[test]</a></h4>\n\n> <code>add</code>(**`items`**:`ItemList`)\n\n<div class=\"collapse\" id=\"ItemList-add-pytest\"><div class=\"card card-body pytest_card\"><a type=\"button\" data-toggle=\"collapse\" data-target=\"#ItemList-add-pytest\" class=\"close\" aria-label=\"Close\"><span aria-hidden=\"true\">&times;</span></a><p>No tests found for <code>add</code>. To contribute a test please refer to <a href=\"/dev/test.html\">this guide</a> and <a href=\"https://forums.fast.ai/t/improving-expanding-functional-tests/32929\">this discussion</a>.</p></div></div>",
            "text/plain": [
              "<IPython.core.display.Markdown object>"
            ]
          },
          "metadata": {
            "tags": []
          }
        }
      ]
    },
    {
      "metadata": {
        "id": "Pt0cqTP3UtWR",
        "colab_type": "text"
      },
      "cell_type": "markdown",
      "source": [
        ""
      ]
    }
  ]
}