{
  "nbformat": 4,
  "nbformat_minor": 0,
  "metadata": {
    "colab": {
      "name": "gg-17(1)-데이터탐색-클러스터",
      "version": "0.3.2",
      "provenance": [],
      "collapsed_sections": [
        "XyaalKuUA9wU",
        "9l2WO-9wA9wV",
        "uTjAQX_sA9xB"
      ],
      "include_colab_link": true
    },
    "kernelspec": {
      "display_name": "Python 3",
      "language": "python",
      "name": "python3"
    }
  },
  "cells": [
    {
      "cell_type": "markdown",
      "metadata": {
        "id": "view-in-github",
        "colab_type": "text"
      },
      "source": [
        "<a href=\"https://colab.research.google.com/github/StillWork/ds-lab/blob/master/gg_17(1)_%EB%8D%B0%EC%9D%B4%ED%84%B0%ED%83%90%EC%83%89_%ED%81%B4%EB%9F%AC%EC%8A%A4%ED%84%B0.ipynb\" target=\"_parent\"><img src=\"https://colab.research.google.com/assets/colab-badge.svg\" alt=\"Open In Colab\"/></a>"
      ]
    },
    {
      "metadata": {
        "id": "ZxhtELvsA9vv",
        "colab_type": "text"
      },
      "cell_type": "markdown",
      "source": [
        "데이터 탐색\n",
        "==\n",
        "\n",
        "다루는 내용\n",
        "--\n",
        "- 데이터 특성 보기, 데이터 탐색, 시각화\n",
        "- 클러스터링\n",
        "\n",
        "데이터\n",
        "--\n",
        "- 전력판매량(시도별/용도별) 액셀 파일 https://goo.gl/Cx8Rzw\n",
        "- 위 자료는 전력거래소에서 받은 자료임\n",
        "- 이 파일을 현재 작업중인 (쥬피터 노트북이 실행되는) 폴더 아래에 data 폴더를 만들고 data 폴더로 복사한다"
      ]
    },
    {
      "metadata": {
        "id": "TShYzQdSA9vy",
        "colab_type": "text"
      },
      "cell_type": "markdown",
      "source": [
        "필요한 라이브러리(모듈) 설치\n",
        "--"
      ]
    },
    {
      "metadata": {
        "id": "bDPp1BkWA9vz",
        "colab_type": "code",
        "colab": {}
      },
      "cell_type": "code",
      "source": [
        "import pandas as pd\n",
        "import numpy as np\n",
        "import matplotlib.pyplot as plt"
      ],
      "execution_count": 0,
      "outputs": []
    },
    {
      "metadata": {
        "id": "nrR4lR8bA9v2",
        "colab_type": "code",
        "colab": {}
      },
      "cell_type": "code",
      "source": [
        "%matplotlib inline"
      ],
      "execution_count": 0,
      "outputs": []
    },
    {
      "metadata": {
        "id": "N1I1-uBjvgkm",
        "colab_type": "code",
        "outputId": "06f0a5a6-4638-433d-a23d-19ceec6a3283",
        "colab": {
          "base_uri": "https://localhost:8080/",
          "height": 524
        }
      },
      "cell_type": "code",
      "source": [
        "# 데이터 다운로드\n",
        "import os, os.path, shutil\n",
        "if not os.path.exists(\"./data\"):\n",
        "    os.makedirs(\"./data\")\n",
        "!wget https://goo.gl/Cx8Rzw -O ./data/power.xls"
      ],
      "execution_count": 6,
      "outputs": [
        {
          "output_type": "stream",
          "text": [
            "--2019-03-06 12:09:20--  https://goo.gl/Cx8Rzw\n",
            "Resolving goo.gl (goo.gl)... 74.125.141.138, 74.125.141.139, 74.125.141.113, ...\n",
            "Connecting to goo.gl (goo.gl)|74.125.141.138|:443... connected.\n",
            "HTTP request sent, awaiting response... 302 Found\n",
            "Location: https://www.dropbox.com/s/w9m6n2zbl2986of/%EC%8B%9C%EB%8F%84%EB%B3%84_%EC%9A%A9%EB%8F%84%EB%B3%84.xls?dl=0 [following]\n",
            "--2019-03-06 12:09:21--  https://www.dropbox.com/s/w9m6n2zbl2986of/%EC%8B%9C%EB%8F%84%EB%B3%84_%EC%9A%A9%EB%8F%84%EB%B3%84.xls?dl=0\n",
            "Resolving www.dropbox.com (www.dropbox.com)... 162.125.9.1, 2620:100:601f:1::a27d:901\n",
            "Connecting to www.dropbox.com (www.dropbox.com)|162.125.9.1|:443... connected.\n",
            "HTTP request sent, awaiting response... 301 Moved Permanently\n",
            "Location: /s/raw/w9m6n2zbl2986of/%EC%8B%9C%EB%8F%84%EB%B3%84_%EC%9A%A9%EB%8F%84%EB%B3%84.xls [following]\n",
            "--2019-03-06 12:09:21--  https://www.dropbox.com/s/raw/w9m6n2zbl2986of/%EC%8B%9C%EB%8F%84%EB%B3%84_%EC%9A%A9%EB%8F%84%EB%B3%84.xls\n",
            "Reusing existing connection to www.dropbox.com:443.\n",
            "HTTP request sent, awaiting response... 302 Found\n",
            "Location: https://uc352dae82b54014ed23f094171d.dl.dropboxusercontent.com/cd/0/inline/Aclyn0sVmBIUDYbFu0agZyYwn2mkM1Jhw9TTOZ9Vi-bI6XuS3-qzG8R5V1VCh5K4dAHgDIdzYAOLPWh23RsSTWK9d7GwbAa4f4rEKETsoh5_gLWrmv4G03GIHfmNygKdmdI/file# [following]\n",
            "--2019-03-06 12:09:21--  https://uc352dae82b54014ed23f094171d.dl.dropboxusercontent.com/cd/0/inline/Aclyn0sVmBIUDYbFu0agZyYwn2mkM1Jhw9TTOZ9Vi-bI6XuS3-qzG8R5V1VCh5K4dAHgDIdzYAOLPWh23RsSTWK9d7GwbAa4f4rEKETsoh5_gLWrmv4G03GIHfmNygKdmdI/file\n",
            "Resolving uc352dae82b54014ed23f094171d.dl.dropboxusercontent.com (uc352dae82b54014ed23f094171d.dl.dropboxusercontent.com)... 162.125.8.6, 2620:100:601f:6::a27d:906\n",
            "Connecting to uc352dae82b54014ed23f094171d.dl.dropboxusercontent.com (uc352dae82b54014ed23f094171d.dl.dropboxusercontent.com)|162.125.8.6|:443... connected.\n",
            "HTTP request sent, awaiting response... 302 FOUND\n",
            "Location: /cd/0/inline2/Acn_SkfemGGIueOMeVEuy1duOhahJZsaZX3dwhvl0vTx8CJRuLIlGafxQIuRWN4vr-vr-1yUgJePmu_dygZ7jPt7bh-rUdD8htgLtatBytmhJyAcfRUlyYDtIHUJZzr6Zq_WWpUZb1tik8w80mvCXRd02Q0IzJXqwgO4y7iDjIiXrQ61xZzcgSrjaLkAuaz0SsU5kuD4avLfJY1koZZhmWD4CHjD1yBWZZ7biOoH4ims1C3ugrncgfAMNOSor_fV-wnd17Q74XRfpbZAN-SmjjvQR2Aly5d59VzjKZQW9A1unfcMXQ3j_6iZeIxilBTMxeg7gu6gU-Wp9YY4c8aQxuq8uMUaxH6LolzT1uKCa54duQ/file [following]\n",
            "--2019-03-06 12:09:21--  https://uc352dae82b54014ed23f094171d.dl.dropboxusercontent.com/cd/0/inline2/Acn_SkfemGGIueOMeVEuy1duOhahJZsaZX3dwhvl0vTx8CJRuLIlGafxQIuRWN4vr-vr-1yUgJePmu_dygZ7jPt7bh-rUdD8htgLtatBytmhJyAcfRUlyYDtIHUJZzr6Zq_WWpUZb1tik8w80mvCXRd02Q0IzJXqwgO4y7iDjIiXrQ61xZzcgSrjaLkAuaz0SsU5kuD4avLfJY1koZZhmWD4CHjD1yBWZZ7biOoH4ims1C3ugrncgfAMNOSor_fV-wnd17Q74XRfpbZAN-SmjjvQR2Aly5d59VzjKZQW9A1unfcMXQ3j_6iZeIxilBTMxeg7gu6gU-Wp9YY4c8aQxuq8uMUaxH6LolzT1uKCa54duQ/file\n",
            "Reusing existing connection to uc352dae82b54014ed23f094171d.dl.dropboxusercontent.com:443.\n",
            "HTTP request sent, awaiting response... 200 OK\n",
            "Length: 17920 (18K) [application/vnd.ms-excel]\n",
            "Saving to: ‘./data/power.xls’\n",
            "\n",
            "./data/power.xls    100%[===================>]  17.50K  --.-KB/s    in 0s      \n",
            "\n",
            "2019-03-06 12:09:22 (179 MB/s) - ‘./data/power.xls’ saved [17920/17920]\n",
            "\n"
          ],
          "name": "stdout"
        }
      ]
    },
    {
      "metadata": {
        "id": "QDyjAHmMu-kt",
        "colab_type": "code",
        "outputId": "ab9668d0-63e2-4f7f-c237-8cda3e31b996",
        "colab": {
          "base_uri": "https://localhost:8080/",
          "height": 524
        }
      },
      "cell_type": "code",
      "source": [
        "# 한글 폰트 설치\n",
        "!apt-get install fonts-nanum*\n",
        "!apt-get install fontconfig\n",
        "!fc-cache -fv\n",
        "!cp /usr/share/fonts/truetype/nanum/Nanum* /usr/local/lib/python3.6/dist-packages/matplotlib/mpl-data/fonts/ttf/\n",
        "!rm -rf /content/.cache/matplotlib/*"
      ],
      "execution_count": 7,
      "outputs": [
        {
          "output_type": "stream",
          "text": [
            "Reading package lists... Done\n",
            "Building dependency tree       \n",
            "Reading state information... Done\n",
            "Note, selecting 'fonts-nanum-eco' for glob 'fonts-nanum*'\n",
            "Note, selecting 'fonts-nanum' for glob 'fonts-nanum*'\n",
            "Note, selecting 'fonts-nanum-gothic-light' for glob 'fonts-nanum*'\n",
            "Note, selecting 'fonts-nanum-coding' for glob 'fonts-nanum*'\n",
            "Note, selecting 'fonts-nanum-extra' for glob 'fonts-nanum*'\n",
            "fonts-nanum is already the newest version (20170925-1).\n",
            "fonts-nanum-coding is already the newest version (2.5-1).\n",
            "fonts-nanum-eco is already the newest version (1.000-6).\n",
            "fonts-nanum-extra is already the newest version (20170925-1).\n",
            "0 upgraded, 0 newly installed, 0 to remove and 10 not upgraded.\n",
            "Reading package lists... Done\n",
            "Building dependency tree       \n",
            "Reading state information... Done\n",
            "fontconfig is already the newest version (2.12.6-0ubuntu2).\n",
            "0 upgraded, 0 newly installed, 0 to remove and 10 not upgraded.\n",
            "/usr/share/fonts: caching, new cache contents: 0 fonts, 1 dirs\n",
            "/usr/share/fonts/truetype: caching, new cache contents: 0 fonts, 2 dirs\n",
            "/usr/share/fonts/truetype/liberation: caching, new cache contents: 16 fonts, 0 dirs\n",
            "/usr/share/fonts/truetype/nanum: caching, new cache contents: 31 fonts, 0 dirs\n",
            "/usr/local/share/fonts: caching, new cache contents: 0 fonts, 0 dirs\n",
            "/root/.local/share/fonts: skipping, no such directory\n",
            "/root/.fonts: skipping, no such directory\n",
            "/var/cache/fontconfig: cleaning cache directory\n",
            "/root/.cache/fontconfig: not cleaning non-existent cache directory\n",
            "/root/.fontconfig: not cleaning non-existent cache directory\n",
            "fc-cache: succeeded\n"
          ],
          "name": "stdout"
        }
      ]
    },
    {
      "metadata": {
        "id": "s-nZUJVp5AtB",
        "colab_type": "code",
        "colab": {}
      },
      "cell_type": "code",
      "source": [
        "import matplotlib\n",
        "matplotlib.font_manager._rebuild()"
      ],
      "execution_count": 0,
      "outputs": []
    },
    {
      "metadata": {
        "id": "2qATu0mH2qu8",
        "colab_type": "code",
        "colab": {}
      },
      "cell_type": "code",
      "source": [
        "# tree\n",
        "!apt-get install tree\n",
        "!tree -d ."
      ],
      "execution_count": 0,
      "outputs": []
    },
    {
      "metadata": {
        "id": "eotoZvY_A9v5",
        "colab_type": "text"
      },
      "cell_type": "markdown",
      "source": [
        "데이터 읽기\n",
        "--"
      ]
    },
    {
      "metadata": {
        "id": "YgCiOfmVA9v6",
        "colab_type": "code",
        "outputId": "02a8f5cd-f6f6-419a-d43b-287616378c39",
        "colab": {
          "base_uri": "https://localhost:8080/",
          "height": 34
        }
      },
      "cell_type": "code",
      "source": [
        "power_data = pd.read_excel('data/power.xls')\n",
        "print(power_data.shape)"
      ],
      "execution_count": 62,
      "outputs": [
        {
          "output_type": "stream",
          "text": [
            "(19, 28)\n"
          ],
          "name": "stdout"
        }
      ]
    },
    {
      "metadata": {
        "id": "wUrlk6uwA9v_",
        "colab_type": "code",
        "outputId": "7d2cfc06-b52c-4364-cf0f-6db7f27682a2",
        "colab": {
          "base_uri": "https://localhost:8080/",
          "height": 994
        }
      },
      "cell_type": "code",
      "source": [
        "power_data"
      ],
      "execution_count": 11,
      "outputs": [
        {
          "output_type": "execute_result",
          "data": {
            "text/html": [
              "<div>\n",
              "<style scoped>\n",
              "    .dataframe tbody tr th:only-of-type {\n",
              "        vertical-align: middle;\n",
              "    }\n",
              "\n",
              "    .dataframe tbody tr th {\n",
              "        vertical-align: top;\n",
              "    }\n",
              "\n",
              "    .dataframe thead th {\n",
              "        text-align: right;\n",
              "    }\n",
              "</style>\n",
              "<table border=\"1\" class=\"dataframe\">\n",
              "  <thead>\n",
              "    <tr style=\"text-align: right;\">\n",
              "      <th></th>\n",
              "      <th>구분</th>\n",
              "      <th>주거용</th>\n",
              "      <th>공공용</th>\n",
              "      <th>서비스업</th>\n",
              "      <th>업무용합계</th>\n",
              "      <th>농림어업</th>\n",
              "      <th>광업</th>\n",
              "      <th>제조업</th>\n",
              "      <th>식료품제조</th>\n",
              "      <th>섬유,의류</th>\n",
              "      <th>...</th>\n",
              "      <th>기타기계</th>\n",
              "      <th>사무기기</th>\n",
              "      <th>전기기기</th>\n",
              "      <th>영상,음향</th>\n",
              "      <th>자동차</th>\n",
              "      <th>기타운송</th>\n",
              "      <th>가구및기타</th>\n",
              "      <th>재생재료</th>\n",
              "      <th>산업용합계</th>\n",
              "      <th>합계</th>\n",
              "    </tr>\n",
              "  </thead>\n",
              "  <tbody>\n",
              "    <tr>\n",
              "      <th>0</th>\n",
              "      <td>강원</td>\n",
              "      <td>1940933</td>\n",
              "      <td>1400421</td>\n",
              "      <td>6203749</td>\n",
              "      <td>7604170</td>\n",
              "      <td>607139</td>\n",
              "      <td>398287</td>\n",
              "      <td>6002286</td>\n",
              "      <td>546621</td>\n",
              "      <td>13027</td>\n",
              "      <td>...</td>\n",
              "      <td>35063</td>\n",
              "      <td>2019</td>\n",
              "      <td>38062</td>\n",
              "      <td>43986</td>\n",
              "      <td>113448</td>\n",
              "      <td>108629</td>\n",
              "      <td>12872</td>\n",
              "      <td>3418</td>\n",
              "      <td>7007712</td>\n",
              "      <td>16552816</td>\n",
              "    </tr>\n",
              "    <tr>\n",
              "      <th>1</th>\n",
              "      <td>개성</td>\n",
              "      <td>0</td>\n",
              "      <td>0</td>\n",
              "      <td>0</td>\n",
              "      <td>0</td>\n",
              "      <td>0</td>\n",
              "      <td>0</td>\n",
              "      <td>0</td>\n",
              "      <td>0</td>\n",
              "      <td>0</td>\n",
              "      <td>...</td>\n",
              "      <td>0</td>\n",
              "      <td>0</td>\n",
              "      <td>0</td>\n",
              "      <td>0</td>\n",
              "      <td>0</td>\n",
              "      <td>0</td>\n",
              "      <td>0</td>\n",
              "      <td>0</td>\n",
              "      <td>0</td>\n",
              "      <td>0</td>\n",
              "    </tr>\n",
              "    <tr>\n",
              "      <th>2</th>\n",
              "      <td>경기</td>\n",
              "      <td>16587710</td>\n",
              "      <td>5533662</td>\n",
              "      <td>33434551</td>\n",
              "      <td>38968213</td>\n",
              "      <td>2371347</td>\n",
              "      <td>317263</td>\n",
              "      <td>56603327</td>\n",
              "      <td>2544420</td>\n",
              "      <td>2109963</td>\n",
              "      <td>...</td>\n",
              "      <td>3613798</td>\n",
              "      <td>317244</td>\n",
              "      <td>1040171</td>\n",
              "      <td>24519644</td>\n",
              "      <td>2977165</td>\n",
              "      <td>67594</td>\n",
              "      <td>1833112</td>\n",
              "      <td>133041</td>\n",
              "      <td>59291937</td>\n",
              "      <td>114847859</td>\n",
              "    </tr>\n",
              "    <tr>\n",
              "      <th>3</th>\n",
              "      <td>경남</td>\n",
              "      <td>4260988</td>\n",
              "      <td>1427560</td>\n",
              "      <td>8667737</td>\n",
              "      <td>10095297</td>\n",
              "      <td>2141813</td>\n",
              "      <td>95989</td>\n",
              "      <td>18053778</td>\n",
              "      <td>932743</td>\n",
              "      <td>346974</td>\n",
              "      <td>...</td>\n",
              "      <td>1902913</td>\n",
              "      <td>8070</td>\n",
              "      <td>924235</td>\n",
              "      <td>534196</td>\n",
              "      <td>2156059</td>\n",
              "      <td>2048646</td>\n",
              "      <td>262523</td>\n",
              "      <td>47662</td>\n",
              "      <td>20291580</td>\n",
              "      <td>34647864</td>\n",
              "    </tr>\n",
              "    <tr>\n",
              "      <th>4</th>\n",
              "      <td>경북</td>\n",
              "      <td>3302463</td>\n",
              "      <td>1578115</td>\n",
              "      <td>8487402</td>\n",
              "      <td>10065517</td>\n",
              "      <td>1747462</td>\n",
              "      <td>224568</td>\n",
              "      <td>30115601</td>\n",
              "      <td>566071</td>\n",
              "      <td>3780171</td>\n",
              "      <td>...</td>\n",
              "      <td>782570</td>\n",
              "      <td>14468</td>\n",
              "      <td>750786</td>\n",
              "      <td>4174971</td>\n",
              "      <td>2356890</td>\n",
              "      <td>123935</td>\n",
              "      <td>60280</td>\n",
              "      <td>77104</td>\n",
              "      <td>32087631</td>\n",
              "      <td>45455611</td>\n",
              "    </tr>\n",
              "    <tr>\n",
              "      <th>5</th>\n",
              "      <td>광주</td>\n",
              "      <td>1954876</td>\n",
              "      <td>565527</td>\n",
              "      <td>3174973</td>\n",
              "      <td>3740500</td>\n",
              "      <td>74608</td>\n",
              "      <td>2898</td>\n",
              "      <td>2910768</td>\n",
              "      <td>161072</td>\n",
              "      <td>295922</td>\n",
              "      <td>...</td>\n",
              "      <td>198847</td>\n",
              "      <td>5967</td>\n",
              "      <td>236622</td>\n",
              "      <td>723764</td>\n",
              "      <td>512148</td>\n",
              "      <td>5140</td>\n",
              "      <td>13392</td>\n",
              "      <td>16049</td>\n",
              "      <td>2988274</td>\n",
              "      <td>8683649</td>\n",
              "    </tr>\n",
              "    <tr>\n",
              "      <th>6</th>\n",
              "      <td>대구</td>\n",
              "      <td>3151904</td>\n",
              "      <td>826396</td>\n",
              "      <td>5470438</td>\n",
              "      <td>6296834</td>\n",
              "      <td>69142</td>\n",
              "      <td>5858</td>\n",
              "      <td>5862633</td>\n",
              "      <td>212626</td>\n",
              "      <td>1057342</td>\n",
              "      <td>...</td>\n",
              "      <td>516493</td>\n",
              "      <td>58446</td>\n",
              "      <td>180189</td>\n",
              "      <td>252662</td>\n",
              "      <td>1381273</td>\n",
              "      <td>68127</td>\n",
              "      <td>41814</td>\n",
              "      <td>33616</td>\n",
              "      <td>5937633</td>\n",
              "      <td>15386372</td>\n",
              "    </tr>\n",
              "    <tr>\n",
              "      <th>7</th>\n",
              "      <td>대전</td>\n",
              "      <td>1872890</td>\n",
              "      <td>954681</td>\n",
              "      <td>3955921</td>\n",
              "      <td>4910602</td>\n",
              "      <td>28643</td>\n",
              "      <td>3326</td>\n",
              "      <td>2608343</td>\n",
              "      <td>204171</td>\n",
              "      <td>41687</td>\n",
              "      <td>...</td>\n",
              "      <td>77970</td>\n",
              "      <td>2949</td>\n",
              "      <td>83609</td>\n",
              "      <td>474561</td>\n",
              "      <td>218191</td>\n",
              "      <td>5439</td>\n",
              "      <td>31657</td>\n",
              "      <td>2252</td>\n",
              "      <td>2640312</td>\n",
              "      <td>9423804</td>\n",
              "    </tr>\n",
              "    <tr>\n",
              "      <th>8</th>\n",
              "      <td>부산</td>\n",
              "      <td>4473510</td>\n",
              "      <td>1305876</td>\n",
              "      <td>7582169</td>\n",
              "      <td>8888045</td>\n",
              "      <td>107927</td>\n",
              "      <td>25289</td>\n",
              "      <td>7512588</td>\n",
              "      <td>532943</td>\n",
              "      <td>528513</td>\n",
              "      <td>...</td>\n",
              "      <td>904149</td>\n",
              "      <td>4913</td>\n",
              "      <td>107717</td>\n",
              "      <td>90644</td>\n",
              "      <td>1046529</td>\n",
              "      <td>231141</td>\n",
              "      <td>49733</td>\n",
              "      <td>13104</td>\n",
              "      <td>7645804</td>\n",
              "      <td>21007358</td>\n",
              "    </tr>\n",
              "    <tr>\n",
              "      <th>9</th>\n",
              "      <td>서울</td>\n",
              "      <td>13131172</td>\n",
              "      <td>3581534</td>\n",
              "      <td>27647345</td>\n",
              "      <td>31228879</td>\n",
              "      <td>15150</td>\n",
              "      <td>4064</td>\n",
              "      <td>1918893</td>\n",
              "      <td>227077</td>\n",
              "      <td>497699</td>\n",
              "      <td>...</td>\n",
              "      <td>163688</td>\n",
              "      <td>4395</td>\n",
              "      <td>11425</td>\n",
              "      <td>46225</td>\n",
              "      <td>20182</td>\n",
              "      <td>17656</td>\n",
              "      <td>132707</td>\n",
              "      <td>2875</td>\n",
              "      <td>1938107</td>\n",
              "      <td>46298158</td>\n",
              "    </tr>\n",
              "    <tr>\n",
              "      <th>10</th>\n",
              "      <td>세종</td>\n",
              "      <td>384903</td>\n",
              "      <td>299675</td>\n",
              "      <td>645424</td>\n",
              "      <td>945099</td>\n",
              "      <td>69469</td>\n",
              "      <td>16364</td>\n",
              "      <td>1502922</td>\n",
              "      <td>110211</td>\n",
              "      <td>70617</td>\n",
              "      <td>...</td>\n",
              "      <td>26185</td>\n",
              "      <td>14319</td>\n",
              "      <td>33539</td>\n",
              "      <td>170366</td>\n",
              "      <td>79009</td>\n",
              "      <td>0</td>\n",
              "      <td>5132</td>\n",
              "      <td>2603</td>\n",
              "      <td>1588755</td>\n",
              "      <td>2918758</td>\n",
              "    </tr>\n",
              "    <tr>\n",
              "      <th>11</th>\n",
              "      <td>울산</td>\n",
              "      <td>1487143</td>\n",
              "      <td>489865</td>\n",
              "      <td>3649386</td>\n",
              "      <td>4139251</td>\n",
              "      <td>80221</td>\n",
              "      <td>20103</td>\n",
              "      <td>25883132</td>\n",
              "      <td>187738</td>\n",
              "      <td>943299</td>\n",
              "      <td>...</td>\n",
              "      <td>169132</td>\n",
              "      <td>5053</td>\n",
              "      <td>381602</td>\n",
              "      <td>24165</td>\n",
              "      <td>2367150</td>\n",
              "      <td>1020610</td>\n",
              "      <td>4984</td>\n",
              "      <td>1626</td>\n",
              "      <td>25983456</td>\n",
              "      <td>31609850</td>\n",
              "    </tr>\n",
              "    <tr>\n",
              "      <th>12</th>\n",
              "      <td>인천</td>\n",
              "      <td>3856852</td>\n",
              "      <td>921748</td>\n",
              "      <td>7154416</td>\n",
              "      <td>8076164</td>\n",
              "      <td>142953</td>\n",
              "      <td>71529</td>\n",
              "      <td>12367816</td>\n",
              "      <td>641088</td>\n",
              "      <td>75895</td>\n",
              "      <td>...</td>\n",
              "      <td>942801</td>\n",
              "      <td>7853</td>\n",
              "      <td>178502</td>\n",
              "      <td>1124564</td>\n",
              "      <td>612898</td>\n",
              "      <td>54225</td>\n",
              "      <td>360778</td>\n",
              "      <td>32538</td>\n",
              "      <td>12582298</td>\n",
              "      <td>24515313</td>\n",
              "    </tr>\n",
              "    <tr>\n",
              "      <th>13</th>\n",
              "      <td>전남</td>\n",
              "      <td>2284124</td>\n",
              "      <td>964024</td>\n",
              "      <td>5690659</td>\n",
              "      <td>6654683</td>\n",
              "      <td>3096126</td>\n",
              "      <td>73217</td>\n",
              "      <td>21453926</td>\n",
              "      <td>511361</td>\n",
              "      <td>160506</td>\n",
              "      <td>...</td>\n",
              "      <td>66431</td>\n",
              "      <td>1061</td>\n",
              "      <td>149939</td>\n",
              "      <td>42399</td>\n",
              "      <td>72132</td>\n",
              "      <td>481592</td>\n",
              "      <td>14670</td>\n",
              "      <td>31932</td>\n",
              "      <td>24623269</td>\n",
              "      <td>33562076</td>\n",
              "    </tr>\n",
              "    <tr>\n",
              "      <th>14</th>\n",
              "      <td>전북</td>\n",
              "      <td>2326183</td>\n",
              "      <td>1096968</td>\n",
              "      <td>4910318</td>\n",
              "      <td>6007286</td>\n",
              "      <td>1415004</td>\n",
              "      <td>85300</td>\n",
              "      <td>12965875</td>\n",
              "      <td>1459217</td>\n",
              "      <td>731651</td>\n",
              "      <td>...</td>\n",
              "      <td>159699</td>\n",
              "      <td>7240</td>\n",
              "      <td>130692</td>\n",
              "      <td>420005</td>\n",
              "      <td>859741</td>\n",
              "      <td>70980</td>\n",
              "      <td>16175</td>\n",
              "      <td>99003</td>\n",
              "      <td>14466179</td>\n",
              "      <td>22799647</td>\n",
              "    </tr>\n",
              "    <tr>\n",
              "      <th>15</th>\n",
              "      <td>제주</td>\n",
              "      <td>782601</td>\n",
              "      <td>301727</td>\n",
              "      <td>2308732</td>\n",
              "      <td>2610459</td>\n",
              "      <td>1364930</td>\n",
              "      <td>14019</td>\n",
              "      <td>241537</td>\n",
              "      <td>155987</td>\n",
              "      <td>3497</td>\n",
              "      <td>...</td>\n",
              "      <td>1167</td>\n",
              "      <td>0</td>\n",
              "      <td>771</td>\n",
              "      <td>0</td>\n",
              "      <td>773</td>\n",
              "      <td>532</td>\n",
              "      <td>1743</td>\n",
              "      <td>743</td>\n",
              "      <td>1620486</td>\n",
              "      <td>5013545</td>\n",
              "    </tr>\n",
              "    <tr>\n",
              "      <th>16</th>\n",
              "      <td>충남</td>\n",
              "      <td>2691823</td>\n",
              "      <td>1089613</td>\n",
              "      <td>7164439</td>\n",
              "      <td>8254052</td>\n",
              "      <td>1928066</td>\n",
              "      <td>248313</td>\n",
              "      <td>37057955</td>\n",
              "      <td>1137035</td>\n",
              "      <td>269998</td>\n",
              "      <td>...</td>\n",
              "      <td>611925</td>\n",
              "      <td>12208</td>\n",
              "      <td>428906</td>\n",
              "      <td>10953811</td>\n",
              "      <td>2526658</td>\n",
              "      <td>33766</td>\n",
              "      <td>53804</td>\n",
              "      <td>19725</td>\n",
              "      <td>39234334</td>\n",
              "      <td>50180209</td>\n",
              "    </tr>\n",
              "    <tr>\n",
              "      <th>17</th>\n",
              "      <td>충북</td>\n",
              "      <td>2027281</td>\n",
              "      <td>1267140</td>\n",
              "      <td>4804638</td>\n",
              "      <td>6071778</td>\n",
              "      <td>721131</td>\n",
              "      <td>139856</td>\n",
              "      <td>15883448</td>\n",
              "      <td>1152073</td>\n",
              "      <td>333846</td>\n",
              "      <td>...</td>\n",
              "      <td>366871</td>\n",
              "      <td>23076</td>\n",
              "      <td>1125141</td>\n",
              "      <td>4103832</td>\n",
              "      <td>603349</td>\n",
              "      <td>82496</td>\n",
              "      <td>513501</td>\n",
              "      <td>46038</td>\n",
              "      <td>16744435</td>\n",
              "      <td>24843494</td>\n",
              "    </tr>\n",
              "    <tr>\n",
              "      <th>18</th>\n",
              "      <td>합계</td>\n",
              "      <td>64576423</td>\n",
              "      <td>22204112</td>\n",
              "      <td>134748546</td>\n",
              "      <td>156952658</td>\n",
              "      <td>15373994</td>\n",
              "      <td>1347957</td>\n",
              "      <td>252942540</td>\n",
              "      <td>10735833</td>\n",
              "      <td>11247578</td>\n",
              "      <td>...</td>\n",
              "      <td>10504640</td>\n",
              "      <td>487262</td>\n",
              "      <td>5763846</td>\n",
              "      <td>47655808</td>\n",
              "      <td>17790147</td>\n",
              "      <td>4311878</td>\n",
              "      <td>3396006</td>\n",
              "      <td>559909</td>\n",
              "      <td>269664491</td>\n",
              "      <td>491193571</td>\n",
              "    </tr>\n",
              "  </tbody>\n",
              "</table>\n",
              "<p>19 rows × 28 columns</p>\n",
              "</div>"
            ],
            "text/plain": [
              "    구분       주거용       공공용       서비스업      업무용합계      농림어업       광업  \\\n",
              "0   강원   1940933   1400421    6203749    7604170    607139   398287   \n",
              "1   개성         0         0          0          0         0        0   \n",
              "2   경기  16587710   5533662   33434551   38968213   2371347   317263   \n",
              "3   경남   4260988   1427560    8667737   10095297   2141813    95989   \n",
              "4   경북   3302463   1578115    8487402   10065517   1747462   224568   \n",
              "5   광주   1954876    565527    3174973    3740500     74608     2898   \n",
              "6   대구   3151904    826396    5470438    6296834     69142     5858   \n",
              "7   대전   1872890    954681    3955921    4910602     28643     3326   \n",
              "8   부산   4473510   1305876    7582169    8888045    107927    25289   \n",
              "9   서울  13131172   3581534   27647345   31228879     15150     4064   \n",
              "10  세종    384903    299675     645424     945099     69469    16364   \n",
              "11  울산   1487143    489865    3649386    4139251     80221    20103   \n",
              "12  인천   3856852    921748    7154416    8076164    142953    71529   \n",
              "13  전남   2284124    964024    5690659    6654683   3096126    73217   \n",
              "14  전북   2326183   1096968    4910318    6007286   1415004    85300   \n",
              "15  제주    782601    301727    2308732    2610459   1364930    14019   \n",
              "16  충남   2691823   1089613    7164439    8254052   1928066   248313   \n",
              "17  충북   2027281   1267140    4804638    6071778    721131   139856   \n",
              "18  합계  64576423  22204112  134748546  156952658  15373994  1347957   \n",
              "\n",
              "          제조업     식료품제조     섬유,의류    ...          기타기계    사무기기     전기기기  \\\n",
              "0     6002286    546621     13027    ...         35063    2019    38062   \n",
              "1           0         0         0    ...             0       0        0   \n",
              "2    56603327   2544420   2109963    ...       3613798  317244  1040171   \n",
              "3    18053778    932743    346974    ...       1902913    8070   924235   \n",
              "4    30115601    566071   3780171    ...        782570   14468   750786   \n",
              "5     2910768    161072    295922    ...        198847    5967   236622   \n",
              "6     5862633    212626   1057342    ...        516493   58446   180189   \n",
              "7     2608343    204171     41687    ...         77970    2949    83609   \n",
              "8     7512588    532943    528513    ...        904149    4913   107717   \n",
              "9     1918893    227077    497699    ...        163688    4395    11425   \n",
              "10    1502922    110211     70617    ...         26185   14319    33539   \n",
              "11   25883132    187738    943299    ...        169132    5053   381602   \n",
              "12   12367816    641088     75895    ...        942801    7853   178502   \n",
              "13   21453926    511361    160506    ...         66431    1061   149939   \n",
              "14   12965875   1459217    731651    ...        159699    7240   130692   \n",
              "15     241537    155987      3497    ...          1167       0      771   \n",
              "16   37057955   1137035    269998    ...        611925   12208   428906   \n",
              "17   15883448   1152073    333846    ...        366871   23076  1125141   \n",
              "18  252942540  10735833  11247578    ...      10504640  487262  5763846   \n",
              "\n",
              "       영상,음향       자동차     기타운송    가구및기타    재생재료      산업용합계         합계  \n",
              "0      43986    113448   108629    12872    3418    7007712   16552816  \n",
              "1          0         0        0        0       0          0          0  \n",
              "2   24519644   2977165    67594  1833112  133041   59291937  114847859  \n",
              "3     534196   2156059  2048646   262523   47662   20291580   34647864  \n",
              "4    4174971   2356890   123935    60280   77104   32087631   45455611  \n",
              "5     723764    512148     5140    13392   16049    2988274    8683649  \n",
              "6     252662   1381273    68127    41814   33616    5937633   15386372  \n",
              "7     474561    218191     5439    31657    2252    2640312    9423804  \n",
              "8      90644   1046529   231141    49733   13104    7645804   21007358  \n",
              "9      46225     20182    17656   132707    2875    1938107   46298158  \n",
              "10    170366     79009        0     5132    2603    1588755    2918758  \n",
              "11     24165   2367150  1020610     4984    1626   25983456   31609850  \n",
              "12   1124564    612898    54225   360778   32538   12582298   24515313  \n",
              "13     42399     72132   481592    14670   31932   24623269   33562076  \n",
              "14    420005    859741    70980    16175   99003   14466179   22799647  \n",
              "15         0       773      532     1743     743    1620486    5013545  \n",
              "16  10953811   2526658    33766    53804   19725   39234334   50180209  \n",
              "17   4103832    603349    82496   513501   46038   16744435   24843494  \n",
              "18  47655808  17790147  4311878  3396006  559909  269664491  491193571  \n",
              "\n",
              "[19 rows x 28 columns]"
            ]
          },
          "metadata": {
            "tags": []
          },
          "execution_count": 11
        }
      ]
    },
    {
      "metadata": {
        "id": "deW-od83A9wG",
        "colab_type": "code",
        "outputId": "2894bb2d-76e5-425e-91a8-d4a07ea568df",
        "colab": {
          "base_uri": "https://localhost:8080/",
          "height": 121
        }
      },
      "cell_type": "code",
      "source": [
        "power_data.columns"
      ],
      "execution_count": 12,
      "outputs": [
        {
          "output_type": "execute_result",
          "data": {
            "text/plain": [
              "Index(['구분', '주거용', '공공용', '서비스업', '업무용합계', '농림어업', '광업', '제조업', '식료품제조',\n",
              "       '섬유,의류', '목재,나무', '펄프,종이', '출판,인쇄', '석유,화확', '의료,광학', '요업', '1차금속',\n",
              "       '조립금속', '기타기계', '사무기기', '전기기기', '영상,음향', '자동차', '기타운송', '가구및기타', '재생재료',\n",
              "       '산업용합계', '합계'],\n",
              "      dtype='object')"
            ]
          },
          "metadata": {
            "tags": []
          },
          "execution_count": 12
        }
      ]
    },
    {
      "metadata": {
        "id": "pWrcjQu1A9wJ",
        "colab_type": "code",
        "colab": {}
      },
      "cell_type": "code",
      "source": [
        "power = power_data.set_index('구분')"
      ],
      "execution_count": 0,
      "outputs": []
    },
    {
      "metadata": {
        "id": "xkpfzfRWA9wM",
        "colab_type": "code",
        "colab": {}
      },
      "cell_type": "code",
      "source": [
        "power = power.drop(['합계', '개성'], errors='ignore')"
      ],
      "execution_count": 0,
      "outputs": []
    },
    {
      "metadata": {
        "id": "BBSRbE6pA9wO",
        "colab_type": "code",
        "outputId": "2fae9983-73c7-423d-8b1d-c78e4a6a98ff",
        "colab": {}
      },
      "cell_type": "code",
      "source": [
        "power.info()"
      ],
      "execution_count": 0,
      "outputs": [
        {
          "output_type": "stream",
          "text": [
            "<class 'pandas.core.frame.DataFrame'>\n",
            "Index: 17 entries, 강원 to 충북\n",
            "Data columns (total 27 columns):\n",
            "주거용      17 non-null int64\n",
            "공공용      17 non-null int64\n",
            "서비스업     17 non-null int64\n",
            "업무용합계    17 non-null int64\n",
            "농림어업     17 non-null int64\n",
            "광업       17 non-null int64\n",
            "제조업      17 non-null int64\n",
            "식료품제조    17 non-null int64\n",
            "섬유,의류    17 non-null int64\n",
            "목재,나무    17 non-null int64\n",
            "펄프,종이    17 non-null int64\n",
            "출판,인쇄    17 non-null int64\n",
            "석유,화확    17 non-null int64\n",
            "의료,광학    17 non-null int64\n",
            "요업       17 non-null int64\n",
            "1차금속     17 non-null int64\n",
            "조립금속     17 non-null int64\n",
            "기타기계     17 non-null int64\n",
            "사무기기     17 non-null int64\n",
            "전기기기     17 non-null int64\n",
            "영상,음향    17 non-null int64\n",
            "자동차      17 non-null int64\n",
            "기타운송     17 non-null int64\n",
            "가구및기타    17 non-null int64\n",
            "재생재료     17 non-null int64\n",
            "산업용합계    17 non-null int64\n",
            "합계       17 non-null int64\n",
            "dtypes: int64(27)\n",
            "memory usage: 3.7+ KB\n"
          ],
          "name": "stdout"
        }
      ]
    },
    {
      "metadata": {
        "id": "XyaalKuUA9wU",
        "colab_type": "text"
      },
      "cell_type": "markdown",
      "source": [
        "데이터 특성 보기\n",
        "--\n",
        "- boxplot\n",
        "- barplot\n",
        "- histogram"
      ]
    },
    {
      "metadata": {
        "id": "9l2WO-9wA9wV",
        "colab_type": "text"
      },
      "cell_type": "markdown",
      "source": [
        "박스플롯\n",
        "--"
      ]
    },
    {
      "metadata": {
        "id": "33rxpSy5A9wW",
        "colab_type": "text"
      },
      "cell_type": "markdown",
      "source": [
        "한글 폰트 설정 (맥, 윈도우, 리눅스)\n",
        "--"
      ]
    },
    {
      "metadata": {
        "id": "8Z-WKofgA9wX",
        "colab_type": "code",
        "colab": {}
      },
      "cell_type": "code",
      "source": [
        "# 운영 체제마다 한글이 보이게 하는 설정\n",
        "# 윈도우\n",
        "from matplotlib import font_manager, rc\n",
        "import platform\n",
        "if platform.system() == 'Windows':\n",
        "    path = \"c:\\Windows\\Fonts\\malgun.ttf\"\n",
        "    font_name = font_manager.FontProperties(fname=path).get_name()\n",
        "    rc('font', family=font_name)\n",
        "# 맥\n",
        "elif platform.system() == 'Darwin':\n",
        "    rc('font', family='AppleGothic')\n",
        "# 리눅스\n",
        "elif platform.system() == 'Linux':\n",
        "    rc('font', family='NanumBarunGothic')\n",
        "else:\n",
        "    print('system error...')"
      ],
      "execution_count": 0,
      "outputs": []
    },
    {
      "metadata": {
        "id": "IOorDxqTA9wZ",
        "colab_type": "code",
        "outputId": "90b626e2-72a2-4016-c08a-0066cc059276",
        "colab": {}
      },
      "cell_type": "code",
      "source": [
        "power.describe()"
      ],
      "execution_count": 0,
      "outputs": [
        {
          "output_type": "execute_result",
          "data": {
            "text/html": [
              "<div>\n",
              "<style scoped>\n",
              "    .dataframe tbody tr th:only-of-type {\n",
              "        vertical-align: middle;\n",
              "    }\n",
              "\n",
              "    .dataframe tbody tr th {\n",
              "        vertical-align: top;\n",
              "    }\n",
              "\n",
              "    .dataframe thead th {\n",
              "        text-align: right;\n",
              "    }\n",
              "</style>\n",
              "<table border=\"1\" class=\"dataframe\">\n",
              "  <thead>\n",
              "    <tr style=\"text-align: right;\">\n",
              "      <th></th>\n",
              "      <th>주거용</th>\n",
              "      <th>공공용</th>\n",
              "      <th>서비스업</th>\n",
              "      <th>업무용합계</th>\n",
              "      <th>농림어업</th>\n",
              "      <th>광업</th>\n",
              "      <th>제조업</th>\n",
              "      <th>식료품제조</th>\n",
              "      <th>섬유,의류</th>\n",
              "      <th>목재,나무</th>\n",
              "      <th>...</th>\n",
              "      <th>기타기계</th>\n",
              "      <th>사무기기</th>\n",
              "      <th>전기기기</th>\n",
              "      <th>영상,음향</th>\n",
              "      <th>자동차</th>\n",
              "      <th>기타운송</th>\n",
              "      <th>가구및기타</th>\n",
              "      <th>재생재료</th>\n",
              "      <th>산업용합계</th>\n",
              "      <th>합계</th>\n",
              "    </tr>\n",
              "  </thead>\n",
              "  <tbody>\n",
              "    <tr>\n",
              "      <th>count</th>\n",
              "      <td>1.700000e+01</td>\n",
              "      <td>1.700000e+01</td>\n",
              "      <td>1.700000e+01</td>\n",
              "      <td>1.700000e+01</td>\n",
              "      <td>1.700000e+01</td>\n",
              "      <td>17.000000</td>\n",
              "      <td>1.700000e+01</td>\n",
              "      <td>1.700000e+01</td>\n",
              "      <td>1.700000e+01</td>\n",
              "      <td>17.000000</td>\n",
              "      <td>...</td>\n",
              "      <td>1.700000e+01</td>\n",
              "      <td>17.000000</td>\n",
              "      <td>1.700000e+01</td>\n",
              "      <td>1.700000e+01</td>\n",
              "      <td>1.700000e+01</td>\n",
              "      <td>1.700000e+01</td>\n",
              "      <td>1.700000e+01</td>\n",
              "      <td>17.000000</td>\n",
              "      <td>1.700000e+01</td>\n",
              "      <td>1.700000e+01</td>\n",
              "    </tr>\n",
              "    <tr>\n",
              "      <th>mean</th>\n",
              "      <td>3.912786e+06</td>\n",
              "      <td>1.388502e+06</td>\n",
              "      <td>8.291312e+06</td>\n",
              "      <td>9.679813e+06</td>\n",
              "      <td>9.400665e+05</td>\n",
              "      <td>102720.176471</td>\n",
              "      <td>1.523205e+07</td>\n",
              "      <td>6.636738e+05</td>\n",
              "      <td>6.623886e+05</td>\n",
              "      <td>113237.000000</td>\n",
              "      <td>...</td>\n",
              "      <td>6.199825e+05</td>\n",
              "      <td>28781.235294</td>\n",
              "      <td>3.412887e+05</td>\n",
              "      <td>2.805870e+06</td>\n",
              "      <td>1.053153e+06</td>\n",
              "      <td>2.600299e+05</td>\n",
              "      <td>2.005222e+05</td>\n",
              "      <td>33137.000000</td>\n",
              "      <td>1.627484e+07</td>\n",
              "      <td>2.986743e+07</td>\n",
              "    </tr>\n",
              "    <tr>\n",
              "      <th>std</th>\n",
              "      <td>4.310227e+06</td>\n",
              "      <td>1.298531e+06</td>\n",
              "      <td>8.708909e+06</td>\n",
              "      <td>9.981623e+06</td>\n",
              "      <td>1.010972e+06</td>\n",
              "      <td>122502.337918</td>\n",
              "      <td>1.524290e+07</td>\n",
              "      <td>6.333206e+05</td>\n",
              "      <td>9.612365e+05</td>\n",
              "      <td>192034.155445</td>\n",
              "      <td>...</td>\n",
              "      <td>9.142491e+05</td>\n",
              "      <td>75569.163261</td>\n",
              "      <td>3.788489e+05</td>\n",
              "      <td>6.246070e+06</td>\n",
              "      <td>1.031256e+06</td>\n",
              "      <td>5.260199e+05</td>\n",
              "      <td>4.450945e+05</td>\n",
              "      <td>38105.462924</td>\n",
              "      <td>1.598920e+07</td>\n",
              "      <td>2.618055e+07</td>\n",
              "    </tr>\n",
              "    <tr>\n",
              "      <th>min</th>\n",
              "      <td>3.849030e+05</td>\n",
              "      <td>2.996750e+05</td>\n",
              "      <td>6.454240e+05</td>\n",
              "      <td>9.450990e+05</td>\n",
              "      <td>1.515000e+04</td>\n",
              "      <td>2898.000000</td>\n",
              "      <td>2.415370e+05</td>\n",
              "      <td>1.102110e+05</td>\n",
              "      <td>3.497000e+03</td>\n",
              "      <td>1324.000000</td>\n",
              "      <td>...</td>\n",
              "      <td>1.167000e+03</td>\n",
              "      <td>0.000000</td>\n",
              "      <td>7.710000e+02</td>\n",
              "      <td>0.000000e+00</td>\n",
              "      <td>7.730000e+02</td>\n",
              "      <td>0.000000e+00</td>\n",
              "      <td>1.743000e+03</td>\n",
              "      <td>743.000000</td>\n",
              "      <td>1.588755e+06</td>\n",
              "      <td>2.918758e+06</td>\n",
              "    </tr>\n",
              "    <tr>\n",
              "      <th>25%</th>\n",
              "      <td>1.940933e+06</td>\n",
              "      <td>8.263960e+05</td>\n",
              "      <td>3.955921e+06</td>\n",
              "      <td>4.910602e+06</td>\n",
              "      <td>7.460800e+04</td>\n",
              "      <td>14019.000000</td>\n",
              "      <td>2.910768e+06</td>\n",
              "      <td>2.041710e+05</td>\n",
              "      <td>7.589500e+04</td>\n",
              "      <td>6782.000000</td>\n",
              "      <td>...</td>\n",
              "      <td>7.797000e+04</td>\n",
              "      <td>4395.000000</td>\n",
              "      <td>8.360900e+04</td>\n",
              "      <td>4.622500e+04</td>\n",
              "      <td>1.134480e+05</td>\n",
              "      <td>1.765600e+04</td>\n",
              "      <td>1.339200e+04</td>\n",
              "      <td>2875.000000</td>\n",
              "      <td>2.988274e+06</td>\n",
              "      <td>1.538637e+07</td>\n",
              "    </tr>\n",
              "    <tr>\n",
              "      <th>50%</th>\n",
              "      <td>2.326183e+06</td>\n",
              "      <td>1.089613e+06</td>\n",
              "      <td>5.690659e+06</td>\n",
              "      <td>6.654683e+06</td>\n",
              "      <td>6.071390e+05</td>\n",
              "      <td>71529.000000</td>\n",
              "      <td>1.236782e+07</td>\n",
              "      <td>5.329430e+05</td>\n",
              "      <td>3.338460e+05</td>\n",
              "      <td>27998.000000</td>\n",
              "      <td>...</td>\n",
              "      <td>1.988470e+05</td>\n",
              "      <td>7240.000000</td>\n",
              "      <td>1.785020e+05</td>\n",
              "      <td>4.200050e+05</td>\n",
              "      <td>6.128980e+05</td>\n",
              "      <td>6.812700e+04</td>\n",
              "      <td>4.181400e+04</td>\n",
              "      <td>19725.000000</td>\n",
              "      <td>1.258230e+07</td>\n",
              "      <td>2.451531e+07</td>\n",
              "    </tr>\n",
              "    <tr>\n",
              "      <th>75%</th>\n",
              "      <td>3.856852e+06</td>\n",
              "      <td>1.400421e+06</td>\n",
              "      <td>7.582169e+06</td>\n",
              "      <td>8.888045e+06</td>\n",
              "      <td>1.747462e+06</td>\n",
              "      <td>139856.000000</td>\n",
              "      <td>2.145393e+07</td>\n",
              "      <td>9.327430e+05</td>\n",
              "      <td>7.316510e+05</td>\n",
              "      <td>72680.000000</td>\n",
              "      <td>...</td>\n",
              "      <td>7.825700e+05</td>\n",
              "      <td>14319.000000</td>\n",
              "      <td>4.289060e+05</td>\n",
              "      <td>1.124564e+06</td>\n",
              "      <td>2.156059e+06</td>\n",
              "      <td>1.239350e+05</td>\n",
              "      <td>1.327070e+05</td>\n",
              "      <td>46038.000000</td>\n",
              "      <td>2.462327e+07</td>\n",
              "      <td>3.464786e+07</td>\n",
              "    </tr>\n",
              "    <tr>\n",
              "      <th>max</th>\n",
              "      <td>1.658771e+07</td>\n",
              "      <td>5.533662e+06</td>\n",
              "      <td>3.343455e+07</td>\n",
              "      <td>3.896821e+07</td>\n",
              "      <td>3.096126e+06</td>\n",
              "      <td>398287.000000</td>\n",
              "      <td>5.660333e+07</td>\n",
              "      <td>2.544420e+06</td>\n",
              "      <td>3.780171e+06</td>\n",
              "      <td>639429.000000</td>\n",
              "      <td>...</td>\n",
              "      <td>3.613798e+06</td>\n",
              "      <td>317244.000000</td>\n",
              "      <td>1.125141e+06</td>\n",
              "      <td>2.451964e+07</td>\n",
              "      <td>2.977165e+06</td>\n",
              "      <td>2.048646e+06</td>\n",
              "      <td>1.833112e+06</td>\n",
              "      <td>133041.000000</td>\n",
              "      <td>5.929194e+07</td>\n",
              "      <td>1.148479e+08</td>\n",
              "    </tr>\n",
              "  </tbody>\n",
              "</table>\n",
              "<p>8 rows × 27 columns</p>\n",
              "</div>"
            ],
            "text/plain": [
              "                주거용           공공용          서비스업         업무용합계          농림어업  \\\n",
              "count  1.700000e+01  1.700000e+01  1.700000e+01  1.700000e+01  1.700000e+01   \n",
              "mean   3.912786e+06  1.388502e+06  8.291312e+06  9.679813e+06  9.400665e+05   \n",
              "std    4.310227e+06  1.298531e+06  8.708909e+06  9.981623e+06  1.010972e+06   \n",
              "min    3.849030e+05  2.996750e+05  6.454240e+05  9.450990e+05  1.515000e+04   \n",
              "25%    1.940933e+06  8.263960e+05  3.955921e+06  4.910602e+06  7.460800e+04   \n",
              "50%    2.326183e+06  1.089613e+06  5.690659e+06  6.654683e+06  6.071390e+05   \n",
              "75%    3.856852e+06  1.400421e+06  7.582169e+06  8.888045e+06  1.747462e+06   \n",
              "max    1.658771e+07  5.533662e+06  3.343455e+07  3.896821e+07  3.096126e+06   \n",
              "\n",
              "                  광업           제조업         식료품제조         섬유,의류          목재,나무  \\\n",
              "count      17.000000  1.700000e+01  1.700000e+01  1.700000e+01      17.000000   \n",
              "mean   102720.176471  1.523205e+07  6.636738e+05  6.623886e+05  113237.000000   \n",
              "std    122502.337918  1.524290e+07  6.333206e+05  9.612365e+05  192034.155445   \n",
              "min      2898.000000  2.415370e+05  1.102110e+05  3.497000e+03    1324.000000   \n",
              "25%     14019.000000  2.910768e+06  2.041710e+05  7.589500e+04    6782.000000   \n",
              "50%     71529.000000  1.236782e+07  5.329430e+05  3.338460e+05   27998.000000   \n",
              "75%    139856.000000  2.145393e+07  9.327430e+05  7.316510e+05   72680.000000   \n",
              "max    398287.000000  5.660333e+07  2.544420e+06  3.780171e+06  639429.000000   \n",
              "\n",
              "           ...               기타기계           사무기기          전기기기         영상,음향  \\\n",
              "count      ...       1.700000e+01      17.000000  1.700000e+01  1.700000e+01   \n",
              "mean       ...       6.199825e+05   28781.235294  3.412887e+05  2.805870e+06   \n",
              "std        ...       9.142491e+05   75569.163261  3.788489e+05  6.246070e+06   \n",
              "min        ...       1.167000e+03       0.000000  7.710000e+02  0.000000e+00   \n",
              "25%        ...       7.797000e+04    4395.000000  8.360900e+04  4.622500e+04   \n",
              "50%        ...       1.988470e+05    7240.000000  1.785020e+05  4.200050e+05   \n",
              "75%        ...       7.825700e+05   14319.000000  4.289060e+05  1.124564e+06   \n",
              "max        ...       3.613798e+06  317244.000000  1.125141e+06  2.451964e+07   \n",
              "\n",
              "                자동차          기타운송         가구및기타           재생재료         산업용합계  \\\n",
              "count  1.700000e+01  1.700000e+01  1.700000e+01      17.000000  1.700000e+01   \n",
              "mean   1.053153e+06  2.600299e+05  2.005222e+05   33137.000000  1.627484e+07   \n",
              "std    1.031256e+06  5.260199e+05  4.450945e+05   38105.462924  1.598920e+07   \n",
              "min    7.730000e+02  0.000000e+00  1.743000e+03     743.000000  1.588755e+06   \n",
              "25%    1.134480e+05  1.765600e+04  1.339200e+04    2875.000000  2.988274e+06   \n",
              "50%    6.128980e+05  6.812700e+04  4.181400e+04   19725.000000  1.258230e+07   \n",
              "75%    2.156059e+06  1.239350e+05  1.327070e+05   46038.000000  2.462327e+07   \n",
              "max    2.977165e+06  2.048646e+06  1.833112e+06  133041.000000  5.929194e+07   \n",
              "\n",
              "                 합계  \n",
              "count  1.700000e+01  \n",
              "mean   2.986743e+07  \n",
              "std    2.618055e+07  \n",
              "min    2.918758e+06  \n",
              "25%    1.538637e+07  \n",
              "50%    2.451531e+07  \n",
              "75%    3.464786e+07  \n",
              "max    1.148479e+08  \n",
              "\n",
              "[8 rows x 27 columns]"
            ]
          },
          "metadata": {
            "tags": []
          },
          "execution_count": 12
        }
      ]
    },
    {
      "metadata": {
        "scrolled": false,
        "id": "pIvhsrUtA9wc",
        "colab_type": "code",
        "outputId": "5cdb3874-a582-40ca-d657-ddf42888d434",
        "colab": {
          "base_uri": "https://localhost:8080/",
          "height": 591
        }
      },
      "cell_type": "code",
      "source": [
        "power.drop('합계', axis=1).boxplot(figsize=(12,8))\n",
        "plt.xticks(rotation=45)"
      ],
      "execution_count": 65,
      "outputs": [
        {
          "output_type": "execute_result",
          "data": {
            "text/plain": [
              "(array([ 1,  2,  3,  4,  5,  6,  7,  8,  9, 10, 11, 12, 13, 14, 15, 16, 17,\n",
              "        18, 19, 20, 21, 22, 23, 24, 25, 26]),\n",
              " <a list of 26 Text xticklabel objects>)"
            ]
          },
          "metadata": {
            "tags": []
          },
          "execution_count": 65
        },
        {
          "output_type": "display_data",
          "data": {
            "image/png": "[encoded data removed]",
            "text/plain": [
              "<Figure size 864x576 with 1 Axes>"
            ]
          },
          "metadata": {
            "tags": []
          }
        }
      ]
    },
    {
      "metadata": {
        "id": "nSNmtdA5A9wg",
        "colab_type": "code",
        "outputId": "677c1445-fcd0-490a-8de5-50c9c3bb5182",
        "colab": {}
      },
      "cell_type": "code",
      "source": [
        "power[['서비스업','제조업']].boxplot(figsize=(10,6))"
      ],
      "execution_count": 0,
      "outputs": [
        {
          "output_type": "execute_result",
          "data": {
            "text/plain": [
              "<matplotlib.axes._subplots.AxesSubplot at 0x1a10727c18>"
            ]
          },
          "metadata": {
            "tags": []
          },
          "execution_count": 146
        },
        {
          "output_type": "display_data",
          "data": {
            "image/png": "[encoded data removed]",
            "text/plain": [
              "<Figure size 720x432 with 1 Axes>"
            ]
          },
          "metadata": {
            "tags": [],
            "needs_background": "light"
          }
        }
      ]
    },
    {
      "metadata": {
        "id": "8B7CYxu0A9wl",
        "colab_type": "text"
      },
      "cell_type": "markdown",
      "source": [
        "바 플롯 (수평형)\n",
        "--"
      ]
    },
    {
      "metadata": {
        "id": "PWzdT5nuA9wm",
        "colab_type": "code",
        "colab": {}
      },
      "cell_type": "code",
      "source": [
        "power = power.drop('합계', axis=1)"
      ],
      "execution_count": 0,
      "outputs": []
    },
    {
      "metadata": {
        "scrolled": true,
        "id": "X0u99HX5A9wq",
        "colab_type": "code",
        "outputId": "a6c97ccc-ee35-4b82-be25-fe8e832bf9bf",
        "colab": {}
      },
      "cell_type": "code",
      "source": [
        "power.plot(kind='barh', figsize=(12,8), stacked=True)"
      ],
      "execution_count": 0,
      "outputs": [
        {
          "output_type": "execute_result",
          "data": {
            "text/plain": [
              "<matplotlib.axes._subplots.AxesSubplot at 0x1a108ff320>"
            ]
          },
          "metadata": {
            "tags": []
          },
          "execution_count": 148
        },
        {
          "output_type": "display_data",
          "data": {
            "image/png": "[encoded data removed]",
            "text/plain": [
              "<Figure size 864x576 with 1 Axes>"
            ]
          },
          "metadata": {
            "tags": [],
            "needs_background": "light"
          }
        }
      ]
    },
    {
      "metadata": {
        "id": "j3Djhsd3A9ww",
        "colab_type": "code",
        "colab": {}
      },
      "cell_type": "code",
      "source": [
        "power = power.drop(['합계', '개성'], errors='ignore')"
      ],
      "execution_count": 0,
      "outputs": []
    },
    {
      "metadata": {
        "id": "PD52XJy2A9wz",
        "colab_type": "code",
        "outputId": "0f3445d3-ee69-4ab3-cac6-ea838bd5b896",
        "colab": {}
      },
      "cell_type": "code",
      "source": [
        "power.plot(kind='barh', figsize=(10,6), stacked=True)"
      ],
      "execution_count": 0,
      "outputs": [
        {
          "output_type": "execute_result",
          "data": {
            "text/plain": [
              "<matplotlib.axes._subplots.AxesSubplot at 0x1a10ab0a20>"
            ]
          },
          "metadata": {
            "tags": []
          },
          "execution_count": 150
        },
        {
          "output_type": "display_data",
          "data": {
            "image/png": "[encoded data removed]",
            "text/plain": [
              "<Figure size 720x432 with 1 Axes>"
            ]
          },
          "metadata": {
            "tags": [],
            "needs_background": "light"
          }
        }
      ]
    },
    {
      "metadata": {
        "id": "-L5Sx0_hA9w2",
        "colab_type": "code",
        "outputId": "3fdd9fb4-4b25-4c9c-b83c-523be7e8d192",
        "colab": {}
      },
      "cell_type": "code",
      "source": [
        "sample = ['주거용', '공공용', '서비스업', '농림어업', '제조업']\n",
        "power[sample].plot(kind='barh', figsize=(12,8), stacked=True)"
      ],
      "execution_count": 0,
      "outputs": [
        {
          "output_type": "execute_result",
          "data": {
            "text/plain": [
              "<matplotlib.axes._subplots.AxesSubplot at 0x1a111c6780>"
            ]
          },
          "metadata": {
            "tags": []
          },
          "execution_count": 151
        },
        {
          "output_type": "display_data",
          "data": {
            "image/png": "[encoded data removed]",
            "text/plain": [
              "<Figure size 864x576 with 1 Axes>"
            ]
          },
          "metadata": {
            "tags": [],
            "needs_background": "light"
          }
        }
      ]
    },
    {
      "metadata": {
        "id": "3iqT_eLqA9w5",
        "colab_type": "code",
        "outputId": "a8dfe3f4-6f7f-4f53-830d-7a360a4e283c",
        "colab": {}
      },
      "cell_type": "code",
      "source": [
        "see2 = [ '서비스업','제조업']\n",
        "power[see2].plot(kind='barh', figsize=(10,6), stacked=True)"
      ],
      "execution_count": 0,
      "outputs": [
        {
          "output_type": "execute_result",
          "data": {
            "text/plain": [
              "<matplotlib.axes._subplots.AxesSubplot at 0x1a1130ce80>"
            ]
          },
          "metadata": {
            "tags": []
          },
          "execution_count": 152
        },
        {
          "output_type": "display_data",
          "data": {
            "image/png": "[encoded data removed]",
            "text/plain": [
              "<Figure size 720x432 with 1 Axes>"
            ]
          },
          "metadata": {
            "tags": [],
            "needs_background": "light"
          }
        }
      ]
    },
    {
      "metadata": {
        "scrolled": false,
        "id": "IGkzLLHgA9w-",
        "colab_type": "code",
        "outputId": "63f55a4e-9f0b-4624-bd5b-c3569ebe4447",
        "colab": {
          "base_uri": "https://localhost:8080/",
          "height": 225
        }
      },
      "cell_type": "code",
      "source": [
        "power = power[['서비스업', '제조업']]\n",
        "power.head(5)"
      ],
      "execution_count": 68,
      "outputs": [
        {
          "output_type": "execute_result",
          "data": {
            "text/html": [
              "<div>\n",
              "<style scoped>\n",
              "    .dataframe tbody tr th:only-of-type {\n",
              "        vertical-align: middle;\n",
              "    }\n",
              "\n",
              "    .dataframe tbody tr th {\n",
              "        vertical-align: top;\n",
              "    }\n",
              "\n",
              "    .dataframe thead th {\n",
              "        text-align: right;\n",
              "    }\n",
              "</style>\n",
              "<table border=\"1\" class=\"dataframe\">\n",
              "  <thead>\n",
              "    <tr style=\"text-align: right;\">\n",
              "      <th></th>\n",
              "      <th>서비스업</th>\n",
              "      <th>제조업</th>\n",
              "    </tr>\n",
              "    <tr>\n",
              "      <th>구분</th>\n",
              "      <th></th>\n",
              "      <th></th>\n",
              "    </tr>\n",
              "  </thead>\n",
              "  <tbody>\n",
              "    <tr>\n",
              "      <th>강원</th>\n",
              "      <td>6203749</td>\n",
              "      <td>6002286</td>\n",
              "    </tr>\n",
              "    <tr>\n",
              "      <th>경기</th>\n",
              "      <td>33434551</td>\n",
              "      <td>56603327</td>\n",
              "    </tr>\n",
              "    <tr>\n",
              "      <th>경남</th>\n",
              "      <td>8667737</td>\n",
              "      <td>18053778</td>\n",
              "    </tr>\n",
              "    <tr>\n",
              "      <th>경북</th>\n",
              "      <td>8487402</td>\n",
              "      <td>30115601</td>\n",
              "    </tr>\n",
              "    <tr>\n",
              "      <th>광주</th>\n",
              "      <td>3174973</td>\n",
              "      <td>2910768</td>\n",
              "    </tr>\n",
              "  </tbody>\n",
              "</table>\n",
              "</div>"
            ],
            "text/plain": [
              "        서비스업       제조업\n",
              "구분                    \n",
              "강원   6203749   6002286\n",
              "경기  33434551  56603327\n",
              "경남   8667737  18053778\n",
              "경북   8487402  30115601\n",
              "광주   3174973   2910768"
            ]
          },
          "metadata": {
            "tags": []
          },
          "execution_count": 68
        }
      ]
    },
    {
      "metadata": {
        "id": "uTjAQX_sA9xB",
        "colab_type": "text"
      },
      "cell_type": "markdown",
      "source": [
        "히스토그램\n",
        "--"
      ]
    },
    {
      "metadata": {
        "id": "tVVXmT2lA9xC",
        "colab_type": "code",
        "outputId": "af586a30-0493-44dc-bb13-890cda6ca490",
        "colab": {}
      },
      "cell_type": "code",
      "source": [
        "power['서비스업'].hist()"
      ],
      "execution_count": 0,
      "outputs": [
        {
          "output_type": "execute_result",
          "data": {
            "text/plain": [
              "<matplotlib.axes._subplots.AxesSubplot at 0x1a112c5978>"
            ]
          },
          "metadata": {
            "tags": []
          },
          "execution_count": 154
        },
        {
          "output_type": "display_data",
          "data": {
            "image/png": "[encoded data removed]",
            "text/plain": [
              "<Figure size 432x288 with 1 Axes>"
            ]
          },
          "metadata": {
            "tags": [],
            "needs_background": "light"
          }
        }
      ]
    },
    {
      "metadata": {
        "id": "I_kRMakKA9xG",
        "colab_type": "text"
      },
      "cell_type": "markdown",
      "source": [
        "스캐터 플롯\n",
        "--"
      ]
    },
    {
      "metadata": {
        "id": "nZDfBMDqA9xH",
        "colab_type": "code",
        "outputId": "01a30bb9-fc19-4c0e-e430-77fa71c392c4",
        "colab": {}
      },
      "cell_type": "code",
      "source": [
        "print(power.shape)"
      ],
      "execution_count": 0,
      "outputs": [
        {
          "output_type": "stream",
          "text": [
            "(17, 2)\n"
          ],
          "name": "stdout"
        }
      ]
    },
    {
      "metadata": {
        "id": "6vQxxLt8A9xK",
        "colab_type": "code",
        "outputId": "addb6272-e443-4a48-e62e-98ab7563263e",
        "colab": {
          "base_uri": "https://localhost:8080/",
          "height": 34
        }
      },
      "cell_type": "code",
      "source": [
        "n_samples = power.shape[0]\n",
        "n_samples"
      ],
      "execution_count": 17,
      "outputs": [
        {
          "output_type": "execute_result",
          "data": {
            "text/plain": [
              "17"
            ]
          },
          "metadata": {
            "tags": []
          },
          "execution_count": 17
        }
      ]
    },
    {
      "metadata": {
        "id": "e82tUmzsA9xN",
        "colab_type": "code",
        "outputId": "e4a6e6a7-e09f-43c4-d3cb-e33cfb4fee99",
        "colab": {}
      },
      "cell_type": "code",
      "source": [
        "print(n_samples)"
      ],
      "execution_count": 0,
      "outputs": [
        {
          "output_type": "stream",
          "text": [
            "17\n"
          ],
          "name": "stdout"
        }
      ]
    },
    {
      "metadata": {
        "scrolled": true,
        "id": "XqzGK77kA9xQ",
        "colab_type": "code",
        "outputId": "1583ac26-905d-4712-85ba-e0da49e4c175",
        "colab": {
          "base_uri": "https://localhost:8080/",
          "height": 526
        }
      },
      "cell_type": "code",
      "source": [
        "plt.figure(figsize=(8,8))\n",
        "plt.scatter(power['서비스업'], power['제조업'])\n",
        "plt.xlabel('서비스업')\n",
        "plt.ylabel('제조업')"
      ],
      "execution_count": 18,
      "outputs": [
        {
          "output_type": "execute_result",
          "data": {
            "text/plain": [
              "Text(0, 0.5, '제조업')"
            ]
          },
          "metadata": {
            "tags": []
          },
          "execution_count": 18
        },
        {
          "output_type": "display_data",
          "data": {
            "image/png": "[encoded data removed]",
            "text/plain": [
              "<Figure size 576x576 with 1 Axes>"
            ]
          },
          "metadata": {
            "tags": []
          }
        }
      ]
    },
    {
      "metadata": {
        "id": "Cb2ljN0XA9xU",
        "colab_type": "code",
        "outputId": "db42ab1f-a1f8-432d-c974-62bd226179bb",
        "colab": {
          "base_uri": "https://localhost:8080/",
          "height": 509
        }
      },
      "cell_type": "code",
      "source": [
        "plt.figure(figsize=(8,8))\n",
        "plt.scatter(power['서비스업'], power['제조업'],c='k',marker='o')\n",
        "plt.xlabel('서비스업')\n",
        "plt.ylabel('제조업')\n",
        "\n",
        "for n in range(power.shape[0]):\n",
        "    plt.text(power['서비스업'][n]*1.03, power['제조업'][n]*0.98, power.index[n])"
      ],
      "execution_count": 19,
      "outputs": [
        {
          "output_type": "display_data",
          "data": {
            "image/png": "[encoded data removed]",
            "text/plain": [
              "<Figure size 576x576 with 1 Axes>"
            ]
          },
          "metadata": {
            "tags": []
          }
        }
      ]
    },
    {
      "metadata": {
        "id": "m1N8GsKRA9xY",
        "colab_type": "code",
        "colab": {}
      },
      "cell_type": "code",
      "source": [
        "power = power.drop(['경기', '서울'])"
      ],
      "execution_count": 0,
      "outputs": []
    },
    {
      "metadata": {
        "id": "MnPEgjMyA9xf",
        "colab_type": "code",
        "outputId": "80be27ff-b073-40dd-a21a-9898222f212b",
        "colab": {
          "base_uri": "https://localhost:8080/",
          "height": 509
        }
      },
      "cell_type": "code",
      "source": [
        "plt.figure(figsize=(8,8))\n",
        "plt.scatter(power['서비스업'], power['제조업'],c='k',marker='o')\n",
        "plt.xlabel('서비스업')\n",
        "plt.ylabel('제조업')\n",
        "\n",
        "for n in range(power.shape[0]):\n",
        "    plt.text(power['서비스업'][n]*1.03, power['제조업'][n]*0.98, power.index[n])"
      ],
      "execution_count": 70,
      "outputs": [
        {
          "output_type": "display_data",
          "data": {
            "image/png": "[encoded data removed]",
            "text/plain": [
              "<Figure size 576x576 with 1 Axes>"
            ]
          },
          "metadata": {
            "tags": []
          }
        }
      ]
    },
    {
      "metadata": {
        "id": "lzUTPTFj5tY6",
        "colab_type": "code",
        "colab": {
          "base_uri": "https://localhost:8080/",
          "height": 332
        },
        "outputId": "c1f5230c-b3dc-4c32-c87d-9640adb46b9d"
      },
      "cell_type": "code",
      "source": [
        "from scipy.cluster.hierarchy import dendrogram, linkage\n",
        "import matplotlib.pyplot as plt\n",
        "plt.figure(figsize=(10, 5))\n",
        "link_dist = linkage(power, metric='euclidean', method='ward')  \n",
        "dendrogram(link_dist, labels=power.index)\n",
        "plt.show()"
      ],
      "execution_count": 71,
      "outputs": [
        {
          "output_type": "display_data",
          "data": {
            "image/png": "[encoded data removed]",
            "text/plain": [
              "<Figure size 720x360 with 1 Axes>"
            ]
          },
          "metadata": {
            "tags": []
          }
        }
      ]
    },
    {
      "metadata": {
        "id": "-Hfz6T7t5tXM",
        "colab_type": "code",
        "colab": {
          "base_uri": "https://localhost:8080/",
          "height": 34
        },
        "outputId": "f6c8bab4-57b5-4ab6-9817-67d693c516e1"
      },
      "cell_type": "code",
      "source": [
        "from sklearn.cluster import KMeans\n",
        "k = KMeans(n_clusters=6).fit(power)\n",
        "print(k.n_clusters)"
      ],
      "execution_count": 72,
      "outputs": [
        {
          "output_type": "stream",
          "text": [
            "6\n"
          ],
          "name": "stdout"
        }
      ]
    },
    {
      "metadata": {
        "id": "UrRuD0N05tUN",
        "colab_type": "code",
        "colab": {
          "base_uri": "https://localhost:8080/",
          "height": 373
        },
        "outputId": "9e1bb73a-c1d5-4958-f640-ec89cd16d0cb"
      },
      "cell_type": "code",
      "source": [
        "power['클러스터'] = k.labels_\n",
        "power.head(10)"
      ],
      "execution_count": 31,
      "outputs": [
        {
          "output_type": "execute_result",
          "data": {
            "text/html": [
              "<div>\n",
              "<style scoped>\n",
              "    .dataframe tbody tr th:only-of-type {\n",
              "        vertical-align: middle;\n",
              "    }\n",
              "\n",
              "    .dataframe tbody tr th {\n",
              "        vertical-align: top;\n",
              "    }\n",
              "\n",
              "    .dataframe thead th {\n",
              "        text-align: right;\n",
              "    }\n",
              "</style>\n",
              "<table border=\"1\" class=\"dataframe\">\n",
              "  <thead>\n",
              "    <tr style=\"text-align: right;\">\n",
              "      <th></th>\n",
              "      <th>서비스업</th>\n",
              "      <th>제조업</th>\n",
              "      <th>클러스터</th>\n",
              "    </tr>\n",
              "    <tr>\n",
              "      <th>구분</th>\n",
              "      <th></th>\n",
              "      <th></th>\n",
              "      <th></th>\n",
              "    </tr>\n",
              "  </thead>\n",
              "  <tbody>\n",
              "    <tr>\n",
              "      <th>강원</th>\n",
              "      <td>6203749</td>\n",
              "      <td>6002286</td>\n",
              "      <td>0</td>\n",
              "    </tr>\n",
              "    <tr>\n",
              "      <th>경남</th>\n",
              "      <td>8667737</td>\n",
              "      <td>18053778</td>\n",
              "      <td>2</td>\n",
              "    </tr>\n",
              "    <tr>\n",
              "      <th>경북</th>\n",
              "      <td>8487402</td>\n",
              "      <td>30115601</td>\n",
              "      <td>3</td>\n",
              "    </tr>\n",
              "    <tr>\n",
              "      <th>광주</th>\n",
              "      <td>3174973</td>\n",
              "      <td>2910768</td>\n",
              "      <td>0</td>\n",
              "    </tr>\n",
              "    <tr>\n",
              "      <th>대구</th>\n",
              "      <td>5470438</td>\n",
              "      <td>5862633</td>\n",
              "      <td>0</td>\n",
              "    </tr>\n",
              "    <tr>\n",
              "      <th>대전</th>\n",
              "      <td>3955921</td>\n",
              "      <td>2608343</td>\n",
              "      <td>0</td>\n",
              "    </tr>\n",
              "    <tr>\n",
              "      <th>부산</th>\n",
              "      <td>7582169</td>\n",
              "      <td>7512588</td>\n",
              "      <td>0</td>\n",
              "    </tr>\n",
              "    <tr>\n",
              "      <th>세종</th>\n",
              "      <td>645424</td>\n",
              "      <td>1502922</td>\n",
              "      <td>0</td>\n",
              "    </tr>\n",
              "    <tr>\n",
              "      <th>울산</th>\n",
              "      <td>3649386</td>\n",
              "      <td>25883132</td>\n",
              "      <td>1</td>\n",
              "    </tr>\n",
              "    <tr>\n",
              "      <th>인천</th>\n",
              "      <td>7154416</td>\n",
              "      <td>12367816</td>\n",
              "      <td>2</td>\n",
              "    </tr>\n",
              "  </tbody>\n",
              "</table>\n",
              "</div>"
            ],
            "text/plain": [
              "       서비스업       제조업  클러스터\n",
              "구분                         \n",
              "강원  6203749   6002286     0\n",
              "경남  8667737  18053778     2\n",
              "경북  8487402  30115601     3\n",
              "광주  3174973   2910768     0\n",
              "대구  5470438   5862633     0\n",
              "대전  3955921   2608343     0\n",
              "부산  7582169   7512588     0\n",
              "세종   645424   1502922     0\n",
              "울산  3649386  25883132     1\n",
              "인천  7154416  12367816     2"
            ]
          },
          "metadata": {
            "tags": []
          },
          "execution_count": 31
        }
      ]
    },
    {
      "metadata": {
        "id": "ohOwvqNC5tRV",
        "colab_type": "code",
        "colab": {
          "base_uri": "https://localhost:8080/",
          "height": 225
        },
        "outputId": "c2c5215c-e714-49a4-b732-ba801205f16b"
      },
      "cell_type": "code",
      "source": [
        "power.drop('클러스터', axis = 1, inplace=True) ; power.head()"
      ],
      "execution_count": 32,
      "outputs": [
        {
          "output_type": "execute_result",
          "data": {
            "text/html": [
              "<div>\n",
              "<style scoped>\n",
              "    .dataframe tbody tr th:only-of-type {\n",
              "        vertical-align: middle;\n",
              "    }\n",
              "\n",
              "    .dataframe tbody tr th {\n",
              "        vertical-align: top;\n",
              "    }\n",
              "\n",
              "    .dataframe thead th {\n",
              "        text-align: right;\n",
              "    }\n",
              "</style>\n",
              "<table border=\"1\" class=\"dataframe\">\n",
              "  <thead>\n",
              "    <tr style=\"text-align: right;\">\n",
              "      <th></th>\n",
              "      <th>서비스업</th>\n",
              "      <th>제조업</th>\n",
              "    </tr>\n",
              "    <tr>\n",
              "      <th>구분</th>\n",
              "      <th></th>\n",
              "      <th></th>\n",
              "    </tr>\n",
              "  </thead>\n",
              "  <tbody>\n",
              "    <tr>\n",
              "      <th>강원</th>\n",
              "      <td>6203749</td>\n",
              "      <td>6002286</td>\n",
              "    </tr>\n",
              "    <tr>\n",
              "      <th>경남</th>\n",
              "      <td>8667737</td>\n",
              "      <td>18053778</td>\n",
              "    </tr>\n",
              "    <tr>\n",
              "      <th>경북</th>\n",
              "      <td>8487402</td>\n",
              "      <td>30115601</td>\n",
              "    </tr>\n",
              "    <tr>\n",
              "      <th>광주</th>\n",
              "      <td>3174973</td>\n",
              "      <td>2910768</td>\n",
              "    </tr>\n",
              "    <tr>\n",
              "      <th>대구</th>\n",
              "      <td>5470438</td>\n",
              "      <td>5862633</td>\n",
              "    </tr>\n",
              "  </tbody>\n",
              "</table>\n",
              "</div>"
            ],
            "text/plain": [
              "       서비스업       제조업\n",
              "구분                   \n",
              "강원  6203749   6002286\n",
              "경남  8667737  18053778\n",
              "경북  8487402  30115601\n",
              "광주  3174973   2910768\n",
              "대구  5470438   5862633"
            ]
          },
          "metadata": {
            "tags": []
          },
          "execution_count": 32
        }
      ]
    },
    {
      "metadata": {
        "id": "MXYzt5mR5tPH",
        "colab_type": "code",
        "colab": {
          "base_uri": "https://localhost:8080/",
          "height": 118
        },
        "outputId": "732ee790-cb6a-4bd0-ba82-8e64d6b9f562"
      },
      "cell_type": "code",
      "source": [
        "centers = k.cluster_centers_ ; centers"
      ],
      "execution_count": 74,
      "outputs": [
        {
          "output_type": "execute_result",
          "data": {
            "text/plain": [
              "array([[ 2521262.5       ,  1815892.5       ],\n",
              "       [ 6068394.        , 27999366.5       ],\n",
              "       [ 5623124.        , 13739046.33333333],\n",
              "       [ 6418785.33333333,  6459169.        ],\n",
              "       [ 7164439.        , 37057955.        ],\n",
              "       [ 7179198.        , 19753852.        ]])"
            ]
          },
          "metadata": {
            "tags": []
          },
          "execution_count": 74
        }
      ]
    },
    {
      "metadata": {
        "id": "uE7NjVNr5tMJ",
        "colab_type": "code",
        "colab": {
          "base_uri": "https://localhost:8080/",
          "height": 509
        },
        "outputId": "6c44e095-1dfd-4b1e-b77d-9218e7890105"
      },
      "cell_type": "code",
      "source": [
        "my_markers=['*','^', 'o','^','.',',','1','2']\n",
        "my_color =['r','c','g','b','g','k','r','y']\n",
        "\n",
        "plt.figure(figsize=(10, 8))\n",
        "plt.xlabel('서비스업')\n",
        "plt.ylabel('제조업')\n",
        "for n in range(power.shape[0]):\n",
        "    label = k.labels_[n]\n",
        "    plt.scatter(power['서비스업'][n], power['제조업'][n], c=my_color[label], marker=my_markers[label], s=100)\n",
        "    plt.text(power['서비스업'][n]*1.03, power['제조업'][n]*0.98, power.index[n])\n",
        "    \n",
        "for i in range(k.n_clusters):\n",
        "    plt.scatter(centers[i][0], centers[i][1], c = 'r', s= 50)"
      ],
      "execution_count": 75,
      "outputs": [
        {
          "output_type": "display_data",
          "data": {
            "image/png": "[encoded data removed]",
            "text/plain": [
              "<Figure size 720x576 with 1 Axes>"
            ]
          },
          "metadata": {
            "tags": []
          }
        }
      ]
    },
    {
      "metadata": {
        "id": "qUUN3aHP5tJP",
        "colab_type": "code",
        "colab": {
          "base_uri": "https://localhost:8080/",
          "height": 608
        },
        "outputId": "39f2655e-85ea-466a-d386-15033d88709e"
      },
      "cell_type": "code",
      "source": [
        "from sklearn.preprocessing import StandardScaler\n",
        "scaler = StandardScaler()\n",
        "power[['서비스업', '제조업']] = scaler.fit_transform(power[['서비스업', '제조업']])\n",
        "power"
      ],
      "execution_count": 76,
      "outputs": [
        {
          "output_type": "stream",
          "text": [
            "/usr/local/lib/python3.6/dist-packages/sklearn/preprocessing/data.py:645: DataConversionWarning: Data with input dtype int64 were all converted to float64 by StandardScaler.\n",
            "  return self.partial_fit(X, y)\n",
            "/usr/local/lib/python3.6/dist-packages/sklearn/base.py:464: DataConversionWarning: Data with input dtype int64 were all converted to float64 by StandardScaler.\n",
            "  return self.fit(X, **fit_params).transform(X)\n"
          ],
          "name": "stderr"
        },
        {
          "output_type": "execute_result",
          "data": {
            "text/html": [
              "<div>\n",
              "<style scoped>\n",
              "    .dataframe tbody tr th:only-of-type {\n",
              "        vertical-align: middle;\n",
              "    }\n",
              "\n",
              "    .dataframe tbody tr th {\n",
              "        vertical-align: top;\n",
              "    }\n",
              "\n",
              "    .dataframe thead th {\n",
              "        text-align: right;\n",
              "    }\n",
              "</style>\n",
              "<table border=\"1\" class=\"dataframe\">\n",
              "  <thead>\n",
              "    <tr style=\"text-align: right;\">\n",
              "      <th></th>\n",
              "      <th>서비스업</th>\n",
              "      <th>제조업</th>\n",
              "    </tr>\n",
              "    <tr>\n",
              "      <th>구분</th>\n",
              "      <th></th>\n",
              "      <th></th>\n",
              "    </tr>\n",
              "  </thead>\n",
              "  <tbody>\n",
              "    <tr>\n",
              "      <th>강원</th>\n",
              "      <td>0.393992</td>\n",
              "      <td>-0.676282</td>\n",
              "    </tr>\n",
              "    <tr>\n",
              "      <th>경남</th>\n",
              "      <td>1.498349</td>\n",
              "      <td>0.431200</td>\n",
              "    </tr>\n",
              "    <tr>\n",
              "      <th>경북</th>\n",
              "      <td>1.417523</td>\n",
              "      <td>1.539632</td>\n",
              "    </tr>\n",
              "    <tr>\n",
              "      <th>광주</th>\n",
              "      <td>-0.963503</td>\n",
              "      <td>-0.960380</td>\n",
              "    </tr>\n",
              "    <tr>\n",
              "      <th>대구</th>\n",
              "      <td>0.065323</td>\n",
              "      <td>-0.689116</td>\n",
              "    </tr>\n",
              "    <tr>\n",
              "      <th>대전</th>\n",
              "      <td>-0.613482</td>\n",
              "      <td>-0.988171</td>\n",
              "    </tr>\n",
              "    <tr>\n",
              "      <th>부산</th>\n",
              "      <td>1.011798</td>\n",
              "      <td>-0.537491</td>\n",
              "    </tr>\n",
              "    <tr>\n",
              "      <th>세종</th>\n",
              "      <td>-2.097244</td>\n",
              "      <td>-1.089755</td>\n",
              "    </tr>\n",
              "    <tr>\n",
              "      <th>울산</th>\n",
              "      <td>-0.750871</td>\n",
              "      <td>1.150686</td>\n",
              "    </tr>\n",
              "    <tr>\n",
              "      <th>인천</th>\n",
              "      <td>0.820080</td>\n",
              "      <td>-0.091316</td>\n",
              "    </tr>\n",
              "    <tr>\n",
              "      <th>전남</th>\n",
              "      <td>0.164025</td>\n",
              "      <td>0.743660</td>\n",
              "    </tr>\n",
              "    <tr>\n",
              "      <th>전북</th>\n",
              "      <td>-0.185723</td>\n",
              "      <td>-0.036357</td>\n",
              "    </tr>\n",
              "    <tr>\n",
              "      <th>제주</th>\n",
              "      <td>-1.351751</td>\n",
              "      <td>-1.205671</td>\n",
              "    </tr>\n",
              "    <tr>\n",
              "      <th>충남</th>\n",
              "      <td>0.824572</td>\n",
              "      <td>2.177606</td>\n",
              "    </tr>\n",
              "    <tr>\n",
              "      <th>충북</th>\n",
              "      <td>-0.233088</td>\n",
              "      <td>0.231756</td>\n",
              "    </tr>\n",
              "  </tbody>\n",
              "</table>\n",
              "</div>"
            ],
            "text/plain": [
              "        서비스업       제조업\n",
              "구분                    \n",
              "강원  0.393992 -0.676282\n",
              "경남  1.498349  0.431200\n",
              "경북  1.417523  1.539632\n",
              "광주 -0.963503 -0.960380\n",
              "대구  0.065323 -0.689116\n",
              "대전 -0.613482 -0.988171\n",
              "부산  1.011798 -0.537491\n",
              "세종 -2.097244 -1.089755\n",
              "울산 -0.750871  1.150686\n",
              "인천  0.820080 -0.091316\n",
              "전남  0.164025  0.743660\n",
              "전북 -0.185723 -0.036357\n",
              "제주 -1.351751 -1.205671\n",
              "충남  0.824572  2.177606\n",
              "충북 -0.233088  0.231756"
            ]
          },
          "metadata": {
            "tags": []
          },
          "execution_count": 76
        }
      ]
    },
    {
      "metadata": {
        "id": "EF2VICbi7aIp",
        "colab_type": "code",
        "colab": {
          "base_uri": "https://localhost:8080/",
          "height": 337
        },
        "outputId": "d40329fb-89a1-4bc6-8711-d9c85dae2e99"
      },
      "cell_type": "code",
      "source": [
        "Z = linkage(power, metric='euclidean', method='ward') \n",
        "# 유클리드 거리를 이용해 Linkage Matrix를 생성\n",
        "plt.figure(figsize=(10, 5))\n",
        "plt.title('덴드로그램')\n",
        "dendrogram(Z, labels=power.index)\n",
        "plt.show()"
      ],
      "execution_count": 77,
      "outputs": [
        {
          "output_type": "display_data",
          "data": {
            "image/png": "[encoded data removed]",
            "text/plain": [
              "<Figure size 720x360 with 1 Axes>"
            ]
          },
          "metadata": {
            "tags": []
          }
        }
      ]
    },
    {
      "metadata": {
        "id": "cWWcu8Up7aHC",
        "colab_type": "code",
        "colab": {}
      },
      "cell_type": "code",
      "source": [
        "k = KMeans(n_clusters= 4).fit(power)\n",
        "centers = k.cluster_centers_"
      ],
      "execution_count": 0,
      "outputs": []
    },
    {
      "metadata": {
        "id": "0EMmFM-d7aDl",
        "colab_type": "code",
        "colab": {
          "base_uri": "https://localhost:8080/",
          "height": 516
        },
        "outputId": "a7bda750-d9ff-4702-c1c5-8a558f69a217"
      },
      "cell_type": "code",
      "source": [
        "plt.clf()\n",
        "plt.figure(figsize=(10, 8))\n",
        "plt.xlabel('서비스업')\n",
        "plt.ylabel('제조업')\n",
        "\n",
        "for n in range(power.shape[0]):\n",
        "    label = k.labels_[n]\n",
        "    plt.scatter(power['서비스업'][n], power['제조업'][n], c=my_color[label], marker=my_markers[label], s=100)\n",
        "    plt.text(power['서비스업'][n]*1.05, power['제조업'][n]*0.99, power.index[n])\n",
        "    \n",
        "for i in range(k.n_clusters):\n",
        "    plt.scatter(centers[i][0], centers[i][1], c = 'r', s= 50)"
      ],
      "execution_count": 79,
      "outputs": [
        {
          "output_type": "display_data",
          "data": {
            "text/plain": [
              "<Figure size 432x288 with 0 Axes>"
            ]
          },
          "metadata": {
            "tags": []
          }
        },
        {
          "output_type": "display_data",
          "data": {
            "image/png": "[encoded data removed]",
            "text/plain": [
              "<Figure size 720x576 with 1 Axes>"
            ]
          },
          "metadata": {
            "tags": []
          }
        }
      ]
    },
    {
      "metadata": {
        "id": "z4VHTxfi7aBR",
        "colab_type": "code",
        "colab": {
          "base_uri": "https://localhost:8080/",
          "height": 876
        },
        "outputId": "e048a8ee-a82f-4f12-8c9d-ec72e19b2a98"
      },
      "cell_type": "code",
      "source": [
        "# 모든 특성 고려\n",
        "power_data.head().T"
      ],
      "execution_count": 55,
      "outputs": [
        {
          "output_type": "execute_result",
          "data": {
            "text/html": [
              "<div>\n",
              "<style scoped>\n",
              "    .dataframe tbody tr th:only-of-type {\n",
              "        vertical-align: middle;\n",
              "    }\n",
              "\n",
              "    .dataframe tbody tr th {\n",
              "        vertical-align: top;\n",
              "    }\n",
              "\n",
              "    .dataframe thead th {\n",
              "        text-align: right;\n",
              "    }\n",
              "</style>\n",
              "<table border=\"1\" class=\"dataframe\">\n",
              "  <thead>\n",
              "    <tr style=\"text-align: right;\">\n",
              "      <th></th>\n",
              "      <th>0</th>\n",
              "      <th>1</th>\n",
              "      <th>2</th>\n",
              "      <th>3</th>\n",
              "      <th>4</th>\n",
              "    </tr>\n",
              "  </thead>\n",
              "  <tbody>\n",
              "    <tr>\n",
              "      <th>구분</th>\n",
              "      <td>강원</td>\n",
              "      <td>개성</td>\n",
              "      <td>경기</td>\n",
              "      <td>경남</td>\n",
              "      <td>경북</td>\n",
              "    </tr>\n",
              "    <tr>\n",
              "      <th>주거용</th>\n",
              "      <td>1940933</td>\n",
              "      <td>0</td>\n",
              "      <td>16587710</td>\n",
              "      <td>4260988</td>\n",
              "      <td>3302463</td>\n",
              "    </tr>\n",
              "    <tr>\n",
              "      <th>공공용</th>\n",
              "      <td>1400421</td>\n",
              "      <td>0</td>\n",
              "      <td>5533662</td>\n",
              "      <td>1427560</td>\n",
              "      <td>1578115</td>\n",
              "    </tr>\n",
              "    <tr>\n",
              "      <th>서비스업</th>\n",
              "      <td>6203749</td>\n",
              "      <td>0</td>\n",
              "      <td>33434551</td>\n",
              "      <td>8667737</td>\n",
              "      <td>8487402</td>\n",
              "    </tr>\n",
              "    <tr>\n",
              "      <th>업무용합계</th>\n",
              "      <td>7604170</td>\n",
              "      <td>0</td>\n",
              "      <td>38968213</td>\n",
              "      <td>10095297</td>\n",
              "      <td>10065517</td>\n",
              "    </tr>\n",
              "    <tr>\n",
              "      <th>농림어업</th>\n",
              "      <td>607139</td>\n",
              "      <td>0</td>\n",
              "      <td>2371347</td>\n",
              "      <td>2141813</td>\n",
              "      <td>1747462</td>\n",
              "    </tr>\n",
              "    <tr>\n",
              "      <th>광업</th>\n",
              "      <td>398287</td>\n",
              "      <td>0</td>\n",
              "      <td>317263</td>\n",
              "      <td>95989</td>\n",
              "      <td>224568</td>\n",
              "    </tr>\n",
              "    <tr>\n",
              "      <th>제조업</th>\n",
              "      <td>6002286</td>\n",
              "      <td>0</td>\n",
              "      <td>56603327</td>\n",
              "      <td>18053778</td>\n",
              "      <td>30115601</td>\n",
              "    </tr>\n",
              "    <tr>\n",
              "      <th>식료품제조</th>\n",
              "      <td>546621</td>\n",
              "      <td>0</td>\n",
              "      <td>2544420</td>\n",
              "      <td>932743</td>\n",
              "      <td>566071</td>\n",
              "    </tr>\n",
              "    <tr>\n",
              "      <th>섬유,의류</th>\n",
              "      <td>13027</td>\n",
              "      <td>0</td>\n",
              "      <td>2109963</td>\n",
              "      <td>346974</td>\n",
              "      <td>3780171</td>\n",
              "    </tr>\n",
              "    <tr>\n",
              "      <th>목재,나무</th>\n",
              "      <td>19147</td>\n",
              "      <td>0</td>\n",
              "      <td>529274</td>\n",
              "      <td>60160</td>\n",
              "      <td>72680</td>\n",
              "    </tr>\n",
              "    <tr>\n",
              "      <th>펄프,종이</th>\n",
              "      <td>24382</td>\n",
              "      <td>0</td>\n",
              "      <td>1917458</td>\n",
              "      <td>817685</td>\n",
              "      <td>361772</td>\n",
              "    </tr>\n",
              "    <tr>\n",
              "      <th>출판,인쇄</th>\n",
              "      <td>7727</td>\n",
              "      <td>0</td>\n",
              "      <td>731348</td>\n",
              "      <td>28486</td>\n",
              "      <td>44402</td>\n",
              "    </tr>\n",
              "    <tr>\n",
              "      <th>석유,화확</th>\n",
              "      <td>175323</td>\n",
              "      <td>0</td>\n",
              "      <td>6881775</td>\n",
              "      <td>1865583</td>\n",
              "      <td>3653665</td>\n",
              "    </tr>\n",
              "    <tr>\n",
              "      <th>의료,광학</th>\n",
              "      <td>84397</td>\n",
              "      <td>0</td>\n",
              "      <td>1336390</td>\n",
              "      <td>178498</td>\n",
              "      <td>217771</td>\n",
              "    </tr>\n",
              "    <tr>\n",
              "      <th>요업</th>\n",
              "      <td>3695776</td>\n",
              "      <td>0</td>\n",
              "      <td>1728379</td>\n",
              "      <td>429920</td>\n",
              "      <td>1269917</td>\n",
              "    </tr>\n",
              "    <tr>\n",
              "      <th>1차금속</th>\n",
              "      <td>1038913</td>\n",
              "      <td>0</td>\n",
              "      <td>2020196</td>\n",
              "      <td>3809547</td>\n",
              "      <td>10874970</td>\n",
              "    </tr>\n",
              "    <tr>\n",
              "      <th>조립금속</th>\n",
              "      <td>39477</td>\n",
              "      <td>0</td>\n",
              "      <td>2302355</td>\n",
              "      <td>1699879</td>\n",
              "      <td>933178</td>\n",
              "    </tr>\n",
              "    <tr>\n",
              "      <th>기타기계</th>\n",
              "      <td>35063</td>\n",
              "      <td>0</td>\n",
              "      <td>3613798</td>\n",
              "      <td>1902913</td>\n",
              "      <td>782570</td>\n",
              "    </tr>\n",
              "    <tr>\n",
              "      <th>사무기기</th>\n",
              "      <td>2019</td>\n",
              "      <td>0</td>\n",
              "      <td>317244</td>\n",
              "      <td>8070</td>\n",
              "      <td>14468</td>\n",
              "    </tr>\n",
              "    <tr>\n",
              "      <th>전기기기</th>\n",
              "      <td>38062</td>\n",
              "      <td>0</td>\n",
              "      <td>1040171</td>\n",
              "      <td>924235</td>\n",
              "      <td>750786</td>\n",
              "    </tr>\n",
              "    <tr>\n",
              "      <th>영상,음향</th>\n",
              "      <td>43986</td>\n",
              "      <td>0</td>\n",
              "      <td>24519644</td>\n",
              "      <td>534196</td>\n",
              "      <td>4174971</td>\n",
              "    </tr>\n",
              "    <tr>\n",
              "      <th>자동차</th>\n",
              "      <td>113448</td>\n",
              "      <td>0</td>\n",
              "      <td>2977165</td>\n",
              "      <td>2156059</td>\n",
              "      <td>2356890</td>\n",
              "    </tr>\n",
              "    <tr>\n",
              "      <th>기타운송</th>\n",
              "      <td>108629</td>\n",
              "      <td>0</td>\n",
              "      <td>67594</td>\n",
              "      <td>2048646</td>\n",
              "      <td>123935</td>\n",
              "    </tr>\n",
              "    <tr>\n",
              "      <th>가구및기타</th>\n",
              "      <td>12872</td>\n",
              "      <td>0</td>\n",
              "      <td>1833112</td>\n",
              "      <td>262523</td>\n",
              "      <td>60280</td>\n",
              "    </tr>\n",
              "    <tr>\n",
              "      <th>재생재료</th>\n",
              "      <td>3418</td>\n",
              "      <td>0</td>\n",
              "      <td>133041</td>\n",
              "      <td>47662</td>\n",
              "      <td>77104</td>\n",
              "    </tr>\n",
              "    <tr>\n",
              "      <th>산업용합계</th>\n",
              "      <td>7007712</td>\n",
              "      <td>0</td>\n",
              "      <td>59291937</td>\n",
              "      <td>20291580</td>\n",
              "      <td>32087631</td>\n",
              "    </tr>\n",
              "    <tr>\n",
              "      <th>합계</th>\n",
              "      <td>16552816</td>\n",
              "      <td>0</td>\n",
              "      <td>114847859</td>\n",
              "      <td>34647864</td>\n",
              "      <td>45455611</td>\n",
              "    </tr>\n",
              "  </tbody>\n",
              "</table>\n",
              "</div>"
            ],
            "text/plain": [
              "              0   1          2         3         4\n",
              "구분           강원  개성         경기        경남        경북\n",
              "주거용     1940933   0   16587710   4260988   3302463\n",
              "공공용     1400421   0    5533662   1427560   1578115\n",
              "서비스업    6203749   0   33434551   8667737   8487402\n",
              "업무용합계   7604170   0   38968213  10095297  10065517\n",
              "농림어업     607139   0    2371347   2141813   1747462\n",
              "광업       398287   0     317263     95989    224568\n",
              "제조업     6002286   0   56603327  18053778  30115601\n",
              "식료품제조    546621   0    2544420    932743    566071\n",
              "섬유,의류     13027   0    2109963    346974   3780171\n",
              "목재,나무     19147   0     529274     60160     72680\n",
              "펄프,종이     24382   0    1917458    817685    361772\n",
              "출판,인쇄      7727   0     731348     28486     44402\n",
              "석유,화확    175323   0    6881775   1865583   3653665\n",
              "의료,광학     84397   0    1336390    178498    217771\n",
              "요업      3695776   0    1728379    429920   1269917\n",
              "1차금속    1038913   0    2020196   3809547  10874970\n",
              "조립금속      39477   0    2302355   1699879    933178\n",
              "기타기계      35063   0    3613798   1902913    782570\n",
              "사무기기       2019   0     317244      8070     14468\n",
              "전기기기      38062   0    1040171    924235    750786\n",
              "영상,음향     43986   0   24519644    534196   4174971\n",
              "자동차      113448   0    2977165   2156059   2356890\n",
              "기타운송     108629   0      67594   2048646    123935\n",
              "가구및기타     12872   0    1833112    262523     60280\n",
              "재생재료       3418   0     133041     47662     77104\n",
              "산업용합계   7007712   0   59291937  20291580  32087631\n",
              "합계     16552816   0  114847859  34647864  45455611"
            ]
          },
          "metadata": {
            "tags": []
          },
          "execution_count": 55
        }
      ]
    },
    {
      "metadata": {
        "id": "5EonxtZi7Z-q",
        "colab_type": "code",
        "colab": {}
      },
      "cell_type": "code",
      "source": [
        "power2 = power_data.set_index('구분')\n",
        "power2.drop(['업무용합계', '산업용합계', '합계'], axis=1, \n",
        "           inplace=True, errors='ignore')\n",
        "power2.drop(['합계','개성','경기','서울'], inplace=True,errors='ignore')"
      ],
      "execution_count": 0,
      "outputs": []
    },
    {
      "metadata": {
        "id": "3IXpKQY4AEwq",
        "colab_type": "code",
        "colab": {
          "base_uri": "https://localhost:8080/",
          "height": 855
        },
        "outputId": "497b4559-14de-4851-8921-e41757cb3222"
      },
      "cell_type": "code",
      "source": [
        "power2"
      ],
      "execution_count": 81,
      "outputs": [
        {
          "output_type": "execute_result",
          "data": {
            "text/html": [
              "<div>\n",
              "<style scoped>\n",
              "    .dataframe tbody tr th:only-of-type {\n",
              "        vertical-align: middle;\n",
              "    }\n",
              "\n",
              "    .dataframe tbody tr th {\n",
              "        vertical-align: top;\n",
              "    }\n",
              "\n",
              "    .dataframe thead th {\n",
              "        text-align: right;\n",
              "    }\n",
              "</style>\n",
              "<table border=\"1\" class=\"dataframe\">\n",
              "  <thead>\n",
              "    <tr style=\"text-align: right;\">\n",
              "      <th></th>\n",
              "      <th>주거용</th>\n",
              "      <th>공공용</th>\n",
              "      <th>서비스업</th>\n",
              "      <th>농림어업</th>\n",
              "      <th>광업</th>\n",
              "      <th>제조업</th>\n",
              "      <th>식료품제조</th>\n",
              "      <th>섬유,의류</th>\n",
              "      <th>목재,나무</th>\n",
              "      <th>펄프,종이</th>\n",
              "      <th>...</th>\n",
              "      <th>1차금속</th>\n",
              "      <th>조립금속</th>\n",
              "      <th>기타기계</th>\n",
              "      <th>사무기기</th>\n",
              "      <th>전기기기</th>\n",
              "      <th>영상,음향</th>\n",
              "      <th>자동차</th>\n",
              "      <th>기타운송</th>\n",
              "      <th>가구및기타</th>\n",
              "      <th>재생재료</th>\n",
              "    </tr>\n",
              "    <tr>\n",
              "      <th>구분</th>\n",
              "      <th></th>\n",
              "      <th></th>\n",
              "      <th></th>\n",
              "      <th></th>\n",
              "      <th></th>\n",
              "      <th></th>\n",
              "      <th></th>\n",
              "      <th></th>\n",
              "      <th></th>\n",
              "      <th></th>\n",
              "      <th></th>\n",
              "      <th></th>\n",
              "      <th></th>\n",
              "      <th></th>\n",
              "      <th></th>\n",
              "      <th></th>\n",
              "      <th></th>\n",
              "      <th></th>\n",
              "      <th></th>\n",
              "      <th></th>\n",
              "      <th></th>\n",
              "    </tr>\n",
              "  </thead>\n",
              "  <tbody>\n",
              "    <tr>\n",
              "      <th>강원</th>\n",
              "      <td>1940933</td>\n",
              "      <td>1400421</td>\n",
              "      <td>6203749</td>\n",
              "      <td>607139</td>\n",
              "      <td>398287</td>\n",
              "      <td>6002286</td>\n",
              "      <td>546621</td>\n",
              "      <td>13027</td>\n",
              "      <td>19147</td>\n",
              "      <td>24382</td>\n",
              "      <td>...</td>\n",
              "      <td>1038913</td>\n",
              "      <td>39477</td>\n",
              "      <td>35063</td>\n",
              "      <td>2019</td>\n",
              "      <td>38062</td>\n",
              "      <td>43986</td>\n",
              "      <td>113448</td>\n",
              "      <td>108629</td>\n",
              "      <td>12872</td>\n",
              "      <td>3418</td>\n",
              "    </tr>\n",
              "    <tr>\n",
              "      <th>경남</th>\n",
              "      <td>4260988</td>\n",
              "      <td>1427560</td>\n",
              "      <td>8667737</td>\n",
              "      <td>2141813</td>\n",
              "      <td>95989</td>\n",
              "      <td>18053778</td>\n",
              "      <td>932743</td>\n",
              "      <td>346974</td>\n",
              "      <td>60160</td>\n",
              "      <td>817685</td>\n",
              "      <td>...</td>\n",
              "      <td>3809547</td>\n",
              "      <td>1699879</td>\n",
              "      <td>1902913</td>\n",
              "      <td>8070</td>\n",
              "      <td>924235</td>\n",
              "      <td>534196</td>\n",
              "      <td>2156059</td>\n",
              "      <td>2048646</td>\n",
              "      <td>262523</td>\n",
              "      <td>47662</td>\n",
              "    </tr>\n",
              "    <tr>\n",
              "      <th>경북</th>\n",
              "      <td>3302463</td>\n",
              "      <td>1578115</td>\n",
              "      <td>8487402</td>\n",
              "      <td>1747462</td>\n",
              "      <td>224568</td>\n",
              "      <td>30115601</td>\n",
              "      <td>566071</td>\n",
              "      <td>3780171</td>\n",
              "      <td>72680</td>\n",
              "      <td>361772</td>\n",
              "      <td>...</td>\n",
              "      <td>10874970</td>\n",
              "      <td>933178</td>\n",
              "      <td>782570</td>\n",
              "      <td>14468</td>\n",
              "      <td>750786</td>\n",
              "      <td>4174971</td>\n",
              "      <td>2356890</td>\n",
              "      <td>123935</td>\n",
              "      <td>60280</td>\n",
              "      <td>77104</td>\n",
              "    </tr>\n",
              "    <tr>\n",
              "      <th>광주</th>\n",
              "      <td>1954876</td>\n",
              "      <td>565527</td>\n",
              "      <td>3174973</td>\n",
              "      <td>74608</td>\n",
              "      <td>2898</td>\n",
              "      <td>2910768</td>\n",
              "      <td>161072</td>\n",
              "      <td>295922</td>\n",
              "      <td>6782</td>\n",
              "      <td>41827</td>\n",
              "      <td>...</td>\n",
              "      <td>75702</td>\n",
              "      <td>156396</td>\n",
              "      <td>198847</td>\n",
              "      <td>5967</td>\n",
              "      <td>236622</td>\n",
              "      <td>723764</td>\n",
              "      <td>512148</td>\n",
              "      <td>5140</td>\n",
              "      <td>13392</td>\n",
              "      <td>16049</td>\n",
              "    </tr>\n",
              "    <tr>\n",
              "      <th>대구</th>\n",
              "      <td>3151904</td>\n",
              "      <td>826396</td>\n",
              "      <td>5470438</td>\n",
              "      <td>69142</td>\n",
              "      <td>5858</td>\n",
              "      <td>5862633</td>\n",
              "      <td>212626</td>\n",
              "      <td>1057342</td>\n",
              "      <td>16215</td>\n",
              "      <td>445646</td>\n",
              "      <td>...</td>\n",
              "      <td>317580</td>\n",
              "      <td>661307</td>\n",
              "      <td>516493</td>\n",
              "      <td>58446</td>\n",
              "      <td>180189</td>\n",
              "      <td>252662</td>\n",
              "      <td>1381273</td>\n",
              "      <td>68127</td>\n",
              "      <td>41814</td>\n",
              "      <td>33616</td>\n",
              "    </tr>\n",
              "    <tr>\n",
              "      <th>대전</th>\n",
              "      <td>1872890</td>\n",
              "      <td>954681</td>\n",
              "      <td>3955921</td>\n",
              "      <td>28643</td>\n",
              "      <td>3326</td>\n",
              "      <td>2608343</td>\n",
              "      <td>204171</td>\n",
              "      <td>41687</td>\n",
              "      <td>4311</td>\n",
              "      <td>539332</td>\n",
              "      <td>...</td>\n",
              "      <td>56535</td>\n",
              "      <td>69342</td>\n",
              "      <td>77970</td>\n",
              "      <td>2949</td>\n",
              "      <td>83609</td>\n",
              "      <td>474561</td>\n",
              "      <td>218191</td>\n",
              "      <td>5439</td>\n",
              "      <td>31657</td>\n",
              "      <td>2252</td>\n",
              "    </tr>\n",
              "    <tr>\n",
              "      <th>부산</th>\n",
              "      <td>4473510</td>\n",
              "      <td>1305876</td>\n",
              "      <td>7582169</td>\n",
              "      <td>107927</td>\n",
              "      <td>25289</td>\n",
              "      <td>7512588</td>\n",
              "      <td>532943</td>\n",
              "      <td>528513</td>\n",
              "      <td>51980</td>\n",
              "      <td>27240</td>\n",
              "      <td>...</td>\n",
              "      <td>2426694</td>\n",
              "      <td>872952</td>\n",
              "      <td>904149</td>\n",
              "      <td>4913</td>\n",
              "      <td>107717</td>\n",
              "      <td>90644</td>\n",
              "      <td>1046529</td>\n",
              "      <td>231141</td>\n",
              "      <td>49733</td>\n",
              "      <td>13104</td>\n",
              "    </tr>\n",
              "    <tr>\n",
              "      <th>세종</th>\n",
              "      <td>384903</td>\n",
              "      <td>299675</td>\n",
              "      <td>645424</td>\n",
              "      <td>69469</td>\n",
              "      <td>16364</td>\n",
              "      <td>1502922</td>\n",
              "      <td>110211</td>\n",
              "      <td>70617</td>\n",
              "      <td>1324</td>\n",
              "      <td>350896</td>\n",
              "      <td>...</td>\n",
              "      <td>32345</td>\n",
              "      <td>11390</td>\n",
              "      <td>26185</td>\n",
              "      <td>14319</td>\n",
              "      <td>33539</td>\n",
              "      <td>170366</td>\n",
              "      <td>79009</td>\n",
              "      <td>0</td>\n",
              "      <td>5132</td>\n",
              "      <td>2603</td>\n",
              "    </tr>\n",
              "    <tr>\n",
              "      <th>울산</th>\n",
              "      <td>1487143</td>\n",
              "      <td>489865</td>\n",
              "      <td>3649386</td>\n",
              "      <td>80221</td>\n",
              "      <td>20103</td>\n",
              "      <td>25883132</td>\n",
              "      <td>187738</td>\n",
              "      <td>943299</td>\n",
              "      <td>12286</td>\n",
              "      <td>620457</td>\n",
              "      <td>...</td>\n",
              "      <td>4671005</td>\n",
              "      <td>393469</td>\n",
              "      <td>169132</td>\n",
              "      <td>5053</td>\n",
              "      <td>381602</td>\n",
              "      <td>24165</td>\n",
              "      <td>2367150</td>\n",
              "      <td>1020610</td>\n",
              "      <td>4984</td>\n",
              "      <td>1626</td>\n",
              "    </tr>\n",
              "    <tr>\n",
              "      <th>인천</th>\n",
              "      <td>3856852</td>\n",
              "      <td>921748</td>\n",
              "      <td>7154416</td>\n",
              "      <td>142953</td>\n",
              "      <td>71529</td>\n",
              "      <td>12367816</td>\n",
              "      <td>641088</td>\n",
              "      <td>75895</td>\n",
              "      <td>639429</td>\n",
              "      <td>57159</td>\n",
              "      <td>...</td>\n",
              "      <td>2346232</td>\n",
              "      <td>750654</td>\n",
              "      <td>942801</td>\n",
              "      <td>7853</td>\n",
              "      <td>178502</td>\n",
              "      <td>1124564</td>\n",
              "      <td>612898</td>\n",
              "      <td>54225</td>\n",
              "      <td>360778</td>\n",
              "      <td>32538</td>\n",
              "    </tr>\n",
              "    <tr>\n",
              "      <th>전남</th>\n",
              "      <td>2284124</td>\n",
              "      <td>964024</td>\n",
              "      <td>5690659</td>\n",
              "      <td>3096126</td>\n",
              "      <td>73217</td>\n",
              "      <td>21453926</td>\n",
              "      <td>511361</td>\n",
              "      <td>160506</td>\n",
              "      <td>27998</td>\n",
              "      <td>145685</td>\n",
              "      <td>...</td>\n",
              "      <td>5036891</td>\n",
              "      <td>123651</td>\n",
              "      <td>66431</td>\n",
              "      <td>1061</td>\n",
              "      <td>149939</td>\n",
              "      <td>42399</td>\n",
              "      <td>72132</td>\n",
              "      <td>481592</td>\n",
              "      <td>14670</td>\n",
              "      <td>31932</td>\n",
              "    </tr>\n",
              "    <tr>\n",
              "      <th>전북</th>\n",
              "      <td>2326183</td>\n",
              "      <td>1096968</td>\n",
              "      <td>4910318</td>\n",
              "      <td>1415004</td>\n",
              "      <td>85300</td>\n",
              "      <td>12965875</td>\n",
              "      <td>1459217</td>\n",
              "      <td>731651</td>\n",
              "      <td>291729</td>\n",
              "      <td>1282937</td>\n",
              "      <td>...</td>\n",
              "      <td>2158438</td>\n",
              "      <td>137635</td>\n",
              "      <td>159699</td>\n",
              "      <td>7240</td>\n",
              "      <td>130692</td>\n",
              "      <td>420005</td>\n",
              "      <td>859741</td>\n",
              "      <td>70980</td>\n",
              "      <td>16175</td>\n",
              "      <td>99003</td>\n",
              "    </tr>\n",
              "    <tr>\n",
              "      <th>제주</th>\n",
              "      <td>782601</td>\n",
              "      <td>301727</td>\n",
              "      <td>2308732</td>\n",
              "      <td>1364930</td>\n",
              "      <td>14019</td>\n",
              "      <td>241537</td>\n",
              "      <td>155987</td>\n",
              "      <td>3497</td>\n",
              "      <td>1524</td>\n",
              "      <td>20864</td>\n",
              "      <td>...</td>\n",
              "      <td>993</td>\n",
              "      <td>3331</td>\n",
              "      <td>1167</td>\n",
              "      <td>0</td>\n",
              "      <td>771</td>\n",
              "      <td>0</td>\n",
              "      <td>773</td>\n",
              "      <td>532</td>\n",
              "      <td>1743</td>\n",
              "      <td>743</td>\n",
              "    </tr>\n",
              "    <tr>\n",
              "      <th>충남</th>\n",
              "      <td>2691823</td>\n",
              "      <td>1089613</td>\n",
              "      <td>7164439</td>\n",
              "      <td>1928066</td>\n",
              "      <td>248313</td>\n",
              "      <td>37057955</td>\n",
              "      <td>1137035</td>\n",
              "      <td>269998</td>\n",
              "      <td>134109</td>\n",
              "      <td>809760</td>\n",
              "      <td>...</td>\n",
              "      <td>9976454</td>\n",
              "      <td>565003</td>\n",
              "      <td>611925</td>\n",
              "      <td>12208</td>\n",
              "      <td>428906</td>\n",
              "      <td>10953811</td>\n",
              "      <td>2526658</td>\n",
              "      <td>33766</td>\n",
              "      <td>53804</td>\n",
              "      <td>19725</td>\n",
              "    </tr>\n",
              "    <tr>\n",
              "      <th>충북</th>\n",
              "      <td>2027281</td>\n",
              "      <td>1267140</td>\n",
              "      <td>4804638</td>\n",
              "      <td>721131</td>\n",
              "      <td>139856</td>\n",
              "      <td>15883448</td>\n",
              "      <td>1152073</td>\n",
              "      <td>333846</td>\n",
              "      <td>51682</td>\n",
              "      <td>880020</td>\n",
              "      <td>...</td>\n",
              "      <td>469546</td>\n",
              "      <td>738699</td>\n",
              "      <td>366871</td>\n",
              "      <td>23076</td>\n",
              "      <td>1125141</td>\n",
              "      <td>4103832</td>\n",
              "      <td>603349</td>\n",
              "      <td>82496</td>\n",
              "      <td>513501</td>\n",
              "      <td>46038</td>\n",
              "    </tr>\n",
              "  </tbody>\n",
              "</table>\n",
              "<p>15 rows × 24 columns</p>\n",
              "</div>"
            ],
            "text/plain": [
              "        주거용      공공용     서비스업     농림어업      광업       제조업    식료품제조    섬유,의류  \\\n",
              "구분                                                                           \n",
              "강원  1940933  1400421  6203749   607139  398287   6002286   546621    13027   \n",
              "경남  4260988  1427560  8667737  2141813   95989  18053778   932743   346974   \n",
              "경북  3302463  1578115  8487402  1747462  224568  30115601   566071  3780171   \n",
              "광주  1954876   565527  3174973    74608    2898   2910768   161072   295922   \n",
              "대구  3151904   826396  5470438    69142    5858   5862633   212626  1057342   \n",
              "대전  1872890   954681  3955921    28643    3326   2608343   204171    41687   \n",
              "부산  4473510  1305876  7582169   107927   25289   7512588   532943   528513   \n",
              "세종   384903   299675   645424    69469   16364   1502922   110211    70617   \n",
              "울산  1487143   489865  3649386    80221   20103  25883132   187738   943299   \n",
              "인천  3856852   921748  7154416   142953   71529  12367816   641088    75895   \n",
              "전남  2284124   964024  5690659  3096126   73217  21453926   511361   160506   \n",
              "전북  2326183  1096968  4910318  1415004   85300  12965875  1459217   731651   \n",
              "제주   782601   301727  2308732  1364930   14019    241537   155987     3497   \n",
              "충남  2691823  1089613  7164439  1928066  248313  37057955  1137035   269998   \n",
              "충북  2027281  1267140  4804638   721131  139856  15883448  1152073   333846   \n",
              "\n",
              "     목재,나무    펄프,종이  ...        1차금속     조립금속     기타기계   사무기기     전기기기  \\\n",
              "구분                   ...                                                 \n",
              "강원   19147    24382  ...     1038913    39477    35063   2019    38062   \n",
              "경남   60160   817685  ...     3809547  1699879  1902913   8070   924235   \n",
              "경북   72680   361772  ...    10874970   933178   782570  14468   750786   \n",
              "광주    6782    41827  ...       75702   156396   198847   5967   236622   \n",
              "대구   16215   445646  ...      317580   661307   516493  58446   180189   \n",
              "대전    4311   539332  ...       56535    69342    77970   2949    83609   \n",
              "부산   51980    27240  ...     2426694   872952   904149   4913   107717   \n",
              "세종    1324   350896  ...       32345    11390    26185  14319    33539   \n",
              "울산   12286   620457  ...     4671005   393469   169132   5053   381602   \n",
              "인천  639429    57159  ...     2346232   750654   942801   7853   178502   \n",
              "전남   27998   145685  ...     5036891   123651    66431   1061   149939   \n",
              "전북  291729  1282937  ...     2158438   137635   159699   7240   130692   \n",
              "제주    1524    20864  ...         993     3331     1167      0      771   \n",
              "충남  134109   809760  ...     9976454   565003   611925  12208   428906   \n",
              "충북   51682   880020  ...      469546   738699   366871  23076  1125141   \n",
              "\n",
              "       영상,음향      자동차     기타운송   가구및기타   재생재료  \n",
              "구분                                             \n",
              "강원     43986   113448   108629   12872   3418  \n",
              "경남    534196  2156059  2048646  262523  47662  \n",
              "경북   4174971  2356890   123935   60280  77104  \n",
              "광주    723764   512148     5140   13392  16049  \n",
              "대구    252662  1381273    68127   41814  33616  \n",
              "대전    474561   218191     5439   31657   2252  \n",
              "부산     90644  1046529   231141   49733  13104  \n",
              "세종    170366    79009        0    5132   2603  \n",
              "울산     24165  2367150  1020610    4984   1626  \n",
              "인천   1124564   612898    54225  360778  32538  \n",
              "전남     42399    72132   481592   14670  31932  \n",
              "전북    420005   859741    70980   16175  99003  \n",
              "제주         0      773      532    1743    743  \n",
              "충남  10953811  2526658    33766   53804  19725  \n",
              "충북   4103832   603349    82496  513501  46038  \n",
              "\n",
              "[15 rows x 24 columns]"
            ]
          },
          "metadata": {
            "tags": []
          },
          "execution_count": 81
        }
      ]
    },
    {
      "metadata": {
        "id": "pMk6cpXX7Z8R",
        "colab_type": "code",
        "colab": {
          "base_uri": "https://localhost:8080/",
          "height": 424
        },
        "outputId": "60595761-93df-4499-eaf0-abcbd0e9e5b4"
      },
      "cell_type": "code",
      "source": [
        "power3 = pd.DataFrame(scaler.fit_transform(power2), columns=power2.columns,\n",
        "                      index=power2.index)\n",
        "\n",
        "Z = linkage(power3, metric='euclidean', method='ward') \n",
        "# 유클리드 거리를 이용해 Linkage Matrix를 생성\n",
        "plt.figure(figsize=(10, 5))\n",
        "plt.title('덴드로그램')\n",
        "dendrogram(Z, labels=power3.index)\n",
        "plt.show()"
      ],
      "execution_count": 82,
      "outputs": [
        {
          "output_type": "stream",
          "text": [
            "/usr/local/lib/python3.6/dist-packages/sklearn/preprocessing/data.py:645: DataConversionWarning: Data with input dtype int64 were all converted to float64 by StandardScaler.\n",
            "  return self.partial_fit(X, y)\n",
            "/usr/local/lib/python3.6/dist-packages/sklearn/base.py:464: DataConversionWarning: Data with input dtype int64 were all converted to float64 by StandardScaler.\n",
            "  return self.fit(X, **fit_params).transform(X)\n"
          ],
          "name": "stderr"
        },
        {
          "output_type": "display_data",
          "data": {
            "image/png": "[encoded data removed]",
            "text/plain": [
              "<Figure size 720x360 with 1 Axes>"
            ]
          },
          "metadata": {
            "tags": []
          }
        }
      ]
    },
    {
      "metadata": {
        "id": "njMiY3Q-7Z5F",
        "colab_type": "code",
        "colab": {
          "base_uri": "https://localhost:8080/",
          "height": 516
        },
        "outputId": "98678bf9-e20b-4237-e65f-bccc9a6405ce"
      },
      "cell_type": "code",
      "source": [
        "k = KMeans(n_clusters=8).fit(power3)\n",
        "n_samples = power3.shape[0]\n",
        "print(n_samples)\n",
        "\n",
        "plt.figure(figsize=(10, 8))\n",
        "plt.xlabel('서비스업')\n",
        "plt.ylabel('제조업')\n",
        "\n",
        "for n in range(n_samples):\n",
        "    label = k.labels_[n]\n",
        "    plt.scatter(power3['서비스업'][n], power3['제조업'][n], c=my_color[label], marker=my_markers[label], s=100)\n",
        "    plt.text(power3['서비스업'][n]*1.05, power3['제조업'][n]*0.99, power3.index[n])\n",
        "    "
      ],
      "execution_count": 83,
      "outputs": [
        {
          "output_type": "stream",
          "text": [
            "15\n"
          ],
          "name": "stdout"
        },
        {
          "output_type": "display_data",
          "data": {
            "image/png": "[encoded data removed]",
            "text/plain": [
              "<Figure size 720x576 with 1 Axes>"
            ]
          },
          "metadata": {
            "tags": []
          }
        }
      ]
    },
    {
      "metadata": {
        "id": "_FTPalhJ7Z2N",
        "colab_type": "code",
        "colab": {
          "base_uri": "https://localhost:8080/",
          "height": 854
        },
        "outputId": "4e69aee0-ce86-4793-a745-b6fbc98b65c4"
      },
      "cell_type": "code",
      "source": [
        "power3"
      ],
      "execution_count": 84,
      "outputs": [
        {
          "output_type": "execute_result",
          "data": {
            "text/html": [
              "<div>\n",
              "<style scoped>\n",
              "    .dataframe tbody tr th:only-of-type {\n",
              "        vertical-align: middle;\n",
              "    }\n",
              "\n",
              "    .dataframe tbody tr th {\n",
              "        vertical-align: top;\n",
              "    }\n",
              "\n",
              "    .dataframe thead th {\n",
              "        text-align: right;\n",
              "    }\n",
              "</style>\n",
              "<table border=\"1\" class=\"dataframe\">\n",
              "  <thead>\n",
              "    <tr style=\"text-align: right;\">\n",
              "      <th></th>\n",
              "      <th>주거용</th>\n",
              "      <th>공공용</th>\n",
              "      <th>서비스업</th>\n",
              "      <th>농림어업</th>\n",
              "      <th>광업</th>\n",
              "      <th>제조업</th>\n",
              "      <th>식료품제조</th>\n",
              "      <th>섬유,의류</th>\n",
              "      <th>목재,나무</th>\n",
              "      <th>펄프,종이</th>\n",
              "      <th>...</th>\n",
              "      <th>1차금속</th>\n",
              "      <th>조립금속</th>\n",
              "      <th>기타기계</th>\n",
              "      <th>사무기기</th>\n",
              "      <th>전기기기</th>\n",
              "      <th>영상,음향</th>\n",
              "      <th>자동차</th>\n",
              "      <th>기타운송</th>\n",
              "      <th>가구및기타</th>\n",
              "      <th>재생재료</th>\n",
              "    </tr>\n",
              "    <tr>\n",
              "      <th>구분</th>\n",
              "      <th></th>\n",
              "      <th></th>\n",
              "      <th></th>\n",
              "      <th></th>\n",
              "      <th></th>\n",
              "      <th></th>\n",
              "      <th></th>\n",
              "      <th></th>\n",
              "      <th></th>\n",
              "      <th></th>\n",
              "      <th></th>\n",
              "      <th></th>\n",
              "      <th></th>\n",
              "      <th></th>\n",
              "      <th></th>\n",
              "      <th></th>\n",
              "      <th></th>\n",
              "      <th></th>\n",
              "      <th></th>\n",
              "      <th></th>\n",
              "      <th></th>\n",
              "    </tr>\n",
              "  </thead>\n",
              "  <tbody>\n",
              "    <tr>\n",
              "      <th>강원</th>\n",
              "      <td>-0.447461</td>\n",
              "      <td>1.107363</td>\n",
              "      <td>0.393992</td>\n",
              "      <td>-0.316151</td>\n",
              "      <td>2.742496</td>\n",
              "      <td>-0.676282</td>\n",
              "      <td>-0.050383</td>\n",
              "      <td>-0.616388</td>\n",
              "      <td>-0.451440</td>\n",
              "      <td>-1.067457</td>\n",
              "      <td>...</td>\n",
              "      <td>-0.545482</td>\n",
              "      <td>-0.948359</td>\n",
              "      <td>-0.828941</td>\n",
              "      <td>-0.656697</td>\n",
              "      <td>-0.830062</td>\n",
              "      <td>-0.527178</td>\n",
              "      <td>-0.976346</td>\n",
              "      <td>-0.336181</td>\n",
              "      <td>-0.556318</td>\n",
              "      <td>-0.886117</td>\n",
              "    </tr>\n",
              "    <tr>\n",
              "      <th>경남</th>\n",
              "      <td>1.578961</td>\n",
              "      <td>1.176534</td>\n",
              "      <td>1.498349</td>\n",
              "      <td>1.305632</td>\n",
              "      <td>0.008994</td>\n",
              "      <td>0.431200</td>\n",
              "      <td>0.885979</td>\n",
              "      <td>-0.251316</td>\n",
              "      <td>-0.199913</td>\n",
              "      <td>1.028648</td>\n",
              "      <td>...</td>\n",
              "      <td>0.272688</td>\n",
              "      <td>2.649920</td>\n",
              "      <td>2.895248</td>\n",
              "      <td>-0.222754</td>\n",
              "      <td>1.809963</td>\n",
              "      <td>-0.354695</td>\n",
              "      <td>1.289121</td>\n",
              "      <td>3.279342</td>\n",
              "      <td>1.110336</td>\n",
              "      <td>0.677332</td>\n",
              "    </tr>\n",
              "    <tr>\n",
              "      <th>경북</th>\n",
              "      <td>0.741750</td>\n",
              "      <td>1.560268</td>\n",
              "      <td>1.417523</td>\n",
              "      <td>0.888898</td>\n",
              "      <td>1.171658</td>\n",
              "      <td>1.539632</td>\n",
              "      <td>-0.003216</td>\n",
              "      <td>3.501870</td>\n",
              "      <td>-0.123130</td>\n",
              "      <td>-0.175988</td>\n",
              "      <td>...</td>\n",
              "      <td>2.359112</td>\n",
              "      <td>0.988392</td>\n",
              "      <td>0.661467</td>\n",
              "      <td>0.236074</td>\n",
              "      <td>1.293236</td>\n",
              "      <td>0.926336</td>\n",
              "      <td>1.511864</td>\n",
              "      <td>-0.307656</td>\n",
              "      <td>-0.239826</td>\n",
              "      <td>1.717722</td>\n",
              "    </tr>\n",
              "    <tr>\n",
              "      <th>광주</th>\n",
              "      <td>-0.435282</td>\n",
              "      <td>-1.020610</td>\n",
              "      <td>-0.963503</td>\n",
              "      <td>-0.878909</td>\n",
              "      <td>-0.832773</td>\n",
              "      <td>-0.960380</td>\n",
              "      <td>-0.985356</td>\n",
              "      <td>-0.307126</td>\n",
              "      <td>-0.527273</td>\n",
              "      <td>-1.021363</td>\n",
              "      <td>...</td>\n",
              "      <td>-0.829919</td>\n",
              "      <td>-0.694982</td>\n",
              "      <td>-0.502382</td>\n",
              "      <td>-0.373569</td>\n",
              "      <td>-0.238525</td>\n",
              "      <td>-0.287994</td>\n",
              "      <td>-0.534146</td>\n",
              "      <td>-0.529049</td>\n",
              "      <td>-0.552847</td>\n",
              "      <td>-0.439775</td>\n",
              "    </tr>\n",
              "    <tr>\n",
              "      <th>대구</th>\n",
              "      <td>0.610246</td>\n",
              "      <td>-0.355709</td>\n",
              "      <td>0.065323</td>\n",
              "      <td>-0.884685</td>\n",
              "      <td>-0.806008</td>\n",
              "      <td>-0.689116</td>\n",
              "      <td>-0.860335</td>\n",
              "      <td>0.525262</td>\n",
              "      <td>-0.469421</td>\n",
              "      <td>0.045628</td>\n",
              "      <td>...</td>\n",
              "      <td>-0.758493</td>\n",
              "      <td>0.399217</td>\n",
              "      <td>0.130952</td>\n",
              "      <td>3.389922</td>\n",
              "      <td>-0.406647</td>\n",
              "      <td>-0.453754</td>\n",
              "      <td>0.429803</td>\n",
              "      <td>-0.411663</td>\n",
              "      <td>-0.363103</td>\n",
              "      <td>0.180989</td>\n",
              "    </tr>\n",
              "    <tr>\n",
              "      <th>대전</th>\n",
              "      <td>-0.506892</td>\n",
              "      <td>-0.028737</td>\n",
              "      <td>-0.613482</td>\n",
              "      <td>-0.927483</td>\n",
              "      <td>-0.828903</td>\n",
              "      <td>-0.988171</td>\n",
              "      <td>-0.880839</td>\n",
              "      <td>-0.585057</td>\n",
              "      <td>-0.542427</td>\n",
              "      <td>0.293170</td>\n",
              "      <td>...</td>\n",
              "      <td>-0.835579</td>\n",
              "      <td>-0.883638</td>\n",
              "      <td>-0.743391</td>\n",
              "      <td>-0.590002</td>\n",
              "      <td>-0.694371</td>\n",
              "      <td>-0.375678</td>\n",
              "      <td>-0.860175</td>\n",
              "      <td>-0.528492</td>\n",
              "      <td>-0.430911</td>\n",
              "      <td>-0.927319</td>\n",
              "    </tr>\n",
              "    <tr>\n",
              "      <th>부산</th>\n",
              "      <td>1.764586</td>\n",
              "      <td>0.866387</td>\n",
              "      <td>1.011798</td>\n",
              "      <td>-0.843699</td>\n",
              "      <td>-0.630305</td>\n",
              "      <td>-0.537491</td>\n",
              "      <td>-0.083553</td>\n",
              "      <td>-0.052856</td>\n",
              "      <td>-0.250080</td>\n",
              "      <td>-1.059906</td>\n",
              "      <td>...</td>\n",
              "      <td>-0.135670</td>\n",
              "      <td>0.857876</td>\n",
              "      <td>0.903875</td>\n",
              "      <td>-0.449156</td>\n",
              "      <td>-0.622550</td>\n",
              "      <td>-0.510761</td>\n",
              "      <td>0.058538</td>\n",
              "      <td>-0.107861</td>\n",
              "      <td>-0.310237</td>\n",
              "      <td>-0.543843</td>\n",
              "    </tr>\n",
              "    <tr>\n",
              "      <th>세종</th>\n",
              "      <td>-1.806555</td>\n",
              "      <td>-1.698213</td>\n",
              "      <td>-2.097244</td>\n",
              "      <td>-0.884340</td>\n",
              "      <td>-0.711008</td>\n",
              "      <td>-1.089755</td>\n",
              "      <td>-1.108696</td>\n",
              "      <td>-0.553430</td>\n",
              "      <td>-0.560746</td>\n",
              "      <td>-0.204725</td>\n",
              "      <td>...</td>\n",
              "      <td>-0.842723</td>\n",
              "      <td>-1.009226</td>\n",
              "      <td>-0.846642</td>\n",
              "      <td>0.225388</td>\n",
              "      <td>-0.843536</td>\n",
              "      <td>-0.482711</td>\n",
              "      <td>-1.014542</td>\n",
              "      <td>-0.538628</td>\n",
              "      <td>-0.607990</td>\n",
              "      <td>-0.914916</td>\n",
              "    </tr>\n",
              "    <tr>\n",
              "      <th>울산</th>\n",
              "      <td>-0.843818</td>\n",
              "      <td>-1.213457</td>\n",
              "      <td>-0.750871</td>\n",
              "      <td>-0.872977</td>\n",
              "      <td>-0.677199</td>\n",
              "      <td>1.150686</td>\n",
              "      <td>-0.920690</td>\n",
              "      <td>0.400589</td>\n",
              "      <td>-0.493517</td>\n",
              "      <td>0.507522</td>\n",
              "      <td>...</td>\n",
              "      <td>0.527077</td>\n",
              "      <td>-0.181218</td>\n",
              "      <td>-0.561629</td>\n",
              "      <td>-0.439116</td>\n",
              "      <td>0.193389</td>\n",
              "      <td>-0.534153</td>\n",
              "      <td>1.523243</td>\n",
              "      <td>1.363437</td>\n",
              "      <td>-0.608978</td>\n",
              "      <td>-0.949440</td>\n",
              "    </tr>\n",
              "    <tr>\n",
              "      <th>인천</th>\n",
              "      <td>1.225974</td>\n",
              "      <td>-0.112676</td>\n",
              "      <td>0.820080</td>\n",
              "      <td>-0.806685</td>\n",
              "      <td>-0.212184</td>\n",
              "      <td>-0.091316</td>\n",
              "      <td>0.178704</td>\n",
              "      <td>-0.547660</td>\n",
              "      <td>3.352659</td>\n",
              "      <td>-0.980852</td>\n",
              "      <td>...</td>\n",
              "      <td>-0.159430</td>\n",
              "      <td>0.592842</td>\n",
              "      <td>0.980941</td>\n",
              "      <td>-0.238316</td>\n",
              "      <td>-0.411673</td>\n",
              "      <td>-0.146970</td>\n",
              "      <td>-0.422404</td>\n",
              "      <td>-0.437572</td>\n",
              "      <td>1.766281</td>\n",
              "      <td>0.142896</td>\n",
              "    </tr>\n",
              "    <tr>\n",
              "      <th>전남</th>\n",
              "      <td>-0.147705</td>\n",
              "      <td>-0.004924</td>\n",
              "      <td>0.164025</td>\n",
              "      <td>2.314113</td>\n",
              "      <td>-0.196920</td>\n",
              "      <td>0.743660</td>\n",
              "      <td>-0.135890</td>\n",
              "      <td>-0.455163</td>\n",
              "      <td>-0.397158</td>\n",
              "      <td>-0.746944</td>\n",
              "      <td>...</td>\n",
              "      <td>0.635123</td>\n",
              "      <td>-0.765944</td>\n",
              "      <td>-0.766398</td>\n",
              "      <td>-0.725399</td>\n",
              "      <td>-0.496765</td>\n",
              "      <td>-0.527737</td>\n",
              "      <td>-1.022170</td>\n",
              "      <td>0.358893</td>\n",
              "      <td>-0.544315</td>\n",
              "      <td>0.121481</td>\n",
              "    </tr>\n",
              "    <tr>\n",
              "      <th>전북</th>\n",
              "      <td>-0.110969</td>\n",
              "      <td>0.333923</td>\n",
              "      <td>-0.185723</td>\n",
              "      <td>0.537569</td>\n",
              "      <td>-0.087661</td>\n",
              "      <td>-0.036357</td>\n",
              "      <td>2.162702</td>\n",
              "      <td>0.169215</td>\n",
              "      <td>1.220266</td>\n",
              "      <td>2.257960</td>\n",
              "      <td>...</td>\n",
              "      <td>-0.214886</td>\n",
              "      <td>-0.735639</td>\n",
              "      <td>-0.580437</td>\n",
              "      <td>-0.282277</td>\n",
              "      <td>-0.554105</td>\n",
              "      <td>-0.394874</td>\n",
              "      <td>-0.148630</td>\n",
              "      <td>-0.406346</td>\n",
              "      <td>-0.534268</td>\n",
              "      <td>2.491566</td>\n",
              "    </tr>\n",
              "    <tr>\n",
              "      <th>제주</th>\n",
              "      <td>-1.459191</td>\n",
              "      <td>-1.692982</td>\n",
              "      <td>-1.351751</td>\n",
              "      <td>0.484653</td>\n",
              "      <td>-0.732213</td>\n",
              "      <td>-1.205671</td>\n",
              "      <td>-0.997687</td>\n",
              "      <td>-0.626806</td>\n",
              "      <td>-0.559519</td>\n",
              "      <td>-1.076753</td>\n",
              "      <td>...</td>\n",
              "      <td>-0.851981</td>\n",
              "      <td>-1.026691</td>\n",
              "      <td>-0.896524</td>\n",
              "      <td>-0.801488</td>\n",
              "      <td>-0.941156</td>\n",
              "      <td>-0.542655</td>\n",
              "      <td>-1.101314</td>\n",
              "      <td>-0.537637</td>\n",
              "      <td>-0.630615</td>\n",
              "      <td>-0.980643</td>\n",
              "    </tr>\n",
              "    <tr>\n",
              "      <th>충남</th>\n",
              "      <td>0.208395</td>\n",
              "      <td>0.315177</td>\n",
              "      <td>0.824572</td>\n",
              "      <td>1.079753</td>\n",
              "      <td>1.386370</td>\n",
              "      <td>2.177606</td>\n",
              "      <td>1.381396</td>\n",
              "      <td>-0.335466</td>\n",
              "      <td>0.253605</td>\n",
              "      <td>1.007708</td>\n",
              "      <td>...</td>\n",
              "      <td>2.093780</td>\n",
              "      <td>0.190516</td>\n",
              "      <td>0.321228</td>\n",
              "      <td>0.074000</td>\n",
              "      <td>0.334314</td>\n",
              "      <td>3.311517</td>\n",
              "      <td>1.700154</td>\n",
              "      <td>-0.475700</td>\n",
              "      <td>-0.283059</td>\n",
              "      <td>-0.309877</td>\n",
              "    </tr>\n",
              "    <tr>\n",
              "      <th>충북</th>\n",
              "      <td>-0.372041</td>\n",
              "      <td>0.767657</td>\n",
              "      <td>-0.233088</td>\n",
              "      <td>-0.195689</td>\n",
              "      <td>0.405657</td>\n",
              "      <td>0.231756</td>\n",
              "      <td>1.417864</td>\n",
              "      <td>-0.265667</td>\n",
              "      <td>-0.251907</td>\n",
              "      <td>1.193353</td>\n",
              "      <td>...</td>\n",
              "      <td>-0.713617</td>\n",
              "      <td>0.566934</td>\n",
              "      <td>-0.167369</td>\n",
              "      <td>0.853390</td>\n",
              "      <td>2.408489</td>\n",
              "      <td>0.901306</td>\n",
              "      <td>-0.432995</td>\n",
              "      <td>-0.384884</td>\n",
              "      <td>2.785850</td>\n",
              "      <td>0.619944</td>\n",
              "    </tr>\n",
              "  </tbody>\n",
              "</table>\n",
              "<p>15 rows × 24 columns</p>\n",
              "</div>"
            ],
            "text/plain": [
              "         주거용       공공용      서비스업      농림어업        광업       제조업     식료품제조  \\\n",
              "구분                                                                         \n",
              "강원 -0.447461  1.107363  0.393992 -0.316151  2.742496 -0.676282 -0.050383   \n",
              "경남  1.578961  1.176534  1.498349  1.305632  0.008994  0.431200  0.885979   \n",
              "경북  0.741750  1.560268  1.417523  0.888898  1.171658  1.539632 -0.003216   \n",
              "광주 -0.435282 -1.020610 -0.963503 -0.878909 -0.832773 -0.960380 -0.985356   \n",
              "대구  0.610246 -0.355709  0.065323 -0.884685 -0.806008 -0.689116 -0.860335   \n",
              "대전 -0.506892 -0.028737 -0.613482 -0.927483 -0.828903 -0.988171 -0.880839   \n",
              "부산  1.764586  0.866387  1.011798 -0.843699 -0.630305 -0.537491 -0.083553   \n",
              "세종 -1.806555 -1.698213 -2.097244 -0.884340 -0.711008 -1.089755 -1.108696   \n",
              "울산 -0.843818 -1.213457 -0.750871 -0.872977 -0.677199  1.150686 -0.920690   \n",
              "인천  1.225974 -0.112676  0.820080 -0.806685 -0.212184 -0.091316  0.178704   \n",
              "전남 -0.147705 -0.004924  0.164025  2.314113 -0.196920  0.743660 -0.135890   \n",
              "전북 -0.110969  0.333923 -0.185723  0.537569 -0.087661 -0.036357  2.162702   \n",
              "제주 -1.459191 -1.692982 -1.351751  0.484653 -0.732213 -1.205671 -0.997687   \n",
              "충남  0.208395  0.315177  0.824572  1.079753  1.386370  2.177606  1.381396   \n",
              "충북 -0.372041  0.767657 -0.233088 -0.195689  0.405657  0.231756  1.417864   \n",
              "\n",
              "       섬유,의류     목재,나무     펄프,종이    ...         1차금속      조립금속      기타기계  \\\n",
              "구분                                  ...                                    \n",
              "강원 -0.616388 -0.451440 -1.067457    ...    -0.545482 -0.948359 -0.828941   \n",
              "경남 -0.251316 -0.199913  1.028648    ...     0.272688  2.649920  2.895248   \n",
              "경북  3.501870 -0.123130 -0.175988    ...     2.359112  0.988392  0.661467   \n",
              "광주 -0.307126 -0.527273 -1.021363    ...    -0.829919 -0.694982 -0.502382   \n",
              "대구  0.525262 -0.469421  0.045628    ...    -0.758493  0.399217  0.130952   \n",
              "대전 -0.585057 -0.542427  0.293170    ...    -0.835579 -0.883638 -0.743391   \n",
              "부산 -0.052856 -0.250080 -1.059906    ...    -0.135670  0.857876  0.903875   \n",
              "세종 -0.553430 -0.560746 -0.204725    ...    -0.842723 -1.009226 -0.846642   \n",
              "울산  0.400589 -0.493517  0.507522    ...     0.527077 -0.181218 -0.561629   \n",
              "인천 -0.547660  3.352659 -0.980852    ...    -0.159430  0.592842  0.980941   \n",
              "전남 -0.455163 -0.397158 -0.746944    ...     0.635123 -0.765944 -0.766398   \n",
              "전북  0.169215  1.220266  2.257960    ...    -0.214886 -0.735639 -0.580437   \n",
              "제주 -0.626806 -0.559519 -1.076753    ...    -0.851981 -1.026691 -0.896524   \n",
              "충남 -0.335466  0.253605  1.007708    ...     2.093780  0.190516  0.321228   \n",
              "충북 -0.265667 -0.251907  1.193353    ...    -0.713617  0.566934 -0.167369   \n",
              "\n",
              "        사무기기      전기기기     영상,음향       자동차      기타운송     가구및기타      재생재료  \n",
              "구분                                                                        \n",
              "강원 -0.656697 -0.830062 -0.527178 -0.976346 -0.336181 -0.556318 -0.886117  \n",
              "경남 -0.222754  1.809963 -0.354695  1.289121  3.279342  1.110336  0.677332  \n",
              "경북  0.236074  1.293236  0.926336  1.511864 -0.307656 -0.239826  1.717722  \n",
              "광주 -0.373569 -0.238525 -0.287994 -0.534146 -0.529049 -0.552847 -0.439775  \n",
              "대구  3.389922 -0.406647 -0.453754  0.429803 -0.411663 -0.363103  0.180989  \n",
              "대전 -0.590002 -0.694371 -0.375678 -0.860175 -0.528492 -0.430911 -0.927319  \n",
              "부산 -0.449156 -0.622550 -0.510761  0.058538 -0.107861 -0.310237 -0.543843  \n",
              "세종  0.225388 -0.843536 -0.482711 -1.014542 -0.538628 -0.607990 -0.914916  \n",
              "울산 -0.439116  0.193389 -0.534153  1.523243  1.363437 -0.608978 -0.949440  \n",
              "인천 -0.238316 -0.411673 -0.146970 -0.422404 -0.437572  1.766281  0.142896  \n",
              "전남 -0.725399 -0.496765 -0.527737 -1.022170  0.358893 -0.544315  0.121481  \n",
              "전북 -0.282277 -0.554105 -0.394874 -0.148630 -0.406346 -0.534268  2.491566  \n",
              "제주 -0.801488 -0.941156 -0.542655 -1.101314 -0.537637 -0.630615 -0.980643  \n",
              "충남  0.074000  0.334314  3.311517  1.700154 -0.475700 -0.283059 -0.309877  \n",
              "충북  0.853390  2.408489  0.901306 -0.432995 -0.384884  2.785850  0.619944  \n",
              "\n",
              "[15 rows x 24 columns]"
            ]
          },
          "metadata": {
            "tags": []
          },
          "execution_count": 84
        }
      ]
    },
    {
      "metadata": {
        "id": "n0dS-LSS-49z",
        "colab_type": "code",
        "colab": {}
      },
      "cell_type": "code",
      "source": [
        ""
      ],
      "execution_count": 0,
      "outputs": []
    }
  ]
}