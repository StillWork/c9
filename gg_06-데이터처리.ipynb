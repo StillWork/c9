{
  "nbformat": 4,
  "nbformat_minor": 0,
  "metadata": {
    "colab": {
      "name": "gg-06-데이터처리.ipynb",
      "version": "0.3.2",
      "provenance": []
    },
    "kernelspec": {
      "display_name": "Python 3",
      "language": "python",
      "name": "python3"
    }
  },
  "cells": [
    {
      "metadata": {
        "id": "4tq-wkkoKjD5",
        "colab_type": "text"
      },
      "cell_type": "markdown",
      "source": [
        "## 리스트 연습"
      ]
    },
    {
      "metadata": {
        "id": "WMn-gqKiKjD9",
        "colab_type": "code",
        "colab": {}
      },
      "cell_type": "code",
      "source": [
        "shopping_list = []\n",
        "shopping_list.append(\"milk\")\n",
        "shopping_list.append(\"cheese\")\n",
        "shopping_list.append(\"bread\")"
      ],
      "execution_count": 0,
      "outputs": []
    },
    {
      "metadata": {
        "id": "Jini9IqpKjEB",
        "colab_type": "code",
        "colab": {},
        "outputId": "28be8a61-5342-4bce-8171-848d6d764a18"
      },
      "cell_type": "code",
      "source": [
        "shopping_list"
      ],
      "execution_count": 0,
      "outputs": [
        {
          "output_type": "execute_result",
          "data": {
            "text/plain": [
              "['milk', 'cheese', 'bread']"
            ]
          },
          "metadata": {
            "tags": []
          },
          "execution_count": 2
        }
      ]
    },
    {
      "metadata": {
        "id": "rt_UVgrSKjEH",
        "colab_type": "code",
        "colab": {},
        "outputId": "f04051aa-f572-4205-eb14-9d1fef578ea7"
      },
      "cell_type": "code",
      "source": [
        "shopping_list.remove(\"milk\")\n",
        "shopping_list"
      ],
      "execution_count": 0,
      "outputs": [
        {
          "output_type": "execute_result",
          "data": {
            "text/plain": [
              "['cheese', 'bread']"
            ]
          },
          "metadata": {
            "tags": []
          },
          "execution_count": 3
        }
      ]
    },
    {
      "metadata": {
        "id": "9EZdR4bWKjEL",
        "colab_type": "code",
        "colab": {},
        "outputId": "55af0489-9b8d-45c8-e8ec-16c53a29ef84"
      },
      "cell_type": "code",
      "source": [
        "for item in shopping_list:\n",
        "    print(item)"
      ],
      "execution_count": 0,
      "outputs": [
        {
          "output_type": "stream",
          "text": [
            "cheese\n",
            "bread\n"
          ],
          "name": "stdout"
        }
      ]
    },
    {
      "metadata": {
        "id": "EBXPEeigKjEP",
        "colab_type": "code",
        "colab": {},
        "outputId": "c10cd8e9-7e70-4676-b5f6-e323f2408dba"
      },
      "cell_type": "code",
      "source": [
        "if \"milk\" in shopping_list:\n",
        "    print(\"Delicious!\")\n",
        "\n",
        "if \"eggs\" not in shopping_list:\n",
        "    print(\"Well we can't have that!\")\n",
        "    shopping_list.append(\"eggs\")"
      ],
      "execution_count": 0,
      "outputs": [
        {
          "output_type": "stream",
          "text": [
            "Well we can't have that!\n"
          ],
          "name": "stdout"
        }
      ]
    },
    {
      "metadata": {
        "id": "I62wnCg0KjET",
        "colab_type": "code",
        "colab": {},
        "outputId": "e3e5d2be-706f-4f55-d880-6541599e48c8"
      },
      "cell_type": "code",
      "source": [
        "shopping_list"
      ],
      "execution_count": 0,
      "outputs": [
        {
          "output_type": "execute_result",
          "data": {
            "text/plain": [
              "['cheese', 'bread', 'eggs']"
            ]
          },
          "metadata": {
            "tags": []
          },
          "execution_count": 6
        }
      ]
    },
    {
      "metadata": {
        "id": "UtNoBB-2KjEX",
        "colab_type": "text"
      },
      "cell_type": "markdown",
      "source": [
        "## 딕셔너리 연습\n"
      ]
    },
    {
      "metadata": {
        "id": "AZ25vwSJKjEY",
        "colab_type": "code",
        "colab": {}
      },
      "cell_type": "code",
      "source": [
        "foods = {}"
      ],
      "execution_count": 0,
      "outputs": []
    },
    {
      "metadata": {
        "id": "hQ_i95X5KjEb",
        "colab_type": "code",
        "colab": {},
        "outputId": "9dadb46e-8b86-413d-d9c8-6284bf724b41"
      },
      "cell_type": "code",
      "source": [
        "foods[\"banana\"] = \"A delicious and tasty treat!\"\n",
        "foods[\"dirt\"]   = \"Not delicious. Not tasty. DO NOT EAT!\"\n",
        "foods"
      ],
      "execution_count": 0,
      "outputs": [
        {
          "output_type": "execute_result",
          "data": {
            "text/plain": [
              "{'banana': 'A delicious and tasty treat!',\n",
              " 'dirt': 'Not delicious. Not tasty. DO NOT EAT!'}"
            ]
          },
          "metadata": {
            "tags": []
          },
          "execution_count": 10
        }
      ]
    },
    {
      "metadata": {
        "id": "wHff9Xb_KjEd",
        "colab_type": "code",
        "colab": {},
        "outputId": "1e8928be-c760-4098-a402-08bf400b34fe"
      },
      "cell_type": "code",
      "source": [
        "foods[\"banana\"]"
      ],
      "execution_count": 0,
      "outputs": [
        {
          "output_type": "execute_result",
          "data": {
            "text/plain": [
              "'A delicious and tasty treat!'"
            ]
          },
          "metadata": {
            "tags": []
          },
          "execution_count": 11
        }
      ]
    },
    {
      "metadata": {
        "id": "FEYL_e1TKjEh",
        "colab_type": "code",
        "colab": {},
        "outputId": "43760f03-28a4-4d71-bc1b-4772997060d3"
      },
      "cell_type": "code",
      "source": [
        "foods[\"cheese\"]"
      ],
      "execution_count": 0,
      "outputs": [
        {
          "output_type": "error",
          "ename": "KeyError",
          "evalue": "'cheese'",
          "traceback": [
            "\u001b[0;31m---------------------------------------------------------------------------\u001b[0m",
            "\u001b[0;31mKeyError\u001b[0m                                  Traceback (most recent call last)",
            "\u001b[0;32m<ipython-input-12-92e8dea09452>\u001b[0m in \u001b[0;36m<module>\u001b[0;34m()\u001b[0m\n\u001b[0;32m----> 1\u001b[0;31m \u001b[0mfoods\u001b[0m\u001b[0;34m[\u001b[0m\u001b[0;34m\"cheese\"\u001b[0m\u001b[0;34m]\u001b[0m\u001b[0;34m\u001b[0m\u001b[0m\n\u001b[0m",
            "\u001b[0;31mKeyError\u001b[0m: 'cheese'"
          ]
        }
      ]
    },
    {
      "metadata": {
        "id": "PcrzpVN9KjEl",
        "colab_type": "code",
        "colab": {},
        "outputId": "f6d55ac9-ff34-40c1-9c52-29cc8284038a"
      },
      "cell_type": "code",
      "source": [
        "if \"cheese\" in foods:\n",
        "    print(\"Cheese is one of the known foods!\")\n",
        "else:\n",
        "    print(\"No cheese\")"
      ],
      "execution_count": 0,
      "outputs": [
        {
          "output_type": "stream",
          "text": [
            "No cheese\n"
          ],
          "name": "stdout"
        }
      ]
    },
    {
      "metadata": {
        "id": "FFk7msi8KjEr",
        "colab_type": "code",
        "colab": {},
        "outputId": "4992a4af-9c2e-4c5b-cba3-3c7d50fb1a6a"
      },
      "cell_type": "code",
      "source": [
        "del foods[\"dirt\"]\n",
        "foods"
      ],
      "execution_count": 0,
      "outputs": [
        {
          "output_type": "execute_result",
          "data": {
            "text/plain": [
              "{'banana': 'A delicious and tasty treat!'}"
            ]
          },
          "metadata": {
            "tags": []
          },
          "execution_count": 16
        }
      ]
    },
    {
      "metadata": {
        "id": "20ep-IX9KjEv",
        "colab_type": "text"
      },
      "cell_type": "markdown",
      "source": [
        "## 파일 다루기\n",
        "- 텍스트 파일 다운로드\n",
        "- http://opentechschool.github.io/python-data-intro/files/radishsurvey.txt"
      ]
    },
    {
      "metadata": {
        "id": "6Zj5rwcpKjEv",
        "colab_type": "code",
        "colab": {},
        "outputId": "1d1b55cb-080f-46b2-f615-d29ac034a9c0"
      },
      "cell_type": "code",
      "source": [
        "!curl http://opentechschool.github.io/python-data-intro/files/radishsurvey.txt\\\n",
        "    -o ./data/radishsurvey.txt\n",
        "    \n",
        "# 윈도우에서는 위의 웹 주소를 입력하면 파일을 직접 다운받을 수 있다."
      ],
      "execution_count": 0,
      "outputs": [
        {
          "output_type": "stream",
          "text": [
            "  % Total    % Received % Xferd  Average Speed   Time    Time     Time  Current\n",
            "                                 Dload  Upload   Total   Spent    Left  Speed\n",
            "100 19816  100 19816    0     0  85783      0 --:--:-- --:--:-- --:--:-- 85783\n"
          ],
          "name": "stdout"
        }
      ]
    },
    {
      "metadata": {
        "id": "QzKSwDaWKjE1",
        "colab_type": "code",
        "colab": {},
        "outputId": "b7c75e54-234a-4105-8ee0-726527e0c2b6"
      },
      "cell_type": "code",
      "source": [
        "# 파일의 상위 10 라인 보기\n",
        "!head -10 ./data/radishsurvey.txt"
      ],
      "execution_count": 0,
      "outputs": [
        {
          "output_type": "stream",
          "text": [
            "Evie Pulsford - April Cross\r\n",
            "Matilda Condon - April Cross\r\n",
            "Samantha Mansell - Champion\r\n",
            "geronima trevisani - cherry belle\r\n",
            "Alexandra Shoebridge - Snow Belle\r\n",
            "Sarah Ahuia Ova - Snow Belle\r\n",
            "Emma Slattery - Bunny Tail\r\n",
            "Fabiana  Milanesi - Champion\r\n",
            "Makayla McMinn - Snow Belle\r\n",
            "Julian O'Leary - Sicily Giant\r\n"
          ],
          "name": "stdout"
        }
      ]
    },
    {
      "metadata": {
        "id": "BbqjM8JIKjE6",
        "colab_type": "code",
        "colab": {},
        "outputId": "71c1b3c8-668c-4d5f-e4a2-d68c6a583a33"
      },
      "cell_type": "code",
      "source": [
        "with open(\"./data/radishsurvey.txt\") as file:\n",
        "    for line in file:       \n",
        "        line = line.strip()\n",
        "        parts = line.split(\" - \")\n",
        "        name = parts[0]\n",
        "        vote = parts[1]\n",
        "        print(name + \" voted for \" + vote)"
      ],
      "execution_count": 0,
      "outputs": [
        {
          "output_type": "stream",
          "text": [
            "Evie Pulsford voted for April Cross\n",
            "Matilda Condon voted for April Cross\n",
            "Samantha Mansell voted for Champion\n",
            "geronima trevisani voted for cherry belle\n",
            "Alexandra Shoebridge voted for Snow Belle\n",
            "Sarah Ahuia Ova voted for Snow Belle\n",
            "Emma Slattery voted for Bunny Tail\n",
            "Fabiana  Milanesi voted for Champion\n",
            "Makayla McMinn voted for Snow Belle\n",
            "Julian O'Leary voted for Sicily Giant\n",
            "Hannah Collie voted for Bunny Tail\n",
            "Toby Lundie voted for Plum Purple\n",
            "Baldo Palerma voted for Champion\n",
            "Phoebe Barwell voted for Plum Purple\n",
            "Sheng Shen voted for Champion\n",
            "Jonathan Rolph voted for Snow Belle\n",
            "Aaron Yarnold voted for Red King\n",
            "Indiana angwin voted for  Daikon\n",
            "Luke Komine voted for White Icicle\n",
            "Blake Ricardo voted for Daikon\n",
            "Mikayla Biddell voted for Daikon\n",
            "Piper Wheelwright voted for Bunny Tail\n",
            "Bailey Derrington voted for White Icicle\n",
            "Eufrosina Ferri voted for Daikon\n",
            "Madeleine Abrahams voted for Daikon\n",
            "Indiana Cowper voted for Sicily Giant\n",
            "Procopio Zito voted for Red King\n",
            "Ryan Langley voted for French Breakfast\n",
            "anthony Gairdner voted for French Breakfast\n",
            "Darcy Kayser voted for Champion\n",
            "Adelmo De Luca voted for Plum Purple\n",
            "Sienna Hovell voted for Champion\n",
            "Mary Cardell voted for April Cross\n",
            "Ebony Agnes voted for Daikon\n",
            "Lola Atkinson voted for Plum Purple\n",
            "Jonathan Walton voted for Champion\n",
            "Tristan Gwynn voted for Red King\n",
            "Jackson Longman voted for Red King\n",
            "Archer Dodds voted for April Cross\n",
            "Lilian Burne voted for French Breakfast\n",
            "Ava McNaughtan voted for April Cross\n",
            "Nate Shelley voted for Daikon\n",
            "Antonia Buccho voted for Champion\n",
            "Kaitlyn Rudduck voted for Cherry Belle\n",
            "Skye Thynne voted for Champion\n",
            "Ethan Collings voted for Plum Purple\n",
            "Finn Leverrier voted for Plum Purple\n",
            "Lee T'an voted for Plum Purple\n",
            "Tyler Forbes voted for White Icicle\n",
            "abbey dunkley voted for  plum purple\n",
            "rose stacy voted for french breakfast\n",
            "Gianfranco Cremonesi voted for White Icicle\n",
            "Grace Wentworth voted for French Breakfast\n",
            "Cooper Menkens voted for  Snow Belle\n",
            "Scarlett Macdougall voted for French Breakfast\n",
            "Fabio Pugliesi voted for Bunny Tail\n",
            "Keira Wrenfordsley voted for Red King\n",
            "Daniel Krimper voted for  Plum Purple\n",
            "Anna Deniehy voted for April Cross\n",
            "Sabrina Beneventi voted for Cherry Belle\n",
            "Oliver Potts voted for Snow Belle\n",
            "Milla Winn voted for Plum Purple\n",
            "Finn Whitworth voted for Sicily Giant\n",
            "Sophie Keynes voted for Plum Purple\n",
            "Joel Brownell voted for Plum Purple\n",
            "Jonathan Parsons voted for French Breakfast\n",
            "Amelia Ellwood voted for Snow Belle\n",
            "Lincoln Gatehouse voted for Bunny Tail\n",
            "Jin Huang voted for Daikon\n",
            "Kuan-Yin Sun voted for Champion\n",
            "Tao Hsiao voted for White Icicle\n",
            "Emily Walters voted for White Icicle\n",
            "nicholas kirby voted for french breakfast\n",
            "Hong Tsui voted for April Cross\n",
            "Mikayla Fullagar voted for Cherry Belle\n",
            "Lola Catchpole voted for April Cross\n",
            "Lelia Toscani voted for Bunny Tail\n",
            "Natasha Prout voted for Cherry Belle\n",
            "Raffaello Schiavone voted for Red King\n",
            "Erin Stephen voted for Plum Purple\n",
            "Eve Peacock voted for Daikon\n",
            "Jordan Manning voted for Sicily Giant\n",
            "Tyler Lister voted for April Cross\n",
            "brodie agnew voted for daikon\n",
            "Lincoln Hirschfeld voted for Champion\n",
            "Ciriaca Genovesi voted for Bunny Tail\n",
            "Dewei Niu voted for Snow Belle\n",
            "Fai Teng voted for Bunny Tail\n",
            "Rossana Cattaneo voted for  Snow Belle\n",
            "Isabelle Coombes voted for Daikon\n",
            "Layla Hitchcock voted for Red King\n",
            "Ashley Brigstocke voted for Red King\n",
            "Lei Tai voted for Daikon\n",
            "Victoria Humffray voted for Sicily Giant\n",
            "Jake Champ voted for Daikon\n",
            "Ben Vosper voted for Cherry Belle\n",
            "Harrison Rose voted for Red King\n",
            "Thomas Oom voted for White Icicle\n",
            "Sophie Browning voted for Red King\n",
            "Scarlett Hughes voted for Bunny Tail\n",
            "Anthony Collits voted for Champion\n",
            "Alicia Forrest voted for Sicily Giant\n",
            "Riley Leakey voted for April Cross\n",
            "Bethany Calwell voted for French Breakfast\n",
            "Leo Sheil voted for April Cross\n",
            "Kai MacMahon voted for April Cross\n",
            "Rong Kuo voted for Champion\n",
            "Stephanie Schnaars voted for White Icicle\n",
            "Bethany Bardolph voted for French Breakfast\n",
            "Guido Beneventi voted for French Breakfast\n",
            "Victoria Witt voted for Daikon\n",
            "Jun Hsiung voted for Bunny Tail\n",
            "Noah Berrick voted for Daikon\n",
            "Beato Mazzanti voted for Sicily Giant\n",
            "Anna Denning voted for White Icicle\n",
            "Sebastian George voted for Cherry Belle\n",
            "Mackenzie Andrade voted for Champion\n",
            "Sarah Joris  voted for Champion\n",
            "Joel Cassell voted for Plum Purple\n",
            "Harrison Moowattin voted for Champion\n",
            "william fenner voted for plum purple\n",
            "Madeline Corbin voted for Bunny Tail\n",
            "Sebastian Davitt voted for Champion\n",
            "Li Qin Ch'ien voted for Sicily Giant\n",
            "Owen Lea voted for Champion\n",
            "Liam Copeland voted for Champion\n",
            "Brianna Eltham voted for Sicily Giant\n",
            "Joseph Gresswell voted for Sicily Giant\n",
            "Alfonsina Marchesi voted for April Cross\n",
            "Caitlin Houlding voted for Snow Belle\n",
            "Natalie Schlapp voted for April Cross\n",
            "Shaiming Fu voted for Champion\n",
            "Lisandro Monaldo voted for Champion\n",
            "Ruby Fox voted for White Icicle\n",
            "Benjamin Rankin voted for Snow Belle\n",
            "Connor Letters voted for April Cross\n",
            "Laura Macdowell voted for Daikon\n",
            "Jake Hervey voted for April Cross\n",
            "Alyssa Batman voted for Snow Belle\n",
            "Archer Larra voted for French Breakfast\n",
            "Brayden Dixon voted for Bunny Tail\n",
            "Kuan-Yin Kuo voted for Cherry Belle\n",
            "Lucy Ley voted for Red King\n",
            "Rachele  Russo voted for Cherry Belle\n",
            "Lucy Somers voted for Daikon\n",
            "Ella Boucaut voted for Champion\n",
            "Iacopo Baresi voted for Bunny Tail\n",
            "Ali Dedman voted for White Icicle\n",
            "Victoria Edinburgh voted for French Breakfast\n",
            "Brianna Pye voted for Red King\n",
            "Joel Bruce voted for Snow Belle\n",
            "Lola Lea voted for Bunny Tail\n",
            "Zachary Burford voted for Champion\n",
            "Gabriella Bruton voted for April Cross\n",
            "Finn Dunstan voted for Cherry Belle\n",
            "Logan Truchanas voted for Red King\n",
            "beau mclarty voted for white icicle\n",
            "Carla De Luca voted for Daikon\n",
            "Taylah Reynolds voted for Champion\n",
            "Ava Musgrave voted for Bunny Tail\n",
            "Jade Grimmett voted for Bunny Tail\n",
            "Eliza Fink voted for April Cross\n",
            "Charles Tearle voted for April Cross\n",
            "Victoria Birch voted for Snow Belle\n",
            "Mackenzie Geach voted for Plum Purple\n",
            "Charles Card voted for Cherry Belle\n",
            "Olivia Warnes voted for Sicily Giant\n",
            "Jake Murdoch voted for Cherry Belle\n",
            "Brayden Massina voted for April Cross\n",
            "Sarah Milford voted for White Icicle\n",
            "Lilian Pike voted for French Breakfast\n",
            "Blake Dakin voted for Champion\n",
            "Chi Hsiung voted for April Cross\n",
            "Ludovica Siciliano voted for Sicily Giant\n",
            "Rose Leahy voted for French Breakfast\n",
            "Nicodemo Udinese voted for Bunny Tail\n",
            "Amy Harriman voted for Sicily Giant\n",
            "Harrison Macgeorge voted for Red King\n",
            "Charles Mockridge voted for Cherry Belle\n",
            "Victoria Hardie  voted for Sicily Giant\n",
            "Jake Hambly voted for Sicily Giant\n",
            "Bartolomeo Mancini voted for French Breakfast\n",
            "Maya Shackleton voted for Snow Belle\n",
            "Hudson Dodgshun voted for White Icicle\n",
            "Scarlett Sullivan voted for Snow Belle\n",
            "Noah Doyne voted for April cross\n",
            "Aidan Santo voted for Bunny Tail\n",
            "kai emmett voted for bunny tail\n",
            "Christopher Gillan voted for Daikon\n",
            "Lara Salting voted for White Icicle\n",
            "Alfonso Costa voted for Daikon\n",
            "Mackenzie Knatchbull voted for Red King\n",
            "Oliver Beit voted for Plum Purple\n",
            "Thomas Muecke voted for French Breakfast\n",
            "Sabrina Li Fonti voted for Bunny Tail\n",
            "Jasmine Brake voted for Snow Belle\n",
            "Sienna Bonnor voted for Daikon\n",
            "Isabelle Llewelyn voted for Daikon\n",
            "Amelie Farber voted for White Icicle\n",
            "Keira Horner voted for Red King\n",
            "Annabelle Colechin voted for French Breakfast\n",
            "George Schlunke voted for Daikon\n",
            "Hugo Stretch voted for French Breakfast\n",
            "Isabella Pardey voted for White Icicle\n",
            "Toby Docker voted for Red King\n",
            "Caitlyn Hotchin voted for French Breakfast\n",
            "Samuel Ansell voted for Sicily Giant\n",
            "Prospero Milano voted for Champion\n",
            "Zhi Chin voted for White Icicle\n",
            "nate brooker voted for daikon\n",
            "Elizabeth McNab voted for April Cross\n",
            "Amelie Torpy voted for Champion\n",
            "Audrey Bock voted for Bunny Tail\n",
            "Abbey Dawson voted for Plum Purple\n",
            "Hugo Coppleson voted for Daikon\n",
            "Lilly Tait voted for Red King\n",
            "Archer Frederick voted for April Cross\n",
            "Alvisio Mazzi voted for April Cross\n",
            "Chloe  MacLaurin voted for Champion\n",
            "Georgia Bruny voted for April Cross\n",
            "Caitlyn Mullah voted for White Icicle\n",
            "Gang Chia voted for Red King\n",
            "Lauren Pennefather voted for French Breakfast\n",
            "Fang Ch'eng voted for Cherry Belle\n",
            "Summer Withers voted for Snow Belle\n",
            "Kayla Sievier voted for Snow Belle\n",
            "Edoardo Sal voted for Champion\n",
            "Layla Fossey voted for April Cross\n",
            "Ella Weston voted for Champion\n",
            "Patrick Camidge voted for French Breakfast\n",
            "Erin Stretton voted for French Breakfast\n",
            "Poppy Duggan voted for Champion\n",
            "Daniel Hogben voted for Daikon\n",
            "Wan Tsai voted for Snow Belle\n",
            "Olimpia Udinesi voted for April Cross\n",
            "Xue Fang Fu voted for Daikon\n",
            "Alyssa McInnes voted for Daikon\n",
            "Connor Morphett voted for Plum Purple\n",
            "Nathan Trott voted for French Breakfast\n",
            "Brock Brunker voted for Bunny Tail\n",
            "Hayden O'Connell voted for French Breakfast\n",
            "James  Larra voted for April Cross\n",
            "Eva Geiger voted for Plum Purple\n",
            "Taj Shackell voted for White Icicle\n",
            "Eliza O'Haran voted for Champion\n",
            "Aidan Dore voted for April Cross\n",
            "Aiden Reginald voted for Plum Purple\n",
            "Bruna Rizzo voted for Snow Belle\n",
            "Alex Wemyss voted for April Cross\n",
            "claudia westgarth voted for daikon\n",
            "Jett Glynde voted for Plum Purple\n",
            "Brooke Huffer voted for Daikon\n",
            "Stephanie Synan voted for Sicily Giant\n",
            "Salvatore Sagese voted for French Breakfast\n",
            "Edgardo Mazzanti voted for Daikon\n",
            "Brodie De Lissa voted for Cherry Belle\n",
            "Cai Pan voted for Sicily Giant\n",
            "Caitlyn Ridgeway voted for Sicily Giant\n",
            "Mason Dymock voted for Plum Purple\n",
            "Oliviero Lucchesi voted for Bunny Tail\n",
            "Antonietta Baresi voted for Cherry Belle\n",
            "Abbey Cousens voted for Daikon\n",
            "Hui Hsiung voted for Cherry Belle\n",
            "Marcus Brown voted for Sicily Giant\n",
            "James Poupinel voted for Daikon\n",
            "Lucas Tomkinson voted for Champion\n",
            "Xin Qian Shih voted for White Icicle\n",
            "Abigail Clark voted for White Icicle\n",
            "Archie Gilfillan voted for French Breakfast\n",
            "maya woolcock voted for april cross\n",
            "Wei Hsiao voted for Daikon\n",
            "Lauren Rosevear voted for Red King\n",
            "Eve Gargett voted for Snow Belle\n",
            "Cristian Pisano voted for Champion\n",
            "Bianca Knopwood voted for White Icicle\n",
            "Alyssa Loewe voted for Daikon\n",
            "Feng Li voted for French Breakfast\n",
            "Yi Min Chu voted for Plum Purple\n",
            "Aiden Tasman voted for Red King\n",
            "corinna lucchese voted for champion\n",
            "Taylah Shore voted for Cherry Belle\n",
            "nilde beneventi voted for french breakfast\n",
            "edward greener voted for bunny tail\n",
            "Nate Lodewyckx voted for Sicily Giant\n",
            "Mariam Langridge voted for Red King\n",
            "Indiana Cory voted for Champion\n",
            "David Rees voted for April Cross\n",
            "Daniel Appleton voted for Red King\n",
            "Luke Leeper voted for Red King\n",
            "Toby Spring voted for French Breakfast\n",
            "Cody Laffer voted for Red King\n",
            "Lilian Woodriff voted for Plum Purple\n",
            "hudson crane voted for sicily giant\n",
            "Anthony Wand voted for Bunny Tail\n",
            "Dean Mattner voted for Red King\n",
            "Lucinda Howarde voted for Sicily Giant\n",
            "Caleb Clancy voted for Red King\n",
            "Mia Legg voted for White Icicle\n",
            "Isla Mehaffey voted for Sicily Giant\n",
            "Cooper Lasseter voted for April Cross\n",
            "Indiana Scott voted for Cherry Belle\n",
            "Kaitlyn Kay voted for French Breakfast\n",
            "Abbey Aronson voted for April Cross\n",
            "Madeleine Hartung voted for Snow Belle\n",
            "Abbey Tyas voted for Red King\n",
            "Jacob Spowers voted for Snow Belle\n",
            "Brodie Fraser voted for French Breakfast\n",
            "Ivo Lucchesi voted for Champion\n",
            "Harry Wormald voted for French Breakfast\n",
            "Lilian Macquarie voted for White Icicle\n",
            "Chelsea Warby voted for Bunny Tail\n",
            "Eugenio Pagnotto voted for Sicily Giant\n",
            "Michael Hargrave voted for Cherry Belle\n",
            "Leda Romani voted for April Cross\n",
            "Christopher Walton voted for Champion\n",
            "Zachary Bass voted for White Icicle\n",
            "jorja franklyn voted for white icicle\n",
            "Makayla Sutton voted for Plum Purple\n",
            "Shu Fang Tsou voted for French Breakfast\n",
            "Evie Carey voted for Bunny Tail\n",
            "Alannah Bleakley voted for Bunny Tail\n",
            "Alma Longo voted for Cherry Belle\n",
            "Abbey Garvin voted for Snow Belle\n",
            "Isabella Van De Velde voted for Plum Purple\n",
            "scarlett price voted for april cross\n",
            "Beau Hauslaib voted for Champion\n",
            "Isabelle Mathew voted for Sicily Giant\n",
            "Laura Callinan voted for Cherry Belle\n",
            "Cody Le Rennetel voted for French Breakfast\n",
            "Rachel Luke voted for Snow Belle\n",
            "Tristan Glynde voted for Snow Belle\n",
            "Qiao Tien voted for Bunny Tail\n",
            "Alana Meares voted for Red King\n",
            "Xiao Chen Chiang voted for Sicily Giant\n",
            "Jack Finlay voted for Cherry Belle\n",
            "Jaxon Keen  voted for Plum Purple\n",
            "Jordan Catani voted for Plum Purple\n",
            "Piera Trevisan voted for Red King\n",
            "Bailey Mussen voted for Bunny Tail\n",
            "Hayley Coverdale voted for White Icicle\n",
            "Sophie Eipper voted for Snow Belle\n",
            "Beata Endrizzi voted for Daikon\n",
            "David Moynihan voted for White Icicle\n",
            "Andrew Martens voted for French Breakfast\n",
            "Nate Higgs voted for Red King\n",
            "Isaac Banks voted for Snow Belle\n",
            "Xavier Sligo voted for Champion\n",
            "Nathan Aird  voted for Plum Purple\n",
            "Cooper Monk voted for Bunny Tail\n",
            "Kayla Kinsella voted for Champion\n",
            "Sean Maclurcan voted for Sicily Giant\n",
            "Jett Faucett voted for April Cross\n",
            "Koby Mary voted for Red King\n",
            "Lok Fan voted for Champion\n",
            "Liam Burn voted for French Breakfast\n",
            "Ryan Skeats voted for Snow Belle\n",
            "Harrison Barlee voted for Cherry Belle\n",
            "Marcus South voted for Champion\n",
            "Emily Kumm voted for  White Icicle\n",
            "Tristan Lack voted for Cherry Belle\n",
            "Rebecca Godfrey voted for Red King\n",
            "Bailey Randell voted for Red King\n",
            "Emma Slater voted for Bunny Tail\n",
            "Ellie Eaton voted for Sicily Giant\n",
            "Hamish Kevin voted for Sicily Giant\n",
            "Bella Lyttle voted for Bunny Tail\n",
            "Guang Lo voted for April Cross\n",
            "Jai Keith voted for Daikon\n",
            "Lucinda Emanuel voted for Plum Purple\n",
            "Tayla English voted for Plum Purple\n",
            "Eden Petchy voted for Daikon\n",
            "Lee Chen voted for April Cross\n",
            "Angus De Mestre voted for White Icicle\n",
            "Maya Huish voted for Snow Belle\n",
            "Emily Plante voted for White Icicle\n",
            "Connor Fairbridge voted for Bunny Tail\n",
            "Lara Cawker voted for Champion\n",
            "Blanda Panicucci voted for Bunny Tail\n",
            "Napoleone Marcelo voted for Champion\n",
            "Georgia Gillen voted for Snow Belle\n",
            "Giselda Napolitano voted for French Breakfast\n",
            "Anthony Hugo voted for Red King\n",
            "Oscar Saltau voted for April Cross\n",
            "Ashton Pearce voted for Daikon\n",
            "Kiara Maxwell-Mahon voted for White Icicle\n",
            "Sebastian Ball voted for French Breakfast\n",
            "Anna Howarde voted for Bunny Tail\n",
            "Lauren Nisbet voted for Plum Purple\n",
            "Patrick Porteus voted for Bunny Tail\n",
            "ling tuan voted for Red King\n",
            "Park Ch'en voted for Sicily Giant\n",
            "Yi Tseng voted for French Breakfast\n",
            "Angelina Dangar voted for Snow Belle\n",
            "Carolina Cattaneo voted for Snow Belle\n",
            "Sean Tait voted for Snow Belle\n",
            "Alex Falk voted for White Icicle\n",
            "oliver thirkell voted for french breakfast\n",
            "Jesse Fairley voted for Champion\n",
            "Benito Cocci voted for Snow Belle\n",
            "Laura Samuels voted for Champion\n",
            "Kuan-Yin Tao voted for Cherry Belle\n",
            "Shi She voted for Champion\n",
            "Isabella Hoffnung voted for April Cross\n",
            "George Carandini voted for White Icicle\n",
            "Sarah Bindi voted for French Breakfast\n",
            "Andrew Quick voted for April Cross\n",
            "Giosuè Romano voted for Champion\n",
            "Eva Ruth voted for Plum Purple\n",
            "Koby Gabriel voted for Champion\n",
            "Jayden Josephson voted for April Cross\n",
            "Mafalda Marchesi voted for Snow Belle\n",
            "Gabrielle Porteus voted for Daikon\n",
            "Dylan Synnot voted for Red King\n",
            "Brooke Kisch voted for Bunny Tail\n",
            "Quintilia Trentini voted for Bunny Tail\n",
            "Taj Moonlight voted for Plum Purple\n",
            "Ava Sorell voted for Bunny Tail\n",
            "Kate Buchanan voted for Sicily Giant\n",
            "Stella Inwood voted for Cherry Belle\n",
            "Cody Glauert voted for Snow Belle\n",
            "Callimaco Lombardi voted for Champion\n",
            "ella irving voted for cherry belle\n",
            "Guan-yin Hsiao voted for Red King\n",
            "alicia muscio voted for april cross\n",
            "Alana Sturdee voted for Champion\n",
            "Makayla Fairbairn voted for White Icicle\n",
            "Kaitlyn Collings voted for Bunny Tail\n",
            "Alexis Le Hunte voted for Champion\n",
            "lilian andrade voted for bunny tail\n",
            "Alannah Housley voted for Bunny Tail\n",
            "Rose Peeler voted for Champion\n",
            "Yue Wan Yeh voted for White Icicle\n",
            "Evie Langwell voted for Snow Belle\n",
            "Zoe Jasprizza voted for Red King\n",
            "Ivo Sagese voted for April Cross\n",
            "Rory Springthorpe voted for Snow Belle\n",
            "hannah gabriel voted for red king\n",
            "Jonathan Paten voted for Bunny Tail\n",
            "Jessica Rapke voted for Sicily Giant\n",
            "Jake Sterne voted for Daikon\n",
            "Lola Mashman voted for Bunny Tail\n",
            "Chan Yen voted for Cherry Belle\n",
            "Timothy Beeton voted for White Icicle\n",
            "Joseph Hill voted for Daikon\n",
            "Luke Gye voted for Plum Purple\n",
            "Giuseppe Manna voted for Sicily Giant\n",
            "Matilda Wardlaw voted for Red King\n",
            "Hannah Dibbs voted for Plum Purple\n",
            "Xavier Truman voted for French Breakfast\n",
            "Emma Sodersten voted for April Cross\n",
            "Blake Sodersten voted for French Breakfast\n",
            "Andrew Schwarz voted for Cherry Belle\n",
            "Owen Montgomery voted for Snow Belle\n",
            "Blake Hurst voted for White Icicle\n",
            "Brayden Brill voted for Cherry Belle\n",
            "Keira Strzelecki voted for Champion\n",
            "Zhen Juan Tsai voted for White Icicle\n",
            "Mulan Kung voted for Red King\n",
            "Clorinda Pugliesi voted for Champion\n",
            "Abbey Strzelecki voted for French Breakfast\n",
            "Andrew Howitt voted for April Cross\n",
            "Sebastian Langford voted for Cherry  Belle\n",
            "hayley Hinchcliffe voted for Cherry Belle\n",
            "Ebony Anton voted for Sicily Giant\n",
            "Seth Reginald voted for April Cross\n",
            "Beau Gosling voted for Plum Purple\n",
            "Christopher Moss voted for White Icicle\n",
            "laura uhr voted for red king\n",
            "Jamie Faithful voted for  Red King\n",
            "Isaac Tennyson voted for Daikon\n",
            "Gemma Norton voted for  Sicily Giant\n",
            "Matilda Madden voted for Red King\n",
            "Azeglio Napolitano voted for Red King\n",
            "David Tomlinson voted for Bunny Tail\n",
            "Christian Morris voted for Champion\n",
            "Amy Goulburn voted for April Cross\n",
            "Christopher Clunies voted for April Cross\n",
            "annabelle armytage voted for daikon\n",
            "Hunter Connely voted for Snow Belle\n",
            "Summer Stenhouse voted for April Cross\n",
            "Alicia Farmer voted for White Icicle\n",
            "Charlotte Slattery voted for Red King\n",
            "Georgia Jessop voted for Cherry Belle\n",
            "Abby Metters voted for Champion\n",
            "Madeleine Behan voted for Snow Belle\n",
            "Hayley Kernot voted for Plum Purple\n",
            "Ubaldo Trevisani voted for Champion\n",
            "Annabelle Scarfe voted for Cherry Belle\n",
            "Flynn Weingarth voted for Sicily Giant\n",
            "Indiana Keast voted for April Cross\n",
            "Wang Tien voted for French Breakfast\n",
            "Elijah Kingsbury voted for Plum Purple\n",
            "henry wright voted for sicily giant\n",
            "Meng Ni voted for Snow Belle\n",
            "Sara Coffill voted for Sicily Giant\n",
            "Giusy Lombardi voted for Plum  Purple\n",
            "Egidio Mancini voted for Sicily Giant\n",
            "Bethany Macfarlan voted for Bunny Tail\n",
            "Alexis Cowlishaw voted for Bunny Tail\n",
            "Skye Garvin voted for April Cross\n",
            "Abbey Rivett voted for Snow Belle\n",
            "Mikayla Woollacott voted for Sicily Giant\n",
            "Abbey Cochran voted for Daikon\n",
            "Jasmine Baughan voted for White Icicle\n",
            "Da-Xia Liang voted for April Cross\n",
            "Dominic Nangle voted for White Icicle\n",
            "Jesse Jury voted for Sicily Giant\n",
            "Ruby Elias voted for Daikon\n",
            "David Read voted for Bunny Tail\n",
            "Yue Yan T'ang voted for April Cross\n",
            "Qiang Tsui voted for Cherry Belle\n",
            "Grace Parkinson voted for Snow Belle\n",
            "Yue Yan Hu voted for White Icicle\n",
            "Adele Buccho voted for White Icicle\n",
            "Imogen Gertrude voted for Bunny Tail\n",
            "Kate Cyril voted for April Cross\n",
            "Zoe Canning voted for Plum Purple\n",
            "Imogen Gaunson voted for Bunny Tail\n",
            "Brayden Stretch voted for April Cross\n",
            "Jian Ts'ao voted for Plum Purple\n",
            "Gabriella Titheradge voted for Red King\n",
            "Alexis Nesbitt voted for Daikon\n",
            "Galeazzo Milanesi voted for Champion\n",
            "Eve Everingham voted for Daikon\n",
            "on hê voted for snow belle\n",
            "Archie Mathy voted for White Icicle\n",
            "Skye Reynolds voted for French Breakfast\n",
            "Ben Denovan voted for April Cross\n",
            "Pia Folliero voted for White Icicle\n",
            "Archie Michelides voted for Cherry Belle\n",
            "zane pavy voted for bunny tail\n",
            "Ramiro Esposito voted for Daikon\n",
            "Brock Eames voted for Daikon\n",
            "Savannah Sheehan voted for French Breakfast\n",
            "angus christie voted for french breakfast\n",
            "Dominic Tregurtha voted for Cherry Belle\n",
            "Molly Piguenit voted for Plum Purple\n",
            "matthew john voted for snow belle\n",
            "Koby Ledger voted for White Icicle\n",
            "Jasper Harper voted for White Icicle\n",
            "William Doyle  voted for French Breakfast\n",
            "Taj Maria voted for Sicily Giant\n",
            "Michael Elliot voted for April Cross\n",
            "Matthew Knibbs voted for Sicily Giant\n",
            "Patrick Tilly voted for White Icicle\n",
            "Sarah Kashiwagi voted for Bunny Tail\n",
            "Abbey Bouton voted for Champion\n",
            "Kayla Sandover voted for Bunny Tail\n",
            "Anna Septimus voted for French Breakfast\n",
            "Matthew Birch voted for Champion\n",
            "Mikayla Kennerley voted for French Breakfast\n",
            "Charli Birkbeck voted for Daikon\n",
            "Matilda Gullett voted for Champion\n",
            "Ella McLellan voted for April Cross\n",
            "Silvia Rossi voted for Plum Purple\n",
            "Chan Juan Hsü voted for French Breakfast\n",
            "Oliver Aspinall voted for  Cherry Belle\n",
            "Timothy Baldwinson voted for Bunny Tail\n",
            "Li Wei Chien voted for Snow Belle\n",
            "Bethany Layh voted for French Breakfast\n",
            "Gang Hsu voted for April Cross\n",
            "Mikayla Brodney voted for Champion\n",
            "Kuan-Yin Mao voted for Daikon\n",
            "Elizabeth Minifie voted for Champion\n",
            "Sarah Band voted for Sicily Giant\n",
            "Tyson Kaberry voted for French Breakfast\n",
            "Victoria Shipp voted for Cherry Belle\n",
            "Henry McCorkindale voted for French Breakfast\n",
            "William De Satg voted for Snow Belle\n",
            "Skye Atkins voted for Cherry Belle\n",
            "Sean Hogben voted for Champion\n",
            "Claire Boelke voted for Cherry Belle\n",
            "Tristan Turley voted for Snow Belle\n",
            "Tyler Hansen voted for Champion\n",
            "Caleb Ride voted for Bunny Tail\n",
            "Archer Cathcart voted for April Cross\n",
            "Hamish Helena  voted for French Breakfast\n",
            "Agostino Milanesi voted for April Cross\n",
            "lilly wunderlich voted for french breakfast\n",
            "Brooke Mahomet voted for Sicily Giant\n",
            "Seth Bramston voted for Daikon\n",
            "Archer Kirwan voted for Cherry Belle\n",
            "Ettore Marcelo voted for Champion\n",
            "Blake D'Alton voted for Sicily Giant\n",
            "Jai Burgoyne voted for Bunny Tail\n",
            "Mikayla Minogue voted for April Cross\n",
            "Thomas Catt voted for April Cross\n",
            "Oscar Cocci voted for Daikon\n",
            "Claudia Boxall voted for Plum Purple\n",
            "Imogen Macaulay voted for Snow Belle\n",
            "Tyson Platt voted for Bunny Tail\n",
            "Isabelle Camden voted for White Icicle\n",
            "Kiara Maxted voted for Daikon\n",
            "Raffaella Trevisan voted for Daikon\n",
            "Xiang Hsü voted for Plum Purple\n",
            "Hudson Greene voted for Bunny Tail\n",
            "Ruby Wakefield voted for Cherry Belle\n",
            "Matilda Macarthur-Onslow voted for Plum Purple\n",
            "Jasmine Fetherstonhaugh voted for Snow Belle\n",
            "Andrew Bower voted for Bunny Tail\n",
            "Olindo De Luca voted for Cherry Belle\n",
            "Alexis Kelynack voted for French Breakfast\n",
            "Amy Clunie voted for White Icicle\n",
            "Kang Yu voted for Cherry Belle\n",
            "Henry Birdseye voted for Snow Belle\n",
            "dominic gale voted for april cross\n",
            "Edward Edmond voted for Snow Belle\n",
            "Raul Pinto voted for Cherry Belle\n",
            "Laura Bath voted for Red King\n",
            "John Bale voted for Cherry Belle\n",
            "Margherita Milani voted for Red King\n",
            "Hudson Devine voted for Champion\n",
            "Jaxon Cowles voted for Sicily Giant\n",
            "Cameron Embley voted for Sicily Giant\n",
            "Laura Wawn voted for Cherry Belle\n",
            "Li Ming Niu voted for Cherry Belle\n",
            "Eden Sheehan voted for Cherry Belle\n",
            "Taj Bjelke-Petersen voted for French Breakfast\n",
            "Declan Winston voted for White Icicle\n",
            "Chan Chao voted for Red King\n",
            "mikayla hebblethwaite voted for sicily giant\n",
            "Tristan Monson voted for Cherry Belle\n",
            "Leah Ross-Watt voted for Plum Purple\n",
            "Hu K'ung voted for Daikon\n",
            "Kaitlyn Carnegie voted for Champion\n",
            "Victoria Brereton voted for Plum Purple\n",
            "Keira Toutcher voted for Cherry Belle\n",
            "David Morgans voted for Daikon\n",
            "Norma Fiorentino voted for Red King\n",
            "Sarah Paten voted for Sicily  Giant\n",
            "Zac Cowles voted for Sicily Giant\n",
            "Brock Fiaschi voted for French Breakfast\n",
            "Eliza Naylor voted for French Breakfast\n",
            "Imogen Raws voted for Red King\n",
            "Jesse Abercrombie voted for Snow Belle\n",
            "James Luke voted for White Icicle\n",
            "Riley Stewart voted for White Icicle\n",
            "amelia blue voted for white icicle\n",
            "Cameron Pearce voted for Red King\n",
            "Ennio DeRose voted for French Breakfast\n",
            "Samuel Henschke voted for Sicily Giant\n",
            "Blake MacFarland voted for Cherry Belle\n",
            "Mary Randall voted for Cherry Belle\n",
            "luce de luca voted for snow belle\n",
            "Marcus Derbyshire voted for Bunny Tail\n",
            "Hunter McEachern voted for Bunny Tail\n",
            "Jasper Gibney voted for French Breakfast\n",
            "Lincoln  Hoare voted for French Breakfast\n",
            "Sofia Donnithorne voted for Snow Belle\n",
            "Anthony Stuart voted for Snow Belle\n",
            "Hamish Yarnold voted for April Cross\n",
            "Lucas Schuler voted for Plum Purple\n",
            "Milla Garling voted for French Breakfast\n",
            "Abigail Wiltshire voted for Bunny Tail\n",
            "Zane Wreford voted for Snow Belle\n",
            "Sean Glew voted for Daikon\n",
            "Ryan Aird voted for Red King\n",
            "Jasper Harford voted for Champion\n",
            "Charlie McCabe voted for Bunny Tail\n",
            "Rory Evenden voted for White Icicle\n",
            "Ebony Florence voted for Snow Belle\n",
            "Flynn Poninski voted for Daikon\n",
            "Ebony Lawlor voted for Bunny Tail\n",
            "Ethan Dickson voted for Bunny Tail\n",
            "Xavier Howchin voted for Bunny Tail\n",
            "Zane Weindorfer voted for Cherry Belle\n",
            "Sienna Dann voted for Snow Belle\n",
            "Eleuterio Lombardo voted for White Icicle\n",
            "Tyler Makutz voted for Champion\n",
            "Yong Hsiao voted for White Icicle\n",
            "Erin Binnie voted for Bunny Tail\n",
            "Phoebe Barwell voted for Plum Purple\n",
            "Dylan Barney voted for French Breakfast\n",
            "Tristan Charteris voted for April Cross\n",
            "Sebastian Helmore voted for Bunny Tail\n",
            "Thomas Darcy voted for Bunny Tail\n",
            "Quinzia Costa voted for Daikon\n",
            "Da-Xia Hsiao voted for French Breakfast\n",
            "Grace Frayne voted for Sicily Giant\n",
            "Toby Queale voted for White Icicle\n",
            "Logan Lackey voted for Plum Purple\n",
            "na t'ao voted for french breakfast\n",
            "Callum Prentice voted for Plum Purple\n",
            "Levi Ferry voted for Sicily Giant\n",
            "Hsin Tan voted for April Cross\n",
            "Lara Macarthur voted for French Breakfast\n",
            "Scarlett Bruny voted for Champion\n",
            "Procopio Zito voted for white icicle\n",
            "Jamie Ham voted for Bunny Tail\n",
            "Kaitlyn Mullen voted for Daikon\n",
            "Cameron Landseer voted for April Cross\n",
            "Jasper Alfred voted for White Icicle\n",
            "Andrew Coventry voted for  Cherry Belle\n",
            "Scarlett Schonell voted for Plum Purple\n",
            "Mia Alngindabu voted for Champion\n",
            "Claire Bisdee voted for Daikon\n",
            "Gabriella Beale voted for Cherry Belle\n",
            "Rebecca Petrie voted for Snow Belle\n",
            "Alexander McKean voted for Bunny Tail\n",
            "Cody Leakey voted for Plum Purple\n",
            "Sam Scarfe voted for Sicily Giant\n",
            "Angus Langley voted for French Breakfast\n",
            "Shi Shen voted for Sicily Giant\n",
            "Park Wu voted for Champion\n",
            "Isabelle Finney voted for April Cross\n",
            "Aaron Addison voted for Plum Purple\n",
            "Ethan Macdougall voted for Champion\n",
            "cody vale voted for red king\n",
            "Aidan Clutterbuck voted for French Breakfast\n",
            "Durante Ferri voted for White Icicle\n",
            "eliana baresi voted for white icicle\n"
          ],
          "name": "stdout"
        }
      ]
    },
    {
      "metadata": {
        "id": "ZejLBO2uKjE_",
        "colab_type": "code",
        "colab": {},
        "outputId": "904f2ec5-ca13-43b3-c879-5df9d5d537a4"
      },
      "cell_type": "code",
      "source": [
        "line = line.strip()\n",
        "line"
      ],
      "execution_count": 0,
      "outputs": [
        {
          "output_type": "execute_result",
          "data": {
            "text/plain": [
              "'eliana baresi - white icicle'"
            ]
          },
          "metadata": {
            "tags": []
          },
          "execution_count": 43
        }
      ]
    },
    {
      "metadata": {
        "id": "q6zEb6qWKjFF",
        "colab_type": "code",
        "colab": {},
        "outputId": "dc56e957-f61f-4bd6-ec27-84d9324693d8"
      },
      "cell_type": "code",
      "source": [
        "parts = line.split(\" - \")\n",
        "parts"
      ],
      "execution_count": 0,
      "outputs": [
        {
          "output_type": "execute_result",
          "data": {
            "text/plain": [
              "['eliana baresi', 'white icicle']"
            ]
          },
          "metadata": {
            "tags": []
          },
          "execution_count": 44
        }
      ]
    },
    {
      "metadata": {
        "id": "ZHG6R4r8KjFI",
        "colab_type": "code",
        "colab": {},
        "outputId": "e9e8f3bf-72e8-4b81-e985-d0135a76352c"
      },
      "cell_type": "code",
      "source": [
        "\"1,2,3,4,5\".split(\",\")"
      ],
      "execution_count": 0,
      "outputs": [
        {
          "output_type": "execute_result",
          "data": {
            "text/plain": [
              "['1', '2', '3', '4', '5']"
            ]
          },
          "metadata": {
            "tags": []
          },
          "execution_count": 47
        }
      ]
    },
    {
      "metadata": {
        "id": "cU_DjsasKjFL",
        "colab_type": "code",
        "colab": {},
        "outputId": "ddf64b1b-27f6-47f1-e242-d1edf24e6f9d"
      },
      "cell_type": "code",
      "source": [
        "\"cheese\".split(\",\")"
      ],
      "execution_count": 0,
      "outputs": [
        {
          "output_type": "execute_result",
          "data": {
            "text/plain": [
              "['cheese']"
            ]
          },
          "metadata": {
            "tags": []
          },
          "execution_count": 50
        }
      ]
    },
    {
      "metadata": {
        "id": "am5xFUZiKjFP",
        "colab_type": "code",
        "colab": {},
        "outputId": "99e7cd67-af64-47f9-88e3-7d562f14e2d3"
      },
      "cell_type": "code",
      "source": [
        "\"Jin Li - White - Icicle\".split(\" - \")"
      ],
      "execution_count": 0,
      "outputs": [
        {
          "output_type": "execute_result",
          "data": {
            "text/plain": [
              "['Jin Li', 'White', 'Icicle']"
            ]
          },
          "metadata": {
            "tags": []
          },
          "execution_count": 51
        }
      ]
    },
    {
      "metadata": {
        "id": "PHuRIsf9KjFU",
        "colab_type": "code",
        "colab": {},
        "outputId": "191cdfa7-ba02-41be-ff07-8e4f5b0a4ba7"
      },
      "cell_type": "code",
      "source": [
        "\"Jin Li - White - Icicle\".split(\"-\")"
      ],
      "execution_count": 0,
      "outputs": [
        {
          "output_type": "execute_result",
          "data": {
            "text/plain": [
              "['Jin Li ', ' White ', ' Icicle']"
            ]
          },
          "metadata": {
            "tags": []
          },
          "execution_count": 52
        }
      ]
    },
    {
      "metadata": {
        "id": "IQsv5ZHcKjFX",
        "colab_type": "code",
        "colab": {},
        "outputId": "acec8fd3-6034-4dd2-8084-bd7e8621dfc2"
      },
      "cell_type": "code",
      "source": [
        "with open(\"./data/radishsurvey.txt\") as file:\n",
        "    for line in file:\n",
        "       line = line.strip()\n",
        "       parts = line.split(\" - \")\n",
        "       name, vote = parts\n",
        "       if vote == \"White Icicle\":\n",
        "          print(name + \" likes White Icicle!\")"
      ],
      "execution_count": 0,
      "outputs": [
        {
          "output_type": "stream",
          "text": [
            "Luke Komine likes White Icicle!\n",
            "Bailey Derrington likes White Icicle!\n",
            "Tyler Forbes likes White Icicle!\n",
            "Gianfranco Cremonesi likes White Icicle!\n",
            "Tao Hsiao likes White Icicle!\n",
            "Emily Walters likes White Icicle!\n",
            "Thomas Oom likes White Icicle!\n",
            "Stephanie Schnaars likes White Icicle!\n",
            "Anna Denning likes White Icicle!\n",
            "Ruby Fox likes White Icicle!\n",
            "Ali Dedman likes White Icicle!\n",
            "Sarah Milford likes White Icicle!\n",
            "Hudson Dodgshun likes White Icicle!\n",
            "Lara Salting likes White Icicle!\n",
            "Amelie Farber likes White Icicle!\n",
            "Isabella Pardey likes White Icicle!\n",
            "Zhi Chin likes White Icicle!\n",
            "Caitlyn Mullah likes White Icicle!\n",
            "Taj Shackell likes White Icicle!\n",
            "Xin Qian Shih likes White Icicle!\n",
            "Abigail Clark likes White Icicle!\n",
            "Bianca Knopwood likes White Icicle!\n",
            "Mia Legg likes White Icicle!\n",
            "Lilian Macquarie likes White Icicle!\n",
            "Zachary Bass likes White Icicle!\n",
            "Hayley Coverdale likes White Icicle!\n",
            "David Moynihan likes White Icicle!\n",
            "Angus De Mestre likes White Icicle!\n",
            "Emily Plante likes White Icicle!\n",
            "Kiara Maxwell-Mahon likes White Icicle!\n",
            "Alex Falk likes White Icicle!\n",
            "George Carandini likes White Icicle!\n",
            "Makayla Fairbairn likes White Icicle!\n",
            "Yue Wan Yeh likes White Icicle!\n",
            "Timothy Beeton likes White Icicle!\n",
            "Blake Hurst likes White Icicle!\n",
            "Zhen Juan Tsai likes White Icicle!\n",
            "Christopher Moss likes White Icicle!\n",
            "Alicia Farmer likes White Icicle!\n",
            "Jasmine Baughan likes White Icicle!\n",
            "Dominic Nangle likes White Icicle!\n",
            "Yue Yan Hu likes White Icicle!\n",
            "Adele Buccho likes White Icicle!\n",
            "Archie Mathy likes White Icicle!\n",
            "Pia Folliero likes White Icicle!\n",
            "Koby Ledger likes White Icicle!\n",
            "Jasper Harper likes White Icicle!\n",
            "Patrick Tilly likes White Icicle!\n",
            "Isabelle Camden likes White Icicle!\n",
            "Amy Clunie likes White Icicle!\n",
            "Declan Winston likes White Icicle!\n",
            "James Luke likes White Icicle!\n",
            "Riley Stewart likes White Icicle!\n",
            "Rory Evenden likes White Icicle!\n",
            "Eleuterio Lombardo likes White Icicle!\n",
            "Yong Hsiao likes White Icicle!\n",
            "Toby Queale likes White Icicle!\n",
            "Jasper Alfred likes White Icicle!\n",
            "Durante Ferri likes White Icicle!\n"
          ],
          "name": "stdout"
        }
      ]
    },
    {
      "metadata": {
        "id": "NXh4sTK8KjFb",
        "colab_type": "code",
        "colab": {},
        "outputId": "3ec314eb-fc64-47f3-b817-34677a405434"
      },
      "cell_type": "code",
      "source": [
        "print(\"Counting votes for White Icicle...\")\n",
        "count = 0\n",
        "with open(\"./data/radishsurvey.txt\") as file:\n",
        "    for line in file:       \n",
        "        line = line.strip()\n",
        "        name, vote = line.split(\" - \")\n",
        "        if vote == \"White Icicle\":\n",
        "            count = count + 1\n",
        "print(count)"
      ],
      "execution_count": 0,
      "outputs": [
        {
          "output_type": "stream",
          "text": [
            "Counting votes for White Icicle...\n",
            "59\n"
          ],
          "name": "stdout"
        }
      ]
    },
    {
      "metadata": {
        "id": "0Q0WTkHDKjFe",
        "colab_type": "code",
        "colab": {},
        "outputId": "a9cd0605-4a36-4dac-ce79-705807349c2d"
      },
      "cell_type": "code",
      "source": [
        "name, cheese, cracker = \"Fred,Jarlsberg,Rye\".split(\",\")\n",
        "print(cheese)"
      ],
      "execution_count": 0,
      "outputs": [
        {
          "output_type": "stream",
          "text": [
            "Jarlsberg\n"
          ],
          "name": "stdout"
        }
      ]
    },
    {
      "metadata": {
        "id": "yJSQO9UPKjFi",
        "colab_type": "text"
      },
      "cell_type": "markdown",
      "source": [
        "## 투표 결과 보기"
      ]
    },
    {
      "metadata": {
        "id": "39kf4BMRKjFj",
        "colab_type": "code",
        "colab": {},
        "outputId": "2771f0d0-8b83-4cba-9811-1975776142cb"
      },
      "cell_type": "code",
      "source": [
        "counts = {}\n",
        "\n",
        "with open(\"./data/radishsurvey.txt\") as file:\n",
        "    for line in file:       \n",
        "        line = line.strip()\n",
        "        name, vote = line.split(\" - \")\n",
        "        if vote not in counts:\n",
        "            # First vote for this variety\n",
        "            counts[vote] = 1\n",
        "        else:\n",
        "            # Increment the vote count\n",
        "            counts[vote] = counts[vote] + 1\n",
        "print(counts)"
      ],
      "execution_count": 0,
      "outputs": [
        {
          "output_type": "stream",
          "text": [
            "{'April Cross': 67, 'Champion': 75, 'cherry belle': 2, 'Snow Belle': 58, 'Bunny Tail': 68, 'Sicily Giant': 52, 'Plum Purple': 53, 'Red King': 52, ' Daikon': 1, 'White Icicle': 59, 'Daikon': 58, 'French Breakfast': 65, 'Cherry Belle': 53, ' plum purple': 1, 'french breakfast': 7, ' Snow Belle': 2, ' Plum Purple': 1, 'daikon': 4, 'plum purple': 1, 'white icicle': 5, 'April cross': 1, 'bunny tail': 4, 'april cross': 4, 'champion': 1, 'sicily giant': 3, ' White Icicle': 1, 'red king': 3, 'Cherry  Belle': 1, ' Red King': 1, ' Sicily Giant': 1, 'Plum  Purple': 1, 'snow belle': 3, ' Cherry Belle': 2, 'Sicily  Giant': 1}\n"
          ],
          "name": "stdout"
        }
      ]
    },
    {
      "metadata": {
        "id": "JF-1lFTfKjFn",
        "colab_type": "code",
        "colab": {},
        "outputId": "651d4f1b-73c7-4505-90b1-733d17be66d9"
      },
      "cell_type": "code",
      "source": [
        "for name in counts:\n",
        "    count = counts[name]\n",
        "    print(name + \": \" + str(count))"
      ],
      "execution_count": 0,
      "outputs": [
        {
          "output_type": "stream",
          "text": [
            "April Cross: 67\n",
            "Champion: 75\n",
            "cherry belle: 2\n",
            "Snow Belle: 58\n",
            "Bunny Tail: 68\n",
            "Sicily Giant: 52\n",
            "Plum Purple: 53\n",
            "Red King: 52\n",
            " Daikon: 1\n",
            "White Icicle: 59\n",
            "Daikon: 58\n",
            "French Breakfast: 65\n",
            "Cherry Belle: 53\n",
            " plum purple: 1\n",
            "french breakfast: 7\n",
            " Snow Belle: 2\n",
            " Plum Purple: 1\n",
            "daikon: 4\n",
            "plum purple: 1\n",
            "white icicle: 5\n",
            "April cross: 1\n",
            "bunny tail: 4\n",
            "april cross: 4\n",
            "champion: 1\n",
            "sicily giant: 3\n",
            " White Icicle: 1\n",
            "red king: 3\n",
            "Cherry  Belle: 1\n",
            " Red King: 1\n",
            " Sicily Giant: 1\n",
            "Plum  Purple: 1\n",
            "snow belle: 3\n",
            " Cherry Belle: 2\n",
            "Sicily  Giant: 1\n"
          ],
          "name": "stdout"
        }
      ]
    },
    {
      "metadata": {
        "id": "MwcUqgx0KjFp",
        "colab_type": "text"
      },
      "cell_type": "markdown",
      "source": [
        "## 데이터 정제"
      ]
    },
    {
      "metadata": {
        "id": "VS-qxrl-KjFr",
        "colab_type": "code",
        "colab": {},
        "outputId": "04d57369-918f-4d97-8ead-3742ec35bcb9"
      },
      "cell_type": "code",
      "source": [
        "\"\"\"\n",
        "Red King: 1\n",
        "red king: 3\n",
        "White Icicle: 1\n",
        " Cherry Belle: 2\n",
        "daikon: 4\n",
        "Cherry  Belle: 1\n",
        "\"\"\""
      ],
      "execution_count": 0,
      "outputs": [
        {
          "output_type": "execute_result",
          "data": {
            "text/plain": [
              "'\\nRed King: 1\\nred king: 3\\nWhite Icicle: 1\\n Cherry Belle: 2\\ndaikon: 4\\nCherry  Belle: 1\\n'"
            ]
          },
          "metadata": {
            "tags": []
          },
          "execution_count": 65
        }
      ]
    },
    {
      "metadata": {
        "id": "eQqzKTdAKjFv",
        "colab_type": "code",
        "colab": {},
        "outputId": "cf0a464d-a13b-48a9-8860-60ebcc4d5fa5"
      },
      "cell_type": "code",
      "source": [
        "counts = {}\n",
        "\n",
        "with open(\"./data/radishsurvey.txt\") as file:\n",
        "    for line in file:\n",
        "        line = line.strip()\n",
        "        name, vote = line.split(\" - \")\n",
        "\n",
        "        # 수정한 부분\n",
        "        vote = vote.strip().capitalize()\n",
        "        if not vote in counts:\n",
        "            # First vote for this variety\n",
        "            counts[vote] = 1\n",
        "        else:\n",
        "            # Increment the vote count\n",
        "            counts[vote] = counts[vote] + 1\n",
        "print(counts)"
      ],
      "execution_count": 0,
      "outputs": [
        {
          "output_type": "stream",
          "text": [
            "{'April cross': 72, 'Champion': 76, 'Cherry belle': 57, 'Snow belle': 63, 'Bunny tail': 72, 'Sicily giant': 56, 'Plum purple': 56, 'Red king': 56, 'Daikon': 63, 'White icicle': 65, 'French breakfast': 72, 'Cherry  belle': 1, 'Plum  purple': 1, 'Sicily  giant': 1}\n"
          ],
          "name": "stdout"
        }
      ]
    },
    {
      "metadata": {
        "id": "6RWWXeTWKjFy",
        "colab_type": "code",
        "colab": {},
        "outputId": "44d882e4-17da-461b-cfb9-052fa8d54fae"
      },
      "cell_type": "code",
      "source": [
        "\"\"\"\n",
        "Sicily  giant: 1\n",
        "Plum  purple: 1\n",
        "Cherry  belle: 1\n",
        "\"\"\""
      ],
      "execution_count": 0,
      "outputs": [
        {
          "output_type": "execute_result",
          "data": {
            "text/plain": [
              "'\\nSicily  giant: 1\\nPlum  purple: 1\\nCherry  belle: 1\\n'"
            ]
          },
          "metadata": {
            "tags": []
          },
          "execution_count": 69
        }
      ]
    },
    {
      "metadata": {
        "id": "J8SuDZaBKjF0",
        "colab_type": "code",
        "colab": {}
      },
      "cell_type": "code",
      "source": [
        "vote = vote.replace(\"  \", \" \")"
      ],
      "execution_count": 0,
      "outputs": []
    },
    {
      "metadata": {
        "id": "5lmuxz4WKjF2",
        "colab_type": "text"
      },
      "cell_type": "markdown",
      "source": [
        "## 두 번 투표한 사람 찾기"
      ]
    },
    {
      "metadata": {
        "id": "MSmYRpGeKjF3",
        "colab_type": "code",
        "colab": {},
        "outputId": "9fd6b8fc-a3a0-4f24-f3b8-5425f184bb16"
      },
      "cell_type": "code",
      "source": [
        "counts = {}\n",
        "\n",
        "# Create an empty list with the names of everyone who voted\n",
        "voted = []\n",
        "\n",
        "# Clean up (munge) a string so it's easy to match against other     strings\n",
        "def clean_string(s):\n",
        "    return s.strip().capitalize().replace(\"  \",\" \")\n",
        "\n",
        "# Check if someone has voted already and return True or False\n",
        "def has_already_voted(name):\n",
        "    if name in voted:\n",
        "        print(name + \" has already voted! Fraud!\")\n",
        "        return True\n",
        "    return False\n",
        "\n",
        "# Count a vote for the radish variety named 'radish'\n",
        "def count_vote(radish):\n",
        "    if not radish in counts:\n",
        "        # First vote for this variety\n",
        "        counts[radish] = 1\n",
        "    else:\n",
        "        # Increment the radish count\n",
        "        counts[radish] = counts[radish] + 1\n",
        "\n",
        "\n",
        "with open(\"./data/radishsurvey.txt\") as file:\n",
        "    for line in file:\n",
        "        line = line.strip()\n",
        "        name, vote = line.split(\" - \")\n",
        "        name = clean_string(name)\n",
        "        vote = clean_string(vote)\n",
        "    \n",
        "        if not has_already_voted(name):\n",
        "            count_vote(vote)\n",
        "        voted.append(name)\n",
        "\n",
        "print(\"Results:\")\n",
        "print()\n",
        "for name in counts:\n",
        "    print(name + \": \" + str(counts[name]))"
      ],
      "execution_count": 0,
      "outputs": [
        {
          "output_type": "stream",
          "text": [
            "Phoebe barwell has already voted! Fraud!\n",
            "Procopio zito has already voted! Fraud!\n",
            "Results:\n",
            "\n",
            "April cross: 72\n",
            "Champion: 76\n",
            "Cherry belle: 58\n",
            "Snow belle: 63\n",
            "Bunny tail: 72\n",
            "Sicily giant: 57\n",
            "Plum purple: 56\n",
            "Red king: 56\n",
            "Daikon: 63\n",
            "White icicle: 64\n",
            "French breakfast: 72\n"
          ],
          "name": "stdout"
        }
      ]
    },
    {
      "metadata": {
        "id": "L4jx8yeuKjF6",
        "colab_type": "code",
        "colab": {},
        "outputId": "7151ddf9-1847-4d43-d9df-0857b0efcc8c"
      },
      "cell_type": "code",
      "source": [
        "winner_name = \"No winner\"\n",
        "winner_votes = 0\n",
        "\n",
        "for name in counts:\n",
        "    if counts[name] > winner_votes:\n",
        "        winner_votes = counts[name]\n",
        "        winner_name = name\n",
        "\n",
        "print(\"The winner is: \" + winner_name)"
      ],
      "execution_count": 0,
      "outputs": [
        {
          "output_type": "stream",
          "text": [
            "The winner is: Champion\n"
          ],
          "name": "stdout"
        }
      ]
    },
    {
      "metadata": {
        "id": "DX2Sz4v8KjF9",
        "colab_type": "text"
      },
      "cell_type": "markdown",
      "source": [
        "## 그래프 그리기"
      ]
    },
    {
      "metadata": {
        "id": "CBAEoq6DKjF-",
        "colab_type": "code",
        "colab": {},
        "outputId": "43930539-fedd-4740-e68f-6c977002a2c3"
      },
      "cell_type": "code",
      "source": [
        "import matplotlib.pyplot as plt\n",
        "%matplotlib inline\n",
        "vals = [3,2,5,0,1]\n",
        "plt.plot(vals)\n",
        "plt.show()"
      ],
      "execution_count": 0,
      "outputs": [
        {
          "output_type": "display_data",
          "data": {
            "image/png": "[encoded data removed]",
            "text/plain": [
              "<Figure size 432x288 with 1 Axes>"
            ]
          },
          "metadata": {
            "tags": [],
            "needs_background": "light"
          }
        }
      ]
    },
    {
      "metadata": {
        "id": "72J5W7AdKjGA",
        "colab_type": "code",
        "colab": {},
        "outputId": "003d2c19-1d58-4049-b191-161d5cf5131f"
      },
      "cell_type": "code",
      "source": [
        "import numpy as np\n",
        "\n",
        "names = []\n",
        "votes = []\n",
        "# Split the dictionary of name:votes into two lists, one for names and one for vote count\n",
        "for radish in counts:\n",
        "    names.append(radish)\n",
        "    votes.append(counts[radish])\n",
        "\n",
        "# The X axis can just be numbered 0,1,2,3...\n",
        "x = np.arange(len(counts))\n",
        "\n",
        "plt.bar(x, votes)\n",
        "plt.xticks(x + 0.5, names, rotation=90)\n",
        "plt.show()"
      ],
      "execution_count": 0,
      "outputs": [
        {
          "output_type": "display_data",
          "data": {
            "image/png": "[encoded data removed]",
            "text/plain": [
              "<Figure size 432x288 with 1 Axes>"
            ]
          },
          "metadata": {
            "tags": [],
            "needs_background": "light"
          }
        }
      ]
    },
    {
      "metadata": {
        "id": "9sbFynnCKjGE",
        "colab_type": "code",
        "colab": {},
        "outputId": "459b5a5d-b8c4-409b-8a25-a3a334a57a3d"
      },
      "cell_type": "code",
      "source": [
        "x = range(5)\n",
        "print(x)\n",
        "print(x + 0.5)"
      ],
      "execution_count": 0,
      "outputs": [
        {
          "output_type": "stream",
          "text": [
            "range(0, 5)\n"
          ],
          "name": "stdout"
        },
        {
          "output_type": "error",
          "ename": "TypeError",
          "evalue": "unsupported operand type(s) for +: 'range' and 'float'",
          "traceback": [
            "\u001b[0;31m---------------------------------------------------------------------------\u001b[0m",
            "\u001b[0;31mTypeError\u001b[0m                                 Traceback (most recent call last)",
            "\u001b[0;32m<ipython-input-9-b89e0b3480c8>\u001b[0m in \u001b[0;36m<module>\u001b[0;34m()\u001b[0m\n\u001b[1;32m      1\u001b[0m \u001b[0mx\u001b[0m \u001b[0;34m=\u001b[0m \u001b[0mrange\u001b[0m\u001b[0;34m(\u001b[0m\u001b[0;36m5\u001b[0m\u001b[0;34m)\u001b[0m\u001b[0;34m\u001b[0m\u001b[0m\n\u001b[1;32m      2\u001b[0m \u001b[0mprint\u001b[0m\u001b[0;34m(\u001b[0m\u001b[0mx\u001b[0m\u001b[0;34m)\u001b[0m\u001b[0;34m\u001b[0m\u001b[0m\n\u001b[0;32m----> 3\u001b[0;31m \u001b[0mprint\u001b[0m\u001b[0;34m(\u001b[0m\u001b[0mx\u001b[0m \u001b[0;34m+\u001b[0m \u001b[0;36m0.5\u001b[0m\u001b[0;34m)\u001b[0m\u001b[0;34m\u001b[0m\u001b[0m\n\u001b[0m",
            "\u001b[0;31mTypeError\u001b[0m: unsupported operand type(s) for +: 'range' and 'float'"
          ]
        }
      ]
    },
    {
      "metadata": {
        "scrolled": true,
        "id": "Y5RCYjzOKjGI",
        "colab_type": "code",
        "colab": {},
        "outputId": "91591015-fd5a-40d4-d6ff-fcc9fca25e6d"
      },
      "cell_type": "code",
      "source": [
        "x = np.arange(5)\n",
        "print(x)\n",
        "print(x + 0.5)"
      ],
      "execution_count": 0,
      "outputs": [
        {
          "output_type": "stream",
          "text": [
            "[0 1 2 3 4]\n",
            "[0.5 1.5 2.5 3.5 4.5]\n"
          ],
          "name": "stdout"
        }
      ]
    },
    {
      "metadata": {
        "id": "B_1a6mezKjGM",
        "colab_type": "text"
      },
      "cell_type": "markdown",
      "source": [
        "## 커피 파일\n",
        "http://opentechschool.github.io/python-data-intro/files/coffee.csv"
      ]
    },
    {
      "metadata": {
        "scrolled": true,
        "id": "6lhXixL7KjGM",
        "colab_type": "code",
        "colab": {},
        "outputId": "cdbdfb77-eab5-4ad8-84a4-5f4495a708a6"
      },
      "cell_type": "code",
      "source": [
        "!curl http://opentechschool.github.io/python-data-intro/files/coffee.csv \\\n",
        "    -o ./data/coffee.csv"
      ],
      "execution_count": 0,
      "outputs": [
        {
          "output_type": "stream",
          "text": [
            "  % Total    % Received % Xferd  Average Speed   Time    Time     Time  Current\n",
            "                                 Dload  Upload   Total   Spent    Left  Speed\n",
            "100   184  100   184    0     0    948      0 --:--:-- --:--:-- --:--:--   948\n"
          ],
          "name": "stdout"
        }
      ]
    },
    {
      "metadata": {
        "id": "C1XXBwwhKjGQ",
        "colab_type": "code",
        "colab": {},
        "outputId": "65afca91-f66e-41fd-918e-7637ca5311f2"
      },
      "cell_type": "code",
      "source": [
        "!head -10 ./data/coffee.csv"
      ],
      "execution_count": 0,
      "outputs": [
        {
          "output_type": "stream",
          "text": [
            "\"Coffee\",\"Water\",\"Milk\",\"Icecream\"\r\n",
            "\"Espresso\",\"No\",\"No\",\"No\"\r\n",
            "\"Long Black\",\"Yes\",\"No\",\"No\"\r\n",
            "\"Flat White\",\"No\",\"Yes\",\"No\"\r\n",
            "\"Cappuccino\",\"No\",\"Yes - Frothy\",\"No\"\r\n",
            "\"Affogato\",\"No\",\"No\",\"Yes\"\r\n"
          ],
          "name": "stdout"
        }
      ]
    },
    {
      "metadata": {
        "id": "JkSDr-xsKjGV",
        "colab_type": "code",
        "colab": {},
        "outputId": "ac5cf656-6200-46a2-d410-534cc42612cb"
      },
      "cell_type": "code",
      "source": [
        "import csv\n",
        "f=open(\"./data/coffee.csv\")\n",
        "for row in csv.reader(f):\n",
        "    print(row)"
      ],
      "execution_count": 0,
      "outputs": [
        {
          "output_type": "stream",
          "text": [
            "['Coffee', 'Water', 'Milk', 'Icecream']\n",
            "['Espresso', 'No', 'No', 'No']\n",
            "['Long Black', 'Yes', 'No', 'No']\n",
            "['Flat White', 'No', 'Yes', 'No']\n",
            "['Cappuccino', 'No', 'Yes - Frothy', 'No']\n",
            "['Affogato', 'No', 'No', 'Yes']\n"
          ],
          "name": "stdout"
        }
      ]
    },
    {
      "metadata": {
        "id": "_l53Kh6CKjGX",
        "colab_type": "text"
      },
      "cell_type": "markdown",
      "source": [
        "## 항공운항 데이터\n",
        "https://raw.githubusercontent.com/jpatokal/openflights/master/data/airports.dat"
      ]
    },
    {
      "metadata": {
        "id": "MMwZhMP2KjGY",
        "colab_type": "code",
        "colab": {
          "base_uri": "https://localhost:8080/",
          "height": 67
        },
        "outputId": "6bba65da-c6c3-44b8-b13c-75b47325b54b"
      },
      "cell_type": "code",
      "source": [
        "!curl https://raw.githubusercontent.com/jpatokal/openflights/master/data/airports.dat \\\n",
        "    -o ./airports.dat"
      ],
      "execution_count": 4,
      "outputs": [
        {
          "output_type": "stream",
          "text": [
            "  % Total    % Received % Xferd  Average Speed   Time    Time     Time  Current\n",
            "                                 Dload  Upload   Total   Spent    Left  Speed\n",
            "\r  0     0    0     0    0     0      0      0 --:--:-- --:--:-- --:--:--     0\r100 1082k  100 1082k    0     0  7516k      0 --:--:-- --:--:-- --:--:-- 7516k\n"
          ],
          "name": "stdout"
        }
      ]
    },
    {
      "metadata": {
        "id": "A77fWi8bKy-l",
        "colab_type": "code",
        "colab": {
          "base_uri": "https://localhost:8080/",
          "height": 34
        },
        "outputId": "e696b582-769e-4c3c-d168-af963cb27115"
      },
      "cell_type": "code",
      "source": [
        "!ls"
      ],
      "execution_count": 6,
      "outputs": [
        {
          "output_type": "stream",
          "text": [
            "airports.dat  sample_data\n"
          ],
          "name": "stdout"
        }
      ]
    },
    {
      "metadata": {
        "id": "2eb44plMKjGb",
        "colab_type": "code",
        "colab": {}
      },
      "cell_type": "code",
      "source": [
        "# 공항 이름\n",
        "\n",
        "import csv\n",
        "f = open(\"./airports.dat\")\n",
        "for row in csv.reader(f):\n",
        "    print(row[1])"
      ],
      "execution_count": 0,
      "outputs": []
    },
    {
      "metadata": {
        "id": "Vqc20OZLKjGf",
        "colab_type": "code",
        "colab": {
          "base_uri": "https://localhost:8080/",
          "height": 504
        },
        "outputId": "3060f76a-d6d0-4f91-dd86-f6fb8f123357"
      },
      "cell_type": "code",
      "source": [
        "# import csv\n",
        "f = open(\"./airports.dat\")\n",
        "for row in csv.reader(f):\n",
        "    if row[3] == \"South Korea\" or row[3] == \"Korea\":\n",
        "        print(row[1])"
      ],
      "execution_count": 11,
      "outputs": [
        {
          "output_type": "stream",
          "text": [
            "Gwangju Airport\n",
            "Jeon Ju Airport (G-703)\n",
            "Yeosu Airport\n",
            "Sokcho Airport\n",
            "Gangneung Airport (K-18)\n",
            "Jeju International Airport\n",
            "Jinhae Airbase/Airport (G-813/K-10)\n",
            "Gimhae International Airport\n",
            "Ulsan Airport\n",
            "A 511 Airport\n",
            "Seoul Air Base (K-16)\n",
            "Osan Air Base\n",
            "Gimpo International Airport\n",
            "Suwon Airport\n",
            "Pohang Airport (G-815/K-3)\n",
            "Daegu Airport\n",
            "Yecheon Airbase\n",
            "Incheon International Airport\n",
            "Muan International Airport\n",
            "Kunsan Air Base\n",
            "Mokpo Heliport\n",
            "Wonju/Hoengseong Air Base (K-38/K-46)\n",
            "Yangyang International Airport\n",
            "Sacheon Air Base/Airport\n",
            "Cheongju International Airport/Cheongju Air Base (K-59/G-513)\n",
            "Jeongseok Airport\n",
            "Seosan Air Base\n",
            "N 104 Helipad\n",
            "Jungwon Air Base/Chungju Airport\n"
          ],
          "name": "stdout"
        }
      ]
    },
    {
      "metadata": {
        "id": "pU5QFCKiKjGj",
        "colab_type": "text"
      },
      "cell_type": "markdown",
      "source": [
        "## 경로 데이터\n",
        "https://raw.githubusercontent.com/jpatokal/openflights/master/data/routes.dat"
      ]
    },
    {
      "metadata": {
        "scrolled": true,
        "id": "5oXrl-3IKjGk",
        "colab_type": "code",
        "colab": {
          "base_uri": "https://localhost:8080/",
          "height": 67
        },
        "outputId": "4e022678-06d5-46bf-fe9f-e62aa5cdbe23"
      },
      "cell_type": "code",
      "source": [
        "!curl https://raw.githubusercontent.com/jpatokal/openflights/master/data/routes.dat \\\n",
        "    -o ./routes.dat"
      ],
      "execution_count": 13,
      "outputs": [
        {
          "output_type": "stream",
          "text": [
            "  % Total    % Received % Xferd  Average Speed   Time    Time     Time  Current\n",
            "                                 Dload  Upload   Total   Spent    Left  Speed\n",
            "\r  0     0    0     0    0     0      0      0 --:--:-- --:--:-- --:--:--     0\r100 2321k  100 2321k    0     0  13.7M      0 --:--:-- --:--:-- --:--:-- 13.7M\n"
          ],
          "name": "stdout"
        }
      ]
    },
    {
      "metadata": {
        "id": "Xl8R0OJ7KjGm",
        "colab_type": "code",
        "colab": {}
      },
      "cell_type": "code",
      "source": [
        "latitudes = {}\n",
        "longitudes = {}\n",
        "f = open(\"./airports.dat\")\n",
        "for row in csv.reader(f):\n",
        "    airport_id = row[0]\n",
        "    latitudes[airport_id] = float(row[6])\n",
        "    longitudes[airport_id] = float(row[7])"
      ],
      "execution_count": 0,
      "outputs": []
    },
    {
      "metadata": {
        "id": "pNShLgnZKjGo",
        "colab_type": "code",
        "colab": {
          "base_uri": "https://localhost:8080/",
          "height": 16834
        },
        "outputId": "30a9923d-d75f-4682-ffc6-b552ae695cab"
      },
      "cell_type": "code",
      "source": [
        "latitudes"
      ],
      "execution_count": 15,
      "outputs": [
        {
          "output_type": "execute_result",
          "data": {
            "text/plain": [
              "{'1': -6.081689834590001,\n",
              " '2': -5.20707988739,\n",
              " '3': -5.826789855957031,\n",
              " '4': -6.569803,\n",
              " '5': -9.443380355834961,\n",
              " '6': -3.58383011818,\n",
              " '7': 61.1604995728,\n",
              " '8': 64.19090271,\n",
              " '9': 67.0122218992,\n",
              " '10': 76.5311965942,\n",
              " '11': 65.66000366210938,\n",
              " '12': 65.2833023071289,\n",
              " '13': 64.295601,\n",
              " '14': 65.952301,\n",
              " '15': 66.05809783935547,\n",
              " '16': 63.985000610352,\n",
              " '17': 65.555801,\n",
              " '18': 64.1299972534,\n",
              " '19': 66.133301,\n",
              " '20': 63.42430114746094,\n",
              " '21': 46.48500061035156,\n",
              " '22': 50.0564002991,\n",
              " '23': 44.639702,\n",
              " '24': 51.3918991089,\n",
              " '25': 49.079833,\n",
              " '26': 68.534401,\n",
              " '27': 49.13249969482422,\n",
              " '28': 48.33060073852539,\n",
              " '29': 64.29889678960001,\n",
              " '30': 49.950801849365234,\n",
              " '31': 49.91,\n",
              " '32': 69.1081008911,\n",
              " '33': 49.054970224899996,\n",
              " '34': 49.2963981628,\n",
              " '35': 47.007801,\n",
              " '36': 47.990799,\n",
              " '37': 67.816704,\n",
              " '38': 52.0750007629,\n",
              " '39': 49.1528015137,\n",
              " '40': 70.4860992432,\n",
              " '41': 64.1932983398,\n",
              " '42': 64.04309844970703,\n",
              " '43': 61.37110137939453,\n",
              " '44': 49.4681015015,\n",
              " '45': 49.21080017089844,\n",
              " '46': 58.4221992493,\n",
              " '47': 51.100799560546875,\n",
              " '48': 55.7422981262207,\n",
              " '49': 53.309700012200004,\n",
              " '50': 61.0942001343,\n",
              " '51': 49.2103004456,\n",
              " '52': 53.578899383499994,\n",
              " '53': 79.9946975708,\n",
              " '54': 68.30419921880001,\n",
              " '55': 63.756402,\n",
              " '56': 45.868900299072266,\n",
              " '57': 48.74610137939453,\n",
              " '58': 54.6781005859375,\n",
              " '59': 61.1808013916,\n",
              " '60': 61.76020050048828,\n",
              " '61': 44.22529983520508,\n",
              " '62': 53.625301361083984,\n",
              " '63': 48.7752990723,\n",
              " '64': 49.77830123901367,\n",
              " '65': 47.42470169067383,\n",
              " '66': 52.8166999817,\n",
              " '67': 49.83169937133789,\n",
              " '68': 70.76280212402344,\n",
              " '69': 68.635597229,\n",
              " '70': 43.173599243199995,\n",
              " '71': 45.5175018311,\n",
              " '72': 60.8396987915,\n",
              " '73': 44.8807983398,\n",
              " '74': 48.7738990784,\n",
              " '75': 72.6832962036,\n",
              " '76': 45.29439926147461,\n",
              " '77': 48.5442008972168,\n",
              " '78': 50.7022018433,\n",
              " '79': 43.460800170899994,\n",
              " '80': 54.805301666259766,\n",
              " '81': 51.5175018311,\n",
              " '82': 43.86220169067383,\n",
              " '83': 47.81999969482422,\n",
              " '84': 54.125301361083984,\n",
              " '85': 53.309200286865234,\n",
              " '86': 82.51779937740001,\n",
              " '87': 49.9561004639,\n",
              " '88': 63.61640167236328,\n",
              " '89': 50.330299377441406,\n",
              " '90': 56.653301239,\n",
              " '91': 51.291099548339844,\n",
              " '92': 46.2728004456,\n",
              " '93': 45.679501,\n",
              " '94': 50.189998626708984,\n",
              " '95': 45.521701812699995,\n",
              " '96': 49.76169967651367,\n",
              " '97': 67.57060241699219,\n",
              " '98': 54.404998779296875,\n",
              " '99': 58.62139892578125,\n",
              " '100': 45.3224983215332,\n",
              " '101': 53.214199066199996,\n",
              " '102': 56.226898,\n",
              " '103': 49.903099,\n",
              " '104': 49.21609878540039,\n",
              " '105': 51.4463996887207,\n",
              " '106': 49.83639907836914,\n",
              " '107': 44.22999954223633,\n",
              " '108': 54.286098480199996,\n",
              " '109': 58.7672004699707,\n",
              " '110': 44.974700927734375,\n",
              " '111': 46.7911,\n",
              " '112': 52.18220138549805,\n",
              " '113': 42.27560043334961,\n",
              " '114': 60.11640167236328,\n",
              " '115': 49.788299560546875,\n",
              " '116': 49.6302986145,\n",
              " '117': 46.11220169067383,\n",
              " '119': 49.71080017089844,\n",
              " '120': 50.43190002441406,\n",
              " '121': 48.37189865112305,\n",
              " '122': 55.1796989441,\n",
              " '123': 51.26470184326172,\n",
              " '124': 52.76919937133789,\n",
              " '125': 48.9369010925293,\n",
              " '126': 46.1614,\n",
              " '127': 53.026100158691406,\n",
              " '128': 74.7169036865,\n",
              " '129': 47.764400482177734,\n",
              " '130': 48.52000045776367,\n",
              " '131': 52.4296989441,\n",
              " '132': 62.8114013672,\n",
              " '133': 46.625,\n",
              " '134': 45.4385986328125,\n",
              " '135': 45.31610107421875,\n",
              " '136': 60.020301818847656,\n",
              " '137': 72.982201,\n",
              " '138': 46.44060134887695,\n",
              " '139': 71.9938964844,\n",
              " '140': 64.2300033569,\n",
              " '141': 55.80110168457031,\n",
              " '142': 44.118900299072266,\n",
              " '143': 48.569698333699996,\n",
              " '144': 43.627499,\n",
              " '145': 69.43329620361328,\n",
              " '146': 45.4706001282,\n",
              " '147': 66.5214004517,\n",
              " '148': 68.77610015869999,\n",
              " '149': 48.20610046386719,\n",
              " '150': 55.151401519800004,\n",
              " '151': 53.355800628699996,\n",
              " '152': 67.5457992554,\n",
              " '153': 48.0532989502,\n",
              " '154': 58.096099853515625,\n",
              " '155': 65.28160095214844,\n",
              " '156': 49.193901062,\n",
              " '157': 55.8418998718,\n",
              " '158': 44.7458,\n",
              " '159': 45.95220184326172,\n",
              " '160': 49.909999847399995,\n",
              " '161': 52.92190170288086,\n",
              " '162': 52.1831016541,\n",
              " '163': 63.20940017700195,\n",
              " '164': 49.610801696777,\n",
              " '165': 53.5724983215,\n",
              " '166': 52.170799255371094,\n",
              " '167': 50.01890182495117,\n",
              " '168': 56.23809814453125,\n",
              " '169': 50.11389923095703,\n",
              " '170': 66.1449966431,\n",
              " '171': 47.697400654599996,\n",
              " '172': 53.8894004822,\n",
              " '173': 54.468498,\n",
              " '174': 43.035599,\n",
              " '175': 49.025299072265625,\n",
              " '176': 60.7095985413,\n",
              " '177': 46.36360168457031,\n",
              " '178': 51.113899231,\n",
              " '179': 54.82469940185547,\n",
              " '180': 58.8363990784,\n",
              " '181': 49.46310043334961,\n",
              " '182': 46.290000915527344,\n",
              " '183': 69.5466995239,\n",
              " '184': 48.646900177,\n",
              " '185': 56.86389923095703,\n",
              " '186': 50.291900634799994,\n",
              " '187': 58.739200592041016,\n",
              " '188': 53.3191986084,\n",
              " '189': 47.618598938,\n",
              " '190': 49.41389846801758,\n",
              " '191': 50.29029846191406,\n",
              " '192': 48.60860061645508,\n",
              " '193': 43.6772003174,\n",
              " '194': 43.74250030517578,\n",
              " '195': 45.88529968261719,\n",
              " '196': 62.462799072265625,\n",
              " '197': 55.2930984497,\n",
              " '198': 53.25429916379999,\n",
              " '199': 42.9994010925293,\n",
              " '200': 50.680599212646484,\n",
              " '201': 54.14390182495117,\n",
              " '202': 50.22330093383789,\n",
              " '203': 60.17279815673828,\n",
              " '204': 44.98440170288086,\n",
              " '205': 62.20750045776367,\n",
              " '206': 67.40750122070312,\n",
              " '207': 36.50360107421875,\n",
              " '208': 35.33250045776367,\n",
              " '209': 36.7120018005,\n",
              " '210': 36.691001892089844,\n",
              " '211': 24.292801,\n",
              " '212': 36.545799,\n",
              " '213': 26.7101,\n",
              " '214': 26.7234992981,\n",
              " '215': 35.52539825439453,\n",
              " '216': 22.8115005493,\n",
              " '217': 36.7951011658,\n",
              " '218': 33.535900116,\n",
              " '219': 35.752201,\n",
              " '220': 36.822201,\n",
              " '221': 36.2760009765625,\n",
              " '222': 35.4315986633,\n",
              " '224': 32.93040084838867,\n",
              " '225': 35.3410987854,\n",
              " '226': 35.73540115356445,\n",
              " '227': 27.7003993988,\n",
              " '228': 36.2126998901,\n",
              " '229': 35.54240036010742,\n",
              " '230': 35.0167007446,\n",
              " '231': 35.6239013672,\n",
              " '232': 35.1717987061,\n",
              " '233': 35.207698822021484,\n",
              " '234': 27.837600708007812,\n",
              " '235': 34.793300628699996,\n",
              " '236': 30.571300506591797,\n",
              " '237': 32.38410186767578,\n",
              " '238': 31.673000335699996,\n",
              " '239': 27.250999450699997,\n",
              " '240': 33.06779861450195,\n",
              " '241': 33.764400482199996,\n",
              " '242': 29.2371006012,\n",
              " '243': 31.917200088500977,\n",
              " '244': 28.0515,\n",
              " '245': 6.357230186462402,\n",
              " '246': 12.35319995880127,\n",
              " '247': 11.160099983215332,\n",
              " '248': 5.605189800262451,\n",
              " '249': 9.55718994140625,\n",
              " '250': 10.0826997756958,\n",
              " '251': 7.361830234527588,\n",
              " '252': 4.896059989929199,\n",
              " '253': 5.261390209197998,\n",
              " '254': 7.738800048828125,\n",
              " '255': 6.792809963226318,\n",
              " '256': 9.38718032837,\n",
              " '257': 7.272069931030273,\n",
              " '258': 4.746719837188721,\n",
              " '259': 6.9031701088,\n",
              " '260': 9.006790161132812,\n",
              " '261': 7.246739864349365,\n",
              " '262': 6.316979885101318,\n",
              " '263': 4.976019859313965,\n",
              " '264': 6.474269866943359,\n",
              " '265': 12.1717,\n",
              " '266': 7.362460136413574,\n",
              " '267': 8.440210342407227,\n",
              " '268': 9.639829635620117,\n",
              " '269': 10.696000099182129,\n",
              " '270': 12.0476,\n",
              " '271': 11.855299949645996,\n",
              " '272': 7.70388,\n",
              " '273': 6.5773701667785645,\n",
              " '274': 9.652170181274414,\n",
              " '275': 5.0154900550842285,\n",
              " '276': 12.916299819946289,\n",
              " '277': 9.257550239562988,\n",
              " '278': 11.1302,\n",
              " '279': 13.5024995803833,\n",
              " '280': 13.481499671936035,\n",
              " '281': 14.875699996948242,\n",
              " '282': 16.965999603271484,\n",
              " '283': 18.968700408935547,\n",
              " '284': 13.372900009155273,\n",
              " '285': 13.779000282287598,\n",
              " '286': 35.75809860229492,\n",
              " '287': 36.85100173950195,\n",
              " '288': 37.245398,\n",
              " '289': 32.30619812011719,\n",
              " '290': 34.422000885009766,\n",
              " '291': 33.87689971923828,\n",
              " '292': 36.72129821777344,\n",
              " '293': 33.875,\n",
              " '294': 31.704299926757812,\n",
              " '295': 34.71799850463867,\n",
              " '296': 33.939701080322266,\n",
              " '297': 9.767330169677734,\n",
              " '298': 6.165609836578369,\n",
              " '299': 51.1893997192,\n",
              " '300': 50.75859832763672,\n",
              " '301': 51.168301,\n",
              " '302': 50.901401519800004,\n",
              " '303': 49.891700744628906,\n",
              " '304': 50.459202,\n",
              " '305': 50.575801849365234,\n",
              " '306': 51.090301513671875,\n",
              " '307': 50.2433013916,\n",
              " '308': 50.817199707,\n",
              " '309': 50.63740158081055,\n",
              " '310': 51.198898315399994,\n",
              " '311': 50.9474983215332,\n",
              " '312': 50.791900634799994,\n",
              " '313': 50.034400939941406,\n",
              " '314': 51.14419937133789,\n",
              " '315': 51.394798278808594,\n",
              " '316': 51.264702,\n",
              " '317': 51.19361114501953,\n",
              " '318': 50.981945,\n",
              " '319': 51.831693541,\n",
              " '320': 52.195856,\n",
              " '322': 51.30805587768555,\n",
              " '323': 51.3630556,\n",
              " '324': 51.552223,\n",
              " '325': 51.2936096191,\n",
              " '326': 53.306388855,\n",
              " '327': 52.5805549621582,\n",
              " '328': 52.203609,\n",
              " '329': 54.338253,\n",
              " '330': 50.915279388427734,\n",
              " '331': 52.918888092041016,\n",
              " '332': 52.073612,\n",
              " '333': 51.36333465576172,\n",
              " '334': 53.83277893066406,\n",
              " '335': 51.889442,\n",
              " '336': 51.29694366455078,\n",
              " '337': 52.380001,\n",
              " '338': 51.1328010559082,\n",
              " '339': 50.979801177978516,\n",
              " '340': 50.033333,\n",
              " '341': 52.134601593,\n",
              " '342': 53.630401611328,\n",
              " '343': 52.472999572753906,\n",
              " '344': 50.8658981323,\n",
              " '345': 51.289501,\n",
              " '346': 48.353802,\n",
              " '347': 49.498699,\n",
              " '348': 51.423889,\n",
              " '349': 49.214599609400004,\n",
              " '350': 48.689899444599995,\n",
              " '351': 52.5597,\n",
              " '352': 52.461101532,\n",
              " '353': 53.0475006104,\n",
              " '354': 49.959999,\n",
              " '355': 49.9487,\n",
              " '356': 49.473057,\n",
              " '357': 51.03499984741211,\n",
              " '358': 49.606945,\n",
              " '359': 49.967499,\n",
              " '360': 50.991604,\n",
              " '361': 50.707698822021484,\n",
              " '362': 53.5352783203125,\n",
              " '363': 54.37944412231445,\n",
              " '364': 53.8054008484,\n",
              " '365': 50.405555725,\n",
              " '366': 51.099998474121094,\n",
              " '367': 51.483890533447266,\n",
              " '368': 51.40230178833008,\n",
              " '369': 51.964722,\n",
              " '370': 51.230278,\n",
              " '371': 51.614101409899995,\n",
              " '372': 51.99583435058594,\n",
              " '373': 51.51829910279999,\n",
              " '374': 48.425278,\n",
              " '375': 48.11111068725586,\n",
              " '376': 48.39611053466797,\n",
              " '377': 48.1069450378418,\n",
              " '378': 48.081402,\n",
              " '379': 48.90083312988281,\n",
              " '380': 48.6349983215332,\n",
              " '381': 47.858890533447266,\n",
              " '382': 47.671298980699994,\n",
              " '383': 53.426998,\n",
              " '384': 52.62888717651367,\n",
              " '385': 48.77777862548828,\n",
              " '386': 49.985001,\n",
              " '387': 49.794166564941,\n",
              " '388': 50.288612365722656,\n",
              " '389': 50.0180549621582,\n",
              " '390': 50.325558,\n",
              " '391': 49.863888,\n",
              " '392': 49.304722,\n",
              " '393': 49.2094,\n",
              " '394': 47.97333145139999,\n",
              " '395': 48.022777557400005,\n",
              " '396': 48.053890228271484,\n",
              " '397': 49.1183319092,\n",
              " '398': 51.607498,\n",
              " '399': 52.319199,\n",
              " '400': 51.417273,\n",
              " '401': 52.18138885498047,\n",
              " '402': 53.506943,\n",
              " '403': 53.391109,\n",
              " '404': 53.271942138671875,\n",
              " '405': 53.502220153808594,\n",
              " '406': 53.59639,\n",
              " '407': 53.70694351196289,\n",
              " '408': 54.77333450317383,\n",
              " '409': 54.220001220703125,\n",
              " '410': 54.9132003784,\n",
              " '411': 59.26029968261719,\n",
              " '412': 58.99079895019531,\n",
              " '413': 58.22990036010742,\n",
              " '414': 58.41899871826172,\n",
              " '415': 59.41329956049999,\n",
              " '416': 58.3074989319,\n",
              " '417': 68.362602233887,\n",
              " '418': 61.1161003112793,\n",
              " '419': 61.856039,\n",
              " '420': 60.254600524902344,\n",
              " '421': 60.317199707031,\n",
              " '422': 61.689701080322266,\n",
              " '423': 59.848899841308594,\n",
              " '424': 60.6543998718,\n",
              " '425': 60.4625015259,\n",
              " '426': 61.24919891357422,\n",
              " '427': 62.1661,\n",
              " '428': 68.607299804688,\n",
              " '429': 62.662899017334,\n",
              " '430': 62.399501800537,\n",
              " '431': 63.127102,\n",
              " '432': 65.778701782227,\n",
              " '433': 64.285499572754,\n",
              " '434': 62.4625015259,\n",
              " '435': 63.721199035645,\n",
              " '436': 66.712898,\n",
              " '437': 65.987602233887,\n",
              " '438': 67.700996398926,\n",
              " '439': 63.007099151611,\n",
              " '440': 61.144199,\n",
              " '441': 61.044601,\n",
              " '442': 60.122200012207,\n",
              " '443': 62.94670104980469,\n",
              " '444': 61.6866,\n",
              " '445': 60.333900451699996,\n",
              " '446': 64.930099487305,\n",
              " '447': 61.245601654052734,\n",
              " '448': 61.461700439453,\n",
              " '449': 65.4021987915,\n",
              " '450': 63.7318992615,\n",
              " '451': 64.6881027222,\n",
              " '452': 62.0654983521,\n",
              " '453': 66.564796447754,\n",
              " '454': 60.74470138549805,\n",
              " '455': 61.943099975586,\n",
              " '456': 61.062400817871094,\n",
              " '457': 67.3949966431,\n",
              " '458': 61.414100646973,\n",
              " '459': 61.7733,\n",
              " '460': 60.514099121094,\n",
              " '461': 60.89640045166,\n",
              " '462': 63.050701141357,\n",
              " '463': 62.171100616455,\n",
              " '464': 64.0547222,\n",
              " '465': 54.6575012207,\n",
              " '466': 54.39889907836914,\n",
              " '467': 54.618099212646484,\n",
              " '468': 55.04280090332031,\n",
              " '469': 52.453899383499994,\n",
              " '470': 52.3697013855,\n",
              " '471': 52.6077995300293,\n",
              " '472': 51.89419937133789,\n",
              " '474': 52.51750183105469,\n",
              " '475': 51.668095,\n",
              " '476': 52.0407981873,\n",
              " '477': 52.19219970703125,\n",
              " '478': 53.35369873046875,\n",
              " '479': 53.3381,\n",
              " '480': 51.08720016479492,\n",
              " '481': 50.44060134887695,\n",
              " '482': 51.5051,\n",
              " '483': 51.152198791503906,\n",
              " '484': 50.08610153198242,\n",
              " '485': 51.4048,\n",
              " '486': 51.0093994140625,\n",
              " '487': 51.833099365234375,\n",
              " '488': 51.39670181274414,\n",
              " '489': 51.60530090332031,\n",
              " '490': 51.382702,\n",
              " '491': 53.33359909057617,\n",
              " '492': 51.874698638916016,\n",
              " '493': 50.422798,\n",
              " '494': 50.779998779296875,\n",
              " '495': 50.95029830932617,\n",
              " '496': 51.187198638916016,\n",
              " '497': 49.706104,\n",
              " '498': 49.435001373291016,\n",
              " '499': 49.20790100097656,\n",
              " '500': 50.835602,\n",
              " '501': 51.33079910279999,\n",
              " '502': 51.148102,\n",
              " '503': 51.505299,\n",
              " '504': 51.2757987976,\n",
              " '505': 51.67610168457031,\n",
              " '506': 51.32389831542969,\n",
              " '507': 51.4706,\n",
              " '508': 51.5713996887207,\n",
              " '509': 50.95610046386719,\n",
              " '510': 51.342201,\n",
              " '511': 53.7197,\n",
              " '512': 54.9375,\n",
              " '513': 53.280601501464844,\n",
              " '514': 53.77170181274414,\n",
              " '515': 53.57440185546875,\n",
              " '516': 54.1286111,\n",
              " '517': 53.86589813232422,\n",
              " '518': 53.745098,\n",
              " '519': 53.1781005859375,\n",
              " '520': 54.08330154418945,\n",
              " '521': 55.037498474121094,\n",
              " '522': 54.50920104980469,\n",
              " '523': 52.8311004639,\n",
              " '524': 52.811698913574,\n",
              " '525': 52.87120056152344,\n",
              " '526': 52.79819869995117,\n",
              " '528': 53.581600189199996,\n",
              " '529': 58.957801818847656,\n",
              " '530': 59.87889862060547,\n",
              " '531': 58.458900451660156,\n",
              " '532': 57.201900482177734,\n",
              " '533': 57.54249954223633,\n",
              " '534': 55.8718986511,\n",
              " '535': 55.95000076293945,\n",
              " '536': 55.68190002441406,\n",
              " '537': 55.5093994140625,\n",
              " '538': 57.48109817504883,\n",
              " '539': 60.43280029296875,\n",
              " '540': 56.45249938964844,\n",
              " '541': 58.215599060058594,\n",
              " '542': 56.49919891357422,\n",
              " '543': 56.37289810180664,\n",
              " '544': 57.7052001953125,\n",
              " '545': 52.205002,\n",
              " '546': 52.468101501464844,\n",
              " '547': 52.6758003235,\n",
              " '548': 51.8849983215,\n",
              " '549': 51.721698761,\n",
              " '550': 53.394299,\n",
              " '551': 52.0722007751,\n",
              " '552': 50.73440170288086,\n",
              " '553': 51.5194015503,\n",
              " '554': 51.8368988037,\n",
              " '555': 51.616401672399995,\n",
              " '556': 52.409301757799994,\n",
              " '557': 52.361900329589844,\n",
              " '558': 52.1273002625,\n",
              " '559': 52.3572006226,\n",
              " '560': 51.6822013855,\n",
              " '561': 51.75,\n",
              " '562': 51.2341003418,\n",
              " '563': 52.639999,\n",
              " '564': 51.553001403799996,\n",
              " '565': 53.0929985046,\n",
              " '566': 54.1371994019,\n",
              " '567': 54.2924,\n",
              " '568': 53.834301,\n",
              " '569': 52.34260177612305,\n",
              " '570': 52.735699,\n",
              " '571': 53.307800293,\n",
              " '572': 52.612598,\n",
              " '573': 54.0489006042,\n",
              " '574': 53.1661987305,\n",
              " '575': 54.205501556399994,\n",
              " '576': 53.0303001404,\n",
              " '577': 52.962200164799995,\n",
              " '578': 52.648395,\n",
              " '579': -51.82279968261719,\n",
              " '580': 52.308601,\n",
              " '581': 51.2552986145,\n",
              " '582': 50.9117012024,\n",
              " '583': 52.0606,\n",
              " '584': 53.1192016602,\n",
              " '585': 51.4500999451,\n",
              " '586': 53.1197013855,\n",
              " '587': 51.56740188598633,\n",
              " '588': 52.92340087890625,\n",
              " '589': 52.4603,\n",
              " '590': 53.228599548339844,\n",
              " '591': 51.956902,\n",
              " '592': 52.1273002625,\n",
              " '593': 52.275833,\n",
              " '594': 52.166099548300004,\n",
              " '595': 51.4491,\n",
              " '596': 51.84130096435547,\n",
              " '597': 53.300201416015625,\n",
              " '599': 53.421299,\n",
              " '600': 53.910301208496094,\n",
              " '601': 52.18090057373047,\n",
              " '602': 53.301700592,\n",
              " '603': 52.701999664307,\n",
              " '604': 54.280200958252,\n",
              " '605': 52.187198638916016,\n",
              " '607': 56.2999992371,\n",
              " '608': 55.7402992249,\n",
              " '609': 55.617900848389,\n",
              " '610': 55.525902,\n",
              " '611': 55.94139862060547,\n",
              " '612': 56.29750061035156,\n",
              " '613': 57.277198791503906,\n",
              " '614': 54.699299,\n",
              " '615': 55.47669982910156,\n",
              " '616': 54.87030029296875,\n",
              " '617': 55.585601806640625,\n",
              " '618': 55.06330108642578,\n",
              " '619': 54.96440124511719,\n",
              " '621': 55.221048,\n",
              " '622': 56.550201416015625,\n",
              " '623': 57.06880187988281,\n",
              " '624': 55.436298,\n",
              " '625': 62.0635986328125,\n",
              " '626': 56.846901,\n",
              " '627': 55.9901008605957,\n",
              " '628': 57.0927589138,\n",
              " '629': 49.6233333,\n",
              " '630': 62.5625,\n",
              " '631': 69.292503356934,\n",
              " '632': 69.976097106934,\n",
              " '633': 60.63890075683594,\n",
              " '634': 65.461097717285,\n",
              " '635': 67.26920318603516,\n",
              " '636': 60.29339981,\n",
              " '637': 70.60050201416,\n",
              " '638': 58.204201,\n",
              " '639': 60.417301177978516,\n",
              " '640': 69.055801391602,\n",
              " '641': 68.491302490234,\n",
              " '642': 61.015598297119,\n",
              " '643': 61.583599090576,\n",
              " '644': 60.193901062012,\n",
              " '645': 59.34529876709,\n",
              " '646': 70.486701965332,\n",
              " '647': 63.111801147461,\n",
              " '648': 59.9692993164,\n",
              " '649': 69.725799560547,\n",
              " '650': 58.0994987487793,\n",
              " '651': 62.744701385498,\n",
              " '652': 65.783996582031,\n",
              " '653': 70.068801879883,\n",
              " '654': 59.565701,\n",
              " '655': 63.69889831542969,\n",
              " '656': 62.578399658203,\n",
              " '657': 59.378817,\n",
              " '658': 78.246101379395,\n",
              " '659': 59.185001373291016,\n",
              " '660': 59.791900634765625,\n",
              " '662': 65.956802368164,\n",
              " '663': 69.68329620361328,\n",
              " '664': 59.1866989136,\n",
              " '665': 63.4578018,\n",
              " '666': 58.876701354,\n",
              " '667': 52.26850128173828,\n",
              " '668': 54.377601623535156,\n",
              " '669': 50.077702,\n",
              " '670': 50.23809814453125,\n",
              " '671': 50.4743,\n",
              " '673': 50.32229995727539,\n",
              " '674': 52.421001434299995,\n",
              " '675': 50.1100006104,\n",
              " '676': 53.584701538100006,\n",
              " '677': 54.47890090942383,\n",
              " '678': 53.790599823,\n",
              " '679': 52.1656990051,\n",
              " '680': 51.1026992798,\n",
              " '681': 52.138500213600004,\n",
              " '682': 58.40230178833008,\n",
              " '683': 58.61090087890625,\n",
              " '684': 59.897300720214844,\n",
              " '685': 56.266700744629,\n",
              " '686': 58.49810028076172,\n",
              " '687': 57.662799835205,\n",
              " '688': 57.757598876953125,\n",
              " '689': 58.1697998046875,\n",
              " '690': 58.4655,\n",
              " '691': 57.77470016479492,\n",
              " '692': 58.45640182495117,\n",
              " '693': 58.31809997558594,\n",
              " '694': 58.51380157470703,\n",
              " '695': 58.42639923095703,\n",
              " '696': 59.4144743644,\n",
              " '697': 59.34590148925781,\n",
              " '698': 60.957901,\n",
              " '699': 58.78860092163086,\n",
              " '700': 59.675899505615234,\n",
              " '701': 56.610802,\n",
              " '702': 56.9502983093,\n",
              " '703': 55.92169952392578,\n",
              " '704': 55.94599914550781,\n",
              " '705': 57.350498,\n",
              " '706': 57.264198303222656,\n",
              " '707': 56.68550109863281,\n",
              " '708': 55.536305364,\n",
              " '709': 56.69110107421875,\n",
              " '710': 57.292198,\n",
              " '711': 56.929100036621094,\n",
              " '712': 63.73830032348633,\n",
              " '713': 62.40890121459999,\n",
              " '714': 62.04779815673828,\n",
              " '715': 67.13240051269531,\n",
              " '716': 61.7681007385,\n",
              " '717': 66.49620056152344,\n",
              " '718': 63.04859924316406,\n",
              " '719': 64.54830169677734,\n",
              " '720': 63.12860107421875,\n",
              " '721': 62.528099060058594,\n",
              " '722': 63.40829849243164,\n",
              " '723': 65.39830017089844,\n",
              " '724': 67.821998596191,\n",
              " '725': 61.189998626708984,\n",
              " '726': 64.62480163574219,\n",
              " '727': 62.4814,\n",
              " '728': 63.791801452637,\n",
              " '729': 64.5791015625,\n",
              " '730': 65.59030151367188,\n",
              " '731': 59.22370147705078,\n",
              " '733': 59.58940124511719,\n",
              " '734': 65.543800354004,\n",
              " '735': 65.87529754638672,\n",
              " '736': 59.386600494384766,\n",
              " '737': 59.651901245117,\n",
              " '738': 59.354400634765625,\n",
              " '739': 60.422000885009766,\n",
              " '740': 57.525799,\n",
              " '741': 60.593299865722656,\n",
              " '742': 58.4062004089,\n",
              " '743': 58.586299896240234,\n",
              " '745': 59.35110092163086,\n",
              " '746': 57.662799835205,\n",
              " '748': 67.76480102539062,\n",
              " '750': 49.9726982117,\n",
              " '751': 49.4369010925293,\n",
              " '753': 49.648101806599996,\n",
              " '754': 52.2785,\n",
              " '755': 52.59120178222656,\n",
              " '756': 52.291199,\n",
              " '757': 51.1146,\n",
              " '758': 48.220299,\n",
              " '759': 50.3660011292,\n",
              " '760': 49.391945,\n",
              " '761': 49.217498779296875,\n",
              " '762': 52.919399,\n",
              " '763': 49.698699951171875,\n",
              " '764': 50.169201,\n",
              " '765': 49.218101501464844,\n",
              " '766': 49.743099,\n",
              " '767': 53.7677001953,\n",
              " '768': 52.585556,\n",
              " '769': 50.9608,\n",
              " '770': 54.312198638916016,\n",
              " '771': 53.533501,\n",
              " '772': 53.9182014465,\n",
              " '773': 50.8312,\n",
              " '774': 54.459301,\n",
              " '775': 53.54779815673828,\n",
              " '777': 52.457298,\n",
              " '778': 49.63359832763672,\n",
              " '779': 49.5635986328125,\n",
              " '780': 50.049800872802734,\n",
              " '781': 48.070599,\n",
              " '782': 50.1738014221,\n",
              " '783': 48.32229995727539,\n",
              " '784': 48.205555,\n",
              " '785': 51.767799,\n",
              " '786': 48.7156982421875,\n",
              " '787': 48.185504,\n",
              " '788': 48.710999,\n",
              " '789': 51.922798,\n",
              " '790': -28.575001,\n",
              " '791': -29.28179931640625,\n",
              " '792': -26.23859977722168,\n",
              " '793': -32.8970985413,\n",
              " '794': -29.092699050900002,\n",
              " '795': -28.2483997345,\n",
              " '796': -27.36680030822754,\n",
              " '797': -33.9648017883,\n",
              " '798': -31.50029945373535,\n",
              " '799': -29.6144444444,\n",
              " '800': -33.0355987549,\n",
              " '801': -26.4955997467041,\n",
              " '802': -28.82309913635254,\n",
              " '803': -25.986299514799995,\n",
              " '804': -34.0056,\n",
              " '806': -32.193599700927734,\n",
              " '807': -33.284698486328125,\n",
              " '808': -29.1219997406,\n",
              " '809': -28.078699111938477,\n",
              " '810': -28.23509979248047,\n",
              " '811': -24.368600845299998,\n",
              " '812': -30.56220054626465,\n",
              " '813': -26.1392,\n",
              " '814': -26.8710994720459,\n",
              " '815': -28.802799224900003,\n",
              " '816': -26.0808259199,\n",
              " '817': -27.660600662231445,\n",
              " '818': -27.45669937133789,\n",
              " '819': -29.6884002686,\n",
              " '820': -25.938499450699997,\n",
              " '821': -26.17569923400879,\n",
              " '822': -23.159900665283203,\n",
              " '823': -32.968898773199996,\n",
              " '824': -28.5816993713,\n",
              " '825': -25.684799194335938,\n",
              " '827': -30.8574008942,\n",
              " '828': -24.989099502563477,\n",
              " '829': -27.079299926799997,\n",
              " '831': -25.4300003052,\n",
              " '832': -25.7045001984,\n",
              " '833': -27.626100540161133,\n",
              " '834': -27.7705993652,\n",
              " '835': -24.686100006103516,\n",
              " '836': -34.554901123,\n",
              " '837': -33.6069984436,\n",
              " '838': -33.9849014282,\n",
              " '839': -34.0881601675,\n",
              " '840': -23.937200546299998,\n",
              " '841': -23.9260997772,\n",
              " '842': -31.605899810791016,\n",
              " '843': -29.649000167799997,\n",
              " '844': -25.333799362199997,\n",
              " '845': -23.845269,\n",
              " '846': -26.670999527,\n",
              " '847': -26.889299392700195,\n",
              " '848': -31.92020034790039,\n",
              " '849': -28.740999221800003,\n",
              " '850': -25.6443004608,\n",
              " '851': -33.812198638916016,\n",
              " '852': -29.689300537109375,\n",
              " '853': -26.52409935,\n",
              " '854': -32.964099884,\n",
              " '855': -26.2494004736,\n",
              " '856': -25.8097000122,\n",
              " '857': -27.6485996246,\n",
              " '858': -34.04819869995117,\n",
              " '859': -24.960899353,\n",
              " '860': -28.260000228881836,\n",
              " '861': -29.032899856567383,\n",
              " '862': -26.776599884,\n",
              " '863': -23.8243999481,\n",
              " '864': -28.3206005096,\n",
              " '865': -28.39909935,\n",
              " '866': -31.546363184900002,\n",
              " '867': -26.9824008942,\n",
              " '868': -29.770599365234375,\n",
              " '869': -31.641000747680664,\n",
              " '870': -26.566400528,\n",
              " '871': -25.6539,\n",
              " '872': -25.832300186199998,\n",
              " '873': -25.829999923699997,\n",
              " '874': -27.996824511099998,\n",
              " '875': -33.90019989013672,\n",
              " '876': -25.599000930786133,\n",
              " '877': -21.15959930419922,\n",
              " '878': -24.6023006439209,\n",
              " '879': -17.83289909362793,\n",
              " '880': -19.97260093688965,\n",
              " '881': -24.555200576782227,\n",
              " '882': -22.0583,\n",
              " '883': -4.251699924468994,\n",
              " '884': -0.5313500165939331,\n",
              " '885': 1.6159900426899998,\n",
              " '886': -4.816030025482178,\n",
              " '887': -26.52899932861328,\n",
              " '888': 4.39847993850708,\n",
              " '889': 4.2215800285339355,\n",
              " '890': 1.9054700136184692,\n",
              " '891': 3.755270004272461,\n",
              " '892': -7.9696,\n",
              " '893': -20.430200576782227,\n",
              " '894': -19.7577,\n",
              " '895': -7.31327,\n",
              " '896': 4.08919000626,\n",
              " '897': 4.0060801506,\n",
              " '898': 10.451399803161621,\n",
              " '899': 5.636919975280762,\n",
              " '900': 7.3570098876953125,\n",
              " '901': 9.33588981628418,\n",
              " '902': 5.536920070650001,\n",
              " '903': 6.039239883422852,\n",
              " '904': 3.8360400199890137,\n",
              " '905': -12.572799682617,\n",
              " '906': -17.821800231933594,\n",
              " '907': -15.3308000565,\n",
              " '908': -13.258899688720703,\n",
              " '909': -15.254500389099121,\n",
              " '910': -12.998100280762,\n",
              " '911': -12.900500297546387,\n",
              " '912': -11.5337,\n",
              " '913': -12.298100471496582,\n",
              " '914': -12.131699562072754,\n",
              " '915': -12.804699897766113,\n",
              " '916': -20.887100219726562,\n",
              " '917': -21.320899963378906,\n",
              " '918': -18.7968997955,\n",
              " '919': -19.56279945373535,\n",
              " '920': -17.093900680541992,\n",
              " '921': -18.109500885009766,\n",
              " '922': -20.284700393676758,\n",
              " '923': -12.34939956665039,\n",
              " '924': -16.16390037536621,\n",
              " '925': -14.651700019836426,\n",
              " '926': -13.188400268554688,\n",
              " '927': -14.99940013885498,\n",
              " '928': -14.62969970703125,\n",
              " '929': -15.6668417421,\n",
              " '930': -13.3121004105,\n",
              " '931': -16.744530296500002,\n",
              " '932': -15.436699867248535,\n",
              " '933': -14.278599739074707,\n",
              " '934': -13.375800132751465,\n",
              " '935': -14.898799896240234,\n",
              " '936': -13.484816,\n",
              " '937': -25.03809928894043,\n",
              " '938': -21.441600799560547,\n",
              " '939': -22.805299758911133,\n",
              " '940': -22.119699478149414,\n",
              " '941': -21.201799392700195,\n",
              " '942': -21.7539005279541,\n",
              " '943': -23.383399963378906,\n",
              " '944': -6.269899845123291,\n",
              " '945': -12.609000206,\n",
              " '946': -5.59699010848999,\n",
              " '948': -12.808899879455566,\n",
              " '949': -12.404600143433,\n",
              " '950': -12.371199607849121,\n",
              " '951': -8.85836982727,\n",
              " '952': -9.525090217590332,\n",
              " '953': -14.657600402832031,\n",
              " '955': -7.754509925842285,\n",
              " '956': -10.722000122070312,\n",
              " '957': -9.689069747924805,\n",
              " '958': -6.141089916229248,\n",
              " '959': -14.924699783325195,\n",
              " '960': -11.768099784851074,\n",
              " '961': -7.60306978225708,\n",
              " '962': -16.755399703979492,\n",
              " '963': 1.5431100130081177,\n",
              " '964': -0.6652140021324158,\n",
              " '965': -0.7043889760971069,\n",
              " '966': 2.0756399631500244,\n",
              " '967': -0.7117390036582947,\n",
              " '968': -1.5747300386428833,\n",
              " '969': 0.5792109966278076,\n",
              " '970': 0.458600014448,\n",
              " '971': -1.6561599969863892,\n",
              " '972': 1.6629400253295898,\n",
              " '973': 0.3781749904155731,\n",
              " '974': -19.79640007019043,\n",
              " '976': -23.876399993896484,\n",
              " '977': -13.274,\n",
              " '978': -15.0331001282,\n",
              " '979': -25.920799255371094,\n",
              " '980': -11.672900199890137,\n",
              " '981': -11.361800193786621,\n",
              " '982': -13.225099563598633,\n",
              " '983': -14.488200187683105,\n",
              " '984': -15.105600357055664,\n",
              " '985': -12.991762161254883,\n",
              " '986': -17.855499267578125,\n",
              " '987': -15.602700233459473,\n",
              " '988': -16.104799270629883,\n",
              " '989': -14.70460033416748,\n",
              " '990': -22.018400192260742,\n",
              " '991': -7.00478,\n",
              " '992': -5.6967,\n",
              " '993': -10.1096,\n",
              " '994': -4.674339771270752,\n",
              " '995': -4.3192901611328125,\n",
              " '996': -7.13457,\n",
              " '997': 13.847000122070312,\n",
              " '998': 8.624409675598145,\n",
              " '999': 12.133700370788574,\n",
              " '1000': 17.91710090637207,\n",
              " '1001': -20.01740074157715,\n",
              " '1002': -17.75160026550293,\n",
              " '1003': -21.008101,\n",
              " '1004': -18.09589958190918,\n",
              " '1005': -17.931800842285156,\n",
              " '1006': -16.519800186157227,\n",
              " '1007': -17.431900024414062,\n",
              " '1008': -18.997499465942,\n",
              " '1009': -20.055299758911133,\n",
              " '1010': -20.289499282836914,\n",
              " '1011': -19.436399459838867,\n",
              " '1012': -18.629899978637695,\n",
              " '1013': -15.679100036621094,\n",
              " '1014': -9.953570365905762,\n",
              " '1015': -13.014599800109863,\n",
              " '1016': -13.7894001007,\n",
              " '1017': -11.444700241088867,\n",
              " '1018': -29.462299346923828,\n",
              " '1019': -29.304100036621094,\n",
              " '1020': -4.38574981689,\n",
              " '1021': -4.32666015625,\n",
              " '1022': -5.9308600425720215,\n",
              " ...}"
            ]
          },
          "metadata": {
            "tags": []
          },
          "execution_count": 15
        }
      ]
    },
    {
      "metadata": {
        "id": "DatU40V4KjGr",
        "colab_type": "code",
        "colab": {
          "base_uri": "https://localhost:8080/",
          "height": 70
        },
        "outputId": "d9511085-1659-4df4-9eba-483c42fae3a5"
      },
      "cell_type": "code",
      "source": [
        "!pip install geopy"
      ],
      "execution_count": 16,
      "outputs": [
        {
          "output_type": "stream",
          "text": [
            "Requirement already satisfied: geopy in /usr/local/lib/python3.6/dist-packages (1.17.0)\n",
            "Requirement already satisfied: geographiclib<2,>=1.49 in /usr/local/lib/python3.6/dist-packages (from geopy) (1.49)\n"
          ],
          "name": "stdout"
        }
      ]
    },
    {
      "metadata": {
        "id": "TsPaclDAKjGw",
        "colab_type": "code",
        "colab": {}
      },
      "cell_type": "code",
      "source": [
        "from geopy.distance import great_circle, geodesic\n",
        "# great_circle((37, 127), (38, 129))\n",
        "# dist = geodesic((37, 127), (38, 129))\n",
        "# dist.km"
      ],
      "execution_count": 0,
      "outputs": []
    },
    {
      "metadata": {
        "id": "pmf_tDjRKjGy",
        "colab_type": "code",
        "colab": {}
      },
      "cell_type": "code",
      "source": [
        "distances = []\n",
        "f = open(\"./routes.dat\")\n",
        "for row in csv.reader(f):\n",
        "    source_airport = row[3]\n",
        "    dest_airport = row[5]\n",
        "    if source_airport in latitudes and dest_airport in latitudes:\n",
        "        source_lat = latitudes[source_airport]\n",
        "        source_long = longitudes[source_airport]\n",
        "        dest_lat = latitudes[dest_airport]\n",
        "        dest_long = longitudes[dest_airport]\n",
        "        distances.append(great_circle((source_lat,source_long),(dest_lat,dest_long)).km)"
      ],
      "execution_count": 0,
      "outputs": []
    },
    {
      "metadata": {
        "id": "uxWk-GdSKjG0",
        "colab_type": "code",
        "colab": {
          "base_uri": "https://localhost:8080/",
          "height": 378
        },
        "outputId": "171e8c93-a4a3-4686-8387-f32ddd9236cc"
      },
      "cell_type": "code",
      "source": [
        "import matplotlib.pyplot as plt\n",
        "plt.hist(distances, 100,facecolor='b')\n",
        "plt.xlabel(\"Distance (km)\")\n",
        "plt.ylabel(\"Number of flights\")"
      ],
      "execution_count": 21,
      "outputs": [
        {
          "output_type": "execute_result",
          "data": {
            "text/plain": [
              "Text(0, 0.5, 'Number of flights')"
            ]
          },
          "metadata": {
            "tags": []
          },
          "execution_count": 21
        },
        {
          "output_type": "display_data",
          "data": {
            "image/png": "[encoded data removed]",
            "text/plain": [
              "<Figure size 576x396 with 1 Axes>"
            ]
          },
          "metadata": {
            "tags": []
          }
        }
      ]
    },
    {
      "metadata": {
        "id": "JaklA-qfKjG2",
        "colab_type": "code",
        "colab": {}
      },
      "cell_type": "code",
      "source": [
        ""
      ],
      "execution_count": 0,
      "outputs": []
    }
  ]
}