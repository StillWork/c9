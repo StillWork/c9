{
  "nbformat": 4,
  "nbformat_minor": 0,
  "metadata": {
    "colab": {
      "name": "gg-tip-AIcamp.ipynb",
      "version": "0.3.2",
      "provenance": [],
      "collapsed_sections": [],
      "include_colab_link": true
    },
    "kernelspec": {
      "name": "python3",
      "display_name": "Python 3"
    }
  },
  "cells": [
    {
      "cell_type": "markdown",
      "metadata": {
        "id": "view-in-github",
        "colab_type": "text"
      },
      "source": [
        "<a href=\"https://colab.research.google.com/github/StillWork/c9/blob/master/gg_tip_AIcamp.ipynb\" target=\"_parent\"><img src=\"https://colab.research.google.com/assets/colab-badge.svg\" alt=\"Open In Colab\"/></a>"
      ]
    },
    {
      "metadata": {
        "id": "HTWjrI9n1oiQ",
        "colab_type": "text"
      },
      "cell_type": "markdown",
      "source": [
        "# AI 부트 캠프 로드맵\n",
        "- 베이스 캠프: 머신러닝의 기본 개념 이해 및 실습\n",
        "- 부트 캠프: 실전적 문제 해결 능력 학습\n",
        "- 방법\n",
        " - 핵심 이론의 분명한 이해\n",
        " - 실습으로 체득\n",
        " - 실제 문제 (프로젝트)에 적용"
      ]
    },
    {
      "metadata": {
        "id": "a09RtOJt2LNY",
        "colab_type": "text"
      },
      "cell_type": "markdown",
      "source": [
        ""
      ]
    },
    {
      "metadata": {
        "id": "b-MxACgk29Yd",
        "colab_type": "text"
      },
      "cell_type": "markdown",
      "source": [
        "## 베이스 캠프\n",
        "<img src='https://www.dropbox.com/s/f7u8rd1ujbjx16r/%EC%8A%A4%ED%81%AC%EB%A6%B0%EC%83%B7%202019-03-26%2021.05.27.png?raw=1'>\n",
        "## 부트캠프\n",
        "<img src='https://www.dropbox.com/s/8z521t71uajk8g7/%EC%8A%A4%ED%81%AC%EB%A6%B0%EC%83%B7%202019-03-26%2021.02.41.png?raw=1'>"
      ]
    },
    {
      "metadata": {
        "id": "UWKV6lko566n",
        "colab_type": "text"
      },
      "cell_type": "markdown",
      "source": [
        "## 미니 프로젝트\n",
        "\n",
        "- (1조) 인공지능 세탁 포질감지 (정환진, 유선화, 문병현)\n",
        "목적: 포질에 맞는 최적의 세탁을 적용함\n",
        " - 포량은 10단계, 포질은 5단계\n",
        " - 50개 분류 문제로 접근\n",
        " - 500개 * 60ms = 35초 데이터를 모두 사용\n",
        "\n",
        "\n",
        "- (2조) 세탁물 구분감지 (배용경)\n",
        "목적: 빨래감(구체적으로 이불)을 구분, 이불의 경우 탈수시 진동이 매우 크게 발생하기 때문에 별도의 탈수 알고리즘을 적용 (현재는 이불을 사용자가 선택하나 대부분 표준으로 사용)\n",
        " - 이불/일반(이불이 섞인 경우도 포함)만 구분하면 된다. \n",
        "\n",
        "- (3조) 수평감지 (이주형,차승철, 김진호)\n",
        "목표: 가속도 센서를 부착하여, 세탁기의 진동으로부터 수평상태를 감지하는 연구를 수행 중이고, 현재 feature선정 및 NN을 사용하여 현재 95% 수준의 정확도. 이를 99%로\n",
        " - 신뢰도 검증 필요\n",
        "- (4조) 냉장고 고장진단 및 예측 (정준성, 양영훈)\n",
        "목적: 고장 진단과 전력예측\n",
        " - 특성 108개, 27개 변수 선정, 2시간단위로 5분 단위로 측정,\n",
        "\n",
        "- (5조) 고객 맞춤 의상 추천 (조웅제C,윤준상S,김석현S,김미래Y)\n",
        "목적: 가족 구성원의 얼굴과 체형을 인식하여  의류추천을 하고자 합니다.\n",
        " - 비슷한 연예인이나 옷 추천\n",
        "\n",
        "- (6조) 진동데이터를 이용한 쿡탑 끓음 방지 시스템 (최흥식C, 박준S)\n",
        "목표: 쿡탑에서 조리 시 발생하는 진동 데이터를 이용하여 학습을 통한 온도를 파악하고 사용자에게 알림, 파악한 온도 데이터를 바탕으로 끓음에 대한 알림 및 사용자의 관여가 줄어드는 자동조리 제시 (사용자의 편리성 확대)\n",
        " - 도마소리, 목소리도 노이즈로 판단된다.\n",
        "\n",
        "\n"
      ]
    },
    {
      "metadata": {
        "id": "D9ZUuCaZ2MgT",
        "colab_type": "text"
      },
      "cell_type": "markdown",
      "source": [
        "# 이론\n",
        "\n",
        "## 핵심 내용\n",
        "- 머신 러닝 모델의 전체 동작\n",
        " - 회귀\n",
        " - 분류\n",
        " - 추천\n",
        " - 설명\n",
        "- 손실함수\n",
        " - MSE, 크로스엔트로피\n",
        "- 성능평가\n",
        " - R2, 정확도, 정밀도, 리콜, f1점수, ROC\n",
        "- 최적화 알고리즘\n",
        " - 경사하강법\n",
        " - 가속도 알고리즘\n",
        "- 선형 모델, SVM\n",
        "- 결정트리, 랜덤 포레스트\n",
        "- kNN\n",
        "- 로지스틱 회귀\n",
        "- 베이시언\n",
        "- 신경망\n",
        " - CNN (2차원, 1차원, 3차원)\n",
        " - RNN (seq2seq)"
      ]
    },
    {
      "metadata": {
        "id": "F2_KKwbC86vj",
        "colab_type": "text"
      },
      "cell_type": "markdown",
      "source": [
        "# 실습\n",
        "- 테이블 데이터\n",
        " - 수치 데이터\n",
        " - 카테고리 데이터\n",
        "- 시계열 데이터\n",
        " - 센서 데이터\n",
        " - 음성/사운드 데이터\n",
        "- 이미지 데이터\n",
        " - 이미지 분류 (classification)\n",
        " - 객체 검출 (detection) - YOLO\n",
        " - 객체 세분화 (segmentation)\n",
        " - 품질 향상(enhancement)\n",
        "- 텍스트 데이터\n",
        " - 임베딩(word2vec)\n",
        " - 감성분석\n",
        " - 챗봇\n",
        " - 자연어처리"
      ]
    },
    {
      "metadata": {
        "id": "XeVJsxtu1n7T",
        "colab_type": "code",
        "colab": {}
      },
      "cell_type": "code",
      "source": [
        ""
      ],
      "execution_count": 0,
      "outputs": []
    },
    {
      "metadata": {
        "id": "sl_WlqEL1mnn",
        "colab_type": "code",
        "colab": {}
      },
      "cell_type": "code",
      "source": [
        ""
      ],
      "execution_count": 0,
      "outputs": []
    }
  ]
}