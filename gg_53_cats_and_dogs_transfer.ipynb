{
  "nbformat": 4,
  "nbformat_minor": 0,
  "metadata": {
    "colab": {
      "name": "gg-53-cats-and-dogs-transfer",
      "version": "0.3.2",
      "provenance": [],
      "collapsed_sections": [],
      "include_colab_link": true
    },
    "kernelspec": {
      "name": "python2",
      "display_name": "Python 2"
    },
    "accelerator": "GPU"
  },
  "cells": [
    {
      "cell_type": "markdown",
      "metadata": {
        "id": "view-in-github",
        "colab_type": "text"
      },
      "source": [
        "<a href=\"https://colab.research.google.com/github/StillWork/ds-lab/blob/master/gg_53_cats_and_dogs_transfer.ipynb\" target=\"_parent\"><img src=\"https://colab.research.google.com/assets/colab-badge.svg\" alt=\"Open In Colab\"/></a>"
      ]
    },
    {
      "metadata": {
        "colab_type": "text",
        "id": "YHK6DyunSbs4"
      },
      "cell_type": "markdown",
      "source": [
        "# 전이학습 고양이 강아지 구분\n",
        "## VGG16 (2014)\n",
        "- 이미지넷으로 사전 훈련된 네트워크를 사용\n",
        "- 1000개의 객체를 구분하는 모델이나, 여기서는 고양이, 강아지 구분에 사용  \n",
        "\n",
        "## 1) 특성추출 방식\n",
        "- 합성곱 필터링 영역(convolutional base)를 그대로 사용\n",
        "- 공통되는 특성만 추출하여 사용한다\n",
        "- 전결합망 부분은 새로운 데이터 (고양이/강아지)로 학습을 다시 시킨다\n",
        "\n",
        "\n",
        "## 2) 미세 조정 방식\n"
      ]
    },
    {
      "metadata": {
        "colab_type": "text",
        "id": "UY6KJV6z6l7_"
      },
      "cell_type": "markdown",
      "source": [
        "## 데이터 다운로드"
      ]
    },
    {
      "metadata": {
        "id": "BintRJjr1QvS",
        "colab_type": "code",
        "outputId": "2cca2690-8dda-4a9f-89d2-8aaf81809091",
        "colab": {
          "base_uri": "https://localhost:8080/",
          "height": 35
        }
      },
      "cell_type": "code",
      "source": [
        "import os, os.path, shutil\n",
        "import zipfile\n",
        "%matplotlib inline\n",
        "\n",
        "import matplotlib.pyplot as plt\n",
        "import matplotlib.image as mpimg\n",
        "from keras.applications import VGG16"
      ],
      "execution_count": 0,
      "outputs": [
        {
          "output_type": "stream",
          "text": [
            "Using TensorFlow backend.\n"
          ],
          "name": "stderr"
        }
      ]
    },
    {
      "metadata": {
        "id": "mxOElr1tG82n",
        "colab_type": "text"
      },
      "cell_type": "markdown",
      "source": [
        "## VGG16으로 사전학습된 가중치 가져오기\n",
        "- include_top은 기존의 1000개 전결합망 분류기를 포함할지를 선택"
      ]
    },
    {
      "metadata": {
        "id": "39bxJu-BGL9N",
        "colab_type": "code",
        "outputId": "82ad5e63-3721-42bd-e2ab-e1451a4e624d",
        "colab": {
          "base_uri": "https://localhost:8080/",
          "height": 91
        }
      },
      "cell_type": "code",
      "source": [
        "conv_base = VGG16(weights = 'imagenet',\n",
        "                 include_top=False,\n",
        "                 input_shape=(150, 150, 3))"
      ],
      "execution_count": 0,
      "outputs": [
        {
          "output_type": "stream",
          "text": [
            "Downloading data from https://github.com/fchollet/deep-learning-models/releases/download/v0.1/vgg16_weights_tf_dim_ordering_tf_kernels_notop.h5\n",
            "58892288/58889256 [==============================] - 1s 0us/step\n",
            "58900480/58889256 [==============================] - 1s 0us/step\n"
          ],
          "name": "stdout"
        }
      ]
    },
    {
      "metadata": {
        "id": "84MocF__GLuw",
        "colab_type": "code",
        "outputId": "dc0ccf4d-7109-4311-832a-cc9e6f9cef6a",
        "colab": {
          "base_uri": "https://localhost:8080/",
          "height": 833
        }
      },
      "cell_type": "code",
      "source": [
        "conv_base.summary()"
      ],
      "execution_count": 0,
      "outputs": [
        {
          "output_type": "stream",
          "text": [
            "_________________________________________________________________\n",
            "Layer (type)                 Output Shape              Param #   \n",
            "=================================================================\n",
            "input_1 (InputLayer)         (None, 150, 150, 3)       0         \n",
            "_________________________________________________________________\n",
            "block1_conv1 (Conv2D)        (None, 150, 150, 64)      1792      \n",
            "_________________________________________________________________\n",
            "block1_conv2 (Conv2D)        (None, 150, 150, 64)      36928     \n",
            "_________________________________________________________________\n",
            "block1_pool (MaxPooling2D)   (None, 75, 75, 64)        0         \n",
            "_________________________________________________________________\n",
            "block2_conv1 (Conv2D)        (None, 75, 75, 128)       73856     \n",
            "_________________________________________________________________\n",
            "block2_conv2 (Conv2D)        (None, 75, 75, 128)       147584    \n",
            "_________________________________________________________________\n",
            "block2_pool (MaxPooling2D)   (None, 37, 37, 128)       0         \n",
            "_________________________________________________________________\n",
            "block3_conv1 (Conv2D)        (None, 37, 37, 256)       295168    \n",
            "_________________________________________________________________\n",
            "block3_conv2 (Conv2D)        (None, 37, 37, 256)       590080    \n",
            "_________________________________________________________________\n",
            "block3_conv3 (Conv2D)        (None, 37, 37, 256)       590080    \n",
            "_________________________________________________________________\n",
            "block3_pool (MaxPooling2D)   (None, 18, 18, 256)       0         \n",
            "_________________________________________________________________\n",
            "block4_conv1 (Conv2D)        (None, 18, 18, 512)       1180160   \n",
            "_________________________________________________________________\n",
            "block4_conv2 (Conv2D)        (None, 18, 18, 512)       2359808   \n",
            "_________________________________________________________________\n",
            "block4_conv3 (Conv2D)        (None, 18, 18, 512)       2359808   \n",
            "_________________________________________________________________\n",
            "block4_pool (MaxPooling2D)   (None, 9, 9, 512)         0         \n",
            "_________________________________________________________________\n",
            "block5_conv1 (Conv2D)        (None, 9, 9, 512)         2359808   \n",
            "_________________________________________________________________\n",
            "block5_conv2 (Conv2D)        (None, 9, 9, 512)         2359808   \n",
            "_________________________________________________________________\n",
            "block5_conv3 (Conv2D)        (None, 9, 9, 512)         2359808   \n",
            "_________________________________________________________________\n",
            "block5_pool (MaxPooling2D)   (None, 4, 4, 512)         0         \n",
            "=================================================================\n",
            "Total params: 14,714,688\n",
            "Trainable params: 14,714,688\n",
            "Non-trainable params: 0\n",
            "_________________________________________________________________\n"
          ],
          "name": "stdout"
        }
      ]
    },
    {
      "metadata": {
        "id": "wLStHmXaMqja",
        "colab_type": "text"
      },
      "cell_type": "markdown",
      "source": [
        "## 두가지 옵션이 가능하다\n",
        "### 1) 합성곱 기반을 통과한 출력을 저장한 후 이를 전결합망에 통과\n",
        "- 데이터 확장은 사용할 수 없다\n",
        "- 실행이 빠르다\n",
        "\n",
        "### 2) 모델에 Dense망을 추가하고 학습을 수행\n",
        "- 데이터 확장을 사용할 수 있다.\n",
        "- 비용이 많이 든다\n",
        "\n",
        "\n",
        "### 1) 방식을 먼저 수행한다.\n"
      ]
    },
    {
      "metadata": {
        "id": "kkMqucDvN0Qy",
        "colab_type": "text"
      },
      "cell_type": "markdown",
      "source": [
        "### 데이터 읽기"
      ]
    },
    {
      "metadata": {
        "id": "r9hD7mAvGLVZ",
        "colab_type": "code",
        "colab": {}
      },
      "cell_type": "code",
      "source": [
        ""
      ],
      "execution_count": 0,
      "outputs": []
    },
    {
      "metadata": {
        "id": "JHHE2t4yxpMU",
        "colab_type": "code",
        "colab": {}
      },
      "cell_type": "code",
      "source": [
        "if not os.path.exists(\"./data\"):\n",
        "    os.makedirs(\"./data\")\n",
        "if not os.path.exists(\"./data/cats_and_dogs_filtered.zip\"):\n",
        "  !wget --no-check-certificate \\\n",
        "    https://storage.googleapis.com/mledu-datasets/cats_and_dogs_filtered.zip \\\n",
        "    -O ./data/cats_and_dogs_filtered.zip"
      ],
      "execution_count": 0,
      "outputs": []
    },
    {
      "metadata": {
        "id": "rB0mr2KJzs3M",
        "colab_type": "code",
        "outputId": "60453b70-b972-4493-ea05-ad096cd742bf",
        "colab": {
          "base_uri": "https://localhost:8080/",
          "height": 35
        }
      },
      "cell_type": "code",
      "source": [
        "!ls data"
      ],
      "execution_count": 0,
      "outputs": [
        {
          "output_type": "stream",
          "text": [
            "cats_and_dogs_filtered\tcats_and_dogs_filtered.zip\n"
          ],
          "name": "stdout"
        }
      ]
    },
    {
      "metadata": {
        "colab_type": "code",
        "id": "PLy3pthUS0D2",
        "colab": {}
      },
      "cell_type": "code",
      "source": [
        "local_zip = './data/cats_and_dogs_filtered.zip'\n",
        "zip_ref = zipfile.ZipFile(local_zip, 'r')\n",
        "zip_ref.extractall('./data')\n",
        "zip_ref.close()"
      ],
      "execution_count": 0,
      "outputs": []
    },
    {
      "metadata": {
        "id": "VeJd7lxOy26s",
        "colab_type": "code",
        "outputId": "ac44a5db-82e6-40c3-a819-036f9209eac5",
        "colab": {
          "base_uri": "https://localhost:8080/",
          "height": 272
        }
      },
      "cell_type": "code",
      "source": [
        "!apt-get install tree"
      ],
      "execution_count": 0,
      "outputs": [
        {
          "output_type": "stream",
          "text": [
            "Reading package lists... Done\n",
            "Building dependency tree       \n",
            "Reading state information... Done\n",
            "The following NEW packages will be installed:\n",
            "  tree\n",
            "0 upgraded, 1 newly installed, 0 to remove and 5 not upgraded.\n",
            "Need to get 40.7 kB of archives.\n",
            "After this operation, 105 kB of additional disk space will be used.\n",
            "Get:1 http://archive.ubuntu.com/ubuntu bionic/universe amd64 tree amd64 1.7.0-5 [40.7 kB]\n",
            "Fetched 40.7 kB in 0s (111 kB/s)\n",
            "Selecting previously unselected package tree.\n",
            "(Reading database ... 22280 files and directories currently installed.)\n",
            "Preparing to unpack .../tree_1.7.0-5_amd64.deb ...\n",
            "Unpacking tree (1.7.0-5) ...\n",
            "Setting up tree (1.7.0-5) ...\n"
          ],
          "name": "stdout"
        }
      ]
    },
    {
      "metadata": {
        "id": "eKBizBLr0M8w",
        "colab_type": "code",
        "outputId": "4e752ab0-4750-44d5-ad4b-5070a5484a6a",
        "colab": {
          "base_uri": "https://localhost:8080/",
          "height": 221
        }
      },
      "cell_type": "code",
      "source": [
        "!tree -d ."
      ],
      "execution_count": 0,
      "outputs": [
        {
          "output_type": "stream",
          "text": [
            ".\n",
            "├── data\n",
            "│   └── cats_and_dogs_filtered\n",
            "│       ├── train\n",
            "│       │   ├── cats\n",
            "│       │   └── dogs\n",
            "│       └── validation\n",
            "│           ├── cats\n",
            "│           └── dogs\n",
            "└── sample_data\n",
            "\n",
            "9 directories\n"
          ],
          "name": "stdout"
        }
      ]
    },
    {
      "metadata": {
        "colab_type": "code",
        "id": "MLZKVtE0dSfk",
        "colab": {}
      },
      "cell_type": "code",
      "source": [
        "base_dir = './data/cats_and_dogs_filtered'\n",
        "train_dir = os.path.join(base_dir, 'train')\n",
        "validation_dir = os.path.join(base_dir, 'validation')"
      ],
      "execution_count": 0,
      "outputs": []
    },
    {
      "metadata": {
        "id": "I-gqmVtXI1If",
        "colab_type": "code",
        "outputId": "748e5f4d-f170-49f0-9ed2-8c6d4fbdf838",
        "colab": {
          "base_uri": "https://localhost:8080/",
          "height": 35
        }
      },
      "cell_type": "code",
      "source": [
        "train_dir"
      ],
      "execution_count": 0,
      "outputs": [
        {
          "output_type": "execute_result",
          "data": {
            "text/plain": [
              "'./data/cats_and_dogs_filtered/train'"
            ]
          },
          "metadata": {
            "tags": []
          },
          "execution_count": 7
        }
      ]
    },
    {
      "metadata": {
        "colab_type": "text",
        "id": "5oqBkNBJmtUv"
      },
      "cell_type": "markdown",
      "source": [
        "## 특성추출만 사용한 모델 (데이터 증식은 사용하지 않는 방식)\n",
        "- ImageDataGenerator를 사용하여 이미지와 레이블을 생성\n",
        "- conv_base 모델의 predict를 사용하여 이미지의 특성을 추출\n",
        "- 마지막 출력의 크기가 (4, 4, 512)이다.\n"
      ]
    },
    {
      "metadata": {
        "colab_type": "code",
        "id": "IYVLSfbsbf9K",
        "colab": {}
      },
      "cell_type": "code",
      "source": [
        "from keras import layers\n",
        "from keras import models\n",
        "from keras import optimizers\n",
        "from keras.preprocessing import image\n",
        "from keras.preprocessing.image import ImageDataGenerator\n",
        "import numpy as np "
      ],
      "execution_count": 0,
      "outputs": []
    },
    {
      "metadata": {
        "id": "zKpFv6lSGmtR",
        "colab_type": "code",
        "outputId": "005b32c2-e9ae-4b46-b662-bbb325846309",
        "colab": {
          "base_uri": "https://localhost:8080/",
          "height": 289
        }
      },
      "cell_type": "code",
      "source": [
        "img_width = 150\n",
        "img_height = 150\n",
        "batch_size=20\n",
        "\n",
        "datagen = ImageDataGenerator(rescale = 1./255)\n",
        "\n",
        "def extract_features(directory, sample_count):\n",
        "  features = np.zeros(shape=(sample_count, 4, 4, 512))\n",
        "  labels = np.zeros(shape=(sample_count))\n",
        "  generator = datagen.flow_from_directory(\n",
        "      directory,\n",
        " \t    target_size=(img_width,img_height),\n",
        "      class_mode='binary',\n",
        "\t\t\tbatch_size=batch_size)\n",
        "  i=1\n",
        "  for inputs_batch, labels_batch in generator:\n",
        "    features_batch = conv_base.predict(inputs_batch)\n",
        "    features[i*batch_size:(i+1)*batch_size] = features_batch\n",
        "    labels[i*batch_size:(i+1)*batch_size] = labels_batch\n",
        "    i += 1\n",
        "    if i* batch_size >= sample_count:\n",
        "      break\n",
        "  return features, labels\n",
        "\n",
        "train_features, train_labels = extract_features(train_dir, 2000)\n",
        "validation_features, validation_labels = extract_features(validation_dir, 1000)\n",
        "\n",
        "train_features = np.reshape(train_features, (2000, 4*4*512))\n",
        "validation_features = np.reshape(validation_features, (1000, 4*4*512))\n",
        "\n",
        "    \n",
        "model = models.Sequential()\n",
        "\n",
        "model.add(layers.Dense(512, activation='relu', input_dim= 4*4*512))\n",
        "model.add(layers.Dropout(0.5))\n",
        "model.add(layers.Dense(1, activation='sigmoid'))\n",
        "\n",
        "model.summary()"
      ],
      "execution_count": 0,
      "outputs": [
        {
          "output_type": "stream",
          "text": [
            "Found 2000 images belonging to 2 classes.\n",
            "Found 1000 images belonging to 2 classes.\n",
            "_________________________________________________________________\n",
            "Layer (type)                 Output Shape              Param #   \n",
            "=================================================================\n",
            "dense_1 (Dense)              (None, 512)               4194816   \n",
            "_________________________________________________________________\n",
            "dropout_1 (Dropout)          (None, 512)               0         \n",
            "_________________________________________________________________\n",
            "dense_2 (Dense)              (None, 1)                 513       \n",
            "=================================================================\n",
            "Total params: 4,195,329\n",
            "Trainable params: 4,195,329\n",
            "Non-trainable params: 0\n",
            "_________________________________________________________________\n"
          ],
          "name": "stdout"
        }
      ]
    },
    {
      "metadata": {
        "id": "hxITBhxQDwkd",
        "colab_type": "code",
        "outputId": "778d648e-17f3-4fce-b1af-d914d428c350",
        "colab": {
          "base_uri": "https://localhost:8080/",
          "height": 1143
        }
      },
      "cell_type": "code",
      "source": [
        "model.compile(loss='binary_crossentropy',\n",
        "              optimizer=optimizers.RMSprop(lr=2e-5),\n",
        "              metrics=['acc'])\n",
        "history = model.fit(\n",
        "    train_features, train_labels,\n",
        "    epochs=30,\n",
        "    validation_data= (validation_features, validation_labels),\n",
        "    batch_size=batch_size)"
      ],
      "execution_count": 0,
      "outputs": [
        {
          "output_type": "stream",
          "text": [
            "Train on 2000 samples, validate on 1000 samples\n",
            "Epoch 1/30\n",
            "2000/2000 [==============================] - 2s 791us/step - loss: 0.5820 - acc: 0.6795 - val_loss: 0.4195 - val_acc: 0.8300\n",
            "Epoch 2/30\n",
            "2000/2000 [==============================] - 1s 599us/step - loss: 0.3972 - acc: 0.8320 - val_loss: 0.3458 - val_acc: 0.8630\n",
            "Epoch 3/30\n",
            "2000/2000 [==============================] - 1s 655us/step - loss: 0.3338 - acc: 0.8590 - val_loss: 0.3185 - val_acc: 0.8730\n",
            "Epoch 4/30\n",
            "2000/2000 [==============================] - 1s 660us/step - loss: 0.2874 - acc: 0.8855 - val_loss: 0.3048 - val_acc: 0.8810\n",
            "Epoch 5/30\n",
            "2000/2000 [==============================] - 1s 642us/step - loss: 0.2645 - acc: 0.9030 - val_loss: 0.2947 - val_acc: 0.8820\n",
            "Epoch 6/30\n",
            "2000/2000 [==============================] - 1s 653us/step - loss: 0.2407 - acc: 0.9090 - val_loss: 0.2877 - val_acc: 0.8870\n",
            "Epoch 7/30\n",
            "2000/2000 [==============================] - 1s 669us/step - loss: 0.2180 - acc: 0.9205 - val_loss: 0.2832 - val_acc: 0.8850\n",
            "Epoch 8/30\n",
            "2000/2000 [==============================] - 1s 674us/step - loss: 0.2063 - acc: 0.9245 - val_loss: 0.2848 - val_acc: 0.8840\n",
            "Epoch 9/30\n",
            "2000/2000 [==============================] - 1s 663us/step - loss: 0.1961 - acc: 0.9295 - val_loss: 0.2770 - val_acc: 0.8830\n",
            "Epoch 10/30\n",
            "2000/2000 [==============================] - 1s 675us/step - loss: 0.1898 - acc: 0.9355 - val_loss: 0.2743 - val_acc: 0.8800\n",
            "Epoch 11/30\n",
            "2000/2000 [==============================] - 1s 664us/step - loss: 0.1793 - acc: 0.9380 - val_loss: 0.2852 - val_acc: 0.8780\n",
            "Epoch 12/30\n",
            "2000/2000 [==============================] - 1s 666us/step - loss: 0.1620 - acc: 0.9445 - val_loss: 0.2730 - val_acc: 0.8800\n",
            "Epoch 13/30\n",
            "2000/2000 [==============================] - 1s 680us/step - loss: 0.1529 - acc: 0.9505 - val_loss: 0.2726 - val_acc: 0.8820\n",
            "Epoch 14/30\n",
            "2000/2000 [==============================] - 1s 678us/step - loss: 0.1465 - acc: 0.9520 - val_loss: 0.2748 - val_acc: 0.8810\n",
            "Epoch 15/30\n",
            "2000/2000 [==============================] - 1s 673us/step - loss: 0.1412 - acc: 0.9545 - val_loss: 0.2704 - val_acc: 0.8810\n",
            "Epoch 16/30\n",
            "2000/2000 [==============================] - 1s 688us/step - loss: 0.1311 - acc: 0.9595 - val_loss: 0.2700 - val_acc: 0.8840\n",
            "Epoch 17/30\n",
            "2000/2000 [==============================] - 1s 698us/step - loss: 0.1296 - acc: 0.9575 - val_loss: 0.2713 - val_acc: 0.8820\n",
            "Epoch 18/30\n",
            "2000/2000 [==============================] - 1s 693us/step - loss: 0.1200 - acc: 0.9665 - val_loss: 0.2714 - val_acc: 0.8850\n",
            "Epoch 19/30\n",
            "2000/2000 [==============================] - 1s 690us/step - loss: 0.1138 - acc: 0.9650 - val_loss: 0.2726 - val_acc: 0.8800\n",
            "Epoch 20/30\n",
            "2000/2000 [==============================] - 1s 688us/step - loss: 0.1103 - acc: 0.9660 - val_loss: 0.2857 - val_acc: 0.8800\n",
            "Epoch 21/30\n",
            "2000/2000 [==============================] - 1s 672us/step - loss: 0.1076 - acc: 0.9695 - val_loss: 0.2794 - val_acc: 0.8820\n",
            "Epoch 22/30\n",
            "2000/2000 [==============================] - 1s 667us/step - loss: 0.0998 - acc: 0.9750 - val_loss: 0.2777 - val_acc: 0.8890\n",
            "Epoch 23/30\n",
            "2000/2000 [==============================] - 1s 652us/step - loss: 0.0927 - acc: 0.9740 - val_loss: 0.2852 - val_acc: 0.8830\n",
            "Epoch 24/30\n",
            "2000/2000 [==============================] - 1s 650us/step - loss: 0.0882 - acc: 0.9770 - val_loss: 0.2784 - val_acc: 0.8850\n",
            "Epoch 25/30\n",
            "2000/2000 [==============================] - 1s 671us/step - loss: 0.0852 - acc: 0.9785 - val_loss: 0.2804 - val_acc: 0.8850\n",
            "Epoch 26/30\n",
            "2000/2000 [==============================] - 1s 664us/step - loss: 0.0810 - acc: 0.9760 - val_loss: 0.2840 - val_acc: 0.8880\n",
            "Epoch 27/30\n",
            "2000/2000 [==============================] - 1s 669us/step - loss: 0.0786 - acc: 0.9795 - val_loss: 0.2783 - val_acc: 0.8890\n",
            "Epoch 28/30\n",
            "2000/2000 [==============================] - 1s 672us/step - loss: 0.0744 - acc: 0.9845 - val_loss: 0.2874 - val_acc: 0.8850\n",
            "Epoch 29/30\n",
            "2000/2000 [==============================] - 1s 657us/step - loss: 0.0714 - acc: 0.9850 - val_loss: 0.2829 - val_acc: 0.8880\n",
            "Epoch 30/30\n",
            "2000/2000 [==============================] - 1s 667us/step - loss: 0.0679 - acc: 0.9835 - val_loss: 0.2870 - val_acc: 0.8890\n"
          ],
          "name": "stdout"
        }
      ]
    },
    {
      "metadata": {
        "colab_type": "text",
        "id": "Q5Vulban4ZrD"
      },
      "cell_type": "markdown",
      "source": [
        "## 성능 확인"
      ]
    },
    {
      "metadata": {
        "colab_type": "code",
        "id": "0oj0gTIy4k60",
        "outputId": "9a34f963-fdd1-4805-a3b7-c4978494f193",
        "colab": {
          "base_uri": "https://localhost:8080/",
          "height": 562
        }
      },
      "cell_type": "code",
      "source": [
        "acc = history.history['acc']\n",
        "val_acc = history.history['val_acc']\n",
        "\n",
        "loss = history.history['loss']\n",
        "val_loss = history.history['val_loss']\n",
        "\n",
        "epochs = range(len(acc))\n",
        "\n",
        "plt.plot(epochs, acc)\n",
        "plt.plot(epochs, val_acc)\n",
        "plt.title('Training and validation accuracy')\n",
        "\n",
        "plt.figure()\n",
        "\n",
        "plt.plot(epochs, loss)\n",
        "plt.plot(epochs, val_loss)\n",
        "plt.title('Training and validation loss')"
      ],
      "execution_count": 0,
      "outputs": [
        {
          "output_type": "execute_result",
          "data": {
            "text/plain": [
              "Text(0.5,1,u'Training and validation loss')"
            ]
          },
          "metadata": {
            "tags": []
          },
          "execution_count": 24
        },
        {
          "output_type": "display_data",
          "data": {
            "image/png": "[encoded data removed]",
            "text/plain": [
              "<matplotlib.figure.Figure at 0x7f992e740f50>"
            ]
          },
          "metadata": {
            "tags": []
          }
        },
        {
          "output_type": "display_data",
          "data": {
            "image/png": "[encoded data removed]",
            "text/plain": [
              "<matplotlib.figure.Figure at 0x7f992e277390>"
            ]
          },
          "metadata": {
            "tags": []
          }
        }
      ]
    },
    {
      "metadata": {
        "colab_type": "text",
        "id": "DgmSjUST4qoS"
      },
      "cell_type": "markdown",
      "source": [
        "### 과대적합이 발생한 것을 알 수 있다.\n",
        "- 훈련 데이터가 부족하다\n",
        "- 데이터 확장을 사용하여 개선할 수 있다."
      ]
    },
    {
      "metadata": {
        "id": "zY8xC3RKIMjf",
        "colab_type": "text"
      },
      "cell_type": "markdown",
      "source": [
        "### 2) 모델에 Dense망을 추가하고 학습을 수행\n",
        "- 데이터 확장을 사용할 수 있다.\n",
        "- 비용이 많이 든다\n",
        "- 엔드-투-엔드로 실행한다"
      ]
    },
    {
      "metadata": {
        "id": "dEPZtbjoYyko",
        "colab_type": "code",
        "outputId": "f4ca264f-9008-4cb8-d89f-374ebd167cec",
        "colab": {
          "base_uri": "https://localhost:8080/",
          "height": 289
        }
      },
      "cell_type": "code",
      "source": [
        "# 모델\n",
        "\n",
        "model = models.Sequential()\n",
        "model.add(conv_base)\n",
        "\n",
        "model.add(layers.Flatten())\n",
        "model.add(layers.Dense(256, activation='relu'))\n",
        "model.add(layers.Dense(1, activation='sigmoid'))\n",
        "\n",
        "model.summary()"
      ],
      "execution_count": 0,
      "outputs": [
        {
          "output_type": "stream",
          "text": [
            "_________________________________________________________________\n",
            "Layer (type)                 Output Shape              Param #   \n",
            "=================================================================\n",
            "vgg16 (Model)                (None, 4, 4, 512)         14714688  \n",
            "_________________________________________________________________\n",
            "flatten_1 (Flatten)          (None, 8192)              0         \n",
            "_________________________________________________________________\n",
            "dense_3 (Dense)              (None, 256)               2097408   \n",
            "_________________________________________________________________\n",
            "dense_4 (Dense)              (None, 1)                 257       \n",
            "=================================================================\n",
            "Total params: 16,812,353\n",
            "Trainable params: 16,812,353\n",
            "Non-trainable params: 0\n",
            "_________________________________________________________________\n"
          ],
          "name": "stdout"
        }
      ]
    },
    {
      "metadata": {
        "id": "cRwp7DKRZNey",
        "colab_type": "text"
      },
      "cell_type": "markdown",
      "source": [
        "## 학습을 동결하지 않으면 모두 재 학습된다!"
      ]
    },
    {
      "metadata": {
        "id": "81xIo14SZaM_",
        "colab_type": "code",
        "outputId": "7d488b53-b3f1-4693-ed35-2bd998588b65",
        "colab": {
          "base_uri": "https://localhost:8080/",
          "height": 35
        }
      },
      "cell_type": "code",
      "source": [
        "print(len(model.trainable_weights))"
      ],
      "execution_count": 0,
      "outputs": [
        {
          "output_type": "stream",
          "text": [
            "30\n"
          ],
          "name": "stdout"
        }
      ]
    },
    {
      "metadata": {
        "id": "1I-bJVROjbEi",
        "colab_type": "code",
        "colab": {}
      },
      "cell_type": "code",
      "source": [
        "conv_base.trainable = False"
      ],
      "execution_count": 0,
      "outputs": []
    },
    {
      "metadata": {
        "id": "MN5_TfDJjisU",
        "colab_type": "code",
        "outputId": "bf05b429-5b90-46e2-e81b-cb0892dd41fb",
        "colab": {
          "base_uri": "https://localhost:8080/",
          "height": 35
        }
      },
      "cell_type": "code",
      "source": [
        "print(len(model.trainable_weights))"
      ],
      "execution_count": 0,
      "outputs": [
        {
          "output_type": "stream",
          "text": [
            "4\n"
          ],
          "name": "stdout"
        }
      ]
    },
    {
      "metadata": {
        "id": "OUz97nA0jr_y",
        "colab_type": "code",
        "outputId": "d4be0d95-ff50-493a-8d0f-95137193c181",
        "colab": {
          "base_uri": "https://localhost:8080/",
          "height": 289
        }
      },
      "cell_type": "code",
      "source": [
        "model.summary()"
      ],
      "execution_count": 0,
      "outputs": [
        {
          "output_type": "stream",
          "text": [
            "_________________________________________________________________\n",
            "Layer (type)                 Output Shape              Param #   \n",
            "=================================================================\n",
            "vgg16 (Model)                (None, 4, 4, 512)         14714688  \n",
            "_________________________________________________________________\n",
            "flatten_1 (Flatten)          (None, 8192)              0         \n",
            "_________________________________________________________________\n",
            "dense_3 (Dense)              (None, 256)               2097408   \n",
            "_________________________________________________________________\n",
            "dense_4 (Dense)              (None, 1)                 257       \n",
            "=================================================================\n",
            "Total params: 16,812,353\n",
            "Trainable params: 2,097,665\n",
            "Non-trainable params: 14,714,688\n",
            "_________________________________________________________________\n"
          ],
          "name": "stdout"
        }
      ]
    },
    {
      "metadata": {
        "id": "E68OZRcKkQoU",
        "colab_type": "text"
      },
      "cell_type": "markdown",
      "source": [
        "### 컴파일을 수행해야 변경사항이 적용된다"
      ]
    },
    {
      "metadata": {
        "id": "uG0pDWWMHKkk",
        "colab_type": "code",
        "outputId": "d86d8c6f-c85a-45eb-f606-c19b44a36caf",
        "colab": {
          "base_uri": "https://localhost:8080/",
          "height": 53
        }
      },
      "cell_type": "code",
      "source": [
        "train_datagen = ImageDataGenerator(\n",
        "  rescale= 1./255,\n",
        "  rotation_range = 40,\n",
        "  width_shift_range = 0.2,\n",
        "  height_shift_range = 0.2,\n",
        "  shear_range=0.2,\n",
        "  zoom_range=0.2,\n",
        "  horizontal_flip = True,\n",
        "  fill_mode='nearest')\n",
        "\n",
        "validation_datagen = ImageDataGenerator(rescale = 1./255)\n",
        "\n",
        "train_generator = train_datagen.flow_from_directory(directory=train_dir,\n",
        "\t\t\t\t\t\t\t\t\t\t\t   target_size=(img_width,img_height),\n",
        "\t\t\t\t\t\t\t\t\t\t\t   class_mode='binary',\n",
        "\t\t\t\t\t\t\t\t\t\t\t   batch_size=20)\n",
        "\n",
        "validation_generator = validation_datagen.flow_from_directory(directory=validation_dir,\n",
        "\t\t\t\t\t\t\t\t\t\t\t   target_size=(img_width,img_height),\n",
        "\t\t\t\t\t\t\t\t\t\t\t   class_mode='binary',\n",
        "\t\t\t\t\t\t\t\t\t\t\t   batch_size=20)\n",
        "\n",
        "\n"
      ],
      "execution_count": 0,
      "outputs": [
        {
          "output_type": "stream",
          "text": [
            "Found 2000 images belonging to 2 classes.\n",
            "Found 1000 images belonging to 2 classes.\n"
          ],
          "name": "stdout"
        }
      ]
    },
    {
      "metadata": {
        "id": "PNj36PXplaCx",
        "colab_type": "text"
      },
      "cell_type": "markdown",
      "source": [
        "### 과대적합이 줄어든 것을 볼 수 있다."
      ]
    },
    {
      "metadata": {
        "id": "Cpgy1ZUjHKhU",
        "colab_type": "code",
        "outputId": "c832f1c7-7ac3-4575-f01e-1791fa6d2181",
        "colab": {
          "base_uri": "https://localhost:8080/",
          "height": 1125
        }
      },
      "cell_type": "code",
      "source": [
        "model.compile(loss='binary_crossentropy',\n",
        "              optimizer=optimizers.RMSprop(lr=2e-5),\n",
        "              metrics=['acc'])\n",
        "\n",
        "\n",
        "history = model.fit_generator(\n",
        "    generator=train_generator, \n",
        "    steps_per_epoch=100,\n",
        "    epochs=30,\n",
        "    validation_data=validation_generator,\n",
        "    validation_steps=50)"
      ],
      "execution_count": 0,
      "outputs": [
        {
          "output_type": "stream",
          "text": [
            "Epoch 1/30\n",
            "100/100 [==============================] - 29s 288ms/step - loss: 0.5984 - acc: 0.6795 - val_loss: 0.4458 - val_acc: 0.8310\n",
            "Epoch 2/30\n",
            "100/100 [==============================] - 26s 263ms/step - loss: 0.4959 - acc: 0.7665 - val_loss: 0.3767 - val_acc: 0.8410\n",
            "Epoch 3/30\n",
            "100/100 [==============================] - 26s 263ms/step - loss: 0.4253 - acc: 0.8135 - val_loss: 0.3344 - val_acc: 0.8520\n",
            "Epoch 4/30\n",
            "100/100 [==============================] - 26s 264ms/step - loss: 0.4008 - acc: 0.8265 - val_loss: 0.3112 - val_acc: 0.8630\n",
            "Epoch 5/30\n",
            "100/100 [==============================] - 26s 264ms/step - loss: 0.3993 - acc: 0.8170 - val_loss: 0.2967 - val_acc: 0.8670\n",
            "Epoch 6/30\n",
            "100/100 [==============================] - 26s 263ms/step - loss: 0.3628 - acc: 0.8470 - val_loss: 0.2945 - val_acc: 0.8660\n",
            "Epoch 7/30\n",
            "100/100 [==============================] - 27s 265ms/step - loss: 0.3571 - acc: 0.8500 - val_loss: 0.2861 - val_acc: 0.8730\n",
            "Epoch 8/30\n",
            "100/100 [==============================] - 26s 264ms/step - loss: 0.3491 - acc: 0.8460 - val_loss: 0.2844 - val_acc: 0.8740\n",
            "Epoch 9/30\n",
            "100/100 [==============================] - 26s 262ms/step - loss: 0.3391 - acc: 0.8445 - val_loss: 0.2915 - val_acc: 0.8720\n",
            "Epoch 10/30\n",
            "100/100 [==============================] - 26s 264ms/step - loss: 0.3360 - acc: 0.8530 - val_loss: 0.2748 - val_acc: 0.8770\n",
            "Epoch 11/30\n",
            "100/100 [==============================] - 26s 263ms/step - loss: 0.3285 - acc: 0.8560 - val_loss: 0.2722 - val_acc: 0.8780\n",
            "Epoch 12/30\n",
            "100/100 [==============================] - 26s 264ms/step - loss: 0.3240 - acc: 0.8620 - val_loss: 0.2896 - val_acc: 0.8800\n",
            "Epoch 13/30\n",
            "100/100 [==============================] - 26s 262ms/step - loss: 0.3177 - acc: 0.8650 - val_loss: 0.2604 - val_acc: 0.8860\n",
            "Epoch 14/30\n",
            "100/100 [==============================] - 26s 264ms/step - loss: 0.3280 - acc: 0.8545 - val_loss: 0.2606 - val_acc: 0.8880\n",
            "Epoch 15/30\n",
            "100/100 [==============================] - 26s 265ms/step - loss: 0.3100 - acc: 0.8680 - val_loss: 0.2591 - val_acc: 0.8890\n",
            "Epoch 16/30\n",
            "100/100 [==============================] - 26s 264ms/step - loss: 0.3137 - acc: 0.8675 - val_loss: 0.2570 - val_acc: 0.8810\n",
            "Epoch 17/30\n",
            "100/100 [==============================] - 26s 263ms/step - loss: 0.3056 - acc: 0.8680 - val_loss: 0.2568 - val_acc: 0.8880\n",
            "Epoch 18/30\n",
            "100/100 [==============================] - 26s 262ms/step - loss: 0.3097 - acc: 0.8625 - val_loss: 0.2697 - val_acc: 0.8940\n",
            "Epoch 19/30\n",
            "100/100 [==============================] - 26s 262ms/step - loss: 0.2980 - acc: 0.8755 - val_loss: 0.2554 - val_acc: 0.8860\n",
            "Epoch 20/30\n",
            "100/100 [==============================] - 26s 264ms/step - loss: 0.2849 - acc: 0.8795 - val_loss: 0.2544 - val_acc: 0.8860\n",
            "Epoch 21/30\n",
            "100/100 [==============================] - 26s 263ms/step - loss: 0.2743 - acc: 0.8865 - val_loss: 0.2548 - val_acc: 0.8890\n",
            "Epoch 22/30\n",
            "100/100 [==============================] - 26s 264ms/step - loss: 0.2957 - acc: 0.8705 - val_loss: 0.2567 - val_acc: 0.8930\n",
            "Epoch 23/30\n",
            "100/100 [==============================] - 26s 263ms/step - loss: 0.3026 - acc: 0.8705 - val_loss: 0.2639 - val_acc: 0.8930\n",
            "Epoch 24/30\n",
            "100/100 [==============================] - 26s 263ms/step - loss: 0.2942 - acc: 0.8785 - val_loss: 0.2526 - val_acc: 0.8890\n",
            "Epoch 25/30\n",
            "100/100 [==============================] - 26s 263ms/step - loss: 0.2858 - acc: 0.8775 - val_loss: 0.2481 - val_acc: 0.8910\n",
            "Epoch 26/30\n",
            "100/100 [==============================] - 26s 264ms/step - loss: 0.2936 - acc: 0.8705 - val_loss: 0.2651 - val_acc: 0.8900\n",
            "Epoch 27/30\n",
            "100/100 [==============================] - 26s 265ms/step - loss: 0.2874 - acc: 0.8700 - val_loss: 0.2551 - val_acc: 0.8900\n",
            "Epoch 28/30\n",
            "100/100 [==============================] - 27s 266ms/step - loss: 0.2798 - acc: 0.8705 - val_loss: 0.2659 - val_acc: 0.8860\n",
            "Epoch 29/30\n",
            "100/100 [==============================] - 27s 265ms/step - loss: 0.2845 - acc: 0.8775 - val_loss: 0.2556 - val_acc: 0.8880\n",
            "Epoch 30/30\n",
            "100/100 [==============================] - 27s 265ms/step - loss: 0.2789 - acc: 0.8760 - val_loss: 0.2549 - val_acc: 0.8930\n"
          ],
          "name": "stdout"
        }
      ]
    },
    {
      "metadata": {
        "id": "5d1NMELUHKd-",
        "colab_type": "code",
        "outputId": "1fdca936-2e2b-4244-d807-59f336428718",
        "colab": {
          "base_uri": "https://localhost:8080/",
          "height": 560
        }
      },
      "cell_type": "code",
      "source": [
        "acc = history.history['acc']\n",
        "val_acc = history.history['val_acc']\n",
        "\n",
        "loss = history.history['loss']\n",
        "val_loss = history.history['val_loss']\n",
        "\n",
        "epochs = range(len(acc))\n",
        "\n",
        "plt.plot(epochs, acc)\n",
        "plt.plot(epochs, val_acc)\n",
        "plt.title('Training and validation accuracy')\n",
        "\n",
        "plt.figure()\n",
        "\n",
        "plt.plot(epochs, loss)\n",
        "plt.plot(epochs, val_loss)\n",
        "plt.title('Training and validation loss')"
      ],
      "execution_count": 0,
      "outputs": [
        {
          "output_type": "execute_result",
          "data": {
            "text/plain": [
              "Text(0.5,1,u'Training and validation loss')"
            ]
          },
          "metadata": {
            "tags": []
          },
          "execution_count": 36
        },
        {
          "output_type": "display_data",
          "data": {
            "image/png": "[encoded data removed]",
            "text/plain": [
              "<matplotlib.figure.Figure at 0x7f992e1c3b90>"
            ]
          },
          "metadata": {
            "tags": []
          }
        },
        {
          "output_type": "display_data",
          "data": {
            "image/png": "[encoded data removed]",
            "text/plain": [
              "<matplotlib.figure.Figure at 0x7f992efbe790>"
            ]
          },
          "metadata": {
            "tags": []
          }
        }
      ]
    },
    {
      "metadata": {
        "id": "0qC0I1Xglvbp",
        "colab_type": "text"
      },
      "cell_type": "markdown",
      "source": [
        "## 미세조정 방법\n",
        "- 상위 계층 몇개를 재학습시킨다\n",
        "- 앞에서 소개한 절차, 즉, 전결합망(top)부분을 먼저 학습시킨 후에 상위계층의 미세조정을 해야 한다 (한번에 학습하면 안되고 두 단계로 나누어야 함)\n",
        "\n",
        "         "
      ]
    },
    {
      "metadata": {
        "id": "t5XAI5qT2M8W",
        "colab_type": "code",
        "outputId": "b569108d-7eff-4c1d-cfc7-11d4b5057932",
        "colab": {
          "base_uri": "https://localhost:8080/",
          "height": 773
        }
      },
      "cell_type": "code",
      "source": [
        "conv_base.summary()"
      ],
      "execution_count": 0,
      "outputs": [
        {
          "output_type": "stream",
          "text": [
            "_________________________________________________________________\n",
            "Layer (type)                 Output Shape              Param #   \n",
            "=================================================================\n",
            "input_1 (InputLayer)         (None, 150, 150, 3)       0         \n",
            "_________________________________________________________________\n",
            "block1_conv1 (Conv2D)        (None, 150, 150, 64)      1792      \n",
            "_________________________________________________________________\n",
            "block1_conv2 (Conv2D)        (None, 150, 150, 64)      36928     \n",
            "_________________________________________________________________\n",
            "block1_pool (MaxPooling2D)   (None, 75, 75, 64)        0         \n",
            "_________________________________________________________________\n",
            "block2_conv1 (Conv2D)        (None, 75, 75, 128)       73856     \n",
            "_________________________________________________________________\n",
            "block2_conv2 (Conv2D)        (None, 75, 75, 128)       147584    \n",
            "_________________________________________________________________\n",
            "block2_pool (MaxPooling2D)   (None, 37, 37, 128)       0         \n",
            "_________________________________________________________________\n",
            "block3_conv1 (Conv2D)        (None, 37, 37, 256)       295168    \n",
            "_________________________________________________________________\n",
            "block3_conv2 (Conv2D)        (None, 37, 37, 256)       590080    \n",
            "_________________________________________________________________\n",
            "block3_conv3 (Conv2D)        (None, 37, 37, 256)       590080    \n",
            "_________________________________________________________________\n",
            "block3_pool (MaxPooling2D)   (None, 18, 18, 256)       0         \n",
            "_________________________________________________________________\n",
            "block4_conv1 (Conv2D)        (None, 18, 18, 512)       1180160   \n",
            "_________________________________________________________________\n",
            "block4_conv2 (Conv2D)        (None, 18, 18, 512)       2359808   \n",
            "_________________________________________________________________\n",
            "block4_conv3 (Conv2D)        (None, 18, 18, 512)       2359808   \n",
            "_________________________________________________________________\n",
            "block4_pool (MaxPooling2D)   (None, 9, 9, 512)         0         \n",
            "_________________________________________________________________\n",
            "block5_conv1 (Conv2D)        (None, 9, 9, 512)         2359808   \n",
            "_________________________________________________________________\n",
            "block5_conv2 (Conv2D)        (None, 9, 9, 512)         2359808   \n",
            "_________________________________________________________________\n",
            "block5_conv3 (Conv2D)        (None, 9, 9, 512)         2359808   \n",
            "_________________________________________________________________\n",
            "block5_pool (MaxPooling2D)   (None, 4, 4, 512)         0         \n",
            "=================================================================\n",
            "Total params: 14,714,688\n",
            "Trainable params: 0\n",
            "Non-trainable params: 14,714,688\n",
            "_________________________________________________________________\n"
          ],
          "name": "stdout"
        }
      ]
    },
    {
      "metadata": {
        "id": "RAUd8YyW2blO",
        "colab_type": "text"
      },
      "cell_type": "markdown",
      "source": [
        "### 위에서 block 5 부분만 미세조정 하겠다"
      ]
    },
    {
      "metadata": {
        "id": "pEVEbvcW2TBl",
        "colab_type": "code",
        "colab": {}
      },
      "cell_type": "code",
      "source": [
        "conv_base.trainable = True\n",
        "\n",
        "set_trainable = False\n",
        "for layer in conv_base.layers:\n",
        "  if layer.name == 'block5_conv1':\n",
        "    set_trainable = True\n",
        "  if set_trainable:\n",
        "    layer.trainable = True\n",
        "  else:\n",
        "    layer.trainable = False"
      ],
      "execution_count": 0,
      "outputs": []
    },
    {
      "metadata": {
        "id": "7uCc31nj3lJq",
        "colab_type": "text"
      },
      "cell_type": "markdown",
      "source": [
        "### 학습률을 작게 조정한다 (천천히 학습하도록)"
      ]
    },
    {
      "metadata": {
        "id": "oEZvEBLt3fZl",
        "colab_type": "code",
        "outputId": "0c22f9c9-7359-407b-90f7-a419bef83ed9",
        "colab": {
          "base_uri": "https://localhost:8080/",
          "height": 1045
        }
      },
      "cell_type": "code",
      "source": [
        "model.compile(loss='binary_crossentropy',\n",
        "              optimizer=optimizers.RMSprop(lr=1e-5),\n",
        "              metrics=['acc'])\n",
        "\n",
        "\n",
        "history = model.fit_generator(\n",
        "    generator=train_generator, \n",
        "    steps_per_epoch=100,\n",
        "    epochs=30,\n",
        "    validation_data=validation_generator,\n",
        "    validation_steps=50)"
      ],
      "execution_count": 0,
      "outputs": [
        {
          "output_type": "stream",
          "text": [
            "Epoch 1/30\n",
            "100/100 [==============================] - 29s 289ms/step - loss: 0.2848 - acc: 0.8715 - val_loss: 0.2490 - val_acc: 0.9030\n",
            "Epoch 2/30\n",
            "100/100 [==============================] - 27s 271ms/step - loss: 0.2583 - acc: 0.8935 - val_loss: 0.2136 - val_acc: 0.9170\n",
            "Epoch 3/30\n",
            "100/100 [==============================] - 27s 271ms/step - loss: 0.2460 - acc: 0.8985 - val_loss: 0.3688 - val_acc: 0.8630\n",
            "Epoch 4/30\n",
            "100/100 [==============================] - 27s 272ms/step - loss: 0.2151 - acc: 0.9095 - val_loss: 0.2826 - val_acc: 0.9040\n",
            "Epoch 5/30\n",
            "100/100 [==============================] - 27s 275ms/step - loss: 0.2133 - acc: 0.9110 - val_loss: 0.1858 - val_acc: 0.9310\n",
            "Epoch 6/30\n",
            "100/100 [==============================] - 27s 271ms/step - loss: 0.1951 - acc: 0.9200 - val_loss: 0.2384 - val_acc: 0.9120\n",
            "Epoch 7/30\n",
            "100/100 [==============================] - 27s 268ms/step - loss: 0.1863 - acc: 0.9255 - val_loss: 0.1945 - val_acc: 0.9320\n",
            "Epoch 8/30\n",
            "100/100 [==============================] - 27s 270ms/step - loss: 0.1732 - acc: 0.9260 - val_loss: 0.1627 - val_acc: 0.9440\n",
            "Epoch 9/30\n",
            "100/100 [==============================] - 27s 270ms/step - loss: 0.1607 - acc: 0.9350 - val_loss: 0.1949 - val_acc: 0.9330\n",
            "Epoch 10/30\n",
            "100/100 [==============================] - 27s 270ms/step - loss: 0.1672 - acc: 0.9310 - val_loss: 0.2090 - val_acc: 0.9330\n",
            "Epoch 11/30\n",
            "100/100 [==============================] - 27s 269ms/step - loss: 0.1527 - acc: 0.9375 - val_loss: 0.1537 - val_acc: 0.9390\n",
            "Epoch 12/30\n",
            "100/100 [==============================] - 27s 269ms/step - loss: 0.1407 - acc: 0.9390 - val_loss: 0.2033 - val_acc: 0.9410\n",
            "Epoch 13/30\n",
            "100/100 [==============================] - 27s 271ms/step - loss: 0.1425 - acc: 0.9500 - val_loss: 0.1707 - val_acc: 0.9430\n",
            "Epoch 14/30\n",
            "100/100 [==============================] - 27s 273ms/step - loss: 0.1316 - acc: 0.9450 - val_loss: 0.2142 - val_acc: 0.9340\n",
            "Epoch 15/30\n",
            "100/100 [==============================] - 27s 272ms/step - loss: 0.1284 - acc: 0.9480 - val_loss: 0.2182 - val_acc: 0.9350\n",
            "Epoch 16/30\n",
            "100/100 [==============================] - 27s 274ms/step - loss: 0.1187 - acc: 0.9530 - val_loss: 0.1991 - val_acc: 0.9310\n",
            "Epoch 17/30\n",
            "100/100 [==============================] - 27s 274ms/step - loss: 0.1079 - acc: 0.9550 - val_loss: 0.1705 - val_acc: 0.9400\n",
            "Epoch 18/30\n",
            "100/100 [==============================] - 28s 279ms/step - loss: 0.0977 - acc: 0.9630 - val_loss: 0.1664 - val_acc: 0.9450\n",
            "Epoch 19/30\n",
            "100/100 [==============================] - 27s 272ms/step - loss: 0.1043 - acc: 0.9610 - val_loss: 0.2019 - val_acc: 0.9360\n",
            "Epoch 20/30\n",
            "100/100 [==============================] - 27s 270ms/step - loss: 0.0918 - acc: 0.9620 - val_loss: 0.1628 - val_acc: 0.9530\n",
            "Epoch 21/30\n",
            "100/100 [==============================] - 27s 271ms/step - loss: 0.0998 - acc: 0.9620 - val_loss: 0.2485 - val_acc: 0.9300\n",
            "Epoch 22/30\n",
            "100/100 [==============================] - 27s 270ms/step - loss: 0.0829 - acc: 0.9675 - val_loss: 0.1489 - val_acc: 0.9580\n",
            "Epoch 23/30\n",
            "100/100 [==============================] - 27s 273ms/step - loss: 0.0941 - acc: 0.9620 - val_loss: 0.2492 - val_acc: 0.9240\n",
            "Epoch 24/30\n",
            "100/100 [==============================] - 27s 274ms/step - loss: 0.0833 - acc: 0.9710 - val_loss: 0.1868 - val_acc: 0.9470\n",
            "Epoch 25/30\n",
            "100/100 [==============================] - 27s 273ms/step - loss: 0.0803 - acc: 0.9710 - val_loss: 0.2140 - val_acc: 0.9380\n",
            "Epoch 26/30\n",
            "100/100 [==============================] - 27s 273ms/step - loss: 0.0873 - acc: 0.9630 - val_loss: 0.1801 - val_acc: 0.9500\n",
            "Epoch 27/30\n",
            "100/100 [==============================] - 27s 273ms/step - loss: 0.0800 - acc: 0.9705 - val_loss: 0.1587 - val_acc: 0.9490\n",
            "Epoch 28/30\n",
            "100/100 [==============================] - 27s 271ms/step - loss: 0.0625 - acc: 0.9765 - val_loss: 0.2515 - val_acc: 0.9270\n",
            "Epoch 29/30\n",
            "100/100 [==============================] - 27s 271ms/step - loss: 0.0775 - acc: 0.9685 - val_loss: 0.2067 - val_acc: 0.9450\n",
            "Epoch 30/30\n",
            "100/100 [==============================] - 27s 273ms/step - loss: 0.0712 - acc: 0.9730 - val_loss: 0.1756 - val_acc: 0.9490\n"
          ],
          "name": "stdout"
        }
      ]
    },
    {
      "metadata": {
        "id": "QCbU7FQU47OP",
        "colab_type": "text"
      },
      "cell_type": "markdown",
      "source": [
        "## 성능이 92%로 1% 정도 향상되었다.\n",
        "- 주의 할 것은 손실함수는 향상되지 않는 것으로 나타나도, 성능이 향상될 수 있다는 것이다. (분류 성능은 어떤 임계값만 넘으면 활률적으로 개선될 수 있다)\n",
        "\n",
        "## 요약\n",
        "- 과대적합을 줄이기 위해서 데이터 확장을 사용\n",
        "- 전이학습 중 특성 추출방식 소개\n",
        "- 전이학습 중 미세조정 방식 소개"
      ]
    },
    {
      "metadata": {
        "id": "8zFN7erS5SEV",
        "colab_type": "code",
        "colab": {}
      },
      "cell_type": "code",
      "source": [
        ""
      ],
      "execution_count": 0,
      "outputs": []
    }
  ]
}