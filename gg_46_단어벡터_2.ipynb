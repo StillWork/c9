{
  "nbformat": 4,
  "nbformat_minor": 0,
  "metadata": {
    "colab": {
      "name": "gg_46_단어벡터_2.ipynb",
      "version": "0.3.2",
      "provenance": [],
      "collapsed_sections": [],
      "include_colab_link": true
    },
    "kernelspec": {
      "display_name": "Python 3",
      "language": "python",
      "name": "python3"
    }
  },
  "cells": [
    {
      "cell_type": "markdown",
      "metadata": {
        "id": "view-in-github",
        "colab_type": "text"
      },
      "source": [
        "<a href=\"https://colab.research.google.com/github/StillWork/c9/blob/master/gg_46_%E1%84%83%E1%85%A1%E1%86%AB%E1%84%8B%E1%85%A5%E1%84%87%E1%85%A6%E1%86%A8%E1%84%90%E1%85%A5_2.ipynb\" target=\"_parent\"><img src=\"https://colab.research.google.com/assets/colab-badge.svg\" alt=\"Open In Colab\"/></a>"
      ]
    },
    {
      "metadata": {
        "id": "RSiTy5MDXBnt",
        "colab_type": "text"
      },
      "cell_type": "markdown",
      "source": [
        "# 단어벡터\n",
        "- 조선 왕조사\n",
        "- 빅카인즈 뉴스기사 데이터 활용(https://www.bigkinds.or.kr/)"
      ]
    },
    {
      "metadata": {
        "id": "tA1eYmYrXBnw",
        "colab_type": "code",
        "colab": {},
        "outputId": "89051172-17d3-4cbb-926b-6229968d9b52"
      },
      "cell_type": "code",
      "source": [
        "!pip install --user --upgrade gensim"
      ],
      "execution_count": 0,
      "outputs": [
        {
          "output_type": "stream",
          "text": [
            "/home/hjkim/.local/lib/python2.7/site-packages/pip/_vendor/requests/__init__.py:83: RequestsDependencyWarning: Old version of cryptography ([1, 2, 3]) may cause slowdown.\n",
            "  warnings.warn(warning, RequestsDependencyWarning)\n",
            "Collecting gensim\n",
            "\u001b[?25l  Downloading https://files.pythonhosted.org/packages/80/1e/1efc81ea344ea2a22e954b1b4471b3d2d95b3b3fb156ba909e8bda67ed89/gensim-3.7.1-cp27-cp27mu-manylinux1_x86_64.whl (24.2MB)\n",
            "\u001b[K    100% |████████████████████████████████| 24.2MB 759kB/s ta 0:00:011\n",
            "\u001b[?25hRequirement already satisfied, skipping upgrade: scipy>=0.18.1 in /home/hjkim/.local/lib/python2.7/site-packages (from gensim) (1.1.0)\n",
            "Requirement already satisfied, skipping upgrade: numpy>=1.11.3 in /usr/local/lib/python2.7/dist-packages (from gensim) (1.13.3)\n",
            "Requirement already satisfied, skipping upgrade: smart-open>=1.7.0 in /home/hjkim/.local/lib/python2.7/site-packages (from gensim) (1.7.1)\n",
            "Requirement already satisfied, skipping upgrade: six>=1.5.0 in /usr/local/lib/python2.7/dist-packages (from gensim) (1.11.0)\n",
            "Requirement already satisfied, skipping upgrade: boto3 in /home/hjkim/.local/lib/python2.7/site-packages (from smart-open>=1.7.0->gensim) (1.9.26)\n",
            "Requirement already satisfied, skipping upgrade: bz2file in /home/hjkim/.local/lib/python2.7/site-packages (from smart-open>=1.7.0->gensim) (0.98)\n",
            "Requirement already satisfied, skipping upgrade: boto>=2.32 in /home/hjkim/.local/lib/python2.7/site-packages (from smart-open>=1.7.0->gensim) (2.49.0)\n",
            "Requirement already satisfied, skipping upgrade: requests in /usr/lib/python2.7/dist-packages (from smart-open>=1.7.0->gensim) (2.9.1)\n",
            "Requirement already satisfied, skipping upgrade: s3transfer<0.2.0,>=0.1.10 in /home/hjkim/.local/lib/python2.7/site-packages (from boto3->smart-open>=1.7.0->gensim) (0.1.13)\n",
            "Requirement already satisfied, skipping upgrade: jmespath<1.0.0,>=0.7.1 in /home/hjkim/.local/lib/python2.7/site-packages (from boto3->smart-open>=1.7.0->gensim) (0.9.3)\n",
            "Requirement already satisfied, skipping upgrade: botocore<1.13.0,>=1.12.26 in /home/hjkim/.local/lib/python2.7/site-packages (from boto3->smart-open>=1.7.0->gensim) (1.12.26)\n",
            "Requirement already satisfied, skipping upgrade: futures<4.0.0,>=2.2.0; python_version == \"2.6\" or python_version == \"2.7\" in /home/hjkim/.local/lib/python2.7/site-packages (from s3transfer<0.2.0,>=0.1.10->boto3->smart-open>=1.7.0->gensim) (3.2.0)\n",
            "Requirement already satisfied, skipping upgrade: urllib3<1.24,>=1.20 in /home/hjkim/.local/lib/python2.7/site-packages (from botocore<1.13.0,>=1.12.26->boto3->smart-open>=1.7.0->gensim) (1.23)\n",
            "Requirement already satisfied, skipping upgrade: python-dateutil<3.0.0,>=2.1; python_version >= \"2.7\" in /home/hjkim/.local/lib/python2.7/site-packages (from botocore<1.13.0,>=1.12.26->boto3->smart-open>=1.7.0->gensim) (2.7.3)\n",
            "Requirement already satisfied, skipping upgrade: docutils>=0.10 in /home/hjkim/.local/lib/python2.7/site-packages (from botocore<1.13.0,>=1.12.26->boto3->smart-open>=1.7.0->gensim) (0.14)\n",
            "Installing collected packages: gensim\n",
            "  Found existing installation: gensim 3.6.0\n",
            "    Uninstalling gensim-3.6.0:\n",
            "      Successfully uninstalled gensim-3.6.0\n",
            "Successfully installed gensim-3.7.1\n",
            "\u001b[33mYou are using pip version 18.1, however version 19.0.3 is available.\n",
            "You should consider upgrading via the 'pip install --upgrade pip' command.\u001b[0m\n"
          ],
          "name": "stdout"
        }
      ]
    },
    {
      "metadata": {
        "id": "6VHnsDHlXBn7",
        "colab_type": "text"
      },
      "cell_type": "markdown",
      "source": [
        "# 조선 왕조사 단어 벡터"
      ]
    },
    {
      "metadata": {
        "id": "xDM2364masZe",
        "colab_type": "code",
        "colab": {
          "base_uri": "https://localhost:8080/",
          "height": 253
        },
        "outputId": "3073cdc0-16f5-41d3-957c-56d642856d5a"
      },
      "cell_type": "code",
      "source": [
        "!pip install konlpy"
      ],
      "execution_count": 3,
      "outputs": [
        {
          "output_type": "stream",
          "text": [
            "Collecting konlpy\n",
            "\u001b[?25l  Downloading https://files.pythonhosted.org/packages/e5/3d/4e983cd98d87b50b2ab0387d73fa946f745aa8164e8888a714d5129f9765/konlpy-0.5.1-py2.py3-none-any.whl (19.4MB)\n",
            "\u001b[K    100% |████████████████████████████████| 19.4MB 1.9MB/s \n",
            "\u001b[?25hCollecting JPype1>=0.5.7 (from konlpy)\n",
            "\u001b[?25l  Downloading https://files.pythonhosted.org/packages/c4/4b/60a3e63d51714d4d7ef1b1efdf84315d118a0a80a5b085bb52a7e2428cdc/JPype1-0.6.3.tar.gz (168kB)\n",
            "\u001b[K    100% |████████████████████████████████| 174kB 32.5MB/s \n",
            "\u001b[?25hBuilding wheels for collected packages: JPype1\n",
            "  Building wheel for JPype1 (setup.py) ... \u001b[?25ldone\n",
            "\u001b[?25h  Stored in directory: /root/.cache/pip/wheels/0e/2b/e8/c0b818ac4b3d35104d35e48cdc7afe27fc06ea277feed2831a\n",
            "Successfully built JPype1\n",
            "Installing collected packages: JPype1, konlpy\n",
            "Successfully installed JPype1-0.6.3 konlpy-0.5.1\n"
          ],
          "name": "stdout"
        }
      ]
    },
    {
      "metadata": {
        "id": "TcpN2NDuXBn9",
        "colab_type": "code",
        "colab": {}
      },
      "cell_type": "code",
      "source": [
        "import codecs\n",
        "from bs4 import BeautifulSoup\n",
        "from konlpy.tag import Kkma\n",
        "from gensim.models.word2vec import Word2Vec"
      ],
      "execution_count": 0,
      "outputs": []
    },
    {
      "metadata": {
        "id": "AhS3o75-cXSv",
        "colab_type": "code",
        "colab": {}
      },
      "cell_type": "code",
      "source": [
        "!wget https://www.dropbox.com/s/yxi9an5vvzcgsv6/4BH00002.txt \\\n",
        "  -O 4BH.txt"
      ],
      "execution_count": 0,
      "outputs": []
    },
    {
      "metadata": {
        "id": "lrFXBnXDXBoC",
        "colab_type": "code",
        "colab": {}
      },
      "cell_type": "code",
      "source": [
        "fp = codecs.open(\"./data/4BH00002.txt\", \"r\", encoding=\"utf-16\")\n",
        "soup = BeautifulSoup(fp, \"html.parser\")\n",
        "body = soup.select_one(\"text > body\")\n",
        "text = body.getText()"
      ],
      "execution_count": 0,
      "outputs": []
    },
    {
      "metadata": {
        "id": "UqJiUULCXBoH",
        "colab_type": "code",
        "colab": {}
      },
      "cell_type": "code",
      "source": [
        "kkma = Kkma()"
      ],
      "execution_count": 0,
      "outputs": []
    },
    {
      "metadata": {
        "id": "QxjG9_7IXBoK",
        "colab_type": "code",
        "colab": {}
      },
      "cell_type": "code",
      "source": [
        "sentense_list = []"
      ],
      "execution_count": 0,
      "outputs": []
    },
    {
      "metadata": {
        "id": "n5hpmIrIXBoN",
        "colab_type": "code",
        "colab": {}
      },
      "cell_type": "code",
      "source": [
        "for sent in text.split(\"\\n\"):\n",
        "    sent_kkma_pos = kkma.pos(sent)\n",
        "    word_list = []\n",
        "    for word_pos in sent_kkma_pos:\n",
        "        word_list.append(word_pos[0])\n",
        "\n",
        "    sentense_list.append(word_list)"
      ],
      "execution_count": 0,
      "outputs": []
    },
    {
      "metadata": {
        "id": "lWHY-in6XBoT",
        "colab_type": "code",
        "colab": {}
      },
      "cell_type": "code",
      "source": [
        "model = Word2Vec(sentense_list, min_count=1)"
      ],
      "execution_count": 0,
      "outputs": []
    },
    {
      "metadata": {
        "id": "LI2N6pwtXBoa",
        "colab_type": "code",
        "colab": {},
        "outputId": "2afb090e-0fc4-410f-895f-69ccb9170ac3"
      },
      "cell_type": "code",
      "source": [
        "model.most_similar(positive=\"조선\")"
      ],
      "execution_count": 0,
      "outputs": [
        {
          "output_type": "stream",
          "text": [
            "/usr/local/lib/python3.5/dist-packages/ipykernel_launcher.py:1: DeprecationWarning: Call to deprecated `most_similar` (Method will be removed in 4.0.0, use self.wv.most_similar() instead).\n",
            "  \"\"\"Entry point for launching an IPython kernel.\n"
          ],
          "name": "stderr"
        },
        {
          "output_type": "execute_result",
          "data": {
            "text/plain": [
              "[('세자', 0.9969210624694824),\n",
              " ('자신', 0.9968966245651245),\n",
              " ('러시아', 0.9958488941192627),\n",
              " ('목적', 0.995186984539032),\n",
              " ('조정', 0.9950282573699951),\n",
              " ('일본', 0.9944256544113159),\n",
              " ('분노', 0.9940437078475952),\n",
              " ('출사', 0.9939028024673462),\n",
              " ('인물', 0.993696928024292),\n",
              " ('노론', 0.9936491250991821)]"
            ]
          },
          "metadata": {
            "tags": []
          },
          "execution_count": 7
        }
      ]
    },
    {
      "metadata": {
        "id": "9AVkpac7XBoh",
        "colab_type": "code",
        "colab": {},
        "outputId": "0134c287-6437-412e-c646-3d94ca6dd217"
      },
      "cell_type": "code",
      "source": [
        "model.most_similar(negative=\"정치\")"
      ],
      "execution_count": 0,
      "outputs": [
        {
          "output_type": "stream",
          "text": [
            "/usr/local/lib/python3.5/dist-packages/ipykernel_launcher.py:1: DeprecationWarning: Call to deprecated `most_similar` (Method will be removed in 4.0.0, use self.wv.most_similar() instead).\n",
            "  \"\"\"Entry point for launching an IPython kernel.\n"
          ],
          "name": "stderr"
        },
        {
          "output_type": "execute_result",
          "data": {
            "text/plain": [
              "[('사액', 0.8618729114532471),\n",
              " ('낙후성', 0.8545296788215637),\n",
              " ('을람하', 0.8379108905792236),\n",
              " ('딜레마', 0.8055330514907837),\n",
              " ('수적', 0.7974182367324829),\n",
              " ('저술가', 0.7536068558692932),\n",
              " ('閣臣', 0.7428207397460938),\n",
              " ('이능화', 0.7224107980728149),\n",
              " ('힌트', 0.719703197479248),\n",
              " ('厚生', 0.714379072189331)]"
            ]
          },
          "metadata": {
            "tags": []
          },
          "execution_count": 8
        }
      ]
    },
    {
      "metadata": {
        "id": "i93hyMaiXBop",
        "colab_type": "code",
        "colab": {},
        "outputId": "2e55ba83-a3e2-437f-e90b-aecab9d3ee15"
      },
      "cell_type": "code",
      "source": [
        "model.similarity(\"조선\", \"한국\")"
      ],
      "execution_count": 0,
      "outputs": [
        {
          "output_type": "stream",
          "text": [
            "/usr/local/lib/python3.5/dist-packages/ipykernel_launcher.py:1: DeprecationWarning: Call to deprecated `similarity` (Method will be removed in 4.0.0, use self.wv.similarity() instead).\n",
            "  \"\"\"Entry point for launching an IPython kernel.\n"
          ],
          "name": "stderr"
        },
        {
          "output_type": "execute_result",
          "data": {
            "text/plain": [
              "0.9678814"
            ]
          },
          "metadata": {
            "tags": []
          },
          "execution_count": 9
        }
      ]
    },
    {
      "metadata": {
        "id": "GznAxurMXBot",
        "colab_type": "code",
        "colab": {},
        "outputId": "404aa0f8-f02e-41fe-dfeb-e75e999be2f4"
      },
      "cell_type": "code",
      "source": [
        "print(len(model['조선']))"
      ],
      "execution_count": 0,
      "outputs": [
        {
          "output_type": "stream",
          "text": [
            "100\n"
          ],
          "name": "stdout"
        },
        {
          "output_type": "stream",
          "text": [
            "/usr/local/lib/python3.5/dist-packages/ipykernel_launcher.py:1: DeprecationWarning: Call to deprecated `__getitem__` (Method will be removed in 4.0.0, use self.wv.__getitem__() instead).\n",
            "  \"\"\"Entry point for launching an IPython kernel.\n"
          ],
          "name": "stderr"
        }
      ]
    },
    {
      "metadata": {
        "id": "7R5lqDRhXBoy",
        "colab_type": "text"
      },
      "cell_type": "markdown",
      "source": [
        "# IT 뉴스기사를 이용한 단어 벡터"
      ]
    },
    {
      "metadata": {
        "id": "-ZvZ251kbjLX",
        "colab_type": "code",
        "colab": {
          "base_uri": "https://localhost:8080/",
          "height": 397
        },
        "outputId": "eb58816a-6098-4184-e898-73f06d1d11d1"
      },
      "cell_type": "code",
      "source": [
        "!wget https://www.dropbox.com/s/lh33exd4t33inpj/it_news.csv -O it_news200.csv"
      ],
      "execution_count": 9,
      "outputs": [
        {
          "output_type": "stream",
          "text": [
            "--2019-04-06 06:56:41--  https://www.dropbox.com/s/lh33exd4t33inpj/it_news.csv\n",
            "Resolving www.dropbox.com (www.dropbox.com)... 162.125.1.1, 2620:100:6016:1::a27d:101\n",
            "Connecting to www.dropbox.com (www.dropbox.com)|162.125.1.1|:443... connected.\n",
            "HTTP request sent, awaiting response... 301 Moved Permanently\n",
            "Location: /s/raw/lh33exd4t33inpj/it_news.csv [following]\n",
            "--2019-04-06 06:56:41--  https://www.dropbox.com/s/raw/lh33exd4t33inpj/it_news.csv\n",
            "Reusing existing connection to www.dropbox.com:443.\n",
            "HTTP request sent, awaiting response... 302 Found\n",
            "Location: https://ucd38f4fc6ba0ee69c02365cca25.dl.dropboxusercontent.com/cd/0/inline/AeeMKWy2FWYA9KMVDSB3LRP-T3pWchMdsHIt7UtykwlTNjXPu45ucbvqA7xABHxqfmUCGQlFswUtyKl05OaXLxT-_IfqSxeRg5R_ZqIXbgrHZguhB7hTVQE74pH25G95OzI/file# [following]\n",
            "--2019-04-06 06:56:42--  https://ucd38f4fc6ba0ee69c02365cca25.dl.dropboxusercontent.com/cd/0/inline/AeeMKWy2FWYA9KMVDSB3LRP-T3pWchMdsHIt7UtykwlTNjXPu45ucbvqA7xABHxqfmUCGQlFswUtyKl05OaXLxT-_IfqSxeRg5R_ZqIXbgrHZguhB7hTVQE74pH25G95OzI/file\n",
            "Resolving ucd38f4fc6ba0ee69c02365cca25.dl.dropboxusercontent.com (ucd38f4fc6ba0ee69c02365cca25.dl.dropboxusercontent.com)... 162.125.8.6, 2620:100:6016:6::a27d:106\n",
            "Connecting to ucd38f4fc6ba0ee69c02365cca25.dl.dropboxusercontent.com (ucd38f4fc6ba0ee69c02365cca25.dl.dropboxusercontent.com)|162.125.8.6|:443... connected.\n",
            "HTTP request sent, awaiting response... 200 OK\n",
            "Length: 200265881 (191M) [text/plain]\n",
            "Saving to: ‘it_news200.csv’\n",
            "\n",
            "it_news200.csv      100%[===================>] 190.99M  61.5MB/s    in 3.1s    \n",
            "\n",
            "2019-04-06 06:56:46 (61.5 MB/s) - ‘it_news200.csv’ saved [200265881/200265881]\n",
            "\n"
          ],
          "name": "stdout"
        }
      ]
    },
    {
      "metadata": {
        "id": "auOlqtaXbBDj",
        "colab_type": "code",
        "colab": {
          "resources": {
            "http://localhost:8080/nbextensions/google.colab/files.js": {
              "data": "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",
              "ok": true,
              "headers": [
                [
                  "content-type",
                  "application/javascript"
                ]
              ],
              "status": 200,
              "status_text": ""
            }
          },
          "base_uri": "https://localhost:8080/",
          "height": 643
        },
        "outputId": "bef502be-1a9f-4e71-d968-1bd45e6c663d"
      },
      "cell_type": "code",
      "source": [
        "from google.colab import files\n",
        "files.upload()"
      ],
      "execution_count": 8,
      "outputs": [
        {
          "output_type": "display_data",
          "data": {
            "text/html": [
              "\n",
              "     <input type=\"file\" id=\"files-1b9f6c4d-5b48-4a19-805b-ce7ba59f3af4\" name=\"files[]\" multiple disabled />\n",
              "     <output id=\"result-1b9f6c4d-5b48-4a19-805b-ce7ba59f3af4\">\n",
              "      Upload widget is only available when the cell has been executed in the\n",
              "      current browser session. Please rerun this cell to enable.\n",
              "      </output>\n",
              "      <script src=\"/nbextensions/google.colab/files.js\"></script> "
            ],
            "text/plain": [
              "<IPython.core.display.HTML object>"
            ]
          },
          "metadata": {
            "tags": []
          }
        },
        {
          "output_type": "stream",
          "text": [
            "Saving it_news.csv to it_news.csv\n"
          ],
          "name": "stdout"
        },
        {
          "output_type": "error",
          "ename": "KeyboardInterrupt",
          "evalue": "ignored",
          "traceback": [
            "\u001b[0;31m---------------------------------------------------------------------------\u001b[0m",
            "\u001b[0;31mKeyboardInterrupt\u001b[0m                         Traceback (most recent call last)",
            "\u001b[0;32m<ipython-input-8-5c2e8a8d365b>\u001b[0m in \u001b[0;36m<module>\u001b[0;34m()\u001b[0m\n\u001b[1;32m      1\u001b[0m \u001b[0;32mfrom\u001b[0m \u001b[0mgoogle\u001b[0m\u001b[0;34m.\u001b[0m\u001b[0mcolab\u001b[0m \u001b[0;32mimport\u001b[0m \u001b[0mfiles\u001b[0m\u001b[0;34m\u001b[0m\u001b[0;34m\u001b[0m\u001b[0m\n\u001b[0;32m----> 2\u001b[0;31m \u001b[0mfiles\u001b[0m\u001b[0;34m.\u001b[0m\u001b[0mupload\u001b[0m\u001b[0;34m(\u001b[0m\u001b[0;34m)\u001b[0m\u001b[0;34m\u001b[0m\u001b[0;34m\u001b[0m\u001b[0m\n\u001b[0m",
            "\u001b[0;32m/usr/local/lib/python3.6/dist-packages/google/colab/files.py\u001b[0m in \u001b[0;36mupload\u001b[0;34m()\u001b[0m\n\u001b[1;32m     70\u001b[0m     result = _output.eval_js(\n\u001b[1;32m     71\u001b[0m         'google.colab._files._uploadFilesContinue(\"{output_id}\")'.format(\n\u001b[0;32m---> 72\u001b[0;31m             output_id=output_id))\n\u001b[0m\u001b[1;32m     73\u001b[0m     \u001b[0;32mif\u001b[0m \u001b[0mresult\u001b[0m\u001b[0;34m[\u001b[0m\u001b[0;34m'action'\u001b[0m\u001b[0;34m]\u001b[0m \u001b[0;34m!=\u001b[0m \u001b[0;34m'append'\u001b[0m\u001b[0;34m:\u001b[0m\u001b[0;34m\u001b[0m\u001b[0;34m\u001b[0m\u001b[0m\n\u001b[1;32m     74\u001b[0m       \u001b[0;31m# JS side uses a generator of promises to process all of the files- some\u001b[0m\u001b[0;34m\u001b[0m\u001b[0;34m\u001b[0m\u001b[0;34m\u001b[0m\u001b[0m\n",
            "\u001b[0;32m/usr/local/lib/python3.6/dist-packages/google/colab/output/_js.py\u001b[0m in \u001b[0;36meval_js\u001b[0;34m(script, ignore_result)\u001b[0m\n\u001b[1;32m     37\u001b[0m   \u001b[0;32mif\u001b[0m \u001b[0mignore_result\u001b[0m\u001b[0;34m:\u001b[0m\u001b[0;34m\u001b[0m\u001b[0;34m\u001b[0m\u001b[0m\n\u001b[1;32m     38\u001b[0m     \u001b[0;32mreturn\u001b[0m\u001b[0;34m\u001b[0m\u001b[0;34m\u001b[0m\u001b[0m\n\u001b[0;32m---> 39\u001b[0;31m   \u001b[0;32mreturn\u001b[0m \u001b[0m_message\u001b[0m\u001b[0;34m.\u001b[0m\u001b[0mread_reply_from_input\u001b[0m\u001b[0;34m(\u001b[0m\u001b[0mrequest_id\u001b[0m\u001b[0;34m)\u001b[0m\u001b[0;34m\u001b[0m\u001b[0;34m\u001b[0m\u001b[0m\n\u001b[0m\u001b[1;32m     40\u001b[0m \u001b[0;34m\u001b[0m\u001b[0m\n\u001b[1;32m     41\u001b[0m \u001b[0;34m\u001b[0m\u001b[0m\n",
            "\u001b[0;32m/usr/local/lib/python3.6/dist-packages/google/colab/_message.py\u001b[0m in \u001b[0;36mread_reply_from_input\u001b[0;34m(message_id, timeout_sec)\u001b[0m\n\u001b[1;32m     99\u001b[0m     \u001b[0mreply\u001b[0m \u001b[0;34m=\u001b[0m \u001b[0m_read_next_input_message\u001b[0m\u001b[0;34m(\u001b[0m\u001b[0;34m)\u001b[0m\u001b[0;34m\u001b[0m\u001b[0;34m\u001b[0m\u001b[0m\n\u001b[1;32m    100\u001b[0m     \u001b[0;32mif\u001b[0m \u001b[0mreply\u001b[0m \u001b[0;34m==\u001b[0m \u001b[0m_NOT_READY\u001b[0m \u001b[0;32mor\u001b[0m \u001b[0;32mnot\u001b[0m \u001b[0misinstance\u001b[0m\u001b[0;34m(\u001b[0m\u001b[0mreply\u001b[0m\u001b[0;34m,\u001b[0m \u001b[0mdict\u001b[0m\u001b[0;34m)\u001b[0m\u001b[0;34m:\u001b[0m\u001b[0;34m\u001b[0m\u001b[0;34m\u001b[0m\u001b[0m\n\u001b[0;32m--> 101\u001b[0;31m       \u001b[0mtime\u001b[0m\u001b[0;34m.\u001b[0m\u001b[0msleep\u001b[0m\u001b[0;34m(\u001b[0m\u001b[0;36m0.025\u001b[0m\u001b[0;34m)\u001b[0m\u001b[0;34m\u001b[0m\u001b[0;34m\u001b[0m\u001b[0m\n\u001b[0m\u001b[1;32m    102\u001b[0m       \u001b[0;32mcontinue\u001b[0m\u001b[0;34m\u001b[0m\u001b[0;34m\u001b[0m\u001b[0m\n\u001b[1;32m    103\u001b[0m     if (reply.get('type') == 'colab_reply' and\n",
            "\u001b[0;31mKeyboardInterrupt\u001b[0m: "
          ]
        }
      ]
    },
    {
      "metadata": {
        "id": "T7qr9JXoXBoz",
        "colab_type": "code",
        "colab": {
          "base_uri": "https://localhost:8080/",
          "height": 202
        },
        "outputId": "dc172370-a992-49ff-8ae0-aab0aa317652"
      },
      "cell_type": "code",
      "source": [
        "import pandas as pd\n",
        "IT_NEWS = pd.read_csv(\"it_news200.csv\", names=['본문'], sep=',', header = None, encoding='utf-8')\n",
        "IT_NEWS.head()"
      ],
      "execution_count": 11,
      "outputs": [
        {
          "output_type": "execute_result",
          "data": {
            "text/html": [
              "<div>\n",
              "<style scoped>\n",
              "    .dataframe tbody tr th:only-of-type {\n",
              "        vertical-align: middle;\n",
              "    }\n",
              "\n",
              "    .dataframe tbody tr th {\n",
              "        vertical-align: top;\n",
              "    }\n",
              "\n",
              "    .dataframe thead th {\n",
              "        text-align: right;\n",
              "    }\n",
              "</style>\n",
              "<table border=\"1\" class=\"dataframe\">\n",
              "  <thead>\n",
              "    <tr style=\"text-align: right;\">\n",
              "      <th></th>\n",
              "      <th>본문</th>\n",
              "    </tr>\n",
              "  </thead>\n",
              "  <tbody>\n",
              "    <tr>\n",
              "      <th>0</th>\n",
              "      <td>세계 최초 인공위성 스푸트니크 발사 60주년] 한국 우주개발 역사와 현주소 ...</td>\n",
              "    </tr>\n",
              "    <tr>\n",
              "      <th>1</th>\n",
              "      <td>세계 최초 인공위성 스푸트니크 발사 60주년] 우주 알리는 신호탄 1957년...</td>\n",
              "    </tr>\n",
              "    <tr>\n",
              "      <th>2</th>\n",
              "      <td>2017년 IT 10대 트렌드  이호기 기자  ]  올 한 해 정보기술IT업...</td>\n",
              "    </tr>\n",
              "    <tr>\n",
              "      <th>3</th>\n",
              "      <td>일부 국가 전쟁 로봇 개발 열 올려 / 근무 현장 자동화로 일자리 감소 / ...</td>\n",
              "    </tr>\n",
              "    <tr>\n",
              "      <th>4</th>\n",
              "      <td>국내 육성 방안과 전망 . ‘디지털 혁명을 기반으로한 기술융합의 시대’를 뜻...</td>\n",
              "    </tr>\n",
              "  </tbody>\n",
              "</table>\n",
              "</div>"
            ],
            "text/plain": [
              "                                                  본문\n",
              "0      세계 최초 인공위성 스푸트니크 발사 60주년] 한국 우주개발 역사와 현주소 ...\n",
              "1      세계 최초 인공위성 스푸트니크 발사 60주년] 우주 알리는 신호탄 1957년...\n",
              "2      2017년 IT 10대 트렌드  이호기 기자  ]  올 한 해 정보기술IT업...\n",
              "3      일부 국가 전쟁 로봇 개발 열 올려 / 근무 현장 자동화로 일자리 감소 / ...\n",
              "4      국내 육성 방안과 전망 . ‘디지털 혁명을 기반으로한 기술융합의 시대’를 뜻..."
            ]
          },
          "metadata": {
            "tags": []
          },
          "execution_count": 11
        }
      ]
    },
    {
      "metadata": {
        "id": "JLZB-_0zXBo4",
        "colab_type": "code",
        "colab": {
          "base_uri": "https://localhost:8080/",
          "height": 55
        },
        "outputId": "7c533dab-9564-4c98-fcc2-94abd6d0559c"
      },
      "cell_type": "code",
      "source": [
        "sentence_list = []\n",
        "for sent in IT_NEWS[0:1000]['본문']:\n",
        "    \n",
        "    ## 명사만 추출\n",
        "    sent_kkma_pos = kkma.nouns(sent)\n",
        "    word_list = []\n",
        "    for word_pos in sent_kkma_pos:\n",
        "        word_list.append(word_pos)\n",
        "\n",
        "    sentence_list.append(word_list)\n",
        "\n",
        "print(sentence_list[0:10])"
      ],
      "execution_count": 12,
      "outputs": [
        {
          "output_type": "stream",
          "text": [
            "[['세계', '최초', '인공위성', '스푸트니크', '발사', '60', '60주년', '주년', '한국', '우주', '우주개발', '개발', '역사', '현주소', '분야', '후발', '주자', '확보', '기술', '차세대', '산업', '육성', '시점', '러시아', '1', '1호', '호', '1957', '1957년', '년', '6', '25', '25전쟁', '전쟁', '직후', '1인', '인', '100', '100달러', '달러', '가난', '나라', '우주기술', '논의', '착수', '한참', '뒤', '1980', '1980년대', '년대', '후반', '우주강국', '강국', '꿈', '영국', '유학길', '공학도', '노력', '끝', '1992', '1992년', '국내', '우리별', '신호탄', '클릭', '그림', '수', '제도적', '1996', '1996년', '중장기', '기본', '기본계획', '계획', '수립', '2005', '2005년', '우주개발진흥법', '진흥법', '제정', '이', '토대', '1999', '1999년', '다목적', '실용', '실용위성', '위성', '아리랑', '2013', '2013년', '발사체인', '체인', '나로', '나로호', '호', '성공', '11', '11번째', '번째', '발사체', '발사장', '보유', '스페이스', '스페이스클럽', '클럽', '가입', '1995', '1995년', '300', '300억원', '억', '원', '규모', '예산', '올해', '7263', '7263억원', '성과', '바탕', '대열', '본격적', '진입', '목표', '수행', '단계', '순수', '우리', '한국형', '한국형발사체', '급선무', '상부', '손', '하부', '도입', '지금', '당시', '설계', '부품', '부품제작', '제작', '시스템', '조립', '조립기술', '데', '1.5', '1.5급', '급', '저궤도', '저궤도600', '600', '800', '800㎞', '㎞', '엔진', '시험', '시험설비', '설비', '구축', '내년', '핵심', '기술인', '75', '75급', '액체', '액체엔진', '시험발사', '2020', '2020년', '예정', '본', '우리', '우리나라', '자립', '자립국', '국', '합류', '정부', '2021', '2021년', '1조9572억', '조', '9572', '책정', '달', '탐사', '사업', '전개', '1단계', '1978', '1978억원', '투입', '국제', '국제협력', '협력', '기반', '시험용', '궤도', '궤도선', '선', '2018', '2018년', '발판', '삼아', '궤도선과', '선과', '착륙', '착륙선', '자력', '마련', '체결', '한', '미', '우주협정', '협정', '독자적', '능력', '중요', '교두보', '작용', '전망', '국가', '주도', '우주산업', '활성화', '중형', '산업체', '참여', '확대', '방침', '위성항법시스템', '항법', '2', '2단계', '달탐사계획', '등', '신규', '박차', '김', '김준영', '준영', '기자', '세상', '눈', '글로벌', '미디어', '세계일보', '일보', '본문', '내용'], ['세계', '최초', '인공위성', '스푸트니크', '발사', '60', '60주년', '주년', '우주', '신호탄', '1957', '1957년', '년', '10', '10월4일', '월', '4', '일', '소련', '소련러시아이', '러시', '아이', '1', '1호', '호', '의', '성공', '인류', '경악', '미국', '서유럽', '국가', '등', '충격', '2', '2차', '차', '세계대전', '대전', '때', '진주만', '공습', '정도', '훗날', '쇼크', '로', '클릭', '그림', '수', '우주계획', '계획', '선구', '선구자인', '자인', '콘', '콘스탄', '스탄', '치', '치올콥스키', '올', '콥', '스키', '탄생', '100', '100주년', '바늘', '4개', '개', '안테나', '금속', '금속구', '구', '소리', '송신', '시간', '워싱턴', '소련대사관', '대사관', '연회', '과학자', '처음', '소식', '비웃음', '그', '농업', '농업국가', '의심', '우주과학', '과학', '기술', '인공', '위성', '사실', '그때', '연회장', '뉴욕', '뉴욕타임스', '타임스', '월', '월터', '터', '설리번', '기자', '보도', '도래', '당시', '크하', '크하하', '하', '신호', '자조적', '유머', '유행', '이후', '우주개발', '개발', '경쟁', '본격', '돌입', '냉전', '냉전시대', '시대', '예산', '구애', '발전', '이룩', '대륙간', '탄도', '탄도미사일', '미사일', '시대적', '요구', '해', '11', '11월', '2호', '라이카', '이름', '지구', '생명체', '탐험', '기록', '유인', '우주선', '효시', '1961', '1961년', '4월12일', '12', '번째', '우주인', '군인', '유리', '가가린', '가가린1934', '1934', '1968', '1968이', '이', '보스', '보스토크', '토크', '나', '108', '108분간', '분간', '나들이', '귀환', '역', '역사상', '사상', '사람', '베일', '신부', '평', '역사', '언론', '철', '장막', '건너편', '역사적', '진출', '공산주의자', '라', '분통', '자극', '달', '아폴로', '을', '추진', '1969', '1969년', '7', '7월20일', '20', '암스트롱', '3', '3명', '명', '11호', '표면', '발자국', '1970', '80', '80년대', '년대', '우주정거장', '정거장', '각축', '1981', '1981년', '우주왕복선', '왕복', '선', '비행', '화성', '무렵', '준비', '21', '21세기', '세기', '1991', '1991년', '붕괴', '전환점', '종식', '천문학', '애물', '애물단지', '단지', '전락', '러시아', '중국', '강국', '우주기술', '명맥', '유지', '후대', '철학', '견지', '모스크', '모스크바', '바', '훈련', '훈련센터스타시티', '센터', '스타', '시티', '기념', '기념박물관', '박물관', '건립', '운영', '중이', '스타시티', '1960', '1960년', '소도시', '곳', '여행', '한국', '최초이자', '이자', '475', '475번째', '소연', '소연38', '38', '여', '여씨', '씨', '이곳', '국민', '세계인', '전시', '모형', '포함', '역대', '물품', '자료', '보존', '하루', '방문객', '1만명', '만', '자부심', '애국심', '원천', '2015', '2015년', '12월', '29', '29일', '창정', '창정3호', '분야', '열', '1992', '1992년', '우주분야', '의미', '우주굴기', '굴기', '표방', '독자적', '박차', '선저', '선저우', '우', '시작', '2003', '2003년', '10월', '5', '5호', '2011', '2011년', '톈', '톈궁', '궁', '뒤', '8', '8호', '도킹', '3번째', '운용', '운용국가', '27', '27만명', '인력', '미국항공우주국', '항공', '우주국', '필적', '국가항천국', '항', '천국', '주취안', '우주기지', '기지', '보유', '미래', '미래창조과학부', '창조', '부', '관계자', '20세기', '최대', '업적', '후발', '후발주자이지만', '주자', '이지만', '1996', '1996년', '고', '오늘날', '과시', '기상', '해양', '통신', '환경', '실생활', '도움', '다목적', '다목적실용위성', '실용', '김', '김범수', '범수', '세상', '눈', '글로벌', '미디어', '세계일보', '일보', '본문', '내용'], ['2017', '2017년', '년', '10', '10대', '대', '트렌드', '이', '이호기', '호기', '기자', '올', '해', '정보', '정보기술', '기술', '업계', '인공', '인공지능', '지능', '가상현실', '증강', '증강현실', '현실', '등', '신기술', '혁신', '가속화', '전망', '운전자', '필요', '자율', '자율주행차가', '주행', '차가', '일반', '도로', '가상', '비서', '검색', '일정', '관리', '각종', '일상', '업무', '대신', '예상', '1', '1일', '일', '주요', '외신', '국내외', '시장', '시장예측기관', '예측', '기관', '챗봇', '챗봇대화형', '대화', '형', '시스템', '자율주행차', '차', '부상', '월', '월스트리트저널', '스트리트', '저널', '음성', '소', '소셜네트워크서비스', '셜', '네트워크', '서비스', '앱응용프로그램', '적용', '사람', '두뇌', '학습', '의사', '의사결정', '결정', '수', '능력', '예', '지난해', '신경망', '처음', '구', '구글', '글', '번역', '언어', '본질', '자체', '이해', '수준', '진화', '스마트', '스마트카', '카', '포토', '앱', '등에', '탑재', '경제', '경제경영연구소', '경영', '연구소', '개인', '맞춤', '맞춤형', '추천', '확대', '글로벌', '기업', '간', '중심', '생태계', '구축', '경쟁', '치열', '관련', '올해', '본격적', '개화', '관측', '가트', '너', '모바일', '기기', '습관', '몸', '물리적', '세계', '디지털', '간', '경계', '게임', '포켓', '고의', '인기', '목격', '유통', '유통업체', '업체', '쇼핑', '경험', '접목', '마이크', '소프트', '융합', '홀', '렌즈', '나', '스냅챗', '동영상', '녹화', '전용', '스펙', '스펙터클스', '터', '클스', '얼굴', '착용', '컴퓨터', '급증', '사이버', '보안', '위협', '가짜', '뉴스', '부정적', '이슈', '테크놀로지스', '초', '초연결', '연결', '시대', '주소', '사물', '해킹', '대상', '공격', '기존', '가정용', '공기', '공기정화기', '정화기', '빌딩', '냉난방', '다양', '영역', '페이스', '페이스북', '북', '그동안', '미디어', '책임', '태도', '선언', '전쟁', '립', '립서비스', '경', '경닷컴', '닷컴', '가기', '구독', '구독신청', '신청', '한국', '한국경제', '무단', '무단전재', '전재', '배포', '금지', '본문', '내용'], ['일부', '국가', '전쟁', '로봇', '개발', '열', '근무', '현장', '자동화', '일자리', '감소', '3', '업종', '투입', '긍정적', '효과', '인간', '행복', '수', '까에', '대', '의문', '오래전', '제기', '어린', '어린이용', '이용', '만화', '사람', '친구', '경우', '대부분', '성인', '영화', '터', '터미', '미', '이터', '공격', '에이', '에이아이', '아이', '자리', '대신', '성토', '모임', '윤리적', '문제', '거론', '때', '인용', '공상', '공상과학', '과학', '소설', '거장', '아이작', '작', '아시모프', '로봇공학', '공학', '3원칙', '원칙', '미래', '미래학자이자', '학자', '이자', '세계', '3대', '대', '작가', '아시', '아시모프19201992', '모', '프', '19201992', '1942', '1942년', '년', '런', '런어라운드', '어', '라운드', '저', '1', '1원칙', '해', '가하', '위험', '2', '2원칙', '위배', '한', '명령', '복종', '자신', '제시', '이', '형태', '이후', '실제', '인공', '인공지능', '지능', '연구', '데', '중요', '명제', '작용', '대표적', '분야', '군사', '미국', '등', '노력', '지속', '무인기', '론', '폭격', '세상', '윤리', '논쟁', '계속', '지금', '연간', '수십', '수십조원', '조', '원', '로봇무기', '무기', '투자', '배낭', '설계', '팩', '팩봇', '봇', '이', '관련', '저명인사', '경고', '목소리', '기술', '목적', '사용', '금지', '국제', '협약', '주장', '애플', '공동', '공동창업자', '창업자', '스티브', '워즈니악', '테슬라', '최고', '최고경영자', '경영자', '일', '머스크', '영국', '우주', '우주물리학자', '물리학자', '스티븐', '호', '호킹', '킹', '박사', '등장', '인류', '일도', '최악', '고', '언급', '바', '영국표준연구소', '표준', '연구소', '인명', '살상', '1차적인', '차', '적인', '목표', '내용', '윤리원칙', '위협', '우려', '제조', '제조로봇', '은행원', '대체', '국제노동기구', '노동', '기구', '동남아시아', '1억3700만', '억', '3700', '만', '명', '부정적', '인식', '과장', '반론', '산업', '산업혁명', '혁명', '정보', '정보혁명', '기계', '컴퓨터', '결과적', '삶', '질', '논리', '효과적', '방향', '논의', '초점', '생산적', '얘기', '한국', '한국로봇산업진흥원', '진흥원', '박', '박기한', '기한', '로봇성장사업단장', '성장', '사업', '단장', '측면', '작업', '효율', '관리', '새', '기피', '라', '어려움', '해소', '인력', '품질', '재배치', '오', '오남용', '남용', '로봇윤리', '헌장', '내년', '계획', '엄형', '기자', '눈', '글로벌', '미디어', '세계일보', '일보', '본문'], ['국내', '육성', '방안', '전망', '디지털', '혁명', '기반', '기술', '기술융합', '융합', '시대', '저', '4', '4차', '차', '산업', '산업혁명', '꽃', '은', '로봇', '로봇산업', '정보', '정보기술가', '기술가', '결합', '생산', '생산공정', '공정', '혁신', '18', '18세기', '세기', '전기', '동력', '대량', '대량생산', '도입', '골자', '2', '2차', '틀', '유지', '제조업', '지평', '앞', '곳', '독일', '2011', '2011년', '년', '민', '관', '학', '합동', '인더스', '인더스트리', '트리', '4.0', '정책', '추진', '중이', '인구', '도시', '암', '암베르크', '베르크', '가동', '중인', '지멘스', '부품', '부품공장', '공장', '대표적', '25', '25년', '전', '중', '2015', '2015년', '기준', '규모', '초기', '연', '1200', '개로', '8', '8배', '배', '증가', '제품', '결함', '100', '개', '550', '550여개', '여', '개', '12', '12개', '직원', '직원수', '수', '1000', '1000여명', '명', '그대', '부품제조업체', '제조', '업체', '조립', '조립공장', '물류', '판매', '판매회사', '회사', '등', '현장', '인터넷', '연결', '내', '장비', '사물', '클라우드', '클라우드망이', '망이', '접속', '연결과', '결과', '실현', '라인', '기계', '재고량', '생산량', '자동', '조절', '주문', '품목', '생산라인', '스스로', '재편', '정도', '전체', '공', '공정의', '정의', '75', '판단', '안스바흐', '아디다스', '신발', '신발공장', '스피드', '팩토리', '도', '제', '제4차', '가능성', '지난해', '하반기', '내', '운동화', '건', '1993', '1993년', '마지막', '문', '지', '23', '23년', '만', '시험', '올해', '터', '50', '50만켤레', '만', '켤레', '투입', '인력', '10', '10명', '하다', '대부분', '자동화', '신발창', '창', '끈', '종류', '옵션', '소비자', '선택', '5', '5시간', '시간', '속도', '공대', '현지', '소프트', '소프트웨어', '웨어', '하드', '하드업체', '20', '20여곳', '협업', '이', '미국', '계획', '공업', '공업대국인', '대국인', '우리', '우리나라', '나라', '만개', '토양', '상태', '기존', '산업용', '시장', '세계', '최대', '국제', '국제로봇연맹', '연맹', '최근', '발표', '통계', '산업용로봇', '판매대수', '대수', '3', '3만8285대', '8285', '대', '2014', '2014년', '55', '이', '상당수', '전년', '기업', '포함', '실제', '증가율', '30', '35', '추정', '중국', '2위', '위', '근로자', '1', '명당', '숫자', '의미', '밀도', '1위', '차지', '배치', '31', '핸들링', '작업', '터', '딩', '분야', '대다수', '이송', '있음', '향후', '사물인터넷', '컴퓨팅', '여지', '환경', '수출입', '현황', '경우', '수입', '1만2308대', '2308', '대비', '44', '반면', '수출', '감', '감소한', '소한', '6000', '6000대', '기록', '크기', '경쟁력', '수준', '수준임', '임', '때문', '정부', '공동', '2020', '2020년', '5000', '5000여억원', '억', '원', '질적', '양적', '성장', '영역', '확대', '초점', '단계적', '병원', '우체국', '전시장', '등에', '안내', '상담', '소', '소셜로봇', '셜', '수술', '수술로봇', '경계', '감시', '감시로봇', '시범', '연구', '조성', '150', '150억원', '투자', '고속', '고출력', '인간형', '플랫폼', '보행', '조작', '성능', '고도화', '요소', '요소기술', '핵심', '개발', '선', '스마트', '스마트공장', '솔루션', '구축', '적용', '수', '발굴', '첨단', '첨단제조로봇', '프로젝트', '2018', '2018년', '20개', '후', '이듬해', '효과', '검증', '업종', '중심', '확산', '관련', '석', '박사', '박사급', '급', '연구인력', '100여명', '양성', '신설', '카', '카이스트', '이스트', '휴', '노', '노이드', '이드', '연구센터', '센터', '다양', '창의', '진흥', '신진', '중견', '연구자', '5년간', '간', '자유', '1억', '3억원', '지원', '프로그램', '민간', '민간분야', '인터넷기업인', '기업인', '네이버', '2013', '2013년', '설립', '기술연구조직', '조직', '네이버랩스', '랩스', '로', '로보틱스', '보틱스', '분리', '초', '별도', '별도법인', '법인', '개발자', '콘퍼런스', '데뷔', '2016', '공개', '이동', '실', '실내외', '내외', '측정', '3차원', '차원', '데', '활용', '예정', '전문가', '발전', '편', '10월', '월', '행사', '참석', '조', '조젬마', '젬', '마', '회장', '한국', '전자', '전자산업', '자동차', '자동차산업', '글로벌', '주도', '서비스', '기회', '프리', '스타인', '미국로봇산업협회장', '협회장', '농업', '의료', '실버', '실버케어', '케어', '리더', '등장', '잠재력', '발휘', '물류유통', '유통', '식품', '로봇업체', '집중적', '공략', '필요성', '고', '조언', '산업통상자원부', '통상', '자원부', '정', '정만기', '만기', '1차관은', '관은', '우리', '세계시장', '선도', '확보', '종합적', '체계적', '대응', '필요', '미래', '유망', '창출', '촉진', '전문', '전문기업', '강화', '적극', '박', '기자', '세상', '눈', '미디어', '세계일보', '일보', '본문', '내용'], ['초', '초연결', '연결', '시대', '영화', '속', '이야기', '이젠', '현실화', '한국', '구현', '52', '52점', '점', '세계', '12', '12위', '위', '모바일', '혁명', '사람', '사물', '사물인터넷', '인터넷', '초연결사회', '사회', '핵심', '기술', '나', '아가', '4', '4차', '차', '산업', '산업혁명', '주축', '인공', '인공지능', '지능', '가상현실', '로봇', '등', '간', '연결고리', '고리', '산업구조', '구조', '인류', '삶', '혁명적', '기대', '글로벌', '글로벌컨설팅', '컨설팅', '매', '2025', '2025년', '년', '연간', '6', '6조2000억', '조', '2000', '억', '달러', '최대', '약', '11', '11조달러', '달러', '규모', '시장', '창출', '예상', '공간', '정보', '수집', '공유', '활용', '스마트', '스마트폰', '폰', '컴퓨터', '정도', '한정', '네트워크', '집', '안', '가전', '가전제품', '제품', '자동차', '의료', '도시', '시설물', '생활', '편리함', '추구', '곳', '어디', '확대', '수', '하나', '조명', '에어컨', '공기', '공기청정기', '청정기', '난방기', '현관문', '창문', '가정', '모든', '기기', '제어', '가족', '구성원', '생활패턴', '패턴', '최적', '컨디션', '작동', '스마트홈', '홈', '을', '중심', '발달', '삼성', '지멘스', '밀레', '가전회사', '회사', '통신사', '건설사', '자동차회사', '보험사', '보안', '보안회사', '국내', '2020', '2020년', '13', '13억2000만', '만', '430', '430억달러', '성장', '전망', '관련', '2015', '2015년', '703', '703만대', '만대', '4415', '4415만대', '증가', '여기', '대신', '허브', '역할', '음성', '음성인식', '인식', '기반', '스피커', '등장', '진화', '미국', '전자', '전자상거래회사', '상거래', '아마존', '2014', '2014년', '말', '스피커형', '형', '음성비서', '비서', '에코', '데', '올해', '텔레콤', '각각', '형태', '출시', '네이버', '집사', '가정용', '예정', '나아', '냉장고', '0', '주요', '공룡', '서비스', '왼쪽', '구', '구글홈', '글', '애플', '애플홈키트', '키트', '시', '개발', '주역', '플랫폼', '기업', '비', '비브랩스', '브랩스', '인수', '후', '세탁기', '인터페이스', '자연어', '결합', '별도', '음성명령', '명령', '생각', '이용자', '맞춤', '이상', '집이', '사무실', '다음', '시간', '접목', '넥', '넥티', '티', '카', '급성장', '넥티드', '통신', '통신기능', '기능', '장착', '차량', '인프라', '디바이스', '실', '실시간', '정보교류', '교류', '안전', '편안', '운전', '경험', '제공', '관리', '기본', '충돌', '운전자', '피로', '누적', '내외부', '위험', '감지', '경보', '사고', '예방', '자율', '자율주차', '주차', '자율주행', '주행', '편의', '벤츠', '현대', '현대차', '차', '제조사', '구글', '각축', '최근', '전장', '전장업체', '업체', '하', '출사표', '자율주행차', '선두', '경쟁', '업종', '간', '경계', '무한', '무한경쟁', '넥티트', '넥티트카', '1200', '1200억', '수', '1', '1만6030만대', '6030', '밖', '빌딩', '교통', '물류', '도시행정', '행정', '교육', '복지', '스마트시티', '시티', '폭발적', '수요', '분야', '선진국', '대도시', '인구', '신흥국', '급속', '도시화', '20122020', '20122020년', '기간', '연평균', '12.4', '성', '미래', '미래창조과학부', '창조', '과학', '부', '4월', '월', '기준', '가입자', '400', '400여만회선', '여', '회선', '10', '10만회선', '10년', '휴대', '휴대전화', '전화', '최고', '수준', '속도', '편', '지난해', '전문', '액', '추어', '55', '55가지', '가지', '지표', '분석', '발표', '순위', '우리', '우리나라', '나라', '52.2', '52.2점', '차지', '10위권', '위권', '1위', '64', '64점', '스위스', '스위스63.9점', '63.9', '핀란드', '핀란드63.2점', '63.2', '스웨덴', '스웨덴62.4점', '62.4', '상위권', '독일', '싱가포르', '모범', '모범사례', '사례', '제조업', '육성', '정책', '인더스', '인더스트리', '트리', '4.0', '통해', '자동', '생산', '생산체계', '체계', '구축', '최초', '택시', '시범', '시범운영', '운영', '공공', '공공서비스', '적극적', '활성화', '추진', '도미', '도미닉', '닉', '바', '바턴', '턴', '지', '지앤드컴퍼니', '앤드', '컴퍼니', '글로벌회장', '회장', '전통', '비즈니스', '비즈니스사업', '사업', '모델', '파괴', '혁신', '개척지', '부상', '조직적', '변화', '새', '인재', '필요', '입안자', '우선', '우선순위', '두고', '규제', '정비', '기회', '포착', '고', '김', '김수미', '수미', '기자', '세상', '눈', '미디어', '세계일보', '일보', '본문', '내용'], ['전용', '요금', '50', '할', '로', '선택', '약정', '추가', '할인', '이정', '이정호', '호', '기자', '통신', '통신사', '사', '알뜰', '알뜰폰업체', '폰', '업체', '파격', '상품', '새해', '고객', '몰이', '태블릿', '웨어', '웨어러', '러', '기기', '키즈', '키즈폰', '등', '스마트', '스마트기기', '구입', '소비자', '6', '6개월간', '개월', '간', '할인혜택', '혜택', '제공', '기간', '이달', '6월', '월', '휴대폰', '1', '1회선당', '회선', '당', '대까지', '적용', '할인폭', '폭', '종류', '4400', '4400원', '원', '최대', '1만2100원', '만', '2100', '예', '가입자', '아이', '아이패드', '패드', '뒤', '데이터', '데이터투것', '투', '신청', '월', '이용료', '1만1000원', '1000', '5500', '5500원', '절반', '결합', '선택약정', '기존', '중복', '수', '데이터선택', '76.8', '109', '7', '7만원', '이상', '고가', '사용', '제한', '로비', '로비전은', '전은', '기본', '기본요금', '40', '추가할인', '다음달', '말', '망', '4', '4세대', '세대', '단말기', '신규', '변경', '공시', '공시지원금', '지원금', '대신', '2', '2년', '년', '요금할인', '온라인', '온라인몰', '몰', '로모바일', '모바일', '다이렉트', '오프라인', '유통', '가입', '경', '경닷컴', '닷컴', '가기', '구독', '구독신청', '한국', '한국경제', '경제', '무단', '무단전재', '전재', '배포', '금지', '본문', '내용'], ['글로벌', '기업', '주도권', '경쟁', '치열', '경쟁사', '플랫폼', '구축', '박차', '사물', '사물인터넷', '인터넷', '연결', '데', '정보', '교환', '축적', '때문', '데이터', '자원', '자원이자', '이자', '경쟁력', '구', '구글', '글', '삼성', '애플', '등', '정보기술', '기술', '업체', '가전', '자동차', '의료', '의료보험', '보험', '보안', '업종', '불문', '개발', '어제', '적과', '동침', '을', '아마존', '개방', '이유', '기기', '생태계', '중심', '선점', '글로벌기업', '막이', '지난달', '13', '13일현지시간', '일', '현지', '시간', '안', '안드로이드싱스', '드로', '이드', '싱스', '사', '사진를', '진를', '공개', '이드싱', '싱', '하드웨어', '개발자', '제작', '수', '키트', '클라우드', '지도', '빅', '빅데이터', '방대', '사용자', '인프라', '모바일', '시장', '절반', '장악', '안드로이드', '활용', '영향력', '발휘', '전략', '삼성전자', '전자', '스마트', '스마트싱스', '비', '비브랩스', '브랩스', '관련', '적극', '인수', '인공', '인공지능', '지능', '최적화', '기반', '모든', '자유', '특징', '홈', '헬스', '헬스케어', '케어', '결제', '서비스', '분야', '확대', '방식', '지난해', '10', '10월', '월', '독일', '뮌헨', '왓', '본부', '2', '2억달러', '억', '달러', '투자', '계획', '발표', '고객', '파트너', '파트너사', '연구원', '최초', '공동', '연구소', '중심지', '컴퓨터', '왓슨', '다양', '음성', '음성인식', '인식', '기능', '시', '시리', '리', '연계', '제공', '방침', '간', '반도체', '격화', '전망', '종류', '증가', '성능', '발전', '위', '시스템', '가치', '강조', '0', '주요', '공룡', '왼쪽', '에코', '구글홈', '애플홈키트', '인텔', '구현', '최신', '컴퓨팅', '모듈', '전력', '소비', '절감', '마이크로', '마이크로프로세서', '프로세서', '본격화', '퀄컴', '470', '470억달러', '달러', '거액', '강점', '소프트', '소프트뱅크', '뱅크', '스마트폰', '폰', '시대', '지속', '보고', '320', '320억달러', '업계', '통신', '통신업계', '통신기술', '국제', '국제표준', '표준', '신생', '서비스라', '라', '세계적', '통용', '경쟁이', '향후', '기대감', '연합체', '이례적', '사업', '협력', '현재', '세계', '기술표준', '지정', '중인', '협대역', '2015', '2015년', '년', '출범', '로', '로라국제연합체', '텔레콤', '컴', '컴캐스트', '캐스트', '오렌지', '스위트', '스위트콤', '콤', '등', '네트워크', '사업자', '시스코', '장비', '400', '400여개', '여', '개', '진영', '유', '유플러스', '플러스', '중국', '차이나', '차이나모바일', '미국', '영국', '대형', '통신사', '참여', '지혜', '기자', '세상', '눈', '미디어', '세계일보', '일보', '본문', '내용'], ['사무', '행정직', '감소', '규모', '반면', '신', '신직종', '직종', '200', '개', '창출', '전망', '계산원', '아마존', '고', '미국', '거대', '거대기업', '기업', '지난해', '말', '점포', '시애틀', '오픈', '무인', '손님', '물건', '계산', '입구', '스마트', '스마트폰', '폰', '로그', '로그인', '인', '계정', '처리', '마트', '장', '장바구니', '바구니', '서서', '계산대', '불편', '고객', '환호', '인공', '인공지능', '지능', '다양', '센서', '등', '활용', '4', '4차', '차', '산업', '산업혁명', '혁명', '선도', '사례', '2000', '2000개', '개', '이상', '계획', '문제', '하나', '제기', '최첨단', '편리', '이면', '일', '일자리', '자리', '논란', '매장', '확대', '3500', '3500만명', '만', '명', '위기', '세계적', '숫자', '실업자', '양산', '1', '1일', '일', '세계', '세계경제포럼', '경제', '포럼', '중국', '일본', '독일', '영국', '프랑스', '호주', '15', '15개국', '개국', '370', '370여개', '여', '인사', '인사담당자', '담당자', '대상', '초', '조사', '내용', '전', '산업구조', '구조', '상당', '변화', '구체적', '이', '나라', '2015', '2015년', '년', '2020', '2020년', '710', '710만개', '동시', '200만개', '총', '510', '510만여개', '셈', '475', '475만9000명', '9000', '제조', '생산직', '160', '160만9000명', '뒤', '전문가', '고용', '고용시장', '시장', '대응', '노동', '노동시장', '유연성', '교육', '교육시스템', '시스템', '개선', '필요', '필요하다', '하다', '스위스', '은행', '은행보고서', '보고서', '한국', '수용', '분야', '139', '139개국', '중', '25', '25위', '위', '83', '83위', '평가', '정규직', '양극화', '효율성', '한국은행', '유럽', '유럽연합', '연합', '주요', '국가', '청년', '청년고용', '현황', '시사', '시사점', '점', '우리', '우리나라', '정도', '138', '138개국', '77', '77위', '나기', '나기천', '천', '기자', '세상', '눈', '글로벌', '미디어', '세계일보', '일보', '본문'], ['4', '4차', '차', '산업', '산업혁명', '혁명', '현황', '시대', '메가', '메가트렌드', '트렌드', '지능', '통합', '산업전략', '전략', '열쇠', '오늘날', '우리', '삶', '일', '인간', '인간관계', '관계', '방식', '근본적', '변화', '문', '앞', '규모', '범위', '복잡성', '때', '저', '은', '과거', '인류', '무엇', '라우스', '슈바프', '저서', '스위스', '세계', '세계경제포럼', '경제', '포럼', '창립자', '창립자이자', '이자', '회장', '통찰', '전대미문', '코앞', '도달', '이', '거대', '을', '안간힘', '이', '형국', '뉴', '뉴노멀', '노멀', '2008', '2008년', '년', '금융', '금융위기', '위기', '이후', '저성', '일상화', '현', '세계경제질서', '질서', '말', '가운데', '대내외', '여건', '불안정', '증대', '한국', '한국경제', '앞날', '안개', '최근', '기회', '그간', '2', '2위', '위', '국내', '산업용', '로봇', '로봇시장', '시장', '형성', '사물', '사물인터넷', '인터넷', '부문', '치열', '주도권', '경쟁', '선두', '등', '준비', '소리', '거세', '2017', '2017년', '년', '한국사회', '사회', '노력', '누구', '나', '4차산업', '차', '강국', '발돋움', '과제', '유연', '담론', '선구', '선구자인', '자인', '특징', '유비', '유비쿼터', '쿼터', '모바일', '센서', '인공', '인공지능', '기계', '기계학습', '학습', '정리', '1960', '1960년대', '년대', '시작', '반도체', '발달', '모습', '3', '3차', '기반', '근본', '근본적인', '적인', '차이', '특성', '기기', '시스템', '연결', '디지털', '디지털화', '화', '데', '범주', '유전자', '염기', '열', '열분석', '분석', '나노', '나노기술', '기술', '재생', '가능', '에너지', '퀀', '퀀텀', '텀', '컴퓨팅', '컴퓨팅원자', '원자', '양자', '역학적', '효과', '용량', '초병렬', '계산', '컴퓨터', '다양', '분야', '약진', '동시', '동시다발', '다발', '뜻', '슈밥', '종전', '궤', '고', '주장', '대표적', '무인', '운송', '운송수단', '수단', '프린팅', '로봇공학', '공학', '열전도', '핀', '강도', '신축성', '꿈', '신소재', '라', '물질', '블록', '블록체인', '체인', '모든', '거래', '기록', '보관', '유전학', '합성', '합성생물학', '생물학', '편집', '단순', '신기술', '중이', '전통적', '제조업', '형태', '소품종', '대량', '대량생산', '생산', '맞춤', '맞춤형', '형', '소량', '소량생산', '촉매', '역할', '공', '공정의', '정의', '자동화', '기존', '노동', '노동집약적', '집약적', '성격', '탈바꿈', '사회구조', '구조', '수', '에어', '에어비앤비', '비', '앤', '숙박', '공유', '플랫폼', '우버', '모바일', '차량', '차량예약', '예약', '서비스', '일면', '디맨드', '온라인', '매개', '수요자', '요구', '물품', '제공', '새', '경제체계', '체계', '일부', '여', '전', '어려움', '중', '선진국', '상황', '지', '국은', '자동차', '철강', '석유', '석유화학', '화학', '조선', '자처', '힘', '현재', '우위', '스마트', '스마트폰', '폰', '중국', '신흥국', '추격', '위협', '경제협력개발기구', '협력', '개발', '기구', '잠재', '잠재성장률', '성장률', '예측', '2030', '2030년', '2.4', '2031', '2050', '2050년', '1.0', '전망', '미국', '기간', '2.1', '유럽', '유럽연합', '연합', '1.8', '1.4', '하락', '정도', '격랑', '속', '웅비', '관련', '기업', '성과', '주요국', '상대적', '악화', '현대', '현대경제연구원', '연구원', '자료', '제약', '생명', '생명공학', '소프트', '소프트웨어', '웨어', '상장', '상장기업', '매출액', '증가율', '2006', '2010', '2010년', '9.7', '2011', '2015', '2015년', '일본', '3.0', '4.3', '4.5', '6.5', '12.6', '13.2', '독일', '5.3', '상승세', '전문가', '사이', '정부', '거시적', '체계적', '대응', '지적', '경우', '2011년', '인더스', '인더스트리', '트리', '4.0', '혁신', '혁신전략', '추진', '지난해', '4월', '월', '신', '신산업구조비전', '비전', '수립', '7', '7대', '대', '국가', '국가전략', '선정', '대응전략', '우리', '종합', '종합대책', '대책', '마련', '최', '최순실', '순', '실', '게이트', '조기', '대선', '가시화', '국정', '불안', '일반적', '관측', '0', '한국과학기술기획', '과학', '기획', '평가원', '김진하', '부', '부연구위원', '연구', '위원', '부처', '단편적', '생산시스템', '고도화', '전반', '차원', '필요', '정민', '연구위원', '진입', '퇴출', '장벽', '제거', '연관', '자원', '재분배', '활력', '법', '법제도', '제도', '세부', '정책', '경기', '침체', '위축', '기업가', '기업가정신', '정신', '함양', '창업', '인프라', '확대', '중요', '김', '김승환', '승', '환', '기자', '세상', '눈', '글로벌', '미디어', '세계일보', '일보', '본문', '내용']]\n"
          ],
          "name": "stdout"
        }
      ]
    },
    {
      "metadata": {
        "id": "WvEiKwbiXBo7",
        "colab_type": "code",
        "colab": {},
        "outputId": "c9ed1efa-bb7d-484e-e106-83fa486a1dd0"
      },
      "cell_type": "code",
      "source": [
        "model = Word2Vec(sentence_list, size=100)\n",
        "model.most_similar(\"빅데이터\")"
      ],
      "execution_count": 0,
      "outputs": [
        {
          "output_type": "stream",
          "text": [
            "/usr/local/lib/python3.5/dist-packages/ipykernel_launcher.py:2: DeprecationWarning: Call to deprecated `most_similar` (Method will be removed in 4.0.0, use self.wv.most_similar() instead).\n",
            "  \n"
          ],
          "name": "stderr"
        },
        {
          "output_type": "execute_result",
          "data": {
            "text/plain": [
              "[('빅', 0.9975495934486389),\n",
              " ('지능', 0.9679372906684875),\n",
              " ('인공지능', 0.9677941203117371),\n",
              " ('인공', 0.9646551609039307),\n",
              " ('데이터', 0.9604163765907288),\n",
              " ('가상현실', 0.9476125240325928),\n",
              " ('클라우드', 0.9383715391159058),\n",
              " ('감염병', 0.930864691734314),\n",
              " ('배수', 0.9243068695068359),\n",
              " ('736', 0.923564076423645)]"
            ]
          },
          "metadata": {
            "tags": []
          },
          "execution_count": 36
        }
      ]
    },
    {
      "metadata": {
        "id": "Pjiz6wLRXBpB",
        "colab_type": "code",
        "colab": {},
        "outputId": "47811fbc-e18f-4142-b205-d235a2d9142f"
      },
      "cell_type": "code",
      "source": [
        "print(model.similarity(\"구글\",\"번역\"))\n",
        "print(model.similarity(\"데이터\",\"분석\"))\n",
        "print(model.similarity(\"우주\",\"스페이스\"))"
      ],
      "execution_count": 0,
      "outputs": [
        {
          "output_type": "stream",
          "text": [
            "0.87151957\n",
            "0.89025223\n",
            "0.9959975\n"
          ],
          "name": "stdout"
        },
        {
          "output_type": "stream",
          "text": [
            "/usr/local/lib/python3.5/dist-packages/ipykernel_launcher.py:1: DeprecationWarning: Call to deprecated `similarity` (Method will be removed in 4.0.0, use self.wv.similarity() instead).\n",
            "  \"\"\"Entry point for launching an IPython kernel.\n",
            "/usr/local/lib/python3.5/dist-packages/ipykernel_launcher.py:2: DeprecationWarning: Call to deprecated `similarity` (Method will be removed in 4.0.0, use self.wv.similarity() instead).\n",
            "  \n",
            "/usr/local/lib/python3.5/dist-packages/ipykernel_launcher.py:3: DeprecationWarning: Call to deprecated `similarity` (Method will be removed in 4.0.0, use self.wv.similarity() instead).\n",
            "  This is separate from the ipykernel package so we can avoid doing imports until\n"
          ],
          "name": "stderr"
        }
      ]
    },
    {
      "metadata": {
        "id": "cPa-oF9bXBpP",
        "colab_type": "text"
      },
      "cell_type": "markdown",
      "source": [
        "# 문장 유사도"
      ]
    },
    {
      "metadata": {
        "id": "bn7sVEJdXBpR",
        "colab_type": "code",
        "colab": {},
        "outputId": "e8d6d4de-ddb1-44ee-993c-781499a88599"
      },
      "cell_type": "code",
      "source": [
        "import nltk\n",
        "sentence_list = [\"우리 모두 함께 놀자\", \"모두 같이 놀자\", \"놀자\", \"모두 다 같이\"]\n",
        "\n",
        "for i in sentence_list:\n",
        "    print(\"'\", i, \"'\")\n",
        "    for j in sentence_list:\n",
        "        print(\"\\t\", j, \" : \", end='')\n",
        "        print(nltk.edit_distance(i, j), )\n",
        "    print()"
      ],
      "execution_count": 0,
      "outputs": [
        {
          "output_type": "stream",
          "text": [
            "' 우리 모두 함께 놀자 '\n",
            "\t 우리 모두 함께 놀자  : 0\n",
            "\t 모두 같이 놀자  : 5\n",
            "\t 놀자  : 9\n",
            "\t 모두 다 같이  : 7\n",
            "\n",
            "' 모두 같이 놀자 '\n",
            "\t 우리 모두 함께 놀자  : 5\n",
            "\t 모두 같이 놀자  : 0\n",
            "\t 놀자  : 6\n",
            "\t 모두 다 같이  : 4\n",
            "\n",
            "' 놀자 '\n",
            "\t 우리 모두 함께 놀자  : 9\n",
            "\t 모두 같이 놀자  : 6\n",
            "\t 놀자  : 0\n",
            "\t 모두 다 같이  : 7\n",
            "\n",
            "' 모두 다 같이 '\n",
            "\t 우리 모두 함께 놀자  : 7\n",
            "\t 모두 같이 놀자  : 4\n",
            "\t 놀자  : 7\n",
            "\t 모두 다 같이  : 0\n",
            "\n"
          ],
          "name": "stdout"
        }
      ]
    },
    {
      "metadata": {
        "id": "wgkIida2XBpX",
        "colab_type": "code",
        "colab": {}
      },
      "cell_type": "code",
      "source": [
        "from sklearn.feature_extraction.text import TfidfVectorizer, CountVectorizer\n",
        " \n",
        "sentence_list = ['우리 모두 함께 놀자','모두 함께 놀자']\n",
        " \n",
        "tfidf = TfidfVectorizer()\n",
        "tfidf_vec = tfidf.fit_transform(sentence_list)\n",
        "\n",
        "count = CountVectorizer()\n",
        "count_vec = count.fit_transform(sentence_list)"
      ],
      "execution_count": 0,
      "outputs": []
    },
    {
      "metadata": {
        "id": "ayjiiYS5XBpd",
        "colab_type": "code",
        "colab": {},
        "outputId": "69fe4072-2511-46ce-d3de-166a94947aac"
      },
      "cell_type": "code",
      "source": [
        "from sklearn.metrics.pairwise import cosine_similarity\n",
        "\n",
        "tfidf_cosine = cosine_similarity(tfidf_vec[0].toarray(), tfidf_vec[1].toarray())[0][0]\n",
        "count_cosine = cosine_similarity(count_vec[0].toarray(), count_vec[1].toarray())[0][0]\n",
        "\n",
        "print(\"tfidf consine similarity : \", tfidf_cosine)\n",
        "print(\"coiunt consine similarity : \", count_cosine)"
      ],
      "execution_count": 0,
      "outputs": [
        {
          "output_type": "stream",
          "text": [
            "tfidf consine similarity :  0.7765145304745156\n",
            "coiunt consine similarity :  0.8660254037844388\n"
          ],
          "name": "stdout"
        }
      ]
    },
    {
      "metadata": {
        "id": "vAH4pczpXBpl",
        "colab_type": "code",
        "colab": {}
      },
      "cell_type": "code",
      "source": [
        "# 직접 구현시 코사인 유사도\n",
        "import math\n",
        "def cosine_similarity(v1,v2):\n",
        "    \n",
        "    sumxx, sumxy, sumyy = 0, 0, 0\n",
        "    for i in range(len(v1)):\n",
        "        x = v1[i]; y = v2[i]\n",
        "        sumxx += x*x\n",
        "        sumyy += y*y\n",
        "        sumxy += x*y\n",
        "    return sumxy/math.sqrt(sumxx*sumyy)"
      ],
      "execution_count": 0,
      "outputs": []
    },
    {
      "metadata": {
        "id": "sKftwk2kXBpq",
        "colab_type": "code",
        "colab": {},
        "outputId": "84470426-a3af-462f-cbc8-972f564c69fa"
      },
      "cell_type": "code",
      "source": [
        "# 자카드 유사도 계산\n",
        "\n",
        "sentence_list = ['우리 모두 함께 놀자','모두 함께 놀자']\n",
        "def get_jaccard_sim(str1, str2): \n",
        "    a = set(str1.split()) \n",
        "    b = set(str2.split())\n",
        "    c = a.intersection(b)\n",
        "    return float(len(c)) / (len(a) + len(b) - len(c))\n",
        "\n",
        "get_jaccard_sim(sentence_list[0], sentence_list[1])"
      ],
      "execution_count": 0,
      "outputs": [
        {
          "output_type": "execute_result",
          "data": {
            "text/plain": [
              "0.75"
            ]
          },
          "metadata": {
            "tags": []
          },
          "execution_count": 43
        }
      ]
    },
    {
      "metadata": {
        "id": "mG6h-32aXBpz",
        "colab_type": "code",
        "colab": {}
      },
      "cell_type": "code",
      "source": [
        ""
      ],
      "execution_count": 0,
      "outputs": []
    }
  ]
}